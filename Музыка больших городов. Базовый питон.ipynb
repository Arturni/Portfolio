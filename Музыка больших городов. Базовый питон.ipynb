{
 "cells": [
  {
   "cell_type": "markdown",
   "metadata": {
    "deletable": false,
    "editable": false,
    "id": "E0vqbgi9ay0H"
   },
   "source": [
    "# Яндекс Музыка"
   ]
  },
  {
   "cell_type": "markdown",
   "metadata": {
    "deletable": false,
    "editable": false,
    "id": "VUC88oWjTJw2"
   },
   "source": [
    "Сравнение Москвы и Петербурга окружено мифами. Например:\n",
    " * Москва — мегаполис, подчинённый жёсткому ритму рабочей недели;\n",
    " * Петербург — культурная столица, со своими вкусами.\n",
    "\n",
    "На данных Яндекс Музыки вы сравните поведение пользователей двух столиц.\n",
    "\n",
    "**Цель исследования** — проверьте три гипотезы:\n",
    "1. Активность пользователей зависит от дня недели. Причём в Москве и Петербурге это проявляется по-разному.\n",
    "2. В понедельник утром в Москве преобладают одни жанры, а в Петербурге — другие. Так же и вечером пятницы преобладают разные жанры — в зависимости от города. \n",
    "3. Москва и Петербург предпочитают разные жанры музыки. В Москве чаще слушают поп-музыку, в Петербурге — русский рэп.\n",
    "\n",
    "**Ход исследования**\n",
    "\n",
    "Данные о поведении пользователей вы получите из файла `yandex_music_project.csv`. О качестве данных ничего не известно. Поэтому перед проверкой гипотез понадобится обзор данных. \n",
    "\n",
    "Вы проверите данные на ошибки и оцените их влияние на исследование. Затем, на этапе предобработки вы поищете возможность исправить самые критичные ошибки данных.\n",
    " \n",
    "Таким образом, исследование пройдёт в три этапа:\n",
    " 1. Обзор данных.\n",
    " 2. Предобработка данных.\n",
    " 3. Проверка гипотез.\n",
    "\n"
   ]
  },
  {
   "cell_type": "markdown",
   "metadata": {
    "deletable": false,
    "editable": false,
    "id": "Ml1hmfXC_Zcs"
   },
   "source": [
    "## Обзор данных\n",
    "\n",
    "Составьте первое представление о данных Яндекс Музыки.\n",
    "\n",
    "\n"
   ]
  },
  {
   "cell_type": "markdown",
   "metadata": {
    "deletable": false,
    "editable": false,
    "id": "57eAOGIz_Zcs",
    "tags": [
     "start_task"
    ]
   },
   "source": [
    "**Задание 1**\n",
    "\n",
    "Основной инструмент аналитика — `pandas`. Импортируйте эту библиотеку."
   ]
  },
  {
   "cell_type": "code",
   "execution_count": 36,
   "metadata": {
    "deletable": false,
    "id": "AXN7PHPN_Zcs"
   },
   "outputs": [],
   "source": [
    "import pandas as pd # импорт библиотеки pandas"
   ]
  },
  {
   "cell_type": "markdown",
   "metadata": {
    "deletable": false,
    "editable": false,
    "id": "SG23P8tt_Zcs",
    "tags": [
     "start_task"
    ]
   },
   "source": [
    "**Задание 2**\n",
    "\n",
    "Прочитайте файл `yandex_music_project.csv` из папки `/datasets` и сохраните его в переменной `df`:"
   ]
  },
  {
   "cell_type": "code",
   "execution_count": 37,
   "metadata": {
    "deletable": false,
    "id": "fFVu7vqh_Zct"
   },
   "outputs": [],
   "source": [
    "df = pd.read_csv('/datasets/yandex_music_project.csv') # чтение файла с данными и сохранение в df\n"
   ]
  },
  {
   "cell_type": "markdown",
   "metadata": {
    "deletable": false,
    "editable": false,
    "id": "rDoOMd3uTqnZ",
    "tags": [
     "start_task"
    ]
   },
   "source": [
    "**Задание 3**\n",
    "\n",
    "\n",
    "Выведите на экран первые десять строк таблицы:"
   ]
  },
  {
   "cell_type": "code",
   "execution_count": 38,
   "metadata": {
    "deletable": false,
    "id": "oWTVX3gW_Zct"
   },
   "outputs": [
    {
     "data": {
      "text/html": [
       "<div>\n",
       "<style scoped>\n",
       "    .dataframe tbody tr th:only-of-type {\n",
       "        vertical-align: middle;\n",
       "    }\n",
       "\n",
       "    .dataframe tbody tr th {\n",
       "        vertical-align: top;\n",
       "    }\n",
       "\n",
       "    .dataframe thead th {\n",
       "        text-align: right;\n",
       "    }\n",
       "</style>\n",
       "<table border=\"1\" class=\"dataframe\">\n",
       "  <thead>\n",
       "    <tr style=\"text-align: right;\">\n",
       "      <th></th>\n",
       "      <th>userID</th>\n",
       "      <th>Track</th>\n",
       "      <th>artist</th>\n",
       "      <th>genre</th>\n",
       "      <th>City</th>\n",
       "      <th>time</th>\n",
       "      <th>Day</th>\n",
       "    </tr>\n",
       "  </thead>\n",
       "  <tbody>\n",
       "    <tr>\n",
       "      <th>0</th>\n",
       "      <td>FFB692EC</td>\n",
       "      <td>Kamigata To Boots</td>\n",
       "      <td>The Mass Missile</td>\n",
       "      <td>rock</td>\n",
       "      <td>Saint-Petersburg</td>\n",
       "      <td>20:28:33</td>\n",
       "      <td>Wednesday</td>\n",
       "    </tr>\n",
       "    <tr>\n",
       "      <th>1</th>\n",
       "      <td>55204538</td>\n",
       "      <td>Delayed Because of Accident</td>\n",
       "      <td>Andreas Rönnberg</td>\n",
       "      <td>rock</td>\n",
       "      <td>Moscow</td>\n",
       "      <td>14:07:09</td>\n",
       "      <td>Friday</td>\n",
       "    </tr>\n",
       "    <tr>\n",
       "      <th>2</th>\n",
       "      <td>20EC38</td>\n",
       "      <td>Funiculì funiculà</td>\n",
       "      <td>Mario Lanza</td>\n",
       "      <td>pop</td>\n",
       "      <td>Saint-Petersburg</td>\n",
       "      <td>20:58:07</td>\n",
       "      <td>Wednesday</td>\n",
       "    </tr>\n",
       "    <tr>\n",
       "      <th>3</th>\n",
       "      <td>A3DD03C9</td>\n",
       "      <td>Dragons in the Sunset</td>\n",
       "      <td>Fire + Ice</td>\n",
       "      <td>folk</td>\n",
       "      <td>Saint-Petersburg</td>\n",
       "      <td>08:37:09</td>\n",
       "      <td>Monday</td>\n",
       "    </tr>\n",
       "    <tr>\n",
       "      <th>4</th>\n",
       "      <td>E2DC1FAE</td>\n",
       "      <td>Soul People</td>\n",
       "      <td>Space Echo</td>\n",
       "      <td>dance</td>\n",
       "      <td>Moscow</td>\n",
       "      <td>08:34:34</td>\n",
       "      <td>Monday</td>\n",
       "    </tr>\n",
       "    <tr>\n",
       "      <th>5</th>\n",
       "      <td>842029A1</td>\n",
       "      <td>Преданная</td>\n",
       "      <td>IMPERVTOR</td>\n",
       "      <td>rusrap</td>\n",
       "      <td>Saint-Petersburg</td>\n",
       "      <td>13:09:41</td>\n",
       "      <td>Friday</td>\n",
       "    </tr>\n",
       "    <tr>\n",
       "      <th>6</th>\n",
       "      <td>4CB90AA5</td>\n",
       "      <td>True</td>\n",
       "      <td>Roman Messer</td>\n",
       "      <td>dance</td>\n",
       "      <td>Moscow</td>\n",
       "      <td>13:00:07</td>\n",
       "      <td>Wednesday</td>\n",
       "    </tr>\n",
       "    <tr>\n",
       "      <th>7</th>\n",
       "      <td>F03E1C1F</td>\n",
       "      <td>Feeling This Way</td>\n",
       "      <td>Polina Griffith</td>\n",
       "      <td>dance</td>\n",
       "      <td>Moscow</td>\n",
       "      <td>20:47:49</td>\n",
       "      <td>Wednesday</td>\n",
       "    </tr>\n",
       "    <tr>\n",
       "      <th>8</th>\n",
       "      <td>8FA1D3BE</td>\n",
       "      <td>И вновь продолжается бой</td>\n",
       "      <td>NaN</td>\n",
       "      <td>ruspop</td>\n",
       "      <td>Moscow</td>\n",
       "      <td>09:17:40</td>\n",
       "      <td>Friday</td>\n",
       "    </tr>\n",
       "    <tr>\n",
       "      <th>9</th>\n",
       "      <td>E772D5C0</td>\n",
       "      <td>Pessimist</td>\n",
       "      <td>NaN</td>\n",
       "      <td>dance</td>\n",
       "      <td>Saint-Petersburg</td>\n",
       "      <td>21:20:49</td>\n",
       "      <td>Wednesday</td>\n",
       "    </tr>\n",
       "  </tbody>\n",
       "</table>\n",
       "</div>"
      ],
      "text/plain": [
       "     userID                        Track            artist   genre  \\\n",
       "0  FFB692EC            Kamigata To Boots  The Mass Missile    rock   \n",
       "1  55204538  Delayed Because of Accident  Andreas Rönnberg    rock   \n",
       "2    20EC38            Funiculì funiculà       Mario Lanza     pop   \n",
       "3  A3DD03C9        Dragons in the Sunset        Fire + Ice    folk   \n",
       "4  E2DC1FAE                  Soul People        Space Echo   dance   \n",
       "5  842029A1                    Преданная         IMPERVTOR  rusrap   \n",
       "6  4CB90AA5                         True      Roman Messer   dance   \n",
       "7  F03E1C1F             Feeling This Way   Polina Griffith   dance   \n",
       "8  8FA1D3BE     И вновь продолжается бой               NaN  ruspop   \n",
       "9  E772D5C0                    Pessimist               NaN   dance   \n",
       "\n",
       "             City        time        Day  \n",
       "0  Saint-Petersburg  20:28:33  Wednesday  \n",
       "1            Moscow  14:07:09     Friday  \n",
       "2  Saint-Petersburg  20:58:07  Wednesday  \n",
       "3  Saint-Petersburg  08:37:09     Monday  \n",
       "4            Moscow  08:34:34     Monday  \n",
       "5  Saint-Petersburg  13:09:41     Friday  \n",
       "6            Moscow  13:00:07  Wednesday  \n",
       "7            Moscow  20:47:49  Wednesday  \n",
       "8            Moscow  09:17:40     Friday  \n",
       "9  Saint-Petersburg  21:20:49  Wednesday  "
      ]
     },
     "execution_count": 38,
     "metadata": {},
     "output_type": "execute_result"
    }
   ],
   "source": [
    "df.head(10) # получение первых 10 строк таблицы df"
   ]
  },
  {
   "cell_type": "markdown",
   "metadata": {
    "deletable": false,
    "editable": false,
    "id": "EO73Kwic_Zct",
    "tags": [
     "start_task"
    ]
   },
   "source": [
    "**Задание 4**\n",
    "\n",
    "\n",
    "Одной командой получить общую информацию о таблице c помощью метода `info()`:"
   ]
  },
  {
   "cell_type": "code",
   "execution_count": 39,
   "metadata": {
    "deletable": false,
    "id": "DSf2kIb-_Zct"
   },
   "outputs": [
    {
     "name": "stdout",
     "output_type": "stream",
     "text": [
      "<class 'pandas.core.frame.DataFrame'>\n",
      "RangeIndex: 65079 entries, 0 to 65078\n",
      "Data columns (total 7 columns):\n",
      " #   Column    Non-Null Count  Dtype \n",
      "---  ------    --------------  ----- \n",
      " 0     userID  65079 non-null  object\n",
      " 1   Track     63848 non-null  object\n",
      " 2   artist    57876 non-null  object\n",
      " 3   genre     63881 non-null  object\n",
      " 4     City    65079 non-null  object\n",
      " 5   time      65079 non-null  object\n",
      " 6   Day       65079 non-null  object\n",
      "dtypes: object(7)\n",
      "memory usage: 3.5+ MB\n"
     ]
    }
   ],
   "source": [
    "df.info() # получение общей информации о данных в таблице df"
   ]
  },
  {
   "cell_type": "markdown",
   "metadata": {
    "deletable": false,
    "editable": false,
    "id": "TaQ2Iwbr_Zct"
   },
   "source": [
    "Итак, в таблице семь столбцов. Тип данных во всех столбцах — `object`.\n",
    "\n",
    "Согласно документации к данным:\n",
    "* `userID` — идентификатор пользователя;\n",
    "* `Track` — название трека;  \n",
    "* `artist` — имя исполнителя;\n",
    "* `genre` — название жанра;\n",
    "* `City` — город пользователя;\n",
    "* `time` — время начала прослушивания;\n",
    "* `Day` — день недели.\n",
    "\n",
    "Количество значений в столбцах различается. Значит, в данных есть пропущенные значения."
   ]
  },
  {
   "cell_type": "markdown",
   "metadata": {
    "deletable": false,
    "editable": false,
    "id": "rAfziTBDmf2h",
    "tags": [
     "start_task"
    ]
   },
   "source": [
    "**Задание 5**\n",
    "\n",
    "**Вопрос со свободной формой ответа**\n",
    "\n",
    "В названиях колонок видны нарушения стиля:\n",
    "* Строчные буквы сочетаются с прописными.\n",
    "* Встречаются пробелы.\n",
    "\n",
    "Какое третье нарушение?"
   ]
  },
  {
   "cell_type": "code",
   "execution_count": 5,
   "metadata": {
    "id": "jD8EXEIvmf2h"
   },
   "outputs": [],
   "source": [
    "# Не вижу больше ошбок! Напишите ваш ответ здесь комментарием. Не удаляйте символ #. Не меняйте тип этой ячейки на Markdown."
   ]
  },
  {
   "cell_type": "markdown",
   "metadata": {
    "deletable": false,
    "editable": false,
    "id": "MCB6-dXG_Zct"
   },
   "source": [
    "**Выводы**\n",
    "\n",
    "В каждой строке таблицы — данные о прослушанном треке. Часть колонок описывает саму композицию: название, исполнителя и жанр. Остальные данные рассказывают о пользователе: из какого он города, когда он слушал музыку. \n",
    "\n",
    "Предварительно можно утверждать, что данных достаточно для проверки гипотез. Но встречаются пропуски в данных, а в названиях колонок — расхождения с хорошим стилем.\n",
    "\n",
    "Чтобы двигаться дальше, нужно устранить проблемы в данных."
   ]
  },
  {
   "cell_type": "markdown",
   "metadata": {
    "deletable": false,
    "editable": false,
    "id": "SjYF6Ub9_Zct"
   },
   "source": [
    "## Предобработка данных\n",
    "Исправьте стиль в заголовках столбцов, исключите пропуски. Затем проверьте данные на дубликаты."
   ]
  },
  {
   "cell_type": "markdown",
   "metadata": {
    "deletable": false,
    "editable": false,
    "id": "dIaKXr29_Zct",
    "tags": [
     "start_task"
    ]
   },
   "source": [
    "### Стиль заголовков\n",
    "\n",
    "**Задание 6**\n",
    "\n",
    "Выведите на экран названия столбцов:"
   ]
  },
  {
   "cell_type": "code",
   "execution_count": 40,
   "metadata": {
    "deletable": false,
    "id": "oKOTdF_Q_Zct"
   },
   "outputs": [
    {
     "data": {
      "text/plain": [
       "Index(['  userID', 'Track', 'artist', 'genre', '  City  ', 'time', 'Day'], dtype='object')"
      ]
     },
     "execution_count": 40,
     "metadata": {},
     "output_type": "execute_result"
    }
   ],
   "source": [
    "df.columns # перечень названий столбцов таблицы df"
   ]
  },
  {
   "cell_type": "markdown",
   "metadata": {
    "deletable": false,
    "editable": false,
    "id": "zj5534cv_Zct",
    "tags": [
     "start_task"
    ]
   },
   "source": [
    "**Задание 7**\n",
    "\n",
    "\n",
    "Приведите названия в соответствие с хорошим стилем:\n",
    "* несколько слов в названии запишите в «змеином_регистре»,\n",
    "* все символы сделайте строчными,\n",
    "* устраните пробелы.\n",
    "\n",
    "Для этого переименуйте колонки так:\n",
    "* `'  userID'` → `'user_id'`;\n",
    "* `'Track'` → `'track'`;\n",
    "* `'  City  '` → `'city'`;\n",
    "* `'Day'` → `'day'`."
   ]
  },
  {
   "cell_type": "code",
   "execution_count": 41,
   "metadata": {
    "deletable": false,
    "id": "ISlFqs5y_Zct",
    "scrolled": true
   },
   "outputs": [],
   "source": [
    "df = df.rename(columns={'  userID':'user_id','Track':'track','  City  ':'city','Day':'day'}) \n",
    "# переименование столбцов"
   ]
  },
  {
   "cell_type": "markdown",
   "metadata": {
    "deletable": false,
    "editable": false,
    "id": "1dqbh00J_Zct",
    "tags": [
     "start_task"
    ]
   },
   "source": [
    "**Задание 8**\n",
    "\n",
    "\n",
    "Проверьте результат. Для этого ещё раз выведите на экран названия столбцов:"
   ]
  },
  {
   "cell_type": "code",
   "execution_count": 42,
   "metadata": {
    "deletable": false,
    "id": "d4NOAmTW_Zct"
   },
   "outputs": [
    {
     "data": {
      "text/plain": [
       "Index(['user_id', 'track', 'artist', 'genre', 'city', 'time', 'day'], dtype='object')"
      ]
     },
     "execution_count": 42,
     "metadata": {},
     "output_type": "execute_result"
    }
   ],
   "source": [
    "df.columns # проверка результатов - перечень названий столбцов"
   ]
  },
  {
   "cell_type": "markdown",
   "metadata": {
    "deletable": false,
    "editable": false,
    "id": "5ISfbcfY_Zct",
    "tags": [
     "start_task"
    ]
   },
   "source": [
    "### Пропуски значений\n",
    "\n",
    "**Задание 9**\n",
    "\n",
    "Сначала посчитайте, сколько в таблице пропущенных значений. Для этого достаточно двух методов `pandas`:"
   ]
  },
  {
   "cell_type": "code",
   "execution_count": 43,
   "metadata": {
    "deletable": false,
    "id": "RskX29qr_Zct"
   },
   "outputs": [
    {
     "data": {
      "text/plain": [
       "user_id       0\n",
       "track      1231\n",
       "artist     7203\n",
       "genre      1198\n",
       "city          0\n",
       "time          0\n",
       "day           0\n",
       "dtype: int64"
      ]
     },
     "execution_count": 43,
     "metadata": {},
     "output_type": "execute_result"
    }
   ],
   "source": [
    "df.isna().sum() # подсчёт пропусков"
   ]
  },
  {
   "cell_type": "markdown",
   "metadata": {
    "deletable": false,
    "editable": false,
    "id": "qubhgnlO_Zct"
   },
   "source": [
    "Не все пропущенные значения влияют на исследование. Так в `track` и `artist` пропуски не важны для вашей работы. Достаточно заменить их явными обозначениями.\n",
    "\n",
    "Но пропуски в `genre` могут помешать сравнению музыкальных вкусов в Москве и Санкт-Петербурге. На практике было бы правильно установить причину пропусков и восстановить данные. Такой возможности нет в учебном проекте. Придётся:\n",
    "* заполнить и эти пропуски явными обозначениями;\n",
    "* оценить, насколько они повредят расчётам. "
   ]
  },
  {
   "cell_type": "markdown",
   "metadata": {
    "deletable": false,
    "editable": false,
    "id": "fSv2laPA_Zct",
    "tags": [
     "start_task"
    ]
   },
   "source": [
    "**Задание 10**\n",
    "\n",
    "Замените пропущенные значения в столбцах `track`, `artist` и `genre` на строку `'unknown'`. Для этого создайте список `columns_to_replace`, переберите его элементы циклом `for` и для каждого столбца выполните замену пропущенных значений:"
   ]
  },
  {
   "cell_type": "code",
   "execution_count": 44,
   "metadata": {
    "deletable": false,
    "id": "KplB5qWs_Zct"
   },
   "outputs": [],
   "source": [
    "columns_to_replace = ['track', 'artist','genre']\n",
    "for column in columns_to_replace:\n",
    "    df['track'] = df['track'].fillna('unknown')\n",
    "    df['artist'] = df['artist'].fillna('unknown')\n",
    "    df['genre'] = df['genre'].fillna('unknown')\n",
    "\n",
    "# перебор названий столбцов в цикле и замена пропущенных значений на 'unknown'"
   ]
  },
  {
   "cell_type": "markdown",
   "metadata": {
    "deletable": false,
    "editable": false,
    "id": "Ilsm-MZo_Zct",
    "tags": [
     "start_task"
    ]
   },
   "source": [
    "**Задание 11**\n",
    "\n",
    "Убедитесь, что в таблице не осталось пропусков. Для этого ещё раз посчитайте пропущенные значения."
   ]
  },
  {
   "cell_type": "code",
   "execution_count": 45,
   "metadata": {
    "deletable": false,
    "id": "Tq4nYRX4_Zct"
   },
   "outputs": [
    {
     "data": {
      "text/plain": [
       "user_id    0\n",
       "track      0\n",
       "artist     0\n",
       "genre      0\n",
       "city       0\n",
       "time       0\n",
       "day        0\n",
       "dtype: int64"
      ]
     },
     "execution_count": 45,
     "metadata": {},
     "output_type": "execute_result"
    }
   ],
   "source": [
    "df.isna().sum() # подсчёт пропусков"
   ]
  },
  {
   "cell_type": "markdown",
   "metadata": {
    "deletable": false,
    "editable": false,
    "id": "BWKRtBJ3_Zct",
    "tags": [
     "start_task"
    ]
   },
   "source": [
    "### Дубликаты\n",
    "\n",
    "**Задание 12**\n",
    "\n",
    "Посчитайте явные дубликаты в таблице одной командой:"
   ]
  },
  {
   "cell_type": "code",
   "execution_count": 46,
   "metadata": {
    "deletable": false,
    "id": "36eES_S0_Zct"
   },
   "outputs": [
    {
     "data": {
      "text/plain": [
       "3826"
      ]
     },
     "execution_count": 46,
     "metadata": {},
     "output_type": "execute_result"
    }
   ],
   "source": [
    "df.duplicated().sum()\n",
    "# подсчёт явных дубликатов"
   ]
  },
  {
   "cell_type": "markdown",
   "metadata": {
    "deletable": false,
    "editable": false,
    "id": "Ot25h6XR_Zct",
    "tags": [
     "start_task"
    ]
   },
   "source": [
    "**Задание 13**\n",
    "\n",
    "Вызовите специальный метод `pandas`, чтобы удалить явные дубликаты:"
   ]
  },
  {
   "cell_type": "code",
   "execution_count": 47,
   "metadata": {
    "deletable": false,
    "id": "exFHq6tt_Zct"
   },
   "outputs": [],
   "source": [
    "df = df.drop_duplicates()\n",
    "\n",
    "# удаление явных дубликатов"
   ]
  },
  {
   "cell_type": "markdown",
   "metadata": {
    "deletable": false,
    "editable": false,
    "id": "Im2YwBEG_Zct",
    "tags": [
     "start_task"
    ]
   },
   "source": [
    "**Задание 14**\n",
    "\n",
    "Ещё раз посчитайте явные дубликаты в таблице — убедитесь, что полностью от них избавились:"
   ]
  },
  {
   "cell_type": "code",
   "execution_count": 48,
   "metadata": {
    "deletable": false,
    "id": "-8PuNWQ0_Zct",
    "scrolled": false
   },
   "outputs": [
    {
     "data": {
      "text/plain": [
       "0"
      ]
     },
     "execution_count": 48,
     "metadata": {},
     "output_type": "execute_result"
    }
   ],
   "source": [
    "df.duplicated().sum() # проверка на отсутствие дубликатов"
   ]
  },
  {
   "cell_type": "markdown",
   "metadata": {
    "deletable": false,
    "editable": false,
    "id": "QlFBsxAr_Zct"
   },
   "source": [
    "Теперь избавьтесь от неявных дубликатов в колонке `genre`. Например, название одного и того же жанра может быть записано немного по-разному. Такие ошибки тоже повлияют на результат исследования."
   ]
  },
  {
   "cell_type": "markdown",
   "metadata": {
    "deletable": false,
    "editable": false,
    "id": "eSjWwsOh_Zct",
    "tags": [
     "start_task"
    ]
   },
   "source": [
    "**Задание 15**\n",
    "\n",
    "Выведите на экран список уникальных названий жанров, отсортированный в алфавитном порядке. Для этого:\n",
    "1. извлеките нужный столбец датафрейма; \n",
    "2. примените к нему метод сортировки;\n",
    "3. для отсортированного столбца вызовите метод, который вернёт уникальные значения из столбца."
   ]
  },
  {
   "cell_type": "code",
   "execution_count": null,
   "metadata": {},
   "outputs": [],
   "source": []
  },
  {
   "cell_type": "code",
   "execution_count": 49,
   "metadata": {
    "deletable": false,
    "id": "JIUcqzZN_Zct"
   },
   "outputs": [
    {
     "data": {
      "text/plain": [
       "array(['acid', 'acoustic', 'action', 'adult', 'africa', 'afrikaans',\n",
       "       'alternative', 'alternativepunk', 'ambient', 'americana',\n",
       "       'animated', 'anime', 'arabesk', 'arabic', 'arena',\n",
       "       'argentinetango', 'art', 'audiobook', 'author', 'avantgarde',\n",
       "       'axé', 'baile', 'balkan', 'beats', 'bigroom', 'black', 'bluegrass',\n",
       "       'blues', 'bollywood', 'bossa', 'brazilian', 'breakbeat', 'breaks',\n",
       "       'broadway', 'cantautori', 'cantopop', 'canzone', 'caribbean',\n",
       "       'caucasian', 'celtic', 'chamber', 'chanson', 'children', 'chill',\n",
       "       'chinese', 'choral', 'christian', 'christmas', 'classical',\n",
       "       'classicmetal', 'club', 'colombian', 'comedy', 'conjazz',\n",
       "       'contemporary', 'country', 'cuban', 'dance', 'dancehall',\n",
       "       'dancepop', 'dark', 'death', 'deep', 'deutschrock', 'deutschspr',\n",
       "       'dirty', 'disco', 'dnb', 'documentary', 'downbeat', 'downtempo',\n",
       "       'drum', 'dub', 'dubstep', 'eastern', 'easy', 'electronic',\n",
       "       'electropop', 'emo', 'entehno', 'epicmetal', 'estrada', 'ethnic',\n",
       "       'eurofolk', 'european', 'experimental', 'extrememetal', 'fado',\n",
       "       'fairytail', 'film', 'fitness', 'flamenco', 'folk', 'folklore',\n",
       "       'folkmetal', 'folkrock', 'folktronica', 'forró', 'frankreich',\n",
       "       'französisch', 'french', 'funk', 'future', 'gangsta', 'garage',\n",
       "       'german', 'ghazal', 'gitarre', 'glitch', 'gospel', 'gothic',\n",
       "       'grime', 'grunge', 'gypsy', 'handsup', \"hard'n'heavy\", 'hardcore',\n",
       "       'hardstyle', 'hardtechno', 'hip', 'hip-hop', 'hiphop',\n",
       "       'historisch', 'holiday', 'hop', 'horror', 'house', 'hymn', 'idm',\n",
       "       'independent', 'indian', 'indie', 'indipop', 'industrial',\n",
       "       'inspirational', 'instrumental', 'international', 'irish', 'jam',\n",
       "       'japanese', 'jazz', 'jewish', 'jpop', 'jungle', 'k-pop',\n",
       "       'karadeniz', 'karaoke', 'kayokyoku', 'korean', 'laiko', 'latin',\n",
       "       'latino', 'leftfield', 'local', 'lounge', 'loungeelectronic',\n",
       "       'lovers', 'malaysian', 'mandopop', 'marschmusik', 'meditative',\n",
       "       'mediterranean', 'melodic', 'metal', 'metalcore', 'mexican',\n",
       "       'middle', 'minimal', 'miscellaneous', 'modern', 'mood', 'mpb',\n",
       "       'muslim', 'native', 'neoklassik', 'neue', 'new', 'newage',\n",
       "       'newwave', 'nu', 'nujazz', 'numetal', 'oceania', 'old', 'opera',\n",
       "       'orchestral', 'other', 'piano', 'podcasts', 'pop', 'popdance',\n",
       "       'popelectronic', 'popeurodance', 'poprussian', 'post',\n",
       "       'posthardcore', 'postrock', 'power', 'progmetal', 'progressive',\n",
       "       'psychedelic', 'punjabi', 'punk', 'quebecois', 'ragga', 'ram',\n",
       "       'rancheras', 'rap', 'rave', 'reggae', 'reggaeton', 'regional',\n",
       "       'relax', 'religious', 'retro', 'rhythm', 'rnb', 'rnr', 'rock',\n",
       "       'rockabilly', 'rockalternative', 'rockindie', 'rockother',\n",
       "       'romance', 'roots', 'ruspop', 'rusrap', 'rusrock', 'russian',\n",
       "       'salsa', 'samba', 'scenic', 'schlager', 'self', 'sertanejo',\n",
       "       'shanson', 'shoegazing', 'showtunes', 'singer', 'ska', 'skarock',\n",
       "       'slow', 'smooth', 'soft', 'soul', 'soulful', 'sound', 'soundtrack',\n",
       "       'southern', 'specialty', 'speech', 'spiritual', 'sport',\n",
       "       'stonerrock', 'surf', 'swing', 'synthpop', 'synthrock',\n",
       "       'sängerportrait', 'tango', 'tanzorchester', 'taraftar', 'tatar',\n",
       "       'tech', 'techno', 'teen', 'thrash', 'top', 'traditional',\n",
       "       'tradjazz', 'trance', 'tribal', 'trip', 'triphop', 'tropical',\n",
       "       'türk', 'türkçe', 'ukrrock', 'unknown', 'urban', 'uzbek',\n",
       "       'variété', 'vi', 'videogame', 'vocal', 'western', 'world',\n",
       "       'worldbeat', 'ïîï', 'электроника'], dtype=object)"
      ]
     },
     "execution_count": 49,
     "metadata": {},
     "output_type": "execute_result"
    }
   ],
   "source": [
    "df['genre'].sort_values().unique()\n",
    "\n",
    "# Просмотр уникальных названий жанров"
   ]
  },
  {
   "cell_type": "markdown",
   "metadata": {
    "deletable": false,
    "editable": false,
    "id": "qej-Qmuo_Zct",
    "tags": [
     "start_task"
    ]
   },
   "source": [
    "**Задание 16**\n",
    "\n",
    "Просмотрите список и найдите неявные дубликаты названия `hiphop`. Это могут быть названия с ошибками или альтернативные названия того же жанра.\n",
    "\n",
    "Вы увидите следующие неявные дубликаты:\n",
    "* *hip*,\n",
    "* *hop*,\n",
    "* *hip-hop*.\n",
    "\n",
    "Чтобы очистить от них таблицу используйте метод `replace()` с двумя аргументами: списком строк-дубликатов (включащий *hip*, *hop* и *hip-hop*) и строкой с правильным значением. Вам нужно исправить колонку `genre` в таблице `df`: заменить каждое значение из списка дубликатов на верное. Вместо `hip`, `hop` и `hip-hop` в таблице должно быть значение `hiphop`:"
   ]
  },
  {
   "cell_type": "code",
   "execution_count": 50,
   "metadata": {
    "deletable": false,
    "id": "ErNDkmns_Zct"
   },
   "outputs": [],
   "source": [
    "duplicates = ['hip','hop','hip-hop']\n",
    "genre = 'hiphop'\n",
    "df['genre'] = df['genre'].replace(duplicates, genre)"
   ]
  },
  {
   "cell_type": "markdown",
   "metadata": {
    "deletable": false,
    "editable": false,
    "id": "zQKF16_RG15m",
    "tags": [
     "start_task"
    ]
   },
   "source": [
    "**Задание 17**\n",
    "\n",
    "Проверьте, что заменили неправильные названия:\n",
    "\n",
    "*   hip,\n",
    "*   hop,\n",
    "*   hip-hop.\n",
    "\n",
    "Выведите отсортированный список уникальных значений столбца `genre`:"
   ]
  },
  {
   "cell_type": "code",
   "execution_count": 51,
   "metadata": {
    "deletable": false,
    "id": "wvixALnFG15m"
   },
   "outputs": [
    {
     "data": {
      "text/plain": [
       "array(['acid', 'acoustic', 'action', 'adult', 'africa', 'afrikaans',\n",
       "       'alternative', 'alternativepunk', 'ambient', 'americana',\n",
       "       'animated', 'anime', 'arabesk', 'arabic', 'arena',\n",
       "       'argentinetango', 'art', 'audiobook', 'author', 'avantgarde',\n",
       "       'axé', 'baile', 'balkan', 'beats', 'bigroom', 'black', 'bluegrass',\n",
       "       'blues', 'bollywood', 'bossa', 'brazilian', 'breakbeat', 'breaks',\n",
       "       'broadway', 'cantautori', 'cantopop', 'canzone', 'caribbean',\n",
       "       'caucasian', 'celtic', 'chamber', 'chanson', 'children', 'chill',\n",
       "       'chinese', 'choral', 'christian', 'christmas', 'classical',\n",
       "       'classicmetal', 'club', 'colombian', 'comedy', 'conjazz',\n",
       "       'contemporary', 'country', 'cuban', 'dance', 'dancehall',\n",
       "       'dancepop', 'dark', 'death', 'deep', 'deutschrock', 'deutschspr',\n",
       "       'dirty', 'disco', 'dnb', 'documentary', 'downbeat', 'downtempo',\n",
       "       'drum', 'dub', 'dubstep', 'eastern', 'easy', 'electronic',\n",
       "       'electropop', 'emo', 'entehno', 'epicmetal', 'estrada', 'ethnic',\n",
       "       'eurofolk', 'european', 'experimental', 'extrememetal', 'fado',\n",
       "       'fairytail', 'film', 'fitness', 'flamenco', 'folk', 'folklore',\n",
       "       'folkmetal', 'folkrock', 'folktronica', 'forró', 'frankreich',\n",
       "       'französisch', 'french', 'funk', 'future', 'gangsta', 'garage',\n",
       "       'german', 'ghazal', 'gitarre', 'glitch', 'gospel', 'gothic',\n",
       "       'grime', 'grunge', 'gypsy', 'handsup', \"hard'n'heavy\", 'hardcore',\n",
       "       'hardstyle', 'hardtechno', 'hiphop', 'historisch', 'holiday',\n",
       "       'horror', 'house', 'hymn', 'idm', 'independent', 'indian', 'indie',\n",
       "       'indipop', 'industrial', 'inspirational', 'instrumental',\n",
       "       'international', 'irish', 'jam', 'japanese', 'jazz', 'jewish',\n",
       "       'jpop', 'jungle', 'k-pop', 'karadeniz', 'karaoke', 'kayokyoku',\n",
       "       'korean', 'laiko', 'latin', 'latino', 'leftfield', 'local',\n",
       "       'lounge', 'loungeelectronic', 'lovers', 'malaysian', 'mandopop',\n",
       "       'marschmusik', 'meditative', 'mediterranean', 'melodic', 'metal',\n",
       "       'metalcore', 'mexican', 'middle', 'minimal', 'miscellaneous',\n",
       "       'modern', 'mood', 'mpb', 'muslim', 'native', 'neoklassik', 'neue',\n",
       "       'new', 'newage', 'newwave', 'nu', 'nujazz', 'numetal', 'oceania',\n",
       "       'old', 'opera', 'orchestral', 'other', 'piano', 'podcasts', 'pop',\n",
       "       'popdance', 'popelectronic', 'popeurodance', 'poprussian', 'post',\n",
       "       'posthardcore', 'postrock', 'power', 'progmetal', 'progressive',\n",
       "       'psychedelic', 'punjabi', 'punk', 'quebecois', 'ragga', 'ram',\n",
       "       'rancheras', 'rap', 'rave', 'reggae', 'reggaeton', 'regional',\n",
       "       'relax', 'religious', 'retro', 'rhythm', 'rnb', 'rnr', 'rock',\n",
       "       'rockabilly', 'rockalternative', 'rockindie', 'rockother',\n",
       "       'romance', 'roots', 'ruspop', 'rusrap', 'rusrock', 'russian',\n",
       "       'salsa', 'samba', 'scenic', 'schlager', 'self', 'sertanejo',\n",
       "       'shanson', 'shoegazing', 'showtunes', 'singer', 'ska', 'skarock',\n",
       "       'slow', 'smooth', 'soft', 'soul', 'soulful', 'sound', 'soundtrack',\n",
       "       'southern', 'specialty', 'speech', 'spiritual', 'sport',\n",
       "       'stonerrock', 'surf', 'swing', 'synthpop', 'synthrock',\n",
       "       'sängerportrait', 'tango', 'tanzorchester', 'taraftar', 'tatar',\n",
       "       'tech', 'techno', 'teen', 'thrash', 'top', 'traditional',\n",
       "       'tradjazz', 'trance', 'tribal', 'trip', 'triphop', 'tropical',\n",
       "       'türk', 'türkçe', 'ukrrock', 'unknown', 'urban', 'uzbek',\n",
       "       'variété', 'vi', 'videogame', 'vocal', 'western', 'world',\n",
       "       'worldbeat', 'ïîï', 'электроника'], dtype=object)"
      ]
     },
     "execution_count": 51,
     "metadata": {},
     "output_type": "execute_result"
    }
   ],
   "source": [
    "df['genre'].sort_values().unique()\n",
    "# Проверка на неявные дубликаты"
   ]
  },
  {
   "cell_type": "markdown",
   "metadata": {
    "deletable": false,
    "editable": false,
    "id": "jz6a9-7HQUDd"
   },
   "source": [
    "**Выводы**\n",
    "\n",
    "Предобработка обнаружила три проблемы в данных:\n",
    "\n",
    "- нарушения в стиле заголовков,\n",
    "- пропущенные значения,\n",
    "- дубликаты — явные и неявные.\n",
    "\n",
    "Вы исправили заголовки, чтобы упростить работу с таблицей. Без дубликатов исследование станет более точным.\n",
    "\n",
    "Пропущенные значения вы заменили на `'unknown'`. Ещё предстоит увидеть, не повредят ли исследованию пропуски в колонке `genre`.\n",
    "\n",
    "Теперь можно перейти к проверке гипотез. "
   ]
  },
  {
   "cell_type": "markdown",
   "metadata": {
    "deletable": false,
    "editable": false,
    "id": "WttZHXH0SqKk"
   },
   "source": [
    "## Проверка гипотез"
   ]
  },
  {
   "cell_type": "markdown",
   "metadata": {
    "deletable": false,
    "editable": false,
    "id": "Im936VVi_Zcu"
   },
   "source": [
    "### Сравнение поведения пользователей двух столиц"
   ]
  },
  {
   "cell_type": "markdown",
   "metadata": {
    "deletable": false,
    "editable": false,
    "id": "nwt_MuaL_Zcu"
   },
   "source": [
    "Первая гипотеза утверждает, что пользователи по-разному слушают музыку в Москве и Санкт-Петербурге. Проверьте это предположение по данным о трёх днях недели — понедельнике, среде и пятнице. Для этого:\n",
    "\n",
    "* Разделите пользователей Москвы и Санкт-Петербурга.\n",
    "* Сравните, сколько треков послушала каждая группа пользователей в понедельник, среду и пятницу.\n"
   ]
  },
  {
   "cell_type": "markdown",
   "metadata": {
    "deletable": false,
    "editable": false,
    "id": "8Dw_YMmT_Zcu",
    "tags": [
     "start_task"
    ]
   },
   "source": [
    "**Задание 18**\n",
    "\n",
    "Для тренировки сначала выполните каждый из расчётов по отдельности. \n",
    "\n",
    "Оцените активность пользователей в каждом городе. Сгруппируйте данные по городу и посчитайте прослушивания в каждой группе.\n",
    "\n"
   ]
  },
  {
   "cell_type": "code",
   "execution_count": 52,
   "metadata": {
    "deletable": false,
    "id": "0_Qs96oh_Zcu"
   },
   "outputs": [
    {
     "data": {
      "text/plain": [
       "city\n",
       "Moscow              42741\n",
       "Saint-Petersburg    18512\n",
       "Name: time, dtype: int64"
      ]
     },
     "execution_count": 52,
     "metadata": {},
     "output_type": "execute_result"
    }
   ],
   "source": [
    "df.groupby('city')['time'].count()\n",
    "# Подсчёт прослушиваний в каждом городе"
   ]
  },
  {
   "cell_type": "markdown",
   "metadata": {
    "deletable": false,
    "editable": false,
    "id": "dzli3w8o_Zcu",
    "tags": [
     "start_task"
    ]
   },
   "source": [
    "В Москве прослушиваний больше, чем в Петербурге. Из этого не следует, что московские пользователи чаще слушают музыку. Просто самих пользователей в Москве больше.\n",
    "\n",
    "**Задание 19**\n",
    "\n",
    "Теперь сгруппируйте данные по дню недели и посчитайте прослушивания в понедельник, среду и пятницу. Учтите, что в данных есть информация о прослушиваниях только за эти дни.\n"
   ]
  },
  {
   "cell_type": "code",
   "execution_count": 53,
   "metadata": {
    "deletable": false,
    "id": "uZMKjiJz_Zcu"
   },
   "outputs": [
    {
     "data": {
      "text/plain": [
       "day\n",
       "Friday       21840\n",
       "Monday       21354\n",
       "Wednesday    18059\n",
       "Name: time, dtype: int64"
      ]
     },
     "execution_count": 53,
     "metadata": {},
     "output_type": "execute_result"
    }
   ],
   "source": [
    "df.groupby('day')['time'].count()\n",
    "# Подсчёт прослушиваний в каждый из трёх дней"
   ]
  },
  {
   "cell_type": "markdown",
   "metadata": {
    "deletable": false,
    "editable": false,
    "id": "cC2tNrlL_Zcu"
   },
   "source": [
    "В среднем пользователи из двух городов менее активны по средам. Но картина может измениться, если рассмотреть каждый город в отдельности."
   ]
  },
  {
   "cell_type": "markdown",
   "metadata": {
    "deletable": false,
    "editable": false,
    "id": "POzs8bGa_Zcu",
    "tags": [
     "start_task"
    ]
   },
   "source": [
    "**Задание 20**\n",
    "\n",
    "\n",
    "Вы видели, как работает группировка по городу и по дням недели. Теперь напишите функцию, которая объединит два эти расчёта.\n",
    "\n",
    "Создайте функцию `number_tracks()`, которая посчитает прослушивания для заданного дня и города. Ей понадобятся два параметра:\n",
    "* день недели,\n",
    "* название города.\n",
    "\n",
    "В функции сохраните в переменную строки исходной таблицы, у которых значение:\n",
    "  * в колонке `day` равно параметру `day`,\n",
    "  * в колонке `city` равно параметру `city`.\n",
    "\n",
    "Для этого примените последовательную фильтрацию с логической индексацией (или сложные логические выражения в одну строку, если вы уже знакомы с ними).\n",
    "\n",
    "Затем посчитайте значения в столбце `user_id` получившейся таблицы. Результат сохраните в новую переменную. Верните эту переменную из функции."
   ]
  },
  {
   "cell_type": "code",
   "execution_count": 54,
   "metadata": {
    "deletable": false,
    "id": "Nz3GdQB1_Zcu"
   },
   "outputs": [],
   "source": [
    "def number_tracks(day,city):\n",
    "    track_list = df[(df['day'] == day)&(df['city'] == city)]\n",
    "    \n",
    "    track_list_count = track_list['user_id'].count()\n",
    "    return(track_list_count)\n",
    "\n",
    "\n",
    " # <создание функции number_tracks()>\n",
    "# Объявляется функция с двумя параметрами: day, city.\n",
    "# В переменной track_list сохраняются те строки таблицы df, для которых \n",
    "# значение в столбце 'day' равно параметру day и одновременно значение\n",
    "# в столбце 'city' равно параметру city (используйте последовательную фильтрацию\n",
    "# с помощью логической индексации или сложные логические выражения в одну строку, если вы уже знакомы с ними).\n",
    "# В переменной track_list_count сохраняется число значений столбца 'user_id',\n",
    "# рассчитанное методом count() для таблицы track_list.\n",
    "# Функция возвращает число - значение track_list_count.\n",
    "# Функция для подсчёта прослушиваний для конкретного города и дня.\n",
    "# С помощью последовательной фильтрации с логической индексацией она \n",
    "# сначала получит из исходной таблицы строки с нужным днём,\n",
    "# затем из результата отфильтрует строки с нужным городом,\n",
    "# методом count() посчитает количество значений в колонке user_id. \n",
    "# Это количество функция вернёт в качестве результата"
   ]
  },
  {
   "cell_type": "markdown",
   "metadata": {
    "deletable": false,
    "editable": false,
    "id": "ytf7xFrFJQ2r",
    "tags": [
     "start_task"
    ]
   },
   "source": [
    "**Задание 21**\n",
    "\n",
    "Вызовите `number_tracks()` шесть раз, меняя значение параметров — так, чтобы получить данные для каждого города в каждый из трёх дней."
   ]
  },
  {
   "cell_type": "code",
   "execution_count": 56,
   "metadata": {
    "deletable": false,
    "id": "rJcRATNQ_Zcu"
   },
   "outputs": [
    {
     "data": {
      "text/plain": [
       "15740"
      ]
     },
     "execution_count": 56,
     "metadata": {},
     "output_type": "execute_result"
    }
   ],
   "source": [
    "number_tracks ('Monday', 'Moscow') # количество прослушиваний в Москве по понедельникам"
   ]
  },
  {
   "cell_type": "code",
   "execution_count": 57,
   "metadata": {
    "deletable": false,
    "id": "hq_ncZ5T_Zcu"
   },
   "outputs": [
    {
     "data": {
      "text/plain": [
       "5614"
      ]
     },
     "execution_count": 57,
     "metadata": {},
     "output_type": "execute_result"
    }
   ],
   "source": [
    "number_tracks ('Monday','Saint-Petersburg')# количество прослушиваний в Санкт-Петербурге по понедельникам"
   ]
  },
  {
   "cell_type": "code",
   "execution_count": 58,
   "metadata": {
    "deletable": false,
    "id": "_NTy2VPU_Zcu"
   },
   "outputs": [
    {
     "data": {
      "text/plain": [
       "11056"
      ]
     },
     "execution_count": 58,
     "metadata": {},
     "output_type": "execute_result"
    }
   ],
   "source": [
    "number_tracks ('Wednesday','Moscow')# количество прослушиваний в Москве по средам"
   ]
  },
  {
   "cell_type": "code",
   "execution_count": 59,
   "metadata": {
    "deletable": false,
    "id": "j2y3TAwo_Zcu"
   },
   "outputs": [
    {
     "data": {
      "text/plain": [
       "7003"
      ]
     },
     "execution_count": 59,
     "metadata": {},
     "output_type": "execute_result"
    }
   ],
   "source": [
    "number_tracks ('Wednesday','Saint-Petersburg')# количество прослушиваний в Санкт-Петербурге по средам"
   ]
  },
  {
   "cell_type": "code",
   "execution_count": 60,
   "metadata": {
    "deletable": false,
    "id": "vYDw5u_K_Zcu"
   },
   "outputs": [
    {
     "data": {
      "text/plain": [
       "15945"
      ]
     },
     "execution_count": 60,
     "metadata": {},
     "output_type": "execute_result"
    }
   ],
   "source": [
    "number_tracks ('Friday','Moscow')# количество прослушиваний в Москве по пятницам"
   ]
  },
  {
   "cell_type": "code",
   "execution_count": 61,
   "metadata": {
    "deletable": false,
    "id": "8_yzFtW3_Zcu"
   },
   "outputs": [
    {
     "data": {
      "text/plain": [
       "5895"
      ]
     },
     "execution_count": 61,
     "metadata": {},
     "output_type": "execute_result"
    }
   ],
   "source": [
    "number_tracks ('Friday','Saint-Petersburg') # количество прослушиваний в Санкт-Петербурге по пятницам"
   ]
  },
  {
   "cell_type": "markdown",
   "metadata": {
    "deletable": false,
    "editable": false,
    "id": "7QXffbO-_Zcu",
    "tags": [
     "start_task"
    ]
   },
   "source": [
    "**Задание 22**\n",
    "\n",
    "Создайте c помощью конструктора `pd.DataFrame` таблицу, где\n",
    "* названия колонок — `['city', 'monday', 'wednesday', 'friday']`;\n",
    "* данные — результаты, которые вы получили с помощью `number_tracks`."
   ]
  },
  {
   "cell_type": "code",
   "execution_count": 63,
   "metadata": {
    "deletable": false,
    "id": "APAcLpOr_Zcu"
   },
   "outputs": [
    {
     "data": {
      "text/html": [
       "<div>\n",
       "<style scoped>\n",
       "    .dataframe tbody tr th:only-of-type {\n",
       "        vertical-align: middle;\n",
       "    }\n",
       "\n",
       "    .dataframe tbody tr th {\n",
       "        vertical-align: top;\n",
       "    }\n",
       "\n",
       "    .dataframe thead th {\n",
       "        text-align: right;\n",
       "    }\n",
       "</style>\n",
       "<table border=\"1\" class=\"dataframe\">\n",
       "  <thead>\n",
       "    <tr style=\"text-align: right;\">\n",
       "      <th></th>\n",
       "      <th>city</th>\n",
       "      <th>monday</th>\n",
       "      <th>wednesday</th>\n",
       "      <th>friday</th>\n",
       "    </tr>\n",
       "  </thead>\n",
       "  <tbody>\n",
       "    <tr>\n",
       "      <th>0</th>\n",
       "      <td>Москва</td>\n",
       "      <td>15740</td>\n",
       "      <td>11056</td>\n",
       "      <td>15945</td>\n",
       "    </tr>\n",
       "    <tr>\n",
       "      <th>1</th>\n",
       "      <td>Санкт-Петербург</td>\n",
       "      <td>5614</td>\n",
       "      <td>7003</td>\n",
       "      <td>5895</td>\n",
       "    </tr>\n",
       "  </tbody>\n",
       "</table>\n",
       "</div>"
      ],
      "text/plain": [
       "              city  monday  wednesday  friday\n",
       "0           Москва   15740      11056   15945\n",
       "1  Санкт-Петербург    5614       7003    5895"
      ]
     },
     "execution_count": 63,
     "metadata": {},
     "output_type": "execute_result"
    }
   ],
   "source": [
    "info = pd.DataFrame(data=[['Москва',15740,11056,15945], ['Санкт-Петербург',5614,7003, 5895]],columns=['city','monday','wednesday','friday'])\n",
    "info \n",
    "\n",
    "# Таблица с результатами"
   ]
  },
  {
   "cell_type": "markdown",
   "metadata": {
    "deletable": false,
    "editable": false,
    "id": "-EgPIHYu_Zcu"
   },
   "source": [
    "**Выводы**\n",
    "\n",
    "Данные показывают разницу поведения пользователей:\n",
    "\n",
    "- В Москве пик прослушиваний приходится на понедельник и пятницу, а в среду заметен спад.\n",
    "- В Петербурге, наоборот, больше слушают музыку по средам. Активность в понедельник и пятницу здесь почти в равной мере уступает среде.\n",
    "\n",
    "Значит, данные говорят в пользу первой гипотезы."
   ]
  },
  {
   "cell_type": "markdown",
   "metadata": {
    "deletable": false,
    "editable": false,
    "id": "atZAxtq4_Zcu"
   },
   "source": [
    "### Музыка в начале и в конце недели"
   ]
  },
  {
   "cell_type": "markdown",
   "metadata": {
    "deletable": false,
    "editable": false,
    "id": "eXrQqXFH_Zcu"
   },
   "source": [
    "Согласно второй гипотезе, утром в понедельник в Москве преобладают одни жанры, а в Петербурге — другие. Так же и вечером пятницы преобладают разные жанры — в зависимости от города."
   ]
  },
  {
   "cell_type": "markdown",
   "metadata": {
    "deletable": false,
    "editable": false,
    "id": "S8UcW6Hw_Zcu",
    "tags": [
     "start_task"
    ]
   },
   "source": [
    "**Задание 23**\n",
    "\n",
    "Сохраните таблицы с данными в две переменные:\n",
    "* по Москве — в `moscow_general`;\n",
    "* по Санкт-Петербургу — в `spb_general`."
   ]
  },
  {
   "cell_type": "code",
   "execution_count": 68,
   "metadata": {
    "deletable": false,
    "id": "qeaFfM_P_Zcu"
   },
   "outputs": [
    {
     "name": "stdout",
     "output_type": "stream",
     "text": [
      "        user_id                          track                   artist  \\\n",
      "1      55204538    Delayed Because of Accident         Andreas Rönnberg   \n",
      "4      E2DC1FAE                    Soul People               Space Echo   \n",
      "6      4CB90AA5                           True             Roman Messer   \n",
      "7      F03E1C1F               Feeling This Way          Polina Griffith   \n",
      "8      8FA1D3BE       И вновь продолжается бой                  unknown   \n",
      "...         ...                            ...                      ...   \n",
      "65073  83A474E7  I Worship Only What You Bleed  The Black Dahlia Murder   \n",
      "65074  729CBB09                        My Name                   McLean   \n",
      "65076  C5E3A0D5                      Jalopiina                  unknown   \n",
      "65077  321D0506                  Freight Train            Chas McDevitt   \n",
      "65078  3A64EF84      Tell Me Sweet Little Lies             Monica Lopez   \n",
      "\n",
      "              genre    city      time        day  \n",
      "1              rock  Moscow  14:07:09     Friday  \n",
      "4             dance  Moscow  08:34:34     Monday  \n",
      "6             dance  Moscow  13:00:07  Wednesday  \n",
      "7             dance  Moscow  20:47:49  Wednesday  \n",
      "8            ruspop  Moscow  09:17:40     Friday  \n",
      "...             ...     ...       ...        ...  \n",
      "65073  extrememetal  Moscow  21:07:12     Monday  \n",
      "65074           rnb  Moscow  13:32:28  Wednesday  \n",
      "65076    industrial  Moscow  20:09:26     Friday  \n",
      "65077          rock  Moscow  21:43:59     Friday  \n",
      "65078       country  Moscow  21:59:46     Friday  \n",
      "\n",
      "[42741 rows x 7 columns]\n"
     ]
    }
   ],
   "source": [
    "moscow_general = df[df['city']=='Moscow'] \n",
    "print(moscow_general)\n",
    "# получение таблицы moscow_general из тех строк таблицы df, \n",
    "# для которых значение в столбце 'city' равно 'Moscow'\n"
   ]
  },
  {
   "cell_type": "code",
   "execution_count": 69,
   "metadata": {
    "deletable": false,
    "id": "ORaVRKto_Zcu"
   },
   "outputs": [
    {
     "name": "stdout",
     "output_type": "stream",
     "text": [
      "        user_id                              track              artist  \\\n",
      "0      FFB692EC                  Kamigata To Boots    The Mass Missile   \n",
      "2        20EC38                  Funiculì funiculà         Mario Lanza   \n",
      "3      A3DD03C9              Dragons in the Sunset          Fire + Ice   \n",
      "5      842029A1                          Преданная           IMPERVTOR   \n",
      "9      E772D5C0                          Pessimist             unknown   \n",
      "...         ...                                ...                 ...   \n",
      "65063  D94F810B        Theme from the Walking Dead  Proyecto Halloween   \n",
      "65064  BC8EC5CF       Red Lips: Gta (Rover Rework)               Rover   \n",
      "65065  29E04611                       Bre Petrunko       Perunika Trio   \n",
      "65066  1B91C621             (Hello) Cloud Mountain     sleepmakeswaves   \n",
      "65075  D08D4A55  Maybe One Day (feat. Black Spade)         Blu & Exile   \n",
      "\n",
      "            genre              city      time        day  \n",
      "0            rock  Saint-Petersburg  20:28:33  Wednesday  \n",
      "2             pop  Saint-Petersburg  20:58:07  Wednesday  \n",
      "3            folk  Saint-Petersburg  08:37:09     Monday  \n",
      "5          rusrap  Saint-Petersburg  13:09:41     Friday  \n",
      "9           dance  Saint-Petersburg  21:20:49  Wednesday  \n",
      "...           ...               ...       ...        ...  \n",
      "65063        film  Saint-Petersburg  21:14:40     Monday  \n",
      "65064  electronic  Saint-Petersburg  21:06:50     Monday  \n",
      "65065       world  Saint-Petersburg  13:56:00     Monday  \n",
      "65066    postrock  Saint-Petersburg  09:22:13     Monday  \n",
      "65075      hiphop  Saint-Petersburg  10:00:00     Monday  \n",
      "\n",
      "[18512 rows x 7 columns]\n"
     ]
    }
   ],
   "source": [
    "spb_general = df[df['city']=='Saint-Petersburg']\n",
    "print(spb_general)\n",
    "# получение таблицы spb_general из тех строк таблицы df,\n",
    "# для которых значение в столбце 'city' равно 'Saint-Petersburg'\n"
   ]
  },
  {
   "cell_type": "markdown",
   "metadata": {
    "deletable": false,
    "editable": false,
    "id": "MEJV-CX2_Zcu",
    "tags": [
     "start_task"
    ]
   },
   "source": [
    "**Задание 24**\n",
    "\n",
    "Создайте функцию `genre_weekday()` с четырьмя параметрами:\n",
    "* таблица (датафрейм) с данными,\n",
    "* день недели,\n",
    "* начальная временная метка в формате 'hh:mm', \n",
    "* последняя временная метка в формате 'hh:mm'.\n",
    "\n",
    "Функция должна вернуть информацию о топ-10 жанров тех треков, которые прослушивали в указанный день, в промежутке между двумя отметками времени."
   ]
  },
  {
   "cell_type": "code",
   "execution_count": 90,
   "metadata": {
    "deletable": false,
    "id": "laJT9BYl_Zcu"
   },
   "outputs": [],
   "source": [
    "def genre_weekday(df, day, time1, time2):\n",
    "    genre_df = df[df['day'] == day]\n",
    "    genre_df = genre_df[genre_df['time'] < time2]\n",
    "    genre_df = genre_df[genre_df['time'] > time1]\n",
    "    \n",
    "    genre_df_grouped = genre_df.groupby('genre')['genre'].count() # ваш код здесь\n",
    "    genre_df_sorted = genre_df_grouped.sort_values(ascending=False)   # ваш код здесь\n",
    "    return genre_df_sorted[:10]\n",
    "    \n",
    "# Объявление функции genre_weekday() с параметрами table, day, time1, time2,\n",
    "# которая возвращает информацию о самых популярных жанрах в указанный день в\n",
    "# заданное время:\n",
    "# 1) в переменную genre_df сохраняются те строки переданного датафрейма table, для\n",
    "#    которых одновременно:\n",
    "#    - значение в столбце day равно значению аргумента day\n",
    "#    - значение в столбце time больше значения аргумента time1\n",
    "#    - значение в столбце time меньше значения аргумента time2\n",
    "#    Используйте последовательную фильтрацию с помощью логической индексации.\n",
    "# 2) сгруппировать датафрейм genre_df по столбцу genre, взять один из его\n",
    "#    столбцов и посчитать методом count() количество записей для каждого из\n",
    "#    присутствующих жанров, получившийся Series записать в переменную\n",
    "#    genre_df_count\n",
    "# 3) отсортировать genre_df_count по убыванию встречаемости и сохранить\n",
    "#    в переменную genre_df_sorted\n",
    "# 4) вернуть Series из 10 первых значений genre_df_sorted, это будут топ-10\n",
    "#    популярных жанров (в указанный день, в заданное время)\n",
    "\n",
    "    # последовательная фильтрация\n",
    "    # оставляем в genre_df только те строки df, у которых день равен day\n",
    "    #c = # ваш код здесь\n",
    "    # оставляем в genre_df только те строки genre_df, у которых время меньше time2\n",
    "    #genre_df = # ваш код здесь\n",
    "    # оставляем в genre_df только те строки genre_df, у которых время больше time1\n",
    "    #genre_df = # ваш код здесь\n",
    "    # сгруппируем отфильтрованный датафрейм по столбцу с названиями жанров, возьмём столбец genre и посчитаем кол-во строк для каждого жанра методом count()\n",
    "    #genre_df_grouped = # ваш код здесь\n",
    "    # отсортируем результат по убыванию (чтобы в начале Series оказались самые популярные жанры)\n",
    "    #genre_df_sorted = # ваш код здесь\n",
    "    # вернём Series с 10 самыми популярными жанрами в указанный отрезок времени заданного дня\n",
    "    #return genre_df_sorted[:10]"
   ]
  },
  {
   "cell_type": "markdown",
   "metadata": {
    "deletable": false,
    "editable": false,
    "id": "la2s2_PF_Zcu",
    "tags": [
     "start_task"
    ]
   },
   "source": [
    "**Задание 25**\n",
    "\n",
    "\n",
    "Cравните результаты функции `genre_weekday()` для Москвы и Санкт-Петербурга в понедельник утром (с 7:00 до 11:00) и в пятницу вечером (с 17:00 до 23:00):"
   ]
  },
  {
   "cell_type": "code",
   "execution_count": 105,
   "metadata": {
    "deletable": false,
    "id": "yz7itPUQ_Zcu"
   },
   "outputs": [
    {
     "data": {
      "text/plain": [
       "genre\n",
       "pop            781\n",
       "dance          549\n",
       "electronic     480\n",
       "rock           474\n",
       "hiphop         286\n",
       "ruspop         186\n",
       "world          181\n",
       "rusrap         175\n",
       "alternative    164\n",
       "unknown        161\n",
       "Name: genre, dtype: int64"
      ]
     },
     "execution_count": 105,
     "metadata": {},
     "output_type": "execute_result"
    }
   ],
   "source": [
    "genre_weekday (moscow_general, 'Monday', '07:00', '11:00')\n",
    "    \n",
    "    \n",
    "# вызов функции для утра понедельника в Москве (вместо df — таблица moscow_general)\n",
    "# объекты, хранящие время, являются строками и сравниваются как строки\n",
    "# пример вызова: genre_weekday(moscow_general, 'Monday', '07:00', '11:00')"
   ]
  },
  {
   "cell_type": "code",
   "execution_count": 101,
   "metadata": {
    "deletable": false,
    "id": "kwUcHPdy_Zcu"
   },
   "outputs": [
    {
     "data": {
      "text/plain": [
       "genre\n",
       "pop            218\n",
       "dance          182\n",
       "rock           162\n",
       "electronic     147\n",
       "hiphop          80\n",
       "ruspop          64\n",
       "alternative     58\n",
       "rusrap          55\n",
       "jazz            44\n",
       "classical       40\n",
       "Name: genre, dtype: int64"
      ]
     },
     "execution_count": 101,
     "metadata": {},
     "output_type": "execute_result"
    }
   ],
   "source": [
    "genre_weekday(spb_general,'Monday','07:00','11:00')\n",
    "\n",
    "# вызов функции для утра понедельника в Петербурге (вместо df — таблица spb_general)"
   ]
  },
  {
   "cell_type": "code",
   "execution_count": 106,
   "metadata": {
    "deletable": false,
    "id": "EzXVRE1o_Zcu"
   },
   "outputs": [
    {
     "data": {
      "text/plain": [
       "genre\n",
       "pop            713\n",
       "rock           517\n",
       "dance          495\n",
       "electronic     482\n",
       "hiphop         273\n",
       "world          208\n",
       "ruspop         170\n",
       "alternative    163\n",
       "classical      163\n",
       "rusrap         142\n",
       "Name: genre, dtype: int64"
      ]
     },
     "execution_count": 106,
     "metadata": {},
     "output_type": "execute_result"
    }
   ],
   "source": [
    "genre_weekday (moscow_general, 'Friday', '17:00', '23:00')\n",
    "   \n",
    "                   \n",
    "    # вызов функции для вечера пятницы в Москве"
   ]
  },
  {
   "cell_type": "code",
   "execution_count": 107,
   "metadata": {
    "deletable": false,
    "id": "JZaEKu5v_Zcu"
   },
   "outputs": [
    {
     "data": {
      "text/plain": [
       "genre\n",
       "pop            256\n",
       "electronic     216\n",
       "rock           216\n",
       "dance          210\n",
       "hiphop          97\n",
       "alternative     63\n",
       "jazz            61\n",
       "classical       60\n",
       "rusrap          59\n",
       "world           54\n",
       "Name: genre, dtype: int64"
      ]
     },
     "execution_count": 107,
     "metadata": {},
     "output_type": "execute_result"
    }
   ],
   "source": [
    "genre_weekday(spb_general,'Friday','17:00','23:00')\n",
    "\n",
    "                   # вызов функции для вечера пятницы в Петербурге"
   ]
  },
  {
   "cell_type": "markdown",
   "metadata": {
    "deletable": false,
    "editable": false,
    "id": "wrCe4MNX_Zcu"
   },
   "source": [
    "**Выводы**\n",
    "\n",
    "Если сравнить топ-10 жанров в понедельник утром, можно сделать такие выводы:\n",
    "\n",
    "1. В Москве и Петербурге слушают похожую музыку. Единственное отличие — в московский рейтинг вошёл жанр “world”, а в петербургский — джаз и классика.\n",
    "\n",
    "2. В Москве пропущенных значений оказалось так много, что значение `'unknown'` заняло десятое место среди самых популярных жанров. Значит, пропущенные значения занимают существенную долю в данных и угрожают достоверности исследования.\n",
    "\n",
    "Вечер пятницы не меняет эту картину. Некоторые жанры поднимаются немного выше, другие спускаются, но в целом топ-10 остаётся тем же самым.\n",
    "\n",
    "Таким образом, вторая гипотеза подтвердилась лишь частично:\n",
    "* Пользователи слушают похожую музыку в начале недели и в конце.\n",
    "* Разница между Москвой и Петербургом не слишком выражена. В Москве чаще слушают русскую популярную музыку, в Петербурге — джаз.\n",
    "\n",
    "Однако пропуски в данных ставят под сомнение этот результат. В Москве их так много, что рейтинг топ-10 мог бы выглядеть иначе, если бы не утерянные  данные о жанрах."
   ]
  },
  {
   "cell_type": "markdown",
   "metadata": {
    "deletable": false,
    "editable": false,
    "id": "JolODAqr_Zcu"
   },
   "source": [
    "### Жанровые предпочтения в Москве и Петербурге\n",
    "\n",
    "Гипотеза: Петербург — столица рэпа, музыку этого жанра там слушают чаще, чем в Москве.  А Москва — город контрастов, в котором, тем не менее, преобладает поп-музыка."
   ]
  },
  {
   "cell_type": "markdown",
   "metadata": {
    "deletable": false,
    "editable": false,
    "id": "DlegSvaT_Zcu",
    "tags": [
     "start_task"
    ]
   },
   "source": [
    "**Задание 26**\n",
    "\n",
    "Сгруппируйте таблицу `moscow_general` по жанру и посчитайте прослушивания треков каждого жанра методом `count()`. Затем отсортируйте результат в порядке убывания и сохраните его в таблице `moscow_genres`."
   ]
  },
  {
   "cell_type": "code",
   "execution_count": 109,
   "metadata": {
    "deletable": false,
    "id": "r19lIPke_Zcu"
   },
   "outputs": [],
   "source": [
    "moscow_general_grouped = moscow_general.groupby('genre')['genre'].count()\n",
    "moscow_genres = moscow_general_grouped.sort_values(ascending=False)   \n",
    "\n",
    "# одной строкой: группировка таблицы moscow_general по столбцу 'genre', \n",
    "# подсчёт числа значений 'genre' в этой группировке методом count(), \n",
    "# сортировка получившегося Series в порядке убывания и сохранение в moscow_genres"
   ]
  },
  {
   "cell_type": "markdown",
   "metadata": {
    "deletable": false,
    "editable": false,
    "id": "6kMuomxTiIr8",
    "tags": [
     "start_task"
    ]
   },
   "source": [
    "**Задание 27**\n",
    "\n",
    "Выведите на экран первые десять строк `moscow_genres`:"
   ]
  },
  {
   "cell_type": "code",
   "execution_count": 110,
   "metadata": {
    "deletable": false,
    "id": "WhCSooF8_Zcv"
   },
   "outputs": [
    {
     "data": {
      "text/plain": [
       "genre\n",
       "pop            5892\n",
       "dance          4435\n",
       "rock           3965\n",
       "electronic     3786\n",
       "hiphop         2096\n",
       "classical      1616\n",
       "world          1432\n",
       "alternative    1379\n",
       "ruspop         1372\n",
       "rusrap         1161\n",
       "Name: genre, dtype: int64"
      ]
     },
     "execution_count": 110,
     "metadata": {},
     "output_type": "execute_result"
    }
   ],
   "source": [
    "moscow_genres.head(10)\n",
    "\n",
    "# просмотр первых 10 строк moscow_genres"
   ]
  },
  {
   "cell_type": "markdown",
   "metadata": {
    "deletable": false,
    "editable": false,
    "id": "cnPG2vnN_Zcv",
    "tags": [
     "start_task"
    ]
   },
   "source": [
    "**Задание 28**\n",
    "\n",
    "\n",
    "Теперь повторите то же и для Петербурга.\n",
    "\n",
    "Сгруппируйте таблицу `spb_general` по жанру. Посчитайте прослушивания треков каждого жанра. Результат отсортируйте в порядке убывания и сохраните в таблице `spb_genres`:\n"
   ]
  },
  {
   "cell_type": "code",
   "execution_count": 111,
   "metadata": {
    "deletable": false,
    "id": "gluLIpE7_Zcv"
   },
   "outputs": [],
   "source": [
    "spb_general_grouped = spb_general.groupby('genre')['genre'].count()\n",
    "spb_genres = spb_general_grouped.sort_values(ascending=False) \n",
    "\n",
    "# одной строкой: группировка таблицы spb_general по столбцу 'genre', \n",
    "# подсчёт числа значений 'genre' в этой группировке методом count(), \n",
    "# сортировка получившегося Series в порядке убывания и сохранение в spb_genres"
   ]
  },
  {
   "cell_type": "markdown",
   "metadata": {
    "deletable": false,
    "editable": false,
    "id": "5Doha_ODgyQ8",
    "tags": [
     "start_task"
    ]
   },
   "source": [
    "**Задание 29**\n",
    "\n",
    "Выведите на экран первые десять строк `spb_genres`:"
   ]
  },
  {
   "cell_type": "code",
   "execution_count": 112,
   "metadata": {
    "deletable": false,
    "id": "uaGJHjVU_Zcv"
   },
   "outputs": [
    {
     "data": {
      "text/plain": [
       "genre\n",
       "pop            2431\n",
       "dance          1932\n",
       "rock           1879\n",
       "electronic     1736\n",
       "hiphop          960\n",
       "alternative     649\n",
       "classical       646\n",
       "rusrap          564\n",
       "ruspop          538\n",
       "world           515\n",
       "Name: genre, dtype: int64"
      ]
     },
     "execution_count": 112,
     "metadata": {},
     "output_type": "execute_result"
    }
   ],
   "source": [
    "spb_genres.head(10)\n",
    "\n",
    "# просмотр первых 10 строк spb_genres"
   ]
  },
  {
   "cell_type": "markdown",
   "metadata": {
    "deletable": false,
    "editable": false,
    "id": "RY51YJYu_Zcv"
   },
   "source": [
    "**Выводы**"
   ]
  },
  {
   "cell_type": "markdown",
   "metadata": {
    "deletable": false,
    "editable": false,
    "id": "nVhnJEm__Zcv"
   },
   "source": [
    "Гипотеза частично подтвердилась:\n",
    "* Поп-музыка — самый популярный жанр в Москве, как и предполагала гипотеза. Более того, в топ-10 жанров встречается близкий жанр — русская популярная музыка.\n",
    "* Вопреки ожиданиям, рэп одинаково популярен в Москве и Петербурге. \n"
   ]
  },
  {
   "cell_type": "markdown",
   "metadata": {
    "deletable": false,
    "editable": false,
    "id": "ykKQ0N65_Zcv"
   },
   "source": [
    "## Итоги исследования"
   ]
  },
  {
   "cell_type": "markdown",
   "metadata": {
    "deletable": false,
    "editable": false,
    "id": "tjUwbHb3_Zcv"
   },
   "source": [
    "Вы проверили три гипотезы и установили:\n",
    "\n",
    "1. День недели по-разному влияет на активность пользователей в Москве и Петербурге. \n",
    "\n",
    "Первая гипотеза полностью подтвердилась.\n",
    "\n",
    "2. Музыкальные предпочтения не сильно меняются в течение недели — будь то Москва или Петербург. Небольшие различия заметны в начале недели, по понедельникам:\n",
    "* в Москве слушают музыку жанра “world”,\n",
    "* в Петербурге — джаз и классику.\n",
    "\n",
    "Таким образом, вторая гипотеза подтвердилась лишь отчасти. Этот результат мог оказаться иным, если бы не пропуски в данных.\n",
    "\n",
    "3. Во вкусах пользователей Москвы и Петербурга больше общего чем различий. Вопреки ожиданиям, предпочтения жанров в Петербурге напоминают московские.\n",
    "\n",
    "Третья гипотеза не подтвердилась. Если различия в предпочтениях и существуют, на основной массе пользователей они незаметны.\n",
    "\n",
    "**На практике исследования содержат проверки статистических гипотез.**\n",
    "Из данных одного сервиса не всегда можно сделать вывод о всех жителях города.\n",
    "Проверки статистических гипотез покажут, насколько они достоверны, исходя из имеющихся данных. \n",
    "С методами проверок гипотез вы ещё познакомитесь в следующих темах."
   ]
  },
  {
   "cell_type": "code",
   "execution_count": null,
   "metadata": {},
   "outputs": [],
   "source": []
  }
 ],
 "metadata": {
  "ExecuteTimeLog": [
   {
    "duration": 430,
    "start_time": "2022-10-24T09:31:39.311Z"
   },
   {
    "duration": 108,
    "start_time": "2022-10-24T09:31:48.476Z"
   },
   {
    "duration": 44,
    "start_time": "2022-10-24T09:32:53.671Z"
   },
   {
    "duration": 3,
    "start_time": "2022-10-24T09:35:40.060Z"
   },
   {
    "duration": 486,
    "start_time": "2022-10-24T09:38:44.367Z"
   },
   {
    "duration": 11,
    "start_time": "2022-10-24T09:40:14.499Z"
   },
   {
    "duration": 7,
    "start_time": "2022-10-24T09:40:47.406Z"
   },
   {
    "duration": 32,
    "start_time": "2022-10-24T09:40:55.909Z"
   },
   {
    "duration": 89,
    "start_time": "2022-10-24T10:14:03.490Z"
   },
   {
    "duration": 3,
    "start_time": "2022-10-24T10:16:47.961Z"
   },
   {
    "duration": 11,
    "start_time": "2022-10-24T10:20:32.142Z"
   },
   {
    "duration": 68,
    "start_time": "2022-10-24T10:27:14.204Z"
   },
   {
    "duration": 7,
    "start_time": "2022-10-24T10:28:29.267Z"
   },
   {
    "duration": 8,
    "start_time": "2022-10-24T10:29:04.033Z"
   },
   {
    "duration": 3,
    "start_time": "2022-10-24T10:30:53.420Z"
   },
   {
    "duration": 9,
    "start_time": "2022-10-24T10:34:50.460Z"
   },
   {
    "duration": 7,
    "start_time": "2022-10-24T10:44:06.700Z"
   },
   {
    "duration": 93,
    "start_time": "2022-10-24T10:44:24.467Z"
   },
   {
    "duration": 8,
    "start_time": "2022-10-24T10:44:42.665Z"
   },
   {
    "duration": 7,
    "start_time": "2022-10-24T10:46:16.718Z"
   },
   {
    "duration": 3,
    "start_time": "2022-10-24T10:46:41.932Z"
   },
   {
    "duration": 8,
    "start_time": "2022-10-24T10:49:13.892Z"
   },
   {
    "duration": 3,
    "start_time": "2022-10-24T10:49:32.580Z"
   },
   {
    "duration": 8,
    "start_time": "2022-10-24T10:50:16.281Z"
   },
   {
    "duration": 6,
    "start_time": "2022-10-24T10:50:26.949Z"
   },
   {
    "duration": 7,
    "start_time": "2022-10-24T10:50:40.917Z"
   },
   {
    "duration": 4,
    "start_time": "2022-10-24T10:53:35.216Z"
   },
   {
    "duration": 7,
    "start_time": "2022-10-24T10:54:20.218Z"
   },
   {
    "duration": 47,
    "start_time": "2022-10-24T15:27:53.160Z"
   },
   {
    "duration": 5,
    "start_time": "2022-10-24T16:03:55.604Z"
   },
   {
    "duration": 6,
    "start_time": "2022-10-24T16:04:15.264Z"
   },
   {
    "duration": 7,
    "start_time": "2022-10-24T16:04:37.981Z"
   },
   {
    "duration": 5,
    "start_time": "2022-10-24T16:05:03.494Z"
   },
   {
    "duration": 6,
    "start_time": "2022-10-24T16:07:30.823Z"
   },
   {
    "duration": 8,
    "start_time": "2022-10-24T16:08:21.983Z"
   },
   {
    "duration": 7,
    "start_time": "2022-10-24T16:09:50.404Z"
   },
   {
    "duration": 6,
    "start_time": "2022-10-24T16:10:35.933Z"
   },
   {
    "duration": 6,
    "start_time": "2022-10-24T16:11:54.054Z"
   },
   {
    "duration": 6,
    "start_time": "2022-10-24T16:14:20.616Z"
   },
   {
    "duration": 6,
    "start_time": "2022-10-24T16:14:37.876Z"
   },
   {
    "duration": 6,
    "start_time": "2022-10-24T16:14:43.556Z"
   },
   {
    "duration": 4,
    "start_time": "2022-10-24T16:14:52.187Z"
   },
   {
    "duration": 6,
    "start_time": "2022-10-24T16:15:03.906Z"
   },
   {
    "duration": 6,
    "start_time": "2022-10-24T16:15:15.387Z"
   },
   {
    "duration": 6,
    "start_time": "2022-10-24T16:15:35.323Z"
   },
   {
    "duration": 6,
    "start_time": "2022-10-24T16:19:56.882Z"
   },
   {
    "duration": 6,
    "start_time": "2022-10-24T16:20:11.502Z"
   },
   {
    "duration": 6,
    "start_time": "2022-10-24T16:20:16.622Z"
   },
   {
    "duration": 6,
    "start_time": "2022-10-24T16:20:24.293Z"
   },
   {
    "duration": 347,
    "start_time": "2022-10-24T16:20:31.492Z"
   },
   {
    "duration": 236,
    "start_time": "2022-10-24T16:20:41.288Z"
   },
   {
    "duration": 11,
    "start_time": "2022-10-24T16:20:49.492Z"
   },
   {
    "duration": 29,
    "start_time": "2022-10-24T16:20:56.760Z"
   },
   {
    "duration": 33,
    "start_time": "2022-10-24T16:21:12.132Z"
   },
   {
    "duration": 2,
    "start_time": "2022-10-24T16:21:31.581Z"
   },
   {
    "duration": 11,
    "start_time": "2022-10-24T16:21:41.923Z"
   },
   {
    "duration": 3,
    "start_time": "2022-10-24T16:21:47.973Z"
   },
   {
    "duration": 30,
    "start_time": "2022-10-24T16:26:14.255Z"
   },
   {
    "duration": 30,
    "start_time": "2022-10-24T16:27:05.142Z"
   },
   {
    "duration": 31,
    "start_time": "2022-10-24T16:28:10.268Z"
   },
   {
    "duration": 24,
    "start_time": "2022-10-24T16:28:55.232Z"
   },
   {
    "duration": 13,
    "start_time": "2022-10-24T16:29:56.884Z"
   },
   {
    "duration": 4,
    "start_time": "2022-10-24T16:30:06.092Z"
   },
   {
    "duration": 11,
    "start_time": "2022-10-24T16:30:56.786Z"
   },
   {
    "duration": 3,
    "start_time": "2022-10-24T16:31:02.916Z"
   },
   {
    "duration": 41,
    "start_time": "2022-10-24T16:31:09.375Z"
   },
   {
    "duration": 8,
    "start_time": "2022-10-24T16:38:03.661Z"
   },
   {
    "duration": 9,
    "start_time": "2022-10-24T16:39:18.859Z"
   },
   {
    "duration": 17,
    "start_time": "2022-10-24T16:39:52.769Z"
   },
   {
    "duration": 26,
    "start_time": "2022-10-24T16:40:19.220Z"
   },
   {
    "duration": 419,
    "start_time": "2022-10-24T16:42:59.825Z"
   },
   {
    "duration": 82,
    "start_time": "2022-10-24T16:43:23.374Z"
   },
   {
    "duration": 4,
    "start_time": "2022-10-24T16:43:57.599Z"
   },
   {
    "duration": 8,
    "start_time": "2022-10-24T16:45:03.843Z"
   },
   {
    "duration": 7,
    "start_time": "2022-10-24T16:45:07.624Z"
   },
   {
    "duration": 7,
    "start_time": "2022-10-24T16:45:19.911Z"
   },
   {
    "duration": 7,
    "start_time": "2022-10-24T16:45:41.294Z"
   },
   {
    "duration": 6,
    "start_time": "2022-10-24T16:46:30.494Z"
   },
   {
    "duration": 7,
    "start_time": "2022-10-24T16:47:22.263Z"
   },
   {
    "duration": 7,
    "start_time": "2022-10-24T16:48:00.691Z"
   },
   {
    "duration": 8,
    "start_time": "2022-10-24T16:48:04.624Z"
   },
   {
    "duration": 9,
    "start_time": "2022-10-24T16:48:46.369Z"
   },
   {
    "duration": 7,
    "start_time": "2022-10-24T16:50:19.745Z"
   },
   {
    "duration": 7,
    "start_time": "2022-10-24T16:50:45.756Z"
   },
   {
    "duration": 4,
    "start_time": "2022-10-24T16:51:16.005Z"
   },
   {
    "duration": 8,
    "start_time": "2022-10-24T16:51:25.141Z"
   },
   {
    "duration": 8,
    "start_time": "2022-10-24T16:51:49.546Z"
   },
   {
    "duration": 7,
    "start_time": "2022-10-24T16:52:58.266Z"
   },
   {
    "duration": 8,
    "start_time": "2022-10-24T16:53:27.354Z"
   },
   {
    "duration": 2,
    "start_time": "2022-10-24T16:54:01.214Z"
   },
   {
    "duration": 3,
    "start_time": "2022-10-24T16:54:04.212Z"
   },
   {
    "duration": 8,
    "start_time": "2022-10-24T16:54:32.488Z"
   },
   {
    "duration": 8,
    "start_time": "2022-10-24T16:55:07.844Z"
   },
   {
    "duration": 4,
    "start_time": "2022-10-24T16:55:49.409Z"
   },
   {
    "duration": 7,
    "start_time": "2022-10-24T16:55:54.011Z"
   },
   {
    "duration": 8,
    "start_time": "2022-10-24T16:56:01.853Z"
   },
   {
    "duration": 3,
    "start_time": "2022-10-24T16:58:35.384Z"
   },
   {
    "duration": 152,
    "start_time": "2022-10-24T16:58:40.386Z"
   },
   {
    "duration": 7,
    "start_time": "2022-10-24T16:58:45.743Z"
   },
   {
    "duration": 28,
    "start_time": "2022-10-24T16:58:52.975Z"
   },
   {
    "duration": 3,
    "start_time": "2022-10-24T16:59:00.862Z"
   },
   {
    "duration": 7,
    "start_time": "2022-10-24T16:59:05.944Z"
   },
   {
    "duration": 3,
    "start_time": "2022-10-24T16:59:10.740Z"
   },
   {
    "duration": 23,
    "start_time": "2022-10-24T16:59:14.755Z"
   },
   {
    "duration": 18,
    "start_time": "2022-10-24T16:59:20.160Z"
   },
   {
    "duration": 23,
    "start_time": "2022-10-24T16:59:24.112Z"
   },
   {
    "duration": 84,
    "start_time": "2022-10-24T16:59:29.146Z"
   },
   {
    "duration": 86,
    "start_time": "2022-10-24T17:00:13.366Z"
   },
   {
    "duration": 4,
    "start_time": "2022-10-24T17:00:47.269Z"
   },
   {
    "duration": 3,
    "start_time": "2022-10-24T17:01:08.358Z"
   },
   {
    "duration": 6,
    "start_time": "2022-10-24T17:01:34.517Z"
   },
   {
    "duration": 7,
    "start_time": "2022-10-24T17:01:48.618Z"
   },
   {
    "duration": 10,
    "start_time": "2022-10-24T17:01:54.858Z"
   },
   {
    "duration": 8,
    "start_time": "2022-10-24T17:02:20.057Z"
   },
   {
    "duration": 6,
    "start_time": "2022-10-24T17:02:37.949Z"
   },
   {
    "duration": 9,
    "start_time": "2022-10-24T17:02:44.545Z"
   },
   {
    "duration": 8,
    "start_time": "2022-10-24T17:03:07.059Z"
   },
   {
    "duration": 165,
    "start_time": "2022-10-24T17:07:33.318Z"
   },
   {
    "duration": 8,
    "start_time": "2022-10-24T17:08:09.656Z"
   },
   {
    "duration": 31,
    "start_time": "2022-10-24T17:08:14.879Z"
   },
   {
    "duration": 3,
    "start_time": "2022-10-24T17:08:21.119Z"
   },
   {
    "duration": 11,
    "start_time": "2022-10-24T17:08:33.486Z"
   },
   {
    "duration": 3,
    "start_time": "2022-10-24T17:08:38.389Z"
   },
   {
    "duration": 25,
    "start_time": "2022-10-24T17:08:52.708Z"
   },
   {
    "duration": 18,
    "start_time": "2022-10-24T17:08:57.666Z"
   },
   {
    "duration": 25,
    "start_time": "2022-10-24T17:09:00.934Z"
   },
   {
    "duration": 94,
    "start_time": "2022-10-24T17:09:05.718Z"
   },
   {
    "duration": 3,
    "start_time": "2022-10-24T17:09:10.378Z"
   },
   {
    "duration": 3,
    "start_time": "2022-10-24T17:09:14.647Z"
   },
   {
    "duration": 6,
    "start_time": "2022-10-24T17:18:30.905Z"
   },
   {
    "duration": 7,
    "start_time": "2022-10-24T17:19:22.557Z"
   },
   {
    "duration": 9,
    "start_time": "2022-10-24T17:23:59.520Z"
   },
   {
    "duration": 8,
    "start_time": "2022-10-24T17:25:43.339Z"
   },
   {
    "duration": 6,
    "start_time": "2022-10-25T05:37:33.565Z"
   },
   {
    "duration": 7,
    "start_time": "2022-10-25T05:38:01.617Z"
   },
   {
    "duration": 6,
    "start_time": "2022-10-25T05:57:15.800Z"
   },
   {
    "duration": 9,
    "start_time": "2022-10-25T05:57:26.339Z"
   },
   {
    "duration": 8,
    "start_time": "2022-10-25T06:00:40.473Z"
   },
   {
    "duration": 7,
    "start_time": "2022-10-25T06:03:17.756Z"
   },
   {
    "duration": 9,
    "start_time": "2022-10-25T06:04:01.655Z"
   },
   {
    "duration": 9,
    "start_time": "2022-10-25T06:06:45.540Z"
   },
   {
    "duration": 7,
    "start_time": "2022-10-25T06:08:10.125Z"
   },
   {
    "duration": 7,
    "start_time": "2022-10-25T06:53:39.791Z"
   },
   {
    "duration": 7,
    "start_time": "2022-10-25T06:54:11.883Z"
   },
   {
    "duration": 7,
    "start_time": "2022-10-25T06:54:59.666Z"
   },
   {
    "duration": 9,
    "start_time": "2022-10-25T06:55:19.774Z"
   },
   {
    "duration": 8,
    "start_time": "2022-10-25T06:57:18.319Z"
   },
   {
    "duration": 8,
    "start_time": "2022-10-25T06:58:07.352Z"
   },
   {
    "duration": 7,
    "start_time": "2022-10-25T07:02:23.048Z"
   },
   {
    "duration": 10,
    "start_time": "2022-10-25T07:02:47.320Z"
   },
   {
    "duration": 71,
    "start_time": "2022-10-25T07:03:19.884Z"
   },
   {
    "duration": 8,
    "start_time": "2022-10-25T07:03:30.408Z"
   },
   {
    "duration": 8,
    "start_time": "2022-10-25T07:09:32.681Z"
   },
   {
    "duration": 8,
    "start_time": "2022-10-25T07:10:07.167Z"
   },
   {
    "duration": 7,
    "start_time": "2022-10-25T07:10:27.882Z"
   },
   {
    "duration": 8,
    "start_time": "2022-10-25T07:11:51.033Z"
   },
   {
    "duration": 7,
    "start_time": "2022-10-25T07:12:50.366Z"
   },
   {
    "duration": 6,
    "start_time": "2022-10-25T07:13:13.601Z"
   },
   {
    "duration": 2,
    "start_time": "2022-10-25T07:13:20.784Z"
   },
   {
    "duration": 7,
    "start_time": "2022-10-25T07:13:40.933Z"
   },
   {
    "duration": 7,
    "start_time": "2022-10-25T07:18:55.785Z"
   },
   {
    "duration": 8,
    "start_time": "2022-10-25T07:19:29.595Z"
   },
   {
    "duration": 11,
    "start_time": "2022-10-25T07:19:41.705Z"
   },
   {
    "duration": 7,
    "start_time": "2022-10-25T07:19:52.551Z"
   },
   {
    "duration": 8,
    "start_time": "2022-10-25T07:25:43.100Z"
   },
   {
    "duration": 51,
    "start_time": "2022-10-25T07:28:18.550Z"
   },
   {
    "duration": 8,
    "start_time": "2022-10-25T07:28:30.868Z"
   },
   {
    "duration": 9,
    "start_time": "2022-10-25T07:28:51.725Z"
   },
   {
    "duration": 8,
    "start_time": "2022-10-25T07:31:00.634Z"
   },
   {
    "duration": 6,
    "start_time": "2022-10-25T07:31:08.652Z"
   },
   {
    "duration": 10,
    "start_time": "2022-10-25T07:32:49.673Z"
   },
   {
    "duration": 7,
    "start_time": "2022-10-25T07:35:27.402Z"
   },
   {
    "duration": 7,
    "start_time": "2022-10-25T07:35:44.701Z"
   },
   {
    "duration": 7,
    "start_time": "2022-10-25T07:35:56.942Z"
   },
   {
    "duration": 8,
    "start_time": "2022-10-25T07:38:03.704Z"
   },
   {
    "duration": 8,
    "start_time": "2022-10-25T07:38:51.943Z"
   },
   {
    "duration": 7,
    "start_time": "2022-10-25T07:40:40.015Z"
   },
   {
    "duration": 7,
    "start_time": "2022-10-25T07:41:53.564Z"
   },
   {
    "duration": 7,
    "start_time": "2022-10-25T07:43:20.731Z"
   },
   {
    "duration": 7,
    "start_time": "2022-10-25T07:43:38.636Z"
   },
   {
    "duration": 2,
    "start_time": "2022-10-25T07:44:36.453Z"
   },
   {
    "duration": 184,
    "start_time": "2022-10-25T07:44:36.458Z"
   },
   {
    "duration": 7,
    "start_time": "2022-10-25T07:44:36.644Z"
   },
   {
    "duration": 38,
    "start_time": "2022-10-25T07:44:36.653Z"
   },
   {
    "duration": 2,
    "start_time": "2022-10-25T07:44:36.693Z"
   },
   {
    "duration": 10,
    "start_time": "2022-10-25T07:44:36.697Z"
   },
   {
    "duration": 25,
    "start_time": "2022-10-25T07:44:36.708Z"
   },
   {
    "duration": 4,
    "start_time": "2022-10-25T07:44:36.735Z"
   },
   {
    "duration": 42,
    "start_time": "2022-10-25T07:44:36.740Z"
   },
   {
    "duration": 31,
    "start_time": "2022-10-25T07:44:36.785Z"
   },
   {
    "duration": 24,
    "start_time": "2022-10-25T07:44:36.817Z"
   },
   {
    "duration": 98,
    "start_time": "2022-10-25T07:44:36.842Z"
   },
   {
    "duration": 3,
    "start_time": "2022-10-25T07:44:36.942Z"
   },
   {
    "duration": 6,
    "start_time": "2022-10-25T07:44:36.948Z"
   },
   {
    "duration": 10,
    "start_time": "2022-10-25T07:44:36.956Z"
   },
   {
    "duration": 0,
    "start_time": "2022-10-25T07:44:36.967Z"
   },
   {
    "duration": 0,
    "start_time": "2022-10-25T07:44:36.968Z"
   },
   {
    "duration": 0,
    "start_time": "2022-10-25T07:44:36.969Z"
   },
   {
    "duration": 0,
    "start_time": "2022-10-25T07:44:36.971Z"
   },
   {
    "duration": 0,
    "start_time": "2022-10-25T07:44:36.971Z"
   },
   {
    "duration": 0,
    "start_time": "2022-10-25T07:44:36.972Z"
   },
   {
    "duration": 0,
    "start_time": "2022-10-25T07:44:36.973Z"
   },
   {
    "duration": 0,
    "start_time": "2022-10-25T07:44:36.974Z"
   },
   {
    "duration": 0,
    "start_time": "2022-10-25T07:44:36.975Z"
   },
   {
    "duration": 0,
    "start_time": "2022-10-25T07:44:36.976Z"
   },
   {
    "duration": 0,
    "start_time": "2022-10-25T07:44:36.977Z"
   },
   {
    "duration": 0,
    "start_time": "2022-10-25T07:44:36.978Z"
   },
   {
    "duration": 0,
    "start_time": "2022-10-25T07:44:36.979Z"
   },
   {
    "duration": 0,
    "start_time": "2022-10-25T07:44:36.980Z"
   },
   {
    "duration": 0,
    "start_time": "2022-10-25T07:44:36.981Z"
   },
   {
    "duration": 0,
    "start_time": "2022-10-25T07:44:36.981Z"
   },
   {
    "duration": 0,
    "start_time": "2022-10-25T07:44:36.982Z"
   },
   {
    "duration": 0,
    "start_time": "2022-10-25T07:44:36.983Z"
   },
   {
    "duration": 0,
    "start_time": "2022-10-25T07:44:36.984Z"
   },
   {
    "duration": 0,
    "start_time": "2022-10-25T07:44:36.985Z"
   },
   {
    "duration": 0,
    "start_time": "2022-10-25T07:44:36.986Z"
   },
   {
    "duration": 0,
    "start_time": "2022-10-25T07:44:36.987Z"
   },
   {
    "duration": 0,
    "start_time": "2022-10-25T07:44:36.988Z"
   },
   {
    "duration": 7,
    "start_time": "2022-10-25T07:45:02.025Z"
   },
   {
    "duration": 8,
    "start_time": "2022-10-25T07:48:10.714Z"
   },
   {
    "duration": 7,
    "start_time": "2022-10-25T07:51:25.611Z"
   },
   {
    "duration": 2,
    "start_time": "2022-10-25T07:52:41.850Z"
   },
   {
    "duration": 171,
    "start_time": "2022-10-25T07:52:41.854Z"
   },
   {
    "duration": 9,
    "start_time": "2022-10-25T07:52:42.026Z"
   },
   {
    "duration": 31,
    "start_time": "2022-10-25T07:52:42.036Z"
   },
   {
    "duration": 2,
    "start_time": "2022-10-25T07:52:42.069Z"
   },
   {
    "duration": 5,
    "start_time": "2022-10-25T07:52:42.073Z"
   },
   {
    "duration": 11,
    "start_time": "2022-10-25T07:52:42.079Z"
   },
   {
    "duration": 10,
    "start_time": "2022-10-25T07:52:42.091Z"
   },
   {
    "duration": 43,
    "start_time": "2022-10-25T07:52:42.102Z"
   },
   {
    "duration": 24,
    "start_time": "2022-10-25T07:52:42.147Z"
   },
   {
    "duration": 27,
    "start_time": "2022-10-25T07:52:42.172Z"
   },
   {
    "duration": 109,
    "start_time": "2022-10-25T07:52:42.201Z"
   },
   {
    "duration": 3,
    "start_time": "2022-10-25T07:52:42.312Z"
   },
   {
    "duration": 9,
    "start_time": "2022-10-25T07:52:42.317Z"
   },
   {
    "duration": 8,
    "start_time": "2022-10-25T07:52:42.333Z"
   },
   {
    "duration": 9,
    "start_time": "2022-10-25T07:53:06.505Z"
   },
   {
    "duration": 8,
    "start_time": "2022-10-25T07:53:21.842Z"
   },
   {
    "duration": 2,
    "start_time": "2022-10-25T07:53:48.366Z"
   },
   {
    "duration": 166,
    "start_time": "2022-10-25T07:53:48.370Z"
   },
   {
    "duration": 8,
    "start_time": "2022-10-25T07:53:48.538Z"
   },
   {
    "duration": 33,
    "start_time": "2022-10-25T07:53:48.548Z"
   },
   {
    "duration": 2,
    "start_time": "2022-10-25T07:53:48.583Z"
   },
   {
    "duration": 8,
    "start_time": "2022-10-25T07:53:48.587Z"
   },
   {
    "duration": 15,
    "start_time": "2022-10-25T07:53:48.596Z"
   },
   {
    "duration": 3,
    "start_time": "2022-10-25T07:53:48.613Z"
   },
   {
    "duration": 23,
    "start_time": "2022-10-25T07:53:48.634Z"
   },
   {
    "duration": 19,
    "start_time": "2022-10-25T07:53:48.659Z"
   },
   {
    "duration": 25,
    "start_time": "2022-10-25T07:53:48.680Z"
   },
   {
    "duration": 135,
    "start_time": "2022-10-25T07:53:48.707Z"
   },
   {
    "duration": 4,
    "start_time": "2022-10-25T07:53:48.843Z"
   },
   {
    "duration": 9,
    "start_time": "2022-10-25T07:53:48.850Z"
   },
   {
    "duration": 7,
    "start_time": "2022-10-25T07:54:17.002Z"
   },
   {
    "duration": 7,
    "start_time": "2022-10-25T07:54:36.754Z"
   },
   {
    "duration": 8,
    "start_time": "2022-10-25T07:55:33.419Z"
   },
   {
    "duration": 7,
    "start_time": "2022-10-25T07:55:48.728Z"
   },
   {
    "duration": 7,
    "start_time": "2022-10-25T07:59:09.531Z"
   },
   {
    "duration": 8,
    "start_time": "2022-10-25T07:59:13.170Z"
   },
   {
    "duration": 7,
    "start_time": "2022-10-25T08:02:39.305Z"
   },
   {
    "duration": 8,
    "start_time": "2022-10-25T08:02:56.823Z"
   },
   {
    "duration": 3,
    "start_time": "2022-10-25T08:03:00.741Z"
   },
   {
    "duration": 203,
    "start_time": "2022-10-25T08:03:00.746Z"
   },
   {
    "duration": 8,
    "start_time": "2022-10-25T08:03:00.951Z"
   },
   {
    "duration": 61,
    "start_time": "2022-10-25T08:03:00.960Z"
   },
   {
    "duration": 24,
    "start_time": "2022-10-25T08:03:01.023Z"
   },
   {
    "duration": 12,
    "start_time": "2022-10-25T08:03:01.048Z"
   },
   {
    "duration": 33,
    "start_time": "2022-10-25T08:03:01.062Z"
   },
   {
    "duration": 21,
    "start_time": "2022-10-25T08:03:01.096Z"
   },
   {
    "duration": 53,
    "start_time": "2022-10-25T08:03:01.118Z"
   },
   {
    "duration": 45,
    "start_time": "2022-10-25T08:03:01.174Z"
   },
   {
    "duration": 33,
    "start_time": "2022-10-25T08:03:01.222Z"
   },
   {
    "duration": 106,
    "start_time": "2022-10-25T08:03:01.257Z"
   },
   {
    "duration": 3,
    "start_time": "2022-10-25T08:03:01.365Z"
   },
   {
    "duration": 42,
    "start_time": "2022-10-25T08:03:01.370Z"
   },
   {
    "duration": 41,
    "start_time": "2022-10-25T08:03:01.414Z"
   },
   {
    "duration": 7,
    "start_time": "2022-10-25T08:03:14.306Z"
   },
   {
    "duration": 2,
    "start_time": "2022-10-25T08:07:14.362Z"
   },
   {
    "duration": 3,
    "start_time": "2022-10-25T08:08:23.804Z"
   },
   {
    "duration": 165,
    "start_time": "2022-10-25T08:08:23.809Z"
   },
   {
    "duration": 8,
    "start_time": "2022-10-25T08:08:23.976Z"
   },
   {
    "duration": 34,
    "start_time": "2022-10-25T08:08:23.985Z"
   },
   {
    "duration": 11,
    "start_time": "2022-10-25T08:08:24.022Z"
   },
   {
    "duration": 10,
    "start_time": "2022-10-25T08:08:24.035Z"
   },
   {
    "duration": 16,
    "start_time": "2022-10-25T08:08:24.047Z"
   },
   {
    "duration": 9,
    "start_time": "2022-10-25T08:08:24.065Z"
   },
   {
    "duration": 42,
    "start_time": "2022-10-25T08:08:24.075Z"
   },
   {
    "duration": 25,
    "start_time": "2022-10-25T08:08:24.119Z"
   },
   {
    "duration": 31,
    "start_time": "2022-10-25T08:08:24.146Z"
   },
   {
    "duration": 113,
    "start_time": "2022-10-25T08:08:24.179Z"
   },
   {
    "duration": 3,
    "start_time": "2022-10-25T08:08:24.293Z"
   },
   {
    "duration": 7,
    "start_time": "2022-10-25T08:08:24.299Z"
   },
   {
    "duration": 7,
    "start_time": "2022-10-25T08:08:30.543Z"
   },
   {
    "duration": 2,
    "start_time": "2022-10-25T08:08:41.122Z"
   },
   {
    "duration": 158,
    "start_time": "2022-10-25T08:08:41.127Z"
   },
   {
    "duration": 9,
    "start_time": "2022-10-25T08:08:41.287Z"
   },
   {
    "duration": 42,
    "start_time": "2022-10-25T08:08:41.298Z"
   },
   {
    "duration": 3,
    "start_time": "2022-10-25T08:08:41.341Z"
   },
   {
    "duration": 8,
    "start_time": "2022-10-25T08:08:41.346Z"
   },
   {
    "duration": 17,
    "start_time": "2022-10-25T08:08:41.356Z"
   },
   {
    "duration": 4,
    "start_time": "2022-10-25T08:08:41.374Z"
   },
   {
    "duration": 29,
    "start_time": "2022-10-25T08:08:41.379Z"
   },
   {
    "duration": 36,
    "start_time": "2022-10-25T08:08:41.411Z"
   },
   {
    "duration": 25,
    "start_time": "2022-10-25T08:08:41.449Z"
   },
   {
    "duration": 108,
    "start_time": "2022-10-25T08:08:41.475Z"
   },
   {
    "duration": 4,
    "start_time": "2022-10-25T08:08:41.585Z"
   },
   {
    "duration": 6,
    "start_time": "2022-10-25T08:08:41.591Z"
   },
   {
    "duration": 5,
    "start_time": "2022-10-25T08:08:41.598Z"
   },
   {
    "duration": 6,
    "start_time": "2022-10-25T08:08:41.605Z"
   },
   {
    "duration": 8,
    "start_time": "2022-10-25T08:08:41.612Z"
   },
   {
    "duration": 2,
    "start_time": "2022-10-25T08:08:41.634Z"
   },
   {
    "duration": 6,
    "start_time": "2022-10-25T08:08:41.638Z"
   },
   {
    "duration": 7,
    "start_time": "2022-10-25T08:08:41.646Z"
   },
   {
    "duration": 10,
    "start_time": "2022-10-25T08:08:41.656Z"
   },
   {
    "duration": 6,
    "start_time": "2022-10-25T08:08:41.668Z"
   },
   {
    "duration": 6,
    "start_time": "2022-10-25T08:08:41.676Z"
   },
   {
    "duration": 11,
    "start_time": "2022-10-25T08:08:41.684Z"
   },
   {
    "duration": 10,
    "start_time": "2022-10-25T08:08:41.697Z"
   },
   {
    "duration": 16,
    "start_time": "2022-10-25T08:08:41.709Z"
   },
   {
    "duration": 14,
    "start_time": "2022-10-25T08:08:41.727Z"
   },
   {
    "duration": 6,
    "start_time": "2022-10-25T08:08:41.745Z"
   },
   {
    "duration": 6,
    "start_time": "2022-10-25T08:08:41.753Z"
   },
   {
    "duration": 52,
    "start_time": "2022-10-25T08:08:41.761Z"
   },
   {
    "duration": 0,
    "start_time": "2022-10-25T08:08:41.815Z"
   },
   {
    "duration": 0,
    "start_time": "2022-10-25T08:08:41.816Z"
   },
   {
    "duration": 1,
    "start_time": "2022-10-25T08:08:41.817Z"
   },
   {
    "duration": 0,
    "start_time": "2022-10-25T08:08:41.820Z"
   },
   {
    "duration": 0,
    "start_time": "2022-10-25T08:08:41.821Z"
   },
   {
    "duration": 0,
    "start_time": "2022-10-25T08:08:41.823Z"
   },
   {
    "duration": 0,
    "start_time": "2022-10-25T08:08:41.824Z"
   },
   {
    "duration": 0,
    "start_time": "2022-10-25T08:08:41.826Z"
   },
   {
    "duration": 169,
    "start_time": "2022-10-25T08:08:51.296Z"
   },
   {
    "duration": 7,
    "start_time": "2022-10-25T08:09:00.230Z"
   },
   {
    "duration": 12,
    "start_time": "2022-10-25T08:09:07.106Z"
   },
   {
    "duration": 7,
    "start_time": "2022-10-25T08:09:20.726Z"
   },
   {
    "duration": 32,
    "start_time": "2022-10-25T08:09:25.754Z"
   },
   {
    "duration": 5,
    "start_time": "2022-10-25T08:09:34.415Z"
   },
   {
    "duration": 9,
    "start_time": "2022-10-25T08:09:39.874Z"
   },
   {
    "duration": 4,
    "start_time": "2022-10-25T08:09:43.531Z"
   },
   {
    "duration": 41,
    "start_time": "2022-10-25T08:09:55.311Z"
   },
   {
    "duration": 23,
    "start_time": "2022-10-25T08:10:02.137Z"
   },
   {
    "duration": 27,
    "start_time": "2022-10-25T08:10:08.313Z"
   },
   {
    "duration": 103,
    "start_time": "2022-10-25T08:10:13.295Z"
   },
   {
    "duration": 4,
    "start_time": "2022-10-25T08:10:20.514Z"
   },
   {
    "duration": 3,
    "start_time": "2022-10-25T08:10:25.780Z"
   },
   {
    "duration": 8,
    "start_time": "2022-10-25T08:10:48.537Z"
   },
   {
    "duration": 8,
    "start_time": "2022-10-25T08:11:14.699Z"
   },
   {
    "duration": 7,
    "start_time": "2022-10-25T08:11:26.663Z"
   },
   {
    "duration": 3,
    "start_time": "2022-10-25T08:11:38.551Z"
   },
   {
    "duration": 155,
    "start_time": "2022-10-25T08:11:38.556Z"
   },
   {
    "duration": 8,
    "start_time": "2022-10-25T08:11:38.713Z"
   },
   {
    "duration": 42,
    "start_time": "2022-10-25T08:11:38.722Z"
   },
   {
    "duration": 4,
    "start_time": "2022-10-25T08:11:38.767Z"
   },
   {
    "duration": 13,
    "start_time": "2022-10-25T08:11:38.775Z"
   },
   {
    "duration": 18,
    "start_time": "2022-10-25T08:11:38.789Z"
   },
   {
    "duration": 4,
    "start_time": "2022-10-25T08:11:38.808Z"
   },
   {
    "duration": 37,
    "start_time": "2022-10-25T08:11:38.813Z"
   },
   {
    "duration": 17,
    "start_time": "2022-10-25T08:11:38.852Z"
   },
   {
    "duration": 21,
    "start_time": "2022-10-25T08:11:38.870Z"
   },
   {
    "duration": 112,
    "start_time": "2022-10-25T08:11:38.893Z"
   },
   {
    "duration": 4,
    "start_time": "2022-10-25T08:11:39.006Z"
   },
   {
    "duration": 18,
    "start_time": "2022-10-25T08:11:39.012Z"
   },
   {
    "duration": 7,
    "start_time": "2022-10-25T08:11:45.880Z"
   },
   {
    "duration": 2,
    "start_time": "2022-10-25T08:11:51.509Z"
   },
   {
    "duration": 164,
    "start_time": "2022-10-25T08:11:51.513Z"
   },
   {
    "duration": 9,
    "start_time": "2022-10-25T08:11:51.679Z"
   },
   {
    "duration": 59,
    "start_time": "2022-10-25T08:11:51.691Z"
   },
   {
    "duration": 3,
    "start_time": "2022-10-25T08:11:51.752Z"
   },
   {
    "duration": 6,
    "start_time": "2022-10-25T08:11:51.757Z"
   },
   {
    "duration": 25,
    "start_time": "2022-10-25T08:11:51.765Z"
   },
   {
    "duration": 3,
    "start_time": "2022-10-25T08:11:51.792Z"
   },
   {
    "duration": 39,
    "start_time": "2022-10-25T08:11:51.797Z"
   },
   {
    "duration": 19,
    "start_time": "2022-10-25T08:11:51.837Z"
   },
   {
    "duration": 25,
    "start_time": "2022-10-25T08:11:51.858Z"
   },
   {
    "duration": 119,
    "start_time": "2022-10-25T08:11:51.885Z"
   },
   {
    "duration": 3,
    "start_time": "2022-10-25T08:11:52.006Z"
   },
   {
    "duration": 10,
    "start_time": "2022-10-25T08:11:52.011Z"
   },
   {
    "duration": 7,
    "start_time": "2022-10-25T08:11:58.692Z"
   },
   {
    "duration": 8,
    "start_time": "2022-10-25T08:12:20.612Z"
   },
   {
    "duration": 2,
    "start_time": "2022-10-25T08:12:25.458Z"
   },
   {
    "duration": 168,
    "start_time": "2022-10-25T08:12:25.462Z"
   },
   {
    "duration": 9,
    "start_time": "2022-10-25T08:12:25.632Z"
   },
   {
    "duration": 34,
    "start_time": "2022-10-25T08:12:25.642Z"
   },
   {
    "duration": 3,
    "start_time": "2022-10-25T08:12:25.679Z"
   },
   {
    "duration": 12,
    "start_time": "2022-10-25T08:12:25.684Z"
   },
   {
    "duration": 18,
    "start_time": "2022-10-25T08:12:25.698Z"
   },
   {
    "duration": 17,
    "start_time": "2022-10-25T08:12:25.718Z"
   },
   {
    "duration": 29,
    "start_time": "2022-10-25T08:12:25.737Z"
   },
   {
    "duration": 25,
    "start_time": "2022-10-25T08:12:25.767Z"
   },
   {
    "duration": 45,
    "start_time": "2022-10-25T08:12:25.794Z"
   },
   {
    "duration": 102,
    "start_time": "2022-10-25T08:12:25.840Z"
   },
   {
    "duration": 3,
    "start_time": "2022-10-25T08:12:25.944Z"
   },
   {
    "duration": 7,
    "start_time": "2022-10-25T08:12:25.950Z"
   },
   {
    "duration": 9,
    "start_time": "2022-10-25T08:12:25.958Z"
   },
   {
    "duration": 7,
    "start_time": "2022-10-25T08:12:25.968Z"
   },
   {
    "duration": 5,
    "start_time": "2022-10-25T08:12:25.976Z"
   },
   {
    "duration": 4,
    "start_time": "2022-10-25T08:12:25.983Z"
   },
   {
    "duration": 12,
    "start_time": "2022-10-25T08:12:25.989Z"
   },
   {
    "duration": 6,
    "start_time": "2022-10-25T08:12:26.003Z"
   },
   {
    "duration": 8,
    "start_time": "2022-10-25T08:12:26.010Z"
   },
   {
    "duration": 7,
    "start_time": "2022-10-25T08:12:26.020Z"
   },
   {
    "duration": 2,
    "start_time": "2022-10-25T08:12:26.033Z"
   },
   {
    "duration": 5,
    "start_time": "2022-10-25T08:12:26.037Z"
   },
   {
    "duration": 7,
    "start_time": "2022-10-25T08:12:26.043Z"
   },
   {
    "duration": 12,
    "start_time": "2022-10-25T08:12:26.051Z"
   },
   {
    "duration": 4,
    "start_time": "2022-10-25T08:12:26.065Z"
   },
   {
    "duration": 11,
    "start_time": "2022-10-25T08:12:26.071Z"
   },
   {
    "duration": 11,
    "start_time": "2022-10-25T08:12:26.084Z"
   },
   {
    "duration": 121,
    "start_time": "2022-10-25T08:12:26.097Z"
   },
   {
    "duration": 0,
    "start_time": "2022-10-25T08:12:26.220Z"
   },
   {
    "duration": 0,
    "start_time": "2022-10-25T08:12:26.221Z"
   },
   {
    "duration": 0,
    "start_time": "2022-10-25T08:12:26.223Z"
   },
   {
    "duration": 0,
    "start_time": "2022-10-25T08:12:26.225Z"
   },
   {
    "duration": 0,
    "start_time": "2022-10-25T08:12:26.226Z"
   },
   {
    "duration": 0,
    "start_time": "2022-10-25T08:12:26.227Z"
   },
   {
    "duration": 0,
    "start_time": "2022-10-25T08:12:26.228Z"
   },
   {
    "duration": 0,
    "start_time": "2022-10-25T08:12:26.230Z"
   },
   {
    "duration": 3,
    "start_time": "2022-10-25T08:13:43.118Z"
   },
   {
    "duration": 167,
    "start_time": "2022-10-25T08:13:43.124Z"
   },
   {
    "duration": 8,
    "start_time": "2022-10-25T08:13:43.293Z"
   },
   {
    "duration": 45,
    "start_time": "2022-10-25T08:13:43.302Z"
   },
   {
    "duration": 2,
    "start_time": "2022-10-25T08:13:43.349Z"
   },
   {
    "duration": 6,
    "start_time": "2022-10-25T08:13:43.353Z"
   },
   {
    "duration": 13,
    "start_time": "2022-10-25T08:13:43.360Z"
   },
   {
    "duration": 3,
    "start_time": "2022-10-25T08:13:43.374Z"
   },
   {
    "duration": 26,
    "start_time": "2022-10-25T08:13:43.379Z"
   },
   {
    "duration": 39,
    "start_time": "2022-10-25T08:13:43.407Z"
   },
   {
    "duration": 23,
    "start_time": "2022-10-25T08:13:43.448Z"
   },
   {
    "duration": 109,
    "start_time": "2022-10-25T08:13:43.473Z"
   },
   {
    "duration": 3,
    "start_time": "2022-10-25T08:13:43.584Z"
   },
   {
    "duration": 7,
    "start_time": "2022-10-25T08:13:43.589Z"
   },
   {
    "duration": 7,
    "start_time": "2022-10-25T08:14:29.247Z"
   },
   {
    "duration": 7,
    "start_time": "2022-10-25T08:15:58.629Z"
   },
   {
    "duration": 7,
    "start_time": "2022-10-25T08:17:18.012Z"
   },
   {
    "duration": 2,
    "start_time": "2022-10-25T08:20:17.424Z"
   },
   {
    "duration": 152,
    "start_time": "2022-10-25T08:20:21.979Z"
   },
   {
    "duration": 7,
    "start_time": "2022-10-25T08:20:27.530Z"
   },
   {
    "duration": 30,
    "start_time": "2022-10-25T08:20:32.353Z"
   },
   {
    "duration": 4,
    "start_time": "2022-10-25T08:20:43.014Z"
   },
   {
    "duration": 12,
    "start_time": "2022-10-25T08:20:51.470Z"
   },
   {
    "duration": 5,
    "start_time": "2022-10-25T08:20:56.280Z"
   },
   {
    "duration": 28,
    "start_time": "2022-10-25T08:21:04.180Z"
   },
   {
    "duration": 20,
    "start_time": "2022-10-25T08:21:36.572Z"
   },
   {
    "duration": 25,
    "start_time": "2022-10-25T08:21:44.890Z"
   },
   {
    "duration": 99,
    "start_time": "2022-10-25T08:21:54.212Z"
   },
   {
    "duration": 4,
    "start_time": "2022-10-25T08:22:12.247Z"
   },
   {
    "duration": 7,
    "start_time": "2022-10-25T08:23:12.796Z"
   },
   {
    "duration": 7,
    "start_time": "2022-10-25T08:23:48.697Z"
   },
   {
    "duration": 8,
    "start_time": "2022-10-25T08:24:20.849Z"
   },
   {
    "duration": 6,
    "start_time": "2022-10-25T08:24:38.924Z"
   },
   {
    "duration": 7,
    "start_time": "2022-10-25T08:24:47.404Z"
   },
   {
    "duration": 8,
    "start_time": "2022-10-25T08:40:27.727Z"
   },
   {
    "duration": 2,
    "start_time": "2022-10-25T08:40:44.852Z"
   },
   {
    "duration": 163,
    "start_time": "2022-10-25T08:40:44.856Z"
   },
   {
    "duration": 8,
    "start_time": "2022-10-25T08:40:45.021Z"
   },
   {
    "duration": 45,
    "start_time": "2022-10-25T08:40:45.030Z"
   },
   {
    "duration": 5,
    "start_time": "2022-10-25T08:40:45.077Z"
   },
   {
    "duration": 13,
    "start_time": "2022-10-25T08:40:45.083Z"
   },
   {
    "duration": 28,
    "start_time": "2022-10-25T08:40:45.098Z"
   },
   {
    "duration": 3,
    "start_time": "2022-10-25T08:40:45.128Z"
   },
   {
    "duration": 40,
    "start_time": "2022-10-25T08:40:45.133Z"
   },
   {
    "duration": 30,
    "start_time": "2022-10-25T08:40:45.174Z"
   },
   {
    "duration": 35,
    "start_time": "2022-10-25T08:40:45.206Z"
   },
   {
    "duration": 3,
    "start_time": "2022-10-25T08:40:48.772Z"
   },
   {
    "duration": 179,
    "start_time": "2022-10-25T08:40:48.777Z"
   },
   {
    "duration": 8,
    "start_time": "2022-10-25T08:40:48.957Z"
   },
   {
    "duration": 35,
    "start_time": "2022-10-25T08:40:48.966Z"
   },
   {
    "duration": 3,
    "start_time": "2022-10-25T08:40:49.004Z"
   },
   {
    "duration": 14,
    "start_time": "2022-10-25T08:40:49.009Z"
   },
   {
    "duration": 21,
    "start_time": "2022-10-25T08:40:49.025Z"
   },
   {
    "duration": 19,
    "start_time": "2022-10-25T08:40:49.048Z"
   },
   {
    "duration": 40,
    "start_time": "2022-10-25T08:40:49.069Z"
   },
   {
    "duration": 23,
    "start_time": "2022-10-25T08:40:49.111Z"
   },
   {
    "duration": 47,
    "start_time": "2022-10-25T08:40:49.136Z"
   },
   {
    "duration": 27,
    "start_time": "2022-10-25T08:40:54.182Z"
   },
   {
    "duration": 96,
    "start_time": "2022-10-25T08:41:02.204Z"
   },
   {
    "duration": 6,
    "start_time": "2022-10-25T08:41:17.283Z"
   },
   {
    "duration": 6,
    "start_time": "2022-10-25T08:41:42.667Z"
   },
   {
    "duration": 4,
    "start_time": "2022-10-25T08:41:49.679Z"
   },
   {
    "duration": 4,
    "start_time": "2022-10-25T08:41:54.090Z"
   },
   {
    "duration": 7,
    "start_time": "2022-10-25T08:41:59.137Z"
   },
   {
    "duration": 5,
    "start_time": "2022-10-25T08:42:13.989Z"
   },
   {
    "duration": 5,
    "start_time": "2022-10-25T08:42:30.271Z"
   },
   {
    "duration": 9,
    "start_time": "2022-10-25T08:42:43.183Z"
   },
   {
    "duration": 7,
    "start_time": "2022-10-25T08:43:21.391Z"
   },
   {
    "duration": 7,
    "start_time": "2022-10-25T08:43:35.322Z"
   },
   {
    "duration": 9,
    "start_time": "2022-10-25T08:46:25.636Z"
   },
   {
    "duration": 7,
    "start_time": "2022-10-25T08:47:15.747Z"
   },
   {
    "duration": 7,
    "start_time": "2022-10-25T08:47:31.847Z"
   },
   {
    "duration": 6,
    "start_time": "2022-10-25T08:49:05.994Z"
   },
   {
    "duration": 7,
    "start_time": "2022-10-25T08:49:30.633Z"
   },
   {
    "duration": 6,
    "start_time": "2022-10-25T08:49:34.831Z"
   },
   {
    "duration": 2,
    "start_time": "2022-10-25T08:50:07.215Z"
   },
   {
    "duration": 158,
    "start_time": "2022-10-25T08:50:11.261Z"
   },
   {
    "duration": 9,
    "start_time": "2022-10-25T08:50:18.195Z"
   },
   {
    "duration": 30,
    "start_time": "2022-10-25T08:50:25.189Z"
   },
   {
    "duration": 3,
    "start_time": "2022-10-25T08:50:40.137Z"
   },
   {
    "duration": 11,
    "start_time": "2022-10-25T08:50:46.480Z"
   },
   {
    "duration": 3,
    "start_time": "2022-10-25T08:50:53.166Z"
   },
   {
    "duration": 25,
    "start_time": "2022-10-25T08:50:57.827Z"
   },
   {
    "duration": 20,
    "start_time": "2022-10-25T08:51:03.437Z"
   },
   {
    "duration": 28,
    "start_time": "2022-10-25T08:51:16.580Z"
   },
   {
    "duration": 97,
    "start_time": "2022-10-25T08:51:24.123Z"
   },
   {
    "duration": 9,
    "start_time": "2022-10-25T08:51:30.087Z"
   },
   {
    "duration": 4,
    "start_time": "2022-10-25T08:51:43.627Z"
   },
   {
    "duration": 6,
    "start_time": "2022-10-25T08:51:47.495Z"
   },
   {
    "duration": 5,
    "start_time": "2022-10-25T08:51:56.993Z"
   },
   {
    "duration": 6,
    "start_time": "2022-10-25T08:53:06.350Z"
   },
   {
    "duration": 6,
    "start_time": "2022-10-25T08:53:12.719Z"
   },
   {
    "duration": 5,
    "start_time": "2022-10-25T08:54:58.942Z"
   },
   {
    "duration": 10,
    "start_time": "2022-10-25T08:57:51.777Z"
   },
   {
    "duration": 10,
    "start_time": "2022-10-25T08:58:06.216Z"
   },
   {
    "duration": 6,
    "start_time": "2022-10-25T08:58:11.876Z"
   },
   {
    "duration": 6,
    "start_time": "2022-10-25T08:59:43.039Z"
   },
   {
    "duration": 7,
    "start_time": "2022-10-25T09:01:00.802Z"
   },
   {
    "duration": 4,
    "start_time": "2022-10-25T09:07:11.342Z"
   },
   {
    "duration": 3,
    "start_time": "2022-10-25T09:07:51.319Z"
   },
   {
    "duration": 5,
    "start_time": "2022-10-25T09:07:58.937Z"
   },
   {
    "duration": 5,
    "start_time": "2022-10-25T09:08:06.618Z"
   },
   {
    "duration": 7,
    "start_time": "2022-10-25T09:08:36.395Z"
   },
   {
    "duration": 7,
    "start_time": "2022-10-25T09:08:52.970Z"
   },
   {
    "duration": 162,
    "start_time": "2022-10-25T09:09:15.592Z"
   },
   {
    "duration": 10,
    "start_time": "2022-10-25T09:09:19.414Z"
   },
   {
    "duration": 44,
    "start_time": "2022-10-25T09:09:23.685Z"
   },
   {
    "duration": 4,
    "start_time": "2022-10-25T09:09:30.663Z"
   },
   {
    "duration": 19,
    "start_time": "2022-10-25T09:09:37.304Z"
   },
   {
    "duration": 4,
    "start_time": "2022-10-25T09:09:45.892Z"
   },
   {
    "duration": 34,
    "start_time": "2022-10-25T09:09:53.294Z"
   },
   {
    "duration": 1251,
    "start_time": "2022-10-25T09:10:03.846Z"
   },
   {
    "duration": 942,
    "start_time": "2022-10-25T09:10:29.019Z"
   },
   {
    "duration": 4,
    "start_time": "2022-10-25T09:20:45.685Z"
   },
   {
    "duration": 3,
    "start_time": "2022-10-25T09:21:34.034Z"
   },
   {
    "duration": 26,
    "start_time": "2022-10-25T09:21:39.209Z"
   },
   {
    "duration": 3,
    "start_time": "2022-10-25T09:22:51.410Z"
   },
   {
    "duration": 26,
    "start_time": "2022-10-25T09:22:55.204Z"
   },
   {
    "duration": 28,
    "start_time": "2022-10-25T09:23:08.905Z"
   },
   {
    "duration": 4,
    "start_time": "2022-10-25T09:23:28.019Z"
   },
   {
    "duration": 4,
    "start_time": "2022-10-25T09:24:02.053Z"
   },
   {
    "duration": 5,
    "start_time": "2022-10-25T09:24:27.596Z"
   },
   {
    "duration": 4,
    "start_time": "2022-10-25T09:25:18.254Z"
   },
   {
    "duration": 10,
    "start_time": "2022-10-25T09:27:07.402Z"
   },
   {
    "duration": 4,
    "start_time": "2022-10-25T09:27:13.220Z"
   },
   {
    "duration": 28,
    "start_time": "2022-10-25T09:27:29.888Z"
   },
   {
    "duration": 4,
    "start_time": "2022-10-25T09:27:40.671Z"
   },
   {
    "duration": 41,
    "start_time": "2022-10-25T09:27:47.527Z"
   },
   {
    "duration": 95,
    "start_time": "2022-10-25T09:27:52.120Z"
   },
   {
    "duration": 92,
    "start_time": "2022-10-25T09:27:58.169Z"
   },
   {
    "duration": 71,
    "start_time": "2022-10-25T09:28:05.052Z"
   },
   {
    "duration": 12,
    "start_time": "2022-10-25T09:28:19.329Z"
   },
   {
    "duration": 68,
    "start_time": "2022-10-25T09:28:59.005Z"
   },
   {
    "duration": 92,
    "start_time": "2022-10-25T09:29:06.251Z"
   },
   {
    "duration": 12,
    "start_time": "2022-10-25T09:29:12.244Z"
   },
   {
    "duration": 69,
    "start_time": "2022-10-25T09:29:42.328Z"
   },
   {
    "duration": 48,
    "start_time": "2022-10-25T10:02:31.411Z"
   },
   {
    "duration": 69,
    "start_time": "2022-10-25T10:02:46.577Z"
   },
   {
    "duration": 13,
    "start_time": "2022-10-25T10:03:29.317Z"
   },
   {
    "duration": 14,
    "start_time": "2022-10-25T10:04:20.761Z"
   },
   {
    "duration": 9,
    "start_time": "2022-10-25T10:04:51.293Z"
   },
   {
    "duration": 8,
    "start_time": "2022-10-25T10:04:54.317Z"
   },
   {
    "duration": 6,
    "start_time": "2022-10-25T10:05:46.578Z"
   },
   {
    "duration": 63,
    "start_time": "2022-10-25T10:06:48.396Z"
   },
   {
    "duration": 3,
    "start_time": "2022-10-25T10:10:19.609Z"
   },
   {
    "duration": 768,
    "start_time": "2022-10-25T10:12:28.827Z"
   },
   {
    "duration": 955,
    "start_time": "2022-10-25T10:12:54.550Z"
   },
   {
    "duration": 782,
    "start_time": "2022-10-25T10:18:00.637Z"
   },
   {
    "duration": 11,
    "start_time": "2022-10-25T10:20:23.211Z"
   },
   {
    "duration": 698,
    "start_time": "2022-10-25T10:20:46.593Z"
   },
   {
    "duration": 891,
    "start_time": "2022-10-25T10:21:21.478Z"
   },
   {
    "duration": 752,
    "start_time": "2022-10-25T10:22:07.555Z"
   },
   {
    "duration": 0,
    "start_time": "2022-10-25T10:22:08.309Z"
   },
   {
    "duration": 0,
    "start_time": "2022-10-25T10:22:08.310Z"
   },
   {
    "duration": 0,
    "start_time": "2022-10-25T10:22:08.311Z"
   },
   {
    "duration": 0,
    "start_time": "2022-10-25T10:22:08.312Z"
   },
   {
    "duration": 0,
    "start_time": "2022-10-25T10:22:08.313Z"
   },
   {
    "duration": 0,
    "start_time": "2022-10-25T10:22:08.314Z"
   },
   {
    "duration": 0,
    "start_time": "2022-10-25T10:22:08.315Z"
   },
   {
    "duration": 0,
    "start_time": "2022-10-25T10:22:08.316Z"
   },
   {
    "duration": 0,
    "start_time": "2022-10-25T10:22:08.317Z"
   },
   {
    "duration": 0,
    "start_time": "2022-10-25T10:22:08.318Z"
   },
   {
    "duration": 0,
    "start_time": "2022-10-25T10:22:08.319Z"
   },
   {
    "duration": 0,
    "start_time": "2022-10-25T10:22:08.320Z"
   },
   {
    "duration": 0,
    "start_time": "2022-10-25T10:22:08.321Z"
   },
   {
    "duration": 0,
    "start_time": "2022-10-25T10:22:08.322Z"
   },
   {
    "duration": 0,
    "start_time": "2022-10-25T10:22:08.323Z"
   },
   {
    "duration": 0,
    "start_time": "2022-10-25T10:22:08.324Z"
   },
   {
    "duration": 0,
    "start_time": "2022-10-25T10:22:08.325Z"
   },
   {
    "duration": 0,
    "start_time": "2022-10-25T10:22:08.326Z"
   },
   {
    "duration": 0,
    "start_time": "2022-10-25T10:22:08.327Z"
   },
   {
    "duration": 0,
    "start_time": "2022-10-25T10:22:08.328Z"
   },
   {
    "duration": 0,
    "start_time": "2022-10-25T10:22:08.329Z"
   },
   {
    "duration": 0,
    "start_time": "2022-10-25T10:22:08.330Z"
   },
   {
    "duration": 2,
    "start_time": "2022-10-25T10:22:22.259Z"
   },
   {
    "duration": 177,
    "start_time": "2022-10-25T10:22:22.264Z"
   },
   {
    "duration": 8,
    "start_time": "2022-10-25T10:22:22.442Z"
   },
   {
    "duration": 35,
    "start_time": "2022-10-25T10:22:22.451Z"
   },
   {
    "duration": 2,
    "start_time": "2022-10-25T10:22:22.489Z"
   },
   {
    "duration": 12,
    "start_time": "2022-10-25T10:22:22.493Z"
   },
   {
    "duration": 37,
    "start_time": "2022-10-25T10:22:22.507Z"
   },
   {
    "duration": 5,
    "start_time": "2022-10-25T10:22:22.546Z"
   },
   {
    "duration": 39,
    "start_time": "2022-10-25T10:22:22.553Z"
   },
   {
    "duration": 7,
    "start_time": "2022-10-25T10:22:22.593Z"
   },
   {
    "duration": 33,
    "start_time": "2022-10-25T10:22:22.601Z"
   },
   {
    "duration": 82,
    "start_time": "2022-10-25T10:22:22.637Z"
   },
   {
    "duration": 73,
    "start_time": "2022-10-25T10:22:22.720Z"
   },
   {
    "duration": 83,
    "start_time": "2022-10-25T10:22:22.797Z"
   },
   {
    "duration": 40,
    "start_time": "2022-10-25T10:22:22.882Z"
   },
   {
    "duration": 720,
    "start_time": "2022-10-25T10:22:22.933Z"
   },
   {
    "duration": 0,
    "start_time": "2022-10-25T10:22:23.655Z"
   },
   {
    "duration": 0,
    "start_time": "2022-10-25T10:22:23.656Z"
   },
   {
    "duration": 0,
    "start_time": "2022-10-25T10:22:23.657Z"
   },
   {
    "duration": 0,
    "start_time": "2022-10-25T10:22:23.658Z"
   },
   {
    "duration": 0,
    "start_time": "2022-10-25T10:22:23.659Z"
   },
   {
    "duration": 0,
    "start_time": "2022-10-25T10:22:23.660Z"
   },
   {
    "duration": 0,
    "start_time": "2022-10-25T10:22:23.661Z"
   },
   {
    "duration": 0,
    "start_time": "2022-10-25T10:22:23.662Z"
   },
   {
    "duration": 0,
    "start_time": "2022-10-25T10:22:23.663Z"
   },
   {
    "duration": 0,
    "start_time": "2022-10-25T10:22:23.665Z"
   },
   {
    "duration": 0,
    "start_time": "2022-10-25T10:22:23.666Z"
   },
   {
    "duration": 0,
    "start_time": "2022-10-25T10:22:23.667Z"
   },
   {
    "duration": 0,
    "start_time": "2022-10-25T10:22:23.668Z"
   },
   {
    "duration": 0,
    "start_time": "2022-10-25T10:22:23.669Z"
   },
   {
    "duration": 0,
    "start_time": "2022-10-25T10:22:23.669Z"
   },
   {
    "duration": 1,
    "start_time": "2022-10-25T10:22:23.670Z"
   },
   {
    "duration": 0,
    "start_time": "2022-10-25T10:22:23.671Z"
   },
   {
    "duration": 0,
    "start_time": "2022-10-25T10:22:23.673Z"
   },
   {
    "duration": 0,
    "start_time": "2022-10-25T10:22:23.674Z"
   },
   {
    "duration": 0,
    "start_time": "2022-10-25T10:22:23.675Z"
   },
   {
    "duration": 0,
    "start_time": "2022-10-25T10:22:23.676Z"
   },
   {
    "duration": 0,
    "start_time": "2022-10-25T10:22:23.677Z"
   },
   {
    "duration": 11,
    "start_time": "2022-10-25T10:26:56.879Z"
   },
   {
    "duration": 42,
    "start_time": "2022-10-25T10:27:42.744Z"
   },
   {
    "duration": 56,
    "start_time": "2022-10-25T10:32:58.378Z"
   },
   {
    "duration": 291,
    "start_time": "2022-10-25T10:34:19.342Z"
   },
   {
    "duration": 12,
    "start_time": "2022-10-25T10:34:34.336Z"
   },
   {
    "duration": 29,
    "start_time": "2022-10-25T10:35:22.030Z"
   },
   {
    "duration": 13,
    "start_time": "2022-10-25T10:35:41.342Z"
   },
   {
    "duration": 17,
    "start_time": "2022-10-25T10:37:02.049Z"
   },
   {
    "duration": 8,
    "start_time": "2022-10-25T10:37:55.255Z"
   },
   {
    "duration": 13,
    "start_time": "2022-10-25T10:38:01.228Z"
   },
   {
    "duration": 9,
    "start_time": "2022-10-25T10:39:01.159Z"
   },
   {
    "duration": 12,
    "start_time": "2022-10-25T10:39:12.042Z"
   },
   {
    "duration": 13,
    "start_time": "2022-10-25T10:40:20.997Z"
   },
   {
    "duration": 7,
    "start_time": "2022-10-25T11:36:43.811Z"
   },
   {
    "duration": 4,
    "start_time": "2022-10-25T11:38:05.860Z"
   },
   {
    "duration": 9,
    "start_time": "2022-10-25T11:40:09.341Z"
   },
   {
    "duration": 8,
    "start_time": "2022-10-25T11:41:44.755Z"
   },
   {
    "duration": 58,
    "start_time": "2022-10-25T11:48:40.971Z"
   },
   {
    "duration": 57,
    "start_time": "2022-10-25T14:04:45.238Z"
   },
   {
    "duration": 61,
    "start_time": "2022-10-25T14:05:10.980Z"
   },
   {
    "duration": 7,
    "start_time": "2022-10-25T14:10:23.354Z"
   },
   {
    "duration": 7,
    "start_time": "2022-10-25T14:10:49.277Z"
   },
   {
    "duration": 7,
    "start_time": "2022-10-25T14:11:40.223Z"
   },
   {
    "duration": 8,
    "start_time": "2022-10-25T14:12:43.355Z"
   },
   {
    "duration": 3,
    "start_time": "2022-10-25T14:14:57.802Z"
   },
   {
    "duration": 3,
    "start_time": "2022-10-25T14:15:04.454Z"
   },
   {
    "duration": 4,
    "start_time": "2022-10-25T14:15:18.854Z"
   },
   {
    "duration": 8,
    "start_time": "2022-10-25T14:18:11.540Z"
   },
   {
    "duration": 7,
    "start_time": "2022-10-25T14:18:32.580Z"
   },
   {
    "duration": 9,
    "start_time": "2022-10-25T14:19:06.448Z"
   },
   {
    "duration": 12,
    "start_time": "2022-10-25T14:24:02.170Z"
   },
   {
    "duration": 3,
    "start_time": "2022-10-25T14:24:27.751Z"
   },
   {
    "duration": 370,
    "start_time": "2022-10-25T14:24:40.594Z"
   },
   {
    "duration": 224,
    "start_time": "2022-10-25T14:24:40.966Z"
   },
   {
    "duration": 9,
    "start_time": "2022-10-25T14:24:41.192Z"
   },
   {
    "duration": 30,
    "start_time": "2022-10-25T14:24:41.204Z"
   },
   {
    "duration": 3,
    "start_time": "2022-10-25T14:24:41.236Z"
   },
   {
    "duration": 11,
    "start_time": "2022-10-25T14:24:41.241Z"
   },
   {
    "duration": 14,
    "start_time": "2022-10-25T14:24:41.254Z"
   },
   {
    "duration": 6,
    "start_time": "2022-10-25T14:24:41.270Z"
   },
   {
    "duration": 26,
    "start_time": "2022-10-25T14:24:41.278Z"
   },
   {
    "duration": 4,
    "start_time": "2022-10-25T14:24:41.306Z"
   },
   {
    "duration": 25,
    "start_time": "2022-10-25T14:24:41.334Z"
   },
   {
    "duration": 80,
    "start_time": "2022-10-25T14:24:41.361Z"
   },
   {
    "duration": 69,
    "start_time": "2022-10-25T14:24:41.443Z"
   },
   {
    "duration": 69,
    "start_time": "2022-10-25T14:24:41.514Z"
   },
   {
    "duration": 51,
    "start_time": "2022-10-25T14:24:41.585Z"
   },
   {
    "duration": 12,
    "start_time": "2022-10-25T14:24:41.638Z"
   },
   {
    "duration": 48,
    "start_time": "2022-10-25T14:24:41.651Z"
   },
   {
    "duration": 39,
    "start_time": "2022-10-25T14:24:41.701Z"
   },
   {
    "duration": 13,
    "start_time": "2022-10-25T14:24:41.742Z"
   },
   {
    "duration": 27,
    "start_time": "2022-10-25T14:27:37.741Z"
   },
   {
    "duration": 9,
    "start_time": "2022-10-25T14:30:08.873Z"
   },
   {
    "duration": 9,
    "start_time": "2022-10-25T14:30:20.044Z"
   },
   {
    "duration": 36,
    "start_time": "2022-10-25T14:33:28.177Z"
   },
   {
    "duration": 32,
    "start_time": "2022-10-25T14:34:58.877Z"
   },
   {
    "duration": 12,
    "start_time": "2022-10-25T14:37:00.502Z"
   },
   {
    "duration": 12,
    "start_time": "2022-10-25T14:38:57.653Z"
   },
   {
    "duration": 30,
    "start_time": "2022-10-25T14:39:15.139Z"
   },
   {
    "duration": 11,
    "start_time": "2022-10-25T14:39:29.485Z"
   },
   {
    "duration": 11,
    "start_time": "2022-10-25T14:40:20.250Z"
   },
   {
    "duration": 7,
    "start_time": "2022-10-25T14:46:41.036Z"
   },
   {
    "duration": 2,
    "start_time": "2022-10-25T15:35:42.644Z"
   },
   {
    "duration": 172,
    "start_time": "2022-10-25T15:35:42.648Z"
   },
   {
    "duration": 7,
    "start_time": "2022-10-25T15:35:42.821Z"
   },
   {
    "duration": 31,
    "start_time": "2022-10-25T15:35:42.830Z"
   },
   {
    "duration": 3,
    "start_time": "2022-10-25T15:35:42.862Z"
   },
   {
    "duration": 6,
    "start_time": "2022-10-25T15:35:42.867Z"
   },
   {
    "duration": 10,
    "start_time": "2022-10-25T15:35:42.875Z"
   },
   {
    "duration": 3,
    "start_time": "2022-10-25T15:35:42.887Z"
   },
   {
    "duration": 51,
    "start_time": "2022-10-25T15:35:42.892Z"
   },
   {
    "duration": 41,
    "start_time": "2022-10-25T15:35:42.946Z"
   },
   {
    "duration": 24,
    "start_time": "2022-10-25T15:35:42.989Z"
   },
   {
    "duration": 80,
    "start_time": "2022-10-25T15:35:43.015Z"
   },
   {
    "duration": 76,
    "start_time": "2022-10-25T15:35:43.096Z"
   },
   {
    "duration": 66,
    "start_time": "2022-10-25T15:35:43.173Z"
   },
   {
    "duration": 40,
    "start_time": "2022-10-25T15:35:43.241Z"
   },
   {
    "duration": 10,
    "start_time": "2022-10-25T15:35:43.282Z"
   },
   {
    "duration": 53,
    "start_time": "2022-10-25T15:35:43.294Z"
   },
   {
    "duration": 11,
    "start_time": "2022-10-25T15:35:43.349Z"
   },
   {
    "duration": 12,
    "start_time": "2022-10-25T15:35:43.361Z"
   },
   {
    "duration": 367,
    "start_time": "2022-10-25T15:38:12.278Z"
   },
   {
    "duration": 163,
    "start_time": "2022-10-25T15:38:12.647Z"
   },
   {
    "duration": 8,
    "start_time": "2022-10-25T15:38:12.812Z"
   },
   {
    "duration": 34,
    "start_time": "2022-10-25T15:38:12.822Z"
   },
   {
    "duration": 2,
    "start_time": "2022-10-25T15:38:12.858Z"
   },
   {
    "duration": 11,
    "start_time": "2022-10-25T15:38:12.861Z"
   },
   {
    "duration": 16,
    "start_time": "2022-10-25T15:38:12.874Z"
   },
   {
    "duration": 10,
    "start_time": "2022-10-25T15:38:12.892Z"
   },
   {
    "duration": 35,
    "start_time": "2022-10-25T15:38:12.904Z"
   },
   {
    "duration": 48,
    "start_time": "2022-10-25T15:38:12.941Z"
   },
   {
    "duration": 23,
    "start_time": "2022-10-25T15:38:12.991Z"
   },
   {
    "duration": 75,
    "start_time": "2022-10-25T15:38:13.016Z"
   },
   {
    "duration": 86,
    "start_time": "2022-10-25T15:38:13.093Z"
   },
   {
    "duration": 73,
    "start_time": "2022-10-25T15:38:13.182Z"
   },
   {
    "duration": 42,
    "start_time": "2022-10-25T15:38:13.257Z"
   },
   {
    "duration": 12,
    "start_time": "2022-10-25T15:38:13.301Z"
   },
   {
    "duration": 40,
    "start_time": "2022-10-25T15:38:13.333Z"
   },
   {
    "duration": 12,
    "start_time": "2022-10-25T15:38:13.375Z"
   },
   {
    "duration": 12,
    "start_time": "2022-10-25T15:38:13.388Z"
   },
   {
    "duration": 88,
    "start_time": "2022-10-25T15:38:13.401Z"
   },
   {
    "duration": 0,
    "start_time": "2022-10-25T15:38:13.490Z"
   },
   {
    "duration": 0,
    "start_time": "2022-10-25T15:38:13.492Z"
   },
   {
    "duration": 0,
    "start_time": "2022-10-25T15:38:13.493Z"
   },
   {
    "duration": 0,
    "start_time": "2022-10-25T15:38:13.494Z"
   },
   {
    "duration": 0,
    "start_time": "2022-10-25T15:38:13.495Z"
   },
   {
    "duration": 0,
    "start_time": "2022-10-25T15:38:13.496Z"
   },
   {
    "duration": 0,
    "start_time": "2022-10-25T15:38:13.497Z"
   },
   {
    "duration": 0,
    "start_time": "2022-10-25T15:38:13.498Z"
   },
   {
    "duration": 0,
    "start_time": "2022-10-25T15:38:13.499Z"
   },
   {
    "duration": 0,
    "start_time": "2022-10-25T15:38:13.500Z"
   },
   {
    "duration": 0,
    "start_time": "2022-10-25T15:38:13.501Z"
   },
   {
    "duration": 0,
    "start_time": "2022-10-25T15:38:13.503Z"
   },
   {
    "duration": 0,
    "start_time": "2022-10-25T15:38:13.503Z"
   },
   {
    "duration": 0,
    "start_time": "2022-10-25T15:38:13.505Z"
   },
   {
    "duration": 0,
    "start_time": "2022-10-25T15:38:13.506Z"
   },
   {
    "duration": 0,
    "start_time": "2022-10-25T15:38:13.507Z"
   },
   {
    "duration": 0,
    "start_time": "2022-10-25T15:38:13.534Z"
   },
   {
    "duration": 0,
    "start_time": "2022-10-25T15:38:13.535Z"
   },
   {
    "duration": 2,
    "start_time": "2022-10-25T15:42:41.343Z"
   },
   {
    "duration": 174,
    "start_time": "2022-10-25T15:42:41.347Z"
   },
   {
    "duration": 7,
    "start_time": "2022-10-25T15:42:41.523Z"
   },
   {
    "duration": 35,
    "start_time": "2022-10-25T15:42:41.532Z"
   },
   {
    "duration": 2,
    "start_time": "2022-10-25T15:42:41.570Z"
   },
   {
    "duration": 7,
    "start_time": "2022-10-25T15:42:41.575Z"
   },
   {
    "duration": 14,
    "start_time": "2022-10-25T15:42:41.583Z"
   },
   {
    "duration": 4,
    "start_time": "2022-10-25T15:42:41.599Z"
   },
   {
    "duration": 52,
    "start_time": "2022-10-25T15:42:41.604Z"
   },
   {
    "duration": 55,
    "start_time": "2022-10-25T15:42:41.658Z"
   },
   {
    "duration": 35,
    "start_time": "2022-10-25T15:42:41.715Z"
   },
   {
    "duration": 69,
    "start_time": "2022-10-25T15:42:41.752Z"
   },
   {
    "duration": 69,
    "start_time": "2022-10-25T15:42:41.823Z"
   },
   {
    "duration": 61,
    "start_time": "2022-10-25T15:42:41.894Z"
   },
   {
    "duration": 37,
    "start_time": "2022-10-25T15:42:41.958Z"
   },
   {
    "duration": 10,
    "start_time": "2022-10-25T15:42:41.997Z"
   },
   {
    "duration": 58,
    "start_time": "2022-10-25T15:42:42.009Z"
   },
   {
    "duration": 12,
    "start_time": "2022-10-25T15:42:42.069Z"
   },
   {
    "duration": 11,
    "start_time": "2022-10-25T15:42:42.083Z"
   },
   {
    "duration": 8,
    "start_time": "2022-10-25T15:47:12.620Z"
   },
   {
    "duration": 3,
    "start_time": "2022-10-25T16:09:49.453Z"
   },
   {
    "duration": 3,
    "start_time": "2022-10-25T16:10:53.097Z"
   },
   {
    "duration": 174,
    "start_time": "2022-10-25T16:10:53.102Z"
   },
   {
    "duration": 7,
    "start_time": "2022-10-25T16:10:53.278Z"
   },
   {
    "duration": 29,
    "start_time": "2022-10-25T16:10:53.287Z"
   },
   {
    "duration": 15,
    "start_time": "2022-10-25T16:10:53.318Z"
   },
   {
    "duration": 4,
    "start_time": "2022-10-25T16:10:53.335Z"
   },
   {
    "duration": 11,
    "start_time": "2022-10-25T16:10:53.341Z"
   },
   {
    "duration": 13,
    "start_time": "2022-10-25T16:10:53.353Z"
   },
   {
    "duration": 29,
    "start_time": "2022-10-25T16:10:53.368Z"
   },
   {
    "duration": 57,
    "start_time": "2022-10-25T16:10:53.398Z"
   },
   {
    "duration": 27,
    "start_time": "2022-10-25T16:10:53.457Z"
   },
   {
    "duration": 81,
    "start_time": "2022-10-25T16:10:53.485Z"
   },
   {
    "duration": 71,
    "start_time": "2022-10-25T16:10:53.567Z"
   },
   {
    "duration": 54,
    "start_time": "2022-10-25T16:10:53.639Z"
   },
   {
    "duration": 51,
    "start_time": "2022-10-25T16:10:53.694Z"
   },
   {
    "duration": 10,
    "start_time": "2022-10-25T16:10:53.746Z"
   },
   {
    "duration": 37,
    "start_time": "2022-10-25T16:10:53.757Z"
   },
   {
    "duration": 11,
    "start_time": "2022-10-25T16:10:53.796Z"
   },
   {
    "duration": 34,
    "start_time": "2022-10-25T16:10:53.808Z"
   },
   {
    "duration": 4,
    "start_time": "2022-10-25T16:10:53.843Z"
   },
   {
    "duration": 4,
    "start_time": "2022-10-25T16:20:43.089Z"
   },
   {
    "duration": 4,
    "start_time": "2022-10-25T16:20:47.854Z"
   },
   {
    "duration": 16,
    "start_time": "2022-10-25T16:20:54.457Z"
   },
   {
    "duration": 14,
    "start_time": "2022-10-25T16:20:58.877Z"
   },
   {
    "duration": 14,
    "start_time": "2022-10-25T16:20:59.603Z"
   },
   {
    "duration": 14,
    "start_time": "2022-10-25T16:20:59.770Z"
   },
   {
    "duration": 16,
    "start_time": "2022-10-25T16:21:00.490Z"
   },
   {
    "duration": 16,
    "start_time": "2022-10-25T16:21:17.288Z"
   },
   {
    "duration": 1057,
    "start_time": "2022-10-25T16:24:02.641Z"
   },
   {
    "duration": 651,
    "start_time": "2022-10-25T16:24:17.373Z"
   },
   {
    "duration": 7,
    "start_time": "2022-10-25T16:25:26.607Z"
   },
   {
    "duration": 8,
    "start_time": "2022-10-25T16:25:58.739Z"
   },
   {
    "duration": 8,
    "start_time": "2022-10-25T16:27:24.859Z"
   },
   {
    "duration": 44,
    "start_time": "2022-10-25T16:29:36.121Z"
   },
   {
    "duration": 63,
    "start_time": "2022-10-25T16:29:50.474Z"
   },
   {
    "duration": 6,
    "start_time": "2022-10-25T16:31:13.603Z"
   },
   {
    "duration": 9,
    "start_time": "2022-10-25T16:37:28.518Z"
   },
   {
    "duration": 7,
    "start_time": "2022-10-25T16:56:00.253Z"
   },
   {
    "duration": 5,
    "start_time": "2022-10-25T16:58:50.757Z"
   },
   {
    "duration": 53,
    "start_time": "2022-10-25T17:04:04.786Z"
   },
   {
    "duration": 42,
    "start_time": "2022-10-25T17:05:25.508Z"
   },
   {
    "duration": 3,
    "start_time": "2022-10-25T17:06:28.474Z"
   },
   {
    "duration": 2,
    "start_time": "2022-10-25T17:06:30.774Z"
   },
   {
    "duration": 3,
    "start_time": "2022-10-25T17:06:31.322Z"
   },
   {
    "duration": 3,
    "start_time": "2022-10-25T17:06:31.906Z"
   },
   {
    "duration": 5,
    "start_time": "2022-10-25T17:13:31.604Z"
   },
   {
    "duration": 2,
    "start_time": "2022-10-25T17:14:59.613Z"
   },
   {
    "duration": 198,
    "start_time": "2022-10-25T17:14:59.617Z"
   },
   {
    "duration": 6,
    "start_time": "2022-10-25T17:14:59.817Z"
   },
   {
    "duration": 32,
    "start_time": "2022-10-25T17:14:59.835Z"
   },
   {
    "duration": 9,
    "start_time": "2022-10-25T17:14:59.869Z"
   },
   {
    "duration": 9,
    "start_time": "2022-10-25T17:14:59.879Z"
   },
   {
    "duration": 21,
    "start_time": "2022-10-25T17:14:59.889Z"
   },
   {
    "duration": 8,
    "start_time": "2022-10-25T17:14:59.912Z"
   },
   {
    "duration": 44,
    "start_time": "2022-10-25T17:14:59.922Z"
   },
   {
    "duration": 53,
    "start_time": "2022-10-25T17:14:59.968Z"
   },
   {
    "duration": 26,
    "start_time": "2022-10-25T17:15:00.033Z"
   },
   {
    "duration": 74,
    "start_time": "2022-10-25T17:15:00.061Z"
   },
   {
    "duration": 78,
    "start_time": "2022-10-25T17:15:00.137Z"
   },
   {
    "duration": 71,
    "start_time": "2022-10-25T17:15:00.218Z"
   },
   {
    "duration": 51,
    "start_time": "2022-10-25T17:15:00.290Z"
   },
   {
    "duration": 14,
    "start_time": "2022-10-25T17:15:00.343Z"
   },
   {
    "duration": 54,
    "start_time": "2022-10-25T17:15:00.359Z"
   },
   {
    "duration": 19,
    "start_time": "2022-10-25T17:15:00.414Z"
   },
   {
    "duration": 38,
    "start_time": "2022-10-25T17:15:00.435Z"
   },
   {
    "duration": 51,
    "start_time": "2022-10-25T17:15:00.475Z"
   },
   {
    "duration": 72,
    "start_time": "2022-10-25T17:15:00.528Z"
   },
   {
    "duration": 24,
    "start_time": "2022-10-25T17:15:00.602Z"
   },
   {
    "duration": 44,
    "start_time": "2022-10-25T17:15:00.628Z"
   },
   {
    "duration": 34,
    "start_time": "2022-10-25T17:15:00.676Z"
   },
   {
    "duration": 46,
    "start_time": "2022-10-25T17:15:00.713Z"
   },
   {
    "duration": 42,
    "start_time": "2022-10-25T17:15:00.761Z"
   },
   {
    "duration": 34,
    "start_time": "2022-10-25T17:15:00.805Z"
   },
   {
    "duration": 19,
    "start_time": "2022-10-25T17:15:00.841Z"
   },
   {
    "duration": 52,
    "start_time": "2022-10-25T17:15:00.862Z"
   },
   {
    "duration": 6,
    "start_time": "2022-10-25T17:15:00.917Z"
   },
   {
    "duration": 42,
    "start_time": "2022-10-25T17:15:00.925Z"
   },
   {
    "duration": 22,
    "start_time": "2022-10-25T17:15:00.969Z"
   },
   {
    "duration": 12,
    "start_time": "2022-10-25T17:15:00.992Z"
   },
   {
    "duration": 32,
    "start_time": "2022-10-25T17:15:01.006Z"
   },
   {
    "duration": 32,
    "start_time": "2022-10-25T17:15:01.040Z"
   },
   {
    "duration": 37,
    "start_time": "2022-10-25T17:15:01.074Z"
   },
   {
    "duration": 29,
    "start_time": "2022-10-25T17:15:01.113Z"
   },
   {
    "duration": 11,
    "start_time": "2022-10-25T17:15:01.144Z"
   },
   {
    "duration": 3,
    "start_time": "2022-10-25T17:15:07.791Z"
   },
   {
    "duration": 179,
    "start_time": "2022-10-25T17:15:07.796Z"
   },
   {
    "duration": 6,
    "start_time": "2022-10-25T17:15:07.977Z"
   },
   {
    "duration": 34,
    "start_time": "2022-10-25T17:15:07.985Z"
   },
   {
    "duration": 13,
    "start_time": "2022-10-25T17:15:08.021Z"
   },
   {
    "duration": 7,
    "start_time": "2022-10-25T17:15:08.036Z"
   },
   {
    "duration": 15,
    "start_time": "2022-10-25T17:15:08.045Z"
   },
   {
    "duration": 6,
    "start_time": "2022-10-25T17:15:08.062Z"
   },
   {
    "duration": 30,
    "start_time": "2022-10-25T17:15:08.070Z"
   },
   {
    "duration": 76,
    "start_time": "2022-10-25T17:15:08.103Z"
   },
   {
    "duration": 26,
    "start_time": "2022-10-25T17:15:08.180Z"
   },
   {
    "duration": 89,
    "start_time": "2022-10-25T17:15:08.208Z"
   },
   {
    "duration": 78,
    "start_time": "2022-10-25T17:15:08.299Z"
   },
   {
    "duration": 62,
    "start_time": "2022-10-25T17:15:08.379Z"
   },
   {
    "duration": 42,
    "start_time": "2022-10-25T17:15:08.443Z"
   },
   {
    "duration": 10,
    "start_time": "2022-10-25T17:15:08.487Z"
   },
   {
    "duration": 58,
    "start_time": "2022-10-25T17:15:08.499Z"
   },
   {
    "duration": 11,
    "start_time": "2022-10-25T17:15:08.559Z"
   },
   {
    "duration": 14,
    "start_time": "2022-10-25T17:15:08.571Z"
   },
   {
    "duration": 4,
    "start_time": "2022-10-25T17:15:08.587Z"
   },
   {
    "duration": 41,
    "start_time": "2022-10-25T17:15:08.593Z"
   },
   {
    "duration": 14,
    "start_time": "2022-10-25T17:15:08.636Z"
   },
   {
    "duration": 30,
    "start_time": "2022-10-25T17:15:08.652Z"
   },
   {
    "duration": 13,
    "start_time": "2022-10-25T17:15:08.683Z"
   },
   {
    "duration": 18,
    "start_time": "2022-10-25T17:15:08.697Z"
   },
   {
    "duration": 32,
    "start_time": "2022-10-25T17:15:08.717Z"
   },
   {
    "duration": 12,
    "start_time": "2022-10-25T17:15:08.751Z"
   },
   {
    "duration": 22,
    "start_time": "2022-10-25T17:15:08.768Z"
   },
   {
    "duration": 14,
    "start_time": "2022-10-25T17:15:08.792Z"
   },
   {
    "duration": 5,
    "start_time": "2022-10-25T17:15:08.808Z"
   },
   {
    "duration": 3,
    "start_time": "2022-10-25T17:15:08.833Z"
   },
   {
    "duration": 7,
    "start_time": "2022-10-25T17:15:08.837Z"
   },
   {
    "duration": 13,
    "start_time": "2022-10-25T17:15:08.846Z"
   },
   {
    "duration": 8,
    "start_time": "2022-10-25T17:15:08.861Z"
   },
   {
    "duration": 6,
    "start_time": "2022-10-25T17:15:08.870Z"
   },
   {
    "duration": 9,
    "start_time": "2022-10-25T17:15:08.877Z"
   },
   {
    "duration": 17,
    "start_time": "2022-10-25T17:15:08.887Z"
   },
   {
    "duration": 4,
    "start_time": "2022-10-25T17:15:08.906Z"
   },
   {
    "duration": 4,
    "start_time": "2022-10-25T17:15:16.650Z"
   },
   {
    "duration": 5,
    "start_time": "2022-10-25T17:19:11.437Z"
   },
   {
    "duration": 5,
    "start_time": "2022-10-25T17:21:45.602Z"
   },
   {
    "duration": 5,
    "start_time": "2022-10-25T17:27:12.170Z"
   },
   {
    "duration": 431,
    "start_time": "2022-10-25T17:28:17.016Z"
   },
   {
    "duration": 167,
    "start_time": "2022-10-25T17:28:17.449Z"
   },
   {
    "duration": 8,
    "start_time": "2022-10-25T17:28:17.618Z"
   },
   {
    "duration": 40,
    "start_time": "2022-10-25T17:28:17.629Z"
   },
   {
    "duration": 2,
    "start_time": "2022-10-25T17:28:17.671Z"
   },
   {
    "duration": 14,
    "start_time": "2022-10-25T17:28:17.675Z"
   },
   {
    "duration": 15,
    "start_time": "2022-10-25T17:28:17.690Z"
   },
   {
    "duration": 12,
    "start_time": "2022-10-25T17:28:17.707Z"
   },
   {
    "duration": 34,
    "start_time": "2022-10-25T17:28:17.720Z"
   },
   {
    "duration": 44,
    "start_time": "2022-10-25T17:28:17.757Z"
   },
   {
    "duration": 37,
    "start_time": "2022-10-25T17:28:17.803Z"
   },
   {
    "duration": 69,
    "start_time": "2022-10-25T17:28:17.841Z"
   },
   {
    "duration": 81,
    "start_time": "2022-10-25T17:28:17.911Z"
   },
   {
    "duration": 69,
    "start_time": "2022-10-25T17:28:17.994Z"
   },
   {
    "duration": 40,
    "start_time": "2022-10-25T17:28:18.065Z"
   },
   {
    "duration": 31,
    "start_time": "2022-10-25T17:28:18.107Z"
   },
   {
    "duration": 45,
    "start_time": "2022-10-25T17:28:18.140Z"
   },
   {
    "duration": 14,
    "start_time": "2022-10-25T17:28:18.186Z"
   },
   {
    "duration": 34,
    "start_time": "2022-10-25T17:28:18.201Z"
   },
   {
    "duration": 4,
    "start_time": "2022-10-25T17:28:18.236Z"
   },
   {
    "duration": 23,
    "start_time": "2022-10-25T17:28:18.242Z"
   },
   {
    "duration": 14,
    "start_time": "2022-10-25T17:28:18.267Z"
   },
   {
    "duration": 21,
    "start_time": "2022-10-25T17:28:18.282Z"
   },
   {
    "duration": 31,
    "start_time": "2022-10-25T17:28:18.304Z"
   },
   {
    "duration": 17,
    "start_time": "2022-10-25T17:28:18.336Z"
   },
   {
    "duration": 22,
    "start_time": "2022-10-25T17:28:18.354Z"
   },
   {
    "duration": 7,
    "start_time": "2022-10-25T17:28:18.378Z"
   },
   {
    "duration": 16,
    "start_time": "2022-10-25T17:28:18.388Z"
   },
   {
    "duration": 30,
    "start_time": "2022-10-25T17:28:18.405Z"
   },
   {
    "duration": 4,
    "start_time": "2022-10-25T17:28:18.437Z"
   },
   {
    "duration": 8,
    "start_time": "2022-10-25T17:28:18.443Z"
   },
   {
    "duration": 5,
    "start_time": "2022-10-25T17:28:18.452Z"
   },
   {
    "duration": 7,
    "start_time": "2022-10-25T17:28:18.458Z"
   },
   {
    "duration": 13,
    "start_time": "2022-10-25T17:28:18.467Z"
   },
   {
    "duration": 7,
    "start_time": "2022-10-25T17:28:18.481Z"
   },
   {
    "duration": 11,
    "start_time": "2022-10-25T17:28:18.489Z"
   },
   {
    "duration": 6,
    "start_time": "2022-10-25T17:28:18.501Z"
   },
   {
    "duration": 7,
    "start_time": "2022-10-25T17:28:18.509Z"
   },
   {
    "duration": 5,
    "start_time": "2022-10-25T17:28:32.004Z"
   },
   {
    "duration": 46,
    "start_time": "2022-10-25T17:36:21.548Z"
   },
   {
    "duration": 44,
    "start_time": "2022-10-25T17:38:13.754Z"
   },
   {
    "duration": 5,
    "start_time": "2022-10-25T17:42:57.365Z"
   },
   {
    "duration": 3,
    "start_time": "2022-10-25T18:01:23.348Z"
   },
   {
    "duration": 43,
    "start_time": "2022-10-26T10:20:53.751Z"
   },
   {
    "duration": 6,
    "start_time": "2022-10-26T10:21:34.934Z"
   },
   {
    "duration": 6,
    "start_time": "2022-10-26T10:21:37.434Z"
   },
   {
    "duration": 338,
    "start_time": "2022-10-26T10:21:48.339Z"
   },
   {
    "duration": 437,
    "start_time": "2022-10-26T10:21:48.679Z"
   },
   {
    "duration": 8,
    "start_time": "2022-10-26T10:21:49.118Z"
   },
   {
    "duration": 31,
    "start_time": "2022-10-26T10:21:49.128Z"
   },
   {
    "duration": 14,
    "start_time": "2022-10-26T10:21:49.162Z"
   },
   {
    "duration": 26,
    "start_time": "2022-10-26T10:21:49.177Z"
   },
   {
    "duration": 20,
    "start_time": "2022-10-26T10:21:49.205Z"
   },
   {
    "duration": 28,
    "start_time": "2022-10-26T10:21:49.226Z"
   },
   {
    "duration": 29,
    "start_time": "2022-10-26T10:21:49.255Z"
   },
   {
    "duration": 41,
    "start_time": "2022-10-26T10:21:49.285Z"
   },
   {
    "duration": 19,
    "start_time": "2022-10-26T10:21:49.328Z"
   },
   {
    "duration": 82,
    "start_time": "2022-10-26T10:21:49.348Z"
   },
   {
    "duration": 56,
    "start_time": "2022-10-26T10:21:49.432Z"
   },
   {
    "duration": 0,
    "start_time": "2022-10-26T10:21:49.490Z"
   },
   {
    "duration": 0,
    "start_time": "2022-10-26T10:21:49.492Z"
   },
   {
    "duration": 0,
    "start_time": "2022-10-26T10:21:49.494Z"
   },
   {
    "duration": 0,
    "start_time": "2022-10-26T10:21:49.495Z"
   },
   {
    "duration": 0,
    "start_time": "2022-10-26T10:21:49.495Z"
   },
   {
    "duration": 0,
    "start_time": "2022-10-26T10:21:49.497Z"
   },
   {
    "duration": 0,
    "start_time": "2022-10-26T10:21:49.498Z"
   },
   {
    "duration": 0,
    "start_time": "2022-10-26T10:21:49.498Z"
   },
   {
    "duration": 0,
    "start_time": "2022-10-26T10:21:49.499Z"
   },
   {
    "duration": 0,
    "start_time": "2022-10-26T10:21:49.500Z"
   },
   {
    "duration": 0,
    "start_time": "2022-10-26T10:21:49.501Z"
   },
   {
    "duration": 0,
    "start_time": "2022-10-26T10:21:49.502Z"
   },
   {
    "duration": 0,
    "start_time": "2022-10-26T10:21:49.503Z"
   },
   {
    "duration": 0,
    "start_time": "2022-10-26T10:21:49.503Z"
   },
   {
    "duration": 0,
    "start_time": "2022-10-26T10:21:49.504Z"
   },
   {
    "duration": 0,
    "start_time": "2022-10-26T10:21:49.505Z"
   },
   {
    "duration": 0,
    "start_time": "2022-10-26T10:21:49.506Z"
   },
   {
    "duration": 0,
    "start_time": "2022-10-26T10:21:49.507Z"
   },
   {
    "duration": 0,
    "start_time": "2022-10-26T10:21:49.508Z"
   },
   {
    "duration": 0,
    "start_time": "2022-10-26T10:21:49.508Z"
   },
   {
    "duration": 0,
    "start_time": "2022-10-26T10:21:49.509Z"
   },
   {
    "duration": 0,
    "start_time": "2022-10-26T10:21:49.510Z"
   },
   {
    "duration": 0,
    "start_time": "2022-10-26T10:21:49.511Z"
   },
   {
    "duration": 0,
    "start_time": "2022-10-26T10:21:49.512Z"
   },
   {
    "duration": 0,
    "start_time": "2022-10-26T10:21:49.513Z"
   },
   {
    "duration": 7,
    "start_time": "2022-10-26T10:22:45.198Z"
   },
   {
    "duration": 7,
    "start_time": "2022-10-26T10:22:52.433Z"
   },
   {
    "duration": 399,
    "start_time": "2022-10-26T10:23:07.750Z"
   },
   {
    "duration": 150,
    "start_time": "2022-10-26T10:23:08.151Z"
   },
   {
    "duration": 7,
    "start_time": "2022-10-26T10:23:08.303Z"
   },
   {
    "duration": 31,
    "start_time": "2022-10-26T10:23:08.312Z"
   },
   {
    "duration": 7,
    "start_time": "2022-10-26T10:23:08.345Z"
   },
   {
    "duration": 22,
    "start_time": "2022-10-26T10:23:08.354Z"
   },
   {
    "duration": 16,
    "start_time": "2022-10-26T10:23:08.378Z"
   },
   {
    "duration": 21,
    "start_time": "2022-10-26T10:23:08.395Z"
   },
   {
    "duration": 29,
    "start_time": "2022-10-26T10:23:08.418Z"
   },
   {
    "duration": 35,
    "start_time": "2022-10-26T10:23:08.449Z"
   },
   {
    "duration": 20,
    "start_time": "2022-10-26T10:23:08.485Z"
   },
   {
    "duration": 76,
    "start_time": "2022-10-26T10:23:08.507Z"
   },
   {
    "duration": 55,
    "start_time": "2022-10-26T10:23:08.585Z"
   },
   {
    "duration": 0,
    "start_time": "2022-10-26T10:23:08.642Z"
   },
   {
    "duration": 0,
    "start_time": "2022-10-26T10:23:08.645Z"
   },
   {
    "duration": 0,
    "start_time": "2022-10-26T10:23:08.647Z"
   },
   {
    "duration": 0,
    "start_time": "2022-10-26T10:23:08.648Z"
   },
   {
    "duration": 0,
    "start_time": "2022-10-26T10:23:08.649Z"
   },
   {
    "duration": 0,
    "start_time": "2022-10-26T10:23:08.650Z"
   },
   {
    "duration": 0,
    "start_time": "2022-10-26T10:23:08.652Z"
   },
   {
    "duration": 0,
    "start_time": "2022-10-26T10:23:08.686Z"
   },
   {
    "duration": 0,
    "start_time": "2022-10-26T10:23:08.687Z"
   },
   {
    "duration": 0,
    "start_time": "2022-10-26T10:23:08.688Z"
   },
   {
    "duration": 0,
    "start_time": "2022-10-26T10:23:08.689Z"
   },
   {
    "duration": 0,
    "start_time": "2022-10-26T10:23:08.690Z"
   },
   {
    "duration": 0,
    "start_time": "2022-10-26T10:23:08.690Z"
   },
   {
    "duration": 0,
    "start_time": "2022-10-26T10:23:08.692Z"
   },
   {
    "duration": 0,
    "start_time": "2022-10-26T10:23:08.693Z"
   },
   {
    "duration": 0,
    "start_time": "2022-10-26T10:23:08.694Z"
   },
   {
    "duration": 0,
    "start_time": "2022-10-26T10:23:08.695Z"
   },
   {
    "duration": 0,
    "start_time": "2022-10-26T10:23:08.695Z"
   },
   {
    "duration": 0,
    "start_time": "2022-10-26T10:23:08.696Z"
   },
   {
    "duration": 0,
    "start_time": "2022-10-26T10:23:08.697Z"
   },
   {
    "duration": 0,
    "start_time": "2022-10-26T10:23:08.698Z"
   },
   {
    "duration": 0,
    "start_time": "2022-10-26T10:23:08.699Z"
   },
   {
    "duration": 0,
    "start_time": "2022-10-26T10:23:08.700Z"
   },
   {
    "duration": 0,
    "start_time": "2022-10-26T10:23:08.701Z"
   },
   {
    "duration": 0,
    "start_time": "2022-10-26T10:23:08.702Z"
   },
   {
    "duration": 7,
    "start_time": "2022-10-26T10:23:28.489Z"
   },
   {
    "duration": 2,
    "start_time": "2022-10-26T10:23:51.463Z"
   },
   {
    "duration": 145,
    "start_time": "2022-10-26T10:23:55.596Z"
   },
   {
    "duration": 6,
    "start_time": "2022-10-26T10:23:59.195Z"
   },
   {
    "duration": 26,
    "start_time": "2022-10-26T10:24:04.539Z"
   },
   {
    "duration": 4,
    "start_time": "2022-10-26T10:24:14.479Z"
   },
   {
    "duration": 10,
    "start_time": "2022-10-26T10:24:21.631Z"
   },
   {
    "duration": 3,
    "start_time": "2022-10-26T10:24:27.572Z"
   },
   {
    "duration": 24,
    "start_time": "2022-10-26T10:24:30.997Z"
   },
   {
    "duration": 37,
    "start_time": "2022-10-26T10:24:37.552Z"
   },
   {
    "duration": 20,
    "start_time": "2022-10-26T10:24:44.531Z"
   },
   {
    "duration": 59,
    "start_time": "2022-10-26T10:24:50.223Z"
   },
   {
    "duration": 6,
    "start_time": "2022-10-26T10:25:01.781Z"
   },
   {
    "duration": 7,
    "start_time": "2022-10-26T10:25:36.064Z"
   },
   {
    "duration": 6,
    "start_time": "2022-10-26T10:25:41.030Z"
   },
   {
    "duration": 7,
    "start_time": "2022-10-26T10:25:46.695Z"
   },
   {
    "duration": 382,
    "start_time": "2022-10-26T10:26:14.067Z"
   },
   {
    "duration": 147,
    "start_time": "2022-10-26T10:26:14.450Z"
   },
   {
    "duration": 8,
    "start_time": "2022-10-26T10:26:14.600Z"
   },
   {
    "duration": 28,
    "start_time": "2022-10-26T10:26:14.610Z"
   },
   {
    "duration": 3,
    "start_time": "2022-10-26T10:26:14.639Z"
   },
   {
    "duration": 11,
    "start_time": "2022-10-26T10:26:14.643Z"
   },
   {
    "duration": 33,
    "start_time": "2022-10-26T10:26:14.655Z"
   },
   {
    "duration": 6,
    "start_time": "2022-10-26T10:26:14.689Z"
   },
   {
    "duration": 22,
    "start_time": "2022-10-26T10:26:14.696Z"
   },
   {
    "duration": 38,
    "start_time": "2022-10-26T10:26:14.720Z"
   },
   {
    "duration": 35,
    "start_time": "2022-10-26T10:26:14.759Z"
   },
   {
    "duration": 61,
    "start_time": "2022-10-26T10:26:14.795Z"
   },
   {
    "duration": 69,
    "start_time": "2022-10-26T10:26:14.859Z"
   },
   {
    "duration": 0,
    "start_time": "2022-10-26T10:26:14.930Z"
   },
   {
    "duration": 0,
    "start_time": "2022-10-26T10:26:14.931Z"
   },
   {
    "duration": 0,
    "start_time": "2022-10-26T10:26:14.932Z"
   },
   {
    "duration": 0,
    "start_time": "2022-10-26T10:26:14.933Z"
   },
   {
    "duration": 0,
    "start_time": "2022-10-26T10:26:14.934Z"
   },
   {
    "duration": 0,
    "start_time": "2022-10-26T10:26:14.935Z"
   },
   {
    "duration": 0,
    "start_time": "2022-10-26T10:26:14.937Z"
   },
   {
    "duration": 0,
    "start_time": "2022-10-26T10:26:14.939Z"
   },
   {
    "duration": 0,
    "start_time": "2022-10-26T10:26:14.939Z"
   },
   {
    "duration": 0,
    "start_time": "2022-10-26T10:26:14.940Z"
   },
   {
    "duration": 0,
    "start_time": "2022-10-26T10:26:14.941Z"
   },
   {
    "duration": 0,
    "start_time": "2022-10-26T10:26:14.942Z"
   },
   {
    "duration": 0,
    "start_time": "2022-10-26T10:26:14.942Z"
   },
   {
    "duration": 0,
    "start_time": "2022-10-26T10:26:14.944Z"
   },
   {
    "duration": 0,
    "start_time": "2022-10-26T10:26:14.945Z"
   },
   {
    "duration": 0,
    "start_time": "2022-10-26T10:26:14.946Z"
   },
   {
    "duration": 0,
    "start_time": "2022-10-26T10:26:14.947Z"
   },
   {
    "duration": 0,
    "start_time": "2022-10-26T10:26:14.977Z"
   },
   {
    "duration": 1,
    "start_time": "2022-10-26T10:26:14.978Z"
   },
   {
    "duration": 0,
    "start_time": "2022-10-26T10:26:14.979Z"
   },
   {
    "duration": 0,
    "start_time": "2022-10-26T10:26:14.980Z"
   },
   {
    "duration": 0,
    "start_time": "2022-10-26T10:26:14.981Z"
   },
   {
    "duration": 0,
    "start_time": "2022-10-26T10:26:14.982Z"
   },
   {
    "duration": 0,
    "start_time": "2022-10-26T10:26:14.983Z"
   },
   {
    "duration": 0,
    "start_time": "2022-10-26T10:26:14.984Z"
   },
   {
    "duration": 7,
    "start_time": "2022-10-26T10:27:44.697Z"
   },
   {
    "duration": 9,
    "start_time": "2022-10-26T10:27:52.762Z"
   },
   {
    "duration": 7,
    "start_time": "2022-10-26T10:27:57.095Z"
   },
   {
    "duration": 8,
    "start_time": "2022-10-26T10:28:01.030Z"
   },
   {
    "duration": 7,
    "start_time": "2022-10-26T10:28:06.694Z"
   },
   {
    "duration": 7,
    "start_time": "2022-10-26T10:28:11.662Z"
   },
   {
    "duration": 6,
    "start_time": "2022-10-26T10:28:15.737Z"
   },
   {
    "duration": 6,
    "start_time": "2022-10-26T10:28:19.846Z"
   },
   {
    "duration": 152,
    "start_time": "2022-10-26T10:28:50.028Z"
   },
   {
    "duration": 3,
    "start_time": "2022-10-26T10:28:55.596Z"
   },
   {
    "duration": 7,
    "start_time": "2022-10-26T10:28:59.845Z"
   },
   {
    "duration": 11,
    "start_time": "2022-10-26T10:29:13.610Z"
   },
   {
    "duration": 26,
    "start_time": "2022-10-26T10:29:25.745Z"
   },
   {
    "duration": 4,
    "start_time": "2022-10-26T10:29:35.227Z"
   },
   {
    "duration": 6,
    "start_time": "2022-10-26T10:29:41.530Z"
   },
   {
    "duration": 3,
    "start_time": "2022-10-26T10:29:51.229Z"
   },
   {
    "duration": 22,
    "start_time": "2022-10-26T10:29:55.748Z"
   },
   {
    "duration": 37,
    "start_time": "2022-10-26T10:30:02.580Z"
   },
   {
    "duration": 38,
    "start_time": "2022-10-26T10:30:15.528Z"
   },
   {
    "duration": 61,
    "start_time": "2022-10-26T10:30:30.046Z"
   },
   {
    "duration": 7,
    "start_time": "2022-10-26T10:30:50.039Z"
   },
   {
    "duration": 8,
    "start_time": "2022-10-26T10:30:55.129Z"
   },
   {
    "duration": 3,
    "start_time": "2022-10-26T10:31:04.664Z"
   },
   {
    "duration": 147,
    "start_time": "2022-10-26T10:31:08.662Z"
   },
   {
    "duration": 11,
    "start_time": "2022-10-26T10:31:14.785Z"
   },
   {
    "duration": 23,
    "start_time": "2022-10-26T10:31:19.279Z"
   },
   {
    "duration": 4,
    "start_time": "2022-10-26T10:31:26.844Z"
   },
   {
    "duration": 12,
    "start_time": "2022-10-26T10:31:40.621Z"
   },
   {
    "duration": 4,
    "start_time": "2022-10-26T10:31:45.295Z"
   },
   {
    "duration": 22,
    "start_time": "2022-10-26T10:31:49.928Z"
   },
   {
    "duration": 37,
    "start_time": "2022-10-26T10:31:54.413Z"
   },
   {
    "duration": 22,
    "start_time": "2022-10-26T10:31:59.054Z"
   },
   {
    "duration": 55,
    "start_time": "2022-10-26T10:32:05.381Z"
   },
   {
    "duration": 59,
    "start_time": "2022-10-26T10:32:19.510Z"
   },
   {
    "duration": 54,
    "start_time": "2022-10-26T10:32:35.136Z"
   },
   {
    "duration": 34,
    "start_time": "2022-10-26T10:32:40.966Z"
   },
   {
    "duration": 11,
    "start_time": "2022-10-26T10:32:49.736Z"
   },
   {
    "duration": 34,
    "start_time": "2022-10-26T10:33:00.098Z"
   },
   {
    "duration": 11,
    "start_time": "2022-10-26T10:33:13.239Z"
   },
   {
    "duration": 14,
    "start_time": "2022-10-26T10:33:22.647Z"
   },
   {
    "duration": 4,
    "start_time": "2022-10-26T10:33:40.647Z"
   },
   {
    "duration": 13,
    "start_time": "2022-10-26T10:33:58.439Z"
   },
   {
    "duration": 14,
    "start_time": "2022-10-26T10:34:15.779Z"
   },
   {
    "duration": 14,
    "start_time": "2022-10-26T10:34:18.878Z"
   },
   {
    "duration": 14,
    "start_time": "2022-10-26T10:34:21.877Z"
   },
   {
    "duration": 12,
    "start_time": "2022-10-26T10:34:24.979Z"
   },
   {
    "duration": 15,
    "start_time": "2022-10-26T10:34:28.182Z"
   },
   {
    "duration": 14,
    "start_time": "2022-10-26T10:34:33.745Z"
   },
   {
    "duration": 6,
    "start_time": "2022-10-26T10:34:44.346Z"
   },
   {
    "duration": 8,
    "start_time": "2022-10-26T10:43:18.443Z"
   },
   {
    "duration": 10,
    "start_time": "2022-10-26T10:43:59.247Z"
   },
   {
    "duration": 9,
    "start_time": "2022-10-26T10:44:03.113Z"
   },
   {
    "duration": 15,
    "start_time": "2022-10-26T10:44:41.429Z"
   },
   {
    "duration": 15,
    "start_time": "2022-10-26T10:45:59.963Z"
   },
   {
    "duration": 16,
    "start_time": "2022-10-26T10:46:05.111Z"
   },
   {
    "duration": 13,
    "start_time": "2022-10-26T10:46:35.563Z"
   },
   {
    "duration": 4,
    "start_time": "2022-10-26T10:46:51.613Z"
   },
   {
    "duration": 5,
    "start_time": "2022-10-26T10:47:14.231Z"
   },
   {
    "duration": 9,
    "start_time": "2022-10-26T10:47:46.114Z"
   },
   {
    "duration": 9,
    "start_time": "2022-10-26T10:47:59.580Z"
   },
   {
    "duration": 4,
    "start_time": "2022-10-26T10:48:06.315Z"
   },
   {
    "duration": 5,
    "start_time": "2022-10-26T10:48:28.041Z"
   },
   {
    "duration": 9,
    "start_time": "2022-10-26T10:48:39.306Z"
   },
   {
    "duration": 5,
    "start_time": "2022-10-26T10:48:47.833Z"
   },
   {
    "duration": 67,
    "start_time": "2022-10-26T10:48:59.214Z"
   },
   {
    "duration": 70,
    "start_time": "2022-10-26T10:49:14.173Z"
   },
   {
    "duration": 71,
    "start_time": "2022-10-26T10:49:17.521Z"
   },
   {
    "duration": 77,
    "start_time": "2022-10-26T10:49:21.285Z"
   },
   {
    "duration": 91,
    "start_time": "2022-10-26T10:49:24.376Z"
   },
   {
    "duration": 4,
    "start_time": "2022-10-26T10:49:53.348Z"
   },
   {
    "duration": 4,
    "start_time": "2022-10-26T10:51:31.529Z"
   },
   {
    "duration": 4,
    "start_time": "2022-10-26T10:54:18.933Z"
   },
   {
    "duration": 4,
    "start_time": "2022-10-26T10:54:36.931Z"
   },
   {
    "duration": 4,
    "start_time": "2022-10-26T10:54:52.463Z"
   },
   {
    "duration": 73,
    "start_time": "2022-10-26T10:59:47.280Z"
   },
   {
    "duration": 67,
    "start_time": "2022-10-26T10:59:54.048Z"
   },
   {
    "duration": 5,
    "start_time": "2022-10-26T11:04:27.749Z"
   },
   {
    "duration": 69,
    "start_time": "2022-10-26T11:04:49.581Z"
   },
   {
    "duration": 74,
    "start_time": "2022-10-26T11:05:15.857Z"
   },
   {
    "duration": 16,
    "start_time": "2022-10-26T11:08:21.664Z"
   },
   {
    "duration": 11,
    "start_time": "2022-10-26T11:09:05.738Z"
   },
   {
    "duration": 75,
    "start_time": "2022-10-26T11:09:45.711Z"
   },
   {
    "duration": 70,
    "start_time": "2022-10-26T11:10:07.231Z"
   },
   {
    "duration": 83,
    "start_time": "2022-10-26T11:10:29.365Z"
   },
   {
    "duration": 73,
    "start_time": "2022-10-26T11:10:41.916Z"
   },
   {
    "duration": 15,
    "start_time": "2022-10-26T11:11:26.915Z"
   },
   {
    "duration": 69,
    "start_time": "2022-10-26T11:11:40.264Z"
   },
   {
    "duration": 13,
    "start_time": "2022-10-26T11:12:58.496Z"
   },
   {
    "duration": 93,
    "start_time": "2022-10-26T11:13:12.662Z"
   },
   {
    "duration": 69,
    "start_time": "2022-10-26T11:13:21.012Z"
   },
   {
    "duration": 85,
    "start_time": "2022-10-26T11:15:02.734Z"
   },
   {
    "duration": 15,
    "start_time": "2022-10-26T11:16:31.463Z"
   },
   {
    "duration": 22,
    "start_time": "2022-10-26T11:17:22.730Z"
   },
   {
    "duration": 12,
    "start_time": "2022-10-26T11:18:03.195Z"
   },
   {
    "duration": 8,
    "start_time": "2022-10-26T11:25:35.562Z"
   },
   {
    "duration": 9,
    "start_time": "2022-10-26T11:26:16.480Z"
   },
   {
    "duration": 6,
    "start_time": "2022-10-26T11:27:12.695Z"
   },
   {
    "duration": 7,
    "start_time": "2022-10-26T11:29:09.513Z"
   },
   {
    "duration": 6,
    "start_time": "2022-10-26T11:29:34.611Z"
   }
  ],
  "colab": {
   "collapsed_sections": [
    "E0vqbgi9ay0H",
    "VUC88oWjTJw2"
   ],
   "name": "automatization_template_upd4.ipynb",
   "provenance": []
  },
  "kernelspec": {
   "display_name": "Python 3 (ipykernel)",
   "language": "python",
   "name": "python3"
  },
  "language_info": {
   "codemirror_mode": {
    "name": "ipython",
    "version": 3
   },
   "file_extension": ".py",
   "mimetype": "text/x-python",
   "name": "python",
   "nbconvert_exporter": "python",
   "pygments_lexer": "ipython3",
   "version": "3.9.5"
  },
  "toc": {
   "base_numbering": 1,
   "nav_menu": {
    "height": "215px",
    "width": "403px"
   },
   "number_sections": true,
   "sideBar": true,
   "skip_h1_title": true,
   "title_cell": "Table of Contents",
   "title_sidebar": "Contents",
   "toc_cell": false,
   "toc_position": {
    "height": "calc(100% - 180px)",
    "left": "10px",
    "top": "150px",
    "width": "285.825px"
   },
   "toc_section_display": true,
   "toc_window_display": false
  }
 },
 "nbformat": 4,
 "nbformat_minor": 1
}
