{
 "cells": [
  {
   "cell_type": "markdown",
   "metadata": {},
   "source": [
    "<div style=\"border:solid green 2px; padding: 20px\">\n",
    "<b>Артур, привет!</b>\n",
    "\n",
    "Меня зовут Евгений Дащенко, и я буду проверять твой проект. Предлагаю общаться на «ты» 😊 Но если это не удобно - дай знать, и мы перейдем на \"вы\". \n",
    "\n",
    "Моя основная цель — не указать на совершенные тобою ошибки, а поделиться своим опытом и помочь тебе стать аналитиком данных. Ты уже проделал большую работу над проектом, но давай сделаем его еще лучше. Ниже ты найдешь мои комментарии - пожалуйста, не перемещай, не изменяй и не удаляй их. Я буду использовать цветовую разметку:\n",
    "\n",
    "<div class=\"alert alert-danger\">\n",
    "<b>Критическая ошибка: ❌</b> Так выделены самые важные замечания. Без их отработки проект не будет принят. </div>\n",
    "\n",
    "<div class=\"alert alert-warning\">\n",
    "<b>Хорошо, но можно и лучше: ❗️</b> Так выделены небольшие замечания. Одна-два таких замечания в проекте допустимы, но если их будет больше - тебе будет необходимо внести исправления. Это как тестовое задание при приеме на работу: очень много мелких ошибок могут стать причиной отказа кандидату. \n",
    "\n",
    "</div>\n",
    "\n",
    "<div class=\"alert alert-success\">\n",
    "<b>Все отлично: ✅</b> Так я выделяю все остальные комментарии.</div>\n",
    "\n",
    "Давай работать над проектом в диалоге: если ты что-то меняешь в проекте или отвечаешь на мои комменатри — пиши об этом. Мне будет легче отследить изменения, если ты выделишь свои комментарии:\n",
    "<div class=\"alert alert-info\"> <b>Комментарий студента: ℹ️</b> Например, вот так.</div>\n",
    "\n",
    "Всё это поможет выполнить повторную проверку твоего проекта оперативнее. "
   ]
  },
  {
   "cell_type": "markdown",
   "metadata": {},
   "source": [
    "Приветствую тебя, дорогой ревьер!\n",
    "\n",
    "Ни разу так не делал, решил, что в этот раз не упущу возможности :)\n",
    "\n",
    "В игры очень мало играл в детстве, в основном был спорт. Но вижу и понимаю их неотьемлемую часть в современном мире. Хоть в компьютерные игры и не играю, но всегда интересно, когда бизнес использует геймификацию и опирается на арехетипические основы \"путь героя\", \"преодоления\", \"страхи\" - так сказать берет за живое и непонятное на первый взгляд. Мне было интресно исследовать в этом проекте. Буду рад  рекомендациям и возможно замечаниям."
   ]
  },
  {
   "cell_type": "markdown",
   "metadata": {},
   "source": [
    "# Выявление закономерностей успешности интернет игр"
   ]
  },
  {
   "cell_type": "markdown",
   "metadata": {},
   "source": [
    "__Материал для анализа:__ \n",
    "\n",
    "Анализируем данные о продажах игр, оценки пользователей и экспертов, жанры и платформы интернет-магазина \"Стримчик\" за 2016 год. Данные взяты из открытых источников. \n",
    "\n",
    "__Цель:__\n",
    "\n",
    "Необходимо выявить определяющие успешность игры закономерности. Это позволит сделать ставку на потенциально популярный продукт и спланировать рекламные кампании."
   ]
  },
  {
   "cell_type": "markdown",
   "metadata": {},
   "source": [
    "__План работы:__\n",
    "\n",
    "1. __Подготовка данных__:\n",
    "\n",
    "     - Импорт нужных библиотек, импорт данных\n",
    "     - Описание данных и предварительный анализ\n",
    "     - Привдение к нижнему регистру)\n",
    "     - Преобразование типов данных \n",
    "     - Выявление и обработка пропусков \n",
    "     - Посчитать суммарные продажи во всех регионах\n",
    "     \n",
    "2. __Исследовательский анализ данных:__\n",
    "\n",
    "     - Ищем колличество игр в разные годы\n",
    "     - Ищем платформы с наибольшими суммарными продажами\n",
    "     - Смотрим распредление продаж по годам\n",
    "     - Выбираем ТОП 5 платформ\n",
    "     - Смотрим распределение продаж в зависимости от жанра игры\n",
    "   \n",
    "3. __Составить портрет пользователя каждого региона:__\n",
    "\n",
    "     - Определяем портрет пользователя региона Северная Америка\n",
    "     - Определяем портрет пользователя региона Европпа\n",
    "     - Определяем портрет пользователя региона Япония\n",
    "     - Определяем влияение рейтинга ESRB на продажи в каждом регионе\n",
    "     \n",
    "4. __Проверить гипотезы__ \n",
    "\n",
    "5. __Написать общий вывод__"
   ]
  },
  {
   "cell_type": "markdown",
   "metadata": {},
   "source": [
    "<div class=\"alert alert-success\">\n",
    "<b>Комментарий ревьюера: ✅</b>\n",
    "\n",
    "Здорово, когда есть вступление в сам проект, каждый сможет быстрее разобраться в концепции / деталях работы. Можно также привести краткий план проведения самой работы и описание используемых столбцов. \n",
    "\n",
    "</div>"
   ]
  },
  {
   "cell_type": "markdown",
   "metadata": {},
   "source": [
    "## Подготовка данных"
   ]
  },
  {
   "cell_type": "markdown",
   "metadata": {},
   "source": [
    "### Импорт нужных библиотек и данных"
   ]
  },
  {
   "cell_type": "code",
   "execution_count": 1,
   "metadata": {},
   "outputs": [],
   "source": [
    "# отключаем предупреждения Anaconda\n",
    "import warnings\n",
    "warnings.simplefilter('ignore')\n",
    "\n",
    "# импорт необходимых в работе библиотек\n",
    "\n",
    "import pandas as pd\n",
    "import numpy as np\n",
    "import pandas as pd\n",
    "import seaborn as sns\n",
    "import matplotlib.pyplot as plt\n",
    "from scipy import stats as st\n",
    "import scipy.stats as stats"
   ]
  },
  {
   "cell_type": "code",
   "execution_count": 2,
   "metadata": {},
   "outputs": [
    {
     "name": "stdout",
     "output_type": "stream",
     "text": [
      "<class 'pandas.core.frame.DataFrame'>\n",
      "RangeIndex: 16715 entries, 0 to 16714\n",
      "Data columns (total 11 columns):\n",
      " #   Column           Non-Null Count  Dtype  \n",
      "---  ------           --------------  -----  \n",
      " 0   Name             16713 non-null  object \n",
      " 1   Platform         16715 non-null  object \n",
      " 2   Year_of_Release  16446 non-null  float64\n",
      " 3   Genre            16713 non-null  object \n",
      " 4   NA_sales         16715 non-null  float64\n",
      " 5   EU_sales         16715 non-null  float64\n",
      " 6   JP_sales         16715 non-null  float64\n",
      " 7   Other_sales      16715 non-null  float64\n",
      " 8   Critic_Score     8137 non-null   float64\n",
      " 9   User_Score       10014 non-null  object \n",
      " 10  Rating           9949 non-null   object \n",
      "dtypes: float64(6), object(5)\n",
      "memory usage: 1.4+ MB\n"
     ]
    }
   ],
   "source": [
    "# импортируем данные\n",
    "data = pd.read_csv('/Users/vikkinigmat/Desktop/Учеба артур/сборный проект -1 /games.csv')\n",
    "data.info()"
   ]
  },
  {
   "cell_type": "markdown",
   "metadata": {},
   "source": [
    "### Описание данных"
   ]
  },
  {
   "cell_type": "markdown",
   "metadata": {},
   "source": [
    "__Описание данных__:\n",
    "\n",
    "__Name__ — название игры\n",
    "\n",
    "__Platform__ — для какой консоли игра выпускалась\n",
    "\n",
    "__Year__ — Год выпуска\n",
    "\n",
    "__Genre__ —  Жанр игры\n",
    "\n",
    "__Publisher__ — компания-издатель\n",
    "\n",
    "__NA_sales__ — продажи в Северной Америке (миллионы проданных копий)\n",
    "\n",
    "__EU_sales__ — продажи в Европе (миллионы проданных копий)\n",
    "\n",
    "__JP_sales__ — продажи в Японии (миллионы проданных копий)\n",
    "\n",
    "__Other_sales__ — продажи в других странах (миллионы проданных копий)\n",
    "\n",
    "__Critic_Score__ — оценка пользователей (максимум 100)\n",
    "\n",
    "__User_Score__ — оценка пользователей платформы (максимум 10)\n",
    "\n",
    "__Rating__ — рейтинг [ESRB]. Рейтинг от организации ESRB (англ. Entertainment Software Rating Board). Эта ассоциация определяет рейтинг компьютерных игр и присваивает им подходящую возрастную категорию."
   ]
  },
  {
   "cell_type": "code",
   "execution_count": 3,
   "metadata": {},
   "outputs": [
    {
     "data": {
      "text/html": [
       "<div>\n",
       "<style scoped>\n",
       "    .dataframe tbody tr th:only-of-type {\n",
       "        vertical-align: middle;\n",
       "    }\n",
       "\n",
       "    .dataframe tbody tr th {\n",
       "        vertical-align: top;\n",
       "    }\n",
       "\n",
       "    .dataframe thead th {\n",
       "        text-align: right;\n",
       "    }\n",
       "</style>\n",
       "<table border=\"1\" class=\"dataframe\">\n",
       "  <thead>\n",
       "    <tr style=\"text-align: right;\">\n",
       "      <th></th>\n",
       "      <th>Name</th>\n",
       "      <th>Platform</th>\n",
       "      <th>Year_of_Release</th>\n",
       "      <th>Genre</th>\n",
       "      <th>NA_sales</th>\n",
       "      <th>EU_sales</th>\n",
       "      <th>JP_sales</th>\n",
       "      <th>Other_sales</th>\n",
       "      <th>Critic_Score</th>\n",
       "      <th>User_Score</th>\n",
       "      <th>Rating</th>\n",
       "    </tr>\n",
       "  </thead>\n",
       "  <tbody>\n",
       "    <tr>\n",
       "      <th>0</th>\n",
       "      <td>Wii Sports</td>\n",
       "      <td>Wii</td>\n",
       "      <td>2006.0</td>\n",
       "      <td>Sports</td>\n",
       "      <td>41.36</td>\n",
       "      <td>28.96</td>\n",
       "      <td>3.77</td>\n",
       "      <td>8.45</td>\n",
       "      <td>76.0</td>\n",
       "      <td>8</td>\n",
       "      <td>E</td>\n",
       "    </tr>\n",
       "    <tr>\n",
       "      <th>1</th>\n",
       "      <td>Super Mario Bros.</td>\n",
       "      <td>NES</td>\n",
       "      <td>1985.0</td>\n",
       "      <td>Platform</td>\n",
       "      <td>29.08</td>\n",
       "      <td>3.58</td>\n",
       "      <td>6.81</td>\n",
       "      <td>0.77</td>\n",
       "      <td>NaN</td>\n",
       "      <td>NaN</td>\n",
       "      <td>NaN</td>\n",
       "    </tr>\n",
       "    <tr>\n",
       "      <th>2</th>\n",
       "      <td>Mario Kart Wii</td>\n",
       "      <td>Wii</td>\n",
       "      <td>2008.0</td>\n",
       "      <td>Racing</td>\n",
       "      <td>15.68</td>\n",
       "      <td>12.76</td>\n",
       "      <td>3.79</td>\n",
       "      <td>3.29</td>\n",
       "      <td>82.0</td>\n",
       "      <td>8.3</td>\n",
       "      <td>E</td>\n",
       "    </tr>\n",
       "    <tr>\n",
       "      <th>3</th>\n",
       "      <td>Wii Sports Resort</td>\n",
       "      <td>Wii</td>\n",
       "      <td>2009.0</td>\n",
       "      <td>Sports</td>\n",
       "      <td>15.61</td>\n",
       "      <td>10.93</td>\n",
       "      <td>3.28</td>\n",
       "      <td>2.95</td>\n",
       "      <td>80.0</td>\n",
       "      <td>8</td>\n",
       "      <td>E</td>\n",
       "    </tr>\n",
       "    <tr>\n",
       "      <th>4</th>\n",
       "      <td>Pokemon Red/Pokemon Blue</td>\n",
       "      <td>GB</td>\n",
       "      <td>1996.0</td>\n",
       "      <td>Role-Playing</td>\n",
       "      <td>11.27</td>\n",
       "      <td>8.89</td>\n",
       "      <td>10.22</td>\n",
       "      <td>1.00</td>\n",
       "      <td>NaN</td>\n",
       "      <td>NaN</td>\n",
       "      <td>NaN</td>\n",
       "    </tr>\n",
       "  </tbody>\n",
       "</table>\n",
       "</div>"
      ],
      "text/plain": [
       "                       Name Platform  Year_of_Release         Genre  NA_sales  \\\n",
       "0                Wii Sports      Wii           2006.0        Sports     41.36   \n",
       "1         Super Mario Bros.      NES           1985.0      Platform     29.08   \n",
       "2            Mario Kart Wii      Wii           2008.0        Racing     15.68   \n",
       "3         Wii Sports Resort      Wii           2009.0        Sports     15.61   \n",
       "4  Pokemon Red/Pokemon Blue       GB           1996.0  Role-Playing     11.27   \n",
       "\n",
       "   EU_sales  JP_sales  Other_sales  Critic_Score User_Score Rating  \n",
       "0     28.96      3.77         8.45          76.0          8      E  \n",
       "1      3.58      6.81         0.77           NaN        NaN    NaN  \n",
       "2     12.76      3.79         3.29          82.0        8.3      E  \n",
       "3     10.93      3.28         2.95          80.0          8      E  \n",
       "4      8.89     10.22         1.00           NaN        NaN    NaN  "
      ]
     },
     "execution_count": 3,
     "metadata": {},
     "output_type": "execute_result"
    }
   ],
   "source": [
    "# предварительный анализ\n",
    "data.head()"
   ]
  },
  {
   "cell_type": "markdown",
   "metadata": {},
   "source": [
    "### Приведение столбцов к нижнему регистру"
   ]
  },
  {
   "cell_type": "code",
   "execution_count": 4,
   "metadata": {},
   "outputs": [],
   "source": [
    "# Приведение названий столбцов к нижнему регистру\n",
    "data.columns = data.columns.str.lower()"
   ]
  },
  {
   "cell_type": "markdown",
   "metadata": {},
   "source": [
    "### Преобразование типов данных"
   ]
  },
  {
   "cell_type": "code",
   "execution_count": 5,
   "metadata": {},
   "outputs": [
    {
     "data": {
      "text/plain": [
       "name                object\n",
       "platform            object\n",
       "year_of_release    float64\n",
       "genre               object\n",
       "na_sales           float64\n",
       "eu_sales           float64\n",
       "jp_sales           float64\n",
       "other_sales        float64\n",
       "critic_score       float64\n",
       "user_score          object\n",
       "rating              object\n",
       "dtype: object"
      ]
     },
     "execution_count": 5,
     "metadata": {},
     "output_type": "execute_result"
    }
   ],
   "source": [
    "# преобразование данных в нужные типы. Описать в каких столбцах заменили тип данных и почему\n",
    "data.dtypes "
   ]
  },
  {
   "cell_type": "code",
   "execution_count": 6,
   "metadata": {},
   "outputs": [],
   "source": [
    "# меняем тип данных\n",
    "\n",
    "data.user_score = data.user_score.replace('tbd', np.NaN) # пропуски'tbd' меняем на nаn для дальнейшего преобразования типа\n",
    "data = data.astype({'year_of_release': 'Int64', 'user_score': 'float64'})\n"
   ]
  },
  {
   "cell_type": "markdown",
   "metadata": {},
   "source": [
    "Меняем тип данных в столбце year_of_release для корректного отражения поля год. Столбец user_score приводим в сооответствие со столбцом critic_score для дальнейшего попарного анализа. "
   ]
  },
  {
   "cell_type": "markdown",
   "metadata": {},
   "source": [
    "### Выявление и обработка пропусков в данных"
   ]
  },
  {
   "cell_type": "code",
   "execution_count": 7,
   "metadata": {},
   "outputs": [
    {
     "data": {
      "text/plain": [
       "name                  2\n",
       "platform              0\n",
       "year_of_release     269\n",
       "genre                 2\n",
       "na_sales              0\n",
       "eu_sales              0\n",
       "jp_sales              0\n",
       "other_sales           0\n",
       "critic_score       8578\n",
       "user_score         9125\n",
       "rating             6766\n",
       "dtype: int64"
      ]
     },
     "execution_count": 7,
     "metadata": {},
     "output_type": "execute_result"
    }
   ],
   "source": [
    "# выявление суммы пропусков\n",
    "data.isna().sum()"
   ]
  },
  {
   "cell_type": "code",
   "execution_count": 8,
   "metadata": {},
   "outputs": [
    {
     "name": "stdout",
     "output_type": "stream",
     "text": [
      "Всего пропущенных значений: 24742\n"
     ]
    }
   ],
   "source": [
    "# Выводим сумму пропущенных значений\n",
    "print('Всего пропущенных значений:', data.isna().sum().sum())"
   ]
  },
  {
   "cell_type": "code",
   "execution_count": 9,
   "metadata": {},
   "outputs": [
    {
     "data": {
      "text/plain": [
       "name                0.0\n",
       "platform            0.0\n",
       "year_of_release     1.6\n",
       "genre               0.0\n",
       "na_sales            0.0\n",
       "eu_sales            0.0\n",
       "jp_sales            0.0\n",
       "other_sales         0.0\n",
       "critic_score       51.3\n",
       "user_score         54.6\n",
       "rating             40.5\n",
       "dtype: float64"
      ]
     },
     "execution_count": 9,
     "metadata": {},
     "output_type": "execute_result"
    }
   ],
   "source": [
    "# Ищем процент пропущенных значений по каждому столбцу\n",
    "percent = (data.isna().sum() * 100 / len(data)).round(1)\n",
    "percent"
   ]
  },
  {
   "cell_type": "code",
   "execution_count": 10,
   "metadata": {},
   "outputs": [
    {
     "data": {
      "text/plain": [
       "name               0.0\n",
       "platform           0.0\n",
       "year_of_release    0.0\n",
       "genre              0.0\n",
       "na_sales           0.0\n",
       "eu_sales           0.0\n",
       "jp_sales           0.0\n",
       "other_sales        0.0\n",
       "critic_score       0.5\n",
       "user_score         0.5\n",
       "rating             0.4\n",
       "dtype: float64"
      ]
     },
     "execution_count": 10,
     "metadata": {},
     "output_type": "execute_result"
    }
   ],
   "source": [
    "data.isna().mean().round(1)"
   ]
  },
  {
   "cell_type": "markdown",
   "metadata": {},
   "source": [
    "Обработаем столбцы с процентом пропусков более 10% - critic_score, user_score, rating. "
   ]
  },
  {
   "cell_type": "code",
   "execution_count": 11,
   "metadata": {
    "scrolled": true
   },
   "outputs": [
    {
     "data": {
      "text/html": [
       "<div>\n",
       "<style scoped>\n",
       "    .dataframe tbody tr th:only-of-type {\n",
       "        vertical-align: middle;\n",
       "    }\n",
       "\n",
       "    .dataframe tbody tr th {\n",
       "        vertical-align: top;\n",
       "    }\n",
       "\n",
       "    .dataframe thead th {\n",
       "        text-align: right;\n",
       "    }\n",
       "</style>\n",
       "<table border=\"1\" class=\"dataframe\">\n",
       "  <thead>\n",
       "    <tr style=\"text-align: right;\">\n",
       "      <th></th>\n",
       "      <th>year_of_release</th>\n",
       "      <th>na_sales</th>\n",
       "      <th>eu_sales</th>\n",
       "      <th>jp_sales</th>\n",
       "      <th>other_sales</th>\n",
       "      <th>critic_score</th>\n",
       "      <th>user_score</th>\n",
       "    </tr>\n",
       "  </thead>\n",
       "  <tbody>\n",
       "    <tr>\n",
       "      <th>year_of_release</th>\n",
       "      <td>1.000000</td>\n",
       "      <td>-0.092500</td>\n",
       "      <td>0.003978</td>\n",
       "      <td>-0.168366</td>\n",
       "      <td>0.037820</td>\n",
       "      <td>0.011411</td>\n",
       "      <td>-0.267851</td>\n",
       "    </tr>\n",
       "    <tr>\n",
       "      <th>na_sales</th>\n",
       "      <td>-0.092500</td>\n",
       "      <td>1.000000</td>\n",
       "      <td>0.765335</td>\n",
       "      <td>0.449594</td>\n",
       "      <td>0.638649</td>\n",
       "      <td>0.240755</td>\n",
       "      <td>0.086200</td>\n",
       "    </tr>\n",
       "    <tr>\n",
       "      <th>eu_sales</th>\n",
       "      <td>0.003978</td>\n",
       "      <td>0.765335</td>\n",
       "      <td>1.000000</td>\n",
       "      <td>0.435061</td>\n",
       "      <td>0.722792</td>\n",
       "      <td>0.220752</td>\n",
       "      <td>0.055337</td>\n",
       "    </tr>\n",
       "    <tr>\n",
       "      <th>jp_sales</th>\n",
       "      <td>-0.168366</td>\n",
       "      <td>0.449594</td>\n",
       "      <td>0.435061</td>\n",
       "      <td>1.000000</td>\n",
       "      <td>0.291089</td>\n",
       "      <td>0.152593</td>\n",
       "      <td>0.125598</td>\n",
       "    </tr>\n",
       "    <tr>\n",
       "      <th>other_sales</th>\n",
       "      <td>0.037820</td>\n",
       "      <td>0.638649</td>\n",
       "      <td>0.722792</td>\n",
       "      <td>0.291089</td>\n",
       "      <td>1.000000</td>\n",
       "      <td>0.198554</td>\n",
       "      <td>0.057119</td>\n",
       "    </tr>\n",
       "    <tr>\n",
       "      <th>critic_score</th>\n",
       "      <td>0.011411</td>\n",
       "      <td>0.240755</td>\n",
       "      <td>0.220752</td>\n",
       "      <td>0.152593</td>\n",
       "      <td>0.198554</td>\n",
       "      <td>1.000000</td>\n",
       "      <td>0.580878</td>\n",
       "    </tr>\n",
       "    <tr>\n",
       "      <th>user_score</th>\n",
       "      <td>-0.267851</td>\n",
       "      <td>0.086200</td>\n",
       "      <td>0.055337</td>\n",
       "      <td>0.125598</td>\n",
       "      <td>0.057119</td>\n",
       "      <td>0.580878</td>\n",
       "      <td>1.000000</td>\n",
       "    </tr>\n",
       "  </tbody>\n",
       "</table>\n",
       "</div>"
      ],
      "text/plain": [
       "                 year_of_release  na_sales  eu_sales  jp_sales  other_sales  \\\n",
       "year_of_release         1.000000 -0.092500  0.003978 -0.168366     0.037820   \n",
       "na_sales               -0.092500  1.000000  0.765335  0.449594     0.638649   \n",
       "eu_sales                0.003978  0.765335  1.000000  0.435061     0.722792   \n",
       "jp_sales               -0.168366  0.449594  0.435061  1.000000     0.291089   \n",
       "other_sales             0.037820  0.638649  0.722792  0.291089     1.000000   \n",
       "critic_score            0.011411  0.240755  0.220752  0.152593     0.198554   \n",
       "user_score             -0.267851  0.086200  0.055337  0.125598     0.057119   \n",
       "\n",
       "                 critic_score  user_score  \n",
       "year_of_release      0.011411   -0.267851  \n",
       "na_sales             0.240755    0.086200  \n",
       "eu_sales             0.220752    0.055337  \n",
       "jp_sales             0.152593    0.125598  \n",
       "other_sales          0.198554    0.057119  \n",
       "critic_score         1.000000    0.580878  \n",
       "user_score           0.580878    1.000000  "
      ]
     },
     "execution_count": 11,
     "metadata": {},
     "output_type": "execute_result"
    }
   ],
   "source": [
    "# смотрим зависимость показателей друг от друга в таблице перед тем как обрабатывать пропуски\n",
    "data.corr()"
   ]
  },
  {
   "cell_type": "code",
   "execution_count": 12,
   "metadata": {},
   "outputs": [
    {
     "data": {
      "image/png": "[encoded data removed]",
      "text/plain": [
       "<Figure size 640x480 with 2 Axes>"
      ]
     },
     "metadata": {},
     "output_type": "display_data"
    }
   ],
   "source": [
    "sns.heatmap(data.corr(), annot=True).set_title(\"График зависимости всех переменных\")\n",
    "plt.show()"
   ]
  },
  {
   "cell_type": "markdown",
   "metadata": {},
   "source": [
    "Не вижу сильной зависимости между столбцами. "
   ]
  },
  {
   "cell_type": "code",
   "execution_count": 13,
   "metadata": {},
   "outputs": [
    {
     "name": "stdout",
     "output_type": "stream",
     "text": [
      "Всего пропущенных значений: 0\n"
     ]
    }
   ],
   "source": [
    "# заполняем проупуски\n",
    "\n",
    "data = data.fillna({'critic_score': '-1','user_score': '-1'})\n",
    "data = data.dropna(subset=('year_of_release', 'name'))\n",
    "data.rating = data.rating.replace(np.NaN,'-1')\n",
    "\n",
    "# проверяем колличество пропусков после обработки\n",
    "print('Всего пропущенных значений:', data.isna().sum().sum())"
   ]
  },
  {
   "cell_type": "code",
   "execution_count": 14,
   "metadata": {},
   "outputs": [
    {
     "data": {
      "text/html": [
       "<div>\n",
       "<style scoped>\n",
       "    .dataframe tbody tr th:only-of-type {\n",
       "        vertical-align: middle;\n",
       "    }\n",
       "\n",
       "    .dataframe tbody tr th {\n",
       "        vertical-align: top;\n",
       "    }\n",
       "\n",
       "    .dataframe thead th {\n",
       "        text-align: right;\n",
       "    }\n",
       "</style>\n",
       "<table border=\"1\" class=\"dataframe\">\n",
       "  <thead>\n",
       "    <tr style=\"text-align: right;\">\n",
       "      <th></th>\n",
       "      <th>name</th>\n",
       "      <th>platform</th>\n",
       "      <th>year_of_release</th>\n",
       "      <th>genre</th>\n",
       "      <th>na_sales</th>\n",
       "      <th>eu_sales</th>\n",
       "      <th>jp_sales</th>\n",
       "      <th>other_sales</th>\n",
       "      <th>critic_score</th>\n",
       "      <th>user_score</th>\n",
       "      <th>rating</th>\n",
       "    </tr>\n",
       "  </thead>\n",
       "  <tbody>\n",
       "    <tr>\n",
       "      <th>0</th>\n",
       "      <td>Wii Sports</td>\n",
       "      <td>Wii</td>\n",
       "      <td>2006</td>\n",
       "      <td>Sports</td>\n",
       "      <td>41.36</td>\n",
       "      <td>28.96</td>\n",
       "      <td>3.77</td>\n",
       "      <td>8.45</td>\n",
       "      <td>76.0</td>\n",
       "      <td>8.0</td>\n",
       "      <td>E</td>\n",
       "    </tr>\n",
       "    <tr>\n",
       "      <th>1</th>\n",
       "      <td>Super Mario Bros.</td>\n",
       "      <td>NES</td>\n",
       "      <td>1985</td>\n",
       "      <td>Platform</td>\n",
       "      <td>29.08</td>\n",
       "      <td>3.58</td>\n",
       "      <td>6.81</td>\n",
       "      <td>0.77</td>\n",
       "      <td>-1</td>\n",
       "      <td>-1</td>\n",
       "      <td>-1</td>\n",
       "    </tr>\n",
       "    <tr>\n",
       "      <th>2</th>\n",
       "      <td>Mario Kart Wii</td>\n",
       "      <td>Wii</td>\n",
       "      <td>2008</td>\n",
       "      <td>Racing</td>\n",
       "      <td>15.68</td>\n",
       "      <td>12.76</td>\n",
       "      <td>3.79</td>\n",
       "      <td>3.29</td>\n",
       "      <td>82.0</td>\n",
       "      <td>8.3</td>\n",
       "      <td>E</td>\n",
       "    </tr>\n",
       "    <tr>\n",
       "      <th>3</th>\n",
       "      <td>Wii Sports Resort</td>\n",
       "      <td>Wii</td>\n",
       "      <td>2009</td>\n",
       "      <td>Sports</td>\n",
       "      <td>15.61</td>\n",
       "      <td>10.93</td>\n",
       "      <td>3.28</td>\n",
       "      <td>2.95</td>\n",
       "      <td>80.0</td>\n",
       "      <td>8.0</td>\n",
       "      <td>E</td>\n",
       "    </tr>\n",
       "    <tr>\n",
       "      <th>4</th>\n",
       "      <td>Pokemon Red/Pokemon Blue</td>\n",
       "      <td>GB</td>\n",
       "      <td>1996</td>\n",
       "      <td>Role-Playing</td>\n",
       "      <td>11.27</td>\n",
       "      <td>8.89</td>\n",
       "      <td>10.22</td>\n",
       "      <td>1.00</td>\n",
       "      <td>-1</td>\n",
       "      <td>-1</td>\n",
       "      <td>-1</td>\n",
       "    </tr>\n",
       "  </tbody>\n",
       "</table>\n",
       "</div>"
      ],
      "text/plain": [
       "                       name platform  year_of_release         genre  na_sales  \\\n",
       "0                Wii Sports      Wii             2006        Sports     41.36   \n",
       "1         Super Mario Bros.      NES             1985      Platform     29.08   \n",
       "2            Mario Kart Wii      Wii             2008        Racing     15.68   \n",
       "3         Wii Sports Resort      Wii             2009        Sports     15.61   \n",
       "4  Pokemon Red/Pokemon Blue       GB             1996  Role-Playing     11.27   \n",
       "\n",
       "   eu_sales  jp_sales  other_sales critic_score user_score rating  \n",
       "0     28.96      3.77         8.45         76.0        8.0      E  \n",
       "1      3.58      6.81         0.77           -1         -1     -1  \n",
       "2     12.76      3.79         3.29         82.0        8.3      E  \n",
       "3     10.93      3.28         2.95         80.0        8.0      E  \n",
       "4      8.89     10.22         1.00           -1         -1     -1  "
      ]
     },
     "execution_count": 14,
     "metadata": {},
     "output_type": "execute_result"
    }
   ],
   "source": [
    "data.head()"
   ]
  },
  {
   "cell_type": "markdown",
   "metadata": {},
   "source": [
    "Пропуски в столбцах critic_score и critic_score заменил на -1. Замена пропусков на 0 или медиану может исказить исследование с применением этих столбцов. Данные с \"-1\" покажут колличество пропусков на графике. Пропуски в столбцах year_of_release и name удалил, так как пропуски в этих столбцах менее 1%. Пропуски в столбце rating временно заменил на \"-1\". \n",
    "\n",
    "Пропуск tbd в столбце user_score заменил в 6 ячейке для возможного преобразования типа. tbd по одной из версий расшифровывается как \"рейтинг еще не известен\". Применил сокращение для пропусков в столце rating."
   ]
  },
  {
   "cell_type": "markdown",
   "metadata": {},
   "source": [
    "### Считаю суммарные продажи во всех регионах"
   ]
  },
  {
   "cell_type": "code",
   "execution_count": 15,
   "metadata": {},
   "outputs": [
    {
     "data": {
      "text/plain": [
       "0    82.54\n",
       "1    40.24\n",
       "2    35.52\n",
       "3    32.77\n",
       "4    31.38\n",
       "Name: all_sales, dtype: float64"
      ]
     },
     "execution_count": 15,
     "metadata": {},
     "output_type": "execute_result"
    }
   ],
   "source": [
    "# Создаем новый столбец all_sales и считаем сумму по трем столбцам\n",
    "data['all_sales'] = data[['eu_sales', 'jp_sales', 'na_sales','other_sales']].sum(axis=1)\n",
    "data['all_sales'].sort_values(ascending = False).head(5)"
   ]
  },
  {
   "cell_type": "code",
   "execution_count": 16,
   "metadata": {},
   "outputs": [
    {
     "data": {
      "text/plain": [
       "eu_sales       2399.7\n",
       "jp_sales       1290.6\n",
       "na_sales       4341.4\n",
       "other_sales     782.6\n",
       "dtype: float64"
      ]
     },
     "execution_count": 16,
     "metadata": {},
     "output_type": "execute_result"
    }
   ],
   "source": [
    "# Ищем соотношение продаж в разных регионах в абсолютном выражении\n",
    "data[['eu_sales', 'jp_sales', 'na_sales','other_sales']].sum().round(1)"
   ]
  },
  {
   "cell_type": "code",
   "execution_count": 17,
   "metadata": {},
   "outputs": [
    {
     "data": {
      "text/plain": [
       "na_sales       49.3\n",
       "eu_sales       27.2\n",
       "jp_sales       14.6\n",
       "other_sales     8.9\n",
       "dtype: float64"
      ]
     },
     "execution_count": 17,
     "metadata": {},
     "output_type": "execute_result"
    }
   ],
   "source": [
    "# Ищем соотношение продаж в разных регионах\n",
    "percent_region = (data[['eu_sales', 'jp_sales', 'na_sales','other_sales']].sum() * 100 / \n",
    "                  data['all_sales'].sum()).round(1)\n",
    "percent_region.sort_values(ascending = False)"
   ]
  },
  {
   "cell_type": "markdown",
   "metadata": {},
   "source": [
    "Рынок Америки абсолютный лидер, почти вдовое меньше продает Европпа. Тройку замыкает Япония с обьемом продаж вдвое меньше, чем у лидеров Европпы и Америки, но больше в два раза, чем у остального мирового рынка."
   ]
  },
  {
   "cell_type": "markdown",
   "metadata": {},
   "source": [
    "## Исследовательский анализ данных"
   ]
  },
  {
   "cell_type": "markdown",
   "metadata": {},
   "source": [
    "### Ищем кол-во игр в разные годы "
   ]
  },
  {
   "cell_type": "code",
   "execution_count": 18,
   "metadata": {},
   "outputs": [
    {
     "data": {
      "text/plain": [
       "year_of_release\n",
       "1980       9\n",
       "1981      46\n",
       "1982      36\n",
       "1983      17\n",
       "1984      14\n",
       "1985      14\n",
       "1986      21\n",
       "1987      16\n",
       "1988      15\n",
       "1989      17\n",
       "1990      16\n",
       "1991      41\n",
       "1992      43\n",
       "1993      60\n",
       "1994     121\n",
       "1995     219\n",
       "1996     263\n",
       "1997     289\n",
       "1998     379\n",
       "1999     338\n",
       "2000     350\n",
       "2001     482\n",
       "2002     829\n",
       "2003     775\n",
       "2004     762\n",
       "2005     939\n",
       "2006    1006\n",
       "2007    1197\n",
       "2008    1427\n",
       "2009    1426\n",
       "2010    1255\n",
       "2011    1136\n",
       "2012     653\n",
       "2013     544\n",
       "2014     581\n",
       "2015     606\n",
       "2016     502\n",
       "Name: name, dtype: int64"
      ]
     },
     "execution_count": 18,
     "metadata": {},
     "output_type": "execute_result"
    }
   ],
   "source": [
    "# Ищем колличество игр в разные годы\n",
    "data.count_name_in_year = data.groupby('year_of_release')['name'].count()\n",
    "data.count_name_in_year"
   ]
  },
  {
   "cell_type": "code",
   "execution_count": 19,
   "metadata": {},
   "outputs": [
    {
     "data": {
      "image/png": "[encoded data removed]",
      "text/plain": [
       "<Figure size 2000x1000 with 1 Axes>"
      ]
     },
     "metadata": {},
     "output_type": "display_data"
    }
   ],
   "source": [
    "# Строим график распределения колличества игр в разные годы\n",
    "data.count_name_in_year.plot(y='count_name_in_year', kind='bar', figsize = (20,10),grid=True, \n",
    "                             title='Расределение колличества игр в разные годы')\n",
    "plt.show()"
   ]
  },
  {
   "cell_type": "markdown",
   "metadata": {},
   "source": [
    "Больше всего игр выпусколось в период 2007-2011 гг. Начиная с 2012 года колличество игр сократилось почти в двое. Возможно это связано с усложнением игр и соответственным удорожанием. Так как нам известно лишь колличество игр, но не их цена, то предположу, что с сокращением колличества и работой над качеством, игровая индустрия не стала меньше зарабатывать.  "
   ]
  },
  {
   "cell_type": "markdown",
   "metadata": {},
   "source": [
    "### Ищем платформы с наибольшими суммарными продажами"
   ]
  },
  {
   "cell_type": "code",
   "execution_count": 20,
   "metadata": {},
   "outputs": [
    {
     "data": {
      "text/html": [
       "<div>\n",
       "<style scoped>\n",
       "    .dataframe tbody tr th:only-of-type {\n",
       "        vertical-align: middle;\n",
       "    }\n",
       "\n",
       "    .dataframe tbody tr th {\n",
       "        vertical-align: top;\n",
       "    }\n",
       "\n",
       "    .dataframe thead th {\n",
       "        text-align: right;\n",
       "    }\n",
       "</style>\n",
       "<table border=\"1\" class=\"dataframe\">\n",
       "  <thead>\n",
       "    <tr style=\"text-align: right;\">\n",
       "      <th></th>\n",
       "      <th>all_sales</th>\n",
       "    </tr>\n",
       "    <tr>\n",
       "      <th>platform</th>\n",
       "      <th></th>\n",
       "    </tr>\n",
       "  </thead>\n",
       "  <tbody>\n",
       "    <tr>\n",
       "      <th>PS2</th>\n",
       "      <td>1233.56</td>\n",
       "    </tr>\n",
       "    <tr>\n",
       "      <th>X360</th>\n",
       "      <td>961.24</td>\n",
       "    </tr>\n",
       "    <tr>\n",
       "      <th>PS3</th>\n",
       "      <td>931.34</td>\n",
       "    </tr>\n",
       "    <tr>\n",
       "      <th>Wii</th>\n",
       "      <td>891.18</td>\n",
       "    </tr>\n",
       "    <tr>\n",
       "      <th>DS</th>\n",
       "      <td>802.78</td>\n",
       "    </tr>\n",
       "  </tbody>\n",
       "</table>\n",
       "</div>"
      ],
      "text/plain": [
       "          all_sales\n",
       "platform           \n",
       "PS2         1233.56\n",
       "X360         961.24\n",
       "PS3          931.34\n",
       "Wii          891.18\n",
       "DS           802.78"
      ]
     },
     "execution_count": 20,
     "metadata": {},
     "output_type": "execute_result"
    }
   ],
   "source": [
    "# Ищем топ продаж по разным платформам\n",
    "top_platform_sales = pd.pivot_table(data, index= 'platform', values ='all_sales', aggfunc ='sum')\n",
    "top_platform_sales.sort_values(by= 'all_sales', ascending = False).head(5)"
   ]
  },
  {
   "cell_type": "code",
   "execution_count": 21,
   "metadata": {},
   "outputs": [
    {
     "data": {
      "text/html": [
       "<div>\n",
       "<style scoped>\n",
       "    .dataframe tbody tr th:only-of-type {\n",
       "        vertical-align: middle;\n",
       "    }\n",
       "\n",
       "    .dataframe tbody tr th {\n",
       "        vertical-align: top;\n",
       "    }\n",
       "\n",
       "    .dataframe thead th {\n",
       "        text-align: right;\n",
       "    }\n",
       "</style>\n",
       "<table border=\"1\" class=\"dataframe\">\n",
       "  <thead>\n",
       "    <tr style=\"text-align: right;\">\n",
       "      <th></th>\n",
       "      <th>all_sales</th>\n",
       "    </tr>\n",
       "    <tr>\n",
       "      <th>platform</th>\n",
       "      <th></th>\n",
       "    </tr>\n",
       "  </thead>\n",
       "  <tbody>\n",
       "    <tr>\n",
       "      <th>PS2</th>\n",
       "      <td>1233.56</td>\n",
       "    </tr>\n",
       "    <tr>\n",
       "      <th>X360</th>\n",
       "      <td>961.24</td>\n",
       "    </tr>\n",
       "    <tr>\n",
       "      <th>PS3</th>\n",
       "      <td>931.34</td>\n",
       "    </tr>\n",
       "    <tr>\n",
       "      <th>Wii</th>\n",
       "      <td>891.18</td>\n",
       "    </tr>\n",
       "    <tr>\n",
       "      <th>DS</th>\n",
       "      <td>802.78</td>\n",
       "    </tr>\n",
       "    <tr>\n",
       "      <th>PS</th>\n",
       "      <td>727.58</td>\n",
       "    </tr>\n",
       "    <tr>\n",
       "      <th>PS4</th>\n",
       "      <td>314.14</td>\n",
       "    </tr>\n",
       "    <tr>\n",
       "      <th>GBA</th>\n",
       "      <td>312.88</td>\n",
       "    </tr>\n",
       "    <tr>\n",
       "      <th>PSP</th>\n",
       "      <td>289.53</td>\n",
       "    </tr>\n",
       "    <tr>\n",
       "      <th>3DS</th>\n",
       "      <td>257.81</td>\n",
       "    </tr>\n",
       "    <tr>\n",
       "      <th>PC</th>\n",
       "      <td>255.76</td>\n",
       "    </tr>\n",
       "    <tr>\n",
       "      <th>GB</th>\n",
       "      <td>254.43</td>\n",
       "    </tr>\n",
       "    <tr>\n",
       "      <th>XB</th>\n",
       "      <td>251.57</td>\n",
       "    </tr>\n",
       "    <tr>\n",
       "      <th>NES</th>\n",
       "      <td>251.05</td>\n",
       "    </tr>\n",
       "  </tbody>\n",
       "</table>\n",
       "</div>"
      ],
      "text/plain": [
       "          all_sales\n",
       "platform           \n",
       "PS2         1233.56\n",
       "X360         961.24\n",
       "PS3          931.34\n",
       "Wii          891.18\n",
       "DS           802.78\n",
       "PS           727.58\n",
       "PS4          314.14\n",
       "GBA          312.88\n",
       "PSP          289.53\n",
       "3DS          257.81\n",
       "PC           255.76\n",
       "GB           254.43\n",
       "XB           251.57\n",
       "NES          251.05"
      ]
     },
     "execution_count": 21,
     "metadata": {},
     "output_type": "execute_result"
    }
   ],
   "source": [
    "# выбираем топ10 платформ с колличеством продаж более 245 млн.копий\n",
    "top_platform_sales = top_platform_sales.loc[top_platform_sales['all_sales'] > 245]\n",
    "top_platform_sales.sort_values(by= 'all_sales', ascending = False)"
   ]
  },
  {
   "cell_type": "code",
   "execution_count": 22,
   "metadata": {
    "scrolled": true
   },
   "outputs": [
    {
     "data": {
      "image/png": "[encoded data removed]",
      "text/plain": [
       "<Figure size 1000x300 with 1 Axes>"
      ]
     },
     "metadata": {},
     "output_type": "display_data"
    }
   ],
   "source": [
    "# Строим график распределения продаж по разным платформам из ТОП10\n",
    "top_platform_sales.sort_values(by= 'all_sales', ascending = False).plot(y='all_sales', kind='bar', \n",
    "     figsize = (10,3),grid=True, title='Топ продаж по разным платформам')\n",
    "plt.show()"
   ]
  },
  {
   "cell_type": "markdown",
   "metadata": {},
   "source": [
    "В топ 5 продаж входят платформы PS2, X360, Wii, PS3, DS, PS с оборотом более 700 млн.копий каждый. Ближайшие к ним продавали почти вдвое меньше или менее 305 млн.копий. "
   ]
  },
  {
   "cell_type": "markdown",
   "metadata": {},
   "source": [
    "### Смотрим распределение продаж по годам"
   ]
  },
  {
   "cell_type": "code",
   "execution_count": 23,
   "metadata": {},
   "outputs": [
    {
     "data": {
      "text/html": [
       "<div>\n",
       "<style scoped>\n",
       "    .dataframe tbody tr th:only-of-type {\n",
       "        vertical-align: middle;\n",
       "    }\n",
       "\n",
       "    .dataframe tbody tr th {\n",
       "        vertical-align: top;\n",
       "    }\n",
       "\n",
       "    .dataframe thead th {\n",
       "        text-align: right;\n",
       "    }\n",
       "</style>\n",
       "<table border=\"1\" class=\"dataframe\">\n",
       "  <thead>\n",
       "    <tr style=\"text-align: right;\">\n",
       "      <th></th>\n",
       "      <th></th>\n",
       "      <th>all_sales</th>\n",
       "    </tr>\n",
       "    <tr>\n",
       "      <th>platform</th>\n",
       "      <th>year_of_release</th>\n",
       "      <th></th>\n",
       "    </tr>\n",
       "  </thead>\n",
       "  <tbody>\n",
       "    <tr>\n",
       "      <th>PS2</th>\n",
       "      <th>2004</th>\n",
       "      <td>211.81</td>\n",
       "    </tr>\n",
       "    <tr>\n",
       "      <th>Wii</th>\n",
       "      <th>2009</th>\n",
       "      <td>206.97</td>\n",
       "    </tr>\n",
       "    <tr>\n",
       "      <th rowspan=\"2\" valign=\"top\">PS2</th>\n",
       "      <th>2002</th>\n",
       "      <td>205.38</td>\n",
       "    </tr>\n",
       "    <tr>\n",
       "      <th>2003</th>\n",
       "      <td>184.31</td>\n",
       "    </tr>\n",
       "    <tr>\n",
       "      <th>Wii</th>\n",
       "      <th>2008</th>\n",
       "      <td>171.32</td>\n",
       "    </tr>\n",
       "    <tr>\n",
       "      <th>X360</th>\n",
       "      <th>2010</th>\n",
       "      <td>170.03</td>\n",
       "    </tr>\n",
       "    <tr>\n",
       "      <th>PS</th>\n",
       "      <th>1998</th>\n",
       "      <td>169.49</td>\n",
       "    </tr>\n",
       "    <tr>\n",
       "      <th rowspan=\"2\" valign=\"top\">PS2</th>\n",
       "      <th>2001</th>\n",
       "      <td>166.43</td>\n",
       "    </tr>\n",
       "    <tr>\n",
       "      <th>2005</th>\n",
       "      <td>160.66</td>\n",
       "    </tr>\n",
       "    <tr>\n",
       "      <th>PS3</th>\n",
       "      <th>2011</th>\n",
       "      <td>156.78</td>\n",
       "    </tr>\n",
       "  </tbody>\n",
       "</table>\n",
       "</div>"
      ],
      "text/plain": [
       "                          all_sales\n",
       "platform year_of_release           \n",
       "PS2      2004                211.81\n",
       "Wii      2009                206.97\n",
       "PS2      2002                205.38\n",
       "         2003                184.31\n",
       "Wii      2008                171.32\n",
       "X360     2010                170.03\n",
       "PS       1998                169.49\n",
       "PS2      2001                166.43\n",
       "         2005                160.66\n",
       "PS3      2011                156.78"
      ]
     },
     "execution_count": 23,
     "metadata": {},
     "output_type": "execute_result"
    }
   ],
   "source": [
    "# найдем распредление топ продаж платформ по годам\n",
    "\n",
    "top_platform_sales_years = pd.pivot_table(data, index= ['platform', 'year_of_release'], \n",
    "                                          values ='all_sales', aggfunc ='sum')\n",
    "top_platform_sales_years.sort_values(by= 'all_sales', ascending = False).head(10)\n"
   ]
  },
  {
   "cell_type": "code",
   "execution_count": 24,
   "metadata": {},
   "outputs": [
    {
     "data": {
      "text/html": [
       "<div>\n",
       "<style scoped>\n",
       "    .dataframe tbody tr th:only-of-type {\n",
       "        vertical-align: middle;\n",
       "    }\n",
       "\n",
       "    .dataframe tbody tr th {\n",
       "        vertical-align: top;\n",
       "    }\n",
       "\n",
       "    .dataframe thead th {\n",
       "        text-align: right;\n",
       "    }\n",
       "</style>\n",
       "<table border=\"1\" class=\"dataframe\">\n",
       "  <thead>\n",
       "    <tr style=\"text-align: right;\">\n",
       "      <th></th>\n",
       "      <th></th>\n",
       "      <th>all_sales</th>\n",
       "    </tr>\n",
       "    <tr>\n",
       "      <th>platform</th>\n",
       "      <th>year_of_release</th>\n",
       "      <th></th>\n",
       "    </tr>\n",
       "  </thead>\n",
       "  <tbody>\n",
       "    <tr>\n",
       "      <th>PS2</th>\n",
       "      <th>2004</th>\n",
       "      <td>211.81</td>\n",
       "    </tr>\n",
       "    <tr>\n",
       "      <th>Wii</th>\n",
       "      <th>2009</th>\n",
       "      <td>206.97</td>\n",
       "    </tr>\n",
       "    <tr>\n",
       "      <th rowspan=\"2\" valign=\"top\">PS2</th>\n",
       "      <th>2002</th>\n",
       "      <td>205.38</td>\n",
       "    </tr>\n",
       "    <tr>\n",
       "      <th>2003</th>\n",
       "      <td>184.31</td>\n",
       "    </tr>\n",
       "    <tr>\n",
       "      <th>Wii</th>\n",
       "      <th>2008</th>\n",
       "      <td>171.32</td>\n",
       "    </tr>\n",
       "    <tr>\n",
       "      <th>X360</th>\n",
       "      <th>2010</th>\n",
       "      <td>170.03</td>\n",
       "    </tr>\n",
       "    <tr>\n",
       "      <th>PS</th>\n",
       "      <th>1998</th>\n",
       "      <td>169.49</td>\n",
       "    </tr>\n",
       "    <tr>\n",
       "      <th rowspan=\"2\" valign=\"top\">PS2</th>\n",
       "      <th>2001</th>\n",
       "      <td>166.43</td>\n",
       "    </tr>\n",
       "    <tr>\n",
       "      <th>2005</th>\n",
       "      <td>160.66</td>\n",
       "    </tr>\n",
       "    <tr>\n",
       "      <th>PS3</th>\n",
       "      <th>2011</th>\n",
       "      <td>156.78</td>\n",
       "    </tr>\n",
       "  </tbody>\n",
       "</table>\n",
       "</div>"
      ],
      "text/plain": [
       "                          all_sales\n",
       "platform year_of_release           \n",
       "PS2      2004                211.81\n",
       "Wii      2009                206.97\n",
       "PS2      2002                205.38\n",
       "         2003                184.31\n",
       "Wii      2008                171.32\n",
       "X360     2010                170.03\n",
       "PS       1998                169.49\n",
       "PS2      2001                166.43\n",
       "         2005                160.66\n",
       "PS3      2011                156.78"
      ]
     },
     "execution_count": 24,
     "metadata": {},
     "output_type": "execute_result"
    }
   ],
   "source": [
    "# Возьмем топ продаж с оборотом более 150 млн.копий в год.\n",
    "\n",
    "top_platform_sales_years = top_platform_sales_years.loc[top_platform_sales_years['all_sales'] > 100]\n",
    "top_platform_sales_years.sort_values(by= 'all_sales', ascending = False).head(10)"
   ]
  },
  {
   "cell_type": "code",
   "execution_count": 25,
   "metadata": {
    "scrolled": false
   },
   "outputs": [
    {
     "data": {
      "image/png": "[encoded data removed]",
      "text/plain": [
       "<Figure size 2000x500 with 1 Axes>"
      ]
     },
     "metadata": {},
     "output_type": "display_data"
    }
   ],
   "source": [
    "top_platform_sales_years.sort_values(by= 'year_of_release', ascending = True).plot(y='all_sales', \n",
    "    kind='bar', ylim=(95,220), figsize = (20,5),grid=True, title='Расределение ТОП продаж платформ по годам')\n",
    "plt.show()"
   ]
  },
  {
   "cell_type": "markdown",
   "metadata": {},
   "source": [
    "Нельзя сказать, что есть четкая закономерность взлета и упадка какой-либо платформы. Усредненно можно сказать, что большинство платформ во второй и третий год делали максимум продаж с постепенным упадком в течении последующих 2 лет. Учитывая эту закономерность, платформа PS, PS2, PS3, PS4 сохраняя имя и оценки пользователей начала выпускать новые версии приставки каждые 3-4 года."
   ]
  },
  {
   "cell_type": "markdown",
   "metadata": {},
   "source": [
    "### Выбираем временной период и топ 5 для более корретного прогноза продаж на 2017 г."
   ]
  },
  {
   "cell_type": "code",
   "execution_count": 26,
   "metadata": {},
   "outputs": [
    {
     "ename": "ValueError",
     "evalue": "unknown type object",
     "output_type": "error",
     "traceback": [
      "\u001b[0;31m---------------------------------------------------------------------------\u001b[0m",
      "\u001b[0;31mValueError\u001b[0m                                Traceback (most recent call last)",
      "\u001b[0;32m/var/folders/yb/x1hbj8pj2916nwymb1xy1m440000gn/T/ipykernel_43534/1454982120.py\u001b[0m in \u001b[0;36m<module>\u001b[0;34m\u001b[0m\n\u001b[1;32m      1\u001b[0m \u001b[0;31m# Возьмем в качестве актуального периода для прогноза продаж в 2017 г. период 2014-2016 гг. и топ 5 платформ по продажам\u001b[0m\u001b[0;34m\u001b[0m\u001b[0;34m\u001b[0m\u001b[0m\n\u001b[1;32m      2\u001b[0m \u001b[0;34m\u001b[0m\u001b[0m\n\u001b[0;32m----> 3\u001b[0;31m \u001b[0mtop_platform_sales_years\u001b[0m \u001b[0;34m=\u001b[0m \u001b[0mtop_platform_sales_years\u001b[0m\u001b[0;34m.\u001b[0m\u001b[0mquery\u001b[0m\u001b[0;34m(\u001b[0m\u001b[0;34m'year_of_release >= 2014'\u001b[0m\u001b[0;34m)\u001b[0m\u001b[0;34m\u001b[0m\u001b[0;34m\u001b[0m\u001b[0m\n\u001b[0m\u001b[1;32m      4\u001b[0m \u001b[0mtop_platform_sales_years\u001b[0m \u001b[0;34m=\u001b[0m \u001b[0mtop_platform_sales_years\u001b[0m\u001b[0;34m.\u001b[0m\u001b[0mquery\u001b[0m\u001b[0;34m(\u001b[0m\u001b[0;34m'all_sales >= 30'\u001b[0m\u001b[0;34m)\u001b[0m\u001b[0;34m\u001b[0m\u001b[0;34m\u001b[0m\u001b[0m\n",
      "\u001b[0;32m~/opt/anaconda3/lib/python3.9/site-packages/pandas/core/frame.py\u001b[0m in \u001b[0;36mquery\u001b[0;34m(self, expr, inplace, **kwargs)\u001b[0m\n\u001b[1;32m   4109\u001b[0m         \u001b[0mkwargs\u001b[0m\u001b[0;34m[\u001b[0m\u001b[0;34m\"level\"\u001b[0m\u001b[0;34m]\u001b[0m \u001b[0;34m=\u001b[0m \u001b[0mkwargs\u001b[0m\u001b[0;34m.\u001b[0m\u001b[0mpop\u001b[0m\u001b[0;34m(\u001b[0m\u001b[0;34m\"level\"\u001b[0m\u001b[0;34m,\u001b[0m \u001b[0;36m0\u001b[0m\u001b[0;34m)\u001b[0m \u001b[0;34m+\u001b[0m \u001b[0;36m1\u001b[0m\u001b[0;34m\u001b[0m\u001b[0;34m\u001b[0m\u001b[0m\n\u001b[1;32m   4110\u001b[0m         \u001b[0mkwargs\u001b[0m\u001b[0;34m[\u001b[0m\u001b[0;34m\"target\"\u001b[0m\u001b[0;34m]\u001b[0m \u001b[0;34m=\u001b[0m \u001b[0;32mNone\u001b[0m\u001b[0;34m\u001b[0m\u001b[0;34m\u001b[0m\u001b[0m\n\u001b[0;32m-> 4111\u001b[0;31m         \u001b[0mres\u001b[0m \u001b[0;34m=\u001b[0m \u001b[0mself\u001b[0m\u001b[0;34m.\u001b[0m\u001b[0meval\u001b[0m\u001b[0;34m(\u001b[0m\u001b[0mexpr\u001b[0m\u001b[0;34m,\u001b[0m \u001b[0;34m**\u001b[0m\u001b[0mkwargs\u001b[0m\u001b[0;34m)\u001b[0m\u001b[0;34m\u001b[0m\u001b[0;34m\u001b[0m\u001b[0m\n\u001b[0m\u001b[1;32m   4112\u001b[0m \u001b[0;34m\u001b[0m\u001b[0m\n\u001b[1;32m   4113\u001b[0m         \u001b[0;32mtry\u001b[0m\u001b[0;34m:\u001b[0m\u001b[0;34m\u001b[0m\u001b[0;34m\u001b[0m\u001b[0m\n",
      "\u001b[0;32m~/opt/anaconda3/lib/python3.9/site-packages/pandas/core/frame.py\u001b[0m in \u001b[0;36meval\u001b[0;34m(self, expr, inplace, **kwargs)\u001b[0m\n\u001b[1;32m   4238\u001b[0m         \u001b[0mkwargs\u001b[0m\u001b[0;34m[\u001b[0m\u001b[0;34m\"resolvers\"\u001b[0m\u001b[0;34m]\u001b[0m \u001b[0;34m=\u001b[0m \u001b[0mtuple\u001b[0m\u001b[0;34m(\u001b[0m\u001b[0mkwargs\u001b[0m\u001b[0;34m.\u001b[0m\u001b[0mget\u001b[0m\u001b[0;34m(\u001b[0m\u001b[0;34m\"resolvers\"\u001b[0m\u001b[0;34m,\u001b[0m \u001b[0;34m(\u001b[0m\u001b[0;34m)\u001b[0m\u001b[0;34m)\u001b[0m\u001b[0;34m)\u001b[0m \u001b[0;34m+\u001b[0m \u001b[0mresolvers\u001b[0m\u001b[0;34m\u001b[0m\u001b[0;34m\u001b[0m\u001b[0m\n\u001b[1;32m   4239\u001b[0m \u001b[0;34m\u001b[0m\u001b[0m\n\u001b[0;32m-> 4240\u001b[0;31m         \u001b[0;32mreturn\u001b[0m \u001b[0m_eval\u001b[0m\u001b[0;34m(\u001b[0m\u001b[0mexpr\u001b[0m\u001b[0;34m,\u001b[0m \u001b[0minplace\u001b[0m\u001b[0;34m=\u001b[0m\u001b[0minplace\u001b[0m\u001b[0;34m,\u001b[0m \u001b[0;34m**\u001b[0m\u001b[0mkwargs\u001b[0m\u001b[0;34m)\u001b[0m\u001b[0;34m\u001b[0m\u001b[0;34m\u001b[0m\u001b[0m\n\u001b[0m\u001b[1;32m   4241\u001b[0m \u001b[0;34m\u001b[0m\u001b[0m\n\u001b[1;32m   4242\u001b[0m     \u001b[0;32mdef\u001b[0m \u001b[0mselect_dtypes\u001b[0m\u001b[0;34m(\u001b[0m\u001b[0mself\u001b[0m\u001b[0;34m,\u001b[0m \u001b[0minclude\u001b[0m\u001b[0;34m=\u001b[0m\u001b[0;32mNone\u001b[0m\u001b[0;34m,\u001b[0m \u001b[0mexclude\u001b[0m\u001b[0;34m=\u001b[0m\u001b[0;32mNone\u001b[0m\u001b[0;34m)\u001b[0m \u001b[0;34m->\u001b[0m \u001b[0mDataFrame\u001b[0m\u001b[0;34m:\u001b[0m\u001b[0;34m\u001b[0m\u001b[0;34m\u001b[0m\u001b[0m\n",
      "\u001b[0;32m~/opt/anaconda3/lib/python3.9/site-packages/pandas/core/computation/eval.py\u001b[0m in \u001b[0;36meval\u001b[0;34m(expr, parser, engine, truediv, local_dict, global_dict, resolvers, level, target, inplace)\u001b[0m\n\u001b[1;32m    354\u001b[0m         \u001b[0meng\u001b[0m \u001b[0;34m=\u001b[0m \u001b[0mENGINES\u001b[0m\u001b[0;34m[\u001b[0m\u001b[0mengine\u001b[0m\u001b[0;34m]\u001b[0m\u001b[0;34m\u001b[0m\u001b[0;34m\u001b[0m\u001b[0m\n\u001b[1;32m    355\u001b[0m         \u001b[0meng_inst\u001b[0m \u001b[0;34m=\u001b[0m \u001b[0meng\u001b[0m\u001b[0;34m(\u001b[0m\u001b[0mparsed_expr\u001b[0m\u001b[0;34m)\u001b[0m\u001b[0;34m\u001b[0m\u001b[0;34m\u001b[0m\u001b[0m\n\u001b[0;32m--> 356\u001b[0;31m         \u001b[0mret\u001b[0m \u001b[0;34m=\u001b[0m \u001b[0meng_inst\u001b[0m\u001b[0;34m.\u001b[0m\u001b[0mevaluate\u001b[0m\u001b[0;34m(\u001b[0m\u001b[0;34m)\u001b[0m\u001b[0;34m\u001b[0m\u001b[0;34m\u001b[0m\u001b[0m\n\u001b[0m\u001b[1;32m    357\u001b[0m \u001b[0;34m\u001b[0m\u001b[0m\n\u001b[1;32m    358\u001b[0m         \u001b[0;32mif\u001b[0m \u001b[0mparsed_expr\u001b[0m\u001b[0;34m.\u001b[0m\u001b[0massigner\u001b[0m \u001b[0;32mis\u001b[0m \u001b[0;32mNone\u001b[0m\u001b[0;34m:\u001b[0m\u001b[0;34m\u001b[0m\u001b[0;34m\u001b[0m\u001b[0m\n",
      "\u001b[0;32m~/opt/anaconda3/lib/python3.9/site-packages/pandas/core/computation/engines.py\u001b[0m in \u001b[0;36mevaluate\u001b[0;34m(self)\u001b[0m\n\u001b[1;32m     78\u001b[0m \u001b[0;34m\u001b[0m\u001b[0m\n\u001b[1;32m     79\u001b[0m         \u001b[0;31m# make sure no names in resolvers and locals/globals clash\u001b[0m\u001b[0;34m\u001b[0m\u001b[0;34m\u001b[0m\u001b[0m\n\u001b[0;32m---> 80\u001b[0;31m         \u001b[0mres\u001b[0m \u001b[0;34m=\u001b[0m \u001b[0mself\u001b[0m\u001b[0;34m.\u001b[0m\u001b[0m_evaluate\u001b[0m\u001b[0;34m(\u001b[0m\u001b[0;34m)\u001b[0m\u001b[0;34m\u001b[0m\u001b[0;34m\u001b[0m\u001b[0m\n\u001b[0m\u001b[1;32m     81\u001b[0m         return reconstruct_object(\n\u001b[1;32m     82\u001b[0m             \u001b[0mself\u001b[0m\u001b[0;34m.\u001b[0m\u001b[0mresult_type\u001b[0m\u001b[0;34m,\u001b[0m \u001b[0mres\u001b[0m\u001b[0;34m,\u001b[0m \u001b[0mself\u001b[0m\u001b[0;34m.\u001b[0m\u001b[0maligned_axes\u001b[0m\u001b[0;34m,\u001b[0m \u001b[0mself\u001b[0m\u001b[0;34m.\u001b[0m\u001b[0mexpr\u001b[0m\u001b[0;34m.\u001b[0m\u001b[0mterms\u001b[0m\u001b[0;34m.\u001b[0m\u001b[0mreturn_type\u001b[0m\u001b[0;34m\u001b[0m\u001b[0;34m\u001b[0m\u001b[0m\n",
      "\u001b[0;32m~/opt/anaconda3/lib/python3.9/site-packages/pandas/core/computation/engines.py\u001b[0m in \u001b[0;36m_evaluate\u001b[0;34m(self)\u001b[0m\n\u001b[1;32m    119\u001b[0m         \u001b[0mscope\u001b[0m \u001b[0;34m=\u001b[0m \u001b[0menv\u001b[0m\u001b[0;34m.\u001b[0m\u001b[0mfull_scope\u001b[0m\u001b[0;34m\u001b[0m\u001b[0;34m\u001b[0m\u001b[0m\n\u001b[1;32m    120\u001b[0m         \u001b[0m_check_ne_builtin_clash\u001b[0m\u001b[0;34m(\u001b[0m\u001b[0mself\u001b[0m\u001b[0;34m.\u001b[0m\u001b[0mexpr\u001b[0m\u001b[0;34m)\u001b[0m\u001b[0;34m\u001b[0m\u001b[0;34m\u001b[0m\u001b[0m\n\u001b[0;32m--> 121\u001b[0;31m         \u001b[0;32mreturn\u001b[0m \u001b[0mne\u001b[0m\u001b[0;34m.\u001b[0m\u001b[0mevaluate\u001b[0m\u001b[0;34m(\u001b[0m\u001b[0ms\u001b[0m\u001b[0;34m,\u001b[0m \u001b[0mlocal_dict\u001b[0m\u001b[0;34m=\u001b[0m\u001b[0mscope\u001b[0m\u001b[0;34m)\u001b[0m\u001b[0;34m\u001b[0m\u001b[0;34m\u001b[0m\u001b[0m\n\u001b[0m\u001b[1;32m    122\u001b[0m \u001b[0;34m\u001b[0m\u001b[0m\n\u001b[1;32m    123\u001b[0m \u001b[0;34m\u001b[0m\u001b[0m\n",
      "\u001b[0;32m~/opt/anaconda3/lib/python3.9/site-packages/numexpr/necompiler.py\u001b[0m in \u001b[0;36mevaluate\u001b[0;34m(ex, local_dict, global_dict, out, order, casting, **kwargs)\u001b[0m\n\u001b[1;32m    812\u001b[0m \u001b[0;34m\u001b[0m\u001b[0m\n\u001b[1;32m    813\u001b[0m     \u001b[0;31m# Create a signature\u001b[0m\u001b[0;34m\u001b[0m\u001b[0;34m\u001b[0m\u001b[0m\n\u001b[0;32m--> 814\u001b[0;31m     signature = [(name, getType(arg)) for (name, arg) in\n\u001b[0m\u001b[1;32m    815\u001b[0m                  zip(names, arguments)]\n\u001b[1;32m    816\u001b[0m \u001b[0;34m\u001b[0m\u001b[0m\n",
      "\u001b[0;32m~/opt/anaconda3/lib/python3.9/site-packages/numexpr/necompiler.py\u001b[0m in \u001b[0;36m<listcomp>\u001b[0;34m(.0)\u001b[0m\n\u001b[1;32m    812\u001b[0m \u001b[0;34m\u001b[0m\u001b[0m\n\u001b[1;32m    813\u001b[0m     \u001b[0;31m# Create a signature\u001b[0m\u001b[0;34m\u001b[0m\u001b[0;34m\u001b[0m\u001b[0m\n\u001b[0;32m--> 814\u001b[0;31m     signature = [(name, getType(arg)) for (name, arg) in\n\u001b[0m\u001b[1;32m    815\u001b[0m                  zip(names, arguments)]\n\u001b[1;32m    816\u001b[0m \u001b[0;34m\u001b[0m\u001b[0m\n",
      "\u001b[0;32m~/opt/anaconda3/lib/python3.9/site-packages/numexpr/necompiler.py\u001b[0m in \u001b[0;36mgetType\u001b[0;34m(a)\u001b[0m\n\u001b[1;32m    690\u001b[0m     \u001b[0;32mif\u001b[0m \u001b[0mkind\u001b[0m \u001b[0;34m==\u001b[0m \u001b[0;34m'U'\u001b[0m\u001b[0;34m:\u001b[0m\u001b[0;34m\u001b[0m\u001b[0;34m\u001b[0m\u001b[0m\n\u001b[1;32m    691\u001b[0m         \u001b[0;32mraise\u001b[0m \u001b[0mValueError\u001b[0m\u001b[0;34m(\u001b[0m\u001b[0;34m'NumExpr 2 does not support Unicode as a dtype.'\u001b[0m\u001b[0;34m)\u001b[0m\u001b[0;34m\u001b[0m\u001b[0;34m\u001b[0m\u001b[0m\n\u001b[0;32m--> 692\u001b[0;31m     \u001b[0;32mraise\u001b[0m \u001b[0mValueError\u001b[0m\u001b[0;34m(\u001b[0m\u001b[0;34m\"unknown type %s\"\u001b[0m \u001b[0;34m%\u001b[0m \u001b[0ma\u001b[0m\u001b[0;34m.\u001b[0m\u001b[0mdtype\u001b[0m\u001b[0;34m.\u001b[0m\u001b[0mname\u001b[0m\u001b[0;34m)\u001b[0m\u001b[0;34m\u001b[0m\u001b[0;34m\u001b[0m\u001b[0m\n\u001b[0m\u001b[1;32m    693\u001b[0m \u001b[0;34m\u001b[0m\u001b[0m\n\u001b[1;32m    694\u001b[0m \u001b[0;34m\u001b[0m\u001b[0m\n",
      "\u001b[0;31mValueError\u001b[0m: unknown type object"
     ]
    }
   ],
   "source": [
    "# Возьмем в качестве актуального периода для прогноза продаж в 2017 г. период 2014-2016 гг. и топ 5 платформ по продажам\n",
    "\n",
    "top_platform_sales_years = top_platform_sales_years.query('year_of_release >= 2014')\n",
    "top_platform_sales_years = top_platform_sales_years.query('all_sales >= 30')\n"
   ]
  },
  {
   "cell_type": "code",
   "execution_count": null,
   "metadata": {},
   "outputs": [],
   "source": [
    "#Строим гистрограмму распеределения продаж по ТОП5 платформам за период 2014-2016 гг \n",
    "\n",
    "top_platform_sales_years.sort_values(by= 'year_of_release', ascending = True).plot(y='all_sales', \n",
    "    kind='bar', ylim = (30,125), figsize = (10,5),grid=True, \n",
    "    title='Расределение продаж по ТОП5 платформам за период 2014-2016 гг')\n",
    "plt.show()"
   ]
  },
  {
   "cell_type": "markdown",
   "metadata": {},
   "source": [
    "ТОП 5 прибыльных платформ PS4,XOne,3DS,PS3 и X360 с суммарнымип продажами более 30 млн.копий в год. Абсолютное лидерство за PS4 не смотря на падение продаж в 2016 г."
   ]
  },
  {
   "cell_type": "markdown",
   "metadata": {},
   "source": [
    "<div class=\"alert alert-success\">\n",
    "<b>Комментарий ревьюера: ✅</b>\n",
    "\n",
    "Обрати внимание, что наши действия повторяются с точки зрения построения графиков.\n",
    "    \n",
    "Это говорит о том, что мы можем создать функцию, которая будет выполнять все действия за нас.\n",
    "    \n",
    "Тем самым мы сможем оптимизировать свой код и проект целиком.\n",
    "    \n",
    "</div>"
   ]
  },
  {
   "cell_type": "markdown",
   "metadata": {},
   "source": [
    "<div class=\"alert alert-info\"> \n",
    "     <b>Комментарий студента: Пока не понял, как использовать функцию для построения графиков. Напиши пример пожалуйста </div>"
   ]
  },
  {
   "cell_type": "markdown",
   "metadata": {},
   "source": [
    "<div class=\"alert alert-success\">\n",
    "<b>Комментарий ревьюера (2): ✅</b>\n",
    "\n",
    "Простой пример, оставил ниже.    \n",
    "    \n",
    "</div>"
   ]
  },
  {
   "cell_type": "code",
   "execution_count": null,
   "metadata": {},
   "outputs": [],
   "source": [
    "def plot_bar(data, y, kind, ylim, figsize, title):\n",
    "    #Строим гистрограмму распеределения продаж по ТОП5 платформам за период 2014-2016 гг \n",
    "\n",
    "    data.plot(\n",
    "        y=y, \n",
    "        kind=kind, \n",
    "        ylim = ylim, \n",
    "        figsize = figsize,\n",
    "        grid=True, \n",
    "        title=title\n",
    "    )\n",
    "    plt.show()"
   ]
  },
  {
   "cell_type": "code",
   "execution_count": null,
   "metadata": {},
   "outputs": [],
   "source": [
    "top5_platform = data.query(\"(platform in ['3DS','XOne','PS4','PS3','X360'])& (year_of_release >= 2014)\")\n",
    "#top5_platform = data.loc[(data['year_of_release'] >= 2014)|\n",
    "#(data['platform'] == ['3DS','XOne','PS4','PS3','X360']]\n",
    "top5_platform.head()\n",
    "                                                                             "
   ]
  },
  {
   "cell_type": "markdown",
   "metadata": {},
   "source": [
    "<div class=\"alert alert-warning\">\n",
    "<b>Комментарий ревьюера: ❗️</b>\n",
    "\n",
    "Когда используешь множественную фильтрацию, рекомендую использовать метод `loc`. Он читается проще и работает быстрее.\n",
    "\n",
    "</div>"
   ]
  },
  {
   "cell_type": "markdown",
   "metadata": {},
   "source": [
    "<div class=\"alert alert-info\"> \n",
    "     <b>Комментарий студента: Не получилось через loc. Выдает ошибку, когда передаю список платформ </div>"
   ]
  },
  {
   "cell_type": "markdown",
   "metadata": {},
   "source": [
    "<div class=\"alert alert-success\">\n",
    "<b>Комментарий ревьюера (2): ✅</b>\n",
    "\n",
    "Надо было бы оставить пример, как пробовал применить.\n",
    "    \n",
    "Оставил свой пример ниже.\n",
    "    \n",
    "    \n",
    "</div>"
   ]
  },
  {
   "cell_type": "code",
   "execution_count": null,
   "metadata": {},
   "outputs": [],
   "source": [
    "data.loc[\n",
    "    (data['platform'].isin(['3DS','XOne','PS4','PS3','X360'])) &\n",
    "    (data['year_of_release'])\n",
    "]\n",
    "\n"
   ]
  },
  {
   "cell_type": "markdown",
   "metadata": {},
   "source": [
    "### Смотрим распределение продаж по платформам и выявляем связь между продажами и оценками критиков и пользователей"
   ]
  },
  {
   "cell_type": "code",
   "execution_count": null,
   "metadata": {},
   "outputs": [],
   "source": [
    "# построим общую диаграмму размаха\n",
    "plt.figure(figsize=(13,8))\n",
    "sns.boxplot(data = top5_platform, y='all_sales', x='platform').\\\n",
    "set_title(\"Глобальные продажи в разбивке по платформам\")\n",
    "plt.show()"
   ]
  },
  {
   "cell_type": "markdown",
   "metadata": {},
   "source": [
    "<div class=\"alert alert-warning\">\n",
    "<b>Комментарий ревьюера: ❗️</b>\n",
    "\n",
    "<s>Не забывай пожалуйста подписывать каждый график.\n",
    "    \n",
    "Это важный момент всего проекта, так быстрее понять о чем идёт речь на графике.\n",
    "    \n",
    "</div>"
   ]
  },
  {
   "cell_type": "markdown",
   "metadata": {},
   "source": [
    "<div class=\"alert alert-info\"> \n",
    "     <b>Комментарий студента: Подписал </div>"
   ]
  },
  {
   "cell_type": "code",
   "execution_count": null,
   "metadata": {},
   "outputs": [],
   "source": [
    "# Проверяем наличие аномалий\n",
    "top5_platform.describe()"
   ]
  },
  {
   "cell_type": "code",
   "execution_count": null,
   "metadata": {},
   "outputs": [],
   "source": [
    "# Проверяем аномально большие продажи на платфоме PS4\n",
    "top5_platform.loc[(top5_platform['platform'] == 'PS4')&(top5_platform['all_sales'] > 4)]"
   ]
  },
  {
   "cell_type": "markdown",
   "metadata": {},
   "source": [
    "Все в порядке. Показаны наиболее популярные игры и соответственно наибольшие продажи. "
   ]
  },
  {
   "cell_type": "code",
   "execution_count": null,
   "metadata": {},
   "outputs": [],
   "source": [
    "# смотрим минимальные продажи игр на платформе PS4 \n",
    "top5_platform.loc[(top5_platform['platform'] == 'PS4')&(top5_platform['all_sales'] <= 0.01)]"
   ]
  },
  {
   "cell_type": "markdown",
   "metadata": {},
   "source": [
    "Аномалии на нижней границе тоже не подтвердились. "
   ]
  },
  {
   "cell_type": "code",
   "execution_count": null,
   "metadata": {},
   "outputs": [],
   "source": [
    "# проверим наличие нулевых продаж\n",
    "print('Колличество нулевых продаж =' , len(top5_platform[top5_platform['all_sales'] == 0]))"
   ]
  },
  {
   "cell_type": "markdown",
   "metadata": {},
   "source": [
    "По графику видно наличие выбросов. Выбросы связаны с разной популярностью игр и соответственно продаж. Топовые игры превышают порог 4 млн.копий, не популярные продают менее 1 млн.копий."
   ]
  },
  {
   "cell_type": "code",
   "execution_count": null,
   "metadata": {},
   "outputs": [],
   "source": [
    "# Выявляем влияние оценок пользывателей на кол-во продаж на примере топовой платформы PS4\n",
    "data[data['platform']=='PS4'].plot(x= ['user_score'] , y='all_sales', ylim= (0,4),\n",
    "kind='scatter', alpha=0.1, figsize=(8,5), grid=True, title='Влияение оценок пользователей на продажи PS4')\n",
    "plt.show()"
   ]
  },
  {
   "cell_type": "markdown",
   "metadata": {},
   "source": [
    "Оценки пользователей судя по графику оказывают прямое влияение на продажи. Особенно это вилно на оценках в диапазоне 6-8. \n",
    "При этом видно что продаж без рейтинга, мы их обозначили как -1 тоже много! "
   ]
  },
  {
   "cell_type": "code",
   "execution_count": null,
   "metadata": {},
   "outputs": [],
   "source": [
    "# Выявляем влияние оценок критиков на кол-во продаж на примере топовой платформы PS4\n",
    "data[data['platform']=='PS4'].plot(x='critic_score', y='all_sales', ylim= (0,3), kind='scatter', alpha=0.1, \n",
    "figsize=(8,5), grid=True, title='Влияение оценок критиков на продажи PS4')\n",
    "plt.show()"
   ]
  },
  {
   "cell_type": "markdown",
   "metadata": {},
   "source": [
    "Оценки критиков также оказывают влияение на продажи. Особенно это вилно на оценках выше среднего от 60-90. При этом видно как продажи без рейтинга, мы их обозначили как -1 тоже много! "
   ]
  },
  {
   "cell_type": "code",
   "execution_count": null,
   "metadata": {},
   "outputs": [],
   "source": [
    "#Проверим влияют ли на друг друга оценки критиков и оценки пользователей \n",
    "sns.scatterplot(x='user_score', y='critic_score', data=data, alpha=0.05).\\\n",
    "set_title(\"Взаимозависимость оценок критиков и оценок пользователей\")\n",
    "plt.show()"
   ]
  },
  {
   "cell_type": "code",
   "execution_count": null,
   "metadata": {},
   "outputs": [],
   "source": [
    "top5_platform[['all_sales', 'critic_score', 'user_score']].corr()"
   ]
  },
  {
   "cell_type": "markdown",
   "metadata": {},
   "source": [
    "Коэфиценты корреляции показывают слабую прямую зависимость между оценками критиков и обьемом продаж. Связь между оценками пользователей и оценками критиков сильная!"
   ]
  },
  {
   "cell_type": "code",
   "execution_count": null,
   "metadata": {},
   "outputs": [],
   "source": [
    "#Проверим зависимости оценок критиков на продажи на примере др топовой платформы\n",
    "data[data['platform']!='PS4'].plot(x='critic_score', y='all_sales', ylim= (0,3), kind='scatter', \n",
    "               alpha=0.01, figsize=(8,5), grid=True, title='Влияение оценок критиков на другие платформы')\n",
    "plt.show()"
   ]
  },
  {
   "cell_type": "code",
   "execution_count": null,
   "metadata": {},
   "outputs": [],
   "source": [
    "#Проверим зависимости оценок на продажи на примере др топовых платформ \n",
    "data[data['platform']!='PS4'].plot(x='user_score', y='all_sales', ylim= (0,3), kind='scatter', \n",
    "                alpha=0.01, figsize=(8,5), grid=True, title='Влияение оценок пользователей на другие платформы')\n",
    "plt.show()"
   ]
  },
  {
   "cell_type": "code",
   "execution_count": null,
   "metadata": {},
   "outputs": [],
   "source": [
    "data_cor = data[data['platform']!='PS4'][['all_sales', 'critic_score', 'user_score']].corr()\n",
    "data_cor"
   ]
  },
  {
   "cell_type": "code",
   "execution_count": null,
   "metadata": {},
   "outputs": [],
   "source": [
    "sns.heatmap(data_cor, annot=True).set_title(\"График зависимости переменных\")\n",
    "plt.show()"
   ]
  },
  {
   "cell_type": "markdown",
   "metadata": {},
   "source": [
    "Вижу более четкую взаимосвязь между оценками и обьемом продаж на примере других платформ из ТОП5. При этом сохраняется прежний тренд - продажи растут при оценках пользователей выше среднего."
   ]
  },
  {
   "cell_type": "markdown",
   "metadata": {},
   "source": [
    "<div class=\"alert alert-success\">\n",
    "<b>Комментарий ревьюера: ✅</b>\n",
    "    \n",
    "Хорошие и логичные комментарии. Очень важно строить график корреляции между переменными, ведь может произойти такая ситуация, что расчет у нас очень сильный а на графике абсолютно другая картина.\n",
    "    \n",
    "---\n",
    "\n",
    "В том числе можно визуализировать матрицу корреляции с помощью метода `heatmap` из библиотеки `seaborn`.\n",
    "    \n",
    "</div>"
   ]
  },
  {
   "cell_type": "markdown",
   "metadata": {},
   "source": [
    "<div class=\"alert alert-info\"> \n",
    "     <b>Комментарий студента: Как можно сопостовлять матрицу корреляции и графики? На графиках видна зависимость продаж от оценок, а график кореляции показывает слабую связь.  </div>"
   ]
  },
  {
   "cell_type": "markdown",
   "metadata": {},
   "source": [
    "<div class=\"alert alert-success\">\n",
    "<b>Комментарий ревьюера (2): ✅</b>\n",
    "\n",
    "Почему мы не можем сопоставлять это ? 😊 Контекст один и тот же, а вот способ отображения разный.\n",
    "    \n",
    "Я говорю как раз об обратной ситуации, что корреляция например очень сильная 0.8 например, а на графике эту зависимость едва можно заметить.     \n",
    "    \n",
    "</div>"
   ]
  },
  {
   "cell_type": "markdown",
   "metadata": {},
   "source": [
    "### Смотрим на распределение игр по жанрам"
   ]
  },
  {
   "cell_type": "code",
   "execution_count": null,
   "metadata": {},
   "outputs": [],
   "source": [
    "# Распределение суммарных продаж по жанрам\n",
    "top5_platform_genre_sum = pd.pivot_table(top5_platform, index= 'genre', values ='all_sales', \n",
    "                                         aggfunc = 'sum')\n",
    "top5_platform_genre_sum.sort_values(by= 'all_sales', ascending = False).head(10)\n"
   ]
  },
  {
   "cell_type": "code",
   "execution_count": null,
   "metadata": {},
   "outputs": [],
   "source": [
    "# Распределение средних продаж по жанрам\n",
    "\n",
    "top5_platform_genre_mean = pd.pivot_table(top5_platform, index= 'genre', values ='all_sales', \n",
    "                                         aggfunc ='mean')\n",
    "top5_platform_genre_mean.sort_values(by= 'all_sales', ascending = False).head(11)"
   ]
  },
  {
   "cell_type": "code",
   "execution_count": null,
   "metadata": {},
   "outputs": [],
   "source": [
    "top5_platform_genre_sum.sort_values(by= 'all_sales', ascending = False).plot(y='all_sales', kind='bar', \n",
    "    ylim = (0,180), figsize = (10,5),grid=True, title='Расределение суммрарных продаж по жанрам')\n",
    "plt.show()"
   ]
  },
  {
   "cell_type": "code",
   "execution_count": null,
   "metadata": {},
   "outputs": [],
   "source": [
    "top5_platform_genre_mean.sort_values(by= 'all_sales', ascending = False).plot(y='all_sales', kind='bar', \n",
    "            figsize = (10,5),grid=True, title='Распределение средних продаж по жанрам')\n",
    "plt.show()"
   ]
  },
  {
   "cell_type": "markdown",
   "metadata": {},
   "source": [
    "Для анализа возьмем распредение средних значений продаж, так как они меньше подвержены выбросам. \n",
    "Наиболее популярные жанры игр - Shooter, Sports и Role-Playing с продажами более 600 тыс копий. Наименее популярные жанры  - Adventure и Puzzle\tс продажами менее 150 тыс копий. "
   ]
  },
  {
   "cell_type": "markdown",
   "metadata": {},
   "source": [
    "<div class=\"alert alert-warning\">\n",
    "<b>Комментарий ревьюера: ❗️</b>\n",
    "\n",
    "<s>А если мы посмотрим на средние значения продаж, какие выводы мы сможем сделать ? \n",
    "    \n",
    "Почему на средние значения ? \n",
    "    \n",
    "Т.к. эта метрика более устойчива к выбросам, чем просто суммы и количественные показатели.\n",
    "    \n",
    "</div>"
   ]
  },
  {
   "cell_type": "markdown",
   "metadata": {},
   "source": [
    "<div class=\"alert alert-info\"> \n",
    "     <b>Комментарий студента: Спасибо за рекомендацию  </div>"
   ]
  },
  {
   "cell_type": "markdown",
   "metadata": {},
   "source": [
    "## Составляем портрет пользователя каждого региона"
   ]
  },
  {
   "cell_type": "markdown",
   "metadata": {},
   "source": [
    "### Определим портрет пользователя региона \"Северная Америка\""
   ]
  },
  {
   "cell_type": "code",
   "execution_count": null,
   "metadata": {},
   "outputs": [],
   "source": [
    "# выделим для data выбранный для анализа отрезок времени\n",
    "data = data.query('year_of_release >= 2014')"
   ]
  },
  {
   "cell_type": "code",
   "execution_count": null,
   "metadata": {},
   "outputs": [],
   "source": [
    "#Ищем ТОП продаж платформ в регионе \"Северная Америка\"\n",
    "top5_platform_na_sales = pd.pivot_table(data, index= 'platform', values ='na_sales', aggfunc ='sum')\n",
    "top5_platform_na_sales.sort_values(by= 'na_sales', ascending = False).head()"
   ]
  },
  {
   "cell_type": "code",
   "execution_count": null,
   "metadata": {},
   "outputs": [],
   "source": [
    "# Определим ТОП5 жанров в регионе \"Северная Америка\"\n",
    "top5_na_genre_sales = pd.pivot_table(data, index= 'genre', values ='na_sales', aggfunc ='sum')\n",
    "top5_na_genre_sales.sort_values(by= 'na_sales', ascending =False).head()"
   ]
  },
  {
   "cell_type": "code",
   "execution_count": null,
   "metadata": {},
   "outputs": [],
   "source": [
    "top5_na_sales = pd.pivot_table(data, index= ['genre','platform'], values ='na_sales', aggfunc ='sum')\n",
    "top5_na_sales.sort_values(by= 'na_sales', ascending =False).head()"
   ]
  },
  {
   "cell_type": "markdown",
   "metadata": {},
   "source": [
    "Вывод: Наиболее популярные платформы у пользователей Северной Америки - PS4 и XOne с продажами более 80 млн копий. Наиболее популярные жанры на этих платформах Shooter и  Action с продажами более 70 млн копий этих жанров."
   ]
  },
  {
   "cell_type": "markdown",
   "metadata": {},
   "source": [
    "### Определим портрет пользователя региона Европпа"
   ]
  },
  {
   "cell_type": "code",
   "execution_count": null,
   "metadata": {},
   "outputs": [],
   "source": [
    "#Ищем ТОП продаж платформ в регионе \"Европпа\"\n",
    "\n",
    "top5_platform_eu_sales = pd.pivot_table(data, index= 'platform', values ='eu_sales', aggfunc ='sum')\n",
    "top5_platform_eu_sales.sort_values(by= 'eu_sales', ascending = False).head(5)"
   ]
  },
  {
   "cell_type": "code",
   "execution_count": null,
   "metadata": {},
   "outputs": [],
   "source": [
    "# Определим ТОП5 жанров в регионе \"Европпа\"\n",
    "top5_eu_genre_sales = pd.pivot_table(data, index= 'genre', values ='eu_sales', aggfunc ='sum')\n",
    "top5_eu_genre_sales.sort_values(by= 'eu_sales', ascending =False).head()"
   ]
  },
  {
   "cell_type": "code",
   "execution_count": null,
   "metadata": {},
   "outputs": [],
   "source": [
    "top5_eu_sales = pd.pivot_table(data, index= ['genre','platform'], values ='eu_sales', aggfunc ='sum')\n",
    "top5_eu_sales.sort_values(by= 'eu_sales', ascending =False).head()"
   ]
  },
  {
   "cell_type": "markdown",
   "metadata": {},
   "source": [
    "Вывод: На Европейском рынке портрет пользователя похож на портрет пользователя Северной Америки. "
   ]
  },
  {
   "cell_type": "markdown",
   "metadata": {},
   "source": [
    "### Определим портрет пользователя региона Япония"
   ]
  },
  {
   "cell_type": "code",
   "execution_count": null,
   "metadata": {},
   "outputs": [],
   "source": [
    "#Ищем ТОП продаж платформ в регионе \"Япония\"\n",
    "top5_platform_jp_sales = pd.pivot_table(data, index= 'platform', values ='jp_sales', aggfunc ='sum')\n",
    "top5_platform_jp_sales.sort_values(by= 'jp_sales', ascending = False).head()"
   ]
  },
  {
   "cell_type": "code",
   "execution_count": null,
   "metadata": {},
   "outputs": [],
   "source": [
    "# Определим ТОП5 жанров в регионе \"Япония\"\n",
    "top5_jp_genre_sales = pd.pivot_table(data, index= 'genre', values ='jp_sales', aggfunc ='sum')\n",
    "top5_jp_genre_sales.sort_values(by= 'jp_sales', ascending =False).head()"
   ]
  },
  {
   "cell_type": "code",
   "execution_count": null,
   "metadata": {},
   "outputs": [],
   "source": [
    "top5_jp_sales = pd.pivot_table(data, index= ['genre','platform'], values ='jp_sales', aggfunc ='sum')\n",
    "top5_jp_sales.sort_values(by= 'jp_sales', ascending =False).head()"
   ]
  },
  {
   "cell_type": "markdown",
   "metadata": {},
   "source": [
    "Вывод: У пользователей Японии со значительным отрывом, почти в 3 раза, лидирует платформа 3DS и совсем не популярна платформа XOne. Наиболее популярным жанром игры является Role-Playing. "
   ]
  },
  {
   "cell_type": "code",
   "execution_count": null,
   "metadata": {},
   "outputs": [],
   "source": [
    "# Смотрим соотношение продаж топовых платформ в разных регионах\n",
    "top5_platform_sales = pd.pivot_table(data, index= 'platform', values =['na_sales','eu_sales',\n",
    "     'jp_sales','other_sales'], aggfunc ='sum')\n",
    "top5_platform_sales"
   ]
  },
  {
   "cell_type": "code",
   "execution_count": null,
   "metadata": {},
   "outputs": [],
   "source": [
    "top5_platform_sales.plot(kind='bar', figsize = (15,5), color=['blue','red', 'green','grey'],\n",
    "                         grid=True, title='Расределение ТОП продаж платформ в разных регионах')\n",
    "plt.show()"
   ]
  },
  {
   "cell_type": "markdown",
   "metadata": {},
   "source": [
    "Бесспорный лидер PS4 XOne 3DS. На графике видно, что топовая платформа PS4 и XOne получили минимальные продажи на японском рынке. При этом японский рынок видимо полюбил платформу 3DS отдав ей максимум продаж. "
   ]
  },
  {
   "cell_type": "code",
   "execution_count": null,
   "metadata": {},
   "outputs": [],
   "source": [
    "# Определим ТОП5 жанров в разных регионах\n",
    "top5_genre_sales = pd.pivot_table(data, index= 'genre', \n",
    "                                  values =['na_sales','eu_sales','jp_sales','other_sales'], aggfunc ='sum')\n",
    "top5_genre_sales"
   ]
  },
  {
   "cell_type": "code",
   "execution_count": null,
   "metadata": {},
   "outputs": [],
   "source": [
    "top5_genre_sales.plot(kind='bar', figsize = (15,5), color=['blue','red', 'green','grey'],grid=True, \n",
    "                      title='Расределение ТОП продаж по жанрам в разных регионах')\n",
    "plt.show()"
   ]
  },
  {
   "cell_type": "markdown",
   "metadata": {},
   "source": [
    "Видна плотная связь вкусов относительно жанров игр у Европейского и Американского рынков на примере жанров action, shooter, sports. На японском рынке самый популярный жанр Role-Playing.   "
   ]
  },
  {
   "cell_type": "markdown",
   "metadata": {},
   "source": [
    "### Определяем влияение рейтинга ESRB  в каждом регионе "
   ]
  },
  {
   "cell_type": "markdown",
   "metadata": {},
   "source": [
    "__ESRB__ - рейтинг для компьютерных игр, показывающие рекомендованные возрастные ограничения. Категории рейтинга: \n",
    "\n",
    "__E__ - без ограничений\n",
    "\n",
    "__E10+__ - для всех от 10 лет и старше\n",
    "\n",
    "__T__ - подросткам от 13 лет\n",
    "\n",
    "__M__ - для взрослых\n",
    "\n",
    "__tbd__ - без рейтинга"
   ]
  },
  {
   "cell_type": "code",
   "execution_count": null,
   "metadata": {},
   "outputs": [],
   "source": [
    "# влияение рейтинга ESRB на продажи  в регионе \"Северная Америка\"\n",
    "top5_sales_na_rating = pd.pivot_table(data, index= 'rating', values ='na_sales', aggfunc ='sum')\n",
    "top5_sales_na_rating.sort_values(by= 'na_sales', ascending =False).head()"
   ]
  },
  {
   "cell_type": "markdown",
   "metadata": {},
   "source": [
    "В Северной Америке больше покупок из категории \"для взрослых\", почти вдовое меньше покупают игр без рейтинга и игры без ограничений. "
   ]
  },
  {
   "cell_type": "code",
   "execution_count": null,
   "metadata": {},
   "outputs": [],
   "source": [
    "# влияение рейтинга ESRB на продажи в регионе \"Европпа\"\n",
    "\n",
    "top5_sales_eu_rating = pd.pivot_table(data, index= 'rating', values ='eu_sales', aggfunc ='sum')\n",
    "top5_sales_eu_rating.sort_values(by= 'eu_sales', ascending =False).head()"
   ]
  },
  {
   "cell_type": "markdown",
   "metadata": {},
   "source": [
    "В Европпе также как в Америке больше покупок из категории \"для взрослых\", почти вдовое меньше покупают игр без рейтинга и игры без ограничений. "
   ]
  },
  {
   "cell_type": "code",
   "execution_count": null,
   "metadata": {},
   "outputs": [],
   "source": [
    "# влияение рейтинга ESRB на продажи в в регионе \"Япония\"\n",
    "\n",
    "top5_sales_jp_rating = pd.pivot_table(data, index= 'rating', values ='jp_sales', aggfunc ='sum')\n",
    "top5_sales_jp_rating.sort_values(by= 'jp_sales', ascending =False).head()"
   ]
  },
  {
   "cell_type": "markdown",
   "metadata": {},
   "source": [
    "В японии абсолютный лидер продаж - игры без рейтинга. Возможно на местном рынке используется другая возрастная градация. "
   ]
  },
  {
   "cell_type": "code",
   "execution_count": null,
   "metadata": {},
   "outputs": [],
   "source": [
    "top5_sales_rating = pd.pivot_table(data, index= 'rating', values =['na_sales','eu_sales',\n",
    "                                                                   'jp_sales'], aggfunc ='sum')\n",
    "top5_sales_rating"
   ]
  },
  {
   "cell_type": "code",
   "execution_count": null,
   "metadata": {},
   "outputs": [],
   "source": [
    "top5_sales_rating.plot(kind='bar', figsize = (15,5), color=['blue','red', 'green'],\n",
    "                       grid=True, title='Расределение продаж по разным регионам относительно рейтинга ESRB')\n",
    "plt.show()"
   ]
  },
  {
   "cell_type": "markdown",
   "metadata": {},
   "source": [
    "Возрастной рейтинг влияет на продажи игр. Лидеры продаж игры возрастной категории \"без ограничения\" и \"для взрослых\". Игры для детей и подростков менее популярные. Взрослые меньше себя ограничивают в покупках игр в отличии от покупок игр для своих детей. Много проданных игр без рейтинга во всех регионах. Возможно это игры со спорным рейтингом, но они не менее популярные. "
   ]
  },
  {
   "cell_type": "markdown",
   "metadata": {},
   "source": [
    "<div class=\"alert alert-success\">\n",
    "<b>Комментарий ревьюера: ✅</b>\n",
    "\n",
    "Достаточно детально проанализировали наши данные и изучили портреты пользователей.\n",
    "    \n",
    "\n",
    "    \n",
    "Давай теперь проверим наши гипотезы.\n",
    "    \n",
    "</div>"
   ]
  },
  {
   "cell_type": "markdown",
   "metadata": {},
   "source": [
    "## Проверяем гипотезы"
   ]
  },
  {
   "cell_type": "markdown",
   "metadata": {},
   "source": [
    "### Первая гиппотеза - \"Средние пользовательские рейтинги платформ Xbox One и PC одинаковые\""
   ]
  },
  {
   "cell_type": "markdown",
   "metadata": {},
   "source": [
    "H_0: Средние пользовательские рейтинги платформ Xbox One и PC одинаковые\n",
    "\n",
    "H_a: Средние пользовательские рейтинги платформ Xbox One и PC разные"
   ]
  },
  {
   "cell_type": "markdown",
   "metadata": {},
   "source": [
    "<div class=\"alert alert-danger\">\n",
    "<b>Комментарий ревьюера: ❌</b>\n",
    "\n",
    "<s>Как раз наоборот, нулевая гипотеза всегда говорит о равенстве выборок, а вот уже альтернативная об их различии.\n",
    "    \n",
    "Давай поправим этот момент.\n",
    "    \n",
    "</div>"
   ]
  },
  {
   "cell_type": "markdown",
   "metadata": {},
   "source": [
    "<div class=\"alert alert-info\"> <b>\n",
    "     Комментарий студента: Исправил."
   ]
  },
  {
   "cell_type": "code",
   "execution_count": null,
   "metadata": {},
   "outputs": [],
   "source": [
    "# Подготовим выборки для проверки гиппотезы № 1\n",
    "\n",
    "data_platform_xbox = data[data['platform'] == 'XOne']\n",
    "data_platform_pc = data[data['platform'] == 'PC']"
   ]
  },
  {
   "cell_type": "code",
   "execution_count": null,
   "metadata": {},
   "outputs": [],
   "source": [
    "# критический уровень статистической значимости\n",
    "alpha = 0.03 # Если pvalue будет меньше alpha, отвергаем нулевую гиппотезу\n",
    "\n",
    "#Проверяем 1 гиппотезу\n",
    "results = st.ttest_ind(data_platform_xbox['user_score'], data_platform_pc['user_score'],equal_var = False)\n",
    "\n",
    "print('p-значение: ', results.pvalue)\n",
    "\n",
    "if results.pvalue < alpha: # условный оператор с выводом строки с ответом\n",
    "    print('Отвергаем нулевую гипотезу')\n",
    "else:\n",
    "    print('Не получилось отвергнуть нулевую гипотезу')"
   ]
  },
  {
   "cell_type": "markdown",
   "metadata": {},
   "source": [
    "Средние пользовательские рейтинги платформ Xbox One и PC возможно одинаковые."
   ]
  },
  {
   "cell_type": "code",
   "execution_count": null,
   "metadata": {},
   "outputs": [],
   "source": []
  },
  {
   "cell_type": "markdown",
   "metadata": {},
   "source": [
    "### Вторая гиппотеза - \"Средние пользовательские рейтинги жанров Action и Sports разные\""
   ]
  },
  {
   "cell_type": "markdown",
   "metadata": {},
   "source": [
    "H_0: Средние пользовательские рейтинги жанров Action и Sports одинаковые\n",
    "\n",
    "H_a: Средние пользовательские рейтинги жанров Action и Sports разные"
   ]
  },
  {
   "cell_type": "markdown",
   "metadata": {},
   "source": [
    "<div class=\"alert alert-success\">\n",
    "<b>Комментарий ревьюера: ✅</b>\n",
    "\n",
    "Гипотезы сформулированы верно.\n",
    "    \n",
    "    \n",
    "**Best practies:**\n",
    "    \n",
    "\n",
    "    \n",
    "В том числе стоит визуализировать распределение каждой выборки, чтобы определить нормальное ли у них распределение или нет.\n",
    "    \n",
    "Так мы покажем логичность и последовательность наших действий.\n",
    "    \n",
    "</div>"
   ]
  },
  {
   "cell_type": "markdown",
   "metadata": {},
   "source": [
    "<div class=\"alert alert-info\"> <b>\n",
    "     Комментарий студента: Дай пожалуйста пример как визуализировать распределение выборки чтобы могу проверить нормальность распределения. Не нашел в лекциях и в сети тоже. Вообще темы теорвер и матстатистика сложно идут, повторяю темы заново. "
   ]
  },
  {
   "cell_type": "markdown",
   "metadata": {},
   "source": [
    "<div class=\"alert alert-success\">\n",
    "<b>Комментарий ревьюера (2): ✅</b>\n",
    "\n",
    "Оставил пример ниже.\n",
    "    \n",
    "    \n",
    "</div>"
   ]
  },
  {
   "cell_type": "code",
   "execution_count": null,
   "metadata": {},
   "outputs": [],
   "source": [
    "data[data['genre'] == 'Action']['user_score'].hist()"
   ]
  },
  {
   "cell_type": "code",
   "execution_count": null,
   "metadata": {},
   "outputs": [],
   "source": [
    "# Подготовим выборки для проверки гиппотезы № 2\n",
    "data_genre_pc = data[data['genre'] == 'Action']\n",
    "data_genre_xbox = data[data['genre'] == 'Sports']"
   ]
  },
  {
   "cell_type": "code",
   "execution_count": null,
   "metadata": {},
   "outputs": [],
   "source": [
    "# критический уровень статистической значимости\n",
    "alpha = 0.03 # Если pvalue будет меньше alpha, отвергаем нулевую гиппотезу\n",
    "\n",
    "#Проверяемn 2 гиппотезу\n",
    "results = st.ttest_ind(data_genre_pc['user_score'], data_genre_xbox['user_score'],equal_var = False)\n",
    "\n",
    "print('p-значение: ', results.pvalue)\n",
    "\n",
    "if results.pvalue < alpha: # условный оператор с выводом строки с ответом\n",
    "    print('Отвергаем нулевую гипотезу')\n",
    "else:\n",
    "    print('Не получилось отвергнуть нулевую гипотезу')"
   ]
  },
  {
   "cell_type": "markdown",
   "metadata": {},
   "source": [
    "Средние пользовательские рейтинги жанров Action и Sports не одинаковые."
   ]
  },
  {
   "cell_type": "markdown",
   "metadata": {},
   "source": [
    "__Как сформулировал нулевую и альтернативную гипотезы?__\n",
    "\n",
    "В качестве нулевой гиппотезы выбирал ту, у которой риск принятия неверного решения сводился к минимуму. \n",
    "\n",
    "__Какой критерий применил для проверки гипотез и почему?__\n",
    "\n",
    "В качестве критерия для проверки гиппотез предположил, что выборки однородные и уровень критической значимости равен 0.03. "
   ]
  },
  {
   "cell_type": "markdown",
   "metadata": {},
   "source": [
    "<div class=\"alert alert-success\">\n",
    "<b>Комментарий ревьюера: ✅</b>\n",
    "\n",
    "Обрати внимание, что наши действия также повторяются с точки зрения расчетов статистических тестов, это говорит о том, что мы можем также создать здесь функцию 😊\n",
    "    \n",
    "</div>"
   ]
  },
  {
   "cell_type": "markdown",
   "metadata": {},
   "source": [
    "## Вывод\n",
    "\n"
   ]
  },
  {
   "cell_type": "markdown",
   "metadata": {},
   "source": [
    "Работа над проектом позволила выявить увидеть тенденции и особенности, определяющие успешность игр в разных регионах. Учет данных исследования может помочь построить более точный бизнес план запуска нового продукта.\n",
    "\n",
    "В ходе работы над проектом были выполнены следующие этапы: \n",
    "\n",
    "1. __Подготовка данных__:\n",
    "\n",
    "На этапе подготовки данных были замечено значительное колличество пропусков в оценках пользователей, критиков и рейтинга игры - _более 50%_ Пропуски были обработаны и не повлияли на дальнейшее исследования. В ходе работы увидим влияние оценок и рейтинга на суммарные продажи. Будет полезным сделать поля с оценками более заметными для пользователей или др формат мотивации оставить оценку.\n",
    "     \n",
    "2. __Исследовательский анализ данных:__\n",
    "\n",
    "Максимум продаж за историю исследования пришелся на период 2007-2011 гг. В топ 5 по обьему продаж за все время входят платформы PS2, X360, Wii, PS3, DS, PS с оборотом более 600 млн.копий каждый. Ближайшие к ним продавали почти вдвое меньше или менее 305 млн.копий. \n",
    "\n",
    "Начиная с 2012 года колличество игр сократилось почти в двое. Возможно это связано с усложнением игр и соответственным удорожанием. Так как нам известно лишь колличество игр, но не их цена, то предположу, что с сокращением колличества и работой над качеством, игровая индустрия не стала меньше зарабатывать. Для выбранного периода с 2014-2016 гг ТОП 5 прибыльных платформ - PS4,XOne,3DS,PS3 и X360 с суммарнымип продажами более 30 млн.копий в год. Абсолютное лидерство за PS4.\n",
    "\n",
    "Не видно четкой временной закономерности взлета и упадка какой-либо платформы. Усредненно можно сказать, что большинство платформ во второй и третий год делали максимум продаж с постепенным упадком в течении последующих 2 лет. Учитывая эту закономерность, платформа PS, PS2, PS3, PS4 сохраняя имя и оценки пользователей начала выпускать новые версии приставки каждые 2-4 года.\n",
    "\n",
    "Оценки пользователей и критиков оказывают прямое влияение на продажи. Особенно это видно на оценках в диапазоне 6-8 и 60-80 соответственно. При этом также видно что продаж без рейтинга, мы их обозначили как -1 тоже много!\n",
    "\n",
    "Самые популярные игровые жанры - Shooter, Sports и Role-Playing с продажами более 600 тыс копий. Наименее популярные жанры  - Adventure и Puzzle\tс продажами менее 150 тыс копий. \n",
    "  \n",
    "3. __Составить портрет пользователя каждого региона:__\n",
    "\n",
    "Америка:  Наиболее популярные платформы у пользователей Северной Америки - PS4 и XOne с продажами более 80 млн копий. Наиболее популярные жанры на этих платформах Shooter и  Action с продажами более 70 млн копий этих жанров. \n",
    "\n",
    "Европа: На Европейском рынке портрет пользователя похож на портрет пользователя Северной Америки.\n",
    "\n",
    "Япония: У пользователей Японии со значительным отрывом, почти в 3 раза, лидирует платформа 3DS и совсем не популярна платформа XOne. Наиболее популярным жанром игры является Role-Playing.\n",
    "\n",
    "Возрастной рейтинг влияет на продажи игр. Лидеры продаж игры возрастной категории \"без ограничения\" и \"для взрослых\". Игры для детей и подростков менее популярные. Взрослые меньше себя ограничивают в покупках игр в отличии от покупок игр для своих детей. Много проданных игр без рейтинга во всех регионах. Возможно это игры со спорным рейтингом, но они не менее популярные.\n",
    "             \n",
    "Вывод:\n",
    "\n",
    "При бизнес планировании запуска продукта в сфере \"компьютерные игры\" стоит учесть цикл активности новой платформы и соответсвенно правильно распределить бюджеты, обратить внимание на пользовательские предпочтения, а также учесть специфику рынка. На примере Японии увидели практически полярные жанровые вкусы и предпочтения по игровым платформам. Опыт платформы PS, которая вместо выпуска новой платформы, дорабатывает старые и поддерживает лидерство в сегменте на протяжении долгого времени. Учитывая более быстрое взросление детей, а также стремление взрослых создавать себе, альтернативную существующей, реальности, стоит обратить внимание на ключевые потребности основного потребителя старше 14 лет."
   ]
  },
  {
   "cell_type": "markdown",
   "metadata": {},
   "source": [
    "<div class=\"alert alert-success\">\n",
    "<b>Комментарий ревьюера: ✅</b>\n",
    "\n",
    "Выводы понятны и логичны, а самое главное подкреплены выявленными фактами.\n",
    "    \n",
    "Достаточно детально проделанная работа и это не может не радовать 😊\n",
    "    \n",
    "Давай поправим мои комментарии и будем двигаться дальше.\n",
    "    \n",
    "Если у тебя вдруг есчть какие–либо вопросы, то я с радостью отвечу на них 😊\n",
    "       \n",
    "\n",
    "</div>"
   ]
  },
  {
   "cell_type": "markdown",
   "metadata": {},
   "source": [
    "<div class=\"alert alert-info\"> <b>\n",
    "     Комментарий студента: Посоветуй пожалуйста ресурс, где поэтапно, желательно на простом языке, говорится о статистическом анализе данных. Теория на платформе Яндекс показалась сложной для восприятия. "
   ]
  },
  {
   "cell_type": "markdown",
   "metadata": {},
   "source": [
    "<div class=\"alert alert-success\">\n",
    "<b>Комментарий ревьюера (2): ✅</b>\n",
    "\n",
    "Касаемо ресурса, можно посмотреть на stepik.org, там есть известный курс по статистике с Анатолием Карповым. Он доступно объясняет каждую тему.\n",
    "    \n",
    "---\n",
    "       \n",
    "В целом сам проект выполнен на хорошем уровне! На протяжении всей работы чувствуется глубина проработки задачи и это безусловный плюс для нас. Было использовано большое количество методов, которые будут помогать тебе в дальнейших проектах.\n",
    "    \n",
    "    \n",
    "    \n",
    "**[общий комментарий]** Ячейки **markdown** в том числе мы можем использовать как дополнительный способ стилизации нашего проекта. Оставил ниже ссылку, с примерами стилизации.\n",
    "\n",
    "https://sqlbak.com/blog/jupyter-notebook-markdown-cheatsheet     \n",
    "</div>"
   ]
  },
  {
   "cell_type": "markdown",
   "metadata": {},
   "source": [
    "<div class=\"alert alert-success\">\n",
    "<b>Комментарий ревьюера (2): ✅</b>\n",
    "\n",
    "\n",
    "    \n",
    "Поздравляю с успешным завершением проекта 😊👍\n",
    "    \n",
    "И желаю успехов в новых работах 😊\n",
    "    \n",
    "    \n",
    "</div>"
   ]
  },
  {
   "cell_type": "code",
   "execution_count": null,
   "metadata": {},
   "outputs": [],
   "source": []
  }
 ],
 "metadata": {
  "ExecuteTimeLog": [
   {
    "duration": 46,
    "start_time": "2022-12-12T14:53:22.659Z"
   },
   {
    "duration": 5,
    "start_time": "2022-12-12T14:54:46.881Z"
   },
   {
    "duration": 6,
    "start_time": "2022-12-12T14:54:49.028Z"
   },
   {
    "duration": 1278,
    "start_time": "2022-12-12T14:54:55.577Z"
   },
   {
    "duration": 197,
    "start_time": "2022-12-12T14:54:57.744Z"
   },
   {
    "duration": 22,
    "start_time": "2022-12-12T14:57:57.398Z"
   },
   {
    "duration": 60,
    "start_time": "2022-12-12T14:59:42.532Z"
   },
   {
    "duration": 11,
    "start_time": "2022-12-12T14:59:54.094Z"
   },
   {
    "duration": 3,
    "start_time": "2022-12-12T15:00:14.332Z"
   },
   {
    "duration": 4,
    "start_time": "2022-12-12T15:00:19.095Z"
   },
   {
    "duration": 8,
    "start_time": "2022-12-12T15:00:34.899Z"
   },
   {
    "duration": 2,
    "start_time": "2022-12-12T15:00:45.962Z"
   },
   {
    "duration": 8,
    "start_time": "2022-12-12T15:00:48.296Z"
   },
   {
    "duration": 1218,
    "start_time": "2022-12-12T15:01:03.306Z"
   },
   {
    "duration": 71,
    "start_time": "2022-12-12T15:01:04.526Z"
   },
   {
    "duration": 24,
    "start_time": "2022-12-12T15:01:04.598Z"
   },
   {
    "duration": 3,
    "start_time": "2022-12-12T15:01:04.624Z"
   },
   {
    "duration": 13,
    "start_time": "2022-12-12T15:01:25.130Z"
   },
   {
    "duration": 1246,
    "start_time": "2022-12-12T15:02:59.538Z"
   },
   {
    "duration": 1161,
    "start_time": "2022-12-12T15:03:09.294Z"
   },
   {
    "duration": 11,
    "start_time": "2022-12-12T15:03:25.244Z"
   },
   {
    "duration": 11,
    "start_time": "2022-12-12T15:03:54.598Z"
   },
   {
    "duration": 5,
    "start_time": "2022-12-12T15:04:04.283Z"
   },
   {
    "duration": 26,
    "start_time": "2022-12-12T15:04:07.833Z"
   },
   {
    "duration": 13,
    "start_time": "2022-12-12T15:04:27.778Z"
   },
   {
    "duration": 4,
    "start_time": "2022-12-12T15:04:39.593Z"
   },
   {
    "duration": 10,
    "start_time": "2022-12-12T15:04:42.249Z"
   },
   {
    "duration": 10,
    "start_time": "2022-12-12T15:04:54.063Z"
   },
   {
    "duration": 1199,
    "start_time": "2022-12-12T15:05:04.630Z"
   },
   {
    "duration": 86,
    "start_time": "2022-12-12T15:05:05.832Z"
   },
   {
    "duration": 21,
    "start_time": "2022-12-12T15:05:05.919Z"
   },
   {
    "duration": 10,
    "start_time": "2022-12-12T15:05:05.942Z"
   },
   {
    "duration": 12,
    "start_time": "2022-12-12T15:43:21.647Z"
   },
   {
    "duration": 4,
    "start_time": "2022-12-12T15:45:14.456Z"
   },
   {
    "duration": 14,
    "start_time": "2022-12-12T15:45:21.260Z"
   },
   {
    "duration": 108,
    "start_time": "2022-12-12T15:46:40.245Z"
   },
   {
    "duration": 23,
    "start_time": "2022-12-12T15:46:55.510Z"
   },
   {
    "duration": 5,
    "start_time": "2022-12-12T15:47:46.493Z"
   },
   {
    "duration": 9,
    "start_time": "2022-12-12T15:48:51.632Z"
   },
   {
    "duration": 12,
    "start_time": "2022-12-12T15:49:10.510Z"
   },
   {
    "duration": 9,
    "start_time": "2022-12-12T15:49:50.394Z"
   },
   {
    "duration": 4,
    "start_time": "2022-12-12T15:50:08.627Z"
   },
   {
    "duration": 6,
    "start_time": "2022-12-12T15:50:18.543Z"
   },
   {
    "duration": 10,
    "start_time": "2022-12-12T15:51:15.160Z"
   },
   {
    "duration": 37,
    "start_time": "2022-12-12T15:51:35.044Z"
   },
   {
    "duration": 4,
    "start_time": "2022-12-12T15:53:41.064Z"
   },
   {
    "duration": 6,
    "start_time": "2022-12-12T15:53:49.360Z"
   },
   {
    "duration": 4,
    "start_time": "2022-12-12T15:54:00.976Z"
   },
   {
    "duration": 6,
    "start_time": "2022-12-12T15:54:03.209Z"
   },
   {
    "duration": 4,
    "start_time": "2022-12-12T15:54:10.059Z"
   },
   {
    "duration": 5,
    "start_time": "2022-12-12T15:54:12.259Z"
   },
   {
    "duration": 3,
    "start_time": "2022-12-12T15:54:17.492Z"
   },
   {
    "duration": 5,
    "start_time": "2022-12-12T15:54:20.343Z"
   },
   {
    "duration": 33,
    "start_time": "2022-12-12T15:55:31.730Z"
   },
   {
    "duration": 4,
    "start_time": "2022-12-12T15:55:37.310Z"
   },
   {
    "duration": 37,
    "start_time": "2022-12-12T15:55:39.144Z"
   },
   {
    "duration": 1139,
    "start_time": "2022-12-12T15:55:58.850Z"
   },
   {
    "duration": 64,
    "start_time": "2022-12-12T15:55:59.992Z"
   },
   {
    "duration": 26,
    "start_time": "2022-12-12T15:56:00.057Z"
   },
   {
    "duration": 3,
    "start_time": "2022-12-12T15:56:00.085Z"
   },
   {
    "duration": 12,
    "start_time": "2022-12-12T15:56:00.090Z"
   },
   {
    "duration": 21,
    "start_time": "2022-12-12T15:56:00.103Z"
   },
   {
    "duration": 39,
    "start_time": "2022-12-12T15:56:00.125Z"
   },
   {
    "duration": 5,
    "start_time": "2022-12-12T15:56:28.862Z"
   },
   {
    "duration": 42,
    "start_time": "2022-12-12T15:56:49.131Z"
   },
   {
    "duration": 98,
    "start_time": "2022-12-12T15:58:30.241Z"
   },
   {
    "duration": 9,
    "start_time": "2022-12-12T15:58:38.891Z"
   },
   {
    "duration": 11,
    "start_time": "2022-12-12T15:58:45.548Z"
   },
   {
    "duration": 1125,
    "start_time": "2022-12-12T15:59:03.475Z"
   },
   {
    "duration": 63,
    "start_time": "2022-12-12T15:59:04.602Z"
   },
   {
    "duration": 25,
    "start_time": "2022-12-12T15:59:04.666Z"
   },
   {
    "duration": 2,
    "start_time": "2022-12-12T15:59:04.693Z"
   },
   {
    "duration": 22,
    "start_time": "2022-12-12T15:59:04.698Z"
   },
   {
    "duration": 104,
    "start_time": "2022-12-12T15:59:04.721Z"
   },
   {
    "duration": 0,
    "start_time": "2022-12-12T15:59:04.827Z"
   },
   {
    "duration": 0,
    "start_time": "2022-12-12T15:59:04.828Z"
   },
   {
    "duration": 0,
    "start_time": "2022-12-12T15:59:04.829Z"
   },
   {
    "duration": 6,
    "start_time": "2022-12-12T15:59:22.831Z"
   },
   {
    "duration": 5,
    "start_time": "2022-12-12T15:59:29.209Z"
   },
   {
    "duration": 28,
    "start_time": "2022-12-12T15:59:32.192Z"
   },
   {
    "duration": 20,
    "start_time": "2022-12-12T16:00:10.368Z"
   },
   {
    "duration": 13,
    "start_time": "2022-12-12T16:03:34.695Z"
   },
   {
    "duration": 787,
    "start_time": "2022-12-12T16:09:09.844Z"
   },
   {
    "duration": 11,
    "start_time": "2022-12-12T16:09:51.928Z"
   },
   {
    "duration": 1161,
    "start_time": "2022-12-12T16:09:56.604Z"
   },
   {
    "duration": 62,
    "start_time": "2022-12-12T16:09:57.767Z"
   },
   {
    "duration": 26,
    "start_time": "2022-12-12T16:09:57.831Z"
   },
   {
    "duration": 4,
    "start_time": "2022-12-12T16:09:57.859Z"
   },
   {
    "duration": 18,
    "start_time": "2022-12-12T16:09:57.865Z"
   },
   {
    "duration": 28,
    "start_time": "2022-12-12T16:09:57.885Z"
   },
   {
    "duration": 837,
    "start_time": "2022-12-12T16:09:57.915Z"
   },
   {
    "duration": 31,
    "start_time": "2022-12-12T16:09:58.753Z"
   },
   {
    "duration": 537,
    "start_time": "2022-12-12T16:10:10.980Z"
   },
   {
    "duration": 629,
    "start_time": "2022-12-12T16:10:22.512Z"
   },
   {
    "duration": 624,
    "start_time": "2022-12-12T16:10:32.310Z"
   },
   {
    "duration": 594,
    "start_time": "2022-12-12T16:10:42.347Z"
   },
   {
    "duration": 20,
    "start_time": "2022-12-12T16:11:21.151Z"
   },
   {
    "duration": 10,
    "start_time": "2022-12-12T16:11:45.868Z"
   },
   {
    "duration": 12,
    "start_time": "2022-12-12T16:12:27.959Z"
   },
   {
    "duration": 9,
    "start_time": "2022-12-12T16:14:00.126Z"
   },
   {
    "duration": 24,
    "start_time": "2022-12-12T16:14:48.293Z"
   },
   {
    "duration": 115,
    "start_time": "2022-12-12T16:16:28.393Z"
   },
   {
    "duration": 27,
    "start_time": "2022-12-12T16:16:56.911Z"
   },
   {
    "duration": 27,
    "start_time": "2022-12-12T16:18:18.276Z"
   },
   {
    "duration": 6,
    "start_time": "2022-12-12T16:18:57.988Z"
   },
   {
    "duration": 114,
    "start_time": "2022-12-12T16:19:48.447Z"
   },
   {
    "duration": 26,
    "start_time": "2022-12-12T16:19:56.051Z"
   },
   {
    "duration": 10,
    "start_time": "2022-12-12T16:22:10.643Z"
   },
   {
    "duration": 10,
    "start_time": "2022-12-12T16:23:10.509Z"
   },
   {
    "duration": 9,
    "start_time": "2022-12-12T16:23:19.095Z"
   },
   {
    "duration": 22,
    "start_time": "2022-12-12T16:25:40.683Z"
   },
   {
    "duration": 18,
    "start_time": "2022-12-12T16:29:42.209Z"
   },
   {
    "duration": 18,
    "start_time": "2022-12-12T16:29:54.688Z"
   },
   {
    "duration": 13,
    "start_time": "2022-12-12T16:31:38.159Z"
   },
   {
    "duration": 6,
    "start_time": "2022-12-12T16:32:10.406Z"
   },
   {
    "duration": 12,
    "start_time": "2022-12-12T16:34:06.140Z"
   },
   {
    "duration": 25,
    "start_time": "2022-12-12T16:34:37.174Z"
   },
   {
    "duration": 125,
    "start_time": "2022-12-12T16:35:35.307Z"
   },
   {
    "duration": 25,
    "start_time": "2022-12-12T16:37:40.147Z"
   },
   {
    "duration": 6,
    "start_time": "2022-12-12T16:38:19.623Z"
   },
   {
    "duration": 6,
    "start_time": "2022-12-12T16:39:07.549Z"
   },
   {
    "duration": 21,
    "start_time": "2022-12-12T16:39:13.225Z"
   },
   {
    "duration": 19,
    "start_time": "2022-12-12T16:39:33.525Z"
   },
   {
    "duration": 15,
    "start_time": "2022-12-12T16:39:48.692Z"
   },
   {
    "duration": 17,
    "start_time": "2022-12-12T16:43:36.925Z"
   },
   {
    "duration": 1246,
    "start_time": "2022-12-12T16:43:53.127Z"
   },
   {
    "duration": 72,
    "start_time": "2022-12-12T16:43:54.375Z"
   },
   {
    "duration": 27,
    "start_time": "2022-12-12T16:43:54.448Z"
   },
   {
    "duration": 3,
    "start_time": "2022-12-12T16:43:54.477Z"
   },
   {
    "duration": 9,
    "start_time": "2022-12-12T16:43:54.482Z"
   },
   {
    "duration": 11,
    "start_time": "2022-12-12T16:43:54.492Z"
   },
   {
    "duration": 24,
    "start_time": "2022-12-12T16:43:54.505Z"
   },
   {
    "duration": 8,
    "start_time": "2022-12-12T16:43:54.531Z"
   },
   {
    "duration": 12,
    "start_time": "2022-12-12T16:43:54.541Z"
   },
   {
    "duration": 38,
    "start_time": "2022-12-12T16:43:54.555Z"
   },
   {
    "duration": 41,
    "start_time": "2022-12-12T16:43:54.595Z"
   },
   {
    "duration": 11,
    "start_time": "2022-12-12T16:45:50.565Z"
   },
   {
    "duration": 1122,
    "start_time": "2022-12-12T16:45:57.766Z"
   },
   {
    "duration": 64,
    "start_time": "2022-12-12T16:45:58.890Z"
   },
   {
    "duration": 25,
    "start_time": "2022-12-12T16:45:58.956Z"
   },
   {
    "duration": 3,
    "start_time": "2022-12-12T16:45:58.983Z"
   },
   {
    "duration": 10,
    "start_time": "2022-12-12T16:45:58.987Z"
   },
   {
    "duration": 25,
    "start_time": "2022-12-12T16:45:58.999Z"
   },
   {
    "duration": 9,
    "start_time": "2022-12-12T16:45:59.025Z"
   },
   {
    "duration": 11,
    "start_time": "2022-12-12T16:45:59.036Z"
   },
   {
    "duration": 14,
    "start_time": "2022-12-12T16:45:59.049Z"
   },
   {
    "duration": 65,
    "start_time": "2022-12-12T16:45:59.065Z"
   },
   {
    "duration": 15,
    "start_time": "2022-12-12T16:45:59.132Z"
   },
   {
    "duration": 21,
    "start_time": "2022-12-12T16:46:07.947Z"
   },
   {
    "duration": 97,
    "start_time": "2022-12-12T16:48:00.091Z"
   },
   {
    "duration": 5,
    "start_time": "2022-12-12T16:48:10.092Z"
   },
   {
    "duration": 33,
    "start_time": "2022-12-12T16:48:16.859Z"
   },
   {
    "duration": 5,
    "start_time": "2022-12-12T16:52:51.042Z"
   },
   {
    "duration": 6,
    "start_time": "2022-12-12T16:53:25.425Z"
   },
   {
    "duration": 38,
    "start_time": "2022-12-12T16:53:29.684Z"
   },
   {
    "duration": 5,
    "start_time": "2022-12-12T16:54:45.573Z"
   },
   {
    "duration": 1156,
    "start_time": "2022-12-12T16:54:55.618Z"
   },
   {
    "duration": 64,
    "start_time": "2022-12-12T16:54:56.776Z"
   },
   {
    "duration": 23,
    "start_time": "2022-12-12T16:54:56.842Z"
   },
   {
    "duration": 3,
    "start_time": "2022-12-12T16:54:56.867Z"
   },
   {
    "duration": 8,
    "start_time": "2022-12-12T16:54:56.872Z"
   },
   {
    "duration": 12,
    "start_time": "2022-12-12T16:54:56.882Z"
   },
   {
    "duration": 10,
    "start_time": "2022-12-12T16:54:56.895Z"
   },
   {
    "duration": 8,
    "start_time": "2022-12-12T16:54:56.922Z"
   },
   {
    "duration": 15,
    "start_time": "2022-12-12T16:54:56.931Z"
   },
   {
    "duration": 38,
    "start_time": "2022-12-12T16:54:56.948Z"
   },
   {
    "duration": 4,
    "start_time": "2022-12-12T16:54:56.988Z"
   },
   {
    "duration": 60,
    "start_time": "2022-12-12T16:54:56.994Z"
   },
   {
    "duration": 10,
    "start_time": "2022-12-12T17:35:32.437Z"
   },
   {
    "duration": 11,
    "start_time": "2022-12-12T17:35:44.147Z"
   },
   {
    "duration": 1200,
    "start_time": "2022-12-12T17:35:51.339Z"
   },
   {
    "duration": 60,
    "start_time": "2022-12-12T17:35:52.541Z"
   },
   {
    "duration": 24,
    "start_time": "2022-12-12T17:35:52.603Z"
   },
   {
    "duration": 4,
    "start_time": "2022-12-12T17:35:52.629Z"
   },
   {
    "duration": 9,
    "start_time": "2022-12-12T17:35:52.636Z"
   },
   {
    "duration": 10,
    "start_time": "2022-12-12T17:35:52.647Z"
   },
   {
    "duration": 8,
    "start_time": "2022-12-12T17:35:52.659Z"
   },
   {
    "duration": 17,
    "start_time": "2022-12-12T17:35:52.668Z"
   },
   {
    "duration": 17,
    "start_time": "2022-12-12T17:35:52.687Z"
   },
   {
    "duration": 54,
    "start_time": "2022-12-12T17:35:52.705Z"
   },
   {
    "duration": 15,
    "start_time": "2022-12-12T17:35:52.760Z"
   },
   {
    "duration": 2,
    "start_time": "2022-12-12T17:35:52.777Z"
   },
   {
    "duration": 64,
    "start_time": "2022-12-12T17:35:52.781Z"
   },
   {
    "duration": 17,
    "start_time": "2022-12-12T17:36:32.054Z"
   },
   {
    "duration": 2,
    "start_time": "2022-12-12T17:37:52.173Z"
   },
   {
    "duration": 6,
    "start_time": "2022-12-12T17:38:44.205Z"
   },
   {
    "duration": 39,
    "start_time": "2022-12-12T17:38:49.003Z"
   },
   {
    "duration": 8,
    "start_time": "2022-12-12T17:39:12.820Z"
   },
   {
    "duration": 22,
    "start_time": "2022-12-12T17:39:41.836Z"
   },
   {
    "duration": 5,
    "start_time": "2022-12-12T17:47:23.755Z"
   },
   {
    "duration": 19,
    "start_time": "2022-12-12T17:47:26.620Z"
   },
   {
    "duration": 18,
    "start_time": "2022-12-12T17:47:44.563Z"
   },
   {
    "duration": 1160,
    "start_time": "2022-12-12T17:47:50.940Z"
   },
   {
    "duration": 60,
    "start_time": "2022-12-12T17:47:52.102Z"
   },
   {
    "duration": 25,
    "start_time": "2022-12-12T17:47:52.164Z"
   },
   {
    "duration": 4,
    "start_time": "2022-12-12T17:47:52.191Z"
   },
   {
    "duration": 9,
    "start_time": "2022-12-12T17:47:52.197Z"
   },
   {
    "duration": 23,
    "start_time": "2022-12-12T17:47:52.207Z"
   },
   {
    "duration": 10,
    "start_time": "2022-12-12T17:47:52.231Z"
   },
   {
    "duration": 8,
    "start_time": "2022-12-12T17:47:52.243Z"
   },
   {
    "duration": 14,
    "start_time": "2022-12-12T17:47:52.252Z"
   },
   {
    "duration": 70,
    "start_time": "2022-12-12T17:47:52.268Z"
   },
   {
    "duration": 4,
    "start_time": "2022-12-12T17:47:52.339Z"
   },
   {
    "duration": 7,
    "start_time": "2022-12-12T17:47:52.344Z"
   },
   {
    "duration": 25,
    "start_time": "2022-12-12T17:47:52.352Z"
   },
   {
    "duration": 63,
    "start_time": "2022-12-12T17:47:52.380Z"
   },
   {
    "duration": 5,
    "start_time": "2022-12-12T17:48:38.571Z"
   },
   {
    "duration": 22,
    "start_time": "2022-12-12T17:48:41.637Z"
   },
   {
    "duration": 40,
    "start_time": "2022-12-12T17:48:51.372Z"
   },
   {
    "duration": 20,
    "start_time": "2022-12-12T17:49:06.987Z"
   },
   {
    "duration": 4,
    "start_time": "2022-12-12T17:49:31.738Z"
   },
   {
    "duration": 21,
    "start_time": "2022-12-12T17:49:35.688Z"
   },
   {
    "duration": 18,
    "start_time": "2022-12-12T17:49:52.792Z"
   },
   {
    "duration": 30,
    "start_time": "2022-12-12T17:49:55.805Z"
   },
   {
    "duration": 1204,
    "start_time": "2022-12-12T17:50:05.518Z"
   },
   {
    "duration": 66,
    "start_time": "2022-12-12T17:50:06.726Z"
   },
   {
    "duration": 25,
    "start_time": "2022-12-12T17:50:06.793Z"
   },
   {
    "duration": 3,
    "start_time": "2022-12-12T17:50:06.821Z"
   },
   {
    "duration": 25,
    "start_time": "2022-12-12T17:50:06.826Z"
   },
   {
    "duration": 11,
    "start_time": "2022-12-12T17:50:06.853Z"
   },
   {
    "duration": 10,
    "start_time": "2022-12-12T17:50:06.866Z"
   },
   {
    "duration": 7,
    "start_time": "2022-12-12T17:50:06.878Z"
   },
   {
    "duration": 14,
    "start_time": "2022-12-12T17:50:06.887Z"
   },
   {
    "duration": 50,
    "start_time": "2022-12-12T17:50:06.903Z"
   },
   {
    "duration": 3,
    "start_time": "2022-12-12T17:50:06.954Z"
   },
   {
    "duration": 8,
    "start_time": "2022-12-12T17:50:06.958Z"
   },
   {
    "duration": 17,
    "start_time": "2022-12-12T17:50:06.968Z"
   },
   {
    "duration": 44,
    "start_time": "2022-12-12T17:50:06.987Z"
   },
   {
    "duration": 5,
    "start_time": "2022-12-12T17:51:32.538Z"
   },
   {
    "duration": 20,
    "start_time": "2022-12-12T17:51:42.221Z"
   },
   {
    "duration": 9,
    "start_time": "2022-12-12T17:52:07.688Z"
   },
   {
    "duration": 6,
    "start_time": "2022-12-12T17:52:55.439Z"
   },
   {
    "duration": 49,
    "start_time": "2022-12-12T17:53:04.037Z"
   },
   {
    "duration": 11,
    "start_time": "2022-12-12T18:02:00.305Z"
   },
   {
    "duration": 15,
    "start_time": "2022-12-12T18:04:05.250Z"
   },
   {
    "duration": 36,
    "start_time": "2022-12-12T18:04:10.770Z"
   },
   {
    "duration": 9,
    "start_time": "2022-12-12T18:04:15.454Z"
   },
   {
    "duration": 55,
    "start_time": "2022-12-13T07:13:10.666Z"
   },
   {
    "duration": 52,
    "start_time": "2022-12-13T07:14:05.198Z"
   },
   {
    "duration": 0,
    "start_time": "2022-12-13T07:14:05.252Z"
   },
   {
    "duration": 1293,
    "start_time": "2022-12-13T07:14:05.300Z"
   },
   {
    "duration": 114,
    "start_time": "2022-12-13T07:14:06.595Z"
   },
   {
    "duration": 23,
    "start_time": "2022-12-13T07:14:06.711Z"
   },
   {
    "duration": 2,
    "start_time": "2022-12-13T07:14:06.736Z"
   },
   {
    "duration": 7,
    "start_time": "2022-12-13T07:14:06.740Z"
   },
   {
    "duration": 10,
    "start_time": "2022-12-13T07:14:06.748Z"
   },
   {
    "duration": 8,
    "start_time": "2022-12-13T07:14:06.759Z"
   },
   {
    "duration": 10,
    "start_time": "2022-12-13T07:14:06.768Z"
   },
   {
    "duration": 15,
    "start_time": "2022-12-13T07:14:06.780Z"
   },
   {
    "duration": 54,
    "start_time": "2022-12-13T07:14:06.797Z"
   },
   {
    "duration": 2,
    "start_time": "2022-12-13T07:14:06.853Z"
   },
   {
    "duration": 16,
    "start_time": "2022-12-13T07:14:06.857Z"
   },
   {
    "duration": 49,
    "start_time": "2022-12-13T07:14:06.874Z"
   },
   {
    "duration": 8,
    "start_time": "2022-12-13T07:14:06.924Z"
   },
   {
    "duration": 8,
    "start_time": "2022-12-13T07:27:46.483Z"
   },
   {
    "duration": 1139,
    "start_time": "2022-12-13T07:27:52.522Z"
   },
   {
    "duration": 65,
    "start_time": "2022-12-13T07:27:53.662Z"
   },
   {
    "duration": 29,
    "start_time": "2022-12-13T07:27:53.729Z"
   },
   {
    "duration": 3,
    "start_time": "2022-12-13T07:27:53.760Z"
   },
   {
    "duration": 13,
    "start_time": "2022-12-13T07:27:53.764Z"
   },
   {
    "duration": 15,
    "start_time": "2022-12-13T07:27:53.779Z"
   },
   {
    "duration": 10,
    "start_time": "2022-12-13T07:27:53.795Z"
   },
   {
    "duration": 18,
    "start_time": "2022-12-13T07:27:53.807Z"
   },
   {
    "duration": 13,
    "start_time": "2022-12-13T07:27:53.827Z"
   },
   {
    "duration": 51,
    "start_time": "2022-12-13T07:27:53.841Z"
   },
   {
    "duration": 2,
    "start_time": "2022-12-13T07:27:53.894Z"
   },
   {
    "duration": 32,
    "start_time": "2022-12-13T07:27:53.898Z"
   },
   {
    "duration": 37,
    "start_time": "2022-12-13T07:27:53.932Z"
   },
   {
    "duration": 9,
    "start_time": "2022-12-13T07:27:53.971Z"
   },
   {
    "duration": 9,
    "start_time": "2022-12-13T07:28:41.543Z"
   },
   {
    "duration": 17,
    "start_time": "2022-12-13T07:29:09.293Z"
   },
   {
    "duration": 9,
    "start_time": "2022-12-13T07:29:36.126Z"
   },
   {
    "duration": 6,
    "start_time": "2022-12-13T07:30:14.760Z"
   },
   {
    "duration": 6,
    "start_time": "2022-12-13T07:30:20.473Z"
   },
   {
    "duration": 2,
    "start_time": "2022-12-13T07:32:55.293Z"
   },
   {
    "duration": 2,
    "start_time": "2022-12-13T07:32:58.044Z"
   },
   {
    "duration": 6,
    "start_time": "2022-12-13T07:33:06.279Z"
   },
   {
    "duration": 2,
    "start_time": "2022-12-13T07:33:19.477Z"
   },
   {
    "duration": 6,
    "start_time": "2022-12-13T07:34:12.442Z"
   },
   {
    "duration": 5,
    "start_time": "2022-12-13T07:34:26.893Z"
   },
   {
    "duration": 5,
    "start_time": "2022-12-13T07:34:34.376Z"
   },
   {
    "duration": 4,
    "start_time": "2022-12-13T07:34:56.060Z"
   },
   {
    "duration": 1138,
    "start_time": "2022-12-13T07:35:00.533Z"
   },
   {
    "duration": 67,
    "start_time": "2022-12-13T07:35:01.672Z"
   },
   {
    "duration": 22,
    "start_time": "2022-12-13T07:35:01.740Z"
   },
   {
    "duration": 12,
    "start_time": "2022-12-13T07:35:01.764Z"
   },
   {
    "duration": 36,
    "start_time": "2022-12-13T07:35:01.778Z"
   },
   {
    "duration": 30,
    "start_time": "2022-12-13T07:35:01.816Z"
   },
   {
    "duration": 27,
    "start_time": "2022-12-13T07:35:01.847Z"
   },
   {
    "duration": 26,
    "start_time": "2022-12-13T07:35:01.876Z"
   },
   {
    "duration": 34,
    "start_time": "2022-12-13T07:35:01.904Z"
   },
   {
    "duration": 55,
    "start_time": "2022-12-13T07:35:01.940Z"
   },
   {
    "duration": 6,
    "start_time": "2022-12-13T07:35:01.997Z"
   },
   {
    "duration": 28,
    "start_time": "2022-12-13T07:35:02.004Z"
   },
   {
    "duration": 18,
    "start_time": "2022-12-13T07:35:02.034Z"
   },
   {
    "duration": 19,
    "start_time": "2022-12-13T07:35:02.055Z"
   },
   {
    "duration": 18,
    "start_time": "2022-12-13T07:35:30.642Z"
   },
   {
    "duration": 126,
    "start_time": "2022-12-13T07:36:36.911Z"
   },
   {
    "duration": 95,
    "start_time": "2022-12-13T07:37:00.814Z"
   },
   {
    "duration": 6,
    "start_time": "2022-12-13T07:37:46.625Z"
   },
   {
    "duration": 5,
    "start_time": "2022-12-13T07:38:03.574Z"
   },
   {
    "duration": 6,
    "start_time": "2022-12-13T07:38:11.370Z"
   },
   {
    "duration": 778,
    "start_time": "2022-12-13T07:43:41.942Z"
   },
   {
    "duration": 3,
    "start_time": "2022-12-13T07:44:39.359Z"
   },
   {
    "duration": 1177,
    "start_time": "2022-12-13T07:44:44.603Z"
   },
   {
    "duration": 63,
    "start_time": "2022-12-13T07:44:45.781Z"
   },
   {
    "duration": 20,
    "start_time": "2022-12-13T07:44:45.846Z"
   },
   {
    "duration": 2,
    "start_time": "2022-12-13T07:44:45.868Z"
   },
   {
    "duration": 7,
    "start_time": "2022-12-13T07:44:45.872Z"
   },
   {
    "duration": 8,
    "start_time": "2022-12-13T07:44:45.881Z"
   },
   {
    "duration": 31,
    "start_time": "2022-12-13T07:44:45.891Z"
   },
   {
    "duration": 7,
    "start_time": "2022-12-13T07:44:45.924Z"
   },
   {
    "duration": 14,
    "start_time": "2022-12-13T07:44:45.932Z"
   },
   {
    "duration": 37,
    "start_time": "2022-12-13T07:44:45.947Z"
   },
   {
    "duration": 35,
    "start_time": "2022-12-13T07:44:45.986Z"
   },
   {
    "duration": 843,
    "start_time": "2022-12-13T07:44:46.022Z"
   },
   {
    "duration": 2,
    "start_time": "2022-12-13T07:44:46.866Z"
   },
   {
    "duration": 9,
    "start_time": "2022-12-13T07:44:46.870Z"
   },
   {
    "duration": 9,
    "start_time": "2022-12-13T07:44:46.881Z"
   },
   {
    "duration": 96,
    "start_time": "2022-12-13T07:48:17.208Z"
   },
   {
    "duration": 201,
    "start_time": "2022-12-13T07:48:26.388Z"
   },
   {
    "duration": 45,
    "start_time": "2022-12-13T07:49:24.808Z"
   },
   {
    "duration": 11,
    "start_time": "2022-12-13T07:49:44.073Z"
   },
   {
    "duration": 3430,
    "start_time": "2022-12-13T07:56:02.046Z"
   },
   {
    "duration": 3190,
    "start_time": "2022-12-13T07:56:21.740Z"
   },
   {
    "duration": 3356,
    "start_time": "2022-12-13T07:56:35.113Z"
   },
   {
    "duration": 3677,
    "start_time": "2022-12-13T07:57:00.071Z"
   },
   {
    "duration": 13,
    "start_time": "2022-12-13T08:01:34.706Z"
   },
   {
    "duration": 592,
    "start_time": "2022-12-13T08:02:39.390Z"
   },
   {
    "duration": 569,
    "start_time": "2022-12-13T08:02:47.306Z"
   },
   {
    "duration": 904,
    "start_time": "2022-12-13T08:06:18.540Z"
   },
   {
    "duration": 6,
    "start_time": "2022-12-13T08:06:39.372Z"
   },
   {
    "duration": 9,
    "start_time": "2022-12-13T08:07:17.391Z"
   },
   {
    "duration": 4,
    "start_time": "2022-12-13T08:07:28.557Z"
   },
   {
    "duration": 5,
    "start_time": "2022-12-13T08:07:31.539Z"
   },
   {
    "duration": 5,
    "start_time": "2022-12-13T08:07:38.473Z"
   },
   {
    "duration": 7,
    "start_time": "2022-12-13T08:07:45.655Z"
   },
   {
    "duration": 7,
    "start_time": "2022-12-13T08:08:24.256Z"
   },
   {
    "duration": 7,
    "start_time": "2022-12-13T08:09:14.588Z"
   },
   {
    "duration": 6,
    "start_time": "2022-12-13T08:09:19.407Z"
   },
   {
    "duration": 7,
    "start_time": "2022-12-13T08:09:43.840Z"
   },
   {
    "duration": 7,
    "start_time": "2022-12-13T08:09:55.376Z"
   },
   {
    "duration": 6,
    "start_time": "2022-12-13T08:10:02.657Z"
   },
   {
    "duration": 6,
    "start_time": "2022-12-13T08:10:13.656Z"
   },
   {
    "duration": 5,
    "start_time": "2022-12-13T08:11:43.139Z"
   },
   {
    "duration": 1082,
    "start_time": "2022-12-13T08:11:50.355Z"
   },
   {
    "duration": 69,
    "start_time": "2022-12-13T08:11:51.439Z"
   },
   {
    "duration": 29,
    "start_time": "2022-12-13T08:11:51.510Z"
   },
   {
    "duration": 27,
    "start_time": "2022-12-13T08:11:51.541Z"
   },
   {
    "duration": 14,
    "start_time": "2022-12-13T08:11:51.570Z"
   },
   {
    "duration": 17,
    "start_time": "2022-12-13T08:11:51.586Z"
   },
   {
    "duration": 14,
    "start_time": "2022-12-13T08:11:51.604Z"
   },
   {
    "duration": 26,
    "start_time": "2022-12-13T08:11:51.619Z"
   },
   {
    "duration": 18,
    "start_time": "2022-12-13T08:11:51.647Z"
   },
   {
    "duration": 42,
    "start_time": "2022-12-13T08:11:51.666Z"
   },
   {
    "duration": 18,
    "start_time": "2022-12-13T08:11:51.710Z"
   },
   {
    "duration": 3571,
    "start_time": "2022-12-13T08:11:51.729Z"
   },
   {
    "duration": 20,
    "start_time": "2022-12-13T08:11:55.303Z"
   },
   {
    "duration": 585,
    "start_time": "2022-12-13T08:11:55.326Z"
   },
   {
    "duration": 10,
    "start_time": "2022-12-13T08:11:55.912Z"
   },
   {
    "duration": 24,
    "start_time": "2022-12-13T08:11:55.924Z"
   },
   {
    "duration": 11,
    "start_time": "2022-12-13T08:11:55.950Z"
   },
   {
    "duration": 5,
    "start_time": "2022-12-13T08:12:40.107Z"
   },
   {
    "duration": 20,
    "start_time": "2022-12-13T08:12:57.972Z"
   },
   {
    "duration": 9,
    "start_time": "2022-12-13T08:16:02.540Z"
   },
   {
    "duration": 9,
    "start_time": "2022-12-13T08:16:15.789Z"
   },
   {
    "duration": 9,
    "start_time": "2022-12-13T08:16:25.976Z"
   },
   {
    "duration": 94,
    "start_time": "2022-12-13T08:17:34.742Z"
   },
   {
    "duration": 19,
    "start_time": "2022-12-13T08:17:43.461Z"
   },
   {
    "duration": 5,
    "start_time": "2022-12-13T08:19:42.658Z"
   },
   {
    "duration": 6,
    "start_time": "2022-12-13T08:20:33.441Z"
   },
   {
    "duration": 50,
    "start_time": "2022-12-13T08:22:22.907Z"
   },
   {
    "duration": 9,
    "start_time": "2022-12-13T08:22:30.340Z"
   },
   {
    "duration": 26,
    "start_time": "2022-12-13T08:26:31.492Z"
   },
   {
    "duration": 22,
    "start_time": "2022-12-13T08:26:54.406Z"
   },
   {
    "duration": 24,
    "start_time": "2022-12-13T08:28:48.042Z"
   },
   {
    "duration": 23,
    "start_time": "2022-12-13T08:30:24.291Z"
   },
   {
    "duration": 27,
    "start_time": "2022-12-13T08:30:56.550Z"
   },
   {
    "duration": 20,
    "start_time": "2022-12-13T08:31:06.846Z"
   },
   {
    "duration": 13,
    "start_time": "2022-12-13T08:31:39.805Z"
   },
   {
    "duration": 11,
    "start_time": "2022-12-13T08:32:00.222Z"
   },
   {
    "duration": 19,
    "start_time": "2022-12-13T08:32:05.592Z"
   },
   {
    "duration": 23,
    "start_time": "2022-12-13T08:33:46.974Z"
   },
   {
    "duration": 17,
    "start_time": "2022-12-13T08:33:54.274Z"
   },
   {
    "duration": 50,
    "start_time": "2022-12-13T08:35:07.588Z"
   },
   {
    "duration": 18,
    "start_time": "2022-12-13T08:36:03.190Z"
   },
   {
    "duration": 14,
    "start_time": "2022-12-13T08:50:15.206Z"
   },
   {
    "duration": 19,
    "start_time": "2022-12-13T08:51:54.840Z"
   },
   {
    "duration": 1146,
    "start_time": "2022-12-13T08:52:06.112Z"
   },
   {
    "duration": 66,
    "start_time": "2022-12-13T08:52:07.260Z"
   },
   {
    "duration": 23,
    "start_time": "2022-12-13T08:52:07.328Z"
   },
   {
    "duration": 15,
    "start_time": "2022-12-13T08:52:07.353Z"
   },
   {
    "duration": 25,
    "start_time": "2022-12-13T08:52:07.370Z"
   },
   {
    "duration": 15,
    "start_time": "2022-12-13T08:52:07.397Z"
   },
   {
    "duration": 31,
    "start_time": "2022-12-13T08:52:07.413Z"
   },
   {
    "duration": 28,
    "start_time": "2022-12-13T08:52:07.447Z"
   },
   {
    "duration": 26,
    "start_time": "2022-12-13T08:52:07.477Z"
   },
   {
    "duration": 76,
    "start_time": "2022-12-13T08:52:07.504Z"
   },
   {
    "duration": 3623,
    "start_time": "2022-12-13T08:52:07.581Z"
   },
   {
    "duration": 15,
    "start_time": "2022-12-13T08:52:11.205Z"
   },
   {
    "duration": 573,
    "start_time": "2022-12-13T08:52:11.222Z"
   },
   {
    "duration": 24,
    "start_time": "2022-12-13T08:52:11.797Z"
   },
   {
    "duration": 19,
    "start_time": "2022-12-13T08:52:11.823Z"
   },
   {
    "duration": 875,
    "start_time": "2022-12-13T09:13:28.125Z"
   },
   {
    "duration": 795,
    "start_time": "2022-12-13T09:14:04.557Z"
   },
   {
    "duration": 49,
    "start_time": "2022-12-13T09:20:39.353Z"
   },
   {
    "duration": 43,
    "start_time": "2022-12-13T09:20:48.832Z"
   },
   {
    "duration": 4,
    "start_time": "2022-12-13T09:21:24.748Z"
   },
   {
    "duration": 5,
    "start_time": "2022-12-13T09:21:50.948Z"
   },
   {
    "duration": 5,
    "start_time": "2022-12-13T09:21:59.716Z"
   },
   {
    "duration": 3,
    "start_time": "2022-12-13T09:22:45.988Z"
   },
   {
    "duration": 1109,
    "start_time": "2022-12-13T09:22:51.513Z"
   },
   {
    "duration": 63,
    "start_time": "2022-12-13T09:22:52.624Z"
   },
   {
    "duration": 21,
    "start_time": "2022-12-13T09:22:52.689Z"
   },
   {
    "duration": 4,
    "start_time": "2022-12-13T09:22:52.712Z"
   },
   {
    "duration": 13,
    "start_time": "2022-12-13T09:22:52.718Z"
   },
   {
    "duration": 18,
    "start_time": "2022-12-13T09:22:52.732Z"
   },
   {
    "duration": 9,
    "start_time": "2022-12-13T09:22:52.752Z"
   },
   {
    "duration": 10,
    "start_time": "2022-12-13T09:22:52.762Z"
   },
   {
    "duration": 13,
    "start_time": "2022-12-13T09:22:52.774Z"
   },
   {
    "duration": 68,
    "start_time": "2022-12-13T09:22:52.790Z"
   },
   {
    "duration": 3551,
    "start_time": "2022-12-13T09:22:52.861Z"
   },
   {
    "duration": 16,
    "start_time": "2022-12-13T09:22:56.413Z"
   },
   {
    "duration": 573,
    "start_time": "2022-12-13T09:22:56.430Z"
   },
   {
    "duration": 22,
    "start_time": "2022-12-13T09:22:57.004Z"
   },
   {
    "duration": 20,
    "start_time": "2022-12-13T09:22:57.027Z"
   },
   {
    "duration": 4,
    "start_time": "2022-12-13T09:22:57.049Z"
   },
   {
    "duration": 11,
    "start_time": "2022-12-13T09:22:57.055Z"
   },
   {
    "duration": 112,
    "start_time": "2022-12-13T09:23:32.488Z"
   },
   {
    "duration": 712,
    "start_time": "2022-12-13T09:23:54.173Z"
   },
   {
    "duration": 3,
    "start_time": "2022-12-13T09:24:11.764Z"
   },
   {
    "duration": 6,
    "start_time": "2022-12-13T09:24:14.126Z"
   },
   {
    "duration": 4,
    "start_time": "2022-12-13T09:24:43.382Z"
   },
   {
    "duration": 6,
    "start_time": "2022-12-13T09:24:46.569Z"
   },
   {
    "duration": 5,
    "start_time": "2022-12-13T09:25:00.995Z"
   },
   {
    "duration": 5,
    "start_time": "2022-12-13T09:25:03.380Z"
   },
   {
    "duration": 49,
    "start_time": "2022-12-13T14:44:32.896Z"
   },
   {
    "duration": 1382,
    "start_time": "2022-12-13T14:44:43.450Z"
   },
   {
    "duration": 111,
    "start_time": "2022-12-13T14:44:44.834Z"
   },
   {
    "duration": 24,
    "start_time": "2022-12-13T14:44:44.947Z"
   },
   {
    "duration": 3,
    "start_time": "2022-12-13T14:44:44.972Z"
   },
   {
    "duration": 8,
    "start_time": "2022-12-13T14:44:44.977Z"
   },
   {
    "duration": 9,
    "start_time": "2022-12-13T14:44:44.986Z"
   },
   {
    "duration": 8,
    "start_time": "2022-12-13T14:44:44.997Z"
   },
   {
    "duration": 26,
    "start_time": "2022-12-13T14:44:45.007Z"
   },
   {
    "duration": 20,
    "start_time": "2022-12-13T14:44:45.035Z"
   },
   {
    "duration": 55,
    "start_time": "2022-12-13T14:44:45.057Z"
   },
   {
    "duration": 4027,
    "start_time": "2022-12-13T14:44:45.114Z"
   },
   {
    "duration": 18,
    "start_time": "2022-12-13T14:44:49.142Z"
   },
   {
    "duration": 640,
    "start_time": "2022-12-13T14:44:49.162Z"
   },
   {
    "duration": 15,
    "start_time": "2022-12-13T14:44:49.805Z"
   },
   {
    "duration": 20,
    "start_time": "2022-12-13T14:44:49.822Z"
   },
   {
    "duration": 130,
    "start_time": "2022-12-13T14:44:49.844Z"
   },
   {
    "duration": 0,
    "start_time": "2022-12-13T14:44:49.978Z"
   },
   {
    "duration": 12,
    "start_time": "2022-12-13T14:50:37.162Z"
   },
   {
    "duration": 19,
    "start_time": "2022-12-13T14:52:32.560Z"
   },
   {
    "duration": 5,
    "start_time": "2022-12-13T14:53:00.712Z"
   },
   {
    "duration": 6,
    "start_time": "2022-12-13T14:53:03.352Z"
   },
   {
    "duration": 13,
    "start_time": "2022-12-13T15:01:22.270Z"
   },
   {
    "duration": 4,
    "start_time": "2022-12-13T15:01:36.277Z"
   },
   {
    "duration": 4,
    "start_time": "2022-12-13T15:01:41.619Z"
   },
   {
    "duration": 18,
    "start_time": "2022-12-13T15:01:51.139Z"
   },
   {
    "duration": 4,
    "start_time": "2022-12-13T15:02:16.914Z"
   },
   {
    "duration": 9,
    "start_time": "2022-12-13T15:02:18.783Z"
   },
   {
    "duration": 7,
    "start_time": "2022-12-13T15:02:30.129Z"
   },
   {
    "duration": 25,
    "start_time": "2022-12-13T15:03:09.244Z"
   },
   {
    "duration": 6,
    "start_time": "2022-12-13T15:03:11.094Z"
   },
   {
    "duration": 7,
    "start_time": "2022-12-13T15:03:20.928Z"
   },
   {
    "duration": 6,
    "start_time": "2022-12-13T15:03:23.377Z"
   },
   {
    "duration": 8,
    "start_time": "2022-12-13T15:03:34.107Z"
   },
   {
    "duration": 5,
    "start_time": "2022-12-13T15:03:48.094Z"
   },
   {
    "duration": 5,
    "start_time": "2022-12-13T15:04:16.597Z"
   },
   {
    "duration": 5,
    "start_time": "2022-12-13T15:04:47.294Z"
   },
   {
    "duration": 5,
    "start_time": "2022-12-13T15:04:54.277Z"
   },
   {
    "duration": 5,
    "start_time": "2022-12-13T15:06:04.525Z"
   },
   {
    "duration": 6,
    "start_time": "2022-12-13T15:06:11.027Z"
   },
   {
    "duration": 5,
    "start_time": "2022-12-13T15:07:21.461Z"
   },
   {
    "duration": 6,
    "start_time": "2022-12-13T15:07:51.861Z"
   },
   {
    "duration": 5,
    "start_time": "2022-12-13T15:13:52.243Z"
   },
   {
    "duration": 7,
    "start_time": "2022-12-13T15:14:01.295Z"
   },
   {
    "duration": 82,
    "start_time": "2022-12-13T15:14:17.561Z"
   },
   {
    "duration": 7,
    "start_time": "2022-12-13T15:14:19.900Z"
   },
   {
    "duration": 5,
    "start_time": "2022-12-13T15:14:33.412Z"
   },
   {
    "duration": 5,
    "start_time": "2022-12-13T15:14:51.812Z"
   },
   {
    "duration": 5,
    "start_time": "2022-12-13T15:14:53.750Z"
   },
   {
    "duration": 6,
    "start_time": "2022-12-13T15:18:51.318Z"
   },
   {
    "duration": 6,
    "start_time": "2022-12-13T15:19:00.195Z"
   },
   {
    "duration": 6,
    "start_time": "2022-12-13T15:19:33.345Z"
   },
   {
    "duration": 6,
    "start_time": "2022-12-13T15:20:41.112Z"
   },
   {
    "duration": 6,
    "start_time": "2022-12-13T15:20:47.291Z"
   },
   {
    "duration": 8,
    "start_time": "2022-12-13T15:34:07.263Z"
   },
   {
    "duration": 14,
    "start_time": "2022-12-13T15:37:48.303Z"
   },
   {
    "duration": 8,
    "start_time": "2022-12-13T15:38:12.375Z"
   },
   {
    "duration": 6,
    "start_time": "2022-12-13T15:38:16.301Z"
   },
   {
    "duration": 6,
    "start_time": "2022-12-13T15:39:29.777Z"
   },
   {
    "duration": 7,
    "start_time": "2022-12-13T15:39:38.803Z"
   },
   {
    "duration": 8,
    "start_time": "2022-12-13T15:39:56.800Z"
   },
   {
    "duration": 8,
    "start_time": "2022-12-13T15:40:02.412Z"
   },
   {
    "duration": 139,
    "start_time": "2022-12-13T15:42:21.799Z"
   },
   {
    "duration": 9,
    "start_time": "2022-12-13T15:44:10.612Z"
   },
   {
    "duration": 12,
    "start_time": "2022-12-13T15:47:58.245Z"
   },
   {
    "duration": 4,
    "start_time": "2022-12-13T15:48:28.761Z"
   },
   {
    "duration": 12,
    "start_time": "2022-12-13T15:48:35.384Z"
   },
   {
    "duration": 499,
    "start_time": "2022-12-13T15:50:21.510Z"
   },
   {
    "duration": 575,
    "start_time": "2022-12-13T15:53:24.730Z"
   },
   {
    "duration": 9,
    "start_time": "2022-12-13T15:54:36.680Z"
   },
   {
    "duration": 301,
    "start_time": "2022-12-13T15:54:41.501Z"
   },
   {
    "duration": 284,
    "start_time": "2022-12-13T15:57:16.815Z"
   },
   {
    "duration": 859,
    "start_time": "2022-12-13T15:58:34.564Z"
   },
   {
    "duration": 343,
    "start_time": "2022-12-13T15:59:04.122Z"
   },
   {
    "duration": 323,
    "start_time": "2022-12-13T15:59:49.264Z"
   },
   {
    "duration": 10,
    "start_time": "2022-12-13T16:00:54.289Z"
   },
   {
    "duration": 316,
    "start_time": "2022-12-13T16:01:08.089Z"
   },
   {
    "duration": 268,
    "start_time": "2022-12-13T16:02:05.201Z"
   },
   {
    "duration": 368,
    "start_time": "2022-12-13T16:02:35.014Z"
   },
   {
    "duration": 281,
    "start_time": "2022-12-13T16:02:42.380Z"
   },
   {
    "duration": 264,
    "start_time": "2022-12-13T16:03:57.535Z"
   },
   {
    "duration": 279,
    "start_time": "2022-12-13T16:04:07.912Z"
   },
   {
    "duration": 305,
    "start_time": "2022-12-13T16:04:15.629Z"
   },
   {
    "duration": 1291,
    "start_time": "2022-12-13T16:04:22.392Z"
   },
   {
    "duration": 72,
    "start_time": "2022-12-13T16:04:23.691Z"
   },
   {
    "duration": 31,
    "start_time": "2022-12-13T16:04:23.765Z"
   },
   {
    "duration": 4,
    "start_time": "2022-12-13T16:04:23.798Z"
   },
   {
    "duration": 26,
    "start_time": "2022-12-13T16:04:23.804Z"
   },
   {
    "duration": 32,
    "start_time": "2022-12-13T16:04:23.832Z"
   },
   {
    "duration": 69,
    "start_time": "2022-12-13T16:04:23.866Z"
   },
   {
    "duration": 18,
    "start_time": "2022-12-13T16:04:23.937Z"
   },
   {
    "duration": 34,
    "start_time": "2022-12-13T16:04:23.957Z"
   },
   {
    "duration": 76,
    "start_time": "2022-12-13T16:04:23.993Z"
   },
   {
    "duration": 4550,
    "start_time": "2022-12-13T16:04:24.071Z"
   },
   {
    "duration": 17,
    "start_time": "2022-12-13T16:04:28.623Z"
   },
   {
    "duration": 703,
    "start_time": "2022-12-13T16:04:28.642Z"
   },
   {
    "duration": 19,
    "start_time": "2022-12-13T16:04:29.348Z"
   },
   {
    "duration": 24,
    "start_time": "2022-12-13T16:04:29.369Z"
   },
   {
    "duration": 29,
    "start_time": "2022-12-13T16:04:29.395Z"
   },
   {
    "duration": 28,
    "start_time": "2022-12-13T16:04:29.425Z"
   },
   {
    "duration": 21,
    "start_time": "2022-12-13T16:04:29.455Z"
   },
   {
    "duration": 4249,
    "start_time": "2022-12-13T16:04:29.481Z"
   },
   {
    "duration": 69,
    "start_time": "2022-12-13T16:05:30.515Z"
   },
   {
    "duration": 4508,
    "start_time": "2022-12-13T16:05:38.229Z"
   },
   {
    "duration": 4315,
    "start_time": "2022-12-13T16:06:04.260Z"
   },
   {
    "duration": 4,
    "start_time": "2022-12-13T16:08:15.290Z"
   },
   {
    "duration": 9,
    "start_time": "2022-12-13T16:08:36.246Z"
   },
   {
    "duration": 9,
    "start_time": "2022-12-13T16:08:42.216Z"
   },
   {
    "duration": 8,
    "start_time": "2022-12-13T16:13:32.712Z"
   },
   {
    "duration": 9,
    "start_time": "2022-12-13T16:13:54.863Z"
   },
   {
    "duration": 92,
    "start_time": "2022-12-13T16:14:26.963Z"
   },
   {
    "duration": 110,
    "start_time": "2022-12-13T16:14:37.246Z"
   },
   {
    "duration": 15,
    "start_time": "2022-12-13T16:15:28.337Z"
   },
   {
    "duration": 226,
    "start_time": "2022-12-13T16:15:42.235Z"
   },
   {
    "duration": 21,
    "start_time": "2022-12-13T16:41:42.967Z"
   },
   {
    "duration": 10,
    "start_time": "2022-12-13T16:49:32.524Z"
   },
   {
    "duration": 10,
    "start_time": "2022-12-13T16:50:05.235Z"
   },
   {
    "duration": 12,
    "start_time": "2022-12-13T16:50:28.301Z"
   },
   {
    "duration": 11,
    "start_time": "2022-12-13T16:51:08.103Z"
   },
   {
    "duration": 11,
    "start_time": "2022-12-13T16:51:40.618Z"
   },
   {
    "duration": 8,
    "start_time": "2022-12-13T16:52:07.950Z"
   },
   {
    "duration": 762,
    "start_time": "2022-12-13T16:54:06.242Z"
   },
   {
    "duration": 318,
    "start_time": "2022-12-13T16:54:37.302Z"
   },
   {
    "duration": 9,
    "start_time": "2022-12-13T16:55:03.708Z"
   },
   {
    "duration": 8,
    "start_time": "2022-12-13T16:56:54.957Z"
   },
   {
    "duration": 11,
    "start_time": "2022-12-13T16:58:28.142Z"
   },
   {
    "duration": 10,
    "start_time": "2022-12-13T16:59:59.997Z"
   },
   {
    "duration": 11,
    "start_time": "2022-12-13T17:00:05.266Z"
   },
   {
    "duration": 1225,
    "start_time": "2022-12-13T17:00:14.337Z"
   },
   {
    "duration": 66,
    "start_time": "2022-12-13T17:00:15.564Z"
   },
   {
    "duration": 26,
    "start_time": "2022-12-13T17:00:15.632Z"
   },
   {
    "duration": 3,
    "start_time": "2022-12-13T17:00:15.661Z"
   },
   {
    "duration": 13,
    "start_time": "2022-12-13T17:00:15.665Z"
   },
   {
    "duration": 13,
    "start_time": "2022-12-13T17:00:15.680Z"
   },
   {
    "duration": 10,
    "start_time": "2022-12-13T17:00:15.695Z"
   },
   {
    "duration": 8,
    "start_time": "2022-12-13T17:00:15.707Z"
   },
   {
    "duration": 19,
    "start_time": "2022-12-13T17:00:15.717Z"
   },
   {
    "duration": 69,
    "start_time": "2022-12-13T17:00:15.739Z"
   },
   {
    "duration": 4195,
    "start_time": "2022-12-13T17:00:15.810Z"
   },
   {
    "duration": 18,
    "start_time": "2022-12-13T17:00:20.006Z"
   },
   {
    "duration": 658,
    "start_time": "2022-12-13T17:00:20.026Z"
   },
   {
    "duration": 19,
    "start_time": "2022-12-13T17:00:20.686Z"
   },
   {
    "duration": 11,
    "start_time": "2022-12-13T17:00:20.707Z"
   },
   {
    "duration": 29,
    "start_time": "2022-12-13T17:00:20.720Z"
   },
   {
    "duration": 13,
    "start_time": "2022-12-13T17:00:20.750Z"
   },
   {
    "duration": 134,
    "start_time": "2022-12-13T17:00:20.764Z"
   },
   {
    "duration": 0,
    "start_time": "2022-12-13T17:00:20.900Z"
   },
   {
    "duration": 9,
    "start_time": "2022-12-13T17:00:48.733Z"
   },
   {
    "duration": 4098,
    "start_time": "2022-12-13T17:02:05.233Z"
   },
   {
    "duration": 3639,
    "start_time": "2022-12-13T17:02:24.640Z"
   },
   {
    "duration": 14706,
    "start_time": "2022-12-13T17:04:58.741Z"
   },
   {
    "duration": 14068,
    "start_time": "2022-12-13T17:05:30.781Z"
   },
   {
    "duration": 12,
    "start_time": "2022-12-13T17:10:12.283Z"
   },
   {
    "duration": 1310,
    "start_time": "2022-12-13T17:10:48.246Z"
   },
   {
    "duration": 67,
    "start_time": "2022-12-13T17:10:49.558Z"
   },
   {
    "duration": 23,
    "start_time": "2022-12-13T17:10:49.627Z"
   },
   {
    "duration": 3,
    "start_time": "2022-12-13T17:10:49.652Z"
   },
   {
    "duration": 21,
    "start_time": "2022-12-13T17:10:49.657Z"
   },
   {
    "duration": 14,
    "start_time": "2022-12-13T17:10:49.680Z"
   },
   {
    "duration": 10,
    "start_time": "2022-12-13T17:10:49.695Z"
   },
   {
    "duration": 10,
    "start_time": "2022-12-13T17:10:49.707Z"
   },
   {
    "duration": 13,
    "start_time": "2022-12-13T17:10:49.719Z"
   },
   {
    "duration": 60,
    "start_time": "2022-12-13T17:10:49.735Z"
   },
   {
    "duration": 4027,
    "start_time": "2022-12-13T17:10:49.797Z"
   },
   {
    "duration": 15,
    "start_time": "2022-12-13T17:10:53.826Z"
   },
   {
    "duration": 617,
    "start_time": "2022-12-13T17:10:53.843Z"
   },
   {
    "duration": 28,
    "start_time": "2022-12-13T17:10:54.462Z"
   },
   {
    "duration": 9,
    "start_time": "2022-12-13T17:10:54.491Z"
   },
   {
    "duration": 8,
    "start_time": "2022-12-13T17:10:54.501Z"
   },
   {
    "duration": 11,
    "start_time": "2022-12-13T17:10:54.510Z"
   },
   {
    "duration": 9,
    "start_time": "2022-12-13T17:10:54.522Z"
   },
   {
    "duration": 4,
    "start_time": "2022-12-13T17:10:54.533Z"
   },
   {
    "duration": 1274,
    "start_time": "2022-12-13T17:14:08.073Z"
   },
   {
    "duration": 67,
    "start_time": "2022-12-13T17:14:09.349Z"
   },
   {
    "duration": 25,
    "start_time": "2022-12-13T17:14:09.418Z"
   },
   {
    "duration": 3,
    "start_time": "2022-12-13T17:14:09.445Z"
   },
   {
    "duration": 8,
    "start_time": "2022-12-13T17:14:09.450Z"
   },
   {
    "duration": 23,
    "start_time": "2022-12-13T17:14:09.459Z"
   },
   {
    "duration": 8,
    "start_time": "2022-12-13T17:14:09.484Z"
   },
   {
    "duration": 8,
    "start_time": "2022-12-13T17:14:09.494Z"
   },
   {
    "duration": 13,
    "start_time": "2022-12-13T17:14:09.504Z"
   },
   {
    "duration": 68,
    "start_time": "2022-12-13T17:14:09.519Z"
   },
   {
    "duration": 4035,
    "start_time": "2022-12-13T17:14:09.589Z"
   },
   {
    "duration": 17,
    "start_time": "2022-12-13T17:14:13.626Z"
   },
   {
    "duration": 633,
    "start_time": "2022-12-13T17:14:13.644Z"
   },
   {
    "duration": 18,
    "start_time": "2022-12-13T17:14:14.280Z"
   },
   {
    "duration": 10,
    "start_time": "2022-12-13T17:14:14.299Z"
   },
   {
    "duration": 8,
    "start_time": "2022-12-13T17:14:14.311Z"
   },
   {
    "duration": 16,
    "start_time": "2022-12-13T17:14:14.320Z"
   },
   {
    "duration": 41,
    "start_time": "2022-12-13T17:14:14.338Z"
   },
   {
    "duration": 3,
    "start_time": "2022-12-13T17:14:14.380Z"
   },
   {
    "duration": 1179,
    "start_time": "2022-12-13T17:16:38.319Z"
   },
   {
    "duration": 66,
    "start_time": "2022-12-13T17:16:39.500Z"
   },
   {
    "duration": 25,
    "start_time": "2022-12-13T17:16:39.567Z"
   },
   {
    "duration": 3,
    "start_time": "2022-12-13T17:16:39.594Z"
   },
   {
    "duration": 7,
    "start_time": "2022-12-13T17:16:39.599Z"
   },
   {
    "duration": 11,
    "start_time": "2022-12-13T17:16:39.608Z"
   },
   {
    "duration": 9,
    "start_time": "2022-12-13T17:16:39.620Z"
   },
   {
    "duration": 8,
    "start_time": "2022-12-13T17:16:39.631Z"
   },
   {
    "duration": 40,
    "start_time": "2022-12-13T17:16:39.641Z"
   },
   {
    "duration": 42,
    "start_time": "2022-12-13T17:16:39.683Z"
   },
   {
    "duration": 4026,
    "start_time": "2022-12-13T17:16:39.727Z"
   },
   {
    "duration": 20,
    "start_time": "2022-12-13T17:16:43.755Z"
   },
   {
    "duration": 631,
    "start_time": "2022-12-13T17:16:43.777Z"
   },
   {
    "duration": 19,
    "start_time": "2022-12-13T17:16:44.411Z"
   },
   {
    "duration": 10,
    "start_time": "2022-12-13T17:16:44.431Z"
   },
   {
    "duration": 13,
    "start_time": "2022-12-13T17:16:44.442Z"
   },
   {
    "duration": 33,
    "start_time": "2022-12-13T17:16:44.456Z"
   },
   {
    "duration": 156,
    "start_time": "2022-12-13T17:16:44.490Z"
   },
   {
    "duration": 2,
    "start_time": "2022-12-13T17:16:44.648Z"
   },
   {
    "duration": 7,
    "start_time": "2022-12-13T17:16:44.652Z"
   },
   {
    "duration": 18,
    "start_time": "2022-12-13T17:16:44.660Z"
   },
   {
    "duration": 3924,
    "start_time": "2022-12-13T17:17:44.849Z"
   },
   {
    "duration": 3693,
    "start_time": "2022-12-13T17:18:03.724Z"
   },
   {
    "duration": 3875,
    "start_time": "2022-12-13T17:18:40.055Z"
   },
   {
    "duration": 3846,
    "start_time": "2022-12-13T17:18:52.300Z"
   },
   {
    "duration": 4125,
    "start_time": "2022-12-13T17:19:09.781Z"
   },
   {
    "duration": 9,
    "start_time": "2022-12-13T17:19:59.312Z"
   },
   {
    "duration": 9,
    "start_time": "2022-12-13T17:20:19.315Z"
   },
   {
    "duration": 421,
    "start_time": "2022-12-13T17:20:26.615Z"
   },
   {
    "duration": 9,
    "start_time": "2022-12-13T17:21:01.954Z"
   },
   {
    "duration": 308,
    "start_time": "2022-12-13T17:21:24.649Z"
   },
   {
    "duration": 10,
    "start_time": "2022-12-13T17:24:13.014Z"
   },
   {
    "duration": 9,
    "start_time": "2022-12-13T17:24:19.798Z"
   },
   {
    "duration": 207,
    "start_time": "2022-12-13T17:24:25.615Z"
   },
   {
    "duration": 10,
    "start_time": "2022-12-13T17:25:03.883Z"
   },
   {
    "duration": 271,
    "start_time": "2022-12-13T17:26:31.871Z"
   },
   {
    "duration": 11,
    "start_time": "2022-12-13T17:27:56.579Z"
   },
   {
    "duration": 49,
    "start_time": "2022-12-14T07:25:15.376Z"
   },
   {
    "duration": 1320,
    "start_time": "2022-12-14T07:25:20.718Z"
   },
   {
    "duration": 117,
    "start_time": "2022-12-14T07:25:22.040Z"
   },
   {
    "duration": 25,
    "start_time": "2022-12-14T07:25:22.159Z"
   },
   {
    "duration": 3,
    "start_time": "2022-12-14T07:25:22.186Z"
   },
   {
    "duration": 12,
    "start_time": "2022-12-14T07:25:22.191Z"
   },
   {
    "duration": 15,
    "start_time": "2022-12-14T07:25:22.205Z"
   },
   {
    "duration": 12,
    "start_time": "2022-12-14T07:25:22.222Z"
   },
   {
    "duration": 8,
    "start_time": "2022-12-14T07:25:22.235Z"
   },
   {
    "duration": 18,
    "start_time": "2022-12-14T07:25:22.245Z"
   },
   {
    "duration": 51,
    "start_time": "2022-12-14T07:25:22.265Z"
   },
   {
    "duration": 3902,
    "start_time": "2022-12-14T07:25:22.318Z"
   },
   {
    "duration": 18,
    "start_time": "2022-12-14T07:25:26.223Z"
   },
   {
    "duration": 659,
    "start_time": "2022-12-14T07:25:26.242Z"
   },
   {
    "duration": 16,
    "start_time": "2022-12-14T07:25:26.904Z"
   },
   {
    "duration": 14,
    "start_time": "2022-12-14T07:25:26.922Z"
   },
   {
    "duration": 7,
    "start_time": "2022-12-14T07:25:26.938Z"
   },
   {
    "duration": 9,
    "start_time": "2022-12-14T07:25:26.947Z"
   },
   {
    "duration": 8,
    "start_time": "2022-12-14T07:25:26.978Z"
   },
   {
    "duration": 9,
    "start_time": "2022-12-14T07:25:26.987Z"
   },
   {
    "duration": 275,
    "start_time": "2022-12-14T07:25:26.997Z"
   },
   {
    "duration": 249,
    "start_time": "2022-12-14T07:35:48.571Z"
   },
   {
    "duration": 449,
    "start_time": "2022-12-14T07:36:16.311Z"
   },
   {
    "duration": 11,
    "start_time": "2022-12-14T07:36:43.321Z"
   },
   {
    "duration": 1159,
    "start_time": "2022-12-14T07:38:49.191Z"
   },
   {
    "duration": 64,
    "start_time": "2022-12-14T07:38:50.352Z"
   },
   {
    "duration": 24,
    "start_time": "2022-12-14T07:38:50.418Z"
   },
   {
    "duration": 3,
    "start_time": "2022-12-14T07:38:50.444Z"
   },
   {
    "duration": 16,
    "start_time": "2022-12-14T07:38:50.449Z"
   },
   {
    "duration": 10,
    "start_time": "2022-12-14T07:38:50.477Z"
   },
   {
    "duration": 9,
    "start_time": "2022-12-14T07:38:50.488Z"
   },
   {
    "duration": 8,
    "start_time": "2022-12-14T07:38:50.499Z"
   },
   {
    "duration": 20,
    "start_time": "2022-12-14T07:38:50.508Z"
   },
   {
    "duration": 65,
    "start_time": "2022-12-14T07:38:50.529Z"
   },
   {
    "duration": 3981,
    "start_time": "2022-12-14T07:38:50.595Z"
   },
   {
    "duration": 17,
    "start_time": "2022-12-14T07:38:54.578Z"
   },
   {
    "duration": 592,
    "start_time": "2022-12-14T07:38:54.596Z"
   },
   {
    "duration": 18,
    "start_time": "2022-12-14T07:38:55.191Z"
   },
   {
    "duration": 10,
    "start_time": "2022-12-14T07:38:55.210Z"
   },
   {
    "duration": 7,
    "start_time": "2022-12-14T07:38:55.222Z"
   },
   {
    "duration": 15,
    "start_time": "2022-12-14T07:38:55.231Z"
   },
   {
    "duration": 34,
    "start_time": "2022-12-14T07:38:55.248Z"
   },
   {
    "duration": 9,
    "start_time": "2022-12-14T07:38:55.284Z"
   },
   {
    "duration": 262,
    "start_time": "2022-12-14T07:38:55.295Z"
   },
   {
    "duration": 10,
    "start_time": "2022-12-14T07:39:39.737Z"
   },
   {
    "duration": 9,
    "start_time": "2022-12-14T07:39:48.644Z"
   },
   {
    "duration": 227,
    "start_time": "2022-12-14T07:40:14.455Z"
   },
   {
    "duration": 354,
    "start_time": "2022-12-14T07:48:45.003Z"
   },
   {
    "duration": 234,
    "start_time": "2022-12-14T07:48:56.437Z"
   },
   {
    "duration": 251,
    "start_time": "2022-12-14T07:51:37.103Z"
   },
   {
    "duration": 106,
    "start_time": "2022-12-14T07:53:23.469Z"
   },
   {
    "duration": 1211,
    "start_time": "2022-12-14T07:53:34.543Z"
   },
   {
    "duration": 62,
    "start_time": "2022-12-14T07:53:35.756Z"
   },
   {
    "duration": 29,
    "start_time": "2022-12-14T07:53:35.820Z"
   },
   {
    "duration": 13,
    "start_time": "2022-12-14T07:53:35.851Z"
   },
   {
    "duration": 10,
    "start_time": "2022-12-14T07:53:35.877Z"
   },
   {
    "duration": 14,
    "start_time": "2022-12-14T07:53:35.889Z"
   },
   {
    "duration": 27,
    "start_time": "2022-12-14T07:53:35.905Z"
   },
   {
    "duration": 12,
    "start_time": "2022-12-14T07:53:35.934Z"
   },
   {
    "duration": 15,
    "start_time": "2022-12-14T07:53:35.949Z"
   },
   {
    "duration": 43,
    "start_time": "2022-12-14T07:53:35.977Z"
   },
   {
    "duration": 4067,
    "start_time": "2022-12-14T07:53:36.022Z"
   },
   {
    "duration": 18,
    "start_time": "2022-12-14T07:53:40.091Z"
   },
   {
    "duration": 606,
    "start_time": "2022-12-14T07:53:40.110Z"
   },
   {
    "duration": 19,
    "start_time": "2022-12-14T07:53:40.718Z"
   },
   {
    "duration": 10,
    "start_time": "2022-12-14T07:53:40.738Z"
   },
   {
    "duration": 30,
    "start_time": "2022-12-14T07:53:40.750Z"
   },
   {
    "duration": 9,
    "start_time": "2022-12-14T07:53:40.782Z"
   },
   {
    "duration": 11,
    "start_time": "2022-12-14T07:53:40.793Z"
   },
   {
    "duration": 15,
    "start_time": "2022-12-14T07:53:40.805Z"
   },
   {
    "duration": 130,
    "start_time": "2022-12-14T07:53:40.822Z"
   },
   {
    "duration": 0,
    "start_time": "2022-12-14T07:53:40.953Z"
   },
   {
    "duration": 14,
    "start_time": "2022-12-14T07:54:15.053Z"
   },
   {
    "duration": 13,
    "start_time": "2022-12-14T07:55:33.840Z"
   },
   {
    "duration": 239,
    "start_time": "2022-12-14T07:55:38.653Z"
   },
   {
    "duration": 6,
    "start_time": "2022-12-14T07:56:22.371Z"
   },
   {
    "duration": 3,
    "start_time": "2022-12-14T07:57:11.254Z"
   },
   {
    "duration": 11,
    "start_time": "2022-12-14T07:57:14.538Z"
   },
   {
    "duration": 1192,
    "start_time": "2022-12-14T07:57:23.857Z"
   },
   {
    "duration": 63,
    "start_time": "2022-12-14T07:57:25.052Z"
   },
   {
    "duration": 25,
    "start_time": "2022-12-14T07:57:25.117Z"
   },
   {
    "duration": 3,
    "start_time": "2022-12-14T07:57:25.143Z"
   },
   {
    "duration": 18,
    "start_time": "2022-12-14T07:57:25.149Z"
   },
   {
    "duration": 17,
    "start_time": "2022-12-14T07:57:25.169Z"
   },
   {
    "duration": 10,
    "start_time": "2022-12-14T07:57:25.188Z"
   },
   {
    "duration": 9,
    "start_time": "2022-12-14T07:57:25.200Z"
   },
   {
    "duration": 12,
    "start_time": "2022-12-14T07:57:25.211Z"
   },
   {
    "duration": 61,
    "start_time": "2022-12-14T07:57:25.225Z"
   },
   {
    "duration": 4008,
    "start_time": "2022-12-14T07:57:25.288Z"
   },
   {
    "duration": 17,
    "start_time": "2022-12-14T07:57:29.298Z"
   },
   {
    "duration": 625,
    "start_time": "2022-12-14T07:57:29.317Z"
   },
   {
    "duration": 17,
    "start_time": "2022-12-14T07:57:29.945Z"
   },
   {
    "duration": 20,
    "start_time": "2022-12-14T07:57:29.963Z"
   },
   {
    "duration": 6,
    "start_time": "2022-12-14T07:57:29.985Z"
   },
   {
    "duration": 5,
    "start_time": "2022-12-14T07:57:29.993Z"
   },
   {
    "duration": 26,
    "start_time": "2022-12-14T07:57:29.999Z"
   },
   {
    "duration": 12,
    "start_time": "2022-12-14T07:57:30.026Z"
   },
   {
    "duration": 8,
    "start_time": "2022-12-14T07:57:30.039Z"
   },
   {
    "duration": 3853,
    "start_time": "2022-12-14T07:57:30.048Z"
   },
   {
    "duration": 9,
    "start_time": "2022-12-14T07:58:50.753Z"
   },
   {
    "duration": 6,
    "start_time": "2022-12-14T07:59:18.871Z"
   },
   {
    "duration": 11,
    "start_time": "2022-12-14T08:00:57.067Z"
   },
   {
    "duration": 101,
    "start_time": "2022-12-14T08:01:39.703Z"
   },
   {
    "duration": 9,
    "start_time": "2022-12-14T08:01:52.453Z"
   },
   {
    "duration": 9,
    "start_time": "2022-12-14T08:02:01.203Z"
   },
   {
    "duration": 14,
    "start_time": "2022-12-14T08:04:00.270Z"
   },
   {
    "duration": 8,
    "start_time": "2022-12-14T08:04:35.638Z"
   },
   {
    "duration": 165,
    "start_time": "2022-12-14T08:04:48.519Z"
   },
   {
    "duration": 12,
    "start_time": "2022-12-14T08:05:03.654Z"
   },
   {
    "duration": 47,
    "start_time": "2022-12-14T08:05:46.466Z"
   },
   {
    "duration": 4,
    "start_time": "2022-12-14T08:06:03.620Z"
   },
   {
    "duration": 6,
    "start_time": "2022-12-14T08:06:11.120Z"
   },
   {
    "duration": 5,
    "start_time": "2022-12-14T08:06:34.804Z"
   },
   {
    "duration": 7,
    "start_time": "2022-12-14T08:07:08.320Z"
   },
   {
    "duration": 3,
    "start_time": "2022-12-14T08:07:16.753Z"
   },
   {
    "duration": 10,
    "start_time": "2022-12-14T08:07:31.940Z"
   },
   {
    "duration": 14,
    "start_time": "2022-12-14T08:08:02.820Z"
   },
   {
    "duration": 11,
    "start_time": "2022-12-14T08:08:15.254Z"
   },
   {
    "duration": 12,
    "start_time": "2022-12-14T08:08:41.738Z"
   },
   {
    "duration": 12,
    "start_time": "2022-12-14T08:08:54.919Z"
   },
   {
    "duration": 8,
    "start_time": "2022-12-14T08:10:02.070Z"
   },
   {
    "duration": 10,
    "start_time": "2022-12-14T08:10:07.076Z"
   },
   {
    "duration": 7,
    "start_time": "2022-12-14T08:10:21.436Z"
   },
   {
    "duration": 239,
    "start_time": "2022-12-14T08:10:46.053Z"
   },
   {
    "duration": 254,
    "start_time": "2022-12-14T08:12:00.553Z"
   },
   {
    "duration": 10,
    "start_time": "2022-12-14T08:14:39.592Z"
   },
   {
    "duration": 1179,
    "start_time": "2022-12-14T08:14:45.766Z"
   },
   {
    "duration": 65,
    "start_time": "2022-12-14T08:14:46.947Z"
   },
   {
    "duration": 25,
    "start_time": "2022-12-14T08:14:47.014Z"
   },
   {
    "duration": 3,
    "start_time": "2022-12-14T08:14:47.041Z"
   },
   {
    "duration": 13,
    "start_time": "2022-12-14T08:14:47.046Z"
   },
   {
    "duration": 22,
    "start_time": "2022-12-14T08:14:47.061Z"
   },
   {
    "duration": 9,
    "start_time": "2022-12-14T08:14:47.084Z"
   },
   {
    "duration": 11,
    "start_time": "2022-12-14T08:14:47.095Z"
   },
   {
    "duration": 14,
    "start_time": "2022-12-14T08:14:47.108Z"
   },
   {
    "duration": 68,
    "start_time": "2022-12-14T08:14:47.124Z"
   },
   {
    "duration": 4083,
    "start_time": "2022-12-14T08:14:47.193Z"
   },
   {
    "duration": 17,
    "start_time": "2022-12-14T08:14:51.278Z"
   },
   {
    "duration": 602,
    "start_time": "2022-12-14T08:14:51.297Z"
   },
   {
    "duration": 16,
    "start_time": "2022-12-14T08:14:51.902Z"
   },
   {
    "duration": 12,
    "start_time": "2022-12-14T08:14:51.920Z"
   },
   {
    "duration": 19,
    "start_time": "2022-12-14T08:14:51.934Z"
   },
   {
    "duration": 8,
    "start_time": "2022-12-14T08:14:51.955Z"
   },
   {
    "duration": 30,
    "start_time": "2022-12-14T08:14:51.964Z"
   },
   {
    "duration": 3879,
    "start_time": "2022-12-14T08:14:51.996Z"
   },
   {
    "duration": 11,
    "start_time": "2022-12-14T08:15:23.519Z"
   },
   {
    "duration": 47,
    "start_time": "2022-12-14T08:16:46.254Z"
   },
   {
    "duration": 3923,
    "start_time": "2022-12-14T08:16:57.742Z"
   },
   {
    "duration": 11,
    "start_time": "2022-12-14T08:18:11.921Z"
   },
   {
    "duration": 10,
    "start_time": "2022-12-14T08:19:04.703Z"
   },
   {
    "duration": 12,
    "start_time": "2022-12-14T08:19:07.103Z"
   },
   {
    "duration": 11,
    "start_time": "2022-12-14T08:19:20.121Z"
   },
   {
    "duration": 252,
    "start_time": "2022-12-14T08:20:18.470Z"
   },
   {
    "duration": 9,
    "start_time": "2022-12-14T08:21:33.893Z"
   },
   {
    "duration": 1172,
    "start_time": "2022-12-14T08:21:40.000Z"
   },
   {
    "duration": 66,
    "start_time": "2022-12-14T08:21:41.174Z"
   },
   {
    "duration": 27,
    "start_time": "2022-12-14T08:21:41.241Z"
   },
   {
    "duration": 6,
    "start_time": "2022-12-14T08:21:41.270Z"
   },
   {
    "duration": 7,
    "start_time": "2022-12-14T08:21:41.278Z"
   },
   {
    "duration": 18,
    "start_time": "2022-12-14T08:21:41.287Z"
   },
   {
    "duration": 10,
    "start_time": "2022-12-14T08:21:41.307Z"
   },
   {
    "duration": 8,
    "start_time": "2022-12-14T08:21:41.318Z"
   },
   {
    "duration": 13,
    "start_time": "2022-12-14T08:21:41.328Z"
   },
   {
    "duration": 62,
    "start_time": "2022-12-14T08:21:41.342Z"
   },
   {
    "duration": 4130,
    "start_time": "2022-12-14T08:21:41.406Z"
   },
   {
    "duration": 20,
    "start_time": "2022-12-14T08:21:45.538Z"
   },
   {
    "duration": 636,
    "start_time": "2022-12-14T08:21:45.560Z"
   },
   {
    "duration": 17,
    "start_time": "2022-12-14T08:21:46.198Z"
   },
   {
    "duration": 9,
    "start_time": "2022-12-14T08:21:46.216Z"
   },
   {
    "duration": 8,
    "start_time": "2022-12-14T08:21:46.226Z"
   },
   {
    "duration": 12,
    "start_time": "2022-12-14T08:21:46.236Z"
   },
   {
    "duration": 33,
    "start_time": "2022-12-14T08:21:46.249Z"
   },
   {
    "duration": 4069,
    "start_time": "2022-12-14T08:21:46.284Z"
   },
   {
    "duration": 11,
    "start_time": "2022-12-14T08:22:39.635Z"
   },
   {
    "duration": 10,
    "start_time": "2022-12-14T08:22:52.935Z"
   },
   {
    "duration": 1226,
    "start_time": "2022-12-14T08:22:57.997Z"
   },
   {
    "duration": 62,
    "start_time": "2022-12-14T08:22:59.225Z"
   },
   {
    "duration": 22,
    "start_time": "2022-12-14T08:22:59.289Z"
   },
   {
    "duration": 6,
    "start_time": "2022-12-14T08:22:59.313Z"
   },
   {
    "duration": 7,
    "start_time": "2022-12-14T08:22:59.321Z"
   },
   {
    "duration": 10,
    "start_time": "2022-12-14T08:22:59.329Z"
   },
   {
    "duration": 14,
    "start_time": "2022-12-14T08:22:59.341Z"
   },
   {
    "duration": 27,
    "start_time": "2022-12-14T08:22:59.356Z"
   },
   {
    "duration": 11,
    "start_time": "2022-12-14T08:22:59.385Z"
   },
   {
    "duration": 39,
    "start_time": "2022-12-14T08:22:59.397Z"
   },
   {
    "duration": 4043,
    "start_time": "2022-12-14T08:22:59.438Z"
   },
   {
    "duration": 17,
    "start_time": "2022-12-14T08:23:03.486Z"
   },
   {
    "duration": 604,
    "start_time": "2022-12-14T08:23:03.505Z"
   },
   {
    "duration": 18,
    "start_time": "2022-12-14T08:23:04.113Z"
   },
   {
    "duration": 9,
    "start_time": "2022-12-14T08:23:04.133Z"
   },
   {
    "duration": 11,
    "start_time": "2022-12-14T08:23:04.144Z"
   },
   {
    "duration": 30,
    "start_time": "2022-12-14T08:23:04.157Z"
   },
   {
    "duration": 2,
    "start_time": "2022-12-14T08:23:04.190Z"
   },
   {
    "duration": 3887,
    "start_time": "2022-12-14T08:23:04.194Z"
   },
   {
    "duration": 12,
    "start_time": "2022-12-14T08:23:38.094Z"
   },
   {
    "duration": 13,
    "start_time": "2022-12-14T08:23:58.545Z"
   },
   {
    "duration": 11,
    "start_time": "2022-12-14T08:24:06.470Z"
   },
   {
    "duration": 11,
    "start_time": "2022-12-14T08:24:12.653Z"
   },
   {
    "duration": 12,
    "start_time": "2022-12-14T08:25:30.836Z"
   },
   {
    "duration": 8,
    "start_time": "2022-12-14T08:41:01.196Z"
   },
   {
    "duration": 3834,
    "start_time": "2022-12-14T08:41:03.952Z"
   },
   {
    "duration": 1102,
    "start_time": "2022-12-14T08:41:25.435Z"
   },
   {
    "duration": 63,
    "start_time": "2022-12-14T08:41:26.539Z"
   },
   {
    "duration": 24,
    "start_time": "2022-12-14T08:41:26.603Z"
   },
   {
    "duration": 3,
    "start_time": "2022-12-14T08:41:26.629Z"
   },
   {
    "duration": 10,
    "start_time": "2022-12-14T08:41:26.635Z"
   },
   {
    "duration": 11,
    "start_time": "2022-12-14T08:41:26.646Z"
   },
   {
    "duration": 9,
    "start_time": "2022-12-14T08:41:26.677Z"
   },
   {
    "duration": 9,
    "start_time": "2022-12-14T08:41:26.688Z"
   },
   {
    "duration": 11,
    "start_time": "2022-12-14T08:41:26.699Z"
   },
   {
    "duration": 66,
    "start_time": "2022-12-14T08:41:26.712Z"
   },
   {
    "duration": 3913,
    "start_time": "2022-12-14T08:41:26.780Z"
   },
   {
    "duration": 16,
    "start_time": "2022-12-14T08:41:30.695Z"
   },
   {
    "duration": 662,
    "start_time": "2022-12-14T08:41:30.713Z"
   },
   {
    "duration": 18,
    "start_time": "2022-12-14T08:41:31.378Z"
   },
   {
    "duration": 10,
    "start_time": "2022-12-14T08:41:31.398Z"
   },
   {
    "duration": 16,
    "start_time": "2022-12-14T08:41:31.410Z"
   },
   {
    "duration": 13,
    "start_time": "2022-12-14T08:41:31.428Z"
   },
   {
    "duration": 39,
    "start_time": "2022-12-14T08:41:31.443Z"
   },
   {
    "duration": 3869,
    "start_time": "2022-12-14T08:41:31.484Z"
   },
   {
    "duration": 10,
    "start_time": "2022-12-14T08:43:18.034Z"
   },
   {
    "duration": 1187,
    "start_time": "2022-12-14T08:43:35.595Z"
   },
   {
    "duration": 64,
    "start_time": "2022-12-14T08:43:36.784Z"
   },
   {
    "duration": 24,
    "start_time": "2022-12-14T08:43:36.850Z"
   },
   {
    "duration": 3,
    "start_time": "2022-12-14T08:43:36.876Z"
   },
   {
    "duration": 7,
    "start_time": "2022-12-14T08:43:36.882Z"
   },
   {
    "duration": 11,
    "start_time": "2022-12-14T08:43:36.890Z"
   },
   {
    "duration": 8,
    "start_time": "2022-12-14T08:43:36.903Z"
   },
   {
    "duration": 12,
    "start_time": "2022-12-14T08:43:36.913Z"
   },
   {
    "duration": 14,
    "start_time": "2022-12-14T08:43:36.927Z"
   },
   {
    "duration": 69,
    "start_time": "2022-12-14T08:43:36.943Z"
   },
   {
    "duration": 4143,
    "start_time": "2022-12-14T08:43:37.014Z"
   },
   {
    "duration": 17,
    "start_time": "2022-12-14T08:43:41.159Z"
   },
   {
    "duration": 665,
    "start_time": "2022-12-14T08:43:41.178Z"
   },
   {
    "duration": 37,
    "start_time": "2022-12-14T08:43:41.846Z"
   },
   {
    "duration": 13,
    "start_time": "2022-12-14T08:43:41.885Z"
   },
   {
    "duration": 9,
    "start_time": "2022-12-14T08:43:41.900Z"
   },
   {
    "duration": 21,
    "start_time": "2022-12-14T08:43:41.911Z"
   },
   {
    "duration": 3,
    "start_time": "2022-12-14T08:43:41.933Z"
   },
   {
    "duration": 4184,
    "start_time": "2022-12-14T08:43:41.938Z"
   },
   {
    "duration": 11,
    "start_time": "2022-12-14T08:48:38.003Z"
   },
   {
    "duration": 12,
    "start_time": "2022-12-14T08:49:15.211Z"
   },
   {
    "duration": 120,
    "start_time": "2022-12-14T08:50:23.801Z"
   },
   {
    "duration": 19,
    "start_time": "2022-12-14T08:50:30.669Z"
   },
   {
    "duration": 11,
    "start_time": "2022-12-14T08:50:42.206Z"
   },
   {
    "duration": 4021,
    "start_time": "2022-12-14T08:53:56.533Z"
   },
   {
    "duration": 810,
    "start_time": "2022-12-14T08:56:29.898Z"
   },
   {
    "duration": 867,
    "start_time": "2022-12-14T08:57:34.933Z"
   },
   {
    "duration": 18,
    "start_time": "2022-12-14T08:58:16.269Z"
   },
   {
    "duration": 12,
    "start_time": "2022-12-14T08:58:49.750Z"
   },
   {
    "duration": 67,
    "start_time": "2022-12-14T08:59:31.166Z"
   },
   {
    "duration": 809,
    "start_time": "2022-12-14T08:59:58.418Z"
   },
   {
    "duration": 66,
    "start_time": "2022-12-14T09:00:24.134Z"
   },
   {
    "duration": 25,
    "start_time": "2022-12-14T09:01:07.918Z"
   },
   {
    "duration": 1214,
    "start_time": "2022-12-14T09:01:58.439Z"
   },
   {
    "duration": 88,
    "start_time": "2022-12-14T09:01:59.655Z"
   },
   {
    "duration": 27,
    "start_time": "2022-12-14T09:01:59.745Z"
   },
   {
    "duration": 7,
    "start_time": "2022-12-14T09:01:59.774Z"
   },
   {
    "duration": 44,
    "start_time": "2022-12-14T09:01:59.789Z"
   },
   {
    "duration": 23,
    "start_time": "2022-12-14T09:01:59.834Z"
   },
   {
    "duration": 16,
    "start_time": "2022-12-14T09:01:59.860Z"
   },
   {
    "duration": 15,
    "start_time": "2022-12-14T09:01:59.891Z"
   },
   {
    "duration": 27,
    "start_time": "2022-12-14T09:01:59.908Z"
   },
   {
    "duration": 44,
    "start_time": "2022-12-14T09:01:59.937Z"
   },
   {
    "duration": 4309,
    "start_time": "2022-12-14T09:01:59.983Z"
   },
   {
    "duration": 18,
    "start_time": "2022-12-14T09:02:04.294Z"
   },
   {
    "duration": 642,
    "start_time": "2022-12-14T09:02:04.314Z"
   },
   {
    "duration": 31,
    "start_time": "2022-12-14T09:02:04.959Z"
   },
   {
    "duration": 10,
    "start_time": "2022-12-14T09:02:04.995Z"
   },
   {
    "duration": 8,
    "start_time": "2022-12-14T09:02:05.006Z"
   },
   {
    "duration": 19,
    "start_time": "2022-12-14T09:02:05.016Z"
   },
   {
    "duration": 48,
    "start_time": "2022-12-14T09:02:05.037Z"
   },
   {
    "duration": 61,
    "start_time": "2022-12-14T09:02:05.089Z"
   },
   {
    "duration": 0,
    "start_time": "2022-12-14T09:02:05.152Z"
   },
   {
    "duration": 0,
    "start_time": "2022-12-14T09:02:05.153Z"
   },
   {
    "duration": 0,
    "start_time": "2022-12-14T09:02:05.155Z"
   },
   {
    "duration": 625,
    "start_time": "2022-12-14T09:03:47.532Z"
   },
   {
    "duration": 1228,
    "start_time": "2022-12-14T09:04:06.021Z"
   },
   {
    "duration": 74,
    "start_time": "2022-12-14T09:04:07.251Z"
   },
   {
    "duration": 25,
    "start_time": "2022-12-14T09:04:07.327Z"
   },
   {
    "duration": 3,
    "start_time": "2022-12-14T09:04:07.355Z"
   },
   {
    "duration": 40,
    "start_time": "2022-12-14T09:04:07.361Z"
   },
   {
    "duration": 11,
    "start_time": "2022-12-14T09:04:07.403Z"
   },
   {
    "duration": 11,
    "start_time": "2022-12-14T09:04:07.416Z"
   },
   {
    "duration": 10,
    "start_time": "2022-12-14T09:04:07.429Z"
   },
   {
    "duration": 13,
    "start_time": "2022-12-14T09:04:07.441Z"
   },
   {
    "duration": 59,
    "start_time": "2022-12-14T09:04:07.455Z"
   },
   {
    "duration": 4424,
    "start_time": "2022-12-14T09:04:07.516Z"
   },
   {
    "duration": 18,
    "start_time": "2022-12-14T09:04:11.942Z"
   },
   {
    "duration": 683,
    "start_time": "2022-12-14T09:04:11.962Z"
   },
   {
    "duration": 42,
    "start_time": "2022-12-14T09:04:12.649Z"
   },
   {
    "duration": 58,
    "start_time": "2022-12-14T09:04:12.693Z"
   },
   {
    "duration": 51,
    "start_time": "2022-12-14T09:04:12.753Z"
   },
   {
    "duration": 448,
    "start_time": "2022-12-14T09:04:12.806Z"
   },
   {
    "duration": 0,
    "start_time": "2022-12-14T09:04:13.255Z"
   },
   {
    "duration": 0,
    "start_time": "2022-12-14T09:04:13.256Z"
   },
   {
    "duration": 0,
    "start_time": "2022-12-14T09:04:13.258Z"
   },
   {
    "duration": 0,
    "start_time": "2022-12-14T09:04:13.259Z"
   },
   {
    "duration": 0,
    "start_time": "2022-12-14T09:04:13.260Z"
   },
   {
    "duration": 14,
    "start_time": "2022-12-14T09:07:30.436Z"
   },
   {
    "duration": 27,
    "start_time": "2022-12-14T09:07:36.017Z"
   },
   {
    "duration": 221,
    "start_time": "2022-12-14T09:08:26.716Z"
   },
   {
    "duration": 9,
    "start_time": "2022-12-14T09:09:50.367Z"
   },
   {
    "duration": 15,
    "start_time": "2022-12-14T09:10:08.050Z"
   },
   {
    "duration": 14,
    "start_time": "2022-12-14T09:10:10.340Z"
   },
   {
    "duration": 16,
    "start_time": "2022-12-14T09:10:24.352Z"
   },
   {
    "duration": 1128,
    "start_time": "2022-12-14T09:10:33.519Z"
   },
   {
    "duration": 64,
    "start_time": "2022-12-14T09:10:34.650Z"
   },
   {
    "duration": 23,
    "start_time": "2022-12-14T09:10:34.715Z"
   },
   {
    "duration": 2,
    "start_time": "2022-12-14T09:10:34.741Z"
   },
   {
    "duration": 9,
    "start_time": "2022-12-14T09:10:34.746Z"
   },
   {
    "duration": 22,
    "start_time": "2022-12-14T09:10:34.757Z"
   },
   {
    "duration": 20,
    "start_time": "2022-12-14T09:10:34.781Z"
   },
   {
    "duration": 9,
    "start_time": "2022-12-14T09:10:34.803Z"
   },
   {
    "duration": 18,
    "start_time": "2022-12-14T09:10:34.814Z"
   },
   {
    "duration": 56,
    "start_time": "2022-12-14T09:10:34.834Z"
   },
   {
    "duration": 4136,
    "start_time": "2022-12-14T09:10:34.892Z"
   },
   {
    "duration": 17,
    "start_time": "2022-12-14T09:10:39.031Z"
   },
   {
    "duration": 636,
    "start_time": "2022-12-14T09:10:39.050Z"
   },
   {
    "duration": 18,
    "start_time": "2022-12-14T09:10:39.688Z"
   },
   {
    "duration": 10,
    "start_time": "2022-12-14T09:10:39.709Z"
   },
   {
    "duration": 8,
    "start_time": "2022-12-14T09:10:39.721Z"
   },
   {
    "duration": 12,
    "start_time": "2022-12-14T09:10:39.731Z"
   },
   {
    "duration": 124,
    "start_time": "2022-12-14T09:10:39.778Z"
   },
   {
    "duration": 0,
    "start_time": "2022-12-14T09:10:39.903Z"
   },
   {
    "duration": 0,
    "start_time": "2022-12-14T09:10:39.905Z"
   },
   {
    "duration": 0,
    "start_time": "2022-12-14T09:10:39.906Z"
   },
   {
    "duration": 7,
    "start_time": "2022-12-14T09:10:58.749Z"
   },
   {
    "duration": 183,
    "start_time": "2022-12-14T09:11:13.232Z"
   },
   {
    "duration": 11,
    "start_time": "2022-12-14T09:11:56.133Z"
   },
   {
    "duration": 14,
    "start_time": "2022-12-14T09:11:58.366Z"
   },
   {
    "duration": 9,
    "start_time": "2022-12-14T09:13:24.701Z"
   },
   {
    "duration": 7,
    "start_time": "2022-12-14T09:13:34.998Z"
   },
   {
    "duration": 13,
    "start_time": "2022-12-14T09:13:40.940Z"
   },
   {
    "duration": 1374,
    "start_time": "2022-12-14T09:13:46.374Z"
   },
   {
    "duration": 70,
    "start_time": "2022-12-14T09:13:47.749Z"
   },
   {
    "duration": 26,
    "start_time": "2022-12-14T09:13:47.821Z"
   },
   {
    "duration": 24,
    "start_time": "2022-12-14T09:13:47.849Z"
   },
   {
    "duration": 45,
    "start_time": "2022-12-14T09:13:47.875Z"
   },
   {
    "duration": 30,
    "start_time": "2022-12-14T09:13:47.922Z"
   },
   {
    "duration": 24,
    "start_time": "2022-12-14T09:13:47.954Z"
   },
   {
    "duration": 18,
    "start_time": "2022-12-14T09:13:47.984Z"
   },
   {
    "duration": 38,
    "start_time": "2022-12-14T09:13:48.004Z"
   },
   {
    "duration": 57,
    "start_time": "2022-12-14T09:13:48.044Z"
   },
   {
    "duration": 4370,
    "start_time": "2022-12-14T09:13:48.103Z"
   },
   {
    "duration": 20,
    "start_time": "2022-12-14T09:13:52.475Z"
   },
   {
    "duration": 606,
    "start_time": "2022-12-14T09:13:52.497Z"
   },
   {
    "duration": 19,
    "start_time": "2022-12-14T09:13:53.106Z"
   },
   {
    "duration": 9,
    "start_time": "2022-12-14T09:13:53.127Z"
   },
   {
    "duration": 24,
    "start_time": "2022-12-14T09:13:53.138Z"
   },
   {
    "duration": 42,
    "start_time": "2022-12-14T09:13:53.164Z"
   },
   {
    "duration": 10,
    "start_time": "2022-12-14T09:13:53.208Z"
   },
   {
    "duration": 123,
    "start_time": "2022-12-14T09:13:53.220Z"
   },
   {
    "duration": 0,
    "start_time": "2022-12-14T09:13:53.344Z"
   },
   {
    "duration": 4021,
    "start_time": "2022-12-14T09:19:58.282Z"
   },
   {
    "duration": 12,
    "start_time": "2022-12-14T09:20:37.639Z"
   },
   {
    "duration": 9,
    "start_time": "2022-12-14T09:21:26.816Z"
   },
   {
    "duration": 238,
    "start_time": "2022-12-14T09:21:42.399Z"
   },
   {
    "duration": 12,
    "start_time": "2022-12-14T09:26:01.416Z"
   },
   {
    "duration": 9,
    "start_time": "2022-12-14T09:26:04.450Z"
   },
   {
    "duration": 10,
    "start_time": "2022-12-14T09:26:27.216Z"
   },
   {
    "duration": 10,
    "start_time": "2022-12-14T09:26:30.435Z"
   },
   {
    "duration": 146,
    "start_time": "2022-12-14T09:26:52.850Z"
   },
   {
    "duration": 11,
    "start_time": "2022-12-14T09:27:27.832Z"
   },
   {
    "duration": 9,
    "start_time": "2022-12-14T09:27:31.116Z"
   },
   {
    "duration": 10,
    "start_time": "2022-12-14T09:28:06.936Z"
   },
   {
    "duration": 10,
    "start_time": "2022-12-14T09:28:11.203Z"
   },
   {
    "duration": 6,
    "start_time": "2022-12-14T09:28:16.420Z"
   },
   {
    "duration": 12,
    "start_time": "2022-12-14T09:28:18.373Z"
   },
   {
    "duration": 1169,
    "start_time": "2022-12-14T09:28:27.030Z"
   },
   {
    "duration": 75,
    "start_time": "2022-12-14T09:28:28.201Z"
   },
   {
    "duration": 34,
    "start_time": "2022-12-14T09:28:28.279Z"
   },
   {
    "duration": 5,
    "start_time": "2022-12-14T09:28:28.319Z"
   },
   {
    "duration": 14,
    "start_time": "2022-12-14T09:28:28.326Z"
   },
   {
    "duration": 35,
    "start_time": "2022-12-14T09:28:28.343Z"
   },
   {
    "duration": 34,
    "start_time": "2022-12-14T09:28:28.379Z"
   },
   {
    "duration": 16,
    "start_time": "2022-12-14T09:28:28.416Z"
   },
   {
    "duration": 19,
    "start_time": "2022-12-14T09:28:28.434Z"
   },
   {
    "duration": 56,
    "start_time": "2022-12-14T09:28:28.457Z"
   },
   {
    "duration": 4385,
    "start_time": "2022-12-14T09:28:28.516Z"
   },
   {
    "duration": 18,
    "start_time": "2022-12-14T09:28:32.903Z"
   },
   {
    "duration": 693,
    "start_time": "2022-12-14T09:28:32.923Z"
   },
   {
    "duration": 19,
    "start_time": "2022-12-14T09:28:33.618Z"
   },
   {
    "duration": 10,
    "start_time": "2022-12-14T09:28:33.638Z"
   },
   {
    "duration": 42,
    "start_time": "2022-12-14T09:28:33.650Z"
   },
   {
    "duration": 29,
    "start_time": "2022-12-14T09:28:33.694Z"
   },
   {
    "duration": 31,
    "start_time": "2022-12-14T09:28:33.725Z"
   },
   {
    "duration": 41,
    "start_time": "2022-12-14T09:28:33.759Z"
   },
   {
    "duration": 319,
    "start_time": "2022-12-14T09:28:33.802Z"
   },
   {
    "duration": 3,
    "start_time": "2022-12-14T09:28:34.123Z"
   },
   {
    "duration": 13,
    "start_time": "2022-12-14T09:29:53.415Z"
   },
   {
    "duration": 152,
    "start_time": "2022-12-14T09:30:29.150Z"
   },
   {
    "duration": 16,
    "start_time": "2022-12-14T09:36:19.568Z"
   },
   {
    "duration": 1302,
    "start_time": "2022-12-14T09:36:29.900Z"
   },
   {
    "duration": 67,
    "start_time": "2022-12-14T09:36:31.204Z"
   },
   {
    "duration": 32,
    "start_time": "2022-12-14T09:36:31.272Z"
   },
   {
    "duration": 19,
    "start_time": "2022-12-14T09:36:31.306Z"
   },
   {
    "duration": 55,
    "start_time": "2022-12-14T09:36:31.327Z"
   },
   {
    "duration": 38,
    "start_time": "2022-12-14T09:36:31.384Z"
   },
   {
    "duration": 86,
    "start_time": "2022-12-14T09:36:31.424Z"
   },
   {
    "duration": 21,
    "start_time": "2022-12-14T09:36:31.512Z"
   },
   {
    "duration": 34,
    "start_time": "2022-12-14T09:36:31.535Z"
   },
   {
    "duration": 51,
    "start_time": "2022-12-14T09:36:31.571Z"
   },
   {
    "duration": 4300,
    "start_time": "2022-12-14T09:36:31.624Z"
   },
   {
    "duration": 16,
    "start_time": "2022-12-14T09:36:35.926Z"
   },
   {
    "duration": 665,
    "start_time": "2022-12-14T09:36:35.944Z"
   },
   {
    "duration": 18,
    "start_time": "2022-12-14T09:36:36.611Z"
   },
   {
    "duration": 9,
    "start_time": "2022-12-14T09:36:36.630Z"
   },
   {
    "duration": 9,
    "start_time": "2022-12-14T09:36:36.641Z"
   },
   {
    "duration": 39,
    "start_time": "2022-12-14T09:36:36.651Z"
   },
   {
    "duration": 3,
    "start_time": "2022-12-14T09:36:36.692Z"
   },
   {
    "duration": 16,
    "start_time": "2022-12-14T09:36:36.697Z"
   },
   {
    "duration": 4100,
    "start_time": "2022-12-14T09:36:36.714Z"
   },
   {
    "duration": 3,
    "start_time": "2022-12-14T09:36:40.816Z"
   },
   {
    "duration": 9,
    "start_time": "2022-12-14T09:38:19.918Z"
   },
   {
    "duration": 11,
    "start_time": "2022-12-14T09:38:22.037Z"
   },
   {
    "duration": 285,
    "start_time": "2022-12-14T09:38:25.052Z"
   },
   {
    "duration": 111,
    "start_time": "2022-12-14T09:40:44.619Z"
   },
   {
    "duration": 3,
    "start_time": "2022-12-14T09:40:51.843Z"
   },
   {
    "duration": 15,
    "start_time": "2022-12-14T09:42:12.275Z"
   },
   {
    "duration": 11,
    "start_time": "2022-12-14T09:52:27.840Z"
   },
   {
    "duration": 15,
    "start_time": "2022-12-14T09:52:35.054Z"
   },
   {
    "duration": 18,
    "start_time": "2022-12-14T09:52:47.705Z"
   },
   {
    "duration": 19,
    "start_time": "2022-12-14T09:53:49.373Z"
   },
   {
    "duration": 20,
    "start_time": "2022-12-14T09:54:10.039Z"
   },
   {
    "duration": 19,
    "start_time": "2022-12-14T09:54:48.679Z"
   },
   {
    "duration": 22,
    "start_time": "2022-12-14T09:55:24.814Z"
   },
   {
    "duration": 1272,
    "start_time": "2022-12-14T09:55:32.116Z"
   },
   {
    "duration": 68,
    "start_time": "2022-12-14T09:55:33.390Z"
   },
   {
    "duration": 26,
    "start_time": "2022-12-14T09:55:33.460Z"
   },
   {
    "duration": 4,
    "start_time": "2022-12-14T09:55:33.489Z"
   },
   {
    "duration": 17,
    "start_time": "2022-12-14T09:55:33.495Z"
   },
   {
    "duration": 15,
    "start_time": "2022-12-14T09:55:33.514Z"
   },
   {
    "duration": 10,
    "start_time": "2022-12-14T09:55:33.530Z"
   },
   {
    "duration": 11,
    "start_time": "2022-12-14T09:55:33.542Z"
   },
   {
    "duration": 34,
    "start_time": "2022-12-14T09:55:33.555Z"
   },
   {
    "duration": 46,
    "start_time": "2022-12-14T09:55:33.592Z"
   },
   {
    "duration": 4228,
    "start_time": "2022-12-14T09:55:33.640Z"
   },
   {
    "duration": 18,
    "start_time": "2022-12-14T09:55:37.871Z"
   },
   {
    "duration": 686,
    "start_time": "2022-12-14T09:55:37.892Z"
   },
   {
    "duration": 20,
    "start_time": "2022-12-14T09:55:38.580Z"
   },
   {
    "duration": 12,
    "start_time": "2022-12-14T09:55:38.602Z"
   },
   {
    "duration": 18,
    "start_time": "2022-12-14T09:55:38.616Z"
   },
   {
    "duration": 10,
    "start_time": "2022-12-14T09:55:38.636Z"
   },
   {
    "duration": 46,
    "start_time": "2022-12-14T09:55:38.648Z"
   },
   {
    "duration": 3,
    "start_time": "2022-12-14T09:55:38.696Z"
   },
   {
    "duration": 25,
    "start_time": "2022-12-14T09:55:38.700Z"
   },
   {
    "duration": 4099,
    "start_time": "2022-12-14T09:55:38.727Z"
   },
   {
    "duration": 3,
    "start_time": "2022-12-14T09:55:42.828Z"
   },
   {
    "duration": 49,
    "start_time": "2022-12-14T11:49:53.097Z"
   },
   {
    "duration": 1317,
    "start_time": "2022-12-14T11:49:58.719Z"
   },
   {
    "duration": 218,
    "start_time": "2022-12-14T11:50:00.039Z"
   },
   {
    "duration": 31,
    "start_time": "2022-12-14T11:50:00.258Z"
   },
   {
    "duration": 16,
    "start_time": "2022-12-14T11:50:00.290Z"
   },
   {
    "duration": 26,
    "start_time": "2022-12-14T11:50:00.309Z"
   },
   {
    "duration": 29,
    "start_time": "2022-12-14T11:50:00.338Z"
   },
   {
    "duration": 29,
    "start_time": "2022-12-14T11:50:00.370Z"
   },
   {
    "duration": 25,
    "start_time": "2022-12-14T11:50:00.401Z"
   },
   {
    "duration": 19,
    "start_time": "2022-12-14T11:50:00.428Z"
   },
   {
    "duration": 55,
    "start_time": "2022-12-14T11:50:00.450Z"
   },
   {
    "duration": 3802,
    "start_time": "2022-12-14T11:50:00.507Z"
   },
   {
    "duration": 15,
    "start_time": "2022-12-14T11:50:04.311Z"
   },
   {
    "duration": 604,
    "start_time": "2022-12-14T11:50:04.327Z"
   },
   {
    "duration": 16,
    "start_time": "2022-12-14T11:50:04.934Z"
   },
   {
    "duration": 23,
    "start_time": "2022-12-14T11:50:04.952Z"
   },
   {
    "duration": 14,
    "start_time": "2022-12-14T11:50:04.976Z"
   },
   {
    "duration": 23,
    "start_time": "2022-12-14T11:50:04.992Z"
   },
   {
    "duration": 141,
    "start_time": "2022-12-14T11:50:05.017Z"
   },
   {
    "duration": 0,
    "start_time": "2022-12-14T11:50:05.165Z"
   },
   {
    "duration": 0,
    "start_time": "2022-12-14T11:50:05.166Z"
   },
   {
    "duration": 0,
    "start_time": "2022-12-14T11:50:05.168Z"
   },
   {
    "duration": 0,
    "start_time": "2022-12-14T11:50:05.170Z"
   },
   {
    "duration": 22,
    "start_time": "2022-12-14T11:50:44.979Z"
   },
   {
    "duration": 8,
    "start_time": "2022-12-14T11:52:49.994Z"
   },
   {
    "duration": 7,
    "start_time": "2022-12-14T11:52:59.662Z"
   },
   {
    "duration": 13,
    "start_time": "2022-12-14T11:55:15.729Z"
   },
   {
    "duration": 20,
    "start_time": "2022-12-14T11:55:36.995Z"
   },
   {
    "duration": 18,
    "start_time": "2022-12-14T11:56:11.079Z"
   },
   {
    "duration": 16,
    "start_time": "2022-12-14T11:57:02.696Z"
   },
   {
    "duration": 19,
    "start_time": "2022-12-14T11:57:31.562Z"
   },
   {
    "duration": 15,
    "start_time": "2022-12-14T11:57:46.862Z"
   },
   {
    "duration": 16,
    "start_time": "2022-12-14T11:59:14.375Z"
   },
   {
    "duration": 297,
    "start_time": "2022-12-14T12:00:20.315Z"
   },
   {
    "duration": 402,
    "start_time": "2022-12-14T12:01:31.030Z"
   },
   {
    "duration": 9,
    "start_time": "2022-12-14T12:02:43.412Z"
   },
   {
    "duration": 4,
    "start_time": "2022-12-14T12:02:58.280Z"
   },
   {
    "duration": 148,
    "start_time": "2022-12-14T12:03:08.412Z"
   },
   {
    "duration": 146,
    "start_time": "2022-12-14T12:05:04.743Z"
   },
   {
    "duration": 16,
    "start_time": "2022-12-14T12:12:16.262Z"
   },
   {
    "duration": 3336,
    "start_time": "2022-12-14T12:14:36.680Z"
   },
   {
    "duration": 27,
    "start_time": "2022-12-14T12:15:21.596Z"
   },
   {
    "duration": 17,
    "start_time": "2022-12-14T12:15:32.394Z"
   },
   {
    "duration": 6,
    "start_time": "2022-12-14T12:18:05.394Z"
   },
   {
    "duration": 322,
    "start_time": "2022-12-14T12:18:09.846Z"
   },
   {
    "duration": 229,
    "start_time": "2022-12-14T12:18:26.678Z"
   },
   {
    "duration": 20,
    "start_time": "2022-12-14T12:19:00.027Z"
   },
   {
    "duration": 16,
    "start_time": "2022-12-14T12:19:09.397Z"
   },
   {
    "duration": 10,
    "start_time": "2022-12-14T12:19:33.730Z"
   },
   {
    "duration": 7,
    "start_time": "2022-12-14T12:22:39.235Z"
   },
   {
    "duration": 186,
    "start_time": "2022-12-14T12:22:42.945Z"
   },
   {
    "duration": 175,
    "start_time": "2022-12-14T12:22:52.046Z"
   },
   {
    "duration": 15,
    "start_time": "2022-12-14T12:24:20.577Z"
   },
   {
    "duration": 5,
    "start_time": "2022-12-14T12:24:40.146Z"
   },
   {
    "duration": 150,
    "start_time": "2022-12-14T12:24:42.846Z"
   },
   {
    "duration": 163,
    "start_time": "2022-12-14T12:25:15.333Z"
   },
   {
    "duration": 16,
    "start_time": "2022-12-14T12:25:22.946Z"
   },
   {
    "duration": 10,
    "start_time": "2022-12-14T12:25:29.762Z"
   },
   {
    "duration": 8,
    "start_time": "2022-12-14T12:25:32.774Z"
   },
   {
    "duration": 162,
    "start_time": "2022-12-14T12:25:35.135Z"
   },
   {
    "duration": 1041,
    "start_time": "2022-12-14T12:25:47.474Z"
   },
   {
    "duration": 59,
    "start_time": "2022-12-14T12:25:48.517Z"
   },
   {
    "duration": 23,
    "start_time": "2022-12-14T12:25:48.577Z"
   },
   {
    "duration": 3,
    "start_time": "2022-12-14T12:25:48.602Z"
   },
   {
    "duration": 9,
    "start_time": "2022-12-14T12:25:48.607Z"
   },
   {
    "duration": 11,
    "start_time": "2022-12-14T12:25:48.618Z"
   },
   {
    "duration": 7,
    "start_time": "2022-12-14T12:25:48.630Z"
   },
   {
    "duration": 7,
    "start_time": "2022-12-14T12:25:48.639Z"
   },
   {
    "duration": 10,
    "start_time": "2022-12-14T12:25:48.647Z"
   },
   {
    "duration": 37,
    "start_time": "2022-12-14T12:25:48.659Z"
   },
   {
    "duration": 3660,
    "start_time": "2022-12-14T12:25:48.697Z"
   },
   {
    "duration": 14,
    "start_time": "2022-12-14T12:25:52.359Z"
   },
   {
    "duration": 612,
    "start_time": "2022-12-14T12:25:52.374Z"
   },
   {
    "duration": 26,
    "start_time": "2022-12-14T12:25:52.988Z"
   },
   {
    "duration": 13,
    "start_time": "2022-12-14T12:25:53.027Z"
   },
   {
    "duration": 13,
    "start_time": "2022-12-14T12:25:53.042Z"
   },
   {
    "duration": 3,
    "start_time": "2022-12-14T12:25:53.057Z"
   },
   {
    "duration": 27,
    "start_time": "2022-12-14T12:25:53.062Z"
   },
   {
    "duration": 5,
    "start_time": "2022-12-14T12:25:53.091Z"
   },
   {
    "duration": 175,
    "start_time": "2022-12-14T12:25:53.125Z"
   },
   {
    "duration": 26,
    "start_time": "2022-12-14T12:25:53.301Z"
   },
   {
    "duration": 11,
    "start_time": "2022-12-14T12:25:53.329Z"
   },
   {
    "duration": 14,
    "start_time": "2022-12-14T12:25:53.341Z"
   },
   {
    "duration": 204,
    "start_time": "2022-12-14T12:25:53.357Z"
   },
   {
    "duration": 103,
    "start_time": "2022-12-14T12:27:13.747Z"
   },
   {
    "duration": 17,
    "start_time": "2022-12-14T12:27:19.629Z"
   },
   {
    "duration": 12,
    "start_time": "2022-12-14T12:27:28.063Z"
   },
   {
    "duration": 16,
    "start_time": "2022-12-14T12:28:54.879Z"
   },
   {
    "duration": 8,
    "start_time": "2022-12-14T12:29:02.096Z"
   },
   {
    "duration": 352,
    "start_time": "2022-12-14T12:29:05.914Z"
   },
   {
    "duration": 173,
    "start_time": "2022-12-14T12:30:03.697Z"
   },
   {
    "duration": 203,
    "start_time": "2022-12-14T12:30:14.913Z"
   },
   {
    "duration": 7,
    "start_time": "2022-12-14T12:30:53.577Z"
   },
   {
    "duration": 173,
    "start_time": "2022-12-14T12:30:55.734Z"
   },
   {
    "duration": 6,
    "start_time": "2022-12-14T12:31:06.934Z"
   },
   {
    "duration": 164,
    "start_time": "2022-12-14T12:31:09.171Z"
   },
   {
    "duration": 179,
    "start_time": "2022-12-14T12:31:21.247Z"
   },
   {
    "duration": 7,
    "start_time": "2022-12-14T12:33:17.946Z"
   },
   {
    "duration": 173,
    "start_time": "2022-12-14T12:33:20.742Z"
   },
   {
    "duration": 1119,
    "start_time": "2022-12-14T12:33:54.034Z"
   },
   {
    "duration": 59,
    "start_time": "2022-12-14T12:33:55.155Z"
   },
   {
    "duration": 22,
    "start_time": "2022-12-14T12:33:55.215Z"
   },
   {
    "duration": 3,
    "start_time": "2022-12-14T12:33:55.238Z"
   },
   {
    "duration": 9,
    "start_time": "2022-12-14T12:33:55.243Z"
   },
   {
    "duration": 12,
    "start_time": "2022-12-14T12:33:55.253Z"
   },
   {
    "duration": 10,
    "start_time": "2022-12-14T12:33:55.266Z"
   },
   {
    "duration": 11,
    "start_time": "2022-12-14T12:33:55.278Z"
   },
   {
    "duration": 14,
    "start_time": "2022-12-14T12:33:55.290Z"
   },
   {
    "duration": 50,
    "start_time": "2022-12-14T12:33:55.305Z"
   },
   {
    "duration": 3744,
    "start_time": "2022-12-14T12:33:55.357Z"
   },
   {
    "duration": 14,
    "start_time": "2022-12-14T12:33:59.103Z"
   },
   {
    "duration": 588,
    "start_time": "2022-12-14T12:33:59.118Z"
   },
   {
    "duration": 22,
    "start_time": "2022-12-14T12:33:59.709Z"
   },
   {
    "duration": 9,
    "start_time": "2022-12-14T12:33:59.732Z"
   },
   {
    "duration": 7,
    "start_time": "2022-12-14T12:33:59.743Z"
   },
   {
    "duration": 3,
    "start_time": "2022-12-14T12:33:59.751Z"
   },
   {
    "duration": 31,
    "start_time": "2022-12-14T12:33:59.755Z"
   },
   {
    "duration": 5,
    "start_time": "2022-12-14T12:33:59.788Z"
   },
   {
    "duration": 173,
    "start_time": "2022-12-14T12:33:59.794Z"
   },
   {
    "duration": 16,
    "start_time": "2022-12-14T12:33:59.969Z"
   },
   {
    "duration": 10,
    "start_time": "2022-12-14T12:33:59.986Z"
   },
   {
    "duration": 17,
    "start_time": "2022-12-14T12:33:59.997Z"
   },
   {
    "duration": 1857,
    "start_time": "2022-12-14T12:34:00.028Z"
   },
   {
    "duration": 5,
    "start_time": "2022-12-14T12:34:57.896Z"
   },
   {
    "duration": 1740,
    "start_time": "2022-12-14T12:35:01.946Z"
   },
   {
    "duration": 7,
    "start_time": "2022-12-14T12:35:41.834Z"
   },
   {
    "duration": 199,
    "start_time": "2022-12-14T12:35:45.063Z"
   },
   {
    "duration": 207,
    "start_time": "2022-12-14T12:37:16.615Z"
   },
   {
    "duration": 195,
    "start_time": "2022-12-14T12:37:29.297Z"
   },
   {
    "duration": 11,
    "start_time": "2022-12-14T12:37:58.047Z"
   },
   {
    "duration": 7,
    "start_time": "2022-12-14T12:38:30.480Z"
   },
   {
    "duration": 199,
    "start_time": "2022-12-14T12:38:33.364Z"
   },
   {
    "duration": 7,
    "start_time": "2022-12-14T12:39:46.213Z"
   },
   {
    "duration": 290,
    "start_time": "2022-12-14T12:39:48.244Z"
   },
   {
    "duration": 4,
    "start_time": "2022-12-14T12:41:06.264Z"
   },
   {
    "duration": 1118,
    "start_time": "2022-12-14T12:41:10.446Z"
   },
   {
    "duration": 66,
    "start_time": "2022-12-14T12:41:11.567Z"
   },
   {
    "duration": 25,
    "start_time": "2022-12-14T12:41:11.635Z"
   },
   {
    "duration": 9,
    "start_time": "2022-12-14T12:41:11.661Z"
   },
   {
    "duration": 17,
    "start_time": "2022-12-14T12:41:11.672Z"
   },
   {
    "duration": 11,
    "start_time": "2022-12-14T12:41:11.690Z"
   },
   {
    "duration": 8,
    "start_time": "2022-12-14T12:41:11.702Z"
   },
   {
    "duration": 17,
    "start_time": "2022-12-14T12:41:11.711Z"
   },
   {
    "duration": 22,
    "start_time": "2022-12-14T12:41:11.729Z"
   },
   {
    "duration": 49,
    "start_time": "2022-12-14T12:41:11.752Z"
   },
   {
    "duration": 3671,
    "start_time": "2022-12-14T12:41:11.802Z"
   },
   {
    "duration": 15,
    "start_time": "2022-12-14T12:41:15.475Z"
   },
   {
    "duration": 614,
    "start_time": "2022-12-14T12:41:15.491Z"
   },
   {
    "duration": 25,
    "start_time": "2022-12-14T12:41:16.108Z"
   },
   {
    "duration": 8,
    "start_time": "2022-12-14T12:41:16.135Z"
   },
   {
    "duration": 7,
    "start_time": "2022-12-14T12:41:16.145Z"
   },
   {
    "duration": 5,
    "start_time": "2022-12-14T12:41:16.153Z"
   },
   {
    "duration": 27,
    "start_time": "2022-12-14T12:41:16.159Z"
   },
   {
    "duration": 4,
    "start_time": "2022-12-14T12:41:16.188Z"
   },
   {
    "duration": 179,
    "start_time": "2022-12-14T12:41:16.194Z"
   },
   {
    "duration": 19,
    "start_time": "2022-12-14T12:41:16.374Z"
   },
   {
    "duration": 18,
    "start_time": "2022-12-14T12:41:16.394Z"
   },
   {
    "duration": 17,
    "start_time": "2022-12-14T12:41:16.413Z"
   },
   {
    "duration": 342,
    "start_time": "2022-12-14T12:41:16.432Z"
   },
   {
    "duration": 3,
    "start_time": "2022-12-14T12:45:24.216Z"
   },
   {
    "duration": 71,
    "start_time": "2022-12-14T12:46:43.498Z"
   },
   {
    "duration": 188,
    "start_time": "2022-12-14T12:46:51.398Z"
   },
   {
    "duration": 179,
    "start_time": "2022-12-14T12:47:33.906Z"
   },
   {
    "duration": 169,
    "start_time": "2022-12-14T12:47:50.383Z"
   },
   {
    "duration": 4,
    "start_time": "2022-12-14T12:57:35.187Z"
   },
   {
    "duration": 212,
    "start_time": "2022-12-14T12:58:00.448Z"
   },
   {
    "duration": 124,
    "start_time": "2022-12-14T12:58:23.446Z"
   },
   {
    "duration": 8,
    "start_time": "2022-12-14T12:59:10.565Z"
   },
   {
    "duration": 11,
    "start_time": "2022-12-14T12:59:25.812Z"
   },
   {
    "duration": 1125,
    "start_time": "2022-12-14T12:59:34.660Z"
   },
   {
    "duration": 61,
    "start_time": "2022-12-14T12:59:35.787Z"
   },
   {
    "duration": 26,
    "start_time": "2022-12-14T12:59:35.849Z"
   },
   {
    "duration": 4,
    "start_time": "2022-12-14T12:59:35.878Z"
   },
   {
    "duration": 9,
    "start_time": "2022-12-14T12:59:35.884Z"
   },
   {
    "duration": 31,
    "start_time": "2022-12-14T12:59:35.895Z"
   },
   {
    "duration": 12,
    "start_time": "2022-12-14T12:59:35.928Z"
   },
   {
    "duration": 18,
    "start_time": "2022-12-14T12:59:35.942Z"
   },
   {
    "duration": 18,
    "start_time": "2022-12-14T12:59:35.962Z"
   },
   {
    "duration": 51,
    "start_time": "2022-12-14T12:59:35.982Z"
   },
   {
    "duration": 3535,
    "start_time": "2022-12-14T12:59:36.034Z"
   },
   {
    "duration": 14,
    "start_time": "2022-12-14T12:59:39.571Z"
   },
   {
    "duration": 577,
    "start_time": "2022-12-14T12:59:39.586Z"
   },
   {
    "duration": 17,
    "start_time": "2022-12-14T12:59:40.165Z"
   },
   {
    "duration": 9,
    "start_time": "2022-12-14T12:59:40.184Z"
   },
   {
    "duration": 7,
    "start_time": "2022-12-14T12:59:40.195Z"
   },
   {
    "duration": 28,
    "start_time": "2022-12-14T12:59:40.203Z"
   },
   {
    "duration": 33,
    "start_time": "2022-12-14T12:59:40.233Z"
   },
   {
    "duration": 4,
    "start_time": "2022-12-14T12:59:40.267Z"
   },
   {
    "duration": 152,
    "start_time": "2022-12-14T12:59:40.273Z"
   },
   {
    "duration": 17,
    "start_time": "2022-12-14T12:59:40.427Z"
   },
   {
    "duration": 11,
    "start_time": "2022-12-14T12:59:40.446Z"
   },
   {
    "duration": 10,
    "start_time": "2022-12-14T12:59:40.458Z"
   },
   {
    "duration": 203,
    "start_time": "2022-12-14T12:59:40.469Z"
   },
   {
    "duration": 7,
    "start_time": "2022-12-14T12:59:40.674Z"
   },
   {
    "duration": 7,
    "start_time": "2022-12-14T12:59:40.683Z"
   },
   {
    "duration": 14,
    "start_time": "2022-12-14T13:01:31.982Z"
   },
   {
    "duration": 14,
    "start_time": "2022-12-14T13:01:46.949Z"
   },
   {
    "duration": 399,
    "start_time": "2022-12-14T13:03:09.401Z"
   },
   {
    "duration": 11,
    "start_time": "2022-12-14T13:03:22.955Z"
   },
   {
    "duration": 5,
    "start_time": "2022-12-14T13:03:32.833Z"
   },
   {
    "duration": 6,
    "start_time": "2022-12-14T13:03:41.898Z"
   },
   {
    "duration": 6,
    "start_time": "2022-12-14T13:03:57.414Z"
   },
   {
    "duration": 1127,
    "start_time": "2022-12-14T13:04:14.541Z"
   },
   {
    "duration": 78,
    "start_time": "2022-12-14T13:04:15.671Z"
   },
   {
    "duration": 29,
    "start_time": "2022-12-14T13:04:15.750Z"
   },
   {
    "duration": 19,
    "start_time": "2022-12-14T13:04:15.782Z"
   },
   {
    "duration": 28,
    "start_time": "2022-12-14T13:04:15.804Z"
   },
   {
    "duration": 42,
    "start_time": "2022-12-14T13:04:15.834Z"
   },
   {
    "duration": 18,
    "start_time": "2022-12-14T13:04:15.879Z"
   },
   {
    "duration": 10,
    "start_time": "2022-12-14T13:04:15.899Z"
   },
   {
    "duration": 30,
    "start_time": "2022-12-14T13:04:15.911Z"
   },
   {
    "duration": 39,
    "start_time": "2022-12-14T13:04:15.944Z"
   },
   {
    "duration": 3696,
    "start_time": "2022-12-14T13:04:15.985Z"
   },
   {
    "duration": 21,
    "start_time": "2022-12-14T13:04:19.683Z"
   },
   {
    "duration": 585,
    "start_time": "2022-12-14T13:04:19.705Z"
   },
   {
    "duration": 16,
    "start_time": "2022-12-14T13:04:20.291Z"
   },
   {
    "duration": 34,
    "start_time": "2022-12-14T13:04:20.308Z"
   },
   {
    "duration": 27,
    "start_time": "2022-12-14T13:04:20.344Z"
   },
   {
    "duration": 18,
    "start_time": "2022-12-14T13:04:20.372Z"
   },
   {
    "duration": 39,
    "start_time": "2022-12-14T13:04:20.391Z"
   },
   {
    "duration": 14,
    "start_time": "2022-12-14T13:04:20.432Z"
   },
   {
    "duration": 178,
    "start_time": "2022-12-14T13:04:20.448Z"
   },
   {
    "duration": 16,
    "start_time": "2022-12-14T13:04:20.628Z"
   },
   {
    "duration": 26,
    "start_time": "2022-12-14T13:04:20.646Z"
   },
   {
    "duration": 31,
    "start_time": "2022-12-14T13:04:20.674Z"
   },
   {
    "duration": 204,
    "start_time": "2022-12-14T13:04:20.706Z"
   },
   {
    "duration": 2,
    "start_time": "2022-12-14T13:04:20.913Z"
   },
   {
    "duration": 36,
    "start_time": "2022-12-14T13:04:20.926Z"
   },
   {
    "duration": 5,
    "start_time": "2022-12-14T13:05:38.290Z"
   },
   {
    "duration": 11,
    "start_time": "2022-12-14T13:05:46.264Z"
   },
   {
    "duration": 13,
    "start_time": "2022-12-14T13:06:02.932Z"
   },
   {
    "duration": 10,
    "start_time": "2022-12-14T13:06:49.981Z"
   },
   {
    "duration": 11,
    "start_time": "2022-12-14T13:07:20.696Z"
   },
   {
    "duration": 19,
    "start_time": "2022-12-14T13:08:56.882Z"
   },
   {
    "duration": 16,
    "start_time": "2022-12-14T13:09:13.414Z"
   },
   {
    "duration": 17,
    "start_time": "2022-12-14T13:11:03.497Z"
   },
   {
    "duration": 15,
    "start_time": "2022-12-14T13:11:55.917Z"
   },
   {
    "duration": 5,
    "start_time": "2022-12-14T13:12:10.198Z"
   },
   {
    "duration": 374,
    "start_time": "2022-12-14T13:12:19.148Z"
   },
   {
    "duration": 141,
    "start_time": "2022-12-14T13:33:44.133Z"
   },
   {
    "duration": 10,
    "start_time": "2022-12-14T13:34:49.816Z"
   },
   {
    "duration": 1078,
    "start_time": "2022-12-14T13:35:26.366Z"
   },
   {
    "duration": 59,
    "start_time": "2022-12-14T13:35:27.446Z"
   },
   {
    "duration": 22,
    "start_time": "2022-12-14T13:35:27.507Z"
   },
   {
    "duration": 3,
    "start_time": "2022-12-14T13:35:27.530Z"
   },
   {
    "duration": 12,
    "start_time": "2022-12-14T13:35:27.534Z"
   },
   {
    "duration": 10,
    "start_time": "2022-12-14T13:35:27.547Z"
   },
   {
    "duration": 7,
    "start_time": "2022-12-14T13:35:27.559Z"
   },
   {
    "duration": 6,
    "start_time": "2022-12-14T13:35:27.568Z"
   },
   {
    "duration": 17,
    "start_time": "2022-12-14T13:35:27.576Z"
   },
   {
    "duration": 47,
    "start_time": "2022-12-14T13:35:27.595Z"
   },
   {
    "duration": 3469,
    "start_time": "2022-12-14T13:35:27.644Z"
   },
   {
    "duration": 15,
    "start_time": "2022-12-14T13:35:31.115Z"
   },
   {
    "duration": 585,
    "start_time": "2022-12-14T13:35:31.131Z"
   },
   {
    "duration": 17,
    "start_time": "2022-12-14T13:35:31.717Z"
   },
   {
    "duration": 32,
    "start_time": "2022-12-14T13:35:31.735Z"
   },
   {
    "duration": 10,
    "start_time": "2022-12-14T13:35:31.768Z"
   },
   {
    "duration": 47,
    "start_time": "2022-12-14T13:35:31.779Z"
   },
   {
    "duration": 43,
    "start_time": "2022-12-14T13:35:31.828Z"
   },
   {
    "duration": 95,
    "start_time": "2022-12-14T13:35:31.872Z"
   },
   {
    "duration": 0,
    "start_time": "2022-12-14T13:35:31.969Z"
   },
   {
    "duration": 0,
    "start_time": "2022-12-14T13:35:31.970Z"
   },
   {
    "duration": 0,
    "start_time": "2022-12-14T13:35:31.972Z"
   },
   {
    "duration": 0,
    "start_time": "2022-12-14T13:35:31.973Z"
   },
   {
    "duration": 0,
    "start_time": "2022-12-14T13:35:31.975Z"
   },
   {
    "duration": 0,
    "start_time": "2022-12-14T13:35:31.976Z"
   },
   {
    "duration": 0,
    "start_time": "2022-12-14T13:35:31.977Z"
   },
   {
    "duration": 10,
    "start_time": "2022-12-14T13:36:52.183Z"
   },
   {
    "duration": 154,
    "start_time": "2022-12-14T13:36:59.450Z"
   },
   {
    "duration": 16,
    "start_time": "2022-12-14T13:38:00.950Z"
   },
   {
    "duration": 18,
    "start_time": "2022-12-14T13:38:19.684Z"
   },
   {
    "duration": 11,
    "start_time": "2022-12-14T13:39:05.598Z"
   },
   {
    "duration": 11,
    "start_time": "2022-12-14T13:39:58.151Z"
   },
   {
    "duration": 6,
    "start_time": "2022-12-14T13:40:06.665Z"
   },
   {
    "duration": 1642,
    "start_time": "2022-12-14T13:40:28.033Z"
   },
   {
    "duration": 8,
    "start_time": "2022-12-14T13:40:43.648Z"
   },
   {
    "duration": 162,
    "start_time": "2022-12-14T13:40:45.802Z"
   },
   {
    "duration": 7,
    "start_time": "2022-12-14T13:41:51.481Z"
   },
   {
    "duration": 147,
    "start_time": "2022-12-14T13:41:54.218Z"
   },
   {
    "duration": 132,
    "start_time": "2022-12-14T13:42:03.666Z"
   },
   {
    "duration": 129,
    "start_time": "2022-12-14T13:42:50.349Z"
   },
   {
    "duration": 5,
    "start_time": "2022-12-14T13:42:52.681Z"
   },
   {
    "duration": 133,
    "start_time": "2022-12-14T13:42:54.583Z"
   },
   {
    "duration": 5,
    "start_time": "2022-12-14T13:43:03.132Z"
   },
   {
    "duration": 140,
    "start_time": "2022-12-14T13:43:06.984Z"
   },
   {
    "duration": 1119,
    "start_time": "2022-12-14T13:43:12.218Z"
   },
   {
    "duration": 59,
    "start_time": "2022-12-14T13:43:13.338Z"
   },
   {
    "duration": 21,
    "start_time": "2022-12-14T13:43:13.398Z"
   },
   {
    "duration": 3,
    "start_time": "2022-12-14T13:43:13.421Z"
   },
   {
    "duration": 7,
    "start_time": "2022-12-14T13:43:13.426Z"
   },
   {
    "duration": 9,
    "start_time": "2022-12-14T13:43:13.434Z"
   },
   {
    "duration": 8,
    "start_time": "2022-12-14T13:43:13.444Z"
   },
   {
    "duration": 7,
    "start_time": "2022-12-14T13:43:13.453Z"
   },
   {
    "duration": 11,
    "start_time": "2022-12-14T13:43:13.461Z"
   },
   {
    "duration": 57,
    "start_time": "2022-12-14T13:43:13.474Z"
   },
   {
    "duration": 3556,
    "start_time": "2022-12-14T13:43:13.533Z"
   },
   {
    "duration": 13,
    "start_time": "2022-12-14T13:43:17.091Z"
   },
   {
    "duration": 577,
    "start_time": "2022-12-14T13:43:17.105Z"
   },
   {
    "duration": 16,
    "start_time": "2022-12-14T13:43:17.684Z"
   },
   {
    "duration": 9,
    "start_time": "2022-12-14T13:43:17.702Z"
   },
   {
    "duration": 7,
    "start_time": "2022-12-14T13:43:17.726Z"
   },
   {
    "duration": 21,
    "start_time": "2022-12-14T13:43:17.735Z"
   },
   {
    "duration": 8,
    "start_time": "2022-12-14T13:43:17.757Z"
   },
   {
    "duration": 162,
    "start_time": "2022-12-14T13:43:17.766Z"
   },
   {
    "duration": 15,
    "start_time": "2022-12-14T13:43:17.930Z"
   },
   {
    "duration": 9,
    "start_time": "2022-12-14T13:43:17.947Z"
   },
   {
    "duration": 8,
    "start_time": "2022-12-14T13:43:17.957Z"
   },
   {
    "duration": 192,
    "start_time": "2022-12-14T13:43:17.966Z"
   },
   {
    "duration": 2,
    "start_time": "2022-12-14T13:43:18.159Z"
   },
   {
    "duration": 6,
    "start_time": "2022-12-14T13:43:18.163Z"
   },
   {
    "duration": 70,
    "start_time": "2022-12-14T13:44:04.232Z"
   },
   {
    "duration": 303,
    "start_time": "2022-12-14T13:44:11.833Z"
   },
   {
    "duration": 170,
    "start_time": "2022-12-14T13:44:32.464Z"
   },
   {
    "duration": 5,
    "start_time": "2022-12-14T13:44:57.549Z"
   },
   {
    "duration": 164,
    "start_time": "2022-12-14T13:45:01.215Z"
   },
   {
    "duration": 181,
    "start_time": "2022-12-14T13:45:15.273Z"
   },
   {
    "duration": 165,
    "start_time": "2022-12-14T13:45:18.448Z"
   },
   {
    "duration": 168,
    "start_time": "2022-12-14T13:45:30.933Z"
   },
   {
    "duration": 1234,
    "start_time": "2022-12-14T13:45:50.865Z"
   },
   {
    "duration": 62,
    "start_time": "2022-12-14T13:45:52.100Z"
   },
   {
    "duration": 26,
    "start_time": "2022-12-14T13:45:52.164Z"
   },
   {
    "duration": 3,
    "start_time": "2022-12-14T13:45:52.192Z"
   },
   {
    "duration": 30,
    "start_time": "2022-12-14T13:45:52.197Z"
   },
   {
    "duration": 14,
    "start_time": "2022-12-14T13:45:52.229Z"
   },
   {
    "duration": 12,
    "start_time": "2022-12-14T13:45:52.245Z"
   },
   {
    "duration": 10,
    "start_time": "2022-12-14T13:45:52.259Z"
   },
   {
    "duration": 10,
    "start_time": "2022-12-14T13:45:52.271Z"
   },
   {
    "duration": 51,
    "start_time": "2022-12-14T13:45:52.284Z"
   },
   {
    "duration": 3741,
    "start_time": "2022-12-14T13:45:52.337Z"
   },
   {
    "duration": 16,
    "start_time": "2022-12-14T13:45:56.080Z"
   },
   {
    "duration": 600,
    "start_time": "2022-12-14T13:45:56.097Z"
   },
   {
    "duration": 16,
    "start_time": "2022-12-14T13:45:56.698Z"
   },
   {
    "duration": 15,
    "start_time": "2022-12-14T13:45:56.716Z"
   },
   {
    "duration": 6,
    "start_time": "2022-12-14T13:45:56.733Z"
   },
   {
    "duration": 22,
    "start_time": "2022-12-14T13:45:56.741Z"
   },
   {
    "duration": 9,
    "start_time": "2022-12-14T13:45:56.765Z"
   },
   {
    "duration": 197,
    "start_time": "2022-12-14T13:45:56.776Z"
   },
   {
    "duration": 19,
    "start_time": "2022-12-14T13:45:56.975Z"
   },
   {
    "duration": 11,
    "start_time": "2022-12-14T13:45:56.995Z"
   },
   {
    "duration": 22,
    "start_time": "2022-12-14T13:45:57.008Z"
   },
   {
    "duration": 1071,
    "start_time": "2022-12-14T13:45:57.032Z"
   },
   {
    "duration": 3,
    "start_time": "2022-12-14T13:45:58.104Z"
   },
   {
    "duration": 53,
    "start_time": "2022-12-14T13:45:58.108Z"
   },
   {
    "duration": 877,
    "start_time": "2022-12-14T13:46:17.849Z"
   },
   {
    "duration": 954,
    "start_time": "2022-12-14T13:46:59.382Z"
   },
   {
    "duration": 956,
    "start_time": "2022-12-14T13:47:15.616Z"
   },
   {
    "duration": 5,
    "start_time": "2022-12-14T13:47:40.666Z"
   },
   {
    "duration": 894,
    "start_time": "2022-12-14T13:47:42.684Z"
   },
   {
    "duration": 885,
    "start_time": "2022-12-14T13:47:56.082Z"
   },
   {
    "duration": 87,
    "start_time": "2022-12-14T13:53:03.635Z"
   },
   {
    "duration": 10,
    "start_time": "2022-12-14T13:53:14.967Z"
   },
   {
    "duration": 12,
    "start_time": "2022-12-14T13:53:50.377Z"
   },
   {
    "duration": 10,
    "start_time": "2022-12-14T13:54:04.682Z"
   },
   {
    "duration": 15,
    "start_time": "2022-12-14T13:54:10.250Z"
   },
   {
    "duration": 1132,
    "start_time": "2022-12-14T13:54:16.110Z"
   },
   {
    "duration": 58,
    "start_time": "2022-12-14T13:54:17.244Z"
   },
   {
    "duration": 23,
    "start_time": "2022-12-14T13:54:17.304Z"
   },
   {
    "duration": 4,
    "start_time": "2022-12-14T13:54:17.329Z"
   },
   {
    "duration": 10,
    "start_time": "2022-12-14T13:54:17.334Z"
   },
   {
    "duration": 10,
    "start_time": "2022-12-14T13:54:17.345Z"
   },
   {
    "duration": 8,
    "start_time": "2022-12-14T13:54:17.356Z"
   },
   {
    "duration": 8,
    "start_time": "2022-12-14T13:54:17.365Z"
   },
   {
    "duration": 13,
    "start_time": "2022-12-14T13:54:17.374Z"
   },
   {
    "duration": 58,
    "start_time": "2022-12-14T13:54:17.389Z"
   },
   {
    "duration": 3480,
    "start_time": "2022-12-14T13:54:17.449Z"
   },
   {
    "duration": 14,
    "start_time": "2022-12-14T13:54:20.931Z"
   },
   {
    "duration": 531,
    "start_time": "2022-12-14T13:54:20.946Z"
   },
   {
    "duration": 15,
    "start_time": "2022-12-14T13:54:21.479Z"
   },
   {
    "duration": 8,
    "start_time": "2022-12-14T13:54:21.496Z"
   },
   {
    "duration": 26,
    "start_time": "2022-12-14T13:54:21.506Z"
   },
   {
    "duration": 32,
    "start_time": "2022-12-14T13:54:21.533Z"
   },
   {
    "duration": 10,
    "start_time": "2022-12-14T13:54:21.566Z"
   },
   {
    "duration": 173,
    "start_time": "2022-12-14T13:54:21.578Z"
   },
   {
    "duration": 18,
    "start_time": "2022-12-14T13:54:21.752Z"
   },
   {
    "duration": 11,
    "start_time": "2022-12-14T13:54:21.772Z"
   },
   {
    "duration": 11,
    "start_time": "2022-12-14T13:54:21.785Z"
   },
   {
    "duration": 2217,
    "start_time": "2022-12-14T13:54:21.797Z"
   },
   {
    "duration": 16,
    "start_time": "2022-12-14T13:54:24.016Z"
   },
   {
    "duration": 7,
    "start_time": "2022-12-14T13:54:24.033Z"
   },
   {
    "duration": 2,
    "start_time": "2022-12-14T13:55:06.174Z"
   },
   {
    "duration": 5,
    "start_time": "2022-12-14T13:55:11.399Z"
   },
   {
    "duration": 195,
    "start_time": "2022-12-14T13:55:16.840Z"
   },
   {
    "duration": 1151,
    "start_time": "2022-12-14T13:55:25.490Z"
   },
   {
    "duration": 68,
    "start_time": "2022-12-14T13:55:26.643Z"
   },
   {
    "duration": 21,
    "start_time": "2022-12-14T13:55:26.713Z"
   },
   {
    "duration": 3,
    "start_time": "2022-12-14T13:55:26.736Z"
   },
   {
    "duration": 9,
    "start_time": "2022-12-14T13:55:26.740Z"
   },
   {
    "duration": 12,
    "start_time": "2022-12-14T13:55:26.751Z"
   },
   {
    "duration": 15,
    "start_time": "2022-12-14T13:55:26.764Z"
   },
   {
    "duration": 8,
    "start_time": "2022-12-14T13:55:26.781Z"
   },
   {
    "duration": 11,
    "start_time": "2022-12-14T13:55:26.790Z"
   },
   {
    "duration": 56,
    "start_time": "2022-12-14T13:55:26.804Z"
   },
   {
    "duration": 3535,
    "start_time": "2022-12-14T13:55:26.862Z"
   },
   {
    "duration": 14,
    "start_time": "2022-12-14T13:55:30.399Z"
   },
   {
    "duration": 575,
    "start_time": "2022-12-14T13:55:30.415Z"
   },
   {
    "duration": 17,
    "start_time": "2022-12-14T13:55:30.992Z"
   },
   {
    "duration": 22,
    "start_time": "2022-12-14T13:55:31.010Z"
   },
   {
    "duration": 17,
    "start_time": "2022-12-14T13:55:31.033Z"
   },
   {
    "duration": 41,
    "start_time": "2022-12-14T13:55:31.051Z"
   },
   {
    "duration": 12,
    "start_time": "2022-12-14T13:55:31.094Z"
   },
   {
    "duration": 169,
    "start_time": "2022-12-14T13:55:31.108Z"
   },
   {
    "duration": 17,
    "start_time": "2022-12-14T13:55:31.279Z"
   },
   {
    "duration": 10,
    "start_time": "2022-12-14T13:55:31.298Z"
   },
   {
    "duration": 4,
    "start_time": "2022-12-14T13:55:31.327Z"
   },
   {
    "duration": 2264,
    "start_time": "2022-12-14T13:55:31.333Z"
   },
   {
    "duration": 2,
    "start_time": "2022-12-14T13:55:33.600Z"
   },
   {
    "duration": 5,
    "start_time": "2022-12-14T13:55:33.604Z"
   },
   {
    "duration": 5,
    "start_time": "2022-12-14T13:57:43.765Z"
   },
   {
    "duration": 909,
    "start_time": "2022-12-14T13:57:46.099Z"
   },
   {
    "duration": 7,
    "start_time": "2022-12-14T13:58:28.481Z"
   },
   {
    "duration": 575,
    "start_time": "2022-12-14T13:58:30.630Z"
   },
   {
    "duration": 8,
    "start_time": "2022-12-14T13:58:43.781Z"
   },
   {
    "duration": 575,
    "start_time": "2022-12-14T13:58:45.965Z"
   },
   {
    "duration": 15,
    "start_time": "2022-12-14T14:00:05.833Z"
   },
   {
    "duration": 14,
    "start_time": "2022-12-14T14:00:20.800Z"
   },
   {
    "duration": 11,
    "start_time": "2022-12-14T14:00:33.532Z"
   },
   {
    "duration": 12,
    "start_time": "2022-12-14T14:00:46.697Z"
   },
   {
    "duration": 12,
    "start_time": "2022-12-14T14:00:57.973Z"
   },
   {
    "duration": 11,
    "start_time": "2022-12-14T14:01:14.674Z"
   },
   {
    "duration": 12,
    "start_time": "2022-12-14T14:01:17.297Z"
   },
   {
    "duration": 158,
    "start_time": "2022-12-14T14:01:25.498Z"
   },
   {
    "duration": 1133,
    "start_time": "2022-12-14T14:01:41.507Z"
   },
   {
    "duration": 59,
    "start_time": "2022-12-14T14:01:42.641Z"
   },
   {
    "duration": 21,
    "start_time": "2022-12-14T14:01:42.702Z"
   },
   {
    "duration": 3,
    "start_time": "2022-12-14T14:01:42.724Z"
   },
   {
    "duration": 15,
    "start_time": "2022-12-14T14:01:42.729Z"
   },
   {
    "duration": 28,
    "start_time": "2022-12-14T14:01:42.745Z"
   },
   {
    "duration": 13,
    "start_time": "2022-12-14T14:01:42.775Z"
   },
   {
    "duration": 23,
    "start_time": "2022-12-14T14:01:42.790Z"
   },
   {
    "duration": 31,
    "start_time": "2022-12-14T14:01:42.815Z"
   },
   {
    "duration": 53,
    "start_time": "2022-12-14T14:01:42.848Z"
   },
   {
    "duration": 3562,
    "start_time": "2022-12-14T14:01:42.903Z"
   },
   {
    "duration": 13,
    "start_time": "2022-12-14T14:01:46.467Z"
   },
   {
    "duration": 590,
    "start_time": "2022-12-14T14:01:46.482Z"
   },
   {
    "duration": 15,
    "start_time": "2022-12-14T14:01:47.075Z"
   },
   {
    "duration": 25,
    "start_time": "2022-12-14T14:01:47.092Z"
   },
   {
    "duration": 19,
    "start_time": "2022-12-14T14:01:47.118Z"
   },
   {
    "duration": 46,
    "start_time": "2022-12-14T14:01:47.139Z"
   },
   {
    "duration": 13,
    "start_time": "2022-12-14T14:01:47.187Z"
   },
   {
    "duration": 168,
    "start_time": "2022-12-14T14:01:47.201Z"
   },
   {
    "duration": 16,
    "start_time": "2022-12-14T14:01:47.370Z"
   },
   {
    "duration": 28,
    "start_time": "2022-12-14T14:01:47.387Z"
   },
   {
    "duration": 21,
    "start_time": "2022-12-14T14:01:47.416Z"
   },
   {
    "duration": 1018,
    "start_time": "2022-12-14T14:01:47.438Z"
   },
   {
    "duration": 15,
    "start_time": "2022-12-14T14:01:48.457Z"
   },
   {
    "duration": 891,
    "start_time": "2022-12-14T14:01:48.473Z"
   },
   {
    "duration": 15,
    "start_time": "2022-12-14T14:02:15.182Z"
   },
   {
    "duration": 14,
    "start_time": "2022-12-14T14:02:22.257Z"
   },
   {
    "duration": 6,
    "start_time": "2022-12-14T14:03:13.181Z"
   },
   {
    "duration": 174,
    "start_time": "2022-12-14T14:03:15.107Z"
   },
   {
    "duration": 1110,
    "start_time": "2022-12-14T14:03:32.926Z"
   },
   {
    "duration": 60,
    "start_time": "2022-12-14T14:03:34.038Z"
   },
   {
    "duration": 21,
    "start_time": "2022-12-14T14:03:34.100Z"
   },
   {
    "duration": 2,
    "start_time": "2022-12-14T14:03:34.123Z"
   },
   {
    "duration": 8,
    "start_time": "2022-12-14T14:03:34.127Z"
   },
   {
    "duration": 10,
    "start_time": "2022-12-14T14:03:34.136Z"
   },
   {
    "duration": 9,
    "start_time": "2022-12-14T14:03:34.148Z"
   },
   {
    "duration": 6,
    "start_time": "2022-12-14T14:03:34.159Z"
   },
   {
    "duration": 10,
    "start_time": "2022-12-14T14:03:34.166Z"
   },
   {
    "duration": 59,
    "start_time": "2022-12-14T14:03:34.178Z"
   },
   {
    "duration": 3551,
    "start_time": "2022-12-14T14:03:34.238Z"
   },
   {
    "duration": 15,
    "start_time": "2022-12-14T14:03:37.790Z"
   },
   {
    "duration": 589,
    "start_time": "2022-12-14T14:03:37.806Z"
   },
   {
    "duration": 16,
    "start_time": "2022-12-14T14:03:38.397Z"
   },
   {
    "duration": 20,
    "start_time": "2022-12-14T14:03:38.414Z"
   },
   {
    "duration": 8,
    "start_time": "2022-12-14T14:03:38.435Z"
   },
   {
    "duration": 18,
    "start_time": "2022-12-14T14:03:38.444Z"
   },
   {
    "duration": 8,
    "start_time": "2022-12-14T14:03:38.464Z"
   },
   {
    "duration": 171,
    "start_time": "2022-12-14T14:03:38.474Z"
   },
   {
    "duration": 17,
    "start_time": "2022-12-14T14:03:38.647Z"
   },
   {
    "duration": 19,
    "start_time": "2022-12-14T14:03:38.666Z"
   },
   {
    "duration": 27,
    "start_time": "2022-12-14T14:03:38.686Z"
   },
   {
    "duration": 214,
    "start_time": "2022-12-14T14:03:38.714Z"
   },
   {
    "duration": 2,
    "start_time": "2022-12-14T14:03:38.930Z"
   },
   {
    "duration": 126,
    "start_time": "2022-12-14T14:03:38.933Z"
   },
   {
    "duration": 320,
    "start_time": "2022-12-14T14:04:21.782Z"
   },
   {
    "duration": 181,
    "start_time": "2022-12-14T14:04:34.399Z"
   },
   {
    "duration": 7,
    "start_time": "2022-12-14T14:05:45.098Z"
   },
   {
    "duration": 183,
    "start_time": "2022-12-14T14:05:51.898Z"
   },
   {
    "duration": 7,
    "start_time": "2022-12-14T14:06:17.865Z"
   },
   {
    "duration": 187,
    "start_time": "2022-12-14T14:06:20.516Z"
   },
   {
    "duration": 7,
    "start_time": "2022-12-14T14:07:36.881Z"
   },
   {
    "duration": 157,
    "start_time": "2022-12-14T14:07:38.865Z"
   },
   {
    "duration": 1146,
    "start_time": "2022-12-14T14:07:55.306Z"
   },
   {
    "duration": 59,
    "start_time": "2022-12-14T14:07:56.453Z"
   },
   {
    "duration": 22,
    "start_time": "2022-12-14T14:07:56.513Z"
   },
   {
    "duration": 3,
    "start_time": "2022-12-14T14:07:56.536Z"
   },
   {
    "duration": 7,
    "start_time": "2022-12-14T14:07:56.540Z"
   },
   {
    "duration": 9,
    "start_time": "2022-12-14T14:07:56.549Z"
   },
   {
    "duration": 16,
    "start_time": "2022-12-14T14:07:56.559Z"
   },
   {
    "duration": 11,
    "start_time": "2022-12-14T14:07:56.577Z"
   },
   {
    "duration": 16,
    "start_time": "2022-12-14T14:07:56.590Z"
   },
   {
    "duration": 48,
    "start_time": "2022-12-14T14:07:56.608Z"
   },
   {
    "duration": 3532,
    "start_time": "2022-12-14T14:07:56.657Z"
   },
   {
    "duration": 17,
    "start_time": "2022-12-14T14:08:00.191Z"
   },
   {
    "duration": 583,
    "start_time": "2022-12-14T14:08:00.210Z"
   },
   {
    "duration": 17,
    "start_time": "2022-12-14T14:08:00.795Z"
   },
   {
    "duration": 22,
    "start_time": "2022-12-14T14:08:00.813Z"
   },
   {
    "duration": 12,
    "start_time": "2022-12-14T14:08:00.836Z"
   },
   {
    "duration": 19,
    "start_time": "2022-12-14T14:08:00.849Z"
   },
   {
    "duration": 9,
    "start_time": "2022-12-14T14:08:00.870Z"
   },
   {
    "duration": 182,
    "start_time": "2022-12-14T14:08:00.881Z"
   },
   {
    "duration": 17,
    "start_time": "2022-12-14T14:08:01.064Z"
   },
   {
    "duration": 36,
    "start_time": "2022-12-14T14:08:01.082Z"
   },
   {
    "duration": 45,
    "start_time": "2022-12-14T14:08:01.119Z"
   },
   {
    "duration": 249,
    "start_time": "2022-12-14T14:08:01.166Z"
   },
   {
    "duration": 338,
    "start_time": "2022-12-14T14:08:25.366Z"
   },
   {
    "duration": 8,
    "start_time": "2022-12-14T14:08:49.699Z"
   },
   {
    "duration": 192,
    "start_time": "2022-12-14T14:08:52.933Z"
   },
   {
    "duration": 197,
    "start_time": "2022-12-14T14:09:03.765Z"
   },
   {
    "duration": 18,
    "start_time": "2022-12-14T14:09:36.165Z"
   },
   {
    "duration": 3438,
    "start_time": "2022-12-14T14:09:51.482Z"
   },
   {
    "duration": 9,
    "start_time": "2022-12-14T14:09:54.922Z"
   },
   {
    "duration": 1106,
    "start_time": "2022-12-14T14:10:05.354Z"
   },
   {
    "duration": 68,
    "start_time": "2022-12-14T14:10:06.462Z"
   },
   {
    "duration": 23,
    "start_time": "2022-12-14T14:10:06.532Z"
   },
   {
    "duration": 3,
    "start_time": "2022-12-14T14:10:06.557Z"
   },
   {
    "duration": 15,
    "start_time": "2022-12-14T14:10:06.562Z"
   },
   {
    "duration": 11,
    "start_time": "2022-12-14T14:10:06.578Z"
   },
   {
    "duration": 7,
    "start_time": "2022-12-14T14:10:06.591Z"
   },
   {
    "duration": 11,
    "start_time": "2022-12-14T14:10:06.600Z"
   },
   {
    "duration": 20,
    "start_time": "2022-12-14T14:10:06.613Z"
   },
   {
    "duration": 36,
    "start_time": "2022-12-14T14:10:06.635Z"
   },
   {
    "duration": 3536,
    "start_time": "2022-12-14T14:10:06.673Z"
   },
   {
    "duration": 14,
    "start_time": "2022-12-14T14:10:10.211Z"
   },
   {
    "duration": 550,
    "start_time": "2022-12-14T14:10:10.227Z"
   },
   {
    "duration": 15,
    "start_time": "2022-12-14T14:10:10.779Z"
   },
   {
    "duration": 15,
    "start_time": "2022-12-14T14:10:10.796Z"
   },
   {
    "duration": 26,
    "start_time": "2022-12-14T14:10:10.812Z"
   },
   {
    "duration": 35,
    "start_time": "2022-12-14T14:10:10.840Z"
   },
   {
    "duration": 19,
    "start_time": "2022-12-14T14:10:10.876Z"
   },
   {
    "duration": 166,
    "start_time": "2022-12-14T14:10:10.896Z"
   },
   {
    "duration": 16,
    "start_time": "2022-12-14T14:10:11.064Z"
   },
   {
    "duration": 30,
    "start_time": "2022-12-14T14:10:11.082Z"
   },
   {
    "duration": 28,
    "start_time": "2022-12-14T14:10:11.114Z"
   },
   {
    "duration": 316,
    "start_time": "2022-12-14T14:10:11.144Z"
   },
   {
    "duration": 415,
    "start_time": "2022-12-14T14:11:28.449Z"
   },
   {
    "duration": 9,
    "start_time": "2022-12-14T14:13:17.050Z"
   },
   {
    "duration": 10,
    "start_time": "2022-12-14T14:13:55.436Z"
   },
   {
    "duration": 10,
    "start_time": "2022-12-14T14:13:58.901Z"
   },
   {
    "duration": 9,
    "start_time": "2022-12-14T14:14:17.901Z"
   },
   {
    "duration": 9,
    "start_time": "2022-12-14T14:14:24.767Z"
   },
   {
    "duration": 9,
    "start_time": "2022-12-14T14:14:27.617Z"
   },
   {
    "duration": 11,
    "start_time": "2022-12-14T14:14:53.134Z"
   },
   {
    "duration": 1066,
    "start_time": "2022-12-14T14:15:05.956Z"
   },
   {
    "duration": 59,
    "start_time": "2022-12-14T14:15:07.024Z"
   },
   {
    "duration": 22,
    "start_time": "2022-12-14T14:15:07.085Z"
   },
   {
    "duration": 3,
    "start_time": "2022-12-14T14:15:07.108Z"
   },
   {
    "duration": 8,
    "start_time": "2022-12-14T14:15:07.113Z"
   },
   {
    "duration": 30,
    "start_time": "2022-12-14T14:15:07.122Z"
   },
   {
    "duration": 8,
    "start_time": "2022-12-14T14:15:07.154Z"
   },
   {
    "duration": 6,
    "start_time": "2022-12-14T14:15:07.164Z"
   },
   {
    "duration": 13,
    "start_time": "2022-12-14T14:15:07.172Z"
   },
   {
    "duration": 39,
    "start_time": "2022-12-14T14:15:07.187Z"
   },
   {
    "duration": 3469,
    "start_time": "2022-12-14T14:15:07.228Z"
   },
   {
    "duration": 13,
    "start_time": "2022-12-14T14:15:10.699Z"
   },
   {
    "duration": 573,
    "start_time": "2022-12-14T14:15:10.714Z"
   },
   {
    "duration": 16,
    "start_time": "2022-12-14T14:15:11.289Z"
   },
   {
    "duration": 20,
    "start_time": "2022-12-14T14:15:11.306Z"
   },
   {
    "duration": 6,
    "start_time": "2022-12-14T14:15:11.328Z"
   },
   {
    "duration": 21,
    "start_time": "2022-12-14T14:15:11.335Z"
   },
   {
    "duration": 8,
    "start_time": "2022-12-14T14:15:11.358Z"
   },
   {
    "duration": 172,
    "start_time": "2022-12-14T14:15:11.367Z"
   },
   {
    "duration": 20,
    "start_time": "2022-12-14T14:15:11.540Z"
   },
   {
    "duration": 63,
    "start_time": "2022-12-14T14:15:11.562Z"
   },
   {
    "duration": 25,
    "start_time": "2022-12-14T14:15:11.626Z"
   },
   {
    "duration": 343,
    "start_time": "2022-12-14T14:15:11.653Z"
   },
   {
    "duration": 11,
    "start_time": "2022-12-14T14:15:11.997Z"
   },
   {
    "duration": 11,
    "start_time": "2022-12-14T14:15:55.433Z"
   },
   {
    "duration": 5,
    "start_time": "2022-12-14T14:17:00.483Z"
   },
   {
    "duration": 9,
    "start_time": "2022-12-14T14:17:08.923Z"
   },
   {
    "duration": 107,
    "start_time": "2022-12-14T14:20:51.549Z"
   },
   {
    "duration": 255,
    "start_time": "2022-12-14T14:21:23.747Z"
   },
   {
    "duration": 2,
    "start_time": "2022-12-14T14:21:35.199Z"
   },
   {
    "duration": 143,
    "start_time": "2022-12-14T14:23:51.405Z"
   },
   {
    "duration": 1107,
    "start_time": "2022-12-14T14:23:57.540Z"
   },
   {
    "duration": 63,
    "start_time": "2022-12-14T14:23:58.649Z"
   },
   {
    "duration": 25,
    "start_time": "2022-12-14T14:23:58.714Z"
   },
   {
    "duration": 3,
    "start_time": "2022-12-14T14:23:58.740Z"
   },
   {
    "duration": 23,
    "start_time": "2022-12-14T14:23:58.745Z"
   },
   {
    "duration": 38,
    "start_time": "2022-12-14T14:23:58.769Z"
   },
   {
    "duration": 16,
    "start_time": "2022-12-14T14:23:58.808Z"
   },
   {
    "duration": 21,
    "start_time": "2022-12-14T14:23:58.826Z"
   },
   {
    "duration": 28,
    "start_time": "2022-12-14T14:23:58.849Z"
   },
   {
    "duration": 34,
    "start_time": "2022-12-14T14:23:58.879Z"
   },
   {
    "duration": 3630,
    "start_time": "2022-12-14T14:23:58.915Z"
   },
   {
    "duration": 15,
    "start_time": "2022-12-14T14:24:02.547Z"
   },
   {
    "duration": 581,
    "start_time": "2022-12-14T14:24:02.563Z"
   },
   {
    "duration": 16,
    "start_time": "2022-12-14T14:24:03.147Z"
   },
   {
    "duration": 8,
    "start_time": "2022-12-14T14:24:03.165Z"
   },
   {
    "duration": 19,
    "start_time": "2022-12-14T14:24:03.175Z"
   },
   {
    "duration": 31,
    "start_time": "2022-12-14T14:24:03.196Z"
   },
   {
    "duration": 10,
    "start_time": "2022-12-14T14:24:03.229Z"
   },
   {
    "duration": 99,
    "start_time": "2022-12-14T14:24:03.240Z"
   },
   {
    "duration": 0,
    "start_time": "2022-12-14T14:24:03.341Z"
   },
   {
    "duration": 0,
    "start_time": "2022-12-14T14:24:03.342Z"
   },
   {
    "duration": 0,
    "start_time": "2022-12-14T14:24:03.343Z"
   },
   {
    "duration": 0,
    "start_time": "2022-12-14T14:24:03.344Z"
   },
   {
    "duration": 0,
    "start_time": "2022-12-14T14:24:03.345Z"
   },
   {
    "duration": 12,
    "start_time": "2022-12-14T14:24:37.017Z"
   },
   {
    "duration": 152,
    "start_time": "2022-12-14T14:24:40.359Z"
   },
   {
    "duration": 9,
    "start_time": "2022-12-14T14:25:17.134Z"
   },
   {
    "duration": 166,
    "start_time": "2022-12-14T14:25:23.482Z"
   },
   {
    "duration": 9,
    "start_time": "2022-12-14T14:25:34.115Z"
   },
   {
    "duration": 17,
    "start_time": "2022-12-14T14:25:53.634Z"
   },
   {
    "duration": 11,
    "start_time": "2022-12-14T14:25:58.034Z"
   },
   {
    "duration": 7,
    "start_time": "2022-12-14T14:26:03.367Z"
   },
   {
    "duration": 499,
    "start_time": "2022-12-14T14:26:05.899Z"
   },
   {
    "duration": 12,
    "start_time": "2022-12-14T14:26:20.816Z"
   },
   {
    "duration": 12,
    "start_time": "2022-12-14T14:26:58.851Z"
   },
   {
    "duration": 13,
    "start_time": "2022-12-14T14:27:13.148Z"
   },
   {
    "duration": 11,
    "start_time": "2022-12-14T14:27:21.051Z"
   },
   {
    "duration": 15,
    "start_time": "2022-12-14T14:27:52.651Z"
   },
   {
    "duration": 6,
    "start_time": "2022-12-14T14:28:03.635Z"
   },
   {
    "duration": 203,
    "start_time": "2022-12-14T14:28:41.209Z"
   },
   {
    "duration": 203,
    "start_time": "2022-12-14T14:28:58.817Z"
   },
   {
    "duration": 230,
    "start_time": "2022-12-14T14:29:07.516Z"
   },
   {
    "duration": 222,
    "start_time": "2022-12-14T14:29:18.018Z"
   },
   {
    "duration": 194,
    "start_time": "2022-12-14T14:29:28.717Z"
   },
   {
    "duration": 13,
    "start_time": "2022-12-14T14:31:09.901Z"
   },
   {
    "duration": 12,
    "start_time": "2022-12-14T14:31:30.467Z"
   },
   {
    "duration": 12,
    "start_time": "2022-12-14T14:31:43.118Z"
   },
   {
    "duration": 95,
    "start_time": "2022-12-14T14:40:46.834Z"
   },
   {
    "duration": 96,
    "start_time": "2022-12-14T14:41:02.283Z"
   },
   {
    "duration": 102,
    "start_time": "2022-12-14T14:43:40.085Z"
   },
   {
    "duration": 523,
    "start_time": "2022-12-14T14:50:50.367Z"
   },
   {
    "duration": 462,
    "start_time": "2022-12-14T14:51:23.717Z"
   },
   {
    "duration": 90,
    "start_time": "2022-12-14T14:53:35.668Z"
   },
   {
    "duration": 88,
    "start_time": "2022-12-14T14:53:44.169Z"
   },
   {
    "duration": 73,
    "start_time": "2022-12-14T14:54:55.035Z"
   },
   {
    "duration": 74,
    "start_time": "2022-12-14T14:55:48.868Z"
   },
   {
    "duration": 85,
    "start_time": "2022-12-14T14:56:10.668Z"
   },
   {
    "duration": 81,
    "start_time": "2022-12-14T14:56:26.184Z"
   },
   {
    "duration": 75,
    "start_time": "2022-12-14T14:56:58.677Z"
   },
   {
    "duration": 1113,
    "start_time": "2022-12-14T14:57:06.535Z"
   },
   {
    "duration": 5,
    "start_time": "2022-12-14T14:58:31.652Z"
   },
   {
    "duration": 441,
    "start_time": "2022-12-14T14:58:35.051Z"
   },
   {
    "duration": 5,
    "start_time": "2022-12-14T14:59:39.485Z"
   },
   {
    "duration": 550,
    "start_time": "2022-12-14T14:59:47.133Z"
   },
   {
    "duration": 129,
    "start_time": "2022-12-14T15:02:37.234Z"
   },
   {
    "duration": 122,
    "start_time": "2022-12-14T15:02:48.665Z"
   },
   {
    "duration": 81,
    "start_time": "2022-12-14T15:04:25.303Z"
   },
   {
    "duration": 6,
    "start_time": "2022-12-14T15:06:03.818Z"
   },
   {
    "duration": 78,
    "start_time": "2022-12-14T15:06:10.267Z"
   },
   {
    "duration": 18,
    "start_time": "2022-12-14T15:06:21.953Z"
   },
   {
    "duration": 121,
    "start_time": "2022-12-14T15:06:46.126Z"
   },
   {
    "duration": 6,
    "start_time": "2022-12-14T15:08:00.886Z"
   },
   {
    "duration": 9,
    "start_time": "2022-12-14T15:08:06.802Z"
   },
   {
    "duration": 1206,
    "start_time": "2022-12-14T15:08:18.863Z"
   },
   {
    "duration": 62,
    "start_time": "2022-12-14T15:08:20.072Z"
   },
   {
    "duration": 24,
    "start_time": "2022-12-14T15:08:20.136Z"
   },
   {
    "duration": 5,
    "start_time": "2022-12-14T15:08:20.161Z"
   },
   {
    "duration": 10,
    "start_time": "2022-12-14T15:08:20.169Z"
   },
   {
    "duration": 11,
    "start_time": "2022-12-14T15:08:20.180Z"
   },
   {
    "duration": 10,
    "start_time": "2022-12-14T15:08:20.193Z"
   },
   {
    "duration": 26,
    "start_time": "2022-12-14T15:08:20.204Z"
   },
   {
    "duration": 24,
    "start_time": "2022-12-14T15:08:20.232Z"
   },
   {
    "duration": 62,
    "start_time": "2022-12-14T15:08:20.258Z"
   },
   {
    "duration": 3867,
    "start_time": "2022-12-14T15:08:20.322Z"
   },
   {
    "duration": 14,
    "start_time": "2022-12-14T15:08:24.191Z"
   },
   {
    "duration": 623,
    "start_time": "2022-12-14T15:08:24.207Z"
   },
   {
    "duration": 20,
    "start_time": "2022-12-14T15:08:24.834Z"
   },
   {
    "duration": 10,
    "start_time": "2022-12-14T15:08:24.856Z"
   },
   {
    "duration": 7,
    "start_time": "2022-12-14T15:08:24.868Z"
   },
   {
    "duration": 19,
    "start_time": "2022-12-14T15:08:24.877Z"
   },
   {
    "duration": 12,
    "start_time": "2022-12-14T15:08:24.925Z"
   },
   {
    "duration": 188,
    "start_time": "2022-12-14T15:08:24.939Z"
   },
   {
    "duration": 18,
    "start_time": "2022-12-14T15:08:25.129Z"
   },
   {
    "duration": 10,
    "start_time": "2022-12-14T15:08:25.149Z"
   },
   {
    "duration": 11,
    "start_time": "2022-12-14T15:08:25.161Z"
   },
   {
    "duration": 346,
    "start_time": "2022-12-14T15:08:25.174Z"
   },
   {
    "duration": 21,
    "start_time": "2022-12-14T15:08:25.522Z"
   },
   {
    "duration": 376,
    "start_time": "2022-12-14T15:08:25.544Z"
   },
   {
    "duration": 11,
    "start_time": "2022-12-14T15:08:25.921Z"
   },
   {
    "duration": 11,
    "start_time": "2022-12-14T15:10:08.000Z"
   },
   {
    "duration": 1091,
    "start_time": "2022-12-14T15:10:16.153Z"
   },
   {
    "duration": 58,
    "start_time": "2022-12-14T15:10:17.246Z"
   },
   {
    "duration": 23,
    "start_time": "2022-12-14T15:10:17.306Z"
   },
   {
    "duration": 3,
    "start_time": "2022-12-14T15:10:17.331Z"
   },
   {
    "duration": 10,
    "start_time": "2022-12-14T15:10:17.336Z"
   },
   {
    "duration": 11,
    "start_time": "2022-12-14T15:10:17.347Z"
   },
   {
    "duration": 11,
    "start_time": "2022-12-14T15:10:17.359Z"
   },
   {
    "duration": 7,
    "start_time": "2022-12-14T15:10:17.371Z"
   },
   {
    "duration": 16,
    "start_time": "2022-12-14T15:10:17.379Z"
   },
   {
    "duration": 47,
    "start_time": "2022-12-14T15:10:17.397Z"
   },
   {
    "duration": 3639,
    "start_time": "2022-12-14T15:10:17.446Z"
   },
   {
    "duration": 15,
    "start_time": "2022-12-14T15:10:21.086Z"
   },
   {
    "duration": 626,
    "start_time": "2022-12-14T15:10:21.102Z"
   },
   {
    "duration": 17,
    "start_time": "2022-12-14T15:10:21.729Z"
   },
   {
    "duration": 12,
    "start_time": "2022-12-14T15:10:21.748Z"
   },
   {
    "duration": 28,
    "start_time": "2022-12-14T15:10:21.762Z"
   },
   {
    "duration": 33,
    "start_time": "2022-12-14T15:10:21.791Z"
   },
   {
    "duration": 16,
    "start_time": "2022-12-14T15:10:21.826Z"
   },
   {
    "duration": 181,
    "start_time": "2022-12-14T15:10:21.843Z"
   },
   {
    "duration": 18,
    "start_time": "2022-12-14T15:10:22.025Z"
   },
   {
    "duration": 38,
    "start_time": "2022-12-14T15:10:22.045Z"
   },
   {
    "duration": 38,
    "start_time": "2022-12-14T15:10:22.084Z"
   },
   {
    "duration": 329,
    "start_time": "2022-12-14T15:10:22.124Z"
   },
   {
    "duration": 3782,
    "start_time": "2022-12-14T15:10:22.455Z"
   },
   {
    "duration": 8,
    "start_time": "2022-12-14T15:10:26.239Z"
   },
   {
    "duration": 3,
    "start_time": "2022-12-14T15:11:25.735Z"
   },
   {
    "duration": 1213,
    "start_time": "2022-12-14T15:12:19.639Z"
   },
   {
    "duration": 62,
    "start_time": "2022-12-14T15:12:20.855Z"
   },
   {
    "duration": 23,
    "start_time": "2022-12-14T15:12:20.919Z"
   },
   {
    "duration": 4,
    "start_time": "2022-12-14T15:12:20.944Z"
   },
   {
    "duration": 17,
    "start_time": "2022-12-14T15:12:20.950Z"
   },
   {
    "duration": 21,
    "start_time": "2022-12-14T15:12:20.969Z"
   },
   {
    "duration": 11,
    "start_time": "2022-12-14T15:12:20.992Z"
   },
   {
    "duration": 29,
    "start_time": "2022-12-14T15:12:21.006Z"
   },
   {
    "duration": 12,
    "start_time": "2022-12-14T15:12:21.037Z"
   },
   {
    "duration": 45,
    "start_time": "2022-12-14T15:12:21.050Z"
   },
   {
    "duration": 3968,
    "start_time": "2022-12-14T15:12:21.097Z"
   },
   {
    "duration": 16,
    "start_time": "2022-12-14T15:12:25.067Z"
   },
   {
    "duration": 642,
    "start_time": "2022-12-14T15:12:25.084Z"
   },
   {
    "duration": 26,
    "start_time": "2022-12-14T15:12:25.729Z"
   },
   {
    "duration": 24,
    "start_time": "2022-12-14T15:12:25.759Z"
   },
   {
    "duration": 40,
    "start_time": "2022-12-14T15:12:25.785Z"
   },
   {
    "duration": 72,
    "start_time": "2022-12-14T15:12:25.827Z"
   },
   {
    "duration": 57,
    "start_time": "2022-12-14T15:12:25.902Z"
   },
   {
    "duration": 228,
    "start_time": "2022-12-14T15:12:25.961Z"
   },
   {
    "duration": 20,
    "start_time": "2022-12-14T15:12:26.190Z"
   },
   {
    "duration": 37,
    "start_time": "2022-12-14T15:12:26.211Z"
   },
   {
    "duration": 32,
    "start_time": "2022-12-14T15:12:26.250Z"
   },
   {
    "duration": 393,
    "start_time": "2022-12-14T15:12:26.284Z"
   },
   {
    "duration": 3758,
    "start_time": "2022-12-14T15:12:26.679Z"
   },
   {
    "duration": 2,
    "start_time": "2022-12-14T15:12:30.439Z"
   },
   {
    "duration": 10,
    "start_time": "2022-12-14T15:15:02.052Z"
   },
   {
    "duration": 270,
    "start_time": "2022-12-14T15:15:16.836Z"
   },
   {
    "duration": 1191,
    "start_time": "2022-12-14T15:15:24.468Z"
   },
   {
    "duration": 61,
    "start_time": "2022-12-14T15:15:25.662Z"
   },
   {
    "duration": 23,
    "start_time": "2022-12-14T15:15:25.725Z"
   },
   {
    "duration": 3,
    "start_time": "2022-12-14T15:15:25.750Z"
   },
   {
    "duration": 10,
    "start_time": "2022-12-14T15:15:25.754Z"
   },
   {
    "duration": 12,
    "start_time": "2022-12-14T15:15:25.766Z"
   },
   {
    "duration": 10,
    "start_time": "2022-12-14T15:15:25.780Z"
   },
   {
    "duration": 7,
    "start_time": "2022-12-14T15:15:25.792Z"
   },
   {
    "duration": 35,
    "start_time": "2022-12-14T15:15:25.800Z"
   },
   {
    "duration": 49,
    "start_time": "2022-12-14T15:15:25.839Z"
   },
   {
    "duration": 3671,
    "start_time": "2022-12-14T15:15:25.890Z"
   },
   {
    "duration": 18,
    "start_time": "2022-12-14T15:15:29.563Z"
   },
   {
    "duration": 607,
    "start_time": "2022-12-14T15:15:29.582Z"
   },
   {
    "duration": 16,
    "start_time": "2022-12-14T15:15:30.191Z"
   },
   {
    "duration": 23,
    "start_time": "2022-12-14T15:15:30.209Z"
   },
   {
    "duration": 31,
    "start_time": "2022-12-14T15:15:30.234Z"
   },
   {
    "duration": 32,
    "start_time": "2022-12-14T15:15:30.267Z"
   },
   {
    "duration": 19,
    "start_time": "2022-12-14T15:15:30.301Z"
   },
   {
    "duration": 214,
    "start_time": "2022-12-14T15:15:30.322Z"
   },
   {
    "duration": 19,
    "start_time": "2022-12-14T15:15:30.538Z"
   },
   {
    "duration": 46,
    "start_time": "2022-12-14T15:15:30.559Z"
   },
   {
    "duration": 41,
    "start_time": "2022-12-14T15:15:30.607Z"
   },
   {
    "duration": 321,
    "start_time": "2022-12-14T15:15:30.649Z"
   },
   {
    "duration": 6,
    "start_time": "2022-12-14T15:15:30.971Z"
   },
   {
    "duration": 502,
    "start_time": "2022-12-14T15:15:30.978Z"
   },
   {
    "duration": 19,
    "start_time": "2022-12-14T15:19:04.550Z"
   },
   {
    "duration": 16,
    "start_time": "2022-12-14T15:19:25.134Z"
   },
   {
    "duration": 18,
    "start_time": "2022-12-14T15:20:07.569Z"
   },
   {
    "duration": 20,
    "start_time": "2022-12-14T15:20:37.200Z"
   },
   {
    "duration": 12,
    "start_time": "2022-12-14T15:20:50.920Z"
   },
   {
    "duration": 316,
    "start_time": "2022-12-14T15:21:52.331Z"
   },
   {
    "duration": 8,
    "start_time": "2022-12-14T15:24:44.566Z"
   },
   {
    "duration": 261,
    "start_time": "2022-12-14T15:24:47.799Z"
   },
   {
    "duration": 172,
    "start_time": "2022-12-14T15:26:51.186Z"
   },
   {
    "duration": 7,
    "start_time": "2022-12-14T15:27:39.135Z"
   },
   {
    "duration": 195,
    "start_time": "2022-12-14T15:27:41.068Z"
   },
   {
    "duration": 10,
    "start_time": "2022-12-14T15:27:56.067Z"
   },
   {
    "duration": 204,
    "start_time": "2022-12-14T15:27:58.642Z"
   },
   {
    "duration": 7,
    "start_time": "2022-12-14T15:28:16.771Z"
   },
   {
    "duration": 206,
    "start_time": "2022-12-14T15:28:18.985Z"
   },
   {
    "duration": 8,
    "start_time": "2022-12-14T15:28:53.051Z"
   },
   {
    "duration": 184,
    "start_time": "2022-12-14T15:28:56.651Z"
   },
   {
    "duration": 162,
    "start_time": "2022-12-14T15:29:06.549Z"
   },
   {
    "duration": 291,
    "start_time": "2022-12-14T15:29:39.249Z"
   },
   {
    "duration": 175,
    "start_time": "2022-12-14T15:30:10.201Z"
   },
   {
    "duration": 7,
    "start_time": "2022-12-14T15:30:20.468Z"
   },
   {
    "duration": 176,
    "start_time": "2022-12-14T15:30:30.418Z"
   },
   {
    "duration": 140,
    "start_time": "2022-12-14T15:30:52.517Z"
   },
   {
    "duration": 179,
    "start_time": "2022-12-14T15:31:28.282Z"
   },
   {
    "duration": 174,
    "start_time": "2022-12-14T15:31:48.351Z"
   },
   {
    "duration": 168,
    "start_time": "2022-12-14T15:31:57.534Z"
   },
   {
    "duration": 155,
    "start_time": "2022-12-14T15:32:08.286Z"
   },
   {
    "duration": 6,
    "start_time": "2022-12-14T15:32:30.422Z"
   },
   {
    "duration": 148,
    "start_time": "2022-12-14T15:32:33.003Z"
   },
   {
    "duration": 132,
    "start_time": "2022-12-14T15:33:01.717Z"
   },
   {
    "duration": 144,
    "start_time": "2022-12-14T15:35:47.451Z"
   },
   {
    "duration": 233,
    "start_time": "2022-12-14T15:38:39.133Z"
   },
   {
    "duration": 159,
    "start_time": "2022-12-14T15:39:24.332Z"
   },
   {
    "duration": 171,
    "start_time": "2022-12-14T15:39:49.067Z"
   },
   {
    "duration": 146,
    "start_time": "2022-12-14T15:39:52.584Z"
   },
   {
    "duration": 1252,
    "start_time": "2022-12-14T15:41:17.086Z"
   },
   {
    "duration": 1236,
    "start_time": "2022-12-14T15:41:23.035Z"
   },
   {
    "duration": 144,
    "start_time": "2022-12-14T15:41:37.634Z"
   },
   {
    "duration": 136,
    "start_time": "2022-12-14T15:43:17.588Z"
   },
   {
    "duration": 168,
    "start_time": "2022-12-14T15:43:29.734Z"
   },
   {
    "duration": 163,
    "start_time": "2022-12-14T15:43:51.604Z"
   },
   {
    "duration": 187,
    "start_time": "2022-12-14T15:44:01.764Z"
   },
   {
    "duration": 149,
    "start_time": "2022-12-14T15:44:07.984Z"
   },
   {
    "duration": 245,
    "start_time": "2022-12-14T15:44:12.116Z"
   },
   {
    "duration": 169,
    "start_time": "2022-12-14T15:44:25.151Z"
   },
   {
    "duration": 202,
    "start_time": "2022-12-14T15:44:35.684Z"
   },
   {
    "duration": 157,
    "start_time": "2022-12-14T15:44:54.383Z"
   },
   {
    "duration": 167,
    "start_time": "2022-12-14T15:45:05.278Z"
   },
   {
    "duration": 143,
    "start_time": "2022-12-14T15:45:37.218Z"
   },
   {
    "duration": 16,
    "start_time": "2022-12-14T15:48:09.450Z"
   },
   {
    "duration": 14,
    "start_time": "2022-12-14T15:49:22.600Z"
   },
   {
    "duration": 80,
    "start_time": "2022-12-14T15:49:31.883Z"
   },
   {
    "duration": 157,
    "start_time": "2022-12-14T15:51:09.284Z"
   },
   {
    "duration": 116,
    "start_time": "2022-12-14T15:51:37.067Z"
   },
   {
    "duration": 106,
    "start_time": "2022-12-14T15:52:08.702Z"
   },
   {
    "duration": 143,
    "start_time": "2022-12-14T15:52:20.083Z"
   },
   {
    "duration": 158,
    "start_time": "2022-12-14T15:52:41.235Z"
   },
   {
    "duration": 16,
    "start_time": "2022-12-14T15:54:55.999Z"
   },
   {
    "duration": 13,
    "start_time": "2022-12-14T15:55:25.951Z"
   },
   {
    "duration": 15,
    "start_time": "2022-12-14T15:55:54.961Z"
   },
   {
    "duration": 15,
    "start_time": "2022-12-14T15:56:12.867Z"
   },
   {
    "duration": 14,
    "start_time": "2022-12-14T15:56:24.449Z"
   },
   {
    "duration": 179,
    "start_time": "2022-12-14T15:56:31.742Z"
   },
   {
    "duration": 21,
    "start_time": "2022-12-14T15:57:30.484Z"
   },
   {
    "duration": 53,
    "start_time": "2022-12-15T05:42:51.500Z"
   },
   {
    "duration": 1490,
    "start_time": "2022-12-15T05:42:57.663Z"
   },
   {
    "duration": 231,
    "start_time": "2022-12-15T05:42:59.156Z"
   },
   {
    "duration": 23,
    "start_time": "2022-12-15T05:42:59.389Z"
   },
   {
    "duration": 11,
    "start_time": "2022-12-15T05:42:59.413Z"
   },
   {
    "duration": 16,
    "start_time": "2022-12-15T05:42:59.427Z"
   },
   {
    "duration": 33,
    "start_time": "2022-12-15T05:42:59.445Z"
   },
   {
    "duration": 9,
    "start_time": "2022-12-15T05:42:59.480Z"
   },
   {
    "duration": 13,
    "start_time": "2022-12-15T05:42:59.491Z"
   },
   {
    "duration": 25,
    "start_time": "2022-12-15T05:42:59.505Z"
   },
   {
    "duration": 86,
    "start_time": "2022-12-15T05:42:59.531Z"
   },
   {
    "duration": 4454,
    "start_time": "2022-12-15T05:42:59.619Z"
   },
   {
    "duration": 17,
    "start_time": "2022-12-15T05:43:04.076Z"
   },
   {
    "duration": 735,
    "start_time": "2022-12-15T05:43:04.095Z"
   },
   {
    "duration": 24,
    "start_time": "2022-12-15T05:43:04.833Z"
   },
   {
    "duration": 16,
    "start_time": "2022-12-15T05:43:04.861Z"
   },
   {
    "duration": 10,
    "start_time": "2022-12-15T05:43:04.879Z"
   },
   {
    "duration": 21,
    "start_time": "2022-12-15T05:43:04.891Z"
   },
   {
    "duration": 42,
    "start_time": "2022-12-15T05:43:04.914Z"
   },
   {
    "duration": 211,
    "start_time": "2022-12-15T05:43:04.965Z"
   },
   {
    "duration": 25,
    "start_time": "2022-12-15T05:43:05.178Z"
   },
   {
    "duration": 13,
    "start_time": "2022-12-15T05:43:05.207Z"
   },
   {
    "duration": 14,
    "start_time": "2022-12-15T05:43:05.221Z"
   },
   {
    "duration": 406,
    "start_time": "2022-12-15T05:43:05.252Z"
   },
   {
    "duration": 11,
    "start_time": "2022-12-15T05:43:05.660Z"
   },
   {
    "duration": 386,
    "start_time": "2022-12-15T05:43:05.674Z"
   },
   {
    "duration": 166,
    "start_time": "2022-12-15T05:43:06.063Z"
   },
   {
    "duration": 217,
    "start_time": "2022-12-15T05:43:06.231Z"
   },
   {
    "duration": 198,
    "start_time": "2022-12-15T05:43:06.451Z"
   },
   {
    "duration": 206,
    "start_time": "2022-12-15T05:43:06.653Z"
   },
   {
    "duration": 26,
    "start_time": "2022-12-15T05:43:06.861Z"
   },
   {
    "duration": 216,
    "start_time": "2022-12-15T05:44:39.622Z"
   },
   {
    "duration": 157,
    "start_time": "2022-12-15T05:49:36.874Z"
   },
   {
    "duration": 207,
    "start_time": "2022-12-15T06:15:03.922Z"
   },
   {
    "duration": 8,
    "start_time": "2022-12-15T06:28:41.032Z"
   },
   {
    "duration": 10,
    "start_time": "2022-12-15T06:29:52.867Z"
   },
   {
    "duration": 15,
    "start_time": "2022-12-15T06:30:19.149Z"
   },
   {
    "duration": 122,
    "start_time": "2022-12-15T06:31:32.984Z"
   },
   {
    "duration": 3,
    "start_time": "2022-12-15T06:31:47.450Z"
   },
   {
    "duration": 11,
    "start_time": "2022-12-15T06:37:21.617Z"
   },
   {
    "duration": 6,
    "start_time": "2022-12-15T06:37:26.341Z"
   },
   {
    "duration": 172,
    "start_time": "2022-12-15T06:39:03.582Z"
   },
   {
    "duration": 8,
    "start_time": "2022-12-15T06:39:09.037Z"
   },
   {
    "duration": 196,
    "start_time": "2022-12-15T06:39:11.765Z"
   },
   {
    "duration": 134,
    "start_time": "2022-12-15T06:39:30.900Z"
   },
   {
    "duration": 1248,
    "start_time": "2022-12-15T06:39:41.192Z"
   },
   {
    "duration": 148,
    "start_time": "2022-12-15T06:39:42.442Z"
   },
   {
    "duration": 26,
    "start_time": "2022-12-15T06:39:42.592Z"
   },
   {
    "duration": 3,
    "start_time": "2022-12-15T06:39:42.620Z"
   },
   {
    "duration": 12,
    "start_time": "2022-12-15T06:39:42.625Z"
   },
   {
    "duration": 18,
    "start_time": "2022-12-15T06:39:42.639Z"
   },
   {
    "duration": 10,
    "start_time": "2022-12-15T06:39:42.659Z"
   },
   {
    "duration": 9,
    "start_time": "2022-12-15T06:39:42.671Z"
   },
   {
    "duration": 15,
    "start_time": "2022-12-15T06:39:42.682Z"
   },
   {
    "duration": 66,
    "start_time": "2022-12-15T06:39:42.698Z"
   },
   {
    "duration": 4134,
    "start_time": "2022-12-15T06:39:42.766Z"
   },
   {
    "duration": 20,
    "start_time": "2022-12-15T06:39:46.903Z"
   },
   {
    "duration": 644,
    "start_time": "2022-12-15T06:39:46.925Z"
   },
   {
    "duration": 19,
    "start_time": "2022-12-15T06:39:47.574Z"
   },
   {
    "duration": 11,
    "start_time": "2022-12-15T06:39:47.595Z"
   },
   {
    "duration": 12,
    "start_time": "2022-12-15T06:39:47.608Z"
   },
   {
    "duration": 49,
    "start_time": "2022-12-15T06:39:47.622Z"
   },
   {
    "duration": 13,
    "start_time": "2022-12-15T06:39:47.673Z"
   },
   {
    "duration": 203,
    "start_time": "2022-12-15T06:39:47.688Z"
   },
   {
    "duration": 22,
    "start_time": "2022-12-15T06:39:47.893Z"
   },
   {
    "duration": 12,
    "start_time": "2022-12-15T06:39:47.917Z"
   },
   {
    "duration": 8,
    "start_time": "2022-12-15T06:39:47.950Z"
   },
   {
    "duration": 383,
    "start_time": "2022-12-15T06:39:47.960Z"
   },
   {
    "duration": 8,
    "start_time": "2022-12-15T06:39:48.345Z"
   },
   {
    "duration": 376,
    "start_time": "2022-12-15T06:39:48.355Z"
   },
   {
    "duration": 164,
    "start_time": "2022-12-15T06:39:48.733Z"
   },
   {
    "duration": 189,
    "start_time": "2022-12-15T06:39:48.899Z"
   },
   {
    "duration": 223,
    "start_time": "2022-12-15T06:39:49.090Z"
   },
   {
    "duration": 207,
    "start_time": "2022-12-15T06:39:49.315Z"
   },
   {
    "duration": 7,
    "start_time": "2022-12-15T06:39:49.524Z"
   },
   {
    "duration": 19,
    "start_time": "2022-12-15T06:39:49.533Z"
   },
   {
    "duration": 13,
    "start_time": "2022-12-15T06:39:49.554Z"
   },
   {
    "duration": 7,
    "start_time": "2022-12-15T06:40:24.216Z"
   },
   {
    "duration": 199,
    "start_time": "2022-12-15T06:40:26.513Z"
   },
   {
    "duration": 8,
    "start_time": "2022-12-15T06:41:21.150Z"
   },
   {
    "duration": 194,
    "start_time": "2022-12-15T06:41:23.884Z"
   },
   {
    "duration": 1285,
    "start_time": "2022-12-15T06:41:35.644Z"
   },
   {
    "duration": 70,
    "start_time": "2022-12-15T06:41:36.931Z"
   },
   {
    "duration": 25,
    "start_time": "2022-12-15T06:41:37.003Z"
   },
   {
    "duration": 4,
    "start_time": "2022-12-15T06:41:37.030Z"
   },
   {
    "duration": 17,
    "start_time": "2022-12-15T06:41:37.035Z"
   },
   {
    "duration": 12,
    "start_time": "2022-12-15T06:41:37.054Z"
   },
   {
    "duration": 13,
    "start_time": "2022-12-15T06:41:37.068Z"
   },
   {
    "duration": 12,
    "start_time": "2022-12-15T06:41:37.083Z"
   },
   {
    "duration": 16,
    "start_time": "2022-12-15T06:41:37.097Z"
   },
   {
    "duration": 43,
    "start_time": "2022-12-15T06:41:37.150Z"
   },
   {
    "duration": 4202,
    "start_time": "2022-12-15T06:41:37.195Z"
   },
   {
    "duration": 20,
    "start_time": "2022-12-15T06:41:41.399Z"
   },
   {
    "duration": 637,
    "start_time": "2022-12-15T06:41:41.421Z"
   },
   {
    "duration": 20,
    "start_time": "2022-12-15T06:41:42.059Z"
   },
   {
    "duration": 11,
    "start_time": "2022-12-15T06:41:42.081Z"
   },
   {
    "duration": 23,
    "start_time": "2022-12-15T06:41:42.094Z"
   },
   {
    "duration": 35,
    "start_time": "2022-12-15T06:41:42.118Z"
   },
   {
    "duration": 27,
    "start_time": "2022-12-15T06:41:42.155Z"
   },
   {
    "duration": 191,
    "start_time": "2022-12-15T06:41:42.185Z"
   },
   {
    "duration": 21,
    "start_time": "2022-12-15T06:41:42.378Z"
   },
   {
    "duration": 12,
    "start_time": "2022-12-15T06:41:42.401Z"
   },
   {
    "duration": 13,
    "start_time": "2022-12-15T06:41:42.415Z"
   },
   {
    "duration": 369,
    "start_time": "2022-12-15T06:41:42.430Z"
   },
   {
    "duration": 7,
    "start_time": "2022-12-15T06:41:42.802Z"
   },
   {
    "duration": 381,
    "start_time": "2022-12-15T06:41:42.811Z"
   },
   {
    "duration": 190,
    "start_time": "2022-12-15T06:41:43.194Z"
   },
   {
    "duration": 184,
    "start_time": "2022-12-15T06:41:43.386Z"
   },
   {
    "duration": 181,
    "start_time": "2022-12-15T06:41:43.573Z"
   },
   {
    "duration": 182,
    "start_time": "2022-12-15T06:41:43.756Z"
   },
   {
    "duration": 14,
    "start_time": "2022-12-15T06:41:43.940Z"
   },
   {
    "duration": 5,
    "start_time": "2022-12-15T06:41:43.956Z"
   },
   {
    "duration": 13,
    "start_time": "2022-12-15T06:41:43.963Z"
   },
   {
    "duration": 173,
    "start_time": "2022-12-15T06:43:13.782Z"
   },
   {
    "duration": 213,
    "start_time": "2022-12-15T06:43:50.240Z"
   },
   {
    "duration": 206,
    "start_time": "2022-12-15T06:44:07.216Z"
   },
   {
    "duration": 199,
    "start_time": "2022-12-15T06:44:20.915Z"
   },
   {
    "duration": 123,
    "start_time": "2022-12-15T06:46:47.649Z"
   },
   {
    "duration": 13,
    "start_time": "2022-12-15T06:55:36.382Z"
   },
   {
    "duration": 270,
    "start_time": "2022-12-15T06:55:55.373Z"
   },
   {
    "duration": 231,
    "start_time": "2022-12-15T06:56:30.182Z"
   },
   {
    "duration": 328,
    "start_time": "2022-12-15T06:56:38.797Z"
   },
   {
    "duration": 227,
    "start_time": "2022-12-15T06:58:12.632Z"
   },
   {
    "duration": 277,
    "start_time": "2022-12-15T06:59:09.920Z"
   },
   {
    "duration": 261,
    "start_time": "2022-12-15T06:59:21.383Z"
   },
   {
    "duration": 243,
    "start_time": "2022-12-15T06:59:37.631Z"
   },
   {
    "duration": 239,
    "start_time": "2022-12-15T06:59:46.801Z"
   },
   {
    "duration": 48,
    "start_time": "2022-12-15T13:07:24.577Z"
   },
   {
    "duration": 1249,
    "start_time": "2022-12-15T13:07:32.379Z"
   },
   {
    "duration": 115,
    "start_time": "2022-12-15T13:07:33.629Z"
   },
   {
    "duration": 23,
    "start_time": "2022-12-15T13:07:33.746Z"
   },
   {
    "duration": 3,
    "start_time": "2022-12-15T13:07:33.771Z"
   },
   {
    "duration": 14,
    "start_time": "2022-12-15T13:07:33.775Z"
   },
   {
    "duration": 14,
    "start_time": "2022-12-15T13:07:33.791Z"
   },
   {
    "duration": 16,
    "start_time": "2022-12-15T13:07:33.806Z"
   },
   {
    "duration": 16,
    "start_time": "2022-12-15T13:07:33.824Z"
   },
   {
    "duration": 20,
    "start_time": "2022-12-15T13:07:33.842Z"
   },
   {
    "duration": 51,
    "start_time": "2022-12-15T13:07:33.865Z"
   },
   {
    "duration": 3784,
    "start_time": "2022-12-15T13:07:33.917Z"
   },
   {
    "duration": 16,
    "start_time": "2022-12-15T13:07:37.703Z"
   },
   {
    "duration": 680,
    "start_time": "2022-12-15T13:07:37.720Z"
   },
   {
    "duration": 18,
    "start_time": "2022-12-15T13:07:38.401Z"
   },
   {
    "duration": 12,
    "start_time": "2022-12-15T13:07:38.421Z"
   },
   {
    "duration": 9,
    "start_time": "2022-12-15T13:07:38.435Z"
   },
   {
    "duration": 21,
    "start_time": "2022-12-15T13:07:38.446Z"
   },
   {
    "duration": 31,
    "start_time": "2022-12-15T13:07:38.469Z"
   },
   {
    "duration": 236,
    "start_time": "2022-12-15T13:07:38.502Z"
   },
   {
    "duration": 18,
    "start_time": "2022-12-15T13:07:38.740Z"
   },
   {
    "duration": 13,
    "start_time": "2022-12-15T13:07:38.760Z"
   },
   {
    "duration": 12,
    "start_time": "2022-12-15T13:07:38.774Z"
   },
   {
    "duration": 356,
    "start_time": "2022-12-15T13:07:38.788Z"
   },
   {
    "duration": 7,
    "start_time": "2022-12-15T13:07:39.146Z"
   },
   {
    "duration": 330,
    "start_time": "2022-12-15T13:07:39.154Z"
   },
   {
    "duration": 199,
    "start_time": "2022-12-15T13:07:39.485Z"
   },
   {
    "duration": 178,
    "start_time": "2022-12-15T13:07:39.686Z"
   },
   {
    "duration": 178,
    "start_time": "2022-12-15T13:07:39.868Z"
   },
   {
    "duration": 190,
    "start_time": "2022-12-15T13:07:40.048Z"
   },
   {
    "duration": 167,
    "start_time": "2022-12-15T13:07:40.240Z"
   },
   {
    "duration": 11,
    "start_time": "2022-12-15T13:07:40.410Z"
   },
   {
    "duration": 163,
    "start_time": "2022-12-15T13:07:58.985Z"
   },
   {
    "duration": 170,
    "start_time": "2022-12-15T13:08:09.252Z"
   },
   {
    "duration": 595,
    "start_time": "2022-12-15T13:08:56.916Z"
   },
   {
    "duration": 4,
    "start_time": "2022-12-15T13:09:11.341Z"
   },
   {
    "duration": 146,
    "start_time": "2022-12-15T13:09:31.885Z"
   },
   {
    "duration": 47,
    "start_time": "2022-12-15T13:10:21.104Z"
   },
   {
    "duration": 52,
    "start_time": "2022-12-15T13:10:43.073Z"
   },
   {
    "duration": 143,
    "start_time": "2022-12-15T13:10:51.144Z"
   },
   {
    "duration": 567,
    "start_time": "2022-12-15T13:11:04.086Z"
   },
   {
    "duration": 147,
    "start_time": "2022-12-15T13:11:17.019Z"
   },
   {
    "duration": 186,
    "start_time": "2022-12-15T13:14:46.353Z"
   },
   {
    "duration": 14,
    "start_time": "2022-12-15T13:16:43.068Z"
   },
   {
    "duration": 99,
    "start_time": "2022-12-15T13:16:59.138Z"
   },
   {
    "duration": 549,
    "start_time": "2022-12-15T13:17:10.086Z"
   },
   {
    "duration": 15,
    "start_time": "2022-12-15T13:17:21.084Z"
   },
   {
    "duration": 2,
    "start_time": "2022-12-15T13:17:53.436Z"
   },
   {
    "duration": 58,
    "start_time": "2022-12-15T13:19:31.536Z"
   },
   {
    "duration": 8,
    "start_time": "2022-12-15T13:19:50.002Z"
   },
   {
    "duration": 12,
    "start_time": "2022-12-15T13:21:44.069Z"
   },
   {
    "duration": 10,
    "start_time": "2022-12-15T13:22:55.619Z"
   },
   {
    "duration": 12,
    "start_time": "2022-12-15T13:23:08.503Z"
   },
   {
    "duration": 10,
    "start_time": "2022-12-15T13:23:24.567Z"
   },
   {
    "duration": 190,
    "start_time": "2022-12-15T13:23:40.453Z"
   },
   {
    "duration": 196,
    "start_time": "2022-12-15T13:24:08.754Z"
   },
   {
    "duration": 22,
    "start_time": "2022-12-15T13:25:45.718Z"
   },
   {
    "duration": 8,
    "start_time": "2022-12-15T13:26:00.604Z"
   },
   {
    "duration": 178,
    "start_time": "2022-12-15T13:26:38.161Z"
   },
   {
    "duration": 148,
    "start_time": "2022-12-15T13:28:50.719Z"
   },
   {
    "duration": 210,
    "start_time": "2022-12-15T13:29:04.287Z"
   },
   {
    "duration": 216,
    "start_time": "2022-12-15T13:29:14.484Z"
   },
   {
    "duration": 209,
    "start_time": "2022-12-15T13:29:25.500Z"
   },
   {
    "duration": 160,
    "start_time": "2022-12-15T13:30:02.148Z"
   },
   {
    "duration": 173,
    "start_time": "2022-12-15T13:30:14.777Z"
   },
   {
    "duration": 176,
    "start_time": "2022-12-15T13:30:23.540Z"
   },
   {
    "duration": 166,
    "start_time": "2022-12-15T13:30:38.169Z"
   },
   {
    "duration": 3,
    "start_time": "2022-12-15T13:32:02.578Z"
   },
   {
    "duration": 248,
    "start_time": "2022-12-15T13:32:29.652Z"
   },
   {
    "duration": 157,
    "start_time": "2022-12-15T13:32:51.254Z"
   },
   {
    "duration": 111,
    "start_time": "2022-12-15T13:33:05.770Z"
   },
   {
    "duration": 195,
    "start_time": "2022-12-15T13:33:12.561Z"
   },
   {
    "duration": 210,
    "start_time": "2022-12-15T13:33:42.387Z"
   },
   {
    "duration": 172,
    "start_time": "2022-12-15T13:33:49.852Z"
   },
   {
    "duration": 151,
    "start_time": "2022-12-15T13:34:31.440Z"
   },
   {
    "duration": 32,
    "start_time": "2022-12-15T13:38:23.887Z"
   },
   {
    "duration": 159,
    "start_time": "2022-12-15T13:40:50.951Z"
   },
   {
    "duration": 173,
    "start_time": "2022-12-15T13:41:05.786Z"
   },
   {
    "duration": 156,
    "start_time": "2022-12-15T13:50:46.454Z"
   },
   {
    "duration": 166,
    "start_time": "2022-12-15T13:51:20.935Z"
   },
   {
    "duration": 301,
    "start_time": "2022-12-15T13:52:16.637Z"
   },
   {
    "duration": 186,
    "start_time": "2022-12-15T14:05:45.521Z"
   },
   {
    "duration": 167,
    "start_time": "2022-12-15T14:07:37.244Z"
   },
   {
    "duration": 187,
    "start_time": "2022-12-15T14:08:17.422Z"
   },
   {
    "duration": 175,
    "start_time": "2022-12-15T14:08:39.132Z"
   },
   {
    "duration": 194,
    "start_time": "2022-12-15T14:08:49.286Z"
   },
   {
    "duration": 164,
    "start_time": "2022-12-15T14:08:59.455Z"
   },
   {
    "duration": 11,
    "start_time": "2022-12-15T14:10:24.268Z"
   },
   {
    "duration": 16,
    "start_time": "2022-12-15T14:13:39.673Z"
   },
   {
    "duration": 814,
    "start_time": "2022-12-15T14:14:18.490Z"
   },
   {
    "duration": 10,
    "start_time": "2022-12-15T14:14:37.088Z"
   },
   {
    "duration": 160,
    "start_time": "2022-12-15T14:15:51.991Z"
   },
   {
    "duration": 191,
    "start_time": "2022-12-15T14:16:25.838Z"
   },
   {
    "duration": 17,
    "start_time": "2022-12-15T14:17:16.722Z"
   },
   {
    "duration": 200,
    "start_time": "2022-12-15T14:19:06.090Z"
   },
   {
    "duration": 174,
    "start_time": "2022-12-15T14:20:47.106Z"
   },
   {
    "duration": 201,
    "start_time": "2022-12-15T14:21:00.755Z"
   },
   {
    "duration": 165,
    "start_time": "2022-12-15T14:22:37.589Z"
   },
   {
    "duration": 10515,
    "start_time": "2022-12-15T14:24:00.976Z"
   },
   {
    "duration": 10435,
    "start_time": "2022-12-15T14:24:25.824Z"
   },
   {
    "duration": 15,
    "start_time": "2022-12-15T14:26:29.234Z"
   },
   {
    "duration": 14,
    "start_time": "2022-12-15T14:26:58.119Z"
   },
   {
    "duration": 128,
    "start_time": "2022-12-15T14:27:41.614Z"
   },
   {
    "duration": 993,
    "start_time": "2022-12-15T14:28:48.256Z"
   },
   {
    "duration": 800,
    "start_time": "2022-12-15T14:29:22.025Z"
   },
   {
    "duration": 218,
    "start_time": "2022-12-15T14:29:31.922Z"
   },
   {
    "duration": 215,
    "start_time": "2022-12-15T14:31:11.971Z"
   },
   {
    "duration": 221,
    "start_time": "2022-12-15T14:31:29.622Z"
   },
   {
    "duration": 14,
    "start_time": "2022-12-15T14:31:47.784Z"
   },
   {
    "duration": 13,
    "start_time": "2022-12-15T14:35:37.459Z"
   },
   {
    "duration": 8,
    "start_time": "2022-12-15T14:41:38.755Z"
   },
   {
    "duration": 6,
    "start_time": "2022-12-15T14:42:04.157Z"
   },
   {
    "duration": 207,
    "start_time": "2022-12-15T14:43:21.507Z"
   },
   {
    "duration": 229,
    "start_time": "2022-12-15T14:45:02.506Z"
   },
   {
    "duration": 16,
    "start_time": "2022-12-15T14:50:41.742Z"
   },
   {
    "duration": 14,
    "start_time": "2022-12-15T14:51:03.809Z"
   },
   {
    "duration": 7,
    "start_time": "2022-12-15T14:51:10.373Z"
   },
   {
    "duration": 190,
    "start_time": "2022-12-15T14:51:13.242Z"
   },
   {
    "duration": 7,
    "start_time": "2022-12-15T14:52:41.791Z"
   },
   {
    "duration": 14,
    "start_time": "2022-12-15T14:56:18.941Z"
   },
   {
    "duration": 8,
    "start_time": "2022-12-15T14:58:44.725Z"
   },
   {
    "duration": 15,
    "start_time": "2022-12-15T15:10:18.819Z"
   },
   {
    "duration": 235,
    "start_time": "2022-12-15T15:10:46.737Z"
   },
   {
    "duration": 15,
    "start_time": "2022-12-15T15:11:13.324Z"
   },
   {
    "duration": 242,
    "start_time": "2022-12-15T15:11:19.724Z"
   },
   {
    "duration": 19,
    "start_time": "2022-12-15T15:20:58.673Z"
   },
   {
    "duration": 26,
    "start_time": "2022-12-15T15:23:37.391Z"
   },
   {
    "duration": 13,
    "start_time": "2022-12-15T15:25:40.089Z"
   },
   {
    "duration": 15,
    "start_time": "2022-12-15T15:26:05.387Z"
   },
   {
    "duration": 18,
    "start_time": "2022-12-15T15:26:19.190Z"
   },
   {
    "duration": 7,
    "start_time": "2022-12-15T15:28:15.092Z"
   },
   {
    "duration": 16,
    "start_time": "2022-12-15T15:28:17.591Z"
   },
   {
    "duration": 25,
    "start_time": "2022-12-15T15:28:40.958Z"
   },
   {
    "duration": 182,
    "start_time": "2022-12-15T15:28:47.466Z"
   },
   {
    "duration": 16324,
    "start_time": "2022-12-15T15:29:34.596Z"
   },
   {
    "duration": 16,
    "start_time": "2022-12-15T15:30:23.557Z"
   },
   {
    "duration": 231,
    "start_time": "2022-12-15T15:30:26.858Z"
   },
   {
    "duration": 468,
    "start_time": "2022-12-15T15:30:46.006Z"
   },
   {
    "duration": 223,
    "start_time": "2022-12-15T15:30:56.507Z"
   },
   {
    "duration": 27,
    "start_time": "2022-12-15T15:31:24.875Z"
   },
   {
    "duration": 1232,
    "start_time": "2022-12-15T15:31:32.473Z"
   },
   {
    "duration": 67,
    "start_time": "2022-12-15T15:31:33.708Z"
   },
   {
    "duration": 28,
    "start_time": "2022-12-15T15:31:33.777Z"
   },
   {
    "duration": 5,
    "start_time": "2022-12-15T15:31:33.808Z"
   },
   {
    "duration": 22,
    "start_time": "2022-12-15T15:31:33.815Z"
   },
   {
    "duration": 14,
    "start_time": "2022-12-15T15:31:33.840Z"
   },
   {
    "duration": 9,
    "start_time": "2022-12-15T15:31:33.855Z"
   },
   {
    "duration": 18,
    "start_time": "2022-12-15T15:31:33.866Z"
   },
   {
    "duration": 17,
    "start_time": "2022-12-15T15:31:33.885Z"
   },
   {
    "duration": 51,
    "start_time": "2022-12-15T15:31:33.905Z"
   },
   {
    "duration": 3871,
    "start_time": "2022-12-15T15:31:33.958Z"
   },
   {
    "duration": 17,
    "start_time": "2022-12-15T15:31:37.831Z"
   },
   {
    "duration": 695,
    "start_time": "2022-12-15T15:31:37.849Z"
   },
   {
    "duration": 17,
    "start_time": "2022-12-15T15:31:38.546Z"
   },
   {
    "duration": 8,
    "start_time": "2022-12-15T15:31:38.565Z"
   },
   {
    "duration": 18,
    "start_time": "2022-12-15T15:31:38.575Z"
   },
   {
    "duration": 34,
    "start_time": "2022-12-15T15:31:38.595Z"
   },
   {
    "duration": 9,
    "start_time": "2022-12-15T15:31:38.631Z"
   },
   {
    "duration": 170,
    "start_time": "2022-12-15T15:31:38.641Z"
   },
   {
    "duration": 26,
    "start_time": "2022-12-15T15:31:38.813Z"
   },
   {
    "duration": 7,
    "start_time": "2022-12-15T15:31:38.841Z"
   },
   {
    "duration": 346,
    "start_time": "2022-12-15T15:31:38.850Z"
   },
   {
    "duration": 7,
    "start_time": "2022-12-15T15:31:39.198Z"
   },
   {
    "duration": 343,
    "start_time": "2022-12-15T15:31:39.206Z"
   },
   {
    "duration": 26,
    "start_time": "2022-12-15T15:31:39.550Z"
   },
   {
    "duration": 205,
    "start_time": "2022-12-15T15:31:39.578Z"
   },
   {
    "duration": 186,
    "start_time": "2022-12-15T15:31:39.785Z"
   },
   {
    "duration": 177,
    "start_time": "2022-12-15T15:31:39.974Z"
   },
   {
    "duration": 185,
    "start_time": "2022-12-15T15:31:40.153Z"
   },
   {
    "duration": 11,
    "start_time": "2022-12-15T15:31:40.340Z"
   },
   {
    "duration": 215,
    "start_time": "2022-12-15T15:31:40.353Z"
   },
   {
    "duration": 201,
    "start_time": "2022-12-15T15:31:40.569Z"
   },
   {
    "duration": 14,
    "start_time": "2022-12-15T15:31:40.771Z"
   },
   {
    "duration": 16,
    "start_time": "2022-12-15T15:31:40.786Z"
   },
   {
    "duration": 235,
    "start_time": "2022-12-15T15:31:40.803Z"
   },
   {
    "duration": 15,
    "start_time": "2022-12-15T15:31:41.040Z"
   },
   {
    "duration": 14,
    "start_time": "2022-12-15T15:33:43.858Z"
   },
   {
    "duration": 21,
    "start_time": "2022-12-15T15:33:51.558Z"
   },
   {
    "duration": 107,
    "start_time": "2022-12-15T15:34:41.508Z"
   },
   {
    "duration": 17,
    "start_time": "2022-12-15T15:35:01.256Z"
   },
   {
    "duration": 15,
    "start_time": "2022-12-15T15:35:21.191Z"
   },
   {
    "duration": 6,
    "start_time": "2022-12-15T15:36:08.791Z"
   },
   {
    "duration": 14,
    "start_time": "2022-12-15T15:36:12.892Z"
   },
   {
    "duration": 15,
    "start_time": "2022-12-15T15:36:20.791Z"
   },
   {
    "duration": 15,
    "start_time": "2022-12-15T15:36:27.623Z"
   },
   {
    "duration": 19,
    "start_time": "2022-12-15T15:39:21.807Z"
   },
   {
    "duration": 10,
    "start_time": "2022-12-15T15:39:40.197Z"
   },
   {
    "duration": 15,
    "start_time": "2022-12-15T15:39:51.074Z"
   },
   {
    "duration": 13,
    "start_time": "2022-12-15T15:40:17.025Z"
   },
   {
    "duration": 18,
    "start_time": "2022-12-15T15:41:43.266Z"
   },
   {
    "duration": 14,
    "start_time": "2022-12-15T15:41:53.607Z"
   },
   {
    "duration": 16,
    "start_time": "2022-12-15T15:43:00.024Z"
   },
   {
    "duration": 15,
    "start_time": "2022-12-15T15:43:03.774Z"
   },
   {
    "duration": 16,
    "start_time": "2022-12-15T15:43:37.574Z"
   },
   {
    "duration": 18,
    "start_time": "2022-12-15T15:44:07.309Z"
   },
   {
    "duration": 14,
    "start_time": "2022-12-15T15:45:30.074Z"
   },
   {
    "duration": 17,
    "start_time": "2022-12-15T15:48:54.528Z"
   },
   {
    "duration": 17,
    "start_time": "2022-12-15T15:49:05.515Z"
   },
   {
    "duration": 7,
    "start_time": "2022-12-15T15:54:26.874Z"
   },
   {
    "duration": 7,
    "start_time": "2022-12-15T15:54:45.655Z"
   },
   {
    "duration": 17,
    "start_time": "2022-12-15T15:57:19.929Z"
   },
   {
    "duration": 18,
    "start_time": "2022-12-15T15:57:40.404Z"
   },
   {
    "duration": 19,
    "start_time": "2022-12-15T15:58:35.706Z"
   },
   {
    "duration": 19,
    "start_time": "2022-12-15T16:01:52.093Z"
   },
   {
    "duration": 749,
    "start_time": "2022-12-15T16:03:31.127Z"
   },
   {
    "duration": 383,
    "start_time": "2022-12-15T16:04:05.160Z"
   },
   {
    "duration": 142,
    "start_time": "2022-12-15T16:04:44.661Z"
   },
   {
    "duration": 233,
    "start_time": "2022-12-15T16:05:56.526Z"
   },
   {
    "duration": 150,
    "start_time": "2022-12-15T16:06:51.623Z"
   },
   {
    "duration": 145,
    "start_time": "2022-12-15T16:07:02.076Z"
   },
   {
    "duration": 206,
    "start_time": "2022-12-15T16:07:38.377Z"
   },
   {
    "duration": 172,
    "start_time": "2022-12-15T16:07:45.241Z"
   },
   {
    "duration": 166,
    "start_time": "2022-12-15T16:07:54.095Z"
   },
   {
    "duration": 204,
    "start_time": "2022-12-15T16:10:09.009Z"
   },
   {
    "duration": 199,
    "start_time": "2022-12-15T16:12:09.667Z"
   },
   {
    "duration": 54,
    "start_time": "2022-12-15T16:13:33.302Z"
   },
   {
    "duration": 58,
    "start_time": "2022-12-15T16:14:02.724Z"
   },
   {
    "duration": 59,
    "start_time": "2022-12-15T16:14:41.176Z"
   },
   {
    "duration": 877,
    "start_time": "2022-12-15T16:14:55.292Z"
   },
   {
    "duration": 221,
    "start_time": "2022-12-15T16:15:06.460Z"
   },
   {
    "duration": 9,
    "start_time": "2022-12-15T16:16:14.592Z"
   },
   {
    "duration": 204,
    "start_time": "2022-12-15T16:16:23.810Z"
   },
   {
    "duration": 49,
    "start_time": "2022-12-15T16:17:18.266Z"
   },
   {
    "duration": 232,
    "start_time": "2022-12-15T16:18:25.033Z"
   },
   {
    "duration": 370,
    "start_time": "2022-12-15T16:18:41.843Z"
   },
   {
    "duration": 274,
    "start_time": "2022-12-15T16:18:56.139Z"
   },
   {
    "duration": 246,
    "start_time": "2022-12-15T16:19:07.158Z"
   },
   {
    "duration": 18,
    "start_time": "2022-12-15T16:22:48.956Z"
   },
   {
    "duration": 257,
    "start_time": "2022-12-15T16:22:55.661Z"
   },
   {
    "duration": 3,
    "start_time": "2022-12-15T16:23:49.973Z"
   },
   {
    "duration": 2,
    "start_time": "2022-12-15T16:23:59.882Z"
   },
   {
    "duration": 3,
    "start_time": "2022-12-15T16:24:06.067Z"
   },
   {
    "duration": 17,
    "start_time": "2022-12-15T16:24:08.858Z"
   },
   {
    "duration": 232,
    "start_time": "2022-12-15T16:24:11.723Z"
   },
   {
    "duration": 17,
    "start_time": "2022-12-15T16:25:14.134Z"
   },
   {
    "duration": 18,
    "start_time": "2022-12-15T16:27:06.491Z"
   },
   {
    "duration": 266,
    "start_time": "2022-12-15T16:27:23.211Z"
   },
   {
    "duration": 45,
    "start_time": "2022-12-16T07:02:13.837Z"
   },
   {
    "duration": 1224,
    "start_time": "2022-12-16T07:02:19.074Z"
   },
   {
    "duration": 112,
    "start_time": "2022-12-16T07:02:20.300Z"
   },
   {
    "duration": 21,
    "start_time": "2022-12-16T07:02:20.414Z"
   },
   {
    "duration": 2,
    "start_time": "2022-12-16T07:02:20.437Z"
   },
   {
    "duration": 15,
    "start_time": "2022-12-16T07:02:20.441Z"
   },
   {
    "duration": 9,
    "start_time": "2022-12-16T07:02:20.458Z"
   },
   {
    "duration": 10,
    "start_time": "2022-12-16T07:02:20.468Z"
   },
   {
    "duration": 8,
    "start_time": "2022-12-16T07:02:20.479Z"
   },
   {
    "duration": 12,
    "start_time": "2022-12-16T07:02:20.488Z"
   },
   {
    "duration": 51,
    "start_time": "2022-12-16T07:02:20.502Z"
   },
   {
    "duration": 3405,
    "start_time": "2022-12-16T07:02:20.555Z"
   },
   {
    "duration": 14,
    "start_time": "2022-12-16T07:02:23.962Z"
   },
   {
    "duration": 627,
    "start_time": "2022-12-16T07:02:23.977Z"
   },
   {
    "duration": 23,
    "start_time": "2022-12-16T07:02:24.605Z"
   },
   {
    "duration": 8,
    "start_time": "2022-12-16T07:02:24.629Z"
   },
   {
    "duration": 6,
    "start_time": "2022-12-16T07:02:24.639Z"
   },
   {
    "duration": 16,
    "start_time": "2022-12-16T07:02:24.646Z"
   },
   {
    "duration": 7,
    "start_time": "2022-12-16T07:02:24.663Z"
   },
   {
    "duration": 170,
    "start_time": "2022-12-16T07:02:24.672Z"
   },
   {
    "duration": 17,
    "start_time": "2022-12-16T07:02:24.844Z"
   },
   {
    "duration": 6,
    "start_time": "2022-12-16T07:02:24.863Z"
   },
   {
    "duration": 303,
    "start_time": "2022-12-16T07:02:24.870Z"
   },
   {
    "duration": 7,
    "start_time": "2022-12-16T07:02:25.175Z"
   },
   {
    "duration": 342,
    "start_time": "2022-12-16T07:02:25.183Z"
   },
   {
    "duration": 24,
    "start_time": "2022-12-16T07:02:25.527Z"
   },
   {
    "duration": 180,
    "start_time": "2022-12-16T07:02:25.552Z"
   },
   {
    "duration": 29,
    "start_time": "2022-12-16T07:02:25.733Z"
   },
   {
    "duration": 169,
    "start_time": "2022-12-16T07:02:25.765Z"
   },
   {
    "duration": 146,
    "start_time": "2022-12-16T07:02:25.935Z"
   },
   {
    "duration": 172,
    "start_time": "2022-12-16T07:02:26.083Z"
   },
   {
    "duration": 9,
    "start_time": "2022-12-16T07:02:26.258Z"
   },
   {
    "duration": 179,
    "start_time": "2022-12-16T07:02:26.269Z"
   },
   {
    "duration": 171,
    "start_time": "2022-12-16T07:02:26.450Z"
   },
   {
    "duration": 11,
    "start_time": "2022-12-16T07:02:26.622Z"
   },
   {
    "duration": 12,
    "start_time": "2022-12-16T07:02:26.634Z"
   },
   {
    "duration": 198,
    "start_time": "2022-12-16T07:02:26.648Z"
   },
   {
    "duration": 5,
    "start_time": "2022-12-16T07:02:26.848Z"
   },
   {
    "duration": 6,
    "start_time": "2022-12-16T07:02:26.854Z"
   },
   {
    "duration": 13,
    "start_time": "2022-12-16T07:02:26.862Z"
   },
   {
    "duration": 11,
    "start_time": "2022-12-16T07:02:26.877Z"
   },
   {
    "duration": 17,
    "start_time": "2022-12-16T07:02:26.890Z"
   },
   {
    "duration": 201,
    "start_time": "2022-12-16T07:02:26.909Z"
   },
   {
    "duration": 22,
    "start_time": "2022-12-16T07:02:27.112Z"
   },
   {
    "duration": 249,
    "start_time": "2022-12-16T07:02:27.136Z"
   },
   {
    "duration": 776,
    "start_time": "2022-12-16T07:03:20.192Z"
   },
   {
    "duration": 1338,
    "start_time": "2022-12-16T09:58:09.834Z"
   },
   {
    "duration": 206,
    "start_time": "2022-12-16T09:58:11.174Z"
   },
   {
    "duration": 23,
    "start_time": "2022-12-16T09:58:11.381Z"
   },
   {
    "duration": 4,
    "start_time": "2022-12-16T09:58:11.406Z"
   },
   {
    "duration": 9,
    "start_time": "2022-12-16T09:58:11.411Z"
   },
   {
    "duration": 9,
    "start_time": "2022-12-16T09:58:11.422Z"
   },
   {
    "duration": 10,
    "start_time": "2022-12-16T09:58:11.433Z"
   },
   {
    "duration": 9,
    "start_time": "2022-12-16T09:58:11.445Z"
   },
   {
    "duration": 12,
    "start_time": "2022-12-16T09:58:11.456Z"
   },
   {
    "duration": 40,
    "start_time": "2022-12-16T09:58:11.507Z"
   },
   {
    "duration": 3720,
    "start_time": "2022-12-16T09:58:11.549Z"
   },
   {
    "duration": 15,
    "start_time": "2022-12-16T09:58:15.271Z"
   },
   {
    "duration": 657,
    "start_time": "2022-12-16T09:58:15.288Z"
   },
   {
    "duration": 19,
    "start_time": "2022-12-16T09:58:15.947Z"
   },
   {
    "duration": 10,
    "start_time": "2022-12-16T09:58:15.968Z"
   },
   {
    "duration": 32,
    "start_time": "2022-12-16T09:58:15.979Z"
   },
   {
    "duration": 172,
    "start_time": "2022-12-16T09:58:16.013Z"
   },
   {
    "duration": 17,
    "start_time": "2022-12-16T09:58:16.187Z"
   },
   {
    "duration": 170,
    "start_time": "2022-12-16T09:58:16.206Z"
   },
   {
    "duration": 29,
    "start_time": "2022-12-16T09:58:16.377Z"
   },
   {
    "duration": 6,
    "start_time": "2022-12-16T09:58:16.408Z"
   },
   {
    "duration": 331,
    "start_time": "2022-12-16T09:58:16.416Z"
   },
   {
    "duration": 8,
    "start_time": "2022-12-16T09:58:16.749Z"
   },
   {
    "duration": 197,
    "start_time": "2022-12-16T09:58:16.758Z"
   },
   {
    "duration": 29,
    "start_time": "2022-12-16T09:58:16.958Z"
   },
   {
    "duration": 188,
    "start_time": "2022-12-16T09:58:17.004Z"
   },
   {
    "duration": 15,
    "start_time": "2022-12-16T09:58:17.193Z"
   },
   {
    "duration": 170,
    "start_time": "2022-12-16T09:58:17.212Z"
   },
   {
    "duration": 191,
    "start_time": "2022-12-16T09:58:17.384Z"
   },
   {
    "duration": 201,
    "start_time": "2022-12-16T09:58:17.577Z"
   },
   {
    "duration": 10,
    "start_time": "2022-12-16T09:58:17.781Z"
   },
   {
    "duration": 197,
    "start_time": "2022-12-16T09:58:17.793Z"
   },
   {
    "duration": 213,
    "start_time": "2022-12-16T09:58:17.991Z"
   },
   {
    "duration": 16,
    "start_time": "2022-12-16T09:58:18.205Z"
   },
   {
    "duration": 14,
    "start_time": "2022-12-16T09:58:18.223Z"
   },
   {
    "duration": 214,
    "start_time": "2022-12-16T09:58:18.239Z"
   },
   {
    "duration": 6,
    "start_time": "2022-12-16T09:58:18.455Z"
   },
   {
    "duration": 6,
    "start_time": "2022-12-16T09:58:18.463Z"
   },
   {
    "duration": 8,
    "start_time": "2022-12-16T09:58:18.472Z"
   },
   {
    "duration": 7,
    "start_time": "2022-12-16T09:58:18.482Z"
   },
   {
    "duration": 17,
    "start_time": "2022-12-16T09:58:18.504Z"
   },
   {
    "duration": 312,
    "start_time": "2022-12-16T09:58:18.522Z"
   },
   {
    "duration": 16,
    "start_time": "2022-12-16T09:58:18.836Z"
   },
   {
    "duration": 286,
    "start_time": "2022-12-16T09:58:18.854Z"
   },
   {
    "duration": 6,
    "start_time": "2022-12-16T09:59:00.329Z"
   },
   {
    "duration": 42,
    "start_time": "2022-12-16T09:59:20.154Z"
   },
   {
    "duration": 34,
    "start_time": "2022-12-16T10:00:17.397Z"
   },
   {
    "duration": 12,
    "start_time": "2022-12-16T10:01:29.629Z"
   },
   {
    "duration": 7,
    "start_time": "2022-12-16T10:03:11.662Z"
   },
   {
    "duration": 45,
    "start_time": "2022-12-16T10:04:16.128Z"
   },
   {
    "duration": 5,
    "start_time": "2022-12-16T10:05:06.728Z"
   },
   {
    "duration": 1237,
    "start_time": "2022-12-16T10:05:20.602Z"
   },
   {
    "duration": 83,
    "start_time": "2022-12-16T10:05:21.841Z"
   },
   {
    "duration": 25,
    "start_time": "2022-12-16T10:05:21.926Z"
   },
   {
    "duration": 4,
    "start_time": "2022-12-16T10:05:21.953Z"
   },
   {
    "duration": 10,
    "start_time": "2022-12-16T10:05:21.958Z"
   },
   {
    "duration": 12,
    "start_time": "2022-12-16T10:05:21.970Z"
   },
   {
    "duration": 48,
    "start_time": "2022-12-16T10:05:21.983Z"
   },
   {
    "duration": 21,
    "start_time": "2022-12-16T10:05:22.033Z"
   },
   {
    "duration": 21,
    "start_time": "2022-12-16T10:05:22.056Z"
   },
   {
    "duration": 49,
    "start_time": "2022-12-16T10:05:22.081Z"
   },
   {
    "duration": 4261,
    "start_time": "2022-12-16T10:05:22.132Z"
   },
   {
    "duration": 19,
    "start_time": "2022-12-16T10:05:26.395Z"
   },
   {
    "duration": 639,
    "start_time": "2022-12-16T10:05:26.416Z"
   },
   {
    "duration": 18,
    "start_time": "2022-12-16T10:05:27.056Z"
   },
   {
    "duration": 61,
    "start_time": "2022-12-16T10:05:27.076Z"
   },
   {
    "duration": 8,
    "start_time": "2022-12-16T10:05:27.139Z"
   },
   {
    "duration": 52,
    "start_time": "2022-12-16T10:05:27.149Z"
   },
   {
    "duration": 50,
    "start_time": "2022-12-16T10:05:27.202Z"
   },
   {
    "duration": 32,
    "start_time": "2022-12-16T10:05:27.254Z"
   },
   {
    "duration": 38,
    "start_time": "2022-12-16T10:05:27.288Z"
   },
   {
    "duration": 343,
    "start_time": "2022-12-16T10:05:27.328Z"
   },
   {
    "duration": 36,
    "start_time": "2022-12-16T10:05:27.673Z"
   },
   {
    "duration": 41,
    "start_time": "2022-12-16T10:05:27.712Z"
   },
   {
    "duration": 378,
    "start_time": "2022-12-16T10:05:27.755Z"
   },
   {
    "duration": 8,
    "start_time": "2022-12-16T10:05:28.135Z"
   },
   {
    "duration": 399,
    "start_time": "2022-12-16T10:05:28.144Z"
   },
   {
    "duration": 28,
    "start_time": "2022-12-16T10:05:28.546Z"
   },
   {
    "duration": 214,
    "start_time": "2022-12-16T10:05:28.577Z"
   },
   {
    "duration": 181,
    "start_time": "2022-12-16T10:05:28.793Z"
   },
   {
    "duration": 187,
    "start_time": "2022-12-16T10:05:28.976Z"
   },
   {
    "duration": 227,
    "start_time": "2022-12-16T10:05:29.165Z"
   },
   {
    "duration": 24,
    "start_time": "2022-12-16T10:05:29.393Z"
   },
   {
    "duration": 191,
    "start_time": "2022-12-16T10:05:29.419Z"
   },
   {
    "duration": 202,
    "start_time": "2022-12-16T10:05:29.612Z"
   },
   {
    "duration": 15,
    "start_time": "2022-12-16T10:05:29.816Z"
   },
   {
    "duration": 15,
    "start_time": "2022-12-16T10:05:29.832Z"
   },
   {
    "duration": 224,
    "start_time": "2022-12-16T10:05:29.848Z"
   },
   {
    "duration": 6,
    "start_time": "2022-12-16T10:05:30.074Z"
   },
   {
    "duration": 14,
    "start_time": "2022-12-16T10:05:30.081Z"
   },
   {
    "duration": 19,
    "start_time": "2022-12-16T10:05:30.097Z"
   },
   {
    "duration": 7,
    "start_time": "2022-12-16T10:05:30.118Z"
   },
   {
    "duration": 21,
    "start_time": "2022-12-16T10:05:30.127Z"
   },
   {
    "duration": 232,
    "start_time": "2022-12-16T10:05:30.150Z"
   },
   {
    "duration": 25,
    "start_time": "2022-12-16T10:05:30.384Z"
   },
   {
    "duration": 307,
    "start_time": "2022-12-16T10:05:30.410Z"
   },
   {
    "duration": 6,
    "start_time": "2022-12-16T10:06:31.263Z"
   },
   {
    "duration": 1236,
    "start_time": "2022-12-16T10:09:27.678Z"
   },
   {
    "duration": 64,
    "start_time": "2022-12-16T10:09:28.916Z"
   },
   {
    "duration": 25,
    "start_time": "2022-12-16T10:09:28.982Z"
   },
   {
    "duration": 3,
    "start_time": "2022-12-16T10:09:29.009Z"
   },
   {
    "duration": 20,
    "start_time": "2022-12-16T10:09:29.014Z"
   },
   {
    "duration": 20,
    "start_time": "2022-12-16T10:09:29.036Z"
   },
   {
    "duration": 11,
    "start_time": "2022-12-16T10:09:29.058Z"
   },
   {
    "duration": 13,
    "start_time": "2022-12-16T10:09:29.070Z"
   },
   {
    "duration": 22,
    "start_time": "2022-12-16T10:09:29.084Z"
   },
   {
    "duration": 42,
    "start_time": "2022-12-16T10:09:29.109Z"
   },
   {
    "duration": 3740,
    "start_time": "2022-12-16T10:09:29.153Z"
   },
   {
    "duration": 14,
    "start_time": "2022-12-16T10:09:32.895Z"
   },
   {
    "duration": 595,
    "start_time": "2022-12-16T10:09:32.910Z"
   },
   {
    "duration": 17,
    "start_time": "2022-12-16T10:09:33.506Z"
   },
   {
    "duration": 94,
    "start_time": "2022-12-16T10:09:33.525Z"
   },
   {
    "duration": 7,
    "start_time": "2022-12-16T10:09:33.620Z"
   },
   {
    "duration": 21,
    "start_time": "2022-12-16T10:09:33.629Z"
   },
   {
    "duration": 38,
    "start_time": "2022-12-16T10:09:33.652Z"
   },
   {
    "duration": 33,
    "start_time": "2022-12-16T10:09:33.692Z"
   },
   {
    "duration": 27,
    "start_time": "2022-12-16T10:09:33.727Z"
   },
   {
    "duration": 60,
    "start_time": "2022-12-16T10:09:33.756Z"
   },
   {
    "duration": 56,
    "start_time": "2022-12-16T10:09:33.817Z"
   },
   {
    "duration": 59,
    "start_time": "2022-12-16T10:09:33.875Z"
   },
   {
    "duration": 32,
    "start_time": "2022-12-16T10:09:33.936Z"
   },
   {
    "duration": 30,
    "start_time": "2022-12-16T10:09:33.970Z"
   },
   {
    "duration": 37,
    "start_time": "2022-12-16T10:09:34.002Z"
   },
   {
    "duration": 36,
    "start_time": "2022-12-16T10:09:34.040Z"
   },
   {
    "duration": 27,
    "start_time": "2022-12-16T10:09:34.079Z"
   },
   {
    "duration": 41,
    "start_time": "2022-12-16T10:09:34.108Z"
   },
   {
    "duration": 39,
    "start_time": "2022-12-16T10:09:34.151Z"
   },
   {
    "duration": 22,
    "start_time": "2022-12-16T10:09:34.192Z"
   },
   {
    "duration": 28,
    "start_time": "2022-12-16T10:09:34.215Z"
   },
   {
    "duration": 24,
    "start_time": "2022-12-16T10:09:34.245Z"
   },
   {
    "duration": 13,
    "start_time": "2022-12-16T10:09:34.271Z"
   },
   {
    "duration": 35,
    "start_time": "2022-12-16T10:09:34.285Z"
   },
   {
    "duration": 20,
    "start_time": "2022-12-16T10:09:34.321Z"
   },
   {
    "duration": 45,
    "start_time": "2022-12-16T10:09:34.343Z"
   },
   {
    "duration": 27,
    "start_time": "2022-12-16T10:09:34.389Z"
   },
   {
    "duration": 48,
    "start_time": "2022-12-16T10:09:34.418Z"
   },
   {
    "duration": 27,
    "start_time": "2022-12-16T10:09:34.468Z"
   },
   {
    "duration": 39,
    "start_time": "2022-12-16T10:09:34.497Z"
   },
   {
    "duration": 42,
    "start_time": "2022-12-16T10:09:34.538Z"
   },
   {
    "duration": 37,
    "start_time": "2022-12-16T10:09:34.582Z"
   },
   {
    "duration": 30,
    "start_time": "2022-12-16T10:09:34.621Z"
   },
   {
    "duration": 21,
    "start_time": "2022-12-16T10:09:34.653Z"
   },
   {
    "duration": 8,
    "start_time": "2022-12-16T10:11:40.880Z"
   },
   {
    "duration": 7,
    "start_time": "2022-12-16T10:12:07.382Z"
   },
   {
    "duration": 5,
    "start_time": "2022-12-16T10:13:34.045Z"
   },
   {
    "duration": 97,
    "start_time": "2022-12-16T10:14:01.612Z"
   },
   {
    "duration": 16,
    "start_time": "2022-12-16T10:14:26.193Z"
   },
   {
    "duration": 1159,
    "start_time": "2022-12-16T10:15:09.877Z"
   },
   {
    "duration": 17,
    "start_time": "2022-12-16T10:15:22.828Z"
   },
   {
    "duration": 14,
    "start_time": "2022-12-16T10:16:54.325Z"
   },
   {
    "duration": 28,
    "start_time": "2022-12-16T10:17:37.995Z"
   },
   {
    "duration": 21,
    "start_time": "2022-12-16T10:18:14.296Z"
   },
   {
    "duration": 24,
    "start_time": "2022-12-16T10:18:29.844Z"
   },
   {
    "duration": 27,
    "start_time": "2022-12-16T10:18:41.612Z"
   },
   {
    "duration": 12,
    "start_time": "2022-12-16T10:18:53.861Z"
   },
   {
    "duration": 29,
    "start_time": "2022-12-16T10:18:59.660Z"
   },
   {
    "duration": 10,
    "start_time": "2022-12-16T10:20:32.282Z"
   },
   {
    "duration": 42,
    "start_time": "2022-12-16T10:21:06.544Z"
   },
   {
    "duration": 22,
    "start_time": "2022-12-16T10:21:19.828Z"
   },
   {
    "duration": 8,
    "start_time": "2022-12-16T10:21:34.862Z"
   },
   {
    "duration": 7,
    "start_time": "2022-12-16T10:23:24.828Z"
   },
   {
    "duration": 13,
    "start_time": "2022-12-16T10:24:27.103Z"
   },
   {
    "duration": 17,
    "start_time": "2022-12-16T10:25:04.579Z"
   },
   {
    "duration": 15,
    "start_time": "2022-12-16T10:25:17.776Z"
   },
   {
    "duration": 9,
    "start_time": "2022-12-16T10:25:25.602Z"
   },
   {
    "duration": 11,
    "start_time": "2022-12-16T10:25:37.361Z"
   },
   {
    "duration": 14,
    "start_time": "2022-12-16T10:25:47.577Z"
   },
   {
    "duration": 16,
    "start_time": "2022-12-16T10:26:43.178Z"
   },
   {
    "duration": 9,
    "start_time": "2022-12-16T10:27:08.962Z"
   },
   {
    "duration": 9,
    "start_time": "2022-12-16T10:27:40.677Z"
   },
   {
    "duration": 14,
    "start_time": "2022-12-16T10:27:49.396Z"
   },
   {
    "duration": 311,
    "start_time": "2022-12-16T10:28:05.997Z"
   },
   {
    "duration": 420,
    "start_time": "2022-12-16T10:28:49.479Z"
   },
   {
    "duration": 348,
    "start_time": "2022-12-16T10:29:27.395Z"
   },
   {
    "duration": 1274,
    "start_time": "2022-12-16T10:29:33.892Z"
   },
   {
    "duration": 68,
    "start_time": "2022-12-16T10:29:35.168Z"
   },
   {
    "duration": 23,
    "start_time": "2022-12-16T10:29:35.238Z"
   },
   {
    "duration": 12,
    "start_time": "2022-12-16T10:29:35.262Z"
   },
   {
    "duration": 44,
    "start_time": "2022-12-16T10:29:35.277Z"
   },
   {
    "duration": 31,
    "start_time": "2022-12-16T10:29:35.323Z"
   },
   {
    "duration": 33,
    "start_time": "2022-12-16T10:29:35.355Z"
   },
   {
    "duration": 12,
    "start_time": "2022-12-16T10:29:35.389Z"
   },
   {
    "duration": 43,
    "start_time": "2022-12-16T10:29:35.403Z"
   },
   {
    "duration": 4101,
    "start_time": "2022-12-16T10:29:35.448Z"
   },
   {
    "duration": 17,
    "start_time": "2022-12-16T10:29:39.551Z"
   },
   {
    "duration": 635,
    "start_time": "2022-12-16T10:29:39.569Z"
   },
   {
    "duration": 19,
    "start_time": "2022-12-16T10:29:40.206Z"
   },
   {
    "duration": 11,
    "start_time": "2022-12-16T10:29:40.229Z"
   },
   {
    "duration": 8,
    "start_time": "2022-12-16T10:29:40.242Z"
   },
   {
    "duration": 16,
    "start_time": "2022-12-16T10:29:40.251Z"
   },
   {
    "duration": 36,
    "start_time": "2022-12-16T10:29:40.269Z"
   },
   {
    "duration": 291,
    "start_time": "2022-12-16T10:29:40.307Z"
   },
   {
    "duration": 6,
    "start_time": "2022-12-16T10:29:40.599Z"
   },
   {
    "duration": 5,
    "start_time": "2022-12-16T10:29:40.606Z"
   },
   {
    "duration": 6,
    "start_time": "2022-12-16T10:29:40.613Z"
   },
   {
    "duration": 6,
    "start_time": "2022-12-16T10:29:40.621Z"
   },
   {
    "duration": 5,
    "start_time": "2022-12-16T10:29:40.629Z"
   },
   {
    "duration": 6,
    "start_time": "2022-12-16T10:29:40.636Z"
   },
   {
    "duration": 8,
    "start_time": "2022-12-16T10:29:40.643Z"
   },
   {
    "duration": 8,
    "start_time": "2022-12-16T10:29:40.653Z"
   },
   {
    "duration": 7,
    "start_time": "2022-12-16T10:29:40.663Z"
   },
   {
    "duration": 5,
    "start_time": "2022-12-16T10:29:40.673Z"
   },
   {
    "duration": 5,
    "start_time": "2022-12-16T10:29:40.679Z"
   },
   {
    "duration": 6,
    "start_time": "2022-12-16T10:29:40.686Z"
   },
   {
    "duration": 12,
    "start_time": "2022-12-16T10:29:40.705Z"
   },
   {
    "duration": 5,
    "start_time": "2022-12-16T10:29:40.719Z"
   },
   {
    "duration": 4,
    "start_time": "2022-12-16T10:29:40.726Z"
   },
   {
    "duration": 5,
    "start_time": "2022-12-16T10:29:40.731Z"
   },
   {
    "duration": 5,
    "start_time": "2022-12-16T10:29:40.737Z"
   },
   {
    "duration": 6,
    "start_time": "2022-12-16T10:29:40.743Z"
   },
   {
    "duration": 4,
    "start_time": "2022-12-16T10:29:40.751Z"
   },
   {
    "duration": 4,
    "start_time": "2022-12-16T10:29:40.757Z"
   },
   {
    "duration": 5,
    "start_time": "2022-12-16T10:29:40.762Z"
   },
   {
    "duration": 4,
    "start_time": "2022-12-16T10:29:40.769Z"
   },
   {
    "duration": 2,
    "start_time": "2022-12-16T10:29:40.805Z"
   },
   {
    "duration": 6,
    "start_time": "2022-12-16T10:29:40.809Z"
   },
   {
    "duration": 10,
    "start_time": "2022-12-16T10:31:00.744Z"
   },
   {
    "duration": 290,
    "start_time": "2022-12-16T10:31:03.819Z"
   },
   {
    "duration": 9,
    "start_time": "2022-12-16T10:31:24.493Z"
   },
   {
    "duration": 9,
    "start_time": "2022-12-16T10:31:38.090Z"
   },
   {
    "duration": 10,
    "start_time": "2022-12-16T10:31:45.040Z"
   },
   {
    "duration": 15,
    "start_time": "2022-12-16T10:31:52.844Z"
   },
   {
    "duration": 21,
    "start_time": "2022-12-16T10:32:14.245Z"
   },
   {
    "duration": 10,
    "start_time": "2022-12-16T10:32:24.627Z"
   },
   {
    "duration": 163,
    "start_time": "2022-12-16T10:32:28.677Z"
   },
   {
    "duration": 19,
    "start_time": "2022-12-16T10:33:06.694Z"
   },
   {
    "duration": 108,
    "start_time": "2022-12-16T10:34:10.659Z"
   },
   {
    "duration": 20,
    "start_time": "2022-12-16T10:34:23.895Z"
   },
   {
    "duration": 7,
    "start_time": "2022-12-16T10:35:40.192Z"
   },
   {
    "duration": 347,
    "start_time": "2022-12-16T10:35:47.692Z"
   },
   {
    "duration": 6,
    "start_time": "2022-12-16T10:36:15.891Z"
   },
   {
    "duration": 204,
    "start_time": "2022-12-16T10:36:34.981Z"
   },
   {
    "duration": 17,
    "start_time": "2022-12-16T10:37:54.286Z"
   },
   {
    "duration": 12,
    "start_time": "2022-12-16T10:38:10.661Z"
   },
   {
    "duration": 30,
    "start_time": "2022-12-16T10:38:13.510Z"
   },
   {
    "duration": 24,
    "start_time": "2022-12-16T10:38:25.361Z"
   },
   {
    "duration": 189,
    "start_time": "2022-12-16T10:38:28.645Z"
   },
   {
    "duration": 33,
    "start_time": "2022-12-16T10:39:01.095Z"
   },
   {
    "duration": 23,
    "start_time": "2022-12-16T10:40:42.762Z"
   },
   {
    "duration": 8,
    "start_time": "2022-12-16T10:41:02.895Z"
   },
   {
    "duration": 26,
    "start_time": "2022-12-16T10:41:28.227Z"
   },
   {
    "duration": 5,
    "start_time": "2022-12-16T10:42:14.512Z"
   },
   {
    "duration": 23,
    "start_time": "2022-12-16T10:42:25.645Z"
   },
   {
    "duration": 9,
    "start_time": "2022-12-16T10:43:07.612Z"
   },
   {
    "duration": 24,
    "start_time": "2022-12-16T10:43:14.395Z"
   },
   {
    "duration": 17,
    "start_time": "2022-12-16T10:43:49.533Z"
   },
   {
    "duration": 19,
    "start_time": "2022-12-16T10:44:08.211Z"
   },
   {
    "duration": 22,
    "start_time": "2022-12-16T10:45:06.112Z"
   },
   {
    "duration": 13,
    "start_time": "2022-12-16T10:46:22.427Z"
   },
   {
    "duration": 33,
    "start_time": "2022-12-16T10:47:58.830Z"
   },
   {
    "duration": 25,
    "start_time": "2022-12-16T10:48:31.944Z"
   },
   {
    "duration": 33,
    "start_time": "2022-12-16T10:49:15.246Z"
   },
   {
    "duration": 25,
    "start_time": "2022-12-16T10:49:22.063Z"
   },
   {
    "duration": 1170,
    "start_time": "2022-12-16T10:49:32.167Z"
   },
   {
    "duration": 64,
    "start_time": "2022-12-16T10:49:33.339Z"
   },
   {
    "duration": 23,
    "start_time": "2022-12-16T10:49:33.405Z"
   },
   {
    "duration": 3,
    "start_time": "2022-12-16T10:49:33.430Z"
   },
   {
    "duration": 9,
    "start_time": "2022-12-16T10:49:33.436Z"
   },
   {
    "duration": 15,
    "start_time": "2022-12-16T10:49:33.447Z"
   },
   {
    "duration": 40,
    "start_time": "2022-12-16T10:49:33.466Z"
   },
   {
    "duration": 15,
    "start_time": "2022-12-16T10:49:33.508Z"
   },
   {
    "duration": 14,
    "start_time": "2022-12-16T10:49:33.525Z"
   },
   {
    "duration": 4478,
    "start_time": "2022-12-16T10:49:33.543Z"
   },
   {
    "duration": 17,
    "start_time": "2022-12-16T10:49:38.023Z"
   },
   {
    "duration": 712,
    "start_time": "2022-12-16T10:49:38.043Z"
   },
   {
    "duration": 18,
    "start_time": "2022-12-16T10:49:38.757Z"
   },
   {
    "duration": 31,
    "start_time": "2022-12-16T10:49:38.778Z"
   },
   {
    "duration": 12,
    "start_time": "2022-12-16T10:49:38.812Z"
   },
   {
    "duration": 36,
    "start_time": "2022-12-16T10:49:38.826Z"
   },
   {
    "duration": 14,
    "start_time": "2022-12-16T10:49:38.864Z"
   },
   {
    "duration": 223,
    "start_time": "2022-12-16T10:49:38.881Z"
   },
   {
    "duration": 26,
    "start_time": "2022-12-16T10:49:39.105Z"
   },
   {
    "duration": 12,
    "start_time": "2022-12-16T10:49:39.134Z"
   },
   {
    "duration": 379,
    "start_time": "2022-12-16T10:49:39.148Z"
   },
   {
    "duration": 7,
    "start_time": "2022-12-16T10:49:39.529Z"
   },
   {
    "duration": 387,
    "start_time": "2022-12-16T10:49:39.538Z"
   },
   {
    "duration": 21,
    "start_time": "2022-12-16T10:49:39.928Z"
   },
   {
    "duration": 258,
    "start_time": "2022-12-16T10:49:39.951Z"
   },
   {
    "duration": 32,
    "start_time": "2022-12-16T10:49:40.211Z"
   },
   {
    "duration": 26,
    "start_time": "2022-12-16T10:49:40.245Z"
   },
   {
    "duration": 30,
    "start_time": "2022-12-16T10:49:40.275Z"
   },
   {
    "duration": 4,
    "start_time": "2022-12-16T10:49:40.306Z"
   },
   {
    "duration": 11,
    "start_time": "2022-12-16T10:49:40.312Z"
   },
   {
    "duration": 7,
    "start_time": "2022-12-16T10:49:40.324Z"
   },
   {
    "duration": 5,
    "start_time": "2022-12-16T10:49:40.333Z"
   },
   {
    "duration": 5,
    "start_time": "2022-12-16T10:49:40.340Z"
   },
   {
    "duration": 5,
    "start_time": "2022-12-16T10:49:40.346Z"
   },
   {
    "duration": 10,
    "start_time": "2022-12-16T10:49:40.352Z"
   },
   {
    "duration": 7,
    "start_time": "2022-12-16T10:49:40.364Z"
   },
   {
    "duration": 5,
    "start_time": "2022-12-16T10:49:40.373Z"
   },
   {
    "duration": 7,
    "start_time": "2022-12-16T10:49:40.380Z"
   },
   {
    "duration": 10,
    "start_time": "2022-12-16T10:49:40.389Z"
   },
   {
    "duration": 7,
    "start_time": "2022-12-16T10:49:40.405Z"
   },
   {
    "duration": 5,
    "start_time": "2022-12-16T10:49:40.414Z"
   },
   {
    "duration": 6,
    "start_time": "2022-12-16T10:49:40.421Z"
   },
   {
    "duration": 7,
    "start_time": "2022-12-16T10:49:40.428Z"
   },
   {
    "duration": 8,
    "start_time": "2022-12-16T10:49:40.436Z"
   },
   {
    "duration": 17,
    "start_time": "2022-12-16T10:50:10.554Z"
   },
   {
    "duration": 23,
    "start_time": "2022-12-16T10:50:45.995Z"
   },
   {
    "duration": 9,
    "start_time": "2022-12-16T10:52:26.695Z"
   },
   {
    "duration": 11,
    "start_time": "2022-12-16T10:52:34.984Z"
   },
   {
    "duration": 27,
    "start_time": "2022-12-16T10:52:38.630Z"
   },
   {
    "duration": 23,
    "start_time": "2022-12-16T10:53:01.244Z"
   },
   {
    "duration": 69,
    "start_time": "2022-12-16T10:53:16.762Z"
   },
   {
    "duration": 88,
    "start_time": "2022-12-16T10:53:27.095Z"
   },
   {
    "duration": 35,
    "start_time": "2022-12-16T10:53:39.878Z"
   },
   {
    "duration": 35,
    "start_time": "2022-12-16T10:53:45.078Z"
   },
   {
    "duration": 9,
    "start_time": "2022-12-16T10:54:12.160Z"
   },
   {
    "duration": 37,
    "start_time": "2022-12-16T10:54:35.380Z"
   },
   {
    "duration": 24,
    "start_time": "2022-12-16T10:55:12.236Z"
   },
   {
    "duration": 24,
    "start_time": "2022-12-16T10:55:26.095Z"
   },
   {
    "duration": 9,
    "start_time": "2022-12-16T10:55:53.595Z"
   },
   {
    "duration": 18,
    "start_time": "2022-12-16T10:56:41.094Z"
   },
   {
    "duration": 16,
    "start_time": "2022-12-16T10:59:09.335Z"
   },
   {
    "duration": 15,
    "start_time": "2022-12-16T10:59:24.778Z"
   },
   {
    "duration": 8,
    "start_time": "2022-12-16T10:59:40.235Z"
   },
   {
    "duration": 22,
    "start_time": "2022-12-16T10:59:53.611Z"
   },
   {
    "duration": 8,
    "start_time": "2022-12-16T11:00:29.445Z"
   },
   {
    "duration": 5,
    "start_time": "2022-12-16T11:02:09.211Z"
   },
   {
    "duration": 71,
    "start_time": "2022-12-16T11:02:35.028Z"
   },
   {
    "duration": 5,
    "start_time": "2022-12-16T11:03:00.445Z"
   },
   {
    "duration": 5,
    "start_time": "2022-12-16T11:03:15.461Z"
   },
   {
    "duration": 107,
    "start_time": "2022-12-16T11:03:36.183Z"
   },
   {
    "duration": 76,
    "start_time": "2022-12-16T11:03:50.245Z"
   },
   {
    "duration": 5,
    "start_time": "2022-12-16T11:04:03.660Z"
   },
   {
    "duration": 178,
    "start_time": "2022-12-16T11:05:57.462Z"
   },
   {
    "duration": 146,
    "start_time": "2022-12-16T11:06:08.264Z"
   },
   {
    "duration": 148,
    "start_time": "2022-12-16T11:06:37.899Z"
   },
   {
    "duration": 149,
    "start_time": "2022-12-16T11:06:48.529Z"
   },
   {
    "duration": 170,
    "start_time": "2022-12-16T11:07:03.061Z"
   },
   {
    "duration": 9,
    "start_time": "2022-12-16T11:07:11.514Z"
   },
   {
    "duration": 188,
    "start_time": "2022-12-16T11:07:41.310Z"
   },
   {
    "duration": 194,
    "start_time": "2022-12-16T11:07:53.240Z"
   },
   {
    "duration": 128,
    "start_time": "2022-12-16T11:08:38.463Z"
   },
   {
    "duration": 160,
    "start_time": "2022-12-16T11:09:24.245Z"
   },
   {
    "duration": 13,
    "start_time": "2022-12-16T11:09:43.645Z"
   },
   {
    "duration": 15,
    "start_time": "2022-12-16T11:10:20.395Z"
   },
   {
    "duration": 13,
    "start_time": "2022-12-16T11:10:28.994Z"
   },
   {
    "duration": 13,
    "start_time": "2022-12-16T11:10:33.745Z"
   },
   {
    "duration": 291,
    "start_time": "2022-12-16T11:10:48.511Z"
   },
   {
    "duration": 7,
    "start_time": "2022-12-16T11:11:15.176Z"
   },
   {
    "duration": 14,
    "start_time": "2022-12-16T11:11:28.977Z"
   },
   {
    "duration": 14,
    "start_time": "2022-12-16T11:11:37.093Z"
   },
   {
    "duration": 18,
    "start_time": "2022-12-16T11:11:55.045Z"
   },
   {
    "duration": 14,
    "start_time": "2022-12-16T11:12:37.155Z"
   },
   {
    "duration": 232,
    "start_time": "2022-12-16T11:13:08.895Z"
   },
   {
    "duration": 17,
    "start_time": "2022-12-16T11:14:25.611Z"
   },
   {
    "duration": 258,
    "start_time": "2022-12-16T11:14:40.794Z"
   },
   {
    "duration": 216,
    "start_time": "2022-12-16T11:15:21.362Z"
   },
   {
    "duration": 258,
    "start_time": "2022-12-16T11:15:35.374Z"
   },
   {
    "duration": 232,
    "start_time": "2022-12-16T11:15:47.696Z"
   },
   {
    "duration": 20,
    "start_time": "2022-12-16T11:18:00.996Z"
   },
   {
    "duration": 16,
    "start_time": "2022-12-16T11:18:11.928Z"
   },
   {
    "duration": 6,
    "start_time": "2022-12-16T11:18:51.629Z"
   },
   {
    "duration": 75,
    "start_time": "2022-12-16T11:22:08.094Z"
   },
   {
    "duration": 17,
    "start_time": "2022-12-16T11:22:34.577Z"
   },
   {
    "duration": 14,
    "start_time": "2022-12-16T11:23:28.395Z"
   },
   {
    "duration": 14,
    "start_time": "2022-12-16T11:23:59.429Z"
   },
   {
    "duration": 13,
    "start_time": "2022-12-16T11:24:14.192Z"
   },
   {
    "duration": 17,
    "start_time": "2022-12-16T11:24:43.794Z"
   },
   {
    "duration": 14,
    "start_time": "2022-12-16T11:24:46.911Z"
   },
   {
    "duration": 3,
    "start_time": "2022-12-16T11:26:57.346Z"
   },
   {
    "duration": 1318,
    "start_time": "2022-12-16T11:27:11.145Z"
   },
   {
    "duration": 4,
    "start_time": "2022-12-16T11:27:29.212Z"
   },
   {
    "duration": 4,
    "start_time": "2022-12-16T11:27:55.362Z"
   },
   {
    "duration": 4,
    "start_time": "2022-12-16T11:29:15.395Z"
   },
   {
    "duration": 12,
    "start_time": "2022-12-16T11:29:20.494Z"
   },
   {
    "duration": 4,
    "start_time": "2022-12-16T11:29:53.311Z"
   },
   {
    "duration": 17,
    "start_time": "2022-12-16T11:29:57.081Z"
   },
   {
    "duration": 241,
    "start_time": "2022-12-16T11:30:02.911Z"
   },
   {
    "duration": 11,
    "start_time": "2022-12-16T11:30:46.528Z"
   },
   {
    "duration": 18,
    "start_time": "2022-12-16T11:30:54.160Z"
   },
   {
    "duration": 14,
    "start_time": "2022-12-16T11:31:09.610Z"
   },
   {
    "duration": 16,
    "start_time": "2022-12-16T11:34:09.411Z"
   },
   {
    "duration": 226,
    "start_time": "2022-12-16T11:34:12.510Z"
   },
   {
    "duration": 1186,
    "start_time": "2022-12-16T11:44:55.744Z"
   },
   {
    "duration": 13,
    "start_time": "2022-12-16T11:46:56.677Z"
   },
   {
    "duration": 8,
    "start_time": "2022-12-16T11:47:10.061Z"
   },
   {
    "duration": 12,
    "start_time": "2022-12-16T11:47:23.327Z"
   },
   {
    "duration": 8,
    "start_time": "2022-12-16T11:47:28.261Z"
   },
   {
    "duration": 1129,
    "start_time": "2022-12-16T12:22:46.554Z"
   },
   {
    "duration": 66,
    "start_time": "2022-12-16T12:22:47.685Z"
   },
   {
    "duration": 23,
    "start_time": "2022-12-16T12:22:47.753Z"
   },
   {
    "duration": 3,
    "start_time": "2022-12-16T12:22:47.778Z"
   },
   {
    "duration": 13,
    "start_time": "2022-12-16T12:22:47.782Z"
   },
   {
    "duration": 15,
    "start_time": "2022-12-16T12:22:47.796Z"
   },
   {
    "duration": 10,
    "start_time": "2022-12-16T12:22:47.813Z"
   },
   {
    "duration": 8,
    "start_time": "2022-12-16T12:22:47.825Z"
   },
   {
    "duration": 14,
    "start_time": "2022-12-16T12:22:47.835Z"
   },
   {
    "duration": 3850,
    "start_time": "2022-12-16T12:22:47.851Z"
   },
   {
    "duration": 16,
    "start_time": "2022-12-16T12:22:51.703Z"
   },
   {
    "duration": 586,
    "start_time": "2022-12-16T12:22:51.720Z"
   },
   {
    "duration": 18,
    "start_time": "2022-12-16T12:22:52.308Z"
   },
   {
    "duration": 9,
    "start_time": "2022-12-16T12:22:52.328Z"
   },
   {
    "duration": 22,
    "start_time": "2022-12-16T12:22:52.339Z"
   },
   {
    "duration": 21,
    "start_time": "2022-12-16T12:22:52.363Z"
   },
   {
    "duration": 21,
    "start_time": "2022-12-16T12:22:52.385Z"
   },
   {
    "duration": 201,
    "start_time": "2022-12-16T12:22:52.408Z"
   },
   {
    "duration": 21,
    "start_time": "2022-12-16T12:22:52.611Z"
   },
   {
    "duration": 6,
    "start_time": "2022-12-16T12:22:52.634Z"
   },
   {
    "duration": 338,
    "start_time": "2022-12-16T12:22:52.641Z"
   },
   {
    "duration": 7,
    "start_time": "2022-12-16T12:22:52.981Z"
   },
   {
    "duration": 343,
    "start_time": "2022-12-16T12:22:52.990Z"
   },
   {
    "duration": 21,
    "start_time": "2022-12-16T12:22:53.334Z"
   },
   {
    "duration": 181,
    "start_time": "2022-12-16T12:22:53.356Z"
   },
   {
    "duration": 29,
    "start_time": "2022-12-16T12:22:53.539Z"
   },
   {
    "duration": 16,
    "start_time": "2022-12-16T12:22:53.570Z"
   },
   {
    "duration": 7,
    "start_time": "2022-12-16T12:22:53.604Z"
   },
   {
    "duration": 6,
    "start_time": "2022-12-16T12:22:53.613Z"
   },
   {
    "duration": 163,
    "start_time": "2022-12-16T12:22:53.621Z"
   },
   {
    "duration": 148,
    "start_time": "2022-12-16T12:22:53.785Z"
   },
   {
    "duration": 172,
    "start_time": "2022-12-16T12:22:53.935Z"
   },
   {
    "duration": 10,
    "start_time": "2022-12-16T12:22:54.109Z"
   },
   {
    "duration": 192,
    "start_time": "2022-12-16T12:22:54.120Z"
   },
   {
    "duration": 187,
    "start_time": "2022-12-16T12:22:54.313Z"
   },
   {
    "duration": 14,
    "start_time": "2022-12-16T12:22:54.502Z"
   },
   {
    "duration": 14,
    "start_time": "2022-12-16T12:22:54.518Z"
   },
   {
    "duration": 223,
    "start_time": "2022-12-16T12:22:54.534Z"
   },
   {
    "duration": 6,
    "start_time": "2022-12-16T12:22:54.758Z"
   },
   {
    "duration": 17,
    "start_time": "2022-12-16T12:22:54.765Z"
   },
   {
    "duration": 4,
    "start_time": "2022-12-16T12:22:54.784Z"
   },
   {
    "duration": 27,
    "start_time": "2022-12-16T12:22:54.789Z"
   },
   {
    "duration": 4,
    "start_time": "2022-12-16T12:22:54.818Z"
   },
   {
    "duration": 17,
    "start_time": "2022-12-16T12:22:54.823Z"
   },
   {
    "duration": 3,
    "start_time": "2022-12-16T12:22:54.842Z"
   },
   {
    "duration": 17,
    "start_time": "2022-12-16T12:22:54.847Z"
   },
   {
    "duration": 271,
    "start_time": "2022-12-16T12:22:54.865Z"
   },
   {
    "duration": 18,
    "start_time": "2022-12-16T12:22:55.138Z"
   },
   {
    "duration": 276,
    "start_time": "2022-12-16T12:22:55.158Z"
   },
   {
    "duration": 16,
    "start_time": "2022-12-16T12:22:55.436Z"
   },
   {
    "duration": 16,
    "start_time": "2022-12-16T12:24:03.989Z"
   },
   {
    "duration": 194,
    "start_time": "2022-12-16T12:24:18.394Z"
   },
   {
    "duration": 12,
    "start_time": "2022-12-16T12:26:04.790Z"
   },
   {
    "duration": 231,
    "start_time": "2022-12-16T12:26:11.542Z"
   },
   {
    "duration": 15,
    "start_time": "2022-12-16T12:26:58.227Z"
   },
   {
    "duration": 175,
    "start_time": "2022-12-16T12:27:02.325Z"
   },
   {
    "duration": 96,
    "start_time": "2022-12-16T12:29:37.941Z"
   },
   {
    "duration": 18,
    "start_time": "2022-12-16T12:29:47.240Z"
   },
   {
    "duration": 187,
    "start_time": "2022-12-16T12:29:51.109Z"
   },
   {
    "duration": 18,
    "start_time": "2022-12-16T12:31:23.658Z"
   },
   {
    "duration": 6,
    "start_time": "2022-12-16T12:56:00.608Z"
   },
   {
    "duration": 10,
    "start_time": "2022-12-16T12:57:25.507Z"
   },
   {
    "duration": 1462,
    "start_time": "2022-12-16T12:57:31.321Z"
   },
   {
    "duration": 66,
    "start_time": "2022-12-16T12:57:32.785Z"
   },
   {
    "duration": 24,
    "start_time": "2022-12-16T12:57:32.852Z"
   },
   {
    "duration": 3,
    "start_time": "2022-12-16T12:57:32.878Z"
   },
   {
    "duration": 8,
    "start_time": "2022-12-16T12:57:32.882Z"
   },
   {
    "duration": 21,
    "start_time": "2022-12-16T12:57:32.891Z"
   },
   {
    "duration": 11,
    "start_time": "2022-12-16T12:57:32.914Z"
   },
   {
    "duration": 8,
    "start_time": "2022-12-16T12:57:32.926Z"
   },
   {
    "duration": 12,
    "start_time": "2022-12-16T12:57:32.935Z"
   },
   {
    "duration": 3788,
    "start_time": "2022-12-16T12:57:32.949Z"
   },
   {
    "duration": 15,
    "start_time": "2022-12-16T12:57:36.739Z"
   },
   {
    "duration": 568,
    "start_time": "2022-12-16T12:57:36.756Z"
   },
   {
    "duration": 13,
    "start_time": "2022-12-16T12:57:37.325Z"
   },
   {
    "duration": 18,
    "start_time": "2022-12-16T12:57:37.339Z"
   },
   {
    "duration": 9,
    "start_time": "2022-12-16T12:57:37.359Z"
   },
   {
    "duration": 45,
    "start_time": "2022-12-16T12:57:37.369Z"
   },
   {
    "duration": 21,
    "start_time": "2022-12-16T12:57:37.416Z"
   },
   {
    "duration": 13,
    "start_time": "2022-12-16T12:57:37.439Z"
   },
   {
    "duration": 248,
    "start_time": "2022-12-16T12:57:37.454Z"
   },
   {
    "duration": 20,
    "start_time": "2022-12-16T12:57:37.705Z"
   },
   {
    "duration": 7,
    "start_time": "2022-12-16T12:57:37.726Z"
   },
   {
    "duration": 340,
    "start_time": "2022-12-16T12:57:37.734Z"
   },
   {
    "duration": 7,
    "start_time": "2022-12-16T12:57:38.076Z"
   },
   {
    "duration": 384,
    "start_time": "2022-12-16T12:57:38.084Z"
   },
   {
    "duration": 20,
    "start_time": "2022-12-16T12:57:38.470Z"
   },
   {
    "duration": 185,
    "start_time": "2022-12-16T12:57:38.492Z"
   },
   {
    "duration": 43,
    "start_time": "2022-12-16T12:57:38.679Z"
   },
   {
    "duration": 16,
    "start_time": "2022-12-16T12:57:38.726Z"
   },
   {
    "duration": 9,
    "start_time": "2022-12-16T12:57:38.744Z"
   },
   {
    "duration": 6,
    "start_time": "2022-12-16T12:57:38.754Z"
   },
   {
    "duration": 170,
    "start_time": "2022-12-16T12:57:38.761Z"
   },
   {
    "duration": 160,
    "start_time": "2022-12-16T12:57:38.932Z"
   },
   {
    "duration": 169,
    "start_time": "2022-12-16T12:57:39.093Z"
   },
   {
    "duration": 9,
    "start_time": "2022-12-16T12:57:39.264Z"
   },
   {
    "duration": 196,
    "start_time": "2022-12-16T12:57:39.275Z"
   },
   {
    "duration": 189,
    "start_time": "2022-12-16T12:57:39.472Z"
   },
   {
    "duration": 13,
    "start_time": "2022-12-16T12:57:39.662Z"
   },
   {
    "duration": 29,
    "start_time": "2022-12-16T12:57:39.677Z"
   },
   {
    "duration": 201,
    "start_time": "2022-12-16T12:57:39.707Z"
   },
   {
    "duration": 6,
    "start_time": "2022-12-16T12:57:39.909Z"
   },
   {
    "duration": 15,
    "start_time": "2022-12-16T12:57:39.917Z"
   },
   {
    "duration": 4,
    "start_time": "2022-12-16T12:57:39.933Z"
   },
   {
    "duration": 15,
    "start_time": "2022-12-16T12:57:39.938Z"
   },
   {
    "duration": 4,
    "start_time": "2022-12-16T12:57:39.954Z"
   },
   {
    "duration": 16,
    "start_time": "2022-12-16T12:57:39.960Z"
   },
   {
    "duration": 32,
    "start_time": "2022-12-16T12:57:39.977Z"
   },
   {
    "duration": 34,
    "start_time": "2022-12-16T12:57:40.011Z"
   },
   {
    "duration": 492,
    "start_time": "2022-12-16T12:57:40.047Z"
   },
   {
    "duration": 69,
    "start_time": "2022-12-16T12:57:40.541Z"
   },
   {
    "duration": 611,
    "start_time": "2022-12-16T12:57:40.612Z"
   },
   {
    "duration": 21,
    "start_time": "2022-12-16T12:57:41.225Z"
   },
   {
    "duration": 344,
    "start_time": "2022-12-16T12:57:41.304Z"
   },
   {
    "duration": 9,
    "start_time": "2022-12-16T12:57:59.007Z"
   },
   {
    "duration": 1094,
    "start_time": "2022-12-16T12:58:04.260Z"
   },
   {
    "duration": 64,
    "start_time": "2022-12-16T12:58:05.356Z"
   },
   {
    "duration": 23,
    "start_time": "2022-12-16T12:58:05.422Z"
   },
   {
    "duration": 11,
    "start_time": "2022-12-16T12:58:05.447Z"
   },
   {
    "duration": 24,
    "start_time": "2022-12-16T12:58:05.460Z"
   },
   {
    "duration": 16,
    "start_time": "2022-12-16T12:58:05.485Z"
   },
   {
    "duration": 44,
    "start_time": "2022-12-16T12:58:05.503Z"
   },
   {
    "duration": 35,
    "start_time": "2022-12-16T12:58:05.548Z"
   },
   {
    "duration": 27,
    "start_time": "2022-12-16T12:58:05.585Z"
   },
   {
    "duration": 3919,
    "start_time": "2022-12-16T12:58:05.614Z"
   },
   {
    "duration": 15,
    "start_time": "2022-12-16T12:58:09.535Z"
   },
   {
    "duration": 632,
    "start_time": "2022-12-16T12:58:09.552Z"
   },
   {
    "duration": 10,
    "start_time": "2022-12-16T12:58:10.185Z"
   },
   {
    "duration": 16,
    "start_time": "2022-12-16T12:58:10.203Z"
   },
   {
    "duration": 9,
    "start_time": "2022-12-16T12:58:10.221Z"
   },
   {
    "duration": 7,
    "start_time": "2022-12-16T12:58:10.232Z"
   },
   {
    "duration": 17,
    "start_time": "2022-12-16T12:58:10.241Z"
   },
   {
    "duration": 9,
    "start_time": "2022-12-16T12:58:10.259Z"
   },
   {
    "duration": 196,
    "start_time": "2022-12-16T12:58:10.304Z"
   },
   {
    "duration": 18,
    "start_time": "2022-12-16T12:58:10.504Z"
   },
   {
    "duration": 13,
    "start_time": "2022-12-16T12:58:10.524Z"
   },
   {
    "duration": 332,
    "start_time": "2022-12-16T12:58:10.539Z"
   },
   {
    "duration": 6,
    "start_time": "2022-12-16T12:58:10.872Z"
   },
   {
    "duration": 339,
    "start_time": "2022-12-16T12:58:10.880Z"
   },
   {
    "duration": 18,
    "start_time": "2022-12-16T12:58:11.221Z"
   },
   {
    "duration": 192,
    "start_time": "2022-12-16T12:58:11.240Z"
   },
   {
    "duration": 36,
    "start_time": "2022-12-16T12:58:11.435Z"
   },
   {
    "duration": 35,
    "start_time": "2022-12-16T12:58:11.473Z"
   },
   {
    "duration": 39,
    "start_time": "2022-12-16T12:58:11.510Z"
   },
   {
    "duration": 9,
    "start_time": "2022-12-16T12:58:11.551Z"
   },
   {
    "duration": 169,
    "start_time": "2022-12-16T12:58:11.561Z"
   },
   {
    "duration": 161,
    "start_time": "2022-12-16T12:58:11.732Z"
   },
   {
    "duration": 164,
    "start_time": "2022-12-16T12:58:11.894Z"
   },
   {
    "duration": 10,
    "start_time": "2022-12-16T12:58:12.059Z"
   },
   {
    "duration": 209,
    "start_time": "2022-12-16T12:58:12.071Z"
   },
   {
    "duration": 190,
    "start_time": "2022-12-16T12:58:12.281Z"
   },
   {
    "duration": 13,
    "start_time": "2022-12-16T12:58:12.473Z"
   },
   {
    "duration": 32,
    "start_time": "2022-12-16T12:58:12.488Z"
   },
   {
    "duration": 223,
    "start_time": "2022-12-16T12:58:12.521Z"
   },
   {
    "duration": 6,
    "start_time": "2022-12-16T12:58:12.746Z"
   },
   {
    "duration": 44,
    "start_time": "2022-12-16T12:58:12.755Z"
   },
   {
    "duration": 35,
    "start_time": "2022-12-16T12:58:12.801Z"
   },
   {
    "duration": 31,
    "start_time": "2022-12-16T12:58:12.838Z"
   },
   {
    "duration": 4,
    "start_time": "2022-12-16T12:58:12.871Z"
   },
   {
    "duration": 54,
    "start_time": "2022-12-16T12:58:12.876Z"
   },
   {
    "duration": 23,
    "start_time": "2022-12-16T12:58:12.932Z"
   },
   {
    "duration": 63,
    "start_time": "2022-12-16T12:58:12.957Z"
   },
   {
    "duration": 500,
    "start_time": "2022-12-16T12:58:13.022Z"
   },
   {
    "duration": 22,
    "start_time": "2022-12-16T12:58:13.524Z"
   },
   {
    "duration": 603,
    "start_time": "2022-12-16T12:58:13.548Z"
   },
   {
    "duration": 17,
    "start_time": "2022-12-16T12:58:14.204Z"
   },
   {
    "duration": 397,
    "start_time": "2022-12-16T12:58:14.222Z"
   },
   {
    "duration": 9,
    "start_time": "2022-12-16T12:58:24.666Z"
   },
   {
    "duration": 6,
    "start_time": "2022-12-16T12:58:40.074Z"
   },
   {
    "duration": 9,
    "start_time": "2022-12-16T12:58:59.458Z"
   },
   {
    "duration": 8,
    "start_time": "2022-12-16T12:59:08.058Z"
   },
   {
    "duration": 1104,
    "start_time": "2022-12-16T12:59:22.641Z"
   },
   {
    "duration": 67,
    "start_time": "2022-12-16T12:59:23.747Z"
   },
   {
    "duration": 25,
    "start_time": "2022-12-16T12:59:23.816Z"
   },
   {
    "duration": 3,
    "start_time": "2022-12-16T12:59:23.843Z"
   },
   {
    "duration": 14,
    "start_time": "2022-12-16T12:59:23.848Z"
   },
   {
    "duration": 16,
    "start_time": "2022-12-16T12:59:23.864Z"
   },
   {
    "duration": 23,
    "start_time": "2022-12-16T12:59:23.882Z"
   },
   {
    "duration": 8,
    "start_time": "2022-12-16T12:59:23.907Z"
   },
   {
    "duration": 20,
    "start_time": "2022-12-16T12:59:23.916Z"
   },
   {
    "duration": 3776,
    "start_time": "2022-12-16T12:59:23.938Z"
   },
   {
    "duration": 20,
    "start_time": "2022-12-16T12:59:27.716Z"
   },
   {
    "duration": 609,
    "start_time": "2022-12-16T12:59:27.738Z"
   },
   {
    "duration": 10,
    "start_time": "2022-12-16T12:59:28.349Z"
   },
   {
    "duration": 15,
    "start_time": "2022-12-16T12:59:28.363Z"
   },
   {
    "duration": 26,
    "start_time": "2022-12-16T12:59:28.379Z"
   },
   {
    "duration": 9,
    "start_time": "2022-12-16T12:59:28.407Z"
   },
   {
    "duration": 26,
    "start_time": "2022-12-16T12:59:28.418Z"
   },
   {
    "duration": 9,
    "start_time": "2022-12-16T12:59:28.445Z"
   },
   {
    "duration": 214,
    "start_time": "2022-12-16T12:59:28.456Z"
   },
   {
    "duration": 19,
    "start_time": "2022-12-16T12:59:28.672Z"
   },
   {
    "duration": 6,
    "start_time": "2022-12-16T12:59:28.704Z"
   },
   {
    "duration": 322,
    "start_time": "2022-12-16T12:59:28.711Z"
   },
   {
    "duration": 7,
    "start_time": "2022-12-16T12:59:29.034Z"
   },
   {
    "duration": 378,
    "start_time": "2022-12-16T12:59:29.042Z"
   },
   {
    "duration": 22,
    "start_time": "2022-12-16T12:59:29.421Z"
   },
   {
    "duration": 189,
    "start_time": "2022-12-16T12:59:29.444Z"
   },
   {
    "duration": 31,
    "start_time": "2022-12-16T12:59:29.635Z"
   },
   {
    "duration": 18,
    "start_time": "2022-12-16T12:59:29.668Z"
   },
   {
    "duration": 13,
    "start_time": "2022-12-16T12:59:29.704Z"
   },
   {
    "duration": 6,
    "start_time": "2022-12-16T12:59:29.719Z"
   },
   {
    "duration": 168,
    "start_time": "2022-12-16T12:59:29.726Z"
   },
   {
    "duration": 177,
    "start_time": "2022-12-16T12:59:29.896Z"
   },
   {
    "duration": 172,
    "start_time": "2022-12-16T12:59:30.075Z"
   },
   {
    "duration": 9,
    "start_time": "2022-12-16T12:59:30.249Z"
   },
   {
    "duration": 202,
    "start_time": "2022-12-16T12:59:30.259Z"
   },
   {
    "duration": 212,
    "start_time": "2022-12-16T12:59:30.463Z"
   },
   {
    "duration": 14,
    "start_time": "2022-12-16T12:59:30.676Z"
   },
   {
    "duration": 16,
    "start_time": "2022-12-16T12:59:30.704Z"
   },
   {
    "duration": 225,
    "start_time": "2022-12-16T12:59:30.721Z"
   },
   {
    "duration": 6,
    "start_time": "2022-12-16T12:59:30.948Z"
   },
   {
    "duration": 72,
    "start_time": "2022-12-16T12:59:30.958Z"
   },
   {
    "duration": 17,
    "start_time": "2022-12-16T12:59:31.032Z"
   },
   {
    "duration": 34,
    "start_time": "2022-12-16T12:59:31.051Z"
   },
   {
    "duration": 28,
    "start_time": "2022-12-16T12:59:31.087Z"
   },
   {
    "duration": 24,
    "start_time": "2022-12-16T12:59:31.117Z"
   },
   {
    "duration": 28,
    "start_time": "2022-12-16T12:59:31.143Z"
   },
   {
    "duration": 37,
    "start_time": "2022-12-16T12:59:31.173Z"
   },
   {
    "duration": 405,
    "start_time": "2022-12-16T12:59:31.212Z"
   },
   {
    "duration": 17,
    "start_time": "2022-12-16T12:59:31.618Z"
   },
   {
    "duration": 585,
    "start_time": "2022-12-16T12:59:31.637Z"
   },
   {
    "duration": 16,
    "start_time": "2022-12-16T12:59:32.224Z"
   },
   {
    "duration": 392,
    "start_time": "2022-12-16T12:59:32.241Z"
   },
   {
    "duration": 11,
    "start_time": "2022-12-16T12:59:51.225Z"
   },
   {
    "duration": 15,
    "start_time": "2022-12-16T13:04:36.648Z"
   },
   {
    "duration": 16,
    "start_time": "2022-12-16T13:04:59.874Z"
   },
   {
    "duration": 13,
    "start_time": "2022-12-16T13:21:34.288Z"
   },
   {
    "duration": 14,
    "start_time": "2022-12-16T13:22:20.989Z"
   },
   {
    "duration": 14,
    "start_time": "2022-12-16T13:24:16.921Z"
   },
   {
    "duration": 18,
    "start_time": "2022-12-16T13:25:14.291Z"
   },
   {
    "duration": 15,
    "start_time": "2022-12-16T13:25:23.173Z"
   },
   {
    "duration": 16,
    "start_time": "2022-12-16T13:25:34.172Z"
   },
   {
    "duration": 101,
    "start_time": "2022-12-16T13:26:15.689Z"
   },
   {
    "duration": 15,
    "start_time": "2022-12-16T13:26:53.723Z"
   },
   {
    "duration": 16,
    "start_time": "2022-12-16T13:27:03.257Z"
   },
   {
    "duration": 3,
    "start_time": "2022-12-16T13:27:14.422Z"
   },
   {
    "duration": 19,
    "start_time": "2022-12-16T13:27:17.865Z"
   },
   {
    "duration": 232,
    "start_time": "2022-12-16T13:27:22.490Z"
   },
   {
    "duration": 1243,
    "start_time": "2022-12-16T13:28:50.533Z"
   },
   {
    "duration": 73,
    "start_time": "2022-12-16T13:28:51.778Z"
   },
   {
    "duration": 19,
    "start_time": "2022-12-16T13:28:51.853Z"
   },
   {
    "duration": 4,
    "start_time": "2022-12-16T13:28:51.874Z"
   },
   {
    "duration": 30,
    "start_time": "2022-12-16T13:28:51.880Z"
   },
   {
    "duration": 22,
    "start_time": "2022-12-16T13:28:51.911Z"
   },
   {
    "duration": 19,
    "start_time": "2022-12-16T13:28:51.935Z"
   },
   {
    "duration": 15,
    "start_time": "2022-12-16T13:28:51.955Z"
   },
   {
    "duration": 21,
    "start_time": "2022-12-16T13:28:51.973Z"
   },
   {
    "duration": 3896,
    "start_time": "2022-12-16T13:28:51.997Z"
   },
   {
    "duration": 16,
    "start_time": "2022-12-16T13:28:55.895Z"
   },
   {
    "duration": 634,
    "start_time": "2022-12-16T13:28:55.913Z"
   },
   {
    "duration": 19,
    "start_time": "2022-12-16T13:28:56.548Z"
   },
   {
    "duration": 9,
    "start_time": "2022-12-16T13:28:56.569Z"
   },
   {
    "duration": 28,
    "start_time": "2022-12-16T13:28:56.579Z"
   },
   {
    "duration": 28,
    "start_time": "2022-12-16T13:28:56.608Z"
   },
   {
    "duration": 38,
    "start_time": "2022-12-16T13:28:56.637Z"
   },
   {
    "duration": 204,
    "start_time": "2022-12-16T13:28:56.676Z"
   },
   {
    "duration": 27,
    "start_time": "2022-12-16T13:28:56.882Z"
   },
   {
    "duration": 27,
    "start_time": "2022-12-16T13:28:56.910Z"
   },
   {
    "duration": 368,
    "start_time": "2022-12-16T13:28:56.938Z"
   },
   {
    "duration": 6,
    "start_time": "2022-12-16T13:28:57.308Z"
   },
   {
    "duration": 419,
    "start_time": "2022-12-16T13:28:57.315Z"
   },
   {
    "duration": 20,
    "start_time": "2022-12-16T13:28:57.735Z"
   },
   {
    "duration": 198,
    "start_time": "2022-12-16T13:28:57.757Z"
   },
   {
    "duration": 32,
    "start_time": "2022-12-16T13:28:57.957Z"
   },
   {
    "duration": 30,
    "start_time": "2022-12-16T13:28:57.991Z"
   },
   {
    "duration": 26,
    "start_time": "2022-12-16T13:28:58.025Z"
   },
   {
    "duration": 26,
    "start_time": "2022-12-16T13:28:58.052Z"
   },
   {
    "duration": 195,
    "start_time": "2022-12-16T13:28:58.080Z"
   },
   {
    "duration": 170,
    "start_time": "2022-12-16T13:28:58.277Z"
   },
   {
    "duration": 186,
    "start_time": "2022-12-16T13:28:58.448Z"
   },
   {
    "duration": 12,
    "start_time": "2022-12-16T13:28:58.635Z"
   },
   {
    "duration": 204,
    "start_time": "2022-12-16T13:28:58.649Z"
   },
   {
    "duration": 194,
    "start_time": "2022-12-16T13:28:58.855Z"
   },
   {
    "duration": 13,
    "start_time": "2022-12-16T13:28:59.051Z"
   },
   {
    "duration": 13,
    "start_time": "2022-12-16T13:28:59.066Z"
   },
   {
    "duration": 232,
    "start_time": "2022-12-16T13:28:59.081Z"
   },
   {
    "duration": 6,
    "start_time": "2022-12-16T13:28:59.314Z"
   },
   {
    "duration": 17,
    "start_time": "2022-12-16T13:28:59.321Z"
   },
   {
    "duration": 3,
    "start_time": "2022-12-16T13:28:59.339Z"
   },
   {
    "duration": 14,
    "start_time": "2022-12-16T13:28:59.344Z"
   },
   {
    "duration": 3,
    "start_time": "2022-12-16T13:28:59.360Z"
   },
   {
    "duration": 44,
    "start_time": "2022-12-16T13:28:59.365Z"
   },
   {
    "duration": 14,
    "start_time": "2022-12-16T13:28:59.410Z"
   },
   {
    "duration": 20,
    "start_time": "2022-12-16T13:28:59.425Z"
   },
   {
    "duration": 234,
    "start_time": "2022-12-16T13:28:59.446Z"
   },
   {
    "duration": 26,
    "start_time": "2022-12-16T13:28:59.682Z"
   },
   {
    "duration": 27,
    "start_time": "2022-12-16T13:28:59.710Z"
   },
   {
    "duration": 296,
    "start_time": "2022-12-16T13:28:59.739Z"
   },
   {
    "duration": 17,
    "start_time": "2022-12-16T13:29:00.037Z"
   },
   {
    "duration": 216,
    "start_time": "2022-12-16T13:29:00.055Z"
   },
   {
    "duration": 16,
    "start_time": "2022-12-16T13:30:05.874Z"
   },
   {
    "duration": 20,
    "start_time": "2022-12-16T13:30:18.056Z"
   },
   {
    "duration": 5,
    "start_time": "2022-12-16T13:32:43.407Z"
   },
   {
    "duration": 17,
    "start_time": "2022-12-16T13:33:07.858Z"
   },
   {
    "duration": 9,
    "start_time": "2022-12-16T13:33:55.391Z"
   },
   {
    "duration": 106,
    "start_time": "2022-12-16T13:34:41.781Z"
   },
   {
    "duration": 11,
    "start_time": "2022-12-16T13:34:48.356Z"
   },
   {
    "duration": 9,
    "start_time": "2022-12-16T13:34:59.157Z"
   },
   {
    "duration": 15,
    "start_time": "2022-12-16T13:35:53.625Z"
   },
   {
    "duration": 107,
    "start_time": "2022-12-16T13:36:02.571Z"
   },
   {
    "duration": 17,
    "start_time": "2022-12-16T13:36:22.507Z"
   },
   {
    "duration": 18,
    "start_time": "2022-12-16T13:36:28.805Z"
   },
   {
    "duration": 16,
    "start_time": "2022-12-16T13:36:48.007Z"
   },
   {
    "duration": 16,
    "start_time": "2022-12-16T13:37:24.082Z"
   },
   {
    "duration": 20,
    "start_time": "2022-12-16T13:37:40.940Z"
   },
   {
    "duration": 1184,
    "start_time": "2022-12-16T13:37:44.978Z"
   },
   {
    "duration": 69,
    "start_time": "2022-12-16T13:37:46.164Z"
   },
   {
    "duration": 17,
    "start_time": "2022-12-16T13:37:46.234Z"
   },
   {
    "duration": 7,
    "start_time": "2022-12-16T13:37:46.253Z"
   },
   {
    "duration": 21,
    "start_time": "2022-12-16T13:37:46.262Z"
   },
   {
    "duration": 25,
    "start_time": "2022-12-16T13:37:46.285Z"
   },
   {
    "duration": 25,
    "start_time": "2022-12-16T13:37:46.312Z"
   },
   {
    "duration": 19,
    "start_time": "2022-12-16T13:37:46.339Z"
   },
   {
    "duration": 30,
    "start_time": "2022-12-16T13:37:46.359Z"
   },
   {
    "duration": 3861,
    "start_time": "2022-12-16T13:37:46.392Z"
   },
   {
    "duration": 14,
    "start_time": "2022-12-16T13:37:50.255Z"
   },
   {
    "duration": 629,
    "start_time": "2022-12-16T13:37:50.271Z"
   },
   {
    "duration": 18,
    "start_time": "2022-12-16T13:37:50.902Z"
   },
   {
    "duration": 32,
    "start_time": "2022-12-16T13:37:50.922Z"
   },
   {
    "duration": 19,
    "start_time": "2022-12-16T13:37:50.955Z"
   },
   {
    "duration": 36,
    "start_time": "2022-12-16T13:37:50.976Z"
   },
   {
    "duration": 12,
    "start_time": "2022-12-16T13:37:51.014Z"
   },
   {
    "duration": 210,
    "start_time": "2022-12-16T13:37:51.027Z"
   },
   {
    "duration": 19,
    "start_time": "2022-12-16T13:37:51.239Z"
   },
   {
    "duration": 23,
    "start_time": "2022-12-16T13:37:51.259Z"
   },
   {
    "duration": 327,
    "start_time": "2022-12-16T13:37:51.284Z"
   },
   {
    "duration": 7,
    "start_time": "2022-12-16T13:37:51.612Z"
   },
   {
    "duration": 361,
    "start_time": "2022-12-16T13:37:51.621Z"
   },
   {
    "duration": 24,
    "start_time": "2022-12-16T13:37:51.983Z"
   },
   {
    "duration": 189,
    "start_time": "2022-12-16T13:37:52.009Z"
   },
   {
    "duration": 28,
    "start_time": "2022-12-16T13:37:52.204Z"
   },
   {
    "duration": 38,
    "start_time": "2022-12-16T13:37:52.233Z"
   },
   {
    "duration": 15,
    "start_time": "2022-12-16T13:37:52.274Z"
   },
   {
    "duration": 25,
    "start_time": "2022-12-16T13:37:52.291Z"
   },
   {
    "duration": 186,
    "start_time": "2022-12-16T13:37:52.318Z"
   },
   {
    "duration": 167,
    "start_time": "2022-12-16T13:37:52.506Z"
   },
   {
    "duration": 172,
    "start_time": "2022-12-16T13:37:52.674Z"
   },
   {
    "duration": 10,
    "start_time": "2022-12-16T13:37:52.848Z"
   },
   {
    "duration": 196,
    "start_time": "2022-12-16T13:37:52.859Z"
   },
   {
    "duration": 190,
    "start_time": "2022-12-16T13:37:53.057Z"
   },
   {
    "duration": 13,
    "start_time": "2022-12-16T13:37:53.248Z"
   },
   {
    "duration": 42,
    "start_time": "2022-12-16T13:37:53.263Z"
   },
   {
    "duration": 211,
    "start_time": "2022-12-16T13:37:53.307Z"
   },
   {
    "duration": 6,
    "start_time": "2022-12-16T13:37:53.520Z"
   },
   {
    "duration": 42,
    "start_time": "2022-12-16T13:37:53.527Z"
   },
   {
    "duration": 25,
    "start_time": "2022-12-16T13:37:53.571Z"
   },
   {
    "duration": 158,
    "start_time": "2022-12-16T13:37:53.597Z"
   },
   {
    "duration": 0,
    "start_time": "2022-12-16T13:37:53.757Z"
   },
   {
    "duration": 0,
    "start_time": "2022-12-16T13:37:53.758Z"
   },
   {
    "duration": 0,
    "start_time": "2022-12-16T13:37:53.759Z"
   },
   {
    "duration": 0,
    "start_time": "2022-12-16T13:37:53.760Z"
   },
   {
    "duration": 0,
    "start_time": "2022-12-16T13:37:53.761Z"
   },
   {
    "duration": 0,
    "start_time": "2022-12-16T13:37:53.762Z"
   },
   {
    "duration": 0,
    "start_time": "2022-12-16T13:37:53.763Z"
   },
   {
    "duration": 0,
    "start_time": "2022-12-16T13:37:53.764Z"
   },
   {
    "duration": 0,
    "start_time": "2022-12-16T13:37:53.765Z"
   },
   {
    "duration": 18,
    "start_time": "2022-12-16T13:38:04.240Z"
   },
   {
    "duration": 16,
    "start_time": "2022-12-16T13:38:50.393Z"
   },
   {
    "duration": 1166,
    "start_time": "2022-12-16T13:39:11.983Z"
   },
   {
    "duration": 68,
    "start_time": "2022-12-16T13:39:13.151Z"
   },
   {
    "duration": 17,
    "start_time": "2022-12-16T13:39:13.220Z"
   },
   {
    "duration": 3,
    "start_time": "2022-12-16T13:39:13.239Z"
   },
   {
    "duration": 8,
    "start_time": "2022-12-16T13:39:13.243Z"
   },
   {
    "duration": 10,
    "start_time": "2022-12-16T13:39:13.253Z"
   },
   {
    "duration": 9,
    "start_time": "2022-12-16T13:39:13.265Z"
   },
   {
    "duration": 9,
    "start_time": "2022-12-16T13:39:13.304Z"
   },
   {
    "duration": 11,
    "start_time": "2022-12-16T13:39:13.315Z"
   },
   {
    "duration": 3801,
    "start_time": "2022-12-16T13:39:13.329Z"
   },
   {
    "duration": 24,
    "start_time": "2022-12-16T13:39:17.132Z"
   },
   {
    "duration": 684,
    "start_time": "2022-12-16T13:39:17.158Z"
   },
   {
    "duration": 18,
    "start_time": "2022-12-16T13:39:17.845Z"
   },
   {
    "duration": 10,
    "start_time": "2022-12-16T13:39:17.864Z"
   },
   {
    "duration": 30,
    "start_time": "2022-12-16T13:39:17.876Z"
   },
   {
    "duration": 16,
    "start_time": "2022-12-16T13:39:17.908Z"
   },
   {
    "duration": 10,
    "start_time": "2022-12-16T13:39:17.926Z"
   },
   {
    "duration": 207,
    "start_time": "2022-12-16T13:39:17.937Z"
   },
   {
    "duration": 20,
    "start_time": "2022-12-16T13:39:18.146Z"
   },
   {
    "duration": 9,
    "start_time": "2022-12-16T13:39:18.168Z"
   },
   {
    "duration": 364,
    "start_time": "2022-12-16T13:39:18.179Z"
   },
   {
    "duration": 7,
    "start_time": "2022-12-16T13:39:18.545Z"
   },
   {
    "duration": 362,
    "start_time": "2022-12-16T13:39:18.554Z"
   },
   {
    "duration": 21,
    "start_time": "2022-12-16T13:39:18.918Z"
   },
   {
    "duration": 204,
    "start_time": "2022-12-16T13:39:18.941Z"
   },
   {
    "duration": 35,
    "start_time": "2022-12-16T13:39:19.148Z"
   },
   {
    "duration": 31,
    "start_time": "2022-12-16T13:39:19.185Z"
   },
   {
    "duration": 9,
    "start_time": "2022-12-16T13:39:19.221Z"
   },
   {
    "duration": 16,
    "start_time": "2022-12-16T13:39:19.232Z"
   },
   {
    "duration": 167,
    "start_time": "2022-12-16T13:39:19.249Z"
   },
   {
    "duration": 154,
    "start_time": "2022-12-16T13:39:19.418Z"
   },
   {
    "duration": 177,
    "start_time": "2022-12-16T13:39:19.573Z"
   },
   {
    "duration": 10,
    "start_time": "2022-12-16T13:39:19.751Z"
   },
   {
    "duration": 196,
    "start_time": "2022-12-16T13:39:19.762Z"
   },
   {
    "duration": 206,
    "start_time": "2022-12-16T13:39:19.960Z"
   },
   {
    "duration": 14,
    "start_time": "2022-12-16T13:39:20.168Z"
   },
   {
    "duration": 28,
    "start_time": "2022-12-16T13:39:20.184Z"
   },
   {
    "duration": 219,
    "start_time": "2022-12-16T13:39:20.215Z"
   },
   {
    "duration": 7,
    "start_time": "2022-12-16T13:39:20.436Z"
   },
   {
    "duration": 22,
    "start_time": "2022-12-16T13:39:20.444Z"
   },
   {
    "duration": 4,
    "start_time": "2022-12-16T13:39:20.468Z"
   },
   {
    "duration": 34,
    "start_time": "2022-12-16T13:39:20.473Z"
   },
   {
    "duration": 116,
    "start_time": "2022-12-16T13:39:20.509Z"
   },
   {
    "duration": 0,
    "start_time": "2022-12-16T13:39:20.626Z"
   },
   {
    "duration": 0,
    "start_time": "2022-12-16T13:39:20.627Z"
   },
   {
    "duration": 0,
    "start_time": "2022-12-16T13:39:20.628Z"
   },
   {
    "duration": 0,
    "start_time": "2022-12-16T13:39:20.629Z"
   },
   {
    "duration": 0,
    "start_time": "2022-12-16T13:39:20.630Z"
   },
   {
    "duration": 0,
    "start_time": "2022-12-16T13:39:20.631Z"
   },
   {
    "duration": 0,
    "start_time": "2022-12-16T13:39:20.632Z"
   },
   {
    "duration": 0,
    "start_time": "2022-12-16T13:39:20.633Z"
   },
   {
    "duration": 6,
    "start_time": "2022-12-16T13:39:51.557Z"
   },
   {
    "duration": 12,
    "start_time": "2022-12-16T13:39:58.191Z"
   },
   {
    "duration": 17,
    "start_time": "2022-12-16T13:40:26.474Z"
   },
   {
    "duration": 5,
    "start_time": "2022-12-16T13:40:30.158Z"
   },
   {
    "duration": 15,
    "start_time": "2022-12-16T13:40:33.490Z"
   },
   {
    "duration": 1205,
    "start_time": "2022-12-16T13:40:51.220Z"
   },
   {
    "duration": 68,
    "start_time": "2022-12-16T13:40:52.428Z"
   },
   {
    "duration": 19,
    "start_time": "2022-12-16T13:40:52.498Z"
   },
   {
    "duration": 7,
    "start_time": "2022-12-16T13:40:52.520Z"
   },
   {
    "duration": 20,
    "start_time": "2022-12-16T13:40:52.529Z"
   },
   {
    "duration": 35,
    "start_time": "2022-12-16T13:40:52.551Z"
   },
   {
    "duration": 15,
    "start_time": "2022-12-16T13:40:52.588Z"
   },
   {
    "duration": 15,
    "start_time": "2022-12-16T13:40:52.604Z"
   },
   {
    "duration": 26,
    "start_time": "2022-12-16T13:40:52.621Z"
   },
   {
    "duration": 3796,
    "start_time": "2022-12-16T13:40:52.650Z"
   },
   {
    "duration": 21,
    "start_time": "2022-12-16T13:40:56.448Z"
   },
   {
    "duration": 702,
    "start_time": "2022-12-16T13:40:56.471Z"
   },
   {
    "duration": 18,
    "start_time": "2022-12-16T13:40:57.175Z"
   },
   {
    "duration": 21,
    "start_time": "2022-12-16T13:40:57.194Z"
   },
   {
    "duration": 8,
    "start_time": "2022-12-16T13:40:57.217Z"
   },
   {
    "duration": 21,
    "start_time": "2022-12-16T13:40:57.227Z"
   },
   {
    "duration": 9,
    "start_time": "2022-12-16T13:40:57.250Z"
   },
   {
    "duration": 265,
    "start_time": "2022-12-16T13:40:57.261Z"
   },
   {
    "duration": 28,
    "start_time": "2022-12-16T13:40:57.530Z"
   },
   {
    "duration": 17,
    "start_time": "2022-12-16T13:40:57.559Z"
   },
   {
    "duration": 353,
    "start_time": "2022-12-16T13:40:57.578Z"
   },
   {
    "duration": 7,
    "start_time": "2022-12-16T13:40:57.933Z"
   },
   {
    "duration": 368,
    "start_time": "2022-12-16T13:40:57.941Z"
   },
   {
    "duration": 24,
    "start_time": "2022-12-16T13:40:58.311Z"
   },
   {
    "duration": 220,
    "start_time": "2022-12-16T13:40:58.336Z"
   },
   {
    "duration": 28,
    "start_time": "2022-12-16T13:40:58.558Z"
   },
   {
    "duration": 28,
    "start_time": "2022-12-16T13:40:58.588Z"
   },
   {
    "duration": 12,
    "start_time": "2022-12-16T13:40:58.621Z"
   },
   {
    "duration": 9,
    "start_time": "2022-12-16T13:40:58.635Z"
   },
   {
    "duration": 210,
    "start_time": "2022-12-16T13:40:58.646Z"
   },
   {
    "duration": 189,
    "start_time": "2022-12-16T13:40:58.857Z"
   },
   {
    "duration": 178,
    "start_time": "2022-12-16T13:40:59.047Z"
   },
   {
    "duration": 12,
    "start_time": "2022-12-16T13:40:59.227Z"
   },
   {
    "duration": 209,
    "start_time": "2022-12-16T13:40:59.241Z"
   },
   {
    "duration": 201,
    "start_time": "2022-12-16T13:40:59.451Z"
   },
   {
    "duration": 14,
    "start_time": "2022-12-16T13:40:59.654Z"
   },
   {
    "duration": 15,
    "start_time": "2022-12-16T13:40:59.669Z"
   },
   {
    "duration": 258,
    "start_time": "2022-12-16T13:40:59.686Z"
   },
   {
    "duration": 5,
    "start_time": "2022-12-16T13:40:59.946Z"
   },
   {
    "duration": 13,
    "start_time": "2022-12-16T13:40:59.953Z"
   },
   {
    "duration": 12,
    "start_time": "2022-12-16T13:40:59.968Z"
   },
   {
    "duration": 142,
    "start_time": "2022-12-16T13:40:59.981Z"
   },
   {
    "duration": 0,
    "start_time": "2022-12-16T13:41:00.125Z"
   },
   {
    "duration": 0,
    "start_time": "2022-12-16T13:41:00.126Z"
   },
   {
    "duration": 0,
    "start_time": "2022-12-16T13:41:00.127Z"
   },
   {
    "duration": 0,
    "start_time": "2022-12-16T13:41:00.128Z"
   },
   {
    "duration": 0,
    "start_time": "2022-12-16T13:41:00.129Z"
   },
   {
    "duration": 0,
    "start_time": "2022-12-16T13:41:00.130Z"
   },
   {
    "duration": 0,
    "start_time": "2022-12-16T13:41:00.131Z"
   },
   {
    "duration": 0,
    "start_time": "2022-12-16T13:41:00.132Z"
   },
   {
    "duration": 14,
    "start_time": "2022-12-16T13:41:39.456Z"
   },
   {
    "duration": 33,
    "start_time": "2022-12-16T13:41:48.990Z"
   },
   {
    "duration": 240,
    "start_time": "2022-12-16T13:41:52.174Z"
   },
   {
    "duration": 15,
    "start_time": "2022-12-16T13:42:26.672Z"
   },
   {
    "duration": 18,
    "start_time": "2022-12-16T13:44:26.341Z"
   },
   {
    "duration": 15,
    "start_time": "2022-12-16T13:44:30.456Z"
   },
   {
    "duration": 16,
    "start_time": "2022-12-16T13:44:53.941Z"
   },
   {
    "duration": 281,
    "start_time": "2022-12-16T13:44:58.390Z"
   },
   {
    "duration": 17,
    "start_time": "2022-12-16T13:45:32.055Z"
   },
   {
    "duration": 16,
    "start_time": "2022-12-16T13:46:40.541Z"
   },
   {
    "duration": 14,
    "start_time": "2022-12-16T13:47:05.658Z"
   },
   {
    "duration": 13,
    "start_time": "2022-12-16T13:49:09.208Z"
   },
   {
    "duration": 15,
    "start_time": "2022-12-16T13:50:26.374Z"
   },
   {
    "duration": 186,
    "start_time": "2022-12-16T13:51:00.625Z"
   },
   {
    "duration": 21,
    "start_time": "2022-12-16T13:54:03.209Z"
   },
   {
    "duration": 14,
    "start_time": "2022-12-16T13:55:32.858Z"
   },
   {
    "duration": 16,
    "start_time": "2022-12-16T13:56:12.759Z"
   },
   {
    "duration": 16,
    "start_time": "2022-12-16T13:57:50.775Z"
   },
   {
    "duration": 16,
    "start_time": "2022-12-16T13:58:12.357Z"
   },
   {
    "duration": 22,
    "start_time": "2022-12-16T13:58:19.041Z"
   },
   {
    "duration": 14,
    "start_time": "2022-12-16T13:59:01.946Z"
   },
   {
    "duration": 119,
    "start_time": "2022-12-16T13:59:07.408Z"
   },
   {
    "duration": 14,
    "start_time": "2022-12-16T14:00:49.024Z"
   },
   {
    "duration": 14,
    "start_time": "2022-12-16T14:04:30.658Z"
   },
   {
    "duration": 15,
    "start_time": "2022-12-16T14:06:40.241Z"
   },
   {
    "duration": 16,
    "start_time": "2022-12-16T14:07:19.475Z"
   },
   {
    "duration": 16,
    "start_time": "2022-12-16T14:09:02.192Z"
   },
   {
    "duration": 17,
    "start_time": "2022-12-16T14:11:01.110Z"
   },
   {
    "duration": 241,
    "start_time": "2022-12-16T14:18:08.758Z"
   },
   {
    "duration": 275,
    "start_time": "2022-12-16T14:18:33.625Z"
   },
   {
    "duration": 172,
    "start_time": "2022-12-16T14:19:14.400Z"
   },
   {
    "duration": 2,
    "start_time": "2022-12-16T14:41:43.625Z"
   },
   {
    "duration": 3,
    "start_time": "2022-12-16T14:42:04.394Z"
   },
   {
    "duration": 1175,
    "start_time": "2022-12-16T14:42:14.087Z"
   },
   {
    "duration": 76,
    "start_time": "2022-12-16T14:42:15.264Z"
   },
   {
    "duration": 17,
    "start_time": "2022-12-16T14:42:15.341Z"
   },
   {
    "duration": 3,
    "start_time": "2022-12-16T14:42:15.360Z"
   },
   {
    "duration": 8,
    "start_time": "2022-12-16T14:42:15.364Z"
   },
   {
    "duration": 15,
    "start_time": "2022-12-16T14:42:15.374Z"
   },
   {
    "duration": 19,
    "start_time": "2022-12-16T14:42:15.390Z"
   },
   {
    "duration": 8,
    "start_time": "2022-12-16T14:42:15.410Z"
   },
   {
    "duration": 14,
    "start_time": "2022-12-16T14:42:15.419Z"
   },
   {
    "duration": 4058,
    "start_time": "2022-12-16T14:42:15.435Z"
   },
   {
    "duration": 17,
    "start_time": "2022-12-16T14:42:19.495Z"
   },
   {
    "duration": 618,
    "start_time": "2022-12-16T14:42:19.514Z"
   },
   {
    "duration": 20,
    "start_time": "2022-12-16T14:42:20.134Z"
   },
   {
    "duration": 9,
    "start_time": "2022-12-16T14:42:20.156Z"
   },
   {
    "duration": 11,
    "start_time": "2022-12-16T14:42:20.166Z"
   },
   {
    "duration": 45,
    "start_time": "2022-12-16T14:42:20.178Z"
   },
   {
    "duration": 9,
    "start_time": "2022-12-16T14:42:20.225Z"
   },
   {
    "duration": 197,
    "start_time": "2022-12-16T14:42:20.236Z"
   },
   {
    "duration": 18,
    "start_time": "2022-12-16T14:42:20.435Z"
   },
   {
    "duration": 7,
    "start_time": "2022-12-16T14:42:20.454Z"
   },
   {
    "duration": 376,
    "start_time": "2022-12-16T14:42:20.462Z"
   },
   {
    "duration": 8,
    "start_time": "2022-12-16T14:42:20.839Z"
   },
   {
    "duration": 374,
    "start_time": "2022-12-16T14:42:20.848Z"
   },
   {
    "duration": 21,
    "start_time": "2022-12-16T14:42:21.223Z"
   },
   {
    "duration": 201,
    "start_time": "2022-12-16T14:42:21.245Z"
   },
   {
    "duration": 31,
    "start_time": "2022-12-16T14:42:21.447Z"
   },
   {
    "duration": 36,
    "start_time": "2022-12-16T14:42:21.479Z"
   },
   {
    "duration": 25,
    "start_time": "2022-12-16T14:42:21.518Z"
   },
   {
    "duration": 13,
    "start_time": "2022-12-16T14:42:21.544Z"
   },
   {
    "duration": 168,
    "start_time": "2022-12-16T14:42:21.559Z"
   },
   {
    "duration": 188,
    "start_time": "2022-12-16T14:42:21.729Z"
   },
   {
    "duration": 176,
    "start_time": "2022-12-16T14:42:21.919Z"
   },
   {
    "duration": 15,
    "start_time": "2022-12-16T14:42:22.096Z"
   },
   {
    "duration": 195,
    "start_time": "2022-12-16T14:42:22.113Z"
   },
   {
    "duration": 227,
    "start_time": "2022-12-16T14:42:22.310Z"
   },
   {
    "duration": 17,
    "start_time": "2022-12-16T14:42:22.539Z"
   },
   {
    "duration": 21,
    "start_time": "2022-12-16T14:42:22.558Z"
   },
   {
    "duration": 227,
    "start_time": "2022-12-16T14:42:22.581Z"
   },
   {
    "duration": 6,
    "start_time": "2022-12-16T14:42:22.809Z"
   },
   {
    "duration": 20,
    "start_time": "2022-12-16T14:42:22.817Z"
   },
   {
    "duration": 22,
    "start_time": "2022-12-16T14:42:22.838Z"
   },
   {
    "duration": 16,
    "start_time": "2022-12-16T14:42:22.862Z"
   },
   {
    "duration": 34,
    "start_time": "2022-12-16T14:42:22.879Z"
   },
   {
    "duration": 14,
    "start_time": "2022-12-16T14:42:22.915Z"
   },
   {
    "duration": 17,
    "start_time": "2022-12-16T14:42:22.931Z"
   },
   {
    "duration": 13,
    "start_time": "2022-12-16T14:42:22.950Z"
   },
   {
    "duration": 42,
    "start_time": "2022-12-16T14:42:22.964Z"
   },
   {
    "duration": 16,
    "start_time": "2022-12-16T14:42:23.007Z"
   },
   {
    "duration": 18,
    "start_time": "2022-12-16T14:42:23.025Z"
   },
   {
    "duration": 252,
    "start_time": "2022-12-16T14:42:23.045Z"
   },
   {
    "duration": 23,
    "start_time": "2022-12-16T14:42:23.298Z"
   },
   {
    "duration": 279,
    "start_time": "2022-12-16T14:42:23.322Z"
   },
   {
    "duration": 17,
    "start_time": "2022-12-16T14:42:23.602Z"
   },
   {
    "duration": 13,
    "start_time": "2022-12-16T14:42:23.620Z"
   },
   {
    "duration": 15,
    "start_time": "2022-12-16T14:42:23.634Z"
   },
   {
    "duration": 16,
    "start_time": "2022-12-16T14:42:23.650Z"
   },
   {
    "duration": 213,
    "start_time": "2022-12-16T14:42:23.667Z"
   },
   {
    "duration": 4,
    "start_time": "2022-12-16T14:42:23.881Z"
   },
   {
    "duration": 1196,
    "start_time": "2022-12-16T14:57:15.843Z"
   },
   {
    "duration": 4,
    "start_time": "2022-12-16T14:57:30.194Z"
   },
   {
    "duration": 32,
    "start_time": "2022-12-16T14:57:37.494Z"
   },
   {
    "duration": 4,
    "start_time": "2022-12-16T14:57:45.628Z"
   },
   {
    "duration": 5,
    "start_time": "2022-12-16T14:58:26.928Z"
   },
   {
    "duration": 6,
    "start_time": "2022-12-16T14:59:37.677Z"
   },
   {
    "duration": 8,
    "start_time": "2022-12-16T15:02:32.443Z"
   },
   {
    "duration": 7,
    "start_time": "2022-12-16T15:03:17.227Z"
   },
   {
    "duration": 3,
    "start_time": "2022-12-16T15:04:03.311Z"
   },
   {
    "duration": 6,
    "start_time": "2022-12-16T15:04:33.494Z"
   },
   {
    "duration": 3,
    "start_time": "2022-12-16T15:04:39.027Z"
   },
   {
    "duration": 3,
    "start_time": "2022-12-16T15:05:18.495Z"
   },
   {
    "duration": 6,
    "start_time": "2022-12-16T15:09:27.664Z"
   },
   {
    "duration": 4,
    "start_time": "2022-12-16T15:09:36.762Z"
   },
   {
    "duration": 5,
    "start_time": "2022-12-16T15:10:07.961Z"
   },
   {
    "duration": 5,
    "start_time": "2022-12-16T15:10:17.910Z"
   },
   {
    "duration": 5,
    "start_time": "2022-12-16T15:11:34.794Z"
   },
   {
    "duration": 6,
    "start_time": "2022-12-16T15:11:56.174Z"
   },
   {
    "duration": 6,
    "start_time": "2022-12-16T15:12:30.592Z"
   },
   {
    "duration": 5,
    "start_time": "2022-12-16T15:13:14.211Z"
   },
   {
    "duration": 15,
    "start_time": "2022-12-16T15:14:18.961Z"
   },
   {
    "duration": 6,
    "start_time": "2022-12-16T15:17:57.109Z"
   },
   {
    "duration": 5,
    "start_time": "2022-12-16T15:24:27.229Z"
   },
   {
    "duration": 5,
    "start_time": "2022-12-16T15:25:58.112Z"
   },
   {
    "duration": 5,
    "start_time": "2022-12-16T15:26:00.244Z"
   },
   {
    "duration": 5,
    "start_time": "2022-12-16T15:26:27.845Z"
   },
   {
    "duration": 7,
    "start_time": "2022-12-16T15:26:37.480Z"
   },
   {
    "duration": 76,
    "start_time": "2022-12-16T15:26:39.544Z"
   },
   {
    "duration": 6,
    "start_time": "2022-12-16T15:27:38.275Z"
   },
   {
    "duration": 5,
    "start_time": "2022-12-16T15:27:44.476Z"
   },
   {
    "duration": 95,
    "start_time": "2022-12-16T15:29:28.894Z"
   },
   {
    "duration": 5,
    "start_time": "2022-12-16T15:29:36.345Z"
   },
   {
    "duration": 6,
    "start_time": "2022-12-16T15:30:32.145Z"
   },
   {
    "duration": 5,
    "start_time": "2022-12-16T15:30:45.845Z"
   },
   {
    "duration": 5,
    "start_time": "2022-12-16T15:30:53.079Z"
   },
   {
    "duration": 5,
    "start_time": "2022-12-16T15:31:06.577Z"
   },
   {
    "duration": 5,
    "start_time": "2022-12-16T15:31:49.395Z"
   },
   {
    "duration": 71,
    "start_time": "2022-12-16T15:32:27.779Z"
   },
   {
    "duration": 1170,
    "start_time": "2022-12-16T15:35:20.360Z"
   },
   {
    "duration": 68,
    "start_time": "2022-12-16T15:35:21.532Z"
   },
   {
    "duration": 16,
    "start_time": "2022-12-16T15:35:21.601Z"
   },
   {
    "duration": 2,
    "start_time": "2022-12-16T15:35:21.619Z"
   },
   {
    "duration": 9,
    "start_time": "2022-12-16T15:35:21.623Z"
   },
   {
    "duration": 16,
    "start_time": "2022-12-16T15:35:21.633Z"
   },
   {
    "duration": 9,
    "start_time": "2022-12-16T15:35:21.651Z"
   },
   {
    "duration": 7,
    "start_time": "2022-12-16T15:35:21.661Z"
   },
   {
    "duration": 10,
    "start_time": "2022-12-16T15:35:21.670Z"
   },
   {
    "duration": 3705,
    "start_time": "2022-12-16T15:35:21.705Z"
   },
   {
    "duration": 18,
    "start_time": "2022-12-16T15:35:25.412Z"
   },
   {
    "duration": 562,
    "start_time": "2022-12-16T15:35:25.432Z"
   },
   {
    "duration": 25,
    "start_time": "2022-12-16T15:35:25.996Z"
   },
   {
    "duration": 9,
    "start_time": "2022-12-16T15:35:26.023Z"
   },
   {
    "duration": 7,
    "start_time": "2022-12-16T15:35:26.034Z"
   },
   {
    "duration": 14,
    "start_time": "2022-12-16T15:35:26.043Z"
   },
   {
    "duration": 8,
    "start_time": "2022-12-16T15:35:26.058Z"
   },
   {
    "duration": 205,
    "start_time": "2022-12-16T15:35:26.068Z"
   },
   {
    "duration": 18,
    "start_time": "2022-12-16T15:35:26.275Z"
   },
   {
    "duration": 15,
    "start_time": "2022-12-16T15:35:26.294Z"
   },
   {
    "duration": 304,
    "start_time": "2022-12-16T15:35:26.310Z"
   },
   {
    "duration": 6,
    "start_time": "2022-12-16T15:35:26.616Z"
   },
   {
    "duration": 299,
    "start_time": "2022-12-16T15:35:26.623Z"
   },
   {
    "duration": 19,
    "start_time": "2022-12-16T15:35:26.924Z"
   },
   {
    "duration": 188,
    "start_time": "2022-12-16T15:35:26.945Z"
   },
   {
    "duration": 29,
    "start_time": "2022-12-16T15:35:27.134Z"
   },
   {
    "duration": 18,
    "start_time": "2022-12-16T15:35:27.165Z"
   },
   {
    "duration": 8,
    "start_time": "2022-12-16T15:35:27.204Z"
   },
   {
    "duration": 6,
    "start_time": "2022-12-16T15:35:27.214Z"
   },
   {
    "duration": 177,
    "start_time": "2022-12-16T15:35:27.222Z"
   },
   {
    "duration": 200,
    "start_time": "2022-12-16T15:35:27.404Z"
   },
   {
    "duration": 170,
    "start_time": "2022-12-16T15:35:27.606Z"
   },
   {
    "duration": 9,
    "start_time": "2022-12-16T15:35:27.777Z"
   },
   {
    "duration": 186,
    "start_time": "2022-12-16T15:35:27.788Z"
   },
   {
    "duration": 188,
    "start_time": "2022-12-16T15:35:27.976Z"
   },
   {
    "duration": 15,
    "start_time": "2022-12-16T15:35:28.165Z"
   },
   {
    "duration": 35,
    "start_time": "2022-12-16T15:35:28.181Z"
   },
   {
    "duration": 243,
    "start_time": "2022-12-16T15:35:28.218Z"
   },
   {
    "duration": 8,
    "start_time": "2022-12-16T15:35:28.464Z"
   },
   {
    "duration": 30,
    "start_time": "2022-12-16T15:35:28.474Z"
   },
   {
    "duration": 14,
    "start_time": "2022-12-16T15:35:28.508Z"
   },
   {
    "duration": 16,
    "start_time": "2022-12-16T15:35:28.524Z"
   },
   {
    "duration": 13,
    "start_time": "2022-12-16T15:35:28.542Z"
   },
   {
    "duration": 13,
    "start_time": "2022-12-16T15:35:28.557Z"
   },
   {
    "duration": 45,
    "start_time": "2022-12-16T15:35:28.572Z"
   },
   {
    "duration": 13,
    "start_time": "2022-12-16T15:35:28.619Z"
   },
   {
    "duration": 13,
    "start_time": "2022-12-16T15:35:28.633Z"
   },
   {
    "duration": 23,
    "start_time": "2022-12-16T15:35:28.648Z"
   },
   {
    "duration": 40,
    "start_time": "2022-12-16T15:35:28.673Z"
   },
   {
    "duration": 231,
    "start_time": "2022-12-16T15:35:28.714Z"
   },
   {
    "duration": 16,
    "start_time": "2022-12-16T15:35:28.946Z"
   },
   {
    "duration": 260,
    "start_time": "2022-12-16T15:35:28.963Z"
   },
   {
    "duration": 13,
    "start_time": "2022-12-16T15:35:29.225Z"
   },
   {
    "duration": 12,
    "start_time": "2022-12-16T15:35:29.240Z"
   },
   {
    "duration": 12,
    "start_time": "2022-12-16T15:35:29.253Z"
   },
   {
    "duration": 39,
    "start_time": "2022-12-16T15:35:29.266Z"
   },
   {
    "duration": 182,
    "start_time": "2022-12-16T15:35:29.307Z"
   },
   {
    "duration": 8,
    "start_time": "2022-12-16T15:35:29.491Z"
   },
   {
    "duration": 6,
    "start_time": "2022-12-16T15:35:29.505Z"
   },
   {
    "duration": 7,
    "start_time": "2022-12-16T15:35:29.512Z"
   },
   {
    "duration": 6,
    "start_time": "2022-12-16T15:35:29.520Z"
   },
   {
    "duration": 6,
    "start_time": "2022-12-16T15:37:55.179Z"
   },
   {
    "duration": 6,
    "start_time": "2022-12-16T15:38:08.179Z"
   },
   {
    "duration": 5,
    "start_time": "2022-12-16T15:38:11.578Z"
   },
   {
    "duration": 6,
    "start_time": "2022-12-16T15:39:05.127Z"
   },
   {
    "duration": 6,
    "start_time": "2022-12-16T15:39:08.844Z"
   },
   {
    "duration": 12,
    "start_time": "2022-12-16T16:30:49.021Z"
   },
   {
    "duration": 1257,
    "start_time": "2022-12-16T16:30:55.502Z"
   },
   {
    "duration": 71,
    "start_time": "2022-12-16T16:30:56.761Z"
   },
   {
    "duration": 16,
    "start_time": "2022-12-16T16:30:56.834Z"
   },
   {
    "duration": 17,
    "start_time": "2022-12-16T16:30:56.852Z"
   },
   {
    "duration": 18,
    "start_time": "2022-12-16T16:30:56.871Z"
   },
   {
    "duration": 28,
    "start_time": "2022-12-16T16:30:56.891Z"
   },
   {
    "duration": 18,
    "start_time": "2022-12-16T16:30:56.921Z"
   },
   {
    "duration": 7,
    "start_time": "2022-12-16T16:30:56.941Z"
   },
   {
    "duration": 11,
    "start_time": "2022-12-16T16:30:56.950Z"
   },
   {
    "duration": 17,
    "start_time": "2022-12-16T16:30:56.964Z"
   },
   {
    "duration": 696,
    "start_time": "2022-12-16T16:30:56.983Z"
   },
   {
    "duration": 17,
    "start_time": "2022-12-16T16:30:57.680Z"
   },
   {
    "duration": 17,
    "start_time": "2022-12-16T16:30:57.704Z"
   },
   {
    "duration": 10,
    "start_time": "2022-12-16T16:30:57.723Z"
   },
   {
    "duration": 15,
    "start_time": "2022-12-16T16:30:57.735Z"
   },
   {
    "duration": 8,
    "start_time": "2022-12-16T16:30:57.752Z"
   },
   {
    "duration": 206,
    "start_time": "2022-12-16T16:30:57.762Z"
   },
   {
    "duration": 19,
    "start_time": "2022-12-16T16:30:57.970Z"
   },
   {
    "duration": 28,
    "start_time": "2022-12-16T16:30:57.990Z"
   },
   {
    "duration": 345,
    "start_time": "2022-12-16T16:30:58.021Z"
   },
   {
    "duration": 6,
    "start_time": "2022-12-16T16:30:58.368Z"
   },
   {
    "duration": 218,
    "start_time": "2022-12-16T16:30:58.375Z"
   },
   {
    "duration": 31,
    "start_time": "2022-12-16T16:30:58.595Z"
   },
   {
    "duration": 193,
    "start_time": "2022-12-16T16:30:58.627Z"
   },
   {
    "duration": 30,
    "start_time": "2022-12-16T16:30:58.822Z"
   },
   {
    "duration": 18,
    "start_time": "2022-12-16T16:30:58.853Z"
   },
   {
    "duration": 37,
    "start_time": "2022-12-16T16:30:58.873Z"
   },
   {
    "duration": 5,
    "start_time": "2022-12-16T16:30:58.917Z"
   },
   {
    "duration": 161,
    "start_time": "2022-12-16T16:30:58.924Z"
   },
   {
    "duration": 150,
    "start_time": "2022-12-16T16:30:59.087Z"
   },
   {
    "duration": 258,
    "start_time": "2022-12-16T16:30:59.239Z"
   },
   {
    "duration": 18,
    "start_time": "2022-12-16T16:30:59.499Z"
   },
   {
    "duration": 194,
    "start_time": "2022-12-16T16:30:59.521Z"
   },
   {
    "duration": 195,
    "start_time": "2022-12-16T16:30:59.719Z"
   },
   {
    "duration": 16,
    "start_time": "2022-12-16T16:30:59.916Z"
   },
   {
    "duration": 13,
    "start_time": "2022-12-16T16:30:59.934Z"
   },
   {
    "duration": 234,
    "start_time": "2022-12-16T16:30:59.949Z"
   },
   {
    "duration": 7,
    "start_time": "2022-12-16T16:31:00.185Z"
   },
   {
    "duration": 23,
    "start_time": "2022-12-16T16:31:00.206Z"
   },
   {
    "duration": 15,
    "start_time": "2022-12-16T16:31:00.230Z"
   },
   {
    "duration": 25,
    "start_time": "2022-12-16T16:31:00.246Z"
   },
   {
    "duration": 24,
    "start_time": "2022-12-16T16:31:00.273Z"
   },
   {
    "duration": 42,
    "start_time": "2022-12-16T16:31:00.298Z"
   },
   {
    "duration": 23,
    "start_time": "2022-12-16T16:31:00.341Z"
   },
   {
    "duration": 27,
    "start_time": "2022-12-16T16:31:00.365Z"
   },
   {
    "duration": 33,
    "start_time": "2022-12-16T16:31:00.394Z"
   },
   {
    "duration": 34,
    "start_time": "2022-12-16T16:31:00.429Z"
   },
   {
    "duration": 28,
    "start_time": "2022-12-16T16:31:00.465Z"
   },
   {
    "duration": 377,
    "start_time": "2022-12-16T16:31:00.495Z"
   },
   {
    "duration": 20,
    "start_time": "2022-12-16T16:31:00.874Z"
   },
   {
    "duration": 313,
    "start_time": "2022-12-16T16:31:00.895Z"
   },
   {
    "duration": 19,
    "start_time": "2022-12-16T16:31:01.218Z"
   },
   {
    "duration": 30,
    "start_time": "2022-12-16T16:31:01.239Z"
   },
   {
    "duration": 31,
    "start_time": "2022-12-16T16:31:01.271Z"
   },
   {
    "duration": 41,
    "start_time": "2022-12-16T16:31:01.303Z"
   },
   {
    "duration": 195,
    "start_time": "2022-12-16T16:31:01.346Z"
   },
   {
    "duration": 5,
    "start_time": "2022-12-16T16:31:01.542Z"
   },
   {
    "duration": 17,
    "start_time": "2022-12-16T16:31:01.548Z"
   },
   {
    "duration": 8,
    "start_time": "2022-12-16T16:31:01.566Z"
   },
   {
    "duration": 10,
    "start_time": "2022-12-16T16:31:01.575Z"
   },
   {
    "duration": 24,
    "start_time": "2022-12-16T16:31:33.663Z"
   },
   {
    "duration": 16,
    "start_time": "2022-12-16T16:32:01.798Z"
   },
   {
    "duration": 14,
    "start_time": "2022-12-16T16:32:07.363Z"
   },
   {
    "duration": 23,
    "start_time": "2022-12-16T16:32:09.866Z"
   },
   {
    "duration": 1098,
    "start_time": "2022-12-16T16:32:15.554Z"
   },
   {
    "duration": 70,
    "start_time": "2022-12-16T16:32:16.654Z"
   },
   {
    "duration": 17,
    "start_time": "2022-12-16T16:32:16.726Z"
   },
   {
    "duration": 3,
    "start_time": "2022-12-16T16:32:16.746Z"
   },
   {
    "duration": 8,
    "start_time": "2022-12-16T16:32:16.751Z"
   },
   {
    "duration": 9,
    "start_time": "2022-12-16T16:32:16.760Z"
   },
   {
    "duration": 8,
    "start_time": "2022-12-16T16:32:16.770Z"
   },
   {
    "duration": 12,
    "start_time": "2022-12-16T16:32:16.809Z"
   },
   {
    "duration": 12,
    "start_time": "2022-12-16T16:32:16.823Z"
   },
   {
    "duration": 16,
    "start_time": "2022-12-16T16:32:16.838Z"
   },
   {
    "duration": 707,
    "start_time": "2022-12-16T16:32:16.856Z"
   },
   {
    "duration": 23,
    "start_time": "2022-12-16T16:32:17.564Z"
   },
   {
    "duration": 40,
    "start_time": "2022-12-16T16:32:17.589Z"
   },
   {
    "duration": 14,
    "start_time": "2022-12-16T16:32:17.631Z"
   },
   {
    "duration": 17,
    "start_time": "2022-12-16T16:32:17.646Z"
   },
   {
    "duration": 22,
    "start_time": "2022-12-16T16:32:17.665Z"
   },
   {
    "duration": 27,
    "start_time": "2022-12-16T16:32:17.689Z"
   },
   {
    "duration": 194,
    "start_time": "2022-12-16T16:32:17.718Z"
   },
   {
    "duration": 22,
    "start_time": "2022-12-16T16:32:17.914Z"
   },
   {
    "duration": 7,
    "start_time": "2022-12-16T16:32:17.938Z"
   },
   {
    "duration": 399,
    "start_time": "2022-12-16T16:32:17.947Z"
   },
   {
    "duration": 7,
    "start_time": "2022-12-16T16:32:18.347Z"
   },
   {
    "duration": 218,
    "start_time": "2022-12-16T16:32:18.356Z"
   },
   {
    "duration": 31,
    "start_time": "2022-12-16T16:32:18.576Z"
   },
   {
    "duration": 201,
    "start_time": "2022-12-16T16:32:18.609Z"
   },
   {
    "duration": 33,
    "start_time": "2022-12-16T16:32:18.816Z"
   },
   {
    "duration": 18,
    "start_time": "2022-12-16T16:32:18.851Z"
   },
   {
    "duration": 6,
    "start_time": "2022-12-16T16:32:18.873Z"
   },
   {
    "duration": 7,
    "start_time": "2022-12-16T16:32:18.881Z"
   },
   {
    "duration": 162,
    "start_time": "2022-12-16T16:32:18.909Z"
   },
   {
    "duration": 169,
    "start_time": "2022-12-16T16:32:19.073Z"
   },
   {
    "duration": 282,
    "start_time": "2022-12-16T16:32:19.243Z"
   },
   {
    "duration": 9,
    "start_time": "2022-12-16T16:32:19.527Z"
   },
   {
    "duration": 187,
    "start_time": "2022-12-16T16:32:19.538Z"
   },
   {
    "duration": 204,
    "start_time": "2022-12-16T16:32:19.726Z"
   },
   {
    "duration": 14,
    "start_time": "2022-12-16T16:32:19.931Z"
   },
   {
    "duration": 16,
    "start_time": "2022-12-16T16:32:19.947Z"
   },
   {
    "duration": 235,
    "start_time": "2022-12-16T16:32:19.964Z"
   },
   {
    "duration": 7,
    "start_time": "2022-12-16T16:32:20.207Z"
   },
   {
    "duration": 28,
    "start_time": "2022-12-16T16:32:20.216Z"
   },
   {
    "duration": 13,
    "start_time": "2022-12-16T16:32:20.245Z"
   },
   {
    "duration": 17,
    "start_time": "2022-12-16T16:32:20.259Z"
   },
   {
    "duration": 12,
    "start_time": "2022-12-16T16:32:20.278Z"
   },
   {
    "duration": 28,
    "start_time": "2022-12-16T16:32:20.291Z"
   },
   {
    "duration": 17,
    "start_time": "2022-12-16T16:32:20.321Z"
   },
   {
    "duration": 12,
    "start_time": "2022-12-16T16:32:20.340Z"
   },
   {
    "duration": 22,
    "start_time": "2022-12-16T16:32:20.353Z"
   },
   {
    "duration": 40,
    "start_time": "2022-12-16T16:32:20.376Z"
   },
   {
    "duration": 19,
    "start_time": "2022-12-16T16:32:20.418Z"
   },
   {
    "duration": 234,
    "start_time": "2022-12-16T16:32:20.438Z"
   },
   {
    "duration": 16,
    "start_time": "2022-12-16T16:32:20.674Z"
   },
   {
    "duration": 274,
    "start_time": "2022-12-16T16:32:20.713Z"
   },
   {
    "duration": 27,
    "start_time": "2022-12-16T16:32:20.989Z"
   },
   {
    "duration": 20,
    "start_time": "2022-12-16T16:32:21.018Z"
   },
   {
    "duration": 13,
    "start_time": "2022-12-16T16:32:21.040Z"
   },
   {
    "duration": 14,
    "start_time": "2022-12-16T16:32:21.055Z"
   },
   {
    "duration": 215,
    "start_time": "2022-12-16T16:32:21.071Z"
   },
   {
    "duration": 5,
    "start_time": "2022-12-16T16:32:21.288Z"
   },
   {
    "duration": 29,
    "start_time": "2022-12-16T16:32:21.294Z"
   },
   {
    "duration": 9,
    "start_time": "2022-12-16T16:32:21.324Z"
   },
   {
    "duration": 10,
    "start_time": "2022-12-16T16:32:21.335Z"
   },
   {
    "duration": 8,
    "start_time": "2022-12-16T16:40:14.319Z"
   },
   {
    "duration": 7,
    "start_time": "2022-12-16T16:40:18.481Z"
   },
   {
    "duration": 114,
    "start_time": "2022-12-16T16:40:24.347Z"
   },
   {
    "duration": 8,
    "start_time": "2022-12-16T16:40:44.331Z"
   },
   {
    "duration": 6,
    "start_time": "2022-12-16T16:40:46.264Z"
   },
   {
    "duration": 15,
    "start_time": "2022-12-16T16:40:50.449Z"
   },
   {
    "duration": 7,
    "start_time": "2022-12-16T16:41:07.781Z"
   },
   {
    "duration": 5,
    "start_time": "2022-12-16T16:41:10.179Z"
   },
   {
    "duration": 14,
    "start_time": "2022-12-16T16:41:13.481Z"
   },
   {
    "duration": 7,
    "start_time": "2022-12-16T16:41:19.598Z"
   },
   {
    "duration": 15,
    "start_time": "2022-12-16T16:41:22.798Z"
   },
   {
    "duration": 1294,
    "start_time": "2022-12-16T16:41:28.280Z"
   },
   {
    "duration": 68,
    "start_time": "2022-12-16T16:41:29.577Z"
   },
   {
    "duration": 19,
    "start_time": "2022-12-16T16:41:29.646Z"
   },
   {
    "duration": 22,
    "start_time": "2022-12-16T16:41:29.667Z"
   },
   {
    "duration": 48,
    "start_time": "2022-12-16T16:41:29.692Z"
   },
   {
    "duration": 21,
    "start_time": "2022-12-16T16:41:29.742Z"
   },
   {
    "duration": 29,
    "start_time": "2022-12-16T16:41:29.765Z"
   },
   {
    "duration": 31,
    "start_time": "2022-12-16T16:41:29.796Z"
   },
   {
    "duration": 32,
    "start_time": "2022-12-16T16:41:29.829Z"
   },
   {
    "duration": 28,
    "start_time": "2022-12-16T16:41:29.863Z"
   },
   {
    "duration": 648,
    "start_time": "2022-12-16T16:41:29.893Z"
   },
   {
    "duration": 20,
    "start_time": "2022-12-16T16:41:30.543Z"
   },
   {
    "duration": 39,
    "start_time": "2022-12-16T16:41:30.565Z"
   },
   {
    "duration": 26,
    "start_time": "2022-12-16T16:41:30.607Z"
   },
   {
    "duration": 24,
    "start_time": "2022-12-16T16:41:30.635Z"
   },
   {
    "duration": 41,
    "start_time": "2022-12-16T16:41:30.661Z"
   },
   {
    "duration": 43,
    "start_time": "2022-12-16T16:41:30.704Z"
   },
   {
    "duration": 255,
    "start_time": "2022-12-16T16:41:30.749Z"
   },
   {
    "duration": 20,
    "start_time": "2022-12-16T16:41:31.006Z"
   },
   {
    "duration": 27,
    "start_time": "2022-12-16T16:41:31.027Z"
   },
   {
    "duration": 551,
    "start_time": "2022-12-16T16:41:31.056Z"
   },
   {
    "duration": 7,
    "start_time": "2022-12-16T16:41:31.608Z"
   },
   {
    "duration": 273,
    "start_time": "2022-12-16T16:41:31.617Z"
   },
   {
    "duration": 30,
    "start_time": "2022-12-16T16:41:31.892Z"
   },
   {
    "duration": 196,
    "start_time": "2022-12-16T16:41:31.923Z"
   },
   {
    "duration": 36,
    "start_time": "2022-12-16T16:41:32.121Z"
   },
   {
    "duration": 29,
    "start_time": "2022-12-16T16:41:32.158Z"
   },
   {
    "duration": 35,
    "start_time": "2022-12-16T16:41:32.189Z"
   },
   {
    "duration": 12,
    "start_time": "2022-12-16T16:41:32.226Z"
   },
   {
    "duration": 181,
    "start_time": "2022-12-16T16:41:32.240Z"
   },
   {
    "duration": 156,
    "start_time": "2022-12-16T16:41:32.423Z"
   },
   {
    "duration": 288,
    "start_time": "2022-12-16T16:41:32.581Z"
   },
   {
    "duration": 9,
    "start_time": "2022-12-16T16:41:32.872Z"
   },
   {
    "duration": 195,
    "start_time": "2022-12-16T16:41:32.883Z"
   },
   {
    "duration": 194,
    "start_time": "2022-12-16T16:41:33.080Z"
   },
   {
    "duration": 13,
    "start_time": "2022-12-16T16:41:33.276Z"
   },
   {
    "duration": 25,
    "start_time": "2022-12-16T16:41:33.290Z"
   },
   {
    "duration": 213,
    "start_time": "2022-12-16T16:41:33.317Z"
   },
   {
    "duration": 5,
    "start_time": "2022-12-16T16:41:33.532Z"
   },
   {
    "duration": 20,
    "start_time": "2022-12-16T16:41:33.538Z"
   },
   {
    "duration": 13,
    "start_time": "2022-12-16T16:41:33.561Z"
   },
   {
    "duration": 33,
    "start_time": "2022-12-16T16:41:33.576Z"
   },
   {
    "duration": 14,
    "start_time": "2022-12-16T16:41:33.611Z"
   },
   {
    "duration": 19,
    "start_time": "2022-12-16T16:41:33.626Z"
   },
   {
    "duration": 16,
    "start_time": "2022-12-16T16:41:33.647Z"
   },
   {
    "duration": 12,
    "start_time": "2022-12-16T16:41:33.665Z"
   },
   {
    "duration": 20,
    "start_time": "2022-12-16T16:41:33.705Z"
   },
   {
    "duration": 23,
    "start_time": "2022-12-16T16:41:33.727Z"
   },
   {
    "duration": 20,
    "start_time": "2022-12-16T16:41:33.752Z"
   },
   {
    "duration": 249,
    "start_time": "2022-12-16T16:41:33.773Z"
   },
   {
    "duration": 16,
    "start_time": "2022-12-16T16:41:34.024Z"
   },
   {
    "duration": 289,
    "start_time": "2022-12-16T16:41:34.042Z"
   },
   {
    "duration": 17,
    "start_time": "2022-12-16T16:41:34.332Z"
   },
   {
    "duration": 21,
    "start_time": "2022-12-16T16:41:34.351Z"
   },
   {
    "duration": 13,
    "start_time": "2022-12-16T16:41:34.373Z"
   },
   {
    "duration": 30,
    "start_time": "2022-12-16T16:41:34.388Z"
   },
   {
    "duration": 280,
    "start_time": "2022-12-16T16:41:34.420Z"
   },
   {
    "duration": 6,
    "start_time": "2022-12-16T16:41:34.701Z"
   },
   {
    "duration": 9,
    "start_time": "2022-12-16T16:41:34.709Z"
   },
   {
    "duration": 12,
    "start_time": "2022-12-16T16:41:34.720Z"
   },
   {
    "duration": 9,
    "start_time": "2022-12-16T16:41:34.734Z"
   },
   {
    "duration": 39,
    "start_time": "2022-12-16T16:42:37.651Z"
   },
   {
    "duration": 1196,
    "start_time": "2022-12-16T16:42:47.558Z"
   },
   {
    "duration": 69,
    "start_time": "2022-12-16T16:42:48.756Z"
   },
   {
    "duration": 17,
    "start_time": "2022-12-16T16:42:48.826Z"
   },
   {
    "duration": 3,
    "start_time": "2022-12-16T16:42:48.845Z"
   },
   {
    "duration": 9,
    "start_time": "2022-12-16T16:42:48.849Z"
   },
   {
    "duration": 10,
    "start_time": "2022-12-16T16:42:48.860Z"
   },
   {
    "duration": 10,
    "start_time": "2022-12-16T16:42:48.872Z"
   },
   {
    "duration": 9,
    "start_time": "2022-12-16T16:42:48.905Z"
   },
   {
    "duration": 13,
    "start_time": "2022-12-16T16:42:48.916Z"
   },
   {
    "duration": 16,
    "start_time": "2022-12-16T16:42:48.933Z"
   },
   {
    "duration": 709,
    "start_time": "2022-12-16T16:42:48.951Z"
   },
   {
    "duration": 16,
    "start_time": "2022-12-16T16:42:49.662Z"
   },
   {
    "duration": 36,
    "start_time": "2022-12-16T16:42:49.680Z"
   },
   {
    "duration": 11,
    "start_time": "2022-12-16T16:42:49.718Z"
   },
   {
    "duration": 9,
    "start_time": "2022-12-16T16:42:49.731Z"
   },
   {
    "duration": 16,
    "start_time": "2022-12-16T16:42:49.742Z"
   },
   {
    "duration": 10,
    "start_time": "2022-12-16T16:42:49.759Z"
   },
   {
    "duration": 218,
    "start_time": "2022-12-16T16:42:49.771Z"
   },
   {
    "duration": 28,
    "start_time": "2022-12-16T16:42:49.990Z"
   },
   {
    "duration": 7,
    "start_time": "2022-12-16T16:42:50.020Z"
   },
   {
    "duration": 355,
    "start_time": "2022-12-16T16:42:50.028Z"
   },
   {
    "duration": 7,
    "start_time": "2022-12-16T16:42:50.384Z"
   },
   {
    "duration": 205,
    "start_time": "2022-12-16T16:42:50.392Z"
   },
   {
    "duration": 26,
    "start_time": "2022-12-16T16:42:50.598Z"
   },
   {
    "duration": 193,
    "start_time": "2022-12-16T16:42:50.625Z"
   },
   {
    "duration": 29,
    "start_time": "2022-12-16T16:42:50.820Z"
   },
   {
    "duration": 22,
    "start_time": "2022-12-16T16:42:50.850Z"
   },
   {
    "duration": 29,
    "start_time": "2022-12-16T16:42:50.877Z"
   },
   {
    "duration": 12,
    "start_time": "2022-12-16T16:42:50.908Z"
   },
   {
    "duration": 154,
    "start_time": "2022-12-16T16:42:50.923Z"
   },
   {
    "duration": 160,
    "start_time": "2022-12-16T16:42:51.079Z"
   },
   {
    "duration": 289,
    "start_time": "2022-12-16T16:42:51.241Z"
   },
   {
    "duration": 14,
    "start_time": "2022-12-16T16:42:51.533Z"
   },
   {
    "duration": 204,
    "start_time": "2022-12-16T16:42:51.550Z"
   },
   {
    "duration": 184,
    "start_time": "2022-12-16T16:42:51.756Z"
   },
   {
    "duration": 12,
    "start_time": "2022-12-16T16:42:51.942Z"
   },
   {
    "duration": 22,
    "start_time": "2022-12-16T16:42:51.956Z"
   },
   {
    "duration": 228,
    "start_time": "2022-12-16T16:42:51.979Z"
   },
   {
    "duration": 6,
    "start_time": "2022-12-16T16:42:52.209Z"
   },
   {
    "duration": 29,
    "start_time": "2022-12-16T16:42:52.217Z"
   },
   {
    "duration": 25,
    "start_time": "2022-12-16T16:42:52.248Z"
   },
   {
    "duration": 27,
    "start_time": "2022-12-16T16:42:52.275Z"
   },
   {
    "duration": 13,
    "start_time": "2022-12-16T16:42:52.304Z"
   },
   {
    "duration": 33,
    "start_time": "2022-12-16T16:42:52.319Z"
   },
   {
    "duration": 16,
    "start_time": "2022-12-16T16:42:52.354Z"
   },
   {
    "duration": 14,
    "start_time": "2022-12-16T16:42:52.371Z"
   },
   {
    "duration": 44,
    "start_time": "2022-12-16T16:42:52.386Z"
   },
   {
    "duration": 36,
    "start_time": "2022-12-16T16:42:52.432Z"
   },
   {
    "duration": 32,
    "start_time": "2022-12-16T16:42:52.471Z"
   },
   {
    "duration": 242,
    "start_time": "2022-12-16T16:42:52.505Z"
   },
   {
    "duration": 17,
    "start_time": "2022-12-16T16:42:52.749Z"
   },
   {
    "duration": 282,
    "start_time": "2022-12-16T16:42:52.768Z"
   },
   {
    "duration": 14,
    "start_time": "2022-12-16T16:42:53.052Z"
   },
   {
    "duration": 30,
    "start_time": "2022-12-16T16:42:53.067Z"
   },
   {
    "duration": 37,
    "start_time": "2022-12-16T16:42:53.099Z"
   },
   {
    "duration": 27,
    "start_time": "2022-12-16T16:42:53.138Z"
   },
   {
    "duration": 211,
    "start_time": "2022-12-16T16:42:53.167Z"
   },
   {
    "duration": 10,
    "start_time": "2022-12-16T16:42:53.381Z"
   },
   {
    "duration": 22,
    "start_time": "2022-12-16T16:42:53.404Z"
   },
   {
    "duration": 19,
    "start_time": "2022-12-16T16:42:53.429Z"
   },
   {
    "duration": 29,
    "start_time": "2022-12-16T16:42:53.450Z"
   },
   {
    "duration": 48,
    "start_time": "2022-12-17T07:05:54.029Z"
   },
   {
    "duration": 1377,
    "start_time": "2022-12-17T07:15:18.545Z"
   },
   {
    "duration": 126,
    "start_time": "2022-12-17T07:15:19.928Z"
   },
   {
    "duration": 5,
    "start_time": "2022-12-17T07:15:20.108Z"
   },
   {
    "duration": 78,
    "start_time": "2022-12-17T07:15:20.119Z"
   },
   {
    "duration": 41,
    "start_time": "2022-12-17T07:15:20.198Z"
   },
   {
    "duration": 35,
    "start_time": "2022-12-17T07:15:20.242Z"
   },
   {
    "duration": 26,
    "start_time": "2022-12-17T07:15:20.278Z"
   },
   {
    "duration": 43,
    "start_time": "2022-12-17T07:15:20.306Z"
   },
   {
    "duration": 16,
    "start_time": "2022-12-17T07:15:20.351Z"
   },
   {
    "duration": 34,
    "start_time": "2022-12-17T07:15:20.369Z"
   },
   {
    "duration": 41,
    "start_time": "2022-12-17T07:15:20.405Z"
   },
   {
    "duration": 28,
    "start_time": "2022-12-17T07:15:20.448Z"
   },
   {
    "duration": 687,
    "start_time": "2022-12-17T07:15:20.478Z"
   },
   {
    "duration": 16,
    "start_time": "2022-12-17T07:15:21.168Z"
   },
   {
    "duration": 41,
    "start_time": "2022-12-17T07:15:21.186Z"
   },
   {
    "duration": 28,
    "start_time": "2022-12-17T07:15:21.230Z"
   },
   {
    "duration": 13,
    "start_time": "2022-12-17T07:15:21.259Z"
   },
   {
    "duration": 18,
    "start_time": "2022-12-17T07:15:21.273Z"
   },
   {
    "duration": 11,
    "start_time": "2022-12-17T07:15:21.293Z"
   },
   {
    "duration": 234,
    "start_time": "2022-12-17T07:15:21.306Z"
   },
   {
    "duration": 19,
    "start_time": "2022-12-17T07:15:21.542Z"
   },
   {
    "duration": 7,
    "start_time": "2022-12-17T07:15:21.563Z"
   },
   {
    "duration": 388,
    "start_time": "2022-12-17T07:15:21.572Z"
   },
   {
    "duration": 7,
    "start_time": "2022-12-17T07:15:21.962Z"
   },
   {
    "duration": 217,
    "start_time": "2022-12-17T07:15:21.971Z"
   },
   {
    "duration": 23,
    "start_time": "2022-12-17T07:15:22.190Z"
   },
   {
    "duration": 220,
    "start_time": "2022-12-17T07:15:22.214Z"
   },
   {
    "duration": 32,
    "start_time": "2022-12-17T07:15:22.435Z"
   },
   {
    "duration": 23,
    "start_time": "2022-12-17T07:15:22.469Z"
   },
   {
    "duration": 17,
    "start_time": "2022-12-17T07:15:22.515Z"
   },
   {
    "duration": 10,
    "start_time": "2022-12-17T07:15:22.534Z"
   },
   {
    "duration": 183,
    "start_time": "2022-12-17T07:15:22.546Z"
   },
   {
    "duration": 221,
    "start_time": "2022-12-17T07:15:22.731Z"
   },
   {
    "duration": 194,
    "start_time": "2022-12-17T07:15:22.953Z"
   },
   {
    "duration": 10,
    "start_time": "2022-12-17T07:15:23.149Z"
   },
   {
    "duration": 197,
    "start_time": "2022-12-17T07:15:23.161Z"
   },
   {
    "duration": 202,
    "start_time": "2022-12-17T07:15:23.360Z"
   },
   {
    "duration": 13,
    "start_time": "2022-12-17T07:15:23.564Z"
   },
   {
    "duration": 34,
    "start_time": "2022-12-17T07:15:23.578Z"
   },
   {
    "duration": 240,
    "start_time": "2022-12-17T07:15:23.613Z"
   },
   {
    "duration": 5,
    "start_time": "2022-12-17T07:15:23.855Z"
   },
   {
    "duration": 21,
    "start_time": "2022-12-17T07:15:23.862Z"
   },
   {
    "duration": 40,
    "start_time": "2022-12-17T07:15:23.884Z"
   },
   {
    "duration": 35,
    "start_time": "2022-12-17T07:15:23.925Z"
   },
   {
    "duration": 18,
    "start_time": "2022-12-17T07:15:23.961Z"
   },
   {
    "duration": 17,
    "start_time": "2022-12-17T07:15:23.981Z"
   },
   {
    "duration": 49,
    "start_time": "2022-12-17T07:15:23.999Z"
   },
   {
    "duration": 14,
    "start_time": "2022-12-17T07:15:24.049Z"
   },
   {
    "duration": 26,
    "start_time": "2022-12-17T07:15:24.064Z"
   },
   {
    "duration": 19,
    "start_time": "2022-12-17T07:15:24.092Z"
   },
   {
    "duration": 42,
    "start_time": "2022-12-17T07:15:24.112Z"
   },
   {
    "duration": 297,
    "start_time": "2022-12-17T07:15:24.155Z"
   },
   {
    "duration": 18,
    "start_time": "2022-12-17T07:15:24.453Z"
   },
   {
    "duration": 335,
    "start_time": "2022-12-17T07:15:24.472Z"
   },
   {
    "duration": 31,
    "start_time": "2022-12-17T07:15:24.809Z"
   },
   {
    "duration": 20,
    "start_time": "2022-12-17T07:15:24.842Z"
   },
   {
    "duration": 28,
    "start_time": "2022-12-17T07:15:24.863Z"
   },
   {
    "duration": 55,
    "start_time": "2022-12-17T07:15:24.893Z"
   },
   {
    "duration": 216,
    "start_time": "2022-12-17T07:15:24.950Z"
   },
   {
    "duration": 5,
    "start_time": "2022-12-17T07:15:25.169Z"
   },
   {
    "duration": 29,
    "start_time": "2022-12-17T07:15:25.176Z"
   },
   {
    "duration": 45,
    "start_time": "2022-12-17T07:15:25.206Z"
   },
   {
    "duration": 7,
    "start_time": "2022-12-17T07:15:25.253Z"
   },
   {
    "duration": 3,
    "start_time": "2022-12-17T07:15:35.364Z"
   },
   {
    "duration": 60,
    "start_time": "2022-12-17T07:16:04.449Z"
   },
   {
    "duration": 3,
    "start_time": "2022-12-17T07:16:10.995Z"
   },
   {
    "duration": 7,
    "start_time": "2022-12-17T07:16:12.723Z"
   },
   {
    "duration": 54,
    "start_time": "2022-12-17T07:19:35.577Z"
   },
   {
    "duration": 0,
    "start_time": "2022-12-17T07:19:35.635Z"
   },
   {
    "duration": 0,
    "start_time": "2022-12-17T07:19:35.636Z"
   },
   {
    "duration": 0,
    "start_time": "2022-12-17T07:19:35.637Z"
   },
   {
    "duration": 0,
    "start_time": "2022-12-17T07:19:35.639Z"
   },
   {
    "duration": 1235,
    "start_time": "2022-12-17T07:19:35.714Z"
   },
   {
    "duration": 71,
    "start_time": "2022-12-17T07:19:36.951Z"
   },
   {
    "duration": 19,
    "start_time": "2022-12-17T07:19:37.027Z"
   },
   {
    "duration": 3,
    "start_time": "2022-12-17T07:19:37.047Z"
   },
   {
    "duration": 7,
    "start_time": "2022-12-17T07:19:37.053Z"
   },
   {
    "duration": 9,
    "start_time": "2022-12-17T07:19:37.062Z"
   },
   {
    "duration": 11,
    "start_time": "2022-12-17T07:19:37.072Z"
   },
   {
    "duration": 38,
    "start_time": "2022-12-17T07:19:37.085Z"
   },
   {
    "duration": 12,
    "start_time": "2022-12-17T07:19:37.125Z"
   },
   {
    "duration": 16,
    "start_time": "2022-12-17T07:19:37.138Z"
   },
   {
    "duration": 625,
    "start_time": "2022-12-17T07:19:37.156Z"
   },
   {
    "duration": 17,
    "start_time": "2022-12-17T07:19:37.782Z"
   },
   {
    "duration": 41,
    "start_time": "2022-12-17T07:19:37.800Z"
   },
   {
    "duration": 9,
    "start_time": "2022-12-17T07:19:37.844Z"
   },
   {
    "duration": 7,
    "start_time": "2022-12-17T07:19:37.854Z"
   },
   {
    "duration": 14,
    "start_time": "2022-12-17T07:19:37.862Z"
   },
   {
    "duration": 10,
    "start_time": "2022-12-17T07:19:37.877Z"
   },
   {
    "duration": 252,
    "start_time": "2022-12-17T07:19:37.888Z"
   },
   {
    "duration": 18,
    "start_time": "2022-12-17T07:19:38.141Z"
   },
   {
    "duration": 7,
    "start_time": "2022-12-17T07:19:38.160Z"
   },
   {
    "duration": 408,
    "start_time": "2022-12-17T07:19:38.169Z"
   },
   {
    "duration": 8,
    "start_time": "2022-12-17T07:19:38.579Z"
   },
   {
    "duration": 237,
    "start_time": "2022-12-17T07:19:38.589Z"
   },
   {
    "duration": 22,
    "start_time": "2022-12-17T07:19:38.828Z"
   },
   {
    "duration": 218,
    "start_time": "2022-12-17T07:19:38.851Z"
   },
   {
    "duration": 44,
    "start_time": "2022-12-17T07:19:39.071Z"
   },
   {
    "duration": 28,
    "start_time": "2022-12-17T07:19:39.123Z"
   },
   {
    "duration": 18,
    "start_time": "2022-12-17T07:19:39.153Z"
   },
   {
    "duration": 15,
    "start_time": "2022-12-17T07:19:39.172Z"
   },
   {
    "duration": 182,
    "start_time": "2022-12-17T07:19:39.189Z"
   },
   {
    "duration": 256,
    "start_time": "2022-12-17T07:19:39.373Z"
   },
   {
    "duration": 220,
    "start_time": "2022-12-17T07:19:39.631Z"
   },
   {
    "duration": 10,
    "start_time": "2022-12-17T07:19:39.853Z"
   },
   {
    "duration": 214,
    "start_time": "2022-12-17T07:19:39.865Z"
   },
   {
    "duration": 226,
    "start_time": "2022-12-17T07:19:40.080Z"
   },
   {
    "duration": 19,
    "start_time": "2022-12-17T07:19:40.312Z"
   },
   {
    "duration": 19,
    "start_time": "2022-12-17T07:19:40.334Z"
   },
   {
    "duration": 250,
    "start_time": "2022-12-17T07:19:40.355Z"
   },
   {
    "duration": 21,
    "start_time": "2022-12-17T07:19:40.606Z"
   },
   {
    "duration": 24,
    "start_time": "2022-12-17T07:19:40.632Z"
   },
   {
    "duration": 27,
    "start_time": "2022-12-17T07:19:40.660Z"
   },
   {
    "duration": 19,
    "start_time": "2022-12-17T07:19:40.688Z"
   },
   {
    "duration": 19,
    "start_time": "2022-12-17T07:19:40.708Z"
   },
   {
    "duration": 19,
    "start_time": "2022-12-17T07:19:40.729Z"
   },
   {
    "duration": 29,
    "start_time": "2022-12-17T07:19:40.750Z"
   },
   {
    "duration": 15,
    "start_time": "2022-12-17T07:19:40.781Z"
   },
   {
    "duration": 25,
    "start_time": "2022-12-17T07:19:40.798Z"
   },
   {
    "duration": 17,
    "start_time": "2022-12-17T07:19:40.829Z"
   },
   {
    "duration": 16,
    "start_time": "2022-12-17T07:19:40.848Z"
   },
   {
    "duration": 290,
    "start_time": "2022-12-17T07:19:40.866Z"
   },
   {
    "duration": 18,
    "start_time": "2022-12-17T07:19:41.158Z"
   },
   {
    "duration": 311,
    "start_time": "2022-12-17T07:19:41.177Z"
   },
   {
    "duration": 37,
    "start_time": "2022-12-17T07:19:41.490Z"
   },
   {
    "duration": 17,
    "start_time": "2022-12-17T07:19:41.529Z"
   },
   {
    "duration": 16,
    "start_time": "2022-12-17T07:19:41.548Z"
   },
   {
    "duration": 21,
    "start_time": "2022-12-17T07:19:41.565Z"
   },
   {
    "duration": 230,
    "start_time": "2022-12-17T07:19:41.587Z"
   },
   {
    "duration": 7,
    "start_time": "2022-12-17T07:19:41.819Z"
   },
   {
    "duration": 27,
    "start_time": "2022-12-17T07:19:41.828Z"
   },
   {
    "duration": 13,
    "start_time": "2022-12-17T07:19:41.857Z"
   },
   {
    "duration": 10,
    "start_time": "2022-12-17T07:19:41.872Z"
   },
   {
    "duration": 9,
    "start_time": "2022-12-17T07:23:06.340Z"
   },
   {
    "duration": 1260,
    "start_time": "2022-12-17T07:26:13.232Z"
   },
   {
    "duration": 97,
    "start_time": "2022-12-17T07:26:14.494Z"
   },
   {
    "duration": 26,
    "start_time": "2022-12-17T07:26:14.593Z"
   },
   {
    "duration": 11,
    "start_time": "2022-12-17T07:26:14.621Z"
   },
   {
    "duration": 9,
    "start_time": "2022-12-17T07:26:14.636Z"
   },
   {
    "duration": 18,
    "start_time": "2022-12-17T07:26:14.647Z"
   },
   {
    "duration": 12,
    "start_time": "2022-12-17T07:26:14.667Z"
   },
   {
    "duration": 8,
    "start_time": "2022-12-17T07:26:14.681Z"
   },
   {
    "duration": 39,
    "start_time": "2022-12-17T07:26:14.692Z"
   },
   {
    "duration": 25,
    "start_time": "2022-12-17T07:26:14.733Z"
   },
   {
    "duration": 701,
    "start_time": "2022-12-17T07:26:14.762Z"
   },
   {
    "duration": 17,
    "start_time": "2022-12-17T07:26:15.465Z"
   },
   {
    "duration": 50,
    "start_time": "2022-12-17T07:26:15.484Z"
   },
   {
    "duration": 10,
    "start_time": "2022-12-17T07:26:15.538Z"
   },
   {
    "duration": 18,
    "start_time": "2022-12-17T07:26:15.550Z"
   },
   {
    "duration": 16,
    "start_time": "2022-12-17T07:26:15.570Z"
   },
   {
    "duration": 43,
    "start_time": "2022-12-17T07:26:15.588Z"
   },
   {
    "duration": 240,
    "start_time": "2022-12-17T07:26:15.632Z"
   },
   {
    "duration": 18,
    "start_time": "2022-12-17T07:26:15.875Z"
   },
   {
    "duration": 18,
    "start_time": "2022-12-17T07:26:15.895Z"
   },
   {
    "duration": 414,
    "start_time": "2022-12-17T07:26:15.917Z"
   },
   {
    "duration": 8,
    "start_time": "2022-12-17T07:26:16.333Z"
   },
   {
    "duration": 273,
    "start_time": "2022-12-17T07:26:16.342Z"
   },
   {
    "duration": 37,
    "start_time": "2022-12-17T07:26:16.617Z"
   },
   {
    "duration": 221,
    "start_time": "2022-12-17T07:26:16.657Z"
   },
   {
    "duration": 48,
    "start_time": "2022-12-17T07:26:16.880Z"
   },
   {
    "duration": 21,
    "start_time": "2022-12-17T07:26:16.930Z"
   },
   {
    "duration": 9,
    "start_time": "2022-12-17T07:26:16.953Z"
   },
   {
    "duration": 8,
    "start_time": "2022-12-17T07:26:16.964Z"
   },
   {
    "duration": 177,
    "start_time": "2022-12-17T07:26:16.973Z"
   },
   {
    "duration": 258,
    "start_time": "2022-12-17T07:26:17.152Z"
   },
   {
    "duration": 235,
    "start_time": "2022-12-17T07:26:17.413Z"
   },
   {
    "duration": 10,
    "start_time": "2022-12-17T07:26:17.650Z"
   },
   {
    "duration": 216,
    "start_time": "2022-12-17T07:26:17.662Z"
   },
   {
    "duration": 217,
    "start_time": "2022-12-17T07:26:17.880Z"
   },
   {
    "duration": 25,
    "start_time": "2022-12-17T07:26:18.099Z"
   },
   {
    "duration": 17,
    "start_time": "2022-12-17T07:26:18.126Z"
   },
   {
    "duration": 241,
    "start_time": "2022-12-17T07:26:18.145Z"
   },
   {
    "duration": 6,
    "start_time": "2022-12-17T07:26:18.388Z"
   },
   {
    "duration": 34,
    "start_time": "2022-12-17T07:26:18.395Z"
   },
   {
    "duration": 16,
    "start_time": "2022-12-17T07:26:18.435Z"
   },
   {
    "duration": 18,
    "start_time": "2022-12-17T07:26:18.453Z"
   },
   {
    "duration": 15,
    "start_time": "2022-12-17T07:26:18.473Z"
   },
   {
    "duration": 31,
    "start_time": "2022-12-17T07:26:18.515Z"
   },
   {
    "duration": 19,
    "start_time": "2022-12-17T07:26:18.548Z"
   },
   {
    "duration": 16,
    "start_time": "2022-12-17T07:26:18.568Z"
   },
   {
    "duration": 35,
    "start_time": "2022-12-17T07:26:18.586Z"
   },
   {
    "duration": 23,
    "start_time": "2022-12-17T07:26:18.622Z"
   },
   {
    "duration": 20,
    "start_time": "2022-12-17T07:26:18.648Z"
   },
   {
    "duration": 318,
    "start_time": "2022-12-17T07:26:18.670Z"
   },
   {
    "duration": 39,
    "start_time": "2022-12-17T07:26:18.991Z"
   },
   {
    "duration": 336,
    "start_time": "2022-12-17T07:26:19.032Z"
   },
   {
    "duration": 21,
    "start_time": "2022-12-17T07:26:19.371Z"
   },
   {
    "duration": 35,
    "start_time": "2022-12-17T07:26:19.394Z"
   },
   {
    "duration": 17,
    "start_time": "2022-12-17T07:26:19.430Z"
   },
   {
    "duration": 17,
    "start_time": "2022-12-17T07:26:19.448Z"
   },
   {
    "duration": 229,
    "start_time": "2022-12-17T07:26:19.467Z"
   },
   {
    "duration": 6,
    "start_time": "2022-12-17T07:26:19.697Z"
   },
   {
    "duration": 30,
    "start_time": "2022-12-17T07:26:19.704Z"
   },
   {
    "duration": 16,
    "start_time": "2022-12-17T07:26:19.736Z"
   },
   {
    "duration": 8,
    "start_time": "2022-12-17T07:26:19.754Z"
   },
   {
    "duration": 399,
    "start_time": "2022-12-17T07:28:31.247Z"
   },
   {
    "duration": 942,
    "start_time": "2022-12-17T07:32:51.383Z"
   },
   {
    "duration": 229,
    "start_time": "2022-12-17T07:36:38.016Z"
   },
   {
    "duration": 23,
    "start_time": "2022-12-17T07:40:03.918Z"
   },
   {
    "duration": 383,
    "start_time": "2022-12-17T07:40:11.135Z"
   },
   {
    "duration": 20,
    "start_time": "2022-12-17T07:41:56.849Z"
   },
   {
    "duration": 329,
    "start_time": "2022-12-17T07:42:03.816Z"
   },
   {
    "duration": 42,
    "start_time": "2022-12-17T07:46:57.384Z"
   },
   {
    "duration": 7,
    "start_time": "2022-12-17T07:56:27.589Z"
   },
   {
    "duration": 9,
    "start_time": "2022-12-17T07:56:44.453Z"
   },
   {
    "duration": 10,
    "start_time": "2022-12-17T07:57:02.267Z"
   },
   {
    "duration": 53,
    "start_time": "2022-12-17T07:57:28.752Z"
   },
   {
    "duration": 1556,
    "start_time": "2022-12-17T07:57:44.201Z"
   },
   {
    "duration": 8,
    "start_time": "2022-12-17T07:58:01.401Z"
   },
   {
    "duration": 7,
    "start_time": "2022-12-17T07:58:31.582Z"
   },
   {
    "duration": 12,
    "start_time": "2022-12-17T07:59:19.432Z"
   },
   {
    "duration": 9,
    "start_time": "2022-12-17T07:59:25.435Z"
   },
   {
    "duration": 10,
    "start_time": "2022-12-17T07:59:48.219Z"
   },
   {
    "duration": 9,
    "start_time": "2022-12-17T08:00:50.258Z"
   },
   {
    "duration": 5,
    "start_time": "2022-12-17T08:01:06.037Z"
   },
   {
    "duration": 5,
    "start_time": "2022-12-17T08:01:53.524Z"
   },
   {
    "duration": 5,
    "start_time": "2022-12-17T08:02:39.702Z"
   },
   {
    "duration": 6,
    "start_time": "2022-12-17T08:03:04.938Z"
   },
   {
    "duration": 10,
    "start_time": "2022-12-17T08:03:44.035Z"
   },
   {
    "duration": 19,
    "start_time": "2022-12-17T08:04:00.099Z"
   },
   {
    "duration": 47,
    "start_time": "2022-12-17T08:04:28.834Z"
   },
   {
    "duration": 9,
    "start_time": "2022-12-17T08:04:42.224Z"
   },
   {
    "duration": 11,
    "start_time": "2022-12-17T08:05:09.723Z"
   },
   {
    "duration": 18,
    "start_time": "2022-12-17T08:06:16.552Z"
   },
   {
    "duration": 10,
    "start_time": "2022-12-17T08:06:26.633Z"
   },
   {
    "duration": 9,
    "start_time": "2022-12-17T08:07:06.385Z"
   },
   {
    "duration": 8,
    "start_time": "2022-12-17T08:08:54.824Z"
   },
   {
    "duration": 8,
    "start_time": "2022-12-17T08:08:59.167Z"
   },
   {
    "duration": 1233,
    "start_time": "2022-12-17T08:11:16.246Z"
   },
   {
    "duration": 68,
    "start_time": "2022-12-17T08:11:17.481Z"
   },
   {
    "duration": 18,
    "start_time": "2022-12-17T08:11:17.551Z"
   },
   {
    "duration": 3,
    "start_time": "2022-12-17T08:11:17.571Z"
   },
   {
    "duration": 9,
    "start_time": "2022-12-17T08:11:17.575Z"
   },
   {
    "duration": 9,
    "start_time": "2022-12-17T08:11:17.585Z"
   },
   {
    "duration": 31,
    "start_time": "2022-12-17T08:11:17.595Z"
   },
   {
    "duration": 9,
    "start_time": "2022-12-17T08:11:17.628Z"
   },
   {
    "duration": 11,
    "start_time": "2022-12-17T08:11:17.639Z"
   },
   {
    "duration": 17,
    "start_time": "2022-12-17T08:11:17.652Z"
   },
   {
    "duration": 667,
    "start_time": "2022-12-17T08:11:17.671Z"
   },
   {
    "duration": 16,
    "start_time": "2022-12-17T08:11:18.340Z"
   },
   {
    "duration": 20,
    "start_time": "2022-12-17T08:11:18.359Z"
   },
   {
    "duration": 43,
    "start_time": "2022-12-17T08:11:18.381Z"
   },
   {
    "duration": 9,
    "start_time": "2022-12-17T08:11:18.426Z"
   },
   {
    "duration": 9,
    "start_time": "2022-12-17T08:11:18.437Z"
   },
   {
    "duration": 8,
    "start_time": "2022-12-17T08:11:18.448Z"
   },
   {
    "duration": 15,
    "start_time": "2022-12-17T08:11:18.458Z"
   },
   {
    "duration": 10,
    "start_time": "2022-12-17T08:11:18.475Z"
   },
   {
    "duration": 245,
    "start_time": "2022-12-17T08:11:18.513Z"
   },
   {
    "duration": 20,
    "start_time": "2022-12-17T08:11:18.760Z"
   },
   {
    "duration": 7,
    "start_time": "2022-12-17T08:11:18.782Z"
   },
   {
    "duration": 420,
    "start_time": "2022-12-17T08:11:18.791Z"
   },
   {
    "duration": 21,
    "start_time": "2022-12-17T08:11:19.213Z"
   },
   {
    "duration": 236,
    "start_time": "2022-12-17T08:11:19.236Z"
   },
   {
    "duration": 22,
    "start_time": "2022-12-17T08:11:19.473Z"
   },
   {
    "duration": 227,
    "start_time": "2022-12-17T08:11:19.497Z"
   },
   {
    "duration": 33,
    "start_time": "2022-12-17T08:11:19.730Z"
   },
   {
    "duration": 24,
    "start_time": "2022-12-17T08:11:19.764Z"
   },
   {
    "duration": 46,
    "start_time": "2022-12-17T08:11:19.790Z"
   },
   {
    "duration": 4,
    "start_time": "2022-12-17T08:11:19.838Z"
   },
   {
    "duration": 173,
    "start_time": "2022-12-17T08:11:19.844Z"
   },
   {
    "duration": 248,
    "start_time": "2022-12-17T08:11:20.019Z"
   },
   {
    "duration": 231,
    "start_time": "2022-12-17T08:11:20.269Z"
   },
   {
    "duration": 10,
    "start_time": "2022-12-17T08:11:20.502Z"
   },
   {
    "duration": 208,
    "start_time": "2022-12-17T08:11:20.528Z"
   },
   {
    "duration": 209,
    "start_time": "2022-12-17T08:11:20.738Z"
   },
   {
    "duration": 13,
    "start_time": "2022-12-17T08:11:20.949Z"
   },
   {
    "duration": 32,
    "start_time": "2022-12-17T08:11:20.964Z"
   },
   {
    "duration": 250,
    "start_time": "2022-12-17T08:11:20.998Z"
   },
   {
    "duration": 6,
    "start_time": "2022-12-17T08:11:21.250Z"
   },
   {
    "duration": 19,
    "start_time": "2022-12-17T08:11:21.258Z"
   },
   {
    "duration": 46,
    "start_time": "2022-12-17T08:11:21.279Z"
   },
   {
    "duration": 18,
    "start_time": "2022-12-17T08:11:21.328Z"
   },
   {
    "duration": 15,
    "start_time": "2022-12-17T08:11:21.348Z"
   },
   {
    "duration": 17,
    "start_time": "2022-12-17T08:11:21.365Z"
   },
   {
    "duration": 47,
    "start_time": "2022-12-17T08:11:21.384Z"
   },
   {
    "duration": 14,
    "start_time": "2022-12-17T08:11:21.432Z"
   },
   {
    "duration": 14,
    "start_time": "2022-12-17T08:11:21.448Z"
   },
   {
    "duration": 18,
    "start_time": "2022-12-17T08:11:21.463Z"
   },
   {
    "duration": 46,
    "start_time": "2022-12-17T08:11:21.482Z"
   },
   {
    "duration": 298,
    "start_time": "2022-12-17T08:11:21.531Z"
   },
   {
    "duration": 19,
    "start_time": "2022-12-17T08:11:21.831Z"
   },
   {
    "duration": 332,
    "start_time": "2022-12-17T08:11:21.852Z"
   },
   {
    "duration": 15,
    "start_time": "2022-12-17T08:11:22.186Z"
   },
   {
    "duration": 19,
    "start_time": "2022-12-17T08:11:22.214Z"
   },
   {
    "duration": 15,
    "start_time": "2022-12-17T08:11:22.235Z"
   },
   {
    "duration": 27,
    "start_time": "2022-12-17T08:11:22.252Z"
   },
   {
    "duration": 232,
    "start_time": "2022-12-17T08:11:22.280Z"
   },
   {
    "duration": 13,
    "start_time": "2022-12-17T08:11:22.517Z"
   },
   {
    "duration": 9,
    "start_time": "2022-12-17T08:11:22.532Z"
   },
   {
    "duration": 7,
    "start_time": "2022-12-17T08:11:22.543Z"
   },
   {
    "duration": 10,
    "start_time": "2022-12-17T08:11:22.552Z"
   },
   {
    "duration": 24,
    "start_time": "2022-12-17T08:23:17.420Z"
   },
   {
    "duration": 45,
    "start_time": "2022-12-17T08:25:11.584Z"
   },
   {
    "duration": 99,
    "start_time": "2022-12-17T08:25:30.502Z"
   },
   {
    "duration": 1409,
    "start_time": "2022-12-17T09:36:51.202Z"
   },
   {
    "duration": 73,
    "start_time": "2022-12-17T09:36:52.624Z"
   },
   {
    "duration": 28,
    "start_time": "2022-12-17T09:36:52.699Z"
   },
   {
    "duration": 6,
    "start_time": "2022-12-17T09:36:52.729Z"
   },
   {
    "duration": 13,
    "start_time": "2022-12-17T09:36:52.737Z"
   },
   {
    "duration": 24,
    "start_time": "2022-12-17T09:36:52.751Z"
   },
   {
    "duration": 29,
    "start_time": "2022-12-17T09:36:52.777Z"
   },
   {
    "duration": 26,
    "start_time": "2022-12-17T09:36:52.807Z"
   },
   {
    "duration": 23,
    "start_time": "2022-12-17T09:36:52.834Z"
   },
   {
    "duration": 29,
    "start_time": "2022-12-17T09:36:52.860Z"
   },
   {
    "duration": 643,
    "start_time": "2022-12-17T09:36:52.890Z"
   },
   {
    "duration": 16,
    "start_time": "2022-12-17T09:36:53.535Z"
   },
   {
    "duration": 19,
    "start_time": "2022-12-17T09:36:53.553Z"
   },
   {
    "duration": 19,
    "start_time": "2022-12-17T09:36:53.574Z"
   },
   {
    "duration": 29,
    "start_time": "2022-12-17T09:36:53.595Z"
   },
   {
    "duration": 11,
    "start_time": "2022-12-17T09:36:53.626Z"
   },
   {
    "duration": 18,
    "start_time": "2022-12-17T09:36:53.638Z"
   },
   {
    "duration": 24,
    "start_time": "2022-12-17T09:36:53.658Z"
   },
   {
    "duration": 11,
    "start_time": "2022-12-17T09:36:53.684Z"
   },
   {
    "duration": 250,
    "start_time": "2022-12-17T09:36:53.697Z"
   },
   {
    "duration": 19,
    "start_time": "2022-12-17T09:36:53.949Z"
   },
   {
    "duration": 6,
    "start_time": "2022-12-17T09:36:53.969Z"
   },
   {
    "duration": 392,
    "start_time": "2022-12-17T09:36:53.977Z"
   },
   {
    "duration": 7,
    "start_time": "2022-12-17T09:36:54.371Z"
   },
   {
    "duration": 219,
    "start_time": "2022-12-17T09:36:54.380Z"
   },
   {
    "duration": 30,
    "start_time": "2022-12-17T09:36:54.601Z"
   },
   {
    "duration": 227,
    "start_time": "2022-12-17T09:36:54.632Z"
   },
   {
    "duration": 37,
    "start_time": "2022-12-17T09:36:54.863Z"
   },
   {
    "duration": 39,
    "start_time": "2022-12-17T09:36:54.901Z"
   },
   {
    "duration": 43,
    "start_time": "2022-12-17T09:36:54.941Z"
   },
   {
    "duration": 17,
    "start_time": "2022-12-17T09:36:54.986Z"
   },
   {
    "duration": 183,
    "start_time": "2022-12-17T09:36:55.005Z"
   },
   {
    "duration": 250,
    "start_time": "2022-12-17T09:36:55.190Z"
   },
   {
    "duration": 226,
    "start_time": "2022-12-17T09:36:55.442Z"
   },
   {
    "duration": 11,
    "start_time": "2022-12-17T09:36:55.669Z"
   },
   {
    "duration": 211,
    "start_time": "2022-12-17T09:36:55.682Z"
   },
   {
    "duration": 231,
    "start_time": "2022-12-17T09:36:55.895Z"
   },
   {
    "duration": 13,
    "start_time": "2022-12-17T09:36:56.129Z"
   },
   {
    "duration": 17,
    "start_time": "2022-12-17T09:36:56.143Z"
   },
   {
    "duration": 271,
    "start_time": "2022-12-17T09:36:56.161Z"
   },
   {
    "duration": 7,
    "start_time": "2022-12-17T09:36:56.435Z"
   },
   {
    "duration": 42,
    "start_time": "2022-12-17T09:36:56.444Z"
   },
   {
    "duration": 28,
    "start_time": "2022-12-17T09:36:56.488Z"
   },
   {
    "duration": 47,
    "start_time": "2022-12-17T09:36:56.518Z"
   },
   {
    "duration": 20,
    "start_time": "2022-12-17T09:36:56.567Z"
   },
   {
    "duration": 43,
    "start_time": "2022-12-17T09:36:56.590Z"
   },
   {
    "duration": 33,
    "start_time": "2022-12-17T09:36:56.635Z"
   },
   {
    "duration": 30,
    "start_time": "2022-12-17T09:36:56.670Z"
   },
   {
    "duration": 39,
    "start_time": "2022-12-17T09:36:56.702Z"
   },
   {
    "duration": 16,
    "start_time": "2022-12-17T09:36:56.744Z"
   },
   {
    "duration": 26,
    "start_time": "2022-12-17T09:36:56.762Z"
   },
   {
    "duration": 301,
    "start_time": "2022-12-17T09:36:56.789Z"
   },
   {
    "duration": 36,
    "start_time": "2022-12-17T09:36:57.092Z"
   },
   {
    "duration": 328,
    "start_time": "2022-12-17T09:36:57.130Z"
   },
   {
    "duration": 14,
    "start_time": "2022-12-17T09:36:57.460Z"
   },
   {
    "duration": 23,
    "start_time": "2022-12-17T09:36:57.476Z"
   },
   {
    "duration": 41,
    "start_time": "2022-12-17T09:36:57.501Z"
   },
   {
    "duration": 22,
    "start_time": "2022-12-17T09:36:57.543Z"
   },
   {
    "duration": 198,
    "start_time": "2022-12-17T09:36:57.567Z"
   },
   {
    "duration": 5,
    "start_time": "2022-12-17T09:36:57.766Z"
   },
   {
    "duration": 24,
    "start_time": "2022-12-17T09:36:57.773Z"
   },
   {
    "duration": 19,
    "start_time": "2022-12-17T09:36:57.799Z"
   },
   {
    "duration": 29,
    "start_time": "2022-12-17T09:36:57.820Z"
   },
   {
    "duration": 1147,
    "start_time": "2022-12-17T14:48:04.611Z"
   },
   {
    "duration": 130,
    "start_time": "2022-12-17T14:48:05.760Z"
   },
   {
    "duration": 22,
    "start_time": "2022-12-17T14:48:05.893Z"
   },
   {
    "duration": 9,
    "start_time": "2022-12-17T14:48:05.917Z"
   },
   {
    "duration": 23,
    "start_time": "2022-12-17T14:48:05.929Z"
   },
   {
    "duration": 27,
    "start_time": "2022-12-17T14:48:05.954Z"
   },
   {
    "duration": 17,
    "start_time": "2022-12-17T14:48:05.983Z"
   },
   {
    "duration": 22,
    "start_time": "2022-12-17T14:48:06.002Z"
   },
   {
    "duration": 35,
    "start_time": "2022-12-17T14:48:06.025Z"
   },
   {
    "duration": 31,
    "start_time": "2022-12-17T14:48:06.062Z"
   },
   {
    "duration": 607,
    "start_time": "2022-12-17T14:48:06.095Z"
   },
   {
    "duration": 16,
    "start_time": "2022-12-17T14:48:06.704Z"
   },
   {
    "duration": 47,
    "start_time": "2022-12-17T14:48:06.722Z"
   },
   {
    "duration": 38,
    "start_time": "2022-12-17T14:48:06.772Z"
   },
   {
    "duration": 20,
    "start_time": "2022-12-17T14:48:06.811Z"
   },
   {
    "duration": 39,
    "start_time": "2022-12-17T14:48:06.833Z"
   },
   {
    "duration": 21,
    "start_time": "2022-12-17T14:48:06.874Z"
   },
   {
    "duration": 41,
    "start_time": "2022-12-17T14:48:06.897Z"
   },
   {
    "duration": 17,
    "start_time": "2022-12-17T14:48:06.940Z"
   },
   {
    "duration": 242,
    "start_time": "2022-12-17T14:48:06.958Z"
   },
   {
    "duration": 19,
    "start_time": "2022-12-17T14:48:07.202Z"
   },
   {
    "duration": 15,
    "start_time": "2022-12-17T14:48:07.223Z"
   },
   {
    "duration": 382,
    "start_time": "2022-12-17T14:48:07.239Z"
   },
   {
    "duration": 7,
    "start_time": "2022-12-17T14:48:07.622Z"
   },
   {
    "duration": 235,
    "start_time": "2022-12-17T14:48:07.631Z"
   },
   {
    "duration": 28,
    "start_time": "2022-12-17T14:48:07.869Z"
   },
   {
    "duration": 237,
    "start_time": "2022-12-17T14:48:07.899Z"
   },
   {
    "duration": 42,
    "start_time": "2022-12-17T14:48:08.137Z"
   },
   {
    "duration": 23,
    "start_time": "2022-12-17T14:48:08.181Z"
   },
   {
    "duration": 46,
    "start_time": "2022-12-17T14:48:08.206Z"
   },
   {
    "duration": 24,
    "start_time": "2022-12-17T14:48:08.254Z"
   },
   {
    "duration": 204,
    "start_time": "2022-12-17T14:48:08.280Z"
   },
   {
    "duration": 245,
    "start_time": "2022-12-17T14:48:08.486Z"
   },
   {
    "duration": 207,
    "start_time": "2022-12-17T14:48:08.733Z"
   },
   {
    "duration": 10,
    "start_time": "2022-12-17T14:48:08.942Z"
   },
   {
    "duration": 227,
    "start_time": "2022-12-17T14:48:08.953Z"
   },
   {
    "duration": 207,
    "start_time": "2022-12-17T14:48:09.182Z"
   },
   {
    "duration": 15,
    "start_time": "2022-12-17T14:48:09.391Z"
   },
   {
    "duration": 37,
    "start_time": "2022-12-17T14:48:09.407Z"
   },
   {
    "duration": 244,
    "start_time": "2022-12-17T14:48:09.446Z"
   },
   {
    "duration": 6,
    "start_time": "2022-12-17T14:48:09.695Z"
   },
   {
    "duration": 37,
    "start_time": "2022-12-17T14:48:09.703Z"
   },
   {
    "duration": 45,
    "start_time": "2022-12-17T14:48:09.742Z"
   },
   {
    "duration": 60,
    "start_time": "2022-12-17T14:48:09.788Z"
   },
   {
    "duration": 27,
    "start_time": "2022-12-17T14:48:09.851Z"
   },
   {
    "duration": 54,
    "start_time": "2022-12-17T14:48:09.880Z"
   },
   {
    "duration": 46,
    "start_time": "2022-12-17T14:48:09.936Z"
   },
   {
    "duration": 36,
    "start_time": "2022-12-17T14:48:09.983Z"
   },
   {
    "duration": 46,
    "start_time": "2022-12-17T14:48:10.020Z"
   },
   {
    "duration": 38,
    "start_time": "2022-12-17T14:48:10.068Z"
   },
   {
    "duration": 49,
    "start_time": "2022-12-17T14:48:10.108Z"
   },
   {
    "duration": 300,
    "start_time": "2022-12-17T14:48:10.159Z"
   },
   {
    "duration": 25,
    "start_time": "2022-12-17T14:48:10.461Z"
   },
   {
    "duration": 344,
    "start_time": "2022-12-17T14:48:10.488Z"
   },
   {
    "duration": 17,
    "start_time": "2022-12-17T14:48:10.834Z"
   },
   {
    "duration": 47,
    "start_time": "2022-12-17T14:48:10.853Z"
   },
   {
    "duration": 42,
    "start_time": "2022-12-17T14:48:10.902Z"
   },
   {
    "duration": 76,
    "start_time": "2022-12-17T14:48:10.945Z"
   },
   {
    "duration": 243,
    "start_time": "2022-12-17T14:48:11.023Z"
   },
   {
    "duration": 13,
    "start_time": "2022-12-17T14:48:11.267Z"
   },
   {
    "duration": 29,
    "start_time": "2022-12-17T14:48:11.282Z"
   },
   {
    "duration": 42,
    "start_time": "2022-12-17T14:48:11.313Z"
   },
   {
    "duration": 26,
    "start_time": "2022-12-17T14:48:11.357Z"
   },
   {
    "duration": 8,
    "start_time": "2022-12-17T14:53:28.110Z"
   },
   {
    "duration": 45,
    "start_time": "2022-12-17T17:05:43.322Z"
   },
   {
    "duration": 1362,
    "start_time": "2022-12-17T17:05:48.988Z"
   },
   {
    "duration": 115,
    "start_time": "2022-12-17T17:05:50.352Z"
   },
   {
    "duration": 17,
    "start_time": "2022-12-17T17:05:50.469Z"
   },
   {
    "duration": 8,
    "start_time": "2022-12-17T17:05:50.488Z"
   },
   {
    "duration": 14,
    "start_time": "2022-12-17T17:05:50.497Z"
   },
   {
    "duration": 19,
    "start_time": "2022-12-17T17:05:50.512Z"
   },
   {
    "duration": 8,
    "start_time": "2022-12-17T17:05:50.532Z"
   },
   {
    "duration": 11,
    "start_time": "2022-12-17T17:05:50.542Z"
   },
   {
    "duration": 11,
    "start_time": "2022-12-17T17:05:50.555Z"
   },
   {
    "duration": 8,
    "start_time": "2022-12-17T17:05:50.569Z"
   },
   {
    "duration": 41,
    "start_time": "2022-12-17T17:05:50.579Z"
   },
   {
    "duration": 610,
    "start_time": "2022-12-17T17:05:50.621Z"
   },
   {
    "duration": 15,
    "start_time": "2022-12-17T17:05:51.233Z"
   },
   {
    "duration": 21,
    "start_time": "2022-12-17T17:05:51.249Z"
   },
   {
    "duration": 28,
    "start_time": "2022-12-17T17:05:51.271Z"
   },
   {
    "duration": 8,
    "start_time": "2022-12-17T17:05:51.301Z"
   },
   {
    "duration": 10,
    "start_time": "2022-12-17T17:05:51.310Z"
   },
   {
    "duration": 13,
    "start_time": "2022-12-17T17:05:51.322Z"
   },
   {
    "duration": 17,
    "start_time": "2022-12-17T17:05:51.336Z"
   },
   {
    "duration": 15,
    "start_time": "2022-12-17T17:05:51.354Z"
   },
   {
    "duration": 215,
    "start_time": "2022-12-17T17:05:51.370Z"
   },
   {
    "duration": 22,
    "start_time": "2022-12-17T17:05:51.587Z"
   },
   {
    "duration": 7,
    "start_time": "2022-12-17T17:05:51.611Z"
   },
   {
    "duration": 371,
    "start_time": "2022-12-17T17:05:51.620Z"
   },
   {
    "duration": 7,
    "start_time": "2022-12-17T17:05:51.995Z"
   },
   {
    "duration": 209,
    "start_time": "2022-12-17T17:05:52.004Z"
   },
   {
    "duration": 21,
    "start_time": "2022-12-17T17:05:52.214Z"
   },
   {
    "duration": 199,
    "start_time": "2022-12-17T17:05:52.239Z"
   },
   {
    "duration": 30,
    "start_time": "2022-12-17T17:05:52.439Z"
   },
   {
    "duration": 35,
    "start_time": "2022-12-17T17:05:52.471Z"
   },
   {
    "duration": 24,
    "start_time": "2022-12-17T17:05:52.508Z"
   },
   {
    "duration": 6,
    "start_time": "2022-12-17T17:05:52.534Z"
   },
   {
    "duration": 157,
    "start_time": "2022-12-17T17:05:52.541Z"
   },
   {
    "duration": 224,
    "start_time": "2022-12-17T17:05:52.699Z"
   },
   {
    "duration": 205,
    "start_time": "2022-12-17T17:05:52.925Z"
   },
   {
    "duration": 11,
    "start_time": "2022-12-17T17:05:53.131Z"
   },
   {
    "duration": 202,
    "start_time": "2022-12-17T17:05:53.143Z"
   },
   {
    "duration": 196,
    "start_time": "2022-12-17T17:05:53.347Z"
   },
   {
    "duration": 14,
    "start_time": "2022-12-17T17:05:53.545Z"
   },
   {
    "duration": 15,
    "start_time": "2022-12-17T17:05:53.561Z"
   },
   {
    "duration": 213,
    "start_time": "2022-12-17T17:05:53.597Z"
   },
   {
    "duration": 6,
    "start_time": "2022-12-17T17:05:53.812Z"
   },
   {
    "duration": 17,
    "start_time": "2022-12-17T17:05:53.819Z"
   },
   {
    "duration": 15,
    "start_time": "2022-12-17T17:05:53.838Z"
   },
   {
    "duration": 15,
    "start_time": "2022-12-17T17:05:53.854Z"
   },
   {
    "duration": 39,
    "start_time": "2022-12-17T17:05:53.871Z"
   },
   {
    "duration": 16,
    "start_time": "2022-12-17T17:05:53.912Z"
   },
   {
    "duration": 17,
    "start_time": "2022-12-17T17:05:53.930Z"
   },
   {
    "duration": 14,
    "start_time": "2022-12-17T17:05:53.949Z"
   },
   {
    "duration": 44,
    "start_time": "2022-12-17T17:05:53.965Z"
   },
   {
    "duration": 18,
    "start_time": "2022-12-17T17:05:54.011Z"
   },
   {
    "duration": 17,
    "start_time": "2022-12-17T17:05:54.030Z"
   },
   {
    "duration": 280,
    "start_time": "2022-12-17T17:05:54.049Z"
   },
   {
    "duration": 19,
    "start_time": "2022-12-17T17:05:54.331Z"
   },
   {
    "duration": 314,
    "start_time": "2022-12-17T17:05:54.352Z"
   },
   {
    "duration": 15,
    "start_time": "2022-12-17T17:05:54.668Z"
   },
   {
    "duration": 23,
    "start_time": "2022-12-17T17:05:54.684Z"
   },
   {
    "duration": 13,
    "start_time": "2022-12-17T17:05:54.709Z"
   },
   {
    "duration": 15,
    "start_time": "2022-12-17T17:05:54.724Z"
   },
   {
    "duration": 209,
    "start_time": "2022-12-17T17:05:54.740Z"
   },
   {
    "duration": 6,
    "start_time": "2022-12-17T17:05:54.951Z"
   },
   {
    "duration": 12,
    "start_time": "2022-12-17T17:05:54.958Z"
   },
   {
    "duration": 6,
    "start_time": "2022-12-17T17:05:54.972Z"
   },
   {
    "duration": 22,
    "start_time": "2022-12-17T17:05:54.979Z"
   },
   {
    "duration": 94,
    "start_time": "2022-12-17T17:06:23.324Z"
   },
   {
    "duration": 9,
    "start_time": "2022-12-17T17:06:33.275Z"
   },
   {
    "duration": 5,
    "start_time": "2022-12-17T17:06:43.022Z"
   },
   {
    "duration": 64,
    "start_time": "2022-12-17T17:09:13.935Z"
   },
   {
    "duration": 42,
    "start_time": "2022-12-17T17:09:47.152Z"
   },
   {
    "duration": 44,
    "start_time": "2022-12-17T17:09:53.089Z"
   },
   {
    "duration": 794,
    "start_time": "2022-12-17T17:12:21.655Z"
   },
   {
    "duration": 10,
    "start_time": "2022-12-17T17:13:05.233Z"
   },
   {
    "duration": 9,
    "start_time": "2022-12-17T17:13:36.186Z"
   },
   {
    "duration": 709,
    "start_time": "2022-12-17T17:14:31.273Z"
   },
   {
    "duration": 7,
    "start_time": "2022-12-17T17:14:41.472Z"
   },
   {
    "duration": 1156,
    "start_time": "2022-12-17T17:14:51.172Z"
   },
   {
    "duration": 64,
    "start_time": "2022-12-17T17:14:52.330Z"
   },
   {
    "duration": 17,
    "start_time": "2022-12-17T17:14:52.395Z"
   },
   {
    "duration": 3,
    "start_time": "2022-12-17T17:14:52.414Z"
   },
   {
    "duration": 10,
    "start_time": "2022-12-17T17:14:52.418Z"
   },
   {
    "duration": 13,
    "start_time": "2022-12-17T17:14:52.429Z"
   },
   {
    "duration": 7,
    "start_time": "2022-12-17T17:14:52.444Z"
   },
   {
    "duration": 8,
    "start_time": "2022-12-17T17:14:52.452Z"
   },
   {
    "duration": 38,
    "start_time": "2022-12-17T17:14:52.461Z"
   },
   {
    "duration": 14,
    "start_time": "2022-12-17T17:14:52.501Z"
   },
   {
    "duration": 15,
    "start_time": "2022-12-17T17:14:52.517Z"
   },
   {
    "duration": 568,
    "start_time": "2022-12-17T17:14:52.534Z"
   },
   {
    "duration": 15,
    "start_time": "2022-12-17T17:14:53.104Z"
   },
   {
    "duration": 19,
    "start_time": "2022-12-17T17:14:53.121Z"
   },
   {
    "duration": 9,
    "start_time": "2022-12-17T17:14:53.142Z"
   },
   {
    "duration": 7,
    "start_time": "2022-12-17T17:14:53.152Z"
   },
   {
    "duration": 42,
    "start_time": "2022-12-17T17:14:53.161Z"
   },
   {
    "duration": 15,
    "start_time": "2022-12-17T17:14:53.204Z"
   },
   {
    "duration": 782,
    "start_time": "2022-12-17T17:14:53.221Z"
   },
   {
    "duration": 0,
    "start_time": "2022-12-17T17:14:54.007Z"
   },
   {
    "duration": 0,
    "start_time": "2022-12-17T17:14:54.009Z"
   },
   {
    "duration": 0,
    "start_time": "2022-12-17T17:14:54.010Z"
   },
   {
    "duration": 0,
    "start_time": "2022-12-17T17:14:54.012Z"
   },
   {
    "duration": 0,
    "start_time": "2022-12-17T17:14:54.013Z"
   },
   {
    "duration": 0,
    "start_time": "2022-12-17T17:14:54.014Z"
   },
   {
    "duration": 0,
    "start_time": "2022-12-17T17:14:54.016Z"
   },
   {
    "duration": 0,
    "start_time": "2022-12-17T17:14:54.017Z"
   },
   {
    "duration": 0,
    "start_time": "2022-12-17T17:14:54.018Z"
   },
   {
    "duration": 0,
    "start_time": "2022-12-17T17:14:54.020Z"
   },
   {
    "duration": 0,
    "start_time": "2022-12-17T17:14:54.021Z"
   },
   {
    "duration": 0,
    "start_time": "2022-12-17T17:14:54.023Z"
   },
   {
    "duration": 0,
    "start_time": "2022-12-17T17:14:54.024Z"
   },
   {
    "duration": 0,
    "start_time": "2022-12-17T17:14:54.025Z"
   },
   {
    "duration": 0,
    "start_time": "2022-12-17T17:14:54.027Z"
   },
   {
    "duration": 0,
    "start_time": "2022-12-17T17:14:54.028Z"
   },
   {
    "duration": 0,
    "start_time": "2022-12-17T17:14:54.029Z"
   },
   {
    "duration": 0,
    "start_time": "2022-12-17T17:14:54.030Z"
   },
   {
    "duration": 0,
    "start_time": "2022-12-17T17:14:54.031Z"
   },
   {
    "duration": 0,
    "start_time": "2022-12-17T17:14:54.032Z"
   },
   {
    "duration": 0,
    "start_time": "2022-12-17T17:14:54.033Z"
   },
   {
    "duration": 0,
    "start_time": "2022-12-17T17:14:54.035Z"
   },
   {
    "duration": 0,
    "start_time": "2022-12-17T17:14:54.036Z"
   },
   {
    "duration": 0,
    "start_time": "2022-12-17T17:14:54.037Z"
   },
   {
    "duration": 0,
    "start_time": "2022-12-17T17:14:54.038Z"
   },
   {
    "duration": 0,
    "start_time": "2022-12-17T17:14:54.039Z"
   },
   {
    "duration": 0,
    "start_time": "2022-12-17T17:14:54.040Z"
   },
   {
    "duration": 0,
    "start_time": "2022-12-17T17:14:54.041Z"
   },
   {
    "duration": 0,
    "start_time": "2022-12-17T17:14:54.042Z"
   },
   {
    "duration": 0,
    "start_time": "2022-12-17T17:14:54.043Z"
   },
   {
    "duration": 0,
    "start_time": "2022-12-17T17:14:54.096Z"
   },
   {
    "duration": 0,
    "start_time": "2022-12-17T17:14:54.097Z"
   },
   {
    "duration": 0,
    "start_time": "2022-12-17T17:14:54.098Z"
   },
   {
    "duration": 0,
    "start_time": "2022-12-17T17:14:54.099Z"
   },
   {
    "duration": 0,
    "start_time": "2022-12-17T17:14:54.100Z"
   },
   {
    "duration": 0,
    "start_time": "2022-12-17T17:14:54.102Z"
   },
   {
    "duration": 0,
    "start_time": "2022-12-17T17:14:54.103Z"
   },
   {
    "duration": 0,
    "start_time": "2022-12-17T17:14:54.103Z"
   },
   {
    "duration": 0,
    "start_time": "2022-12-17T17:14:54.104Z"
   },
   {
    "duration": 0,
    "start_time": "2022-12-17T17:14:54.105Z"
   },
   {
    "duration": 0,
    "start_time": "2022-12-17T17:14:54.106Z"
   },
   {
    "duration": 0,
    "start_time": "2022-12-17T17:14:54.107Z"
   },
   {
    "duration": 0,
    "start_time": "2022-12-17T17:14:54.108Z"
   },
   {
    "duration": 0,
    "start_time": "2022-12-17T17:14:54.109Z"
   },
   {
    "duration": 0,
    "start_time": "2022-12-17T17:14:54.110Z"
   },
   {
    "duration": 0,
    "start_time": "2022-12-17T17:14:54.111Z"
   },
   {
    "duration": 727,
    "start_time": "2022-12-17T17:16:26.140Z"
   },
   {
    "duration": 1142,
    "start_time": "2022-12-17T17:20:48.180Z"
   },
   {
    "duration": 60,
    "start_time": "2022-12-17T17:20:49.324Z"
   },
   {
    "duration": 16,
    "start_time": "2022-12-17T17:20:49.386Z"
   },
   {
    "duration": 8,
    "start_time": "2022-12-17T17:20:49.405Z"
   },
   {
    "duration": 7,
    "start_time": "2022-12-17T17:20:49.415Z"
   },
   {
    "duration": 13,
    "start_time": "2022-12-17T17:20:49.424Z"
   },
   {
    "duration": 8,
    "start_time": "2022-12-17T17:20:49.439Z"
   },
   {
    "duration": 10,
    "start_time": "2022-12-17T17:20:49.448Z"
   },
   {
    "duration": 20,
    "start_time": "2022-12-17T17:20:49.459Z"
   },
   {
    "duration": 18,
    "start_time": "2022-12-17T17:20:49.481Z"
   },
   {
    "duration": 13,
    "start_time": "2022-12-17T17:20:49.500Z"
   },
   {
    "duration": 573,
    "start_time": "2022-12-17T17:20:49.514Z"
   },
   {
    "duration": 14,
    "start_time": "2022-12-17T17:20:50.088Z"
   },
   {
    "duration": 18,
    "start_time": "2022-12-17T17:20:50.104Z"
   },
   {
    "duration": 9,
    "start_time": "2022-12-17T17:20:50.123Z"
   },
   {
    "duration": 8,
    "start_time": "2022-12-17T17:20:50.134Z"
   },
   {
    "duration": 8,
    "start_time": "2022-12-17T17:20:50.144Z"
   },
   {
    "duration": 7,
    "start_time": "2022-12-17T17:20:50.154Z"
   },
   {
    "duration": 1068,
    "start_time": "2022-12-17T17:34:27.651Z"
   },
   {
    "duration": 70,
    "start_time": "2022-12-17T17:34:28.721Z"
   },
   {
    "duration": 17,
    "start_time": "2022-12-17T17:34:28.793Z"
   },
   {
    "duration": 3,
    "start_time": "2022-12-17T17:34:28.812Z"
   },
   {
    "duration": 10,
    "start_time": "2022-12-17T17:34:28.816Z"
   },
   {
    "duration": 11,
    "start_time": "2022-12-17T17:34:28.828Z"
   },
   {
    "duration": 16,
    "start_time": "2022-12-17T17:34:28.841Z"
   },
   {
    "duration": 9,
    "start_time": "2022-12-17T17:34:28.859Z"
   },
   {
    "duration": 34,
    "start_time": "2022-12-17T17:34:28.870Z"
   },
   {
    "duration": 13,
    "start_time": "2022-12-17T17:34:28.908Z"
   },
   {
    "duration": 15,
    "start_time": "2022-12-17T17:34:28.923Z"
   },
   {
    "duration": 635,
    "start_time": "2022-12-17T17:34:28.940Z"
   },
   {
    "duration": 22,
    "start_time": "2022-12-17T17:34:29.577Z"
   },
   {
    "duration": 19,
    "start_time": "2022-12-17T17:34:29.600Z"
   },
   {
    "duration": 11,
    "start_time": "2022-12-17T17:34:29.620Z"
   },
   {
    "duration": 7,
    "start_time": "2022-12-17T17:34:29.633Z"
   },
   {
    "duration": 10,
    "start_time": "2022-12-17T17:34:29.641Z"
   },
   {
    "duration": 9,
    "start_time": "2022-12-17T17:34:29.653Z"
   },
   {
    "duration": 1082,
    "start_time": "2022-12-17T17:37:45.062Z"
   },
   {
    "duration": 68,
    "start_time": "2022-12-17T17:37:46.147Z"
   },
   {
    "duration": 21,
    "start_time": "2022-12-17T17:37:46.217Z"
   },
   {
    "duration": 6,
    "start_time": "2022-12-17T17:37:46.240Z"
   },
   {
    "duration": 9,
    "start_time": "2022-12-17T17:37:46.248Z"
   },
   {
    "duration": 19,
    "start_time": "2022-12-17T17:37:46.259Z"
   },
   {
    "duration": 23,
    "start_time": "2022-12-17T17:37:46.279Z"
   },
   {
    "duration": 7,
    "start_time": "2022-12-17T17:37:46.304Z"
   },
   {
    "duration": 11,
    "start_time": "2022-12-17T17:37:46.313Z"
   },
   {
    "duration": 9,
    "start_time": "2022-12-17T17:37:46.325Z"
   },
   {
    "duration": 14,
    "start_time": "2022-12-17T17:37:46.335Z"
   },
   {
    "duration": 616,
    "start_time": "2022-12-17T17:37:46.351Z"
   },
   {
    "duration": 15,
    "start_time": "2022-12-17T17:37:46.968Z"
   },
   {
    "duration": 20,
    "start_time": "2022-12-17T17:37:46.997Z"
   },
   {
    "duration": 11,
    "start_time": "2022-12-17T17:37:47.019Z"
   },
   {
    "duration": 8,
    "start_time": "2022-12-17T17:37:47.032Z"
   },
   {
    "duration": 10,
    "start_time": "2022-12-17T17:37:47.041Z"
   },
   {
    "duration": 11,
    "start_time": "2022-12-17T17:37:47.053Z"
   },
   {
    "duration": 1105,
    "start_time": "2022-12-17T17:38:28.513Z"
   },
   {
    "duration": 60,
    "start_time": "2022-12-17T17:38:29.620Z"
   },
   {
    "duration": 17,
    "start_time": "2022-12-17T17:38:29.682Z"
   },
   {
    "duration": 4,
    "start_time": "2022-12-17T17:38:29.701Z"
   },
   {
    "duration": 10,
    "start_time": "2022-12-17T17:38:29.706Z"
   },
   {
    "duration": 11,
    "start_time": "2022-12-17T17:38:29.718Z"
   },
   {
    "duration": 9,
    "start_time": "2022-12-17T17:38:29.730Z"
   },
   {
    "duration": 7,
    "start_time": "2022-12-17T17:38:29.740Z"
   },
   {
    "duration": 11,
    "start_time": "2022-12-17T17:38:29.749Z"
   },
   {
    "duration": 37,
    "start_time": "2022-12-17T17:38:29.762Z"
   },
   {
    "duration": 14,
    "start_time": "2022-12-17T17:38:29.800Z"
   },
   {
    "duration": 578,
    "start_time": "2022-12-17T17:38:29.816Z"
   },
   {
    "duration": 15,
    "start_time": "2022-12-17T17:38:30.397Z"
   },
   {
    "duration": 70,
    "start_time": "2022-12-17T17:38:30.413Z"
   },
   {
    "duration": 45,
    "start_time": "2022-12-17T17:38:30.485Z"
   },
   {
    "duration": 43,
    "start_time": "2022-12-17T17:38:30.532Z"
   },
   {
    "duration": 25,
    "start_time": "2022-12-17T17:38:30.577Z"
   },
   {
    "duration": 59,
    "start_time": "2022-12-17T17:38:30.604Z"
   },
   {
    "duration": 22,
    "start_time": "2022-12-17T17:38:30.664Z"
   },
   {
    "duration": 46,
    "start_time": "2022-12-17T17:38:30.688Z"
   },
   {
    "duration": 29,
    "start_time": "2022-12-17T17:38:30.735Z"
   },
   {
    "duration": 223,
    "start_time": "2022-12-17T17:38:30.766Z"
   },
   {
    "duration": 19,
    "start_time": "2022-12-17T17:38:30.991Z"
   },
   {
    "duration": 14,
    "start_time": "2022-12-17T17:38:31.011Z"
   },
   {
    "duration": 370,
    "start_time": "2022-12-17T17:38:31.026Z"
   },
   {
    "duration": 6,
    "start_time": "2022-12-17T17:38:31.399Z"
   },
   {
    "duration": 230,
    "start_time": "2022-12-17T17:38:31.408Z"
   },
   {
    "duration": 19,
    "start_time": "2022-12-17T17:38:31.642Z"
   },
   {
    "duration": 207,
    "start_time": "2022-12-17T17:38:31.662Z"
   },
   {
    "duration": 38,
    "start_time": "2022-12-17T17:38:31.871Z"
   },
   {
    "duration": 23,
    "start_time": "2022-12-17T17:38:31.911Z"
   },
   {
    "duration": 28,
    "start_time": "2022-12-17T17:38:31.936Z"
   },
   {
    "duration": 8,
    "start_time": "2022-12-17T17:38:31.966Z"
   },
   {
    "duration": 167,
    "start_time": "2022-12-17T17:38:31.976Z"
   },
   {
    "duration": 239,
    "start_time": "2022-12-17T17:38:32.145Z"
   },
   {
    "duration": 214,
    "start_time": "2022-12-17T17:38:32.387Z"
   },
   {
    "duration": 9,
    "start_time": "2022-12-17T17:38:32.604Z"
   },
   {
    "duration": 201,
    "start_time": "2022-12-17T17:38:32.615Z"
   },
   {
    "duration": 209,
    "start_time": "2022-12-17T17:38:32.818Z"
   },
   {
    "duration": 14,
    "start_time": "2022-12-17T17:38:33.028Z"
   },
   {
    "duration": 14,
    "start_time": "2022-12-17T17:38:33.043Z"
   },
   {
    "duration": 225,
    "start_time": "2022-12-17T17:38:33.059Z"
   },
   {
    "duration": 13,
    "start_time": "2022-12-17T17:38:33.285Z"
   },
   {
    "duration": 17,
    "start_time": "2022-12-17T17:38:33.299Z"
   },
   {
    "duration": 12,
    "start_time": "2022-12-17T17:38:33.317Z"
   },
   {
    "duration": 14,
    "start_time": "2022-12-17T17:38:33.331Z"
   },
   {
    "duration": 12,
    "start_time": "2022-12-17T17:38:33.346Z"
   },
   {
    "duration": 38,
    "start_time": "2022-12-17T17:38:33.360Z"
   },
   {
    "duration": 16,
    "start_time": "2022-12-17T17:38:33.400Z"
   },
   {
    "duration": 14,
    "start_time": "2022-12-17T17:38:33.418Z"
   },
   {
    "duration": 13,
    "start_time": "2022-12-17T17:38:33.433Z"
   },
   {
    "duration": 14,
    "start_time": "2022-12-17T17:38:33.447Z"
   },
   {
    "duration": 47,
    "start_time": "2022-12-17T17:38:33.463Z"
   },
   {
    "duration": 264,
    "start_time": "2022-12-17T17:38:33.512Z"
   },
   {
    "duration": 22,
    "start_time": "2022-12-17T17:38:33.778Z"
   },
   {
    "duration": 311,
    "start_time": "2022-12-17T17:38:33.802Z"
   },
   {
    "duration": 14,
    "start_time": "2022-12-17T17:38:34.115Z"
   },
   {
    "duration": 15,
    "start_time": "2022-12-17T17:38:34.131Z"
   },
   {
    "duration": 13,
    "start_time": "2022-12-17T17:38:34.148Z"
   },
   {
    "duration": 39,
    "start_time": "2022-12-17T17:38:34.163Z"
   },
   {
    "duration": 198,
    "start_time": "2022-12-17T17:38:34.204Z"
   },
   {
    "duration": 5,
    "start_time": "2022-12-17T17:38:34.404Z"
   },
   {
    "duration": 7,
    "start_time": "2022-12-17T17:38:34.411Z"
   },
   {
    "duration": 12,
    "start_time": "2022-12-17T17:38:34.419Z"
   },
   {
    "duration": 8,
    "start_time": "2022-12-17T17:38:34.433Z"
   },
   {
    "duration": 1143,
    "start_time": "2022-12-17T17:40:15.765Z"
   },
   {
    "duration": 61,
    "start_time": "2022-12-17T17:40:16.909Z"
   },
   {
    "duration": 18,
    "start_time": "2022-12-17T17:40:16.972Z"
   },
   {
    "duration": 2,
    "start_time": "2022-12-17T17:40:16.992Z"
   },
   {
    "duration": 7,
    "start_time": "2022-12-17T17:40:16.996Z"
   },
   {
    "duration": 15,
    "start_time": "2022-12-17T17:40:17.004Z"
   },
   {
    "duration": 8,
    "start_time": "2022-12-17T17:40:17.020Z"
   },
   {
    "duration": 16,
    "start_time": "2022-12-17T17:40:17.029Z"
   },
   {
    "duration": 11,
    "start_time": "2022-12-17T17:40:17.047Z"
   },
   {
    "duration": 10,
    "start_time": "2022-12-17T17:40:17.061Z"
   },
   {
    "duration": 31,
    "start_time": "2022-12-17T17:40:17.073Z"
   },
   {
    "duration": 554,
    "start_time": "2022-12-17T17:40:17.106Z"
   },
   {
    "duration": 14,
    "start_time": "2022-12-17T17:40:17.662Z"
   },
   {
    "duration": 33,
    "start_time": "2022-12-17T17:40:17.677Z"
   },
   {
    "duration": 10,
    "start_time": "2022-12-17T17:40:17.711Z"
   },
   {
    "duration": 9,
    "start_time": "2022-12-17T17:40:17.723Z"
   },
   {
    "duration": 7,
    "start_time": "2022-12-17T17:40:17.734Z"
   },
   {
    "duration": 8,
    "start_time": "2022-12-17T17:40:17.743Z"
   },
   {
    "duration": 1072,
    "start_time": "2022-12-17T17:42:41.268Z"
   },
   {
    "duration": 61,
    "start_time": "2022-12-17T17:42:42.342Z"
   },
   {
    "duration": 15,
    "start_time": "2022-12-17T17:42:42.405Z"
   },
   {
    "duration": 2,
    "start_time": "2022-12-17T17:42:42.422Z"
   },
   {
    "duration": 10,
    "start_time": "2022-12-17T17:42:42.426Z"
   },
   {
    "duration": 15,
    "start_time": "2022-12-17T17:42:42.437Z"
   },
   {
    "duration": 9,
    "start_time": "2022-12-17T17:42:42.454Z"
   },
   {
    "duration": 10,
    "start_time": "2022-12-17T17:42:42.464Z"
   },
   {
    "duration": 28,
    "start_time": "2022-12-17T17:42:42.475Z"
   },
   {
    "duration": 12,
    "start_time": "2022-12-17T17:42:42.506Z"
   },
   {
    "duration": 19,
    "start_time": "2022-12-17T17:42:42.519Z"
   },
   {
    "duration": 559,
    "start_time": "2022-12-17T17:42:42.540Z"
   },
   {
    "duration": 15,
    "start_time": "2022-12-17T17:42:43.100Z"
   },
   {
    "duration": 19,
    "start_time": "2022-12-17T17:42:43.117Z"
   },
   {
    "duration": 12,
    "start_time": "2022-12-17T17:42:43.138Z"
   },
   {
    "duration": 8,
    "start_time": "2022-12-17T17:42:43.151Z"
   },
   {
    "duration": 10,
    "start_time": "2022-12-17T17:42:43.160Z"
   },
   {
    "duration": 8,
    "start_time": "2022-12-17T17:42:43.197Z"
   },
   {
    "duration": 775,
    "start_time": "2022-12-17T17:42:43.206Z"
   },
   {
    "duration": 0,
    "start_time": "2022-12-17T17:42:43.984Z"
   },
   {
    "duration": 0,
    "start_time": "2022-12-17T17:42:43.985Z"
   },
   {
    "duration": 1,
    "start_time": "2022-12-17T17:42:43.986Z"
   },
   {
    "duration": 0,
    "start_time": "2022-12-17T17:42:43.987Z"
   },
   {
    "duration": 0,
    "start_time": "2022-12-17T17:42:43.989Z"
   },
   {
    "duration": 0,
    "start_time": "2022-12-17T17:42:43.990Z"
   },
   {
    "duration": 0,
    "start_time": "2022-12-17T17:42:43.990Z"
   },
   {
    "duration": 0,
    "start_time": "2022-12-17T17:42:43.991Z"
   },
   {
    "duration": 0,
    "start_time": "2022-12-17T17:42:43.993Z"
   },
   {
    "duration": 0,
    "start_time": "2022-12-17T17:42:43.993Z"
   },
   {
    "duration": 0,
    "start_time": "2022-12-17T17:42:43.994Z"
   },
   {
    "duration": 0,
    "start_time": "2022-12-17T17:42:43.995Z"
   },
   {
    "duration": 0,
    "start_time": "2022-12-17T17:42:43.996Z"
   },
   {
    "duration": 0,
    "start_time": "2022-12-17T17:42:43.997Z"
   },
   {
    "duration": 0,
    "start_time": "2022-12-17T17:42:43.998Z"
   },
   {
    "duration": 0,
    "start_time": "2022-12-17T17:42:43.999Z"
   },
   {
    "duration": 0,
    "start_time": "2022-12-17T17:42:44.000Z"
   },
   {
    "duration": 0,
    "start_time": "2022-12-17T17:42:44.001Z"
   },
   {
    "duration": 0,
    "start_time": "2022-12-17T17:42:44.002Z"
   },
   {
    "duration": 0,
    "start_time": "2022-12-17T17:42:44.003Z"
   },
   {
    "duration": 0,
    "start_time": "2022-12-17T17:42:44.004Z"
   },
   {
    "duration": 0,
    "start_time": "2022-12-17T17:42:44.005Z"
   },
   {
    "duration": 0,
    "start_time": "2022-12-17T17:42:44.006Z"
   },
   {
    "duration": 0,
    "start_time": "2022-12-17T17:42:44.006Z"
   },
   {
    "duration": 0,
    "start_time": "2022-12-17T17:42:44.007Z"
   },
   {
    "duration": 0,
    "start_time": "2022-12-17T17:42:44.008Z"
   },
   {
    "duration": 0,
    "start_time": "2022-12-17T17:42:44.009Z"
   },
   {
    "duration": 0,
    "start_time": "2022-12-17T17:42:44.010Z"
   },
   {
    "duration": 0,
    "start_time": "2022-12-17T17:42:44.011Z"
   },
   {
    "duration": 0,
    "start_time": "2022-12-17T17:42:44.011Z"
   },
   {
    "duration": 0,
    "start_time": "2022-12-17T17:42:44.013Z"
   },
   {
    "duration": 0,
    "start_time": "2022-12-17T17:42:44.013Z"
   },
   {
    "duration": 0,
    "start_time": "2022-12-17T17:42:44.014Z"
   },
   {
    "duration": 0,
    "start_time": "2022-12-17T17:42:44.015Z"
   },
   {
    "duration": 0,
    "start_time": "2022-12-17T17:42:44.016Z"
   },
   {
    "duration": 0,
    "start_time": "2022-12-17T17:42:44.017Z"
   },
   {
    "duration": 0,
    "start_time": "2022-12-17T17:42:44.018Z"
   },
   {
    "duration": 0,
    "start_time": "2022-12-17T17:42:44.019Z"
   },
   {
    "duration": 0,
    "start_time": "2022-12-17T17:42:44.020Z"
   },
   {
    "duration": 0,
    "start_time": "2022-12-17T17:42:44.021Z"
   },
   {
    "duration": 0,
    "start_time": "2022-12-17T17:42:44.022Z"
   },
   {
    "duration": 0,
    "start_time": "2022-12-17T17:42:44.023Z"
   },
   {
    "duration": 0,
    "start_time": "2022-12-17T17:42:44.024Z"
   },
   {
    "duration": 0,
    "start_time": "2022-12-17T17:42:44.026Z"
   },
   {
    "duration": 0,
    "start_time": "2022-12-17T17:42:44.027Z"
   },
   {
    "duration": 0,
    "start_time": "2022-12-17T17:42:44.028Z"
   },
   {
    "duration": 329,
    "start_time": "2022-12-17T17:43:12.913Z"
   },
   {
    "duration": 309,
    "start_time": "2022-12-17T17:43:43.916Z"
   },
   {
    "duration": 336,
    "start_time": "2022-12-17T17:43:58.198Z"
   },
   {
    "duration": 393,
    "start_time": "2022-12-17T17:44:19.630Z"
   },
   {
    "duration": 331,
    "start_time": "2022-12-17T17:44:31.649Z"
   },
   {
    "duration": 1457,
    "start_time": "2022-12-18T06:41:58.718Z"
   },
   {
    "duration": 137,
    "start_time": "2022-12-18T06:42:00.177Z"
   },
   {
    "duration": 20,
    "start_time": "2022-12-18T06:42:00.316Z"
   },
   {
    "duration": 23,
    "start_time": "2022-12-18T06:42:00.344Z"
   },
   {
    "duration": 63,
    "start_time": "2022-12-18T06:42:00.369Z"
   },
   {
    "duration": 66,
    "start_time": "2022-12-18T06:42:00.434Z"
   },
   {
    "duration": 64,
    "start_time": "2022-12-18T06:42:00.502Z"
   },
   {
    "duration": 32,
    "start_time": "2022-12-18T06:42:00.568Z"
   },
   {
    "duration": 57,
    "start_time": "2022-12-18T06:42:00.602Z"
   },
   {
    "duration": 39,
    "start_time": "2022-12-18T06:42:00.662Z"
   },
   {
    "duration": 43,
    "start_time": "2022-12-18T06:42:00.702Z"
   },
   {
    "duration": 702,
    "start_time": "2022-12-18T06:42:00.749Z"
   },
   {
    "duration": 18,
    "start_time": "2022-12-18T06:42:01.453Z"
   },
   {
    "duration": 84,
    "start_time": "2022-12-18T06:42:01.473Z"
   },
   {
    "duration": 32,
    "start_time": "2022-12-18T06:42:01.559Z"
   },
   {
    "duration": 63,
    "start_time": "2022-12-18T06:42:01.593Z"
   },
   {
    "duration": 30,
    "start_time": "2022-12-18T06:42:01.658Z"
   },
   {
    "duration": 33,
    "start_time": "2022-12-18T06:42:01.689Z"
   },
   {
    "duration": 419,
    "start_time": "2022-12-18T06:42:01.724Z"
   },
   {
    "duration": 17,
    "start_time": "2022-12-18T06:42:02.151Z"
   },
   {
    "duration": 25,
    "start_time": "2022-12-18T06:42:02.170Z"
   },
   {
    "duration": 265,
    "start_time": "2022-12-18T06:42:02.197Z"
   },
   {
    "duration": 25,
    "start_time": "2022-12-18T06:42:02.464Z"
   },
   {
    "duration": 11,
    "start_time": "2022-12-18T06:42:02.491Z"
   },
   {
    "duration": 467,
    "start_time": "2022-12-18T06:42:02.504Z"
   },
   {
    "duration": 7,
    "start_time": "2022-12-18T06:42:02.973Z"
   },
   {
    "duration": 222,
    "start_time": "2022-12-18T06:42:02.982Z"
   },
   {
    "duration": 31,
    "start_time": "2022-12-18T06:42:03.208Z"
   },
   {
    "duration": 232,
    "start_time": "2022-12-18T06:42:03.240Z"
   },
   {
    "duration": 33,
    "start_time": "2022-12-18T06:42:03.475Z"
   },
   {
    "duration": 47,
    "start_time": "2022-12-18T06:42:03.510Z"
   },
   {
    "duration": 28,
    "start_time": "2022-12-18T06:42:03.559Z"
   },
   {
    "duration": 29,
    "start_time": "2022-12-18T06:42:03.589Z"
   },
   {
    "duration": 284,
    "start_time": "2022-12-18T06:42:03.620Z"
   },
   {
    "duration": 183,
    "start_time": "2022-12-18T06:42:03.907Z"
   },
   {
    "duration": 229,
    "start_time": "2022-12-18T06:42:04.092Z"
   },
   {
    "duration": 17,
    "start_time": "2022-12-18T06:42:04.323Z"
   },
   {
    "duration": 232,
    "start_time": "2022-12-18T06:42:04.342Z"
   },
   {
    "duration": 220,
    "start_time": "2022-12-18T06:42:04.576Z"
   },
   {
    "duration": 18,
    "start_time": "2022-12-18T06:42:04.798Z"
   },
   {
    "duration": 32,
    "start_time": "2022-12-18T06:42:04.818Z"
   },
   {
    "duration": 255,
    "start_time": "2022-12-18T06:42:04.852Z"
   },
   {
    "duration": 8,
    "start_time": "2022-12-18T06:42:05.108Z"
   },
   {
    "duration": 53,
    "start_time": "2022-12-18T06:42:05.118Z"
   },
   {
    "duration": 33,
    "start_time": "2022-12-18T06:42:05.173Z"
   },
   {
    "duration": 54,
    "start_time": "2022-12-18T06:42:05.208Z"
   },
   {
    "duration": 42,
    "start_time": "2022-12-18T06:42:05.264Z"
   },
   {
    "duration": 51,
    "start_time": "2022-12-18T06:42:05.309Z"
   },
   {
    "duration": 23,
    "start_time": "2022-12-18T06:42:05.361Z"
   },
   {
    "duration": 23,
    "start_time": "2022-12-18T06:42:05.386Z"
   },
   {
    "duration": 31,
    "start_time": "2022-12-18T06:42:05.411Z"
   },
   {
    "duration": 53,
    "start_time": "2022-12-18T06:42:05.448Z"
   },
   {
    "duration": 37,
    "start_time": "2022-12-18T06:42:05.504Z"
   },
   {
    "duration": 281,
    "start_time": "2022-12-18T06:42:05.548Z"
   },
   {
    "duration": 25,
    "start_time": "2022-12-18T06:42:05.831Z"
   },
   {
    "duration": 348,
    "start_time": "2022-12-18T06:42:05.858Z"
   },
   {
    "duration": 15,
    "start_time": "2022-12-18T06:42:06.208Z"
   },
   {
    "duration": 29,
    "start_time": "2022-12-18T06:42:06.240Z"
   },
   {
    "duration": 25,
    "start_time": "2022-12-18T06:42:06.272Z"
   },
   {
    "duration": 31,
    "start_time": "2022-12-18T06:42:06.299Z"
   },
   {
    "duration": 232,
    "start_time": "2022-12-18T06:42:06.332Z"
   },
   {
    "duration": 5,
    "start_time": "2022-12-18T06:42:06.566Z"
   },
   {
    "duration": 11,
    "start_time": "2022-12-18T06:42:06.573Z"
   },
   {
    "duration": 11,
    "start_time": "2022-12-18T06:42:06.586Z"
   },
   {
    "duration": 20,
    "start_time": "2022-12-18T06:42:06.599Z"
   },
   {
    "duration": 826,
    "start_time": "2022-12-18T06:43:19.565Z"
   },
   {
    "duration": 723,
    "start_time": "2022-12-18T06:43:28.881Z"
   },
   {
    "duration": 117,
    "start_time": "2022-12-18T06:44:35.500Z"
   },
   {
    "duration": 1299,
    "start_time": "2022-12-18T06:44:48.157Z"
   },
   {
    "duration": 74,
    "start_time": "2022-12-18T06:44:49.459Z"
   },
   {
    "duration": 26,
    "start_time": "2022-12-18T06:44:49.537Z"
   },
   {
    "duration": 12,
    "start_time": "2022-12-18T06:44:49.566Z"
   },
   {
    "duration": 33,
    "start_time": "2022-12-18T06:44:49.580Z"
   },
   {
    "duration": 35,
    "start_time": "2022-12-18T06:44:49.615Z"
   },
   {
    "duration": 47,
    "start_time": "2022-12-18T06:44:49.652Z"
   },
   {
    "duration": 31,
    "start_time": "2022-12-18T06:44:49.701Z"
   },
   {
    "duration": 51,
    "start_time": "2022-12-18T06:44:49.734Z"
   },
   {
    "duration": 23,
    "start_time": "2022-12-18T06:44:49.788Z"
   },
   {
    "duration": 26,
    "start_time": "2022-12-18T06:44:49.813Z"
   },
   {
    "duration": 700,
    "start_time": "2022-12-18T06:44:49.843Z"
   },
   {
    "duration": 25,
    "start_time": "2022-12-18T06:44:50.545Z"
   },
   {
    "duration": 33,
    "start_time": "2022-12-18T06:44:50.572Z"
   },
   {
    "duration": 21,
    "start_time": "2022-12-18T06:44:50.607Z"
   },
   {
    "duration": 36,
    "start_time": "2022-12-18T06:44:50.635Z"
   },
   {
    "duration": 19,
    "start_time": "2022-12-18T06:44:50.675Z"
   },
   {
    "duration": 13,
    "start_time": "2022-12-18T06:44:50.697Z"
   },
   {
    "duration": 564,
    "start_time": "2022-12-18T06:44:50.712Z"
   },
   {
    "duration": 19,
    "start_time": "2022-12-18T06:44:51.279Z"
   },
   {
    "duration": 13,
    "start_time": "2022-12-18T06:44:51.300Z"
   },
   {
    "duration": 260,
    "start_time": "2022-12-18T06:44:51.315Z"
   },
   {
    "duration": 21,
    "start_time": "2022-12-18T06:44:51.577Z"
   },
   {
    "duration": 23,
    "start_time": "2022-12-18T06:44:51.600Z"
   },
   {
    "duration": 472,
    "start_time": "2022-12-18T06:44:51.625Z"
   },
   {
    "duration": 9,
    "start_time": "2022-12-18T06:44:52.099Z"
   },
   {
    "duration": 341,
    "start_time": "2022-12-18T06:44:52.110Z"
   },
   {
    "duration": 32,
    "start_time": "2022-12-18T06:44:52.455Z"
   },
   {
    "duration": 323,
    "start_time": "2022-12-18T06:44:52.489Z"
   },
   {
    "duration": 51,
    "start_time": "2022-12-18T06:44:52.814Z"
   },
   {
    "duration": 56,
    "start_time": "2022-12-18T06:44:52.868Z"
   },
   {
    "duration": 53,
    "start_time": "2022-12-18T06:44:52.926Z"
   },
   {
    "duration": 18,
    "start_time": "2022-12-18T06:44:52.980Z"
   },
   {
    "duration": 267,
    "start_time": "2022-12-18T06:44:53.000Z"
   },
   {
    "duration": 153,
    "start_time": "2022-12-18T06:44:53.269Z"
   },
   {
    "duration": 231,
    "start_time": "2022-12-18T06:44:53.424Z"
   },
   {
    "duration": 10,
    "start_time": "2022-12-18T06:44:53.657Z"
   },
   {
    "duration": 211,
    "start_time": "2022-12-18T06:44:53.669Z"
   },
   {
    "duration": 203,
    "start_time": "2022-12-18T06:44:53.881Z"
   },
   {
    "duration": 12,
    "start_time": "2022-12-18T06:44:54.086Z"
   },
   {
    "duration": 14,
    "start_time": "2022-12-18T06:44:54.100Z"
   },
   {
    "duration": 251,
    "start_time": "2022-12-18T06:44:54.115Z"
   },
   {
    "duration": 6,
    "start_time": "2022-12-18T06:44:54.368Z"
   },
   {
    "duration": 20,
    "start_time": "2022-12-18T06:44:54.375Z"
   },
   {
    "duration": 13,
    "start_time": "2022-12-18T06:44:54.396Z"
   },
   {
    "duration": 43,
    "start_time": "2022-12-18T06:44:54.411Z"
   },
   {
    "duration": 40,
    "start_time": "2022-12-18T06:44:54.455Z"
   },
   {
    "duration": 17,
    "start_time": "2022-12-18T06:44:54.497Z"
   },
   {
    "duration": 39,
    "start_time": "2022-12-18T06:44:54.516Z"
   },
   {
    "duration": 15,
    "start_time": "2022-12-18T06:44:54.556Z"
   },
   {
    "duration": 66,
    "start_time": "2022-12-18T06:44:54.572Z"
   },
   {
    "duration": 19,
    "start_time": "2022-12-18T06:44:54.640Z"
   },
   {
    "duration": 22,
    "start_time": "2022-12-18T06:44:54.661Z"
   },
   {
    "duration": 671,
    "start_time": "2022-12-18T06:44:54.684Z"
   },
   {
    "duration": 19,
    "start_time": "2022-12-18T06:44:55.357Z"
   },
   {
    "duration": 693,
    "start_time": "2022-12-18T06:44:55.377Z"
   },
   {
    "duration": 70,
    "start_time": "2022-12-18T06:44:56.072Z"
   },
   {
    "duration": 34,
    "start_time": "2022-12-18T06:44:56.143Z"
   },
   {
    "duration": 62,
    "start_time": "2022-12-18T06:44:56.179Z"
   },
   {
    "duration": 26,
    "start_time": "2022-12-18T06:44:56.244Z"
   },
   {
    "duration": 480,
    "start_time": "2022-12-18T06:44:56.272Z"
   },
   {
    "duration": 9,
    "start_time": "2022-12-18T06:44:56.754Z"
   },
   {
    "duration": 18,
    "start_time": "2022-12-18T06:44:56.765Z"
   },
   {
    "duration": 15,
    "start_time": "2022-12-18T06:44:56.785Z"
   },
   {
    "duration": 12,
    "start_time": "2022-12-18T06:44:56.802Z"
   },
   {
    "duration": 522,
    "start_time": "2022-12-18T06:50:52.484Z"
   },
   {
    "duration": 371,
    "start_time": "2022-12-18T06:51:15.216Z"
   },
   {
    "duration": 363,
    "start_time": "2022-12-18T06:51:27.660Z"
   },
   {
    "duration": 115,
    "start_time": "2022-12-18T06:52:17.549Z"
   },
   {
    "duration": 11,
    "start_time": "2022-12-18T06:52:23.152Z"
   },
   {
    "duration": 1216,
    "start_time": "2022-12-18T06:52:28.935Z"
   },
   {
    "duration": 69,
    "start_time": "2022-12-18T06:52:30.152Z"
   },
   {
    "duration": 28,
    "start_time": "2022-12-18T06:52:30.223Z"
   },
   {
    "duration": 23,
    "start_time": "2022-12-18T06:52:30.253Z"
   },
   {
    "duration": 19,
    "start_time": "2022-12-18T06:52:30.278Z"
   },
   {
    "duration": 67,
    "start_time": "2022-12-18T06:52:30.299Z"
   },
   {
    "duration": 87,
    "start_time": "2022-12-18T06:52:30.368Z"
   },
   {
    "duration": 58,
    "start_time": "2022-12-18T06:52:30.457Z"
   },
   {
    "duration": 39,
    "start_time": "2022-12-18T06:52:30.518Z"
   },
   {
    "duration": 26,
    "start_time": "2022-12-18T06:52:30.559Z"
   },
   {
    "duration": 29,
    "start_time": "2022-12-18T06:52:30.587Z"
   },
   {
    "duration": 667,
    "start_time": "2022-12-18T06:52:30.617Z"
   },
   {
    "duration": 16,
    "start_time": "2022-12-18T06:52:31.286Z"
   },
   {
    "duration": 44,
    "start_time": "2022-12-18T06:52:31.304Z"
   },
   {
    "duration": 16,
    "start_time": "2022-12-18T06:52:31.351Z"
   },
   {
    "duration": 25,
    "start_time": "2022-12-18T06:52:31.369Z"
   },
   {
    "duration": 50,
    "start_time": "2022-12-18T06:52:31.398Z"
   },
   {
    "duration": 17,
    "start_time": "2022-12-18T06:52:31.450Z"
   },
   {
    "duration": 417,
    "start_time": "2022-12-18T06:52:31.469Z"
   },
   {
    "duration": 14,
    "start_time": "2022-12-18T06:52:31.888Z"
   },
   {
    "duration": 14,
    "start_time": "2022-12-18T06:52:31.904Z"
   },
   {
    "duration": 250,
    "start_time": "2022-12-18T06:52:31.921Z"
   },
   {
    "duration": 18,
    "start_time": "2022-12-18T06:52:32.173Z"
   },
   {
    "duration": 11,
    "start_time": "2022-12-18T06:52:32.192Z"
   },
   {
    "duration": 462,
    "start_time": "2022-12-18T06:52:32.205Z"
   },
   {
    "duration": 9,
    "start_time": "2022-12-18T06:52:32.669Z"
   },
   {
    "duration": 237,
    "start_time": "2022-12-18T06:52:32.684Z"
   },
   {
    "duration": 32,
    "start_time": "2022-12-18T06:52:32.923Z"
   },
   {
    "duration": 230,
    "start_time": "2022-12-18T06:52:32.956Z"
   },
   {
    "duration": 33,
    "start_time": "2022-12-18T06:52:33.188Z"
   },
   {
    "duration": 41,
    "start_time": "2022-12-18T06:52:33.222Z"
   },
   {
    "duration": 22,
    "start_time": "2022-12-18T06:52:33.265Z"
   },
   {
    "duration": 26,
    "start_time": "2022-12-18T06:52:33.289Z"
   },
   {
    "duration": 257,
    "start_time": "2022-12-18T06:52:33.317Z"
   },
   {
    "duration": 163,
    "start_time": "2022-12-18T06:52:33.576Z"
   },
   {
    "duration": 217,
    "start_time": "2022-12-18T06:52:33.740Z"
   },
   {
    "duration": 10,
    "start_time": "2022-12-18T06:52:33.959Z"
   },
   {
    "duration": 218,
    "start_time": "2022-12-18T06:52:33.970Z"
   },
   {
    "duration": 209,
    "start_time": "2022-12-18T06:52:34.189Z"
   },
   {
    "duration": 14,
    "start_time": "2022-12-18T06:52:34.400Z"
   },
   {
    "duration": 36,
    "start_time": "2022-12-18T06:52:34.416Z"
   },
   {
    "duration": 242,
    "start_time": "2022-12-18T06:52:34.454Z"
   },
   {
    "duration": 6,
    "start_time": "2022-12-18T06:52:34.698Z"
   },
   {
    "duration": 49,
    "start_time": "2022-12-18T06:52:34.705Z"
   },
   {
    "duration": 24,
    "start_time": "2022-12-18T06:52:34.756Z"
   },
   {
    "duration": 36,
    "start_time": "2022-12-18T06:52:34.781Z"
   },
   {
    "duration": 18,
    "start_time": "2022-12-18T06:52:34.818Z"
   },
   {
    "duration": 33,
    "start_time": "2022-12-18T06:52:34.837Z"
   },
   {
    "duration": 24,
    "start_time": "2022-12-18T06:52:34.871Z"
   },
   {
    "duration": 14,
    "start_time": "2022-12-18T06:52:34.897Z"
   },
   {
    "duration": 18,
    "start_time": "2022-12-18T06:52:34.912Z"
   },
   {
    "duration": 25,
    "start_time": "2022-12-18T06:52:34.932Z"
   },
   {
    "duration": 24,
    "start_time": "2022-12-18T06:52:34.959Z"
   },
   {
    "duration": 454,
    "start_time": "2022-12-18T06:52:34.985Z"
   },
   {
    "duration": 22,
    "start_time": "2022-12-18T06:52:35.441Z"
   },
   {
    "duration": 563,
    "start_time": "2022-12-18T06:52:35.465Z"
   },
   {
    "duration": 29,
    "start_time": "2022-12-18T06:52:36.030Z"
   },
   {
    "duration": 22,
    "start_time": "2022-12-18T06:52:36.061Z"
   },
   {
    "duration": 20,
    "start_time": "2022-12-18T06:52:36.085Z"
   },
   {
    "duration": 22,
    "start_time": "2022-12-18T06:52:36.107Z"
   },
   {
    "duration": 231,
    "start_time": "2022-12-18T06:52:36.139Z"
   },
   {
    "duration": 6,
    "start_time": "2022-12-18T06:52:36.371Z"
   },
   {
    "duration": 12,
    "start_time": "2022-12-18T06:52:36.379Z"
   },
   {
    "duration": 16,
    "start_time": "2022-12-18T06:52:36.393Z"
   },
   {
    "duration": 17,
    "start_time": "2022-12-18T06:52:36.410Z"
   },
   {
    "duration": 300,
    "start_time": "2022-12-18T07:07:03.635Z"
   },
   {
    "duration": 43,
    "start_time": "2022-12-18T07:10:47.666Z"
   },
   {
    "duration": 74,
    "start_time": "2022-12-18T07:11:03.782Z"
   },
   {
    "duration": 244,
    "start_time": "2022-12-18T07:11:16.938Z"
   },
   {
    "duration": 51,
    "start_time": "2022-12-18T07:12:52.998Z"
   },
   {
    "duration": 45,
    "start_time": "2022-12-18T07:13:13.382Z"
   },
   {
    "duration": 190,
    "start_time": "2022-12-18T07:13:43.865Z"
   },
   {
    "duration": 203,
    "start_time": "2022-12-18T07:14:12.157Z"
   },
   {
    "duration": 195,
    "start_time": "2022-12-18T07:14:31.633Z"
   },
   {
    "duration": 169,
    "start_time": "2022-12-18T07:15:05.579Z"
   },
   {
    "duration": 1333,
    "start_time": "2022-12-18T09:11:30.695Z"
   },
   {
    "duration": 253,
    "start_time": "2022-12-18T09:11:32.030Z"
   },
   {
    "duration": 18,
    "start_time": "2022-12-18T09:11:32.284Z"
   },
   {
    "duration": 15,
    "start_time": "2022-12-18T09:11:32.304Z"
   },
   {
    "duration": 12,
    "start_time": "2022-12-18T09:11:32.321Z"
   },
   {
    "duration": 28,
    "start_time": "2022-12-18T09:11:32.335Z"
   },
   {
    "duration": 35,
    "start_time": "2022-12-18T09:11:32.364Z"
   },
   {
    "duration": 15,
    "start_time": "2022-12-18T09:11:32.400Z"
   },
   {
    "duration": 44,
    "start_time": "2022-12-18T09:11:32.417Z"
   },
   {
    "duration": 28,
    "start_time": "2022-12-18T09:11:32.464Z"
   },
   {
    "duration": 21,
    "start_time": "2022-12-18T09:11:32.494Z"
   },
   {
    "duration": 621,
    "start_time": "2022-12-18T09:11:32.517Z"
   },
   {
    "duration": 17,
    "start_time": "2022-12-18T09:11:33.140Z"
   },
   {
    "duration": 40,
    "start_time": "2022-12-18T09:11:33.158Z"
   },
   {
    "duration": 13,
    "start_time": "2022-12-18T09:11:33.200Z"
   },
   {
    "duration": 15,
    "start_time": "2022-12-18T09:11:33.215Z"
   },
   {
    "duration": 8,
    "start_time": "2022-12-18T09:11:33.232Z"
   },
   {
    "duration": 21,
    "start_time": "2022-12-18T09:11:33.242Z"
   },
   {
    "duration": 374,
    "start_time": "2022-12-18T09:11:33.265Z"
   },
   {
    "duration": 15,
    "start_time": "2022-12-18T09:11:33.641Z"
   },
   {
    "duration": 10,
    "start_time": "2022-12-18T09:11:33.658Z"
   },
   {
    "duration": 202,
    "start_time": "2022-12-18T09:11:33.670Z"
   },
   {
    "duration": 19,
    "start_time": "2022-12-18T09:11:33.874Z"
   },
   {
    "duration": 20,
    "start_time": "2022-12-18T09:11:33.894Z"
   },
   {
    "duration": 335,
    "start_time": "2022-12-18T09:11:33.916Z"
   },
   {
    "duration": 6,
    "start_time": "2022-12-18T09:11:34.253Z"
   },
   {
    "duration": 177,
    "start_time": "2022-12-18T09:11:34.260Z"
   },
   {
    "duration": 19,
    "start_time": "2022-12-18T09:11:34.441Z"
   },
   {
    "duration": 202,
    "start_time": "2022-12-18T09:11:34.462Z"
   },
   {
    "duration": 55,
    "start_time": "2022-12-18T09:11:34.666Z"
   },
   {
    "duration": 21,
    "start_time": "2022-12-18T09:11:34.723Z"
   },
   {
    "duration": 24,
    "start_time": "2022-12-18T09:11:34.746Z"
   },
   {
    "duration": 22,
    "start_time": "2022-12-18T09:11:34.772Z"
   },
   {
    "duration": 225,
    "start_time": "2022-12-18T09:11:34.796Z"
   },
   {
    "duration": 138,
    "start_time": "2022-12-18T09:11:35.023Z"
   },
   {
    "duration": 210,
    "start_time": "2022-12-18T09:11:35.163Z"
   },
   {
    "duration": 11,
    "start_time": "2022-12-18T09:11:35.376Z"
   },
   {
    "duration": 192,
    "start_time": "2022-12-18T09:11:35.388Z"
   },
   {
    "duration": 188,
    "start_time": "2022-12-18T09:11:35.582Z"
   },
   {
    "duration": 12,
    "start_time": "2022-12-18T09:11:35.772Z"
   },
   {
    "duration": 28,
    "start_time": "2022-12-18T09:11:35.786Z"
   },
   {
    "duration": 203,
    "start_time": "2022-12-18T09:11:35.815Z"
   },
   {
    "duration": 6,
    "start_time": "2022-12-18T09:11:36.020Z"
   },
   {
    "duration": 19,
    "start_time": "2022-12-18T09:11:36.027Z"
   },
   {
    "duration": 13,
    "start_time": "2022-12-18T09:11:36.048Z"
   },
   {
    "duration": 18,
    "start_time": "2022-12-18T09:11:36.062Z"
   },
   {
    "duration": 32,
    "start_time": "2022-12-18T09:11:36.082Z"
   },
   {
    "duration": 14,
    "start_time": "2022-12-18T09:11:36.116Z"
   },
   {
    "duration": 17,
    "start_time": "2022-12-18T09:11:36.133Z"
   },
   {
    "duration": 15,
    "start_time": "2022-12-18T09:11:36.152Z"
   },
   {
    "duration": 45,
    "start_time": "2022-12-18T09:11:36.169Z"
   },
   {
    "duration": 15,
    "start_time": "2022-12-18T09:11:36.216Z"
   },
   {
    "duration": 18,
    "start_time": "2022-12-18T09:11:36.233Z"
   },
   {
    "duration": 261,
    "start_time": "2022-12-18T09:11:36.252Z"
   },
   {
    "duration": 17,
    "start_time": "2022-12-18T09:11:36.514Z"
   },
   {
    "duration": 290,
    "start_time": "2022-12-18T09:11:36.533Z"
   },
   {
    "duration": 13,
    "start_time": "2022-12-18T09:11:36.825Z"
   },
   {
    "duration": 14,
    "start_time": "2022-12-18T09:11:36.840Z"
   },
   {
    "duration": 13,
    "start_time": "2022-12-18T09:11:36.855Z"
   },
   {
    "duration": 29,
    "start_time": "2022-12-18T09:11:36.869Z"
   },
   {
    "duration": 220,
    "start_time": "2022-12-18T09:11:36.900Z"
   },
   {
    "duration": 5,
    "start_time": "2022-12-18T09:11:37.122Z"
   },
   {
    "duration": 8,
    "start_time": "2022-12-18T09:11:37.129Z"
   },
   {
    "duration": 7,
    "start_time": "2022-12-18T09:11:37.138Z"
   },
   {
    "duration": 9,
    "start_time": "2022-12-18T09:11:37.147Z"
   },
   {
    "duration": 102,
    "start_time": "2022-12-18T09:14:24.372Z"
   },
   {
    "duration": 862,
    "start_time": "2022-12-18T09:16:11.303Z"
   },
   {
    "duration": 817,
    "start_time": "2022-12-18T09:16:27.323Z"
   },
   {
    "duration": 10,
    "start_time": "2022-12-18T09:19:34.552Z"
   },
   {
    "duration": 895,
    "start_time": "2022-12-18T09:20:20.537Z"
   },
   {
    "duration": 5,
    "start_time": "2022-12-18T09:23:54.686Z"
   },
   {
    "duration": 12,
    "start_time": "2022-12-18T09:26:35.804Z"
   },
   {
    "duration": 14,
    "start_time": "2022-12-18T09:27:02.170Z"
   },
   {
    "duration": 13,
    "start_time": "2022-12-18T09:28:25.286Z"
   },
   {
    "duration": 1084,
    "start_time": "2022-12-18T09:28:37.570Z"
   },
   {
    "duration": 64,
    "start_time": "2022-12-18T09:28:38.656Z"
   },
   {
    "duration": 17,
    "start_time": "2022-12-18T09:28:38.721Z"
   },
   {
    "duration": 23,
    "start_time": "2022-12-18T09:28:38.740Z"
   },
   {
    "duration": 21,
    "start_time": "2022-12-18T09:28:38.765Z"
   },
   {
    "duration": 23,
    "start_time": "2022-12-18T09:28:38.788Z"
   },
   {
    "duration": 18,
    "start_time": "2022-12-18T09:28:38.812Z"
   },
   {
    "duration": 10,
    "start_time": "2022-12-18T09:28:38.832Z"
   },
   {
    "duration": 20,
    "start_time": "2022-12-18T09:28:38.844Z"
   },
   {
    "duration": 21,
    "start_time": "2022-12-18T09:28:38.866Z"
   },
   {
    "duration": 21,
    "start_time": "2022-12-18T09:28:38.889Z"
   },
   {
    "duration": 591,
    "start_time": "2022-12-18T09:28:38.912Z"
   },
   {
    "duration": 15,
    "start_time": "2022-12-18T09:28:39.513Z"
   },
   {
    "duration": 26,
    "start_time": "2022-12-18T09:28:39.530Z"
   },
   {
    "duration": 37,
    "start_time": "2022-12-18T09:28:39.557Z"
   },
   {
    "duration": 9,
    "start_time": "2022-12-18T09:28:39.595Z"
   },
   {
    "duration": 40,
    "start_time": "2022-12-18T09:28:39.605Z"
   },
   {
    "duration": 24,
    "start_time": "2022-12-18T09:28:39.646Z"
   },
   {
    "duration": 375,
    "start_time": "2022-12-18T09:28:39.672Z"
   },
   {
    "duration": 15,
    "start_time": "2022-12-18T09:28:40.049Z"
   },
   {
    "duration": 19,
    "start_time": "2022-12-18T09:28:40.066Z"
   },
   {
    "duration": 249,
    "start_time": "2022-12-18T09:28:40.087Z"
   },
   {
    "duration": 23,
    "start_time": "2022-12-18T09:28:40.338Z"
   },
   {
    "duration": 9,
    "start_time": "2022-12-18T09:28:40.363Z"
   },
   {
    "duration": 383,
    "start_time": "2022-12-18T09:28:40.374Z"
   },
   {
    "duration": 7,
    "start_time": "2022-12-18T09:28:40.759Z"
   },
   {
    "duration": 191,
    "start_time": "2022-12-18T09:28:40.767Z"
   },
   {
    "duration": 106,
    "start_time": "2022-12-18T09:28:40.961Z"
   },
   {
    "duration": 0,
    "start_time": "2022-12-18T09:28:41.068Z"
   },
   {
    "duration": 0,
    "start_time": "2022-12-18T09:28:41.069Z"
   },
   {
    "duration": 0,
    "start_time": "2022-12-18T09:28:41.071Z"
   },
   {
    "duration": 0,
    "start_time": "2022-12-18T09:28:41.072Z"
   },
   {
    "duration": 0,
    "start_time": "2022-12-18T09:28:41.073Z"
   },
   {
    "duration": 0,
    "start_time": "2022-12-18T09:28:41.074Z"
   },
   {
    "duration": 0,
    "start_time": "2022-12-18T09:28:41.075Z"
   },
   {
    "duration": 0,
    "start_time": "2022-12-18T09:28:41.076Z"
   },
   {
    "duration": 0,
    "start_time": "2022-12-18T09:28:41.077Z"
   },
   {
    "duration": 0,
    "start_time": "2022-12-18T09:28:41.078Z"
   },
   {
    "duration": 0,
    "start_time": "2022-12-18T09:28:41.079Z"
   },
   {
    "duration": 0,
    "start_time": "2022-12-18T09:28:41.080Z"
   },
   {
    "duration": 0,
    "start_time": "2022-12-18T09:28:41.081Z"
   },
   {
    "duration": 0,
    "start_time": "2022-12-18T09:28:41.082Z"
   },
   {
    "duration": 0,
    "start_time": "2022-12-18T09:28:41.083Z"
   },
   {
    "duration": 0,
    "start_time": "2022-12-18T09:28:41.084Z"
   },
   {
    "duration": 0,
    "start_time": "2022-12-18T09:28:41.113Z"
   },
   {
    "duration": 0,
    "start_time": "2022-12-18T09:28:41.114Z"
   },
   {
    "duration": 0,
    "start_time": "2022-12-18T09:28:41.115Z"
   },
   {
    "duration": 0,
    "start_time": "2022-12-18T09:28:41.116Z"
   },
   {
    "duration": 0,
    "start_time": "2022-12-18T09:28:41.117Z"
   },
   {
    "duration": 0,
    "start_time": "2022-12-18T09:28:41.118Z"
   },
   {
    "duration": 0,
    "start_time": "2022-12-18T09:28:41.119Z"
   },
   {
    "duration": 0,
    "start_time": "2022-12-18T09:28:41.120Z"
   },
   {
    "duration": 0,
    "start_time": "2022-12-18T09:28:41.121Z"
   },
   {
    "duration": 0,
    "start_time": "2022-12-18T09:28:41.122Z"
   },
   {
    "duration": 0,
    "start_time": "2022-12-18T09:28:41.123Z"
   },
   {
    "duration": 0,
    "start_time": "2022-12-18T09:28:41.124Z"
   },
   {
    "duration": 0,
    "start_time": "2022-12-18T09:28:41.125Z"
   },
   {
    "duration": 0,
    "start_time": "2022-12-18T09:28:41.126Z"
   },
   {
    "duration": 0,
    "start_time": "2022-12-18T09:28:41.128Z"
   },
   {
    "duration": 0,
    "start_time": "2022-12-18T09:28:41.129Z"
   },
   {
    "duration": 0,
    "start_time": "2022-12-18T09:28:41.129Z"
   },
   {
    "duration": 0,
    "start_time": "2022-12-18T09:28:41.130Z"
   },
   {
    "duration": 0,
    "start_time": "2022-12-18T09:28:41.131Z"
   },
   {
    "duration": 0,
    "start_time": "2022-12-18T09:28:41.132Z"
   },
   {
    "duration": 0,
    "start_time": "2022-12-18T09:28:41.133Z"
   },
   {
    "duration": 12,
    "start_time": "2022-12-18T09:30:04.204Z"
   },
   {
    "duration": 12,
    "start_time": "2022-12-18T09:30:06.673Z"
   },
   {
    "duration": 14,
    "start_time": "2022-12-18T09:30:19.138Z"
   },
   {
    "duration": 9,
    "start_time": "2022-12-18T09:30:33.480Z"
   },
   {
    "duration": 1229,
    "start_time": "2022-12-18T09:30:45.330Z"
   },
   {
    "duration": 72,
    "start_time": "2022-12-18T09:30:46.561Z"
   },
   {
    "duration": 18,
    "start_time": "2022-12-18T09:30:46.635Z"
   },
   {
    "duration": 4,
    "start_time": "2022-12-18T09:30:46.655Z"
   },
   {
    "duration": 12,
    "start_time": "2022-12-18T09:30:46.660Z"
   },
   {
    "duration": 18,
    "start_time": "2022-12-18T09:30:46.673Z"
   },
   {
    "duration": 25,
    "start_time": "2022-12-18T09:30:46.693Z"
   },
   {
    "duration": 7,
    "start_time": "2022-12-18T09:30:46.720Z"
   },
   {
    "duration": 22,
    "start_time": "2022-12-18T09:30:46.729Z"
   },
   {
    "duration": 9,
    "start_time": "2022-12-18T09:30:46.754Z"
   },
   {
    "duration": 20,
    "start_time": "2022-12-18T09:30:46.765Z"
   },
   {
    "duration": 628,
    "start_time": "2022-12-18T09:30:46.787Z"
   },
   {
    "duration": 16,
    "start_time": "2022-12-18T09:30:47.416Z"
   },
   {
    "duration": 22,
    "start_time": "2022-12-18T09:30:47.434Z"
   },
   {
    "duration": 15,
    "start_time": "2022-12-18T09:30:47.458Z"
   },
   {
    "duration": 15,
    "start_time": "2022-12-18T09:30:47.474Z"
   },
   {
    "duration": 31,
    "start_time": "2022-12-18T09:30:47.491Z"
   },
   {
    "duration": 25,
    "start_time": "2022-12-18T09:30:47.524Z"
   },
   {
    "duration": 394,
    "start_time": "2022-12-18T09:30:47.551Z"
   },
   {
    "duration": 15,
    "start_time": "2022-12-18T09:30:47.947Z"
   },
   {
    "duration": 18,
    "start_time": "2022-12-18T09:30:47.964Z"
   },
   {
    "duration": 209,
    "start_time": "2022-12-18T09:30:47.984Z"
   },
   {
    "duration": 29,
    "start_time": "2022-12-18T09:30:48.195Z"
   },
   {
    "duration": 8,
    "start_time": "2022-12-18T09:30:48.226Z"
   },
   {
    "duration": 366,
    "start_time": "2022-12-18T09:30:48.236Z"
   },
   {
    "duration": 14,
    "start_time": "2022-12-18T09:30:48.603Z"
   },
   {
    "duration": 188,
    "start_time": "2022-12-18T09:30:48.619Z"
   },
   {
    "duration": 114,
    "start_time": "2022-12-18T09:30:48.815Z"
   },
   {
    "duration": 0,
    "start_time": "2022-12-18T09:30:48.930Z"
   },
   {
    "duration": 0,
    "start_time": "2022-12-18T09:30:48.932Z"
   },
   {
    "duration": 0,
    "start_time": "2022-12-18T09:30:48.934Z"
   },
   {
    "duration": 0,
    "start_time": "2022-12-18T09:30:48.935Z"
   },
   {
    "duration": 0,
    "start_time": "2022-12-18T09:30:48.936Z"
   },
   {
    "duration": 0,
    "start_time": "2022-12-18T09:30:48.938Z"
   },
   {
    "duration": 0,
    "start_time": "2022-12-18T09:30:48.938Z"
   },
   {
    "duration": 0,
    "start_time": "2022-12-18T09:30:48.939Z"
   },
   {
    "duration": 0,
    "start_time": "2022-12-18T09:30:48.941Z"
   },
   {
    "duration": 0,
    "start_time": "2022-12-18T09:30:48.941Z"
   },
   {
    "duration": 0,
    "start_time": "2022-12-18T09:30:48.943Z"
   },
   {
    "duration": 0,
    "start_time": "2022-12-18T09:30:48.944Z"
   },
   {
    "duration": 0,
    "start_time": "2022-12-18T09:30:48.945Z"
   },
   {
    "duration": 0,
    "start_time": "2022-12-18T09:30:48.946Z"
   },
   {
    "duration": 0,
    "start_time": "2022-12-18T09:30:48.947Z"
   },
   {
    "duration": 0,
    "start_time": "2022-12-18T09:30:48.949Z"
   },
   {
    "duration": 0,
    "start_time": "2022-12-18T09:30:48.950Z"
   },
   {
    "duration": 0,
    "start_time": "2022-12-18T09:30:48.951Z"
   },
   {
    "duration": 0,
    "start_time": "2022-12-18T09:30:48.952Z"
   },
   {
    "duration": 0,
    "start_time": "2022-12-18T09:30:48.953Z"
   },
   {
    "duration": 0,
    "start_time": "2022-12-18T09:30:48.954Z"
   },
   {
    "duration": 0,
    "start_time": "2022-12-18T09:30:48.955Z"
   },
   {
    "duration": 0,
    "start_time": "2022-12-18T09:30:48.955Z"
   },
   {
    "duration": 0,
    "start_time": "2022-12-18T09:30:48.956Z"
   },
   {
    "duration": 0,
    "start_time": "2022-12-18T09:30:48.958Z"
   },
   {
    "duration": 0,
    "start_time": "2022-12-18T09:30:48.958Z"
   },
   {
    "duration": 0,
    "start_time": "2022-12-18T09:30:48.960Z"
   },
   {
    "duration": 0,
    "start_time": "2022-12-18T09:30:48.961Z"
   },
   {
    "duration": 0,
    "start_time": "2022-12-18T09:30:48.962Z"
   },
   {
    "duration": 0,
    "start_time": "2022-12-18T09:30:48.963Z"
   },
   {
    "duration": 0,
    "start_time": "2022-12-18T09:30:49.016Z"
   },
   {
    "duration": 0,
    "start_time": "2022-12-18T09:30:49.017Z"
   },
   {
    "duration": 0,
    "start_time": "2022-12-18T09:30:49.019Z"
   },
   {
    "duration": 0,
    "start_time": "2022-12-18T09:30:49.020Z"
   },
   {
    "duration": 0,
    "start_time": "2022-12-18T09:30:49.021Z"
   },
   {
    "duration": 0,
    "start_time": "2022-12-18T09:30:49.022Z"
   },
   {
    "duration": 0,
    "start_time": "2022-12-18T09:30:49.023Z"
   },
   {
    "duration": 13,
    "start_time": "2022-12-18T09:31:03.655Z"
   },
   {
    "duration": 14,
    "start_time": "2022-12-18T09:32:12.989Z"
   },
   {
    "duration": 13,
    "start_time": "2022-12-18T09:32:15.522Z"
   },
   {
    "duration": 9,
    "start_time": "2022-12-18T09:32:44.753Z"
   },
   {
    "duration": 9,
    "start_time": "2022-12-18T09:32:52.039Z"
   },
   {
    "duration": 1144,
    "start_time": "2022-12-18T09:32:56.426Z"
   },
   {
    "duration": 67,
    "start_time": "2022-12-18T09:32:57.572Z"
   },
   {
    "duration": 18,
    "start_time": "2022-12-18T09:32:57.641Z"
   },
   {
    "duration": 3,
    "start_time": "2022-12-18T09:32:57.661Z"
   },
   {
    "duration": 7,
    "start_time": "2022-12-18T09:32:57.666Z"
   },
   {
    "duration": 12,
    "start_time": "2022-12-18T09:32:57.674Z"
   },
   {
    "duration": 30,
    "start_time": "2022-12-18T09:32:57.687Z"
   },
   {
    "duration": 8,
    "start_time": "2022-12-18T09:32:57.719Z"
   },
   {
    "duration": 11,
    "start_time": "2022-12-18T09:32:57.729Z"
   },
   {
    "duration": 8,
    "start_time": "2022-12-18T09:32:57.743Z"
   },
   {
    "duration": 13,
    "start_time": "2022-12-18T09:32:57.753Z"
   },
   {
    "duration": 621,
    "start_time": "2022-12-18T09:32:57.768Z"
   },
   {
    "duration": 24,
    "start_time": "2022-12-18T09:32:58.391Z"
   },
   {
    "duration": 20,
    "start_time": "2022-12-18T09:32:58.417Z"
   },
   {
    "duration": 20,
    "start_time": "2022-12-18T09:32:58.439Z"
   },
   {
    "duration": 18,
    "start_time": "2022-12-18T09:32:58.460Z"
   },
   {
    "duration": 17,
    "start_time": "2022-12-18T09:32:58.479Z"
   },
   {
    "duration": 17,
    "start_time": "2022-12-18T09:32:58.498Z"
   },
   {
    "duration": 402,
    "start_time": "2022-12-18T09:32:58.517Z"
   },
   {
    "duration": 18,
    "start_time": "2022-12-18T09:32:58.920Z"
   },
   {
    "duration": 13,
    "start_time": "2022-12-18T09:32:58.940Z"
   },
   {
    "duration": 232,
    "start_time": "2022-12-18T09:32:58.954Z"
   },
   {
    "duration": 26,
    "start_time": "2022-12-18T09:32:59.188Z"
   },
   {
    "duration": 6,
    "start_time": "2022-12-18T09:32:59.215Z"
   },
   {
    "duration": 344,
    "start_time": "2022-12-18T09:32:59.223Z"
   },
   {
    "duration": 7,
    "start_time": "2022-12-18T09:32:59.569Z"
   },
   {
    "duration": 180,
    "start_time": "2022-12-18T09:32:59.578Z"
   },
   {
    "duration": 104,
    "start_time": "2022-12-18T09:32:59.761Z"
   },
   {
    "duration": 0,
    "start_time": "2022-12-18T09:32:59.866Z"
   },
   {
    "duration": 0,
    "start_time": "2022-12-18T09:32:59.867Z"
   },
   {
    "duration": 0,
    "start_time": "2022-12-18T09:32:59.869Z"
   },
   {
    "duration": 0,
    "start_time": "2022-12-18T09:32:59.870Z"
   },
   {
    "duration": 0,
    "start_time": "2022-12-18T09:32:59.872Z"
   },
   {
    "duration": 0,
    "start_time": "2022-12-18T09:32:59.873Z"
   },
   {
    "duration": 0,
    "start_time": "2022-12-18T09:32:59.875Z"
   },
   {
    "duration": 0,
    "start_time": "2022-12-18T09:32:59.876Z"
   },
   {
    "duration": 0,
    "start_time": "2022-12-18T09:32:59.878Z"
   },
   {
    "duration": 0,
    "start_time": "2022-12-18T09:32:59.879Z"
   },
   {
    "duration": 1,
    "start_time": "2022-12-18T09:32:59.880Z"
   },
   {
    "duration": 0,
    "start_time": "2022-12-18T09:32:59.882Z"
   },
   {
    "duration": 0,
    "start_time": "2022-12-18T09:32:59.884Z"
   },
   {
    "duration": 0,
    "start_time": "2022-12-18T09:32:59.885Z"
   },
   {
    "duration": 0,
    "start_time": "2022-12-18T09:32:59.913Z"
   },
   {
    "duration": 0,
    "start_time": "2022-12-18T09:32:59.914Z"
   },
   {
    "duration": 0,
    "start_time": "2022-12-18T09:32:59.916Z"
   },
   {
    "duration": 0,
    "start_time": "2022-12-18T09:32:59.917Z"
   },
   {
    "duration": 0,
    "start_time": "2022-12-18T09:32:59.919Z"
   },
   {
    "duration": 0,
    "start_time": "2022-12-18T09:32:59.920Z"
   },
   {
    "duration": 0,
    "start_time": "2022-12-18T09:32:59.922Z"
   },
   {
    "duration": 0,
    "start_time": "2022-12-18T09:32:59.923Z"
   },
   {
    "duration": 0,
    "start_time": "2022-12-18T09:32:59.924Z"
   },
   {
    "duration": 0,
    "start_time": "2022-12-18T09:32:59.926Z"
   },
   {
    "duration": 0,
    "start_time": "2022-12-18T09:32:59.927Z"
   },
   {
    "duration": 0,
    "start_time": "2022-12-18T09:32:59.929Z"
   },
   {
    "duration": 0,
    "start_time": "2022-12-18T09:32:59.930Z"
   },
   {
    "duration": 0,
    "start_time": "2022-12-18T09:32:59.931Z"
   },
   {
    "duration": 0,
    "start_time": "2022-12-18T09:32:59.933Z"
   },
   {
    "duration": 0,
    "start_time": "2022-12-18T09:32:59.934Z"
   },
   {
    "duration": 0,
    "start_time": "2022-12-18T09:32:59.935Z"
   },
   {
    "duration": 0,
    "start_time": "2022-12-18T09:32:59.936Z"
   },
   {
    "duration": 0,
    "start_time": "2022-12-18T09:32:59.938Z"
   },
   {
    "duration": 0,
    "start_time": "2022-12-18T09:32:59.939Z"
   },
   {
    "duration": 0,
    "start_time": "2022-12-18T09:32:59.941Z"
   },
   {
    "duration": 0,
    "start_time": "2022-12-18T09:32:59.942Z"
   },
   {
    "duration": 0,
    "start_time": "2022-12-18T09:32:59.943Z"
   },
   {
    "duration": 29,
    "start_time": "2022-12-18T09:33:12.705Z"
   },
   {
    "duration": 9,
    "start_time": "2022-12-18T09:34:07.919Z"
   },
   {
    "duration": 12,
    "start_time": "2022-12-18T09:34:10.372Z"
   },
   {
    "duration": 23,
    "start_time": "2022-12-18T09:34:20.306Z"
   },
   {
    "duration": 10,
    "start_time": "2022-12-18T09:35:11.952Z"
   },
   {
    "duration": 14,
    "start_time": "2022-12-18T09:35:25.336Z"
   },
   {
    "duration": 15,
    "start_time": "2022-12-18T09:35:31.938Z"
   },
   {
    "duration": 79,
    "start_time": "2022-12-18T09:35:38.921Z"
   },
   {
    "duration": 84,
    "start_time": "2022-12-18T09:35:45.035Z"
   },
   {
    "duration": 14,
    "start_time": "2022-12-18T09:35:54.441Z"
   },
   {
    "duration": 15,
    "start_time": "2022-12-18T09:36:21.620Z"
   },
   {
    "duration": 14,
    "start_time": "2022-12-18T09:36:41.907Z"
   },
   {
    "duration": 18,
    "start_time": "2022-12-18T09:36:57.171Z"
   },
   {
    "duration": 3,
    "start_time": "2022-12-18T09:38:13.926Z"
   },
   {
    "duration": 20,
    "start_time": "2022-12-18T09:38:28.822Z"
   },
   {
    "duration": 79,
    "start_time": "2022-12-18T09:38:56.254Z"
   },
   {
    "duration": 69,
    "start_time": "2022-12-18T09:39:12.763Z"
   },
   {
    "duration": 29,
    "start_time": "2022-12-18T09:40:55.789Z"
   },
   {
    "duration": 19,
    "start_time": "2022-12-18T09:41:14.588Z"
   },
   {
    "duration": 86,
    "start_time": "2022-12-18T09:42:05.108Z"
   },
   {
    "duration": 69,
    "start_time": "2022-12-18T09:45:11.922Z"
   },
   {
    "duration": 13,
    "start_time": "2022-12-18T09:46:08.288Z"
   },
   {
    "duration": 14,
    "start_time": "2022-12-18T09:46:24.755Z"
   },
   {
    "duration": 1241,
    "start_time": "2022-12-18T09:46:30.352Z"
   },
   {
    "duration": 69,
    "start_time": "2022-12-18T09:46:31.595Z"
   },
   {
    "duration": 18,
    "start_time": "2022-12-18T09:46:31.665Z"
   },
   {
    "duration": 4,
    "start_time": "2022-12-18T09:46:31.685Z"
   },
   {
    "duration": 25,
    "start_time": "2022-12-18T09:46:31.691Z"
   },
   {
    "duration": 34,
    "start_time": "2022-12-18T09:46:31.719Z"
   },
   {
    "duration": 45,
    "start_time": "2022-12-18T09:46:31.754Z"
   },
   {
    "duration": 29,
    "start_time": "2022-12-18T09:46:31.801Z"
   },
   {
    "duration": 44,
    "start_time": "2022-12-18T09:46:31.832Z"
   },
   {
    "duration": 28,
    "start_time": "2022-12-18T09:46:31.880Z"
   },
   {
    "duration": 26,
    "start_time": "2022-12-18T09:46:31.910Z"
   },
   {
    "duration": 614,
    "start_time": "2022-12-18T09:46:31.940Z"
   },
   {
    "duration": 16,
    "start_time": "2022-12-18T09:46:32.556Z"
   },
   {
    "duration": 24,
    "start_time": "2022-12-18T09:46:32.574Z"
   },
   {
    "duration": 11,
    "start_time": "2022-12-18T09:46:32.615Z"
   },
   {
    "duration": 18,
    "start_time": "2022-12-18T09:46:32.628Z"
   },
   {
    "duration": 9,
    "start_time": "2022-12-18T09:46:32.648Z"
   },
   {
    "duration": 23,
    "start_time": "2022-12-18T09:46:32.659Z"
   },
   {
    "duration": 465,
    "start_time": "2022-12-18T09:46:32.684Z"
   },
   {
    "duration": 15,
    "start_time": "2022-12-18T09:46:33.151Z"
   },
   {
    "duration": 12,
    "start_time": "2022-12-18T09:46:33.167Z"
   },
   {
    "duration": 232,
    "start_time": "2022-12-18T09:46:33.181Z"
   },
   {
    "duration": 20,
    "start_time": "2022-12-18T09:46:33.415Z"
   },
   {
    "duration": 7,
    "start_time": "2022-12-18T09:46:33.437Z"
   },
   {
    "duration": 377,
    "start_time": "2022-12-18T09:46:33.446Z"
   },
   {
    "duration": 8,
    "start_time": "2022-12-18T09:46:33.825Z"
   },
   {
    "duration": 202,
    "start_time": "2022-12-18T09:46:33.835Z"
   },
   {
    "duration": 120,
    "start_time": "2022-12-18T09:46:34.041Z"
   },
   {
    "duration": 0,
    "start_time": "2022-12-18T09:46:34.164Z"
   },
   {
    "duration": 0,
    "start_time": "2022-12-18T09:46:34.165Z"
   },
   {
    "duration": 0,
    "start_time": "2022-12-18T09:46:34.166Z"
   },
   {
    "duration": 0,
    "start_time": "2022-12-18T09:46:34.168Z"
   },
   {
    "duration": 0,
    "start_time": "2022-12-18T09:46:34.169Z"
   },
   {
    "duration": 0,
    "start_time": "2022-12-18T09:46:34.171Z"
   },
   {
    "duration": 0,
    "start_time": "2022-12-18T09:46:34.172Z"
   },
   {
    "duration": 0,
    "start_time": "2022-12-18T09:46:34.174Z"
   },
   {
    "duration": 0,
    "start_time": "2022-12-18T09:46:34.175Z"
   },
   {
    "duration": 0,
    "start_time": "2022-12-18T09:46:34.178Z"
   },
   {
    "duration": 0,
    "start_time": "2022-12-18T09:46:34.179Z"
   },
   {
    "duration": 0,
    "start_time": "2022-12-18T09:46:34.180Z"
   },
   {
    "duration": 0,
    "start_time": "2022-12-18T09:46:34.181Z"
   },
   {
    "duration": 0,
    "start_time": "2022-12-18T09:46:34.183Z"
   },
   {
    "duration": 0,
    "start_time": "2022-12-18T09:46:34.184Z"
   },
   {
    "duration": 0,
    "start_time": "2022-12-18T09:46:34.214Z"
   },
   {
    "duration": 0,
    "start_time": "2022-12-18T09:46:34.215Z"
   },
   {
    "duration": 0,
    "start_time": "2022-12-18T09:46:34.217Z"
   },
   {
    "duration": 0,
    "start_time": "2022-12-18T09:46:34.218Z"
   },
   {
    "duration": 0,
    "start_time": "2022-12-18T09:46:34.219Z"
   },
   {
    "duration": 0,
    "start_time": "2022-12-18T09:46:34.221Z"
   },
   {
    "duration": 0,
    "start_time": "2022-12-18T09:46:34.222Z"
   },
   {
    "duration": 0,
    "start_time": "2022-12-18T09:46:34.224Z"
   },
   {
    "duration": 0,
    "start_time": "2022-12-18T09:46:34.225Z"
   },
   {
    "duration": 0,
    "start_time": "2022-12-18T09:46:34.227Z"
   },
   {
    "duration": 0,
    "start_time": "2022-12-18T09:46:34.228Z"
   },
   {
    "duration": 0,
    "start_time": "2022-12-18T09:46:34.230Z"
   },
   {
    "duration": 0,
    "start_time": "2022-12-18T09:46:34.232Z"
   },
   {
    "duration": 0,
    "start_time": "2022-12-18T09:46:34.233Z"
   },
   {
    "duration": 0,
    "start_time": "2022-12-18T09:46:34.234Z"
   },
   {
    "duration": 0,
    "start_time": "2022-12-18T09:46:34.236Z"
   },
   {
    "duration": 0,
    "start_time": "2022-12-18T09:46:34.238Z"
   },
   {
    "duration": 0,
    "start_time": "2022-12-18T09:46:34.239Z"
   },
   {
    "duration": 0,
    "start_time": "2022-12-18T09:46:34.241Z"
   },
   {
    "duration": 0,
    "start_time": "2022-12-18T09:46:34.242Z"
   },
   {
    "duration": 0,
    "start_time": "2022-12-18T09:46:34.243Z"
   },
   {
    "duration": 1,
    "start_time": "2022-12-18T09:46:34.244Z"
   },
   {
    "duration": 13,
    "start_time": "2022-12-18T09:49:16.545Z"
   },
   {
    "duration": 14,
    "start_time": "2022-12-18T09:51:12.123Z"
   },
   {
    "duration": 19,
    "start_time": "2022-12-18T09:51:46.923Z"
   },
   {
    "duration": 4,
    "start_time": "2022-12-18T09:52:11.705Z"
   },
   {
    "duration": 41,
    "start_time": "2022-12-18T09:53:26.757Z"
   },
   {
    "duration": 23,
    "start_time": "2022-12-18T09:54:00.574Z"
   },
   {
    "duration": 22,
    "start_time": "2022-12-18T09:54:39.689Z"
   },
   {
    "duration": 70,
    "start_time": "2022-12-18T09:56:58.757Z"
   },
   {
    "duration": 3,
    "start_time": "2022-12-18T09:57:34.823Z"
   },
   {
    "duration": 3,
    "start_time": "2022-12-18T09:58:09.689Z"
   },
   {
    "duration": 86,
    "start_time": "2022-12-18T09:58:56.005Z"
   },
   {
    "duration": 70,
    "start_time": "2022-12-18T09:59:11.739Z"
   },
   {
    "duration": 71,
    "start_time": "2022-12-18T09:59:32.923Z"
   },
   {
    "duration": 5,
    "start_time": "2022-12-18T09:59:58.088Z"
   },
   {
    "duration": 11,
    "start_time": "2022-12-18T10:00:24.773Z"
   },
   {
    "duration": 13,
    "start_time": "2022-12-18T10:00:42.004Z"
   },
   {
    "duration": 21,
    "start_time": "2022-12-18T10:00:52.770Z"
   },
   {
    "duration": 20,
    "start_time": "2022-12-18T10:02:29.023Z"
   },
   {
    "duration": 30,
    "start_time": "2022-12-18T10:02:38.128Z"
   },
   {
    "duration": 20,
    "start_time": "2022-12-18T10:02:53.020Z"
   },
   {
    "duration": 186,
    "start_time": "2022-12-18T10:03:05.071Z"
   },
   {
    "duration": 285,
    "start_time": "2022-12-18T10:04:28.719Z"
   },
   {
    "duration": 137,
    "start_time": "2022-12-18T10:04:55.774Z"
   },
   {
    "duration": 196,
    "start_time": "2022-12-18T10:05:11.105Z"
   },
   {
    "duration": 21,
    "start_time": "2022-12-18T10:06:10.253Z"
   },
   {
    "duration": 19,
    "start_time": "2022-12-18T10:06:22.946Z"
   },
   {
    "duration": 16,
    "start_time": "2022-12-18T10:06:46.287Z"
   },
   {
    "duration": 15,
    "start_time": "2022-12-18T10:07:10.373Z"
   },
   {
    "duration": 65,
    "start_time": "2022-12-18T10:07:29.222Z"
   },
   {
    "duration": 24,
    "start_time": "2022-12-18T10:07:45.670Z"
   },
   {
    "duration": 20,
    "start_time": "2022-12-18T10:07:55.487Z"
   },
   {
    "duration": 4,
    "start_time": "2022-12-18T10:10:29.472Z"
   },
   {
    "duration": 299,
    "start_time": "2022-12-18T10:10:40.240Z"
   },
   {
    "duration": 201,
    "start_time": "2022-12-18T10:13:36.806Z"
   },
   {
    "duration": 182,
    "start_time": "2022-12-18T10:13:44.405Z"
   },
   {
    "duration": 185,
    "start_time": "2022-12-18T10:13:54.386Z"
   },
   {
    "duration": 179,
    "start_time": "2022-12-18T10:14:14.205Z"
   },
   {
    "duration": 12,
    "start_time": "2022-12-18T10:14:55.556Z"
   },
   {
    "duration": 12,
    "start_time": "2022-12-18T10:15:03.594Z"
   },
   {
    "duration": 15,
    "start_time": "2022-12-18T10:15:11.257Z"
   },
   {
    "duration": 295,
    "start_time": "2022-12-18T10:15:22.613Z"
   },
   {
    "duration": 186,
    "start_time": "2022-12-18T10:15:49.393Z"
   },
   {
    "duration": 197,
    "start_time": "2022-12-18T10:16:04.877Z"
   },
   {
    "duration": 197,
    "start_time": "2022-12-18T10:16:23.298Z"
   },
   {
    "duration": 204,
    "start_time": "2022-12-18T10:16:39.822Z"
   },
   {
    "duration": 174,
    "start_time": "2022-12-18T10:16:48.739Z"
   },
   {
    "duration": 135,
    "start_time": "2022-12-18T10:20:39.956Z"
   },
   {
    "duration": 180,
    "start_time": "2022-12-18T10:21:01.168Z"
   },
   {
    "duration": 181,
    "start_time": "2022-12-18T10:21:14.338Z"
   },
   {
    "duration": 179,
    "start_time": "2022-12-18T10:21:26.438Z"
   },
   {
    "duration": 190,
    "start_time": "2022-12-18T10:24:15.423Z"
   },
   {
    "duration": 85,
    "start_time": "2022-12-18T10:25:28.106Z"
   },
   {
    "duration": 65,
    "start_time": "2022-12-18T10:25:39.938Z"
   },
   {
    "duration": 280,
    "start_time": "2022-12-18T10:25:49.906Z"
   },
   {
    "duration": 70,
    "start_time": "2022-12-18T10:26:08.122Z"
   },
   {
    "duration": 96,
    "start_time": "2022-12-18T10:26:31.221Z"
   },
   {
    "duration": 73,
    "start_time": "2022-12-18T10:27:17.619Z"
   },
   {
    "duration": 66,
    "start_time": "2022-12-18T10:28:54.840Z"
   },
   {
    "duration": 72,
    "start_time": "2022-12-18T10:28:59.438Z"
   },
   {
    "duration": 71,
    "start_time": "2022-12-18T10:29:43.106Z"
   },
   {
    "duration": 211,
    "start_time": "2022-12-18T10:29:52.257Z"
   },
   {
    "duration": 96,
    "start_time": "2022-12-18T10:30:46.122Z"
   },
   {
    "duration": 75,
    "start_time": "2022-12-18T10:32:26.188Z"
   },
   {
    "duration": 70,
    "start_time": "2022-12-18T10:32:34.805Z"
   },
   {
    "duration": 186,
    "start_time": "2022-12-18T10:32:44.739Z"
   },
   {
    "duration": 219,
    "start_time": "2022-12-18T10:34:00.422Z"
   },
   {
    "duration": 32,
    "start_time": "2022-12-18T10:35:21.906Z"
   },
   {
    "duration": 19,
    "start_time": "2022-12-18T10:35:28.787Z"
   },
   {
    "duration": 24,
    "start_time": "2022-12-18T10:35:33.573Z"
   },
   {
    "duration": 5,
    "start_time": "2022-12-18T10:35:39.063Z"
   },
   {
    "duration": 73,
    "start_time": "2022-12-18T10:35:55.621Z"
   },
   {
    "duration": 76,
    "start_time": "2022-12-18T10:36:05.855Z"
   },
   {
    "duration": 70,
    "start_time": "2022-12-18T10:36:17.265Z"
   },
   {
    "duration": 139,
    "start_time": "2022-12-18T10:36:23.106Z"
   },
   {
    "duration": 149,
    "start_time": "2022-12-18T10:37:41.389Z"
   },
   {
    "duration": 147,
    "start_time": "2022-12-18T10:37:50.969Z"
   },
   {
    "duration": 135,
    "start_time": "2022-12-18T10:37:55.722Z"
   },
   {
    "duration": 156,
    "start_time": "2022-12-18T10:38:06.797Z"
   },
   {
    "duration": 142,
    "start_time": "2022-12-18T10:38:30.170Z"
   },
   {
    "duration": 183,
    "start_time": "2022-12-18T10:38:35.990Z"
   },
   {
    "duration": 119,
    "start_time": "2022-12-18T10:39:36.423Z"
   },
   {
    "duration": 195,
    "start_time": "2022-12-18T10:39:49.839Z"
   },
   {
    "duration": 65,
    "start_time": "2022-12-18T10:40:53.338Z"
   },
   {
    "duration": 85,
    "start_time": "2022-12-18T10:41:06.972Z"
   },
   {
    "duration": 75,
    "start_time": "2022-12-18T10:41:13.573Z"
   },
   {
    "duration": 173,
    "start_time": "2022-12-18T10:41:26.706Z"
   },
   {
    "duration": 70,
    "start_time": "2022-12-18T10:41:44.604Z"
   },
   {
    "duration": 72,
    "start_time": "2022-12-18T10:41:53.155Z"
   },
   {
    "duration": 176,
    "start_time": "2022-12-18T10:42:38.465Z"
   },
   {
    "duration": 184,
    "start_time": "2022-12-18T10:42:48.039Z"
   },
   {
    "duration": 199,
    "start_time": "2022-12-18T10:44:10.107Z"
   },
   {
    "duration": 187,
    "start_time": "2022-12-18T10:44:16.522Z"
   },
   {
    "duration": 200,
    "start_time": "2022-12-18T10:45:38.340Z"
   },
   {
    "duration": 201,
    "start_time": "2022-12-18T10:46:06.493Z"
   },
   {
    "duration": 13,
    "start_time": "2022-12-18T10:46:13.173Z"
   },
   {
    "duration": 646,
    "start_time": "2022-12-18T10:46:46.041Z"
   },
   {
    "duration": 761,
    "start_time": "2022-12-18T10:47:02.723Z"
   },
   {
    "duration": 694,
    "start_time": "2022-12-18T10:47:31.890Z"
   },
   {
    "duration": 703,
    "start_time": "2022-12-18T10:47:41.678Z"
   },
   {
    "duration": 288,
    "start_time": "2022-12-18T10:48:22.908Z"
   },
   {
    "duration": 279,
    "start_time": "2022-12-18T11:02:19.858Z"
   },
   {
    "duration": 279,
    "start_time": "2022-12-18T11:02:29.321Z"
   },
   {
    "duration": 15,
    "start_time": "2022-12-18T11:05:12.606Z"
   },
   {
    "duration": 203,
    "start_time": "2022-12-18T11:05:17.257Z"
   },
   {
    "duration": 240,
    "start_time": "2022-12-18T11:05:24.087Z"
   },
   {
    "duration": 782,
    "start_time": "2022-12-18T11:06:14.388Z"
   },
   {
    "duration": 669,
    "start_time": "2022-12-18T11:06:18.489Z"
   },
   {
    "duration": 665,
    "start_time": "2022-12-18T11:08:02.069Z"
   },
   {
    "duration": 654,
    "start_time": "2022-12-18T11:08:09.623Z"
   },
   {
    "duration": 201,
    "start_time": "2022-12-18T11:10:47.356Z"
   },
   {
    "duration": 21,
    "start_time": "2022-12-18T11:12:17.411Z"
   },
   {
    "duration": 72,
    "start_time": "2022-12-18T11:13:55.316Z"
   },
   {
    "duration": 68,
    "start_time": "2022-12-18T11:14:03.154Z"
   },
   {
    "duration": 69,
    "start_time": "2022-12-18T11:14:28.759Z"
   },
   {
    "duration": 276,
    "start_time": "2022-12-18T11:14:38.655Z"
   },
   {
    "duration": 74,
    "start_time": "2022-12-18T11:15:01.628Z"
   },
   {
    "duration": 80,
    "start_time": "2022-12-18T11:15:14.858Z"
   },
   {
    "duration": 66,
    "start_time": "2022-12-18T11:15:29.706Z"
   },
   {
    "duration": 69,
    "start_time": "2022-12-18T11:16:27.038Z"
   },
   {
    "duration": 70,
    "start_time": "2022-12-18T11:16:38.240Z"
   },
   {
    "duration": 8,
    "start_time": "2022-12-18T11:17:04.997Z"
   },
   {
    "duration": 15,
    "start_time": "2022-12-18T11:17:12.023Z"
   },
   {
    "duration": 14,
    "start_time": "2022-12-18T11:17:34.075Z"
   },
   {
    "duration": 13,
    "start_time": "2022-12-18T11:18:28.123Z"
   },
   {
    "duration": 272,
    "start_time": "2022-12-18T11:18:41.441Z"
   },
   {
    "duration": 278,
    "start_time": "2022-12-18T11:18:53.757Z"
   },
   {
    "duration": 14,
    "start_time": "2022-12-18T11:22:17.346Z"
   },
   {
    "duration": 14,
    "start_time": "2022-12-18T11:23:00.144Z"
   },
   {
    "duration": 11,
    "start_time": "2022-12-18T11:23:12.346Z"
   },
   {
    "duration": 310,
    "start_time": "2022-12-18T11:23:40.636Z"
   },
   {
    "duration": 9,
    "start_time": "2022-12-18T11:25:03.214Z"
   },
   {
    "duration": 1136,
    "start_time": "2022-12-18T11:25:09.722Z"
   },
   {
    "duration": 63,
    "start_time": "2022-12-18T11:25:10.861Z"
   },
   {
    "duration": 20,
    "start_time": "2022-12-18T11:25:10.927Z"
   },
   {
    "duration": 13,
    "start_time": "2022-12-18T11:25:10.949Z"
   },
   {
    "duration": 11,
    "start_time": "2022-12-18T11:25:10.963Z"
   },
   {
    "duration": 17,
    "start_time": "2022-12-18T11:25:10.976Z"
   },
   {
    "duration": 27,
    "start_time": "2022-12-18T11:25:10.995Z"
   },
   {
    "duration": 25,
    "start_time": "2022-12-18T11:25:11.024Z"
   },
   {
    "duration": 12,
    "start_time": "2022-12-18T11:25:11.051Z"
   },
   {
    "duration": 11,
    "start_time": "2022-12-18T11:25:11.066Z"
   },
   {
    "duration": 26,
    "start_time": "2022-12-18T11:25:11.079Z"
   },
   {
    "duration": 73,
    "start_time": "2022-12-18T11:25:11.106Z"
   },
   {
    "duration": 0,
    "start_time": "2022-12-18T11:25:11.181Z"
   },
   {
    "duration": 0,
    "start_time": "2022-12-18T11:25:11.182Z"
   },
   {
    "duration": 0,
    "start_time": "2022-12-18T11:25:11.184Z"
   },
   {
    "duration": 1,
    "start_time": "2022-12-18T11:25:11.184Z"
   },
   {
    "duration": 0,
    "start_time": "2022-12-18T11:25:11.186Z"
   },
   {
    "duration": 0,
    "start_time": "2022-12-18T11:25:11.187Z"
   },
   {
    "duration": 0,
    "start_time": "2022-12-18T11:25:11.188Z"
   },
   {
    "duration": 0,
    "start_time": "2022-12-18T11:25:11.189Z"
   },
   {
    "duration": 0,
    "start_time": "2022-12-18T11:25:11.190Z"
   },
   {
    "duration": 0,
    "start_time": "2022-12-18T11:25:11.191Z"
   },
   {
    "duration": 0,
    "start_time": "2022-12-18T11:25:11.192Z"
   },
   {
    "duration": 0,
    "start_time": "2022-12-18T11:25:11.193Z"
   },
   {
    "duration": 0,
    "start_time": "2022-12-18T11:25:11.194Z"
   },
   {
    "duration": 0,
    "start_time": "2022-12-18T11:25:11.194Z"
   },
   {
    "duration": 0,
    "start_time": "2022-12-18T11:25:11.195Z"
   },
   {
    "duration": 0,
    "start_time": "2022-12-18T11:25:11.196Z"
   },
   {
    "duration": 0,
    "start_time": "2022-12-18T11:25:11.197Z"
   },
   {
    "duration": 0,
    "start_time": "2022-12-18T11:25:11.198Z"
   },
   {
    "duration": 0,
    "start_time": "2022-12-18T11:25:11.199Z"
   },
   {
    "duration": 0,
    "start_time": "2022-12-18T11:25:11.201Z"
   },
   {
    "duration": 0,
    "start_time": "2022-12-18T11:25:11.202Z"
   },
   {
    "duration": 0,
    "start_time": "2022-12-18T11:25:11.203Z"
   },
   {
    "duration": 0,
    "start_time": "2022-12-18T11:25:11.204Z"
   },
   {
    "duration": 0,
    "start_time": "2022-12-18T11:25:11.205Z"
   },
   {
    "duration": 0,
    "start_time": "2022-12-18T11:25:11.206Z"
   },
   {
    "duration": 0,
    "start_time": "2022-12-18T11:25:11.207Z"
   },
   {
    "duration": 0,
    "start_time": "2022-12-18T11:25:11.208Z"
   },
   {
    "duration": 0,
    "start_time": "2022-12-18T11:25:11.209Z"
   },
   {
    "duration": 0,
    "start_time": "2022-12-18T11:25:11.210Z"
   },
   {
    "duration": 0,
    "start_time": "2022-12-18T11:25:11.212Z"
   },
   {
    "duration": 0,
    "start_time": "2022-12-18T11:25:11.212Z"
   },
   {
    "duration": 0,
    "start_time": "2022-12-18T11:25:11.213Z"
   },
   {
    "duration": 0,
    "start_time": "2022-12-18T11:25:11.214Z"
   },
   {
    "duration": 0,
    "start_time": "2022-12-18T11:25:11.215Z"
   },
   {
    "duration": 0,
    "start_time": "2022-12-18T11:25:11.216Z"
   },
   {
    "duration": 0,
    "start_time": "2022-12-18T11:25:11.217Z"
   },
   {
    "duration": 0,
    "start_time": "2022-12-18T11:25:11.218Z"
   },
   {
    "duration": 0,
    "start_time": "2022-12-18T11:25:11.219Z"
   },
   {
    "duration": 0,
    "start_time": "2022-12-18T11:25:11.220Z"
   },
   {
    "duration": 0,
    "start_time": "2022-12-18T11:25:11.221Z"
   },
   {
    "duration": 0,
    "start_time": "2022-12-18T11:25:11.222Z"
   },
   {
    "duration": 0,
    "start_time": "2022-12-18T11:25:11.223Z"
   },
   {
    "duration": 0,
    "start_time": "2022-12-18T11:25:11.224Z"
   },
   {
    "duration": 0,
    "start_time": "2022-12-18T11:25:11.225Z"
   },
   {
    "duration": 0,
    "start_time": "2022-12-18T11:25:11.226Z"
   },
   {
    "duration": 0,
    "start_time": "2022-12-18T11:25:11.227Z"
   },
   {
    "duration": 0,
    "start_time": "2022-12-18T11:25:11.228Z"
   },
   {
    "duration": 0,
    "start_time": "2022-12-18T11:25:11.230Z"
   },
   {
    "duration": 0,
    "start_time": "2022-12-18T11:25:11.231Z"
   },
   {
    "duration": 0,
    "start_time": "2022-12-18T11:25:11.231Z"
   },
   {
    "duration": 0,
    "start_time": "2022-12-18T11:25:11.232Z"
   },
   {
    "duration": 0,
    "start_time": "2022-12-18T11:25:11.233Z"
   },
   {
    "duration": 0,
    "start_time": "2022-12-18T11:25:11.234Z"
   },
   {
    "duration": 0,
    "start_time": "2022-12-18T11:25:11.235Z"
   },
   {
    "duration": 0,
    "start_time": "2022-12-18T11:25:11.236Z"
   },
   {
    "duration": 0,
    "start_time": "2022-12-18T11:25:11.238Z"
   },
   {
    "duration": 93,
    "start_time": "2022-12-18T11:25:30.698Z"
   },
   {
    "duration": 1179,
    "start_time": "2022-12-18T11:25:40.078Z"
   },
   {
    "duration": 63,
    "start_time": "2022-12-18T11:25:41.259Z"
   },
   {
    "duration": 18,
    "start_time": "2022-12-18T11:25:41.324Z"
   },
   {
    "duration": 3,
    "start_time": "2022-12-18T11:25:41.344Z"
   },
   {
    "duration": 7,
    "start_time": "2022-12-18T11:25:41.349Z"
   },
   {
    "duration": 13,
    "start_time": "2022-12-18T11:25:41.358Z"
   },
   {
    "duration": 11,
    "start_time": "2022-12-18T11:25:41.373Z"
   },
   {
    "duration": 31,
    "start_time": "2022-12-18T11:25:41.386Z"
   },
   {
    "duration": 24,
    "start_time": "2022-12-18T11:25:41.419Z"
   },
   {
    "duration": 11,
    "start_time": "2022-12-18T11:25:41.446Z"
   },
   {
    "duration": 21,
    "start_time": "2022-12-18T11:25:41.458Z"
   },
   {
    "duration": 71,
    "start_time": "2022-12-18T11:25:41.481Z"
   },
   {
    "duration": 0,
    "start_time": "2022-12-18T11:25:41.555Z"
   },
   {
    "duration": 0,
    "start_time": "2022-12-18T11:25:41.556Z"
   },
   {
    "duration": 0,
    "start_time": "2022-12-18T11:25:41.557Z"
   },
   {
    "duration": 0,
    "start_time": "2022-12-18T11:25:41.559Z"
   },
   {
    "duration": 0,
    "start_time": "2022-12-18T11:25:41.560Z"
   },
   {
    "duration": 0,
    "start_time": "2022-12-18T11:25:41.562Z"
   },
   {
    "duration": 0,
    "start_time": "2022-12-18T11:25:41.563Z"
   },
   {
    "duration": 0,
    "start_time": "2022-12-18T11:25:41.564Z"
   },
   {
    "duration": 0,
    "start_time": "2022-12-18T11:25:41.565Z"
   },
   {
    "duration": 0,
    "start_time": "2022-12-18T11:25:41.566Z"
   },
   {
    "duration": 0,
    "start_time": "2022-12-18T11:25:41.568Z"
   },
   {
    "duration": 0,
    "start_time": "2022-12-18T11:25:41.569Z"
   },
   {
    "duration": 0,
    "start_time": "2022-12-18T11:25:41.570Z"
   },
   {
    "duration": 0,
    "start_time": "2022-12-18T11:25:41.571Z"
   },
   {
    "duration": 0,
    "start_time": "2022-12-18T11:25:41.573Z"
   },
   {
    "duration": 0,
    "start_time": "2022-12-18T11:25:41.574Z"
   },
   {
    "duration": 0,
    "start_time": "2022-12-18T11:25:41.575Z"
   },
   {
    "duration": 0,
    "start_time": "2022-12-18T11:25:41.576Z"
   },
   {
    "duration": 0,
    "start_time": "2022-12-18T11:25:41.577Z"
   },
   {
    "duration": 0,
    "start_time": "2022-12-18T11:25:41.578Z"
   },
   {
    "duration": 0,
    "start_time": "2022-12-18T11:25:41.579Z"
   },
   {
    "duration": 0,
    "start_time": "2022-12-18T11:25:41.580Z"
   },
   {
    "duration": 0,
    "start_time": "2022-12-18T11:25:41.581Z"
   },
   {
    "duration": 0,
    "start_time": "2022-12-18T11:25:41.583Z"
   },
   {
    "duration": 0,
    "start_time": "2022-12-18T11:25:41.584Z"
   },
   {
    "duration": 0,
    "start_time": "2022-12-18T11:25:41.585Z"
   },
   {
    "duration": 0,
    "start_time": "2022-12-18T11:25:41.586Z"
   },
   {
    "duration": 0,
    "start_time": "2022-12-18T11:25:41.587Z"
   },
   {
    "duration": 0,
    "start_time": "2022-12-18T11:25:41.588Z"
   },
   {
    "duration": 0,
    "start_time": "2022-12-18T11:25:41.589Z"
   },
   {
    "duration": 0,
    "start_time": "2022-12-18T11:25:41.591Z"
   },
   {
    "duration": 0,
    "start_time": "2022-12-18T11:25:41.592Z"
   },
   {
    "duration": 0,
    "start_time": "2022-12-18T11:25:41.593Z"
   },
   {
    "duration": 0,
    "start_time": "2022-12-18T11:25:41.612Z"
   },
   {
    "duration": 0,
    "start_time": "2022-12-18T11:25:41.614Z"
   },
   {
    "duration": 0,
    "start_time": "2022-12-18T11:25:41.615Z"
   },
   {
    "duration": 0,
    "start_time": "2022-12-18T11:25:41.616Z"
   },
   {
    "duration": 0,
    "start_time": "2022-12-18T11:25:41.617Z"
   },
   {
    "duration": 0,
    "start_time": "2022-12-18T11:25:41.618Z"
   },
   {
    "duration": 0,
    "start_time": "2022-12-18T11:25:41.619Z"
   },
   {
    "duration": 0,
    "start_time": "2022-12-18T11:25:41.621Z"
   },
   {
    "duration": 0,
    "start_time": "2022-12-18T11:25:41.622Z"
   },
   {
    "duration": 0,
    "start_time": "2022-12-18T11:25:41.623Z"
   },
   {
    "duration": 0,
    "start_time": "2022-12-18T11:25:41.624Z"
   },
   {
    "duration": 0,
    "start_time": "2022-12-18T11:25:41.625Z"
   },
   {
    "duration": 0,
    "start_time": "2022-12-18T11:25:41.627Z"
   },
   {
    "duration": 0,
    "start_time": "2022-12-18T11:25:41.628Z"
   },
   {
    "duration": 0,
    "start_time": "2022-12-18T11:25:41.629Z"
   },
   {
    "duration": 0,
    "start_time": "2022-12-18T11:25:41.630Z"
   },
   {
    "duration": 0,
    "start_time": "2022-12-18T11:25:41.632Z"
   },
   {
    "duration": 0,
    "start_time": "2022-12-18T11:25:41.632Z"
   },
   {
    "duration": 0,
    "start_time": "2022-12-18T11:25:41.633Z"
   },
   {
    "duration": 0,
    "start_time": "2022-12-18T11:25:41.634Z"
   },
   {
    "duration": 0,
    "start_time": "2022-12-18T11:25:41.636Z"
   },
   {
    "duration": 0,
    "start_time": "2022-12-18T11:25:41.637Z"
   },
   {
    "duration": 0,
    "start_time": "2022-12-18T11:25:41.638Z"
   },
   {
    "duration": 1113,
    "start_time": "2022-12-18T11:26:06.357Z"
   },
   {
    "duration": 65,
    "start_time": "2022-12-18T11:26:07.472Z"
   },
   {
    "duration": 18,
    "start_time": "2022-12-18T11:26:07.538Z"
   },
   {
    "duration": 3,
    "start_time": "2022-12-18T11:26:07.558Z"
   },
   {
    "duration": 8,
    "start_time": "2022-12-18T11:26:07.562Z"
   },
   {
    "duration": 13,
    "start_time": "2022-12-18T11:26:07.572Z"
   },
   {
    "duration": 27,
    "start_time": "2022-12-18T11:26:07.587Z"
   },
   {
    "duration": 7,
    "start_time": "2022-12-18T11:26:07.615Z"
   },
   {
    "duration": 17,
    "start_time": "2022-12-18T11:26:07.624Z"
   },
   {
    "duration": 12,
    "start_time": "2022-12-18T11:26:07.643Z"
   },
   {
    "duration": 20,
    "start_time": "2022-12-18T11:26:07.657Z"
   },
   {
    "duration": 68,
    "start_time": "2022-12-18T11:26:07.680Z"
   },
   {
    "duration": 0,
    "start_time": "2022-12-18T11:26:07.751Z"
   },
   {
    "duration": 0,
    "start_time": "2022-12-18T11:26:07.753Z"
   },
   {
    "duration": 0,
    "start_time": "2022-12-18T11:26:07.754Z"
   },
   {
    "duration": 0,
    "start_time": "2022-12-18T11:26:07.756Z"
   },
   {
    "duration": 0,
    "start_time": "2022-12-18T11:26:07.757Z"
   },
   {
    "duration": 0,
    "start_time": "2022-12-18T11:26:07.758Z"
   },
   {
    "duration": 0,
    "start_time": "2022-12-18T11:26:07.760Z"
   },
   {
    "duration": 0,
    "start_time": "2022-12-18T11:26:07.761Z"
   },
   {
    "duration": 0,
    "start_time": "2022-12-18T11:26:07.762Z"
   },
   {
    "duration": 0,
    "start_time": "2022-12-18T11:26:07.764Z"
   },
   {
    "duration": 0,
    "start_time": "2022-12-18T11:26:07.765Z"
   },
   {
    "duration": 0,
    "start_time": "2022-12-18T11:26:07.767Z"
   },
   {
    "duration": 0,
    "start_time": "2022-12-18T11:26:07.768Z"
   },
   {
    "duration": 0,
    "start_time": "2022-12-18T11:26:07.769Z"
   },
   {
    "duration": 0,
    "start_time": "2022-12-18T11:26:07.770Z"
   },
   {
    "duration": 0,
    "start_time": "2022-12-18T11:26:07.772Z"
   },
   {
    "duration": 0,
    "start_time": "2022-12-18T11:26:07.773Z"
   },
   {
    "duration": 0,
    "start_time": "2022-12-18T11:26:07.774Z"
   },
   {
    "duration": 0,
    "start_time": "2022-12-18T11:26:07.776Z"
   },
   {
    "duration": 0,
    "start_time": "2022-12-18T11:26:07.777Z"
   },
   {
    "duration": 0,
    "start_time": "2022-12-18T11:26:07.778Z"
   },
   {
    "duration": 0,
    "start_time": "2022-12-18T11:26:07.779Z"
   },
   {
    "duration": 0,
    "start_time": "2022-12-18T11:26:07.780Z"
   },
   {
    "duration": 0,
    "start_time": "2022-12-18T11:26:07.782Z"
   },
   {
    "duration": 0,
    "start_time": "2022-12-18T11:26:07.783Z"
   },
   {
    "duration": 0,
    "start_time": "2022-12-18T11:26:07.784Z"
   },
   {
    "duration": 0,
    "start_time": "2022-12-18T11:26:07.786Z"
   },
   {
    "duration": 0,
    "start_time": "2022-12-18T11:26:07.787Z"
   },
   {
    "duration": 0,
    "start_time": "2022-12-18T11:26:07.789Z"
   },
   {
    "duration": 0,
    "start_time": "2022-12-18T11:26:07.813Z"
   },
   {
    "duration": 0,
    "start_time": "2022-12-18T11:26:07.815Z"
   },
   {
    "duration": 0,
    "start_time": "2022-12-18T11:26:07.817Z"
   },
   {
    "duration": 0,
    "start_time": "2022-12-18T11:26:07.818Z"
   },
   {
    "duration": 0,
    "start_time": "2022-12-18T11:26:07.821Z"
   },
   {
    "duration": 0,
    "start_time": "2022-12-18T11:26:07.823Z"
   },
   {
    "duration": 0,
    "start_time": "2022-12-18T11:26:07.824Z"
   },
   {
    "duration": 0,
    "start_time": "2022-12-18T11:26:07.825Z"
   },
   {
    "duration": 0,
    "start_time": "2022-12-18T11:26:07.826Z"
   },
   {
    "duration": 0,
    "start_time": "2022-12-18T11:26:07.827Z"
   },
   {
    "duration": 0,
    "start_time": "2022-12-18T11:26:07.828Z"
   },
   {
    "duration": 0,
    "start_time": "2022-12-18T11:26:07.830Z"
   },
   {
    "duration": 0,
    "start_time": "2022-12-18T11:26:07.831Z"
   },
   {
    "duration": 0,
    "start_time": "2022-12-18T11:26:07.833Z"
   },
   {
    "duration": 0,
    "start_time": "2022-12-18T11:26:07.834Z"
   },
   {
    "duration": 0,
    "start_time": "2022-12-18T11:26:07.836Z"
   },
   {
    "duration": 1,
    "start_time": "2022-12-18T11:26:07.836Z"
   },
   {
    "duration": 0,
    "start_time": "2022-12-18T11:26:07.838Z"
   },
   {
    "duration": 0,
    "start_time": "2022-12-18T11:26:07.839Z"
   },
   {
    "duration": 0,
    "start_time": "2022-12-18T11:26:07.840Z"
   },
   {
    "duration": 0,
    "start_time": "2022-12-18T11:26:07.841Z"
   },
   {
    "duration": 0,
    "start_time": "2022-12-18T11:26:07.842Z"
   },
   {
    "duration": 0,
    "start_time": "2022-12-18T11:26:07.843Z"
   },
   {
    "duration": 0,
    "start_time": "2022-12-18T11:26:07.844Z"
   },
   {
    "duration": 0,
    "start_time": "2022-12-18T11:26:07.845Z"
   },
   {
    "duration": 1,
    "start_time": "2022-12-18T11:26:07.845Z"
   },
   {
    "duration": 0,
    "start_time": "2022-12-18T11:26:07.846Z"
   },
   {
    "duration": 21,
    "start_time": "2022-12-18T11:26:30.401Z"
   },
   {
    "duration": 76,
    "start_time": "2022-12-18T11:26:33.664Z"
   },
   {
    "duration": 582,
    "start_time": "2022-12-18T11:26:44.228Z"
   },
   {
    "duration": 22,
    "start_time": "2022-12-18T11:26:52.530Z"
   },
   {
    "duration": 9,
    "start_time": "2022-12-18T11:26:56.703Z"
   },
   {
    "duration": 12,
    "start_time": "2022-12-18T11:27:00.326Z"
   },
   {
    "duration": 9,
    "start_time": "2022-12-18T11:27:02.727Z"
   },
   {
    "duration": 7,
    "start_time": "2022-12-18T11:27:06.729Z"
   },
   {
    "duration": 354,
    "start_time": "2022-12-18T11:27:09.627Z"
   },
   {
    "duration": 14,
    "start_time": "2022-12-18T11:27:15.077Z"
   },
   {
    "duration": 10,
    "start_time": "2022-12-18T11:27:18.248Z"
   },
   {
    "duration": 207,
    "start_time": "2022-12-18T11:27:21.868Z"
   },
   {
    "duration": 19,
    "start_time": "2022-12-18T11:27:27.815Z"
   },
   {
    "duration": 7,
    "start_time": "2022-12-18T11:27:31.545Z"
   },
   {
    "duration": 335,
    "start_time": "2022-12-18T11:27:36.285Z"
   },
   {
    "duration": 7,
    "start_time": "2022-12-18T11:27:43.458Z"
   },
   {
    "duration": 182,
    "start_time": "2022-12-18T11:27:46.345Z"
   },
   {
    "duration": 19,
    "start_time": "2022-12-18T11:27:52.201Z"
   },
   {
    "duration": 189,
    "start_time": "2022-12-18T11:27:57.446Z"
   },
   {
    "duration": 31,
    "start_time": "2022-12-18T11:28:02.305Z"
   },
   {
    "duration": 20,
    "start_time": "2022-12-18T11:28:05.904Z"
   },
   {
    "duration": 22,
    "start_time": "2022-12-18T11:28:09.979Z"
   },
   {
    "duration": 5,
    "start_time": "2022-12-18T11:28:14.130Z"
   },
   {
    "duration": 248,
    "start_time": "2022-12-18T11:28:17.946Z"
   },
   {
    "duration": 146,
    "start_time": "2022-12-18T11:28:21.901Z"
   },
   {
    "duration": 216,
    "start_time": "2022-12-18T11:28:25.245Z"
   },
   {
    "duration": 9,
    "start_time": "2022-12-18T11:28:29.102Z"
   },
   {
    "duration": 190,
    "start_time": "2022-12-18T11:28:33.011Z"
   },
   {
    "duration": 182,
    "start_time": "2022-12-18T11:28:38.213Z"
   },
   {
    "duration": 13,
    "start_time": "2022-12-18T11:28:42.647Z"
   },
   {
    "duration": 281,
    "start_time": "2022-12-18T11:28:45.784Z"
   },
   {
    "duration": 14,
    "start_time": "2022-12-18T11:28:52.345Z"
   },
   {
    "duration": 200,
    "start_time": "2022-12-18T11:28:55.579Z"
   },
   {
    "duration": 15,
    "start_time": "2022-12-18T11:29:01.244Z"
   },
   {
    "duration": 206,
    "start_time": "2022-12-18T11:29:04.828Z"
   },
   {
    "duration": 193,
    "start_time": "2022-12-18T11:29:15.948Z"
   },
   {
    "duration": 71,
    "start_time": "2022-12-18T11:31:14.230Z"
   },
   {
    "duration": 67,
    "start_time": "2022-12-18T11:31:26.081Z"
   },
   {
    "duration": 17,
    "start_time": "2022-12-18T11:32:16.235Z"
   },
   {
    "duration": 72,
    "start_time": "2022-12-18T11:32:46.629Z"
   },
   {
    "duration": 70,
    "start_time": "2022-12-18T11:32:55.681Z"
   },
   {
    "duration": 72,
    "start_time": "2022-12-18T11:33:01.825Z"
   },
   {
    "duration": 16,
    "start_time": "2022-12-18T11:33:17.636Z"
   },
   {
    "duration": 9,
    "start_time": "2022-12-18T11:36:50.793Z"
   },
   {
    "duration": 349,
    "start_time": "2022-12-18T11:37:22.425Z"
   },
   {
    "duration": 21,
    "start_time": "2022-12-18T11:37:45.410Z"
   },
   {
    "duration": 284,
    "start_time": "2022-12-18T11:39:01.047Z"
   },
   {
    "duration": 211,
    "start_time": "2022-12-18T11:39:23.264Z"
   },
   {
    "duration": 15,
    "start_time": "2022-12-18T11:39:42.813Z"
   },
   {
    "duration": 204,
    "start_time": "2022-12-18T11:40:21.109Z"
   },
   {
    "duration": 15,
    "start_time": "2022-12-18T11:40:40.853Z"
   },
   {
    "duration": 202,
    "start_time": "2022-12-18T11:41:25.775Z"
   },
   {
    "duration": 14,
    "start_time": "2022-12-18T12:00:07.647Z"
   },
   {
    "duration": 114,
    "start_time": "2022-12-18T12:01:00.217Z"
   },
   {
    "duration": 23,
    "start_time": "2022-12-18T12:01:14.528Z"
   },
   {
    "duration": 21,
    "start_time": "2022-12-18T12:01:33.246Z"
   },
   {
    "duration": 1132,
    "start_time": "2022-12-18T12:01:38.665Z"
   },
   {
    "duration": 63,
    "start_time": "2022-12-18T12:01:39.799Z"
   },
   {
    "duration": 17,
    "start_time": "2022-12-18T12:01:39.864Z"
   },
   {
    "duration": 8,
    "start_time": "2022-12-18T12:01:39.883Z"
   },
   {
    "duration": 10,
    "start_time": "2022-12-18T12:01:39.892Z"
   },
   {
    "duration": 12,
    "start_time": "2022-12-18T12:01:39.904Z"
   },
   {
    "duration": 8,
    "start_time": "2022-12-18T12:01:39.918Z"
   },
   {
    "duration": 8,
    "start_time": "2022-12-18T12:01:39.928Z"
   },
   {
    "duration": 15,
    "start_time": "2022-12-18T12:01:39.938Z"
   },
   {
    "duration": 9,
    "start_time": "2022-12-18T12:01:39.956Z"
   },
   {
    "duration": 14,
    "start_time": "2022-12-18T12:01:39.967Z"
   },
   {
    "duration": 638,
    "start_time": "2022-12-18T12:01:40.013Z"
   },
   {
    "duration": 17,
    "start_time": "2022-12-18T12:01:40.653Z"
   },
   {
    "duration": 53,
    "start_time": "2022-12-18T12:01:40.671Z"
   },
   {
    "duration": 26,
    "start_time": "2022-12-18T12:01:40.726Z"
   },
   {
    "duration": 45,
    "start_time": "2022-12-18T12:01:40.753Z"
   },
   {
    "duration": 8,
    "start_time": "2022-12-18T12:01:40.800Z"
   },
   {
    "duration": 7,
    "start_time": "2022-12-18T12:01:40.810Z"
   },
   {
    "duration": 368,
    "start_time": "2022-12-18T12:01:40.818Z"
   },
   {
    "duration": 15,
    "start_time": "2022-12-18T12:01:41.188Z"
   },
   {
    "duration": 11,
    "start_time": "2022-12-18T12:01:41.213Z"
   },
   {
    "duration": 211,
    "start_time": "2022-12-18T12:01:41.225Z"
   },
   {
    "duration": 18,
    "start_time": "2022-12-18T12:01:41.437Z"
   },
   {
    "duration": 5,
    "start_time": "2022-12-18T12:01:41.457Z"
   },
   {
    "duration": 340,
    "start_time": "2022-12-18T12:01:41.464Z"
   },
   {
    "duration": 12,
    "start_time": "2022-12-18T12:01:41.806Z"
   },
   {
    "duration": 178,
    "start_time": "2022-12-18T12:01:41.819Z"
   },
   {
    "duration": 25,
    "start_time": "2022-12-18T12:01:42.001Z"
   },
   {
    "duration": 197,
    "start_time": "2022-12-18T12:01:42.027Z"
   },
   {
    "duration": 30,
    "start_time": "2022-12-18T12:01:42.226Z"
   },
   {
    "duration": 21,
    "start_time": "2022-12-18T12:01:42.258Z"
   },
   {
    "duration": 47,
    "start_time": "2022-12-18T12:01:42.281Z"
   },
   {
    "duration": 7,
    "start_time": "2022-12-18T12:01:42.330Z"
   },
   {
    "duration": 238,
    "start_time": "2022-12-18T12:01:42.338Z"
   },
   {
    "duration": 150,
    "start_time": "2022-12-18T12:01:42.578Z"
   },
   {
    "duration": 208,
    "start_time": "2022-12-18T12:01:42.729Z"
   },
   {
    "duration": 11,
    "start_time": "2022-12-18T12:01:42.939Z"
   },
   {
    "duration": 198,
    "start_time": "2022-12-18T12:01:42.951Z"
   },
   {
    "duration": 190,
    "start_time": "2022-12-18T12:01:43.152Z"
   },
   {
    "duration": 14,
    "start_time": "2022-12-18T12:01:43.344Z"
   },
   {
    "duration": 331,
    "start_time": "2022-12-18T12:01:43.360Z"
   },
   {
    "duration": 115,
    "start_time": "2022-12-18T12:01:43.693Z"
   },
   {
    "duration": 0,
    "start_time": "2022-12-18T12:01:43.812Z"
   },
   {
    "duration": 0,
    "start_time": "2022-12-18T12:01:43.814Z"
   },
   {
    "duration": 0,
    "start_time": "2022-12-18T12:01:43.815Z"
   },
   {
    "duration": 0,
    "start_time": "2022-12-18T12:01:43.816Z"
   },
   {
    "duration": 0,
    "start_time": "2022-12-18T12:01:43.818Z"
   },
   {
    "duration": 0,
    "start_time": "2022-12-18T12:01:43.819Z"
   },
   {
    "duration": 0,
    "start_time": "2022-12-18T12:01:43.821Z"
   },
   {
    "duration": 0,
    "start_time": "2022-12-18T12:01:43.822Z"
   },
   {
    "duration": 0,
    "start_time": "2022-12-18T12:01:43.823Z"
   },
   {
    "duration": 0,
    "start_time": "2022-12-18T12:01:43.825Z"
   },
   {
    "duration": 0,
    "start_time": "2022-12-18T12:01:43.826Z"
   },
   {
    "duration": 0,
    "start_time": "2022-12-18T12:01:43.827Z"
   },
   {
    "duration": 0,
    "start_time": "2022-12-18T12:01:43.828Z"
   },
   {
    "duration": 0,
    "start_time": "2022-12-18T12:01:43.830Z"
   },
   {
    "duration": 0,
    "start_time": "2022-12-18T12:01:43.831Z"
   },
   {
    "duration": 0,
    "start_time": "2022-12-18T12:01:43.832Z"
   },
   {
    "duration": 0,
    "start_time": "2022-12-18T12:01:43.834Z"
   },
   {
    "duration": 0,
    "start_time": "2022-12-18T12:01:43.835Z"
   },
   {
    "duration": 0,
    "start_time": "2022-12-18T12:01:43.836Z"
   },
   {
    "duration": 0,
    "start_time": "2022-12-18T12:01:43.838Z"
   },
   {
    "duration": 0,
    "start_time": "2022-12-18T12:01:43.839Z"
   },
   {
    "duration": 0,
    "start_time": "2022-12-18T12:01:43.841Z"
   },
   {
    "duration": 0,
    "start_time": "2022-12-18T12:01:43.842Z"
   },
   {
    "duration": 0,
    "start_time": "2022-12-18T12:01:43.843Z"
   },
   {
    "duration": 0,
    "start_time": "2022-12-18T12:01:43.844Z"
   },
   {
    "duration": 0,
    "start_time": "2022-12-18T12:01:43.845Z"
   },
   {
    "duration": 10,
    "start_time": "2022-12-18T12:02:01.675Z"
   },
   {
    "duration": 9,
    "start_time": "2022-12-18T12:02:26.311Z"
   },
   {
    "duration": 15,
    "start_time": "2022-12-18T12:02:39.810Z"
   },
   {
    "duration": 14,
    "start_time": "2022-12-18T12:02:47.643Z"
   },
   {
    "duration": 196,
    "start_time": "2022-12-18T12:02:55.111Z"
   },
   {
    "duration": 216,
    "start_time": "2022-12-18T12:02:58.829Z"
   },
   {
    "duration": 16,
    "start_time": "2022-12-18T12:10:26.944Z"
   },
   {
    "duration": 5,
    "start_time": "2022-12-18T12:11:44.309Z"
   },
   {
    "duration": 17,
    "start_time": "2022-12-18T12:11:50.424Z"
   },
   {
    "duration": 14,
    "start_time": "2022-12-18T12:11:57.080Z"
   },
   {
    "duration": 15,
    "start_time": "2022-12-18T12:12:02.146Z"
   },
   {
    "duration": 13,
    "start_time": "2022-12-18T12:12:06.521Z"
   },
   {
    "duration": 14,
    "start_time": "2022-12-18T12:12:09.748Z"
   },
   {
    "duration": 17,
    "start_time": "2022-12-18T12:12:12.780Z"
   },
   {
    "duration": 15,
    "start_time": "2022-12-18T12:12:19.057Z"
   },
   {
    "duration": 16,
    "start_time": "2022-12-18T12:12:22.944Z"
   },
   {
    "duration": 17,
    "start_time": "2022-12-18T12:12:25.917Z"
   },
   {
    "duration": 17,
    "start_time": "2022-12-18T12:12:29.915Z"
   },
   {
    "duration": 312,
    "start_time": "2022-12-18T12:12:36.681Z"
   },
   {
    "duration": 18,
    "start_time": "2022-12-18T12:12:41.522Z"
   },
   {
    "duration": 288,
    "start_time": "2022-12-18T12:12:52.009Z"
   },
   {
    "duration": 381,
    "start_time": "2022-12-18T12:13:01.825Z"
   },
   {
    "duration": 18,
    "start_time": "2022-12-18T12:13:13.146Z"
   },
   {
    "duration": 236,
    "start_time": "2022-12-18T12:13:27.881Z"
   },
   {
    "duration": 19,
    "start_time": "2022-12-18T12:13:54.880Z"
   },
   {
    "duration": 1691,
    "start_time": "2022-12-18T12:15:08.703Z"
   },
   {
    "duration": 1653,
    "start_time": "2022-12-18T12:15:27.029Z"
   },
   {
    "duration": 16,
    "start_time": "2022-12-18T12:17:22.130Z"
   },
   {
    "duration": 15,
    "start_time": "2022-12-18T12:17:26.005Z"
   },
   {
    "duration": 15,
    "start_time": "2022-12-18T12:17:29.629Z"
   },
   {
    "duration": 16,
    "start_time": "2022-12-18T12:17:33.528Z"
   },
   {
    "duration": 16,
    "start_time": "2022-12-18T12:17:49.114Z"
   },
   {
    "duration": 174,
    "start_time": "2022-12-18T12:18:06.530Z"
   },
   {
    "duration": 4,
    "start_time": "2022-12-18T12:18:47.299Z"
   },
   {
    "duration": 5,
    "start_time": "2022-12-18T12:18:51.497Z"
   },
   {
    "duration": 673,
    "start_time": "2022-12-18T12:25:55.562Z"
   },
   {
    "duration": 8,
    "start_time": "2022-12-18T12:32:04.813Z"
   },
   {
    "duration": 8,
    "start_time": "2022-12-18T12:32:13.117Z"
   },
   {
    "duration": 3,
    "start_time": "2022-12-18T12:33:03.731Z"
   },
   {
    "duration": 1163,
    "start_time": "2022-12-18T12:33:09.455Z"
   },
   {
    "duration": 66,
    "start_time": "2022-12-18T12:33:10.620Z"
   },
   {
    "duration": 18,
    "start_time": "2022-12-18T12:33:10.688Z"
   },
   {
    "duration": 3,
    "start_time": "2022-12-18T12:33:10.708Z"
   },
   {
    "duration": 12,
    "start_time": "2022-12-18T12:33:10.713Z"
   },
   {
    "duration": 18,
    "start_time": "2022-12-18T12:33:10.726Z"
   },
   {
    "duration": 16,
    "start_time": "2022-12-18T12:33:10.746Z"
   },
   {
    "duration": 8,
    "start_time": "2022-12-18T12:33:10.764Z"
   },
   {
    "duration": 13,
    "start_time": "2022-12-18T12:33:10.774Z"
   },
   {
    "duration": 17,
    "start_time": "2022-12-18T12:33:10.789Z"
   },
   {
    "duration": 20,
    "start_time": "2022-12-18T12:33:10.808Z"
   },
   {
    "duration": 575,
    "start_time": "2022-12-18T12:33:10.830Z"
   },
   {
    "duration": 18,
    "start_time": "2022-12-18T12:33:11.407Z"
   },
   {
    "duration": 33,
    "start_time": "2022-12-18T12:33:11.427Z"
   },
   {
    "duration": 25,
    "start_time": "2022-12-18T12:33:11.462Z"
   },
   {
    "duration": 31,
    "start_time": "2022-12-18T12:33:11.488Z"
   },
   {
    "duration": 19,
    "start_time": "2022-12-18T12:33:11.521Z"
   },
   {
    "duration": 29,
    "start_time": "2022-12-18T12:33:11.541Z"
   },
   {
    "duration": 376,
    "start_time": "2022-12-18T12:33:11.572Z"
   },
   {
    "duration": 15,
    "start_time": "2022-12-18T12:33:11.950Z"
   },
   {
    "duration": 31,
    "start_time": "2022-12-18T12:33:11.967Z"
   },
   {
    "duration": 212,
    "start_time": "2022-12-18T12:33:11.999Z"
   },
   {
    "duration": 18,
    "start_time": "2022-12-18T12:33:12.212Z"
   },
   {
    "duration": 6,
    "start_time": "2022-12-18T12:33:12.232Z"
   },
   {
    "duration": 343,
    "start_time": "2022-12-18T12:33:12.239Z"
   },
   {
    "duration": 6,
    "start_time": "2022-12-18T12:33:12.584Z"
   },
   {
    "duration": 174,
    "start_time": "2022-12-18T12:33:12.592Z"
   },
   {
    "duration": 19,
    "start_time": "2022-12-18T12:33:12.770Z"
   },
   {
    "duration": 203,
    "start_time": "2022-12-18T12:33:12.790Z"
   },
   {
    "duration": 39,
    "start_time": "2022-12-18T12:33:12.995Z"
   },
   {
    "duration": 20,
    "start_time": "2022-12-18T12:33:13.035Z"
   },
   {
    "duration": 29,
    "start_time": "2022-12-18T12:33:13.057Z"
   },
   {
    "duration": 14,
    "start_time": "2022-12-18T12:33:13.088Z"
   },
   {
    "duration": 235,
    "start_time": "2022-12-18T12:33:13.103Z"
   },
   {
    "duration": 150,
    "start_time": "2022-12-18T12:33:13.339Z"
   },
   {
    "duration": 195,
    "start_time": "2022-12-18T12:33:13.490Z"
   },
   {
    "duration": 9,
    "start_time": "2022-12-18T12:33:13.687Z"
   },
   {
    "duration": 197,
    "start_time": "2022-12-18T12:33:13.698Z"
   },
   {
    "duration": 199,
    "start_time": "2022-12-18T12:33:13.897Z"
   },
   {
    "duration": 17,
    "start_time": "2022-12-18T12:33:14.097Z"
   },
   {
    "duration": 286,
    "start_time": "2022-12-18T12:33:14.115Z"
   },
   {
    "duration": 21,
    "start_time": "2022-12-18T12:33:14.402Z"
   },
   {
    "duration": 21,
    "start_time": "2022-12-18T12:33:14.425Z"
   },
   {
    "duration": 212,
    "start_time": "2022-12-18T12:33:14.447Z"
   },
   {
    "duration": 203,
    "start_time": "2022-12-18T12:33:14.661Z"
   },
   {
    "duration": 6,
    "start_time": "2022-12-18T12:33:14.865Z"
   },
   {
    "duration": 25,
    "start_time": "2022-12-18T12:33:14.873Z"
   },
   {
    "duration": 23,
    "start_time": "2022-12-18T12:33:14.900Z"
   },
   {
    "duration": 23,
    "start_time": "2022-12-18T12:33:14.925Z"
   },
   {
    "duration": 19,
    "start_time": "2022-12-18T12:33:14.950Z"
   },
   {
    "duration": 20,
    "start_time": "2022-12-18T12:33:14.971Z"
   },
   {
    "duration": 41,
    "start_time": "2022-12-18T12:33:14.993Z"
   },
   {
    "duration": 12,
    "start_time": "2022-12-18T12:33:15.035Z"
   },
   {
    "duration": 17,
    "start_time": "2022-12-18T12:33:15.049Z"
   },
   {
    "duration": 25,
    "start_time": "2022-12-18T12:33:15.068Z"
   },
   {
    "duration": 16,
    "start_time": "2022-12-18T12:33:15.094Z"
   },
   {
    "duration": 235,
    "start_time": "2022-12-18T12:33:15.113Z"
   },
   {
    "duration": 17,
    "start_time": "2022-12-18T12:33:15.349Z"
   },
   {
    "duration": 351,
    "start_time": "2022-12-18T12:33:15.368Z"
   },
   {
    "duration": 14,
    "start_time": "2022-12-18T12:33:15.721Z"
   },
   {
    "duration": 17,
    "start_time": "2022-12-18T12:33:15.736Z"
   },
   {
    "duration": 15,
    "start_time": "2022-12-18T12:33:15.754Z"
   },
   {
    "duration": 14,
    "start_time": "2022-12-18T12:33:15.770Z"
   },
   {
    "duration": 280,
    "start_time": "2022-12-18T12:33:15.786Z"
   },
   {
    "duration": 4,
    "start_time": "2022-12-18T12:33:16.068Z"
   },
   {
    "duration": 7,
    "start_time": "2022-12-18T12:33:16.074Z"
   },
   {
    "duration": 113,
    "start_time": "2022-12-18T12:33:16.083Z"
   },
   {
    "duration": 0,
    "start_time": "2022-12-18T12:33:16.198Z"
   },
   {
    "duration": 0,
    "start_time": "2022-12-18T12:33:16.200Z"
   },
   {
    "duration": 1118,
    "start_time": "2022-12-18T12:44:33.567Z"
   },
   {
    "duration": 65,
    "start_time": "2022-12-18T12:44:34.688Z"
   },
   {
    "duration": 19,
    "start_time": "2022-12-18T12:44:34.755Z"
   },
   {
    "duration": 3,
    "start_time": "2022-12-18T12:44:34.776Z"
   },
   {
    "duration": 11,
    "start_time": "2022-12-18T12:44:34.781Z"
   },
   {
    "duration": 27,
    "start_time": "2022-12-18T12:44:34.793Z"
   },
   {
    "duration": 8,
    "start_time": "2022-12-18T12:44:34.822Z"
   },
   {
    "duration": 9,
    "start_time": "2022-12-18T12:44:34.832Z"
   },
   {
    "duration": 10,
    "start_time": "2022-12-18T12:44:34.843Z"
   },
   {
    "duration": 8,
    "start_time": "2022-12-18T12:44:34.855Z"
   },
   {
    "duration": 19,
    "start_time": "2022-12-18T12:44:34.864Z"
   },
   {
    "duration": 630,
    "start_time": "2022-12-18T12:44:34.885Z"
   },
   {
    "duration": 14,
    "start_time": "2022-12-18T12:44:35.517Z"
   },
   {
    "duration": 33,
    "start_time": "2022-12-18T12:44:35.533Z"
   },
   {
    "duration": 19,
    "start_time": "2022-12-18T12:44:35.567Z"
   },
   {
    "duration": 12,
    "start_time": "2022-12-18T12:44:35.587Z"
   },
   {
    "duration": 13,
    "start_time": "2022-12-18T12:44:35.601Z"
   },
   {
    "duration": 14,
    "start_time": "2022-12-18T12:44:35.615Z"
   },
   {
    "duration": 362,
    "start_time": "2022-12-18T12:44:35.630Z"
   },
   {
    "duration": 28,
    "start_time": "2022-12-18T12:44:35.994Z"
   },
   {
    "duration": 9,
    "start_time": "2022-12-18T12:44:36.024Z"
   },
   {
    "duration": 208,
    "start_time": "2022-12-18T12:44:36.035Z"
   },
   {
    "duration": 19,
    "start_time": "2022-12-18T12:44:36.244Z"
   },
   {
    "duration": 7,
    "start_time": "2022-12-18T12:44:36.265Z"
   },
   {
    "duration": 370,
    "start_time": "2022-12-18T12:44:36.273Z"
   },
   {
    "duration": 6,
    "start_time": "2022-12-18T12:44:36.645Z"
   },
   {
    "duration": 187,
    "start_time": "2022-12-18T12:44:36.653Z"
   },
   {
    "duration": 20,
    "start_time": "2022-12-18T12:44:36.843Z"
   },
   {
    "duration": 242,
    "start_time": "2022-12-18T12:44:36.864Z"
   },
   {
    "duration": 36,
    "start_time": "2022-12-18T12:44:37.108Z"
   },
   {
    "duration": 21,
    "start_time": "2022-12-18T12:44:37.146Z"
   },
   {
    "duration": 45,
    "start_time": "2022-12-18T12:44:37.169Z"
   },
   {
    "duration": 7,
    "start_time": "2022-12-18T12:44:37.216Z"
   },
   {
    "duration": 237,
    "start_time": "2022-12-18T12:44:37.225Z"
   },
   {
    "duration": 152,
    "start_time": "2022-12-18T12:44:37.463Z"
   },
   {
    "duration": 202,
    "start_time": "2022-12-18T12:44:37.616Z"
   },
   {
    "duration": 10,
    "start_time": "2022-12-18T12:44:37.820Z"
   },
   {
    "duration": 192,
    "start_time": "2022-12-18T12:44:37.831Z"
   },
   {
    "duration": 199,
    "start_time": "2022-12-18T12:44:38.024Z"
   },
   {
    "duration": 14,
    "start_time": "2022-12-18T12:44:38.226Z"
   },
   {
    "duration": 284,
    "start_time": "2022-12-18T12:44:38.242Z"
   },
   {
    "duration": 15,
    "start_time": "2022-12-18T12:44:38.529Z"
   },
   {
    "duration": 15,
    "start_time": "2022-12-18T12:44:38.546Z"
   },
   {
    "duration": 236,
    "start_time": "2022-12-18T12:44:38.563Z"
   },
   {
    "duration": 216,
    "start_time": "2022-12-18T12:44:38.801Z"
   },
   {
    "duration": 7,
    "start_time": "2022-12-18T12:44:39.019Z"
   },
   {
    "duration": 19,
    "start_time": "2022-12-18T12:44:39.027Z"
   },
   {
    "duration": 17,
    "start_time": "2022-12-18T12:44:39.048Z"
   },
   {
    "duration": 17,
    "start_time": "2022-12-18T12:44:39.067Z"
   },
   {
    "duration": 35,
    "start_time": "2022-12-18T12:44:39.086Z"
   },
   {
    "duration": 22,
    "start_time": "2022-12-18T12:44:39.122Z"
   },
   {
    "duration": 19,
    "start_time": "2022-12-18T12:44:39.146Z"
   },
   {
    "duration": 14,
    "start_time": "2022-12-18T12:44:39.167Z"
   },
   {
    "duration": 32,
    "start_time": "2022-12-18T12:44:39.182Z"
   },
   {
    "duration": 18,
    "start_time": "2022-12-18T12:44:39.215Z"
   },
   {
    "duration": 24,
    "start_time": "2022-12-18T12:44:39.234Z"
   },
   {
    "duration": 269,
    "start_time": "2022-12-18T12:44:39.259Z"
   },
   {
    "duration": 26,
    "start_time": "2022-12-18T12:44:39.530Z"
   },
   {
    "duration": 294,
    "start_time": "2022-12-18T12:44:39.559Z"
   },
   {
    "duration": 14,
    "start_time": "2022-12-18T12:44:39.854Z"
   },
   {
    "duration": 25,
    "start_time": "2022-12-18T12:44:39.870Z"
   },
   {
    "duration": 24,
    "start_time": "2022-12-18T12:44:39.896Z"
   },
   {
    "duration": 19,
    "start_time": "2022-12-18T12:44:39.922Z"
   },
   {
    "duration": 273,
    "start_time": "2022-12-18T12:44:39.942Z"
   },
   {
    "duration": 7,
    "start_time": "2022-12-18T12:44:40.217Z"
   },
   {
    "duration": 9,
    "start_time": "2022-12-18T12:44:40.225Z"
   },
   {
    "duration": 14,
    "start_time": "2022-12-18T12:44:40.236Z"
   },
   {
    "duration": 16,
    "start_time": "2022-12-18T12:44:40.252Z"
   },
   {
    "duration": 1249,
    "start_time": "2022-12-19T14:20:30.236Z"
   },
   {
    "duration": 103,
    "start_time": "2022-12-19T14:20:31.487Z"
   },
   {
    "duration": 15,
    "start_time": "2022-12-19T14:20:31.592Z"
   },
   {
    "duration": 13,
    "start_time": "2022-12-19T14:20:31.609Z"
   },
   {
    "duration": 35,
    "start_time": "2022-12-19T14:20:31.624Z"
   },
   {
    "duration": 41,
    "start_time": "2022-12-19T14:20:31.661Z"
   },
   {
    "duration": 32,
    "start_time": "2022-12-19T14:20:31.704Z"
   },
   {
    "duration": 38,
    "start_time": "2022-12-19T14:20:31.738Z"
   },
   {
    "duration": 15,
    "start_time": "2022-12-19T14:20:31.778Z"
   },
   {
    "duration": 10,
    "start_time": "2022-12-19T14:20:31.796Z"
   },
   {
    "duration": 17,
    "start_time": "2022-12-19T14:20:31.807Z"
   },
   {
    "duration": 589,
    "start_time": "2022-12-19T14:20:31.826Z"
   },
   {
    "duration": 14,
    "start_time": "2022-12-19T14:20:32.417Z"
   },
   {
    "duration": 68,
    "start_time": "2022-12-19T14:20:32.433Z"
   },
   {
    "duration": 66,
    "start_time": "2022-12-19T14:20:32.502Z"
   },
   {
    "duration": 27,
    "start_time": "2022-12-19T14:20:32.569Z"
   },
   {
    "duration": 27,
    "start_time": "2022-12-19T14:20:32.598Z"
   },
   {
    "duration": 77,
    "start_time": "2022-12-19T14:20:32.627Z"
   },
   {
    "duration": 367,
    "start_time": "2022-12-19T14:20:32.706Z"
   },
   {
    "duration": 15,
    "start_time": "2022-12-19T14:20:33.074Z"
   },
   {
    "duration": 27,
    "start_time": "2022-12-19T14:20:33.090Z"
   },
   {
    "duration": 178,
    "start_time": "2022-12-19T14:20:33.119Z"
   },
   {
    "duration": 24,
    "start_time": "2022-12-19T14:20:33.298Z"
   },
   {
    "duration": 6,
    "start_time": "2022-12-19T14:20:33.323Z"
   },
   {
    "duration": 328,
    "start_time": "2022-12-19T14:20:33.330Z"
   },
   {
    "duration": 11,
    "start_time": "2022-12-19T14:20:33.660Z"
   },
   {
    "duration": 187,
    "start_time": "2022-12-19T14:20:33.673Z"
   },
   {
    "duration": 3,
    "start_time": "2022-12-19T14:20:33.864Z"
   },
   {
    "duration": 23,
    "start_time": "2022-12-19T14:20:33.869Z"
   },
   {
    "duration": 37,
    "start_time": "2022-12-19T14:20:33.893Z"
   },
   {
    "duration": 193,
    "start_time": "2022-12-19T14:20:33.932Z"
   },
   {
    "duration": 28,
    "start_time": "2022-12-19T14:20:34.126Z"
   },
   {
    "duration": 18,
    "start_time": "2022-12-19T14:20:34.156Z"
   },
   {
    "duration": 29,
    "start_time": "2022-12-19T14:20:34.176Z"
   },
   {
    "duration": 35,
    "start_time": "2022-12-19T14:20:34.221Z"
   },
   {
    "duration": 207,
    "start_time": "2022-12-19T14:20:34.257Z"
   },
   {
    "duration": 144,
    "start_time": "2022-12-19T14:20:34.466Z"
   },
   {
    "duration": 193,
    "start_time": "2022-12-19T14:20:34.611Z"
   },
   {
    "duration": 9,
    "start_time": "2022-12-19T14:20:34.805Z"
   },
   {
    "duration": 190,
    "start_time": "2022-12-19T14:20:34.816Z"
   },
   {
    "duration": 185,
    "start_time": "2022-12-19T14:20:35.007Z"
   },
   {
    "duration": 12,
    "start_time": "2022-12-19T14:20:35.194Z"
   },
   {
    "duration": 330,
    "start_time": "2022-12-19T14:20:35.207Z"
   },
   {
    "duration": 19,
    "start_time": "2022-12-19T14:20:35.539Z"
   },
   {
    "duration": 27,
    "start_time": "2022-12-19T14:20:35.560Z"
   },
   {
    "duration": 212,
    "start_time": "2022-12-19T14:20:35.588Z"
   },
   {
    "duration": 189,
    "start_time": "2022-12-19T14:20:35.802Z"
   },
   {
    "duration": 5,
    "start_time": "2022-12-19T14:20:35.993Z"
   },
   {
    "duration": 24,
    "start_time": "2022-12-19T14:20:35.999Z"
   },
   {
    "duration": 23,
    "start_time": "2022-12-19T14:20:36.024Z"
   },
   {
    "duration": 14,
    "start_time": "2022-12-19T14:20:36.049Z"
   },
   {
    "duration": 13,
    "start_time": "2022-12-19T14:20:36.065Z"
   },
   {
    "duration": 12,
    "start_time": "2022-12-19T14:20:36.080Z"
   },
   {
    "duration": 30,
    "start_time": "2022-12-19T14:20:36.093Z"
   },
   {
    "duration": 12,
    "start_time": "2022-12-19T14:20:36.125Z"
   },
   {
    "duration": 38,
    "start_time": "2022-12-19T14:20:36.139Z"
   },
   {
    "duration": 21,
    "start_time": "2022-12-19T14:20:36.179Z"
   },
   {
    "duration": 20,
    "start_time": "2022-12-19T14:20:36.201Z"
   },
   {
    "duration": 257,
    "start_time": "2022-12-19T14:20:36.223Z"
   },
   {
    "duration": 17,
    "start_time": "2022-12-19T14:20:36.482Z"
   },
   {
    "duration": 281,
    "start_time": "2022-12-19T14:20:36.500Z"
   },
   {
    "duration": 13,
    "start_time": "2022-12-19T14:20:36.782Z"
   },
   {
    "duration": 33,
    "start_time": "2022-12-19T14:20:36.797Z"
   },
   {
    "duration": 26,
    "start_time": "2022-12-19T14:20:36.832Z"
   },
   {
    "duration": 18,
    "start_time": "2022-12-19T14:20:36.859Z"
   },
   {
    "duration": 246,
    "start_time": "2022-12-19T14:20:36.878Z"
   },
   {
    "duration": 5,
    "start_time": "2022-12-19T14:20:37.126Z"
   },
   {
    "duration": 11,
    "start_time": "2022-12-19T14:20:37.132Z"
   },
   {
    "duration": 204,
    "start_time": "2022-12-19T14:20:37.144Z"
   },
   {
    "duration": 5,
    "start_time": "2022-12-19T14:20:37.349Z"
   },
   {
    "duration": 12,
    "start_time": "2022-12-19T14:20:37.356Z"
   },
   {
    "duration": 7,
    "start_time": "2022-12-19T14:21:52.183Z"
   },
   {
    "duration": 8,
    "start_time": "2022-12-19T14:21:57.320Z"
   },
   {
    "duration": 1074,
    "start_time": "2022-12-19T14:22:08.643Z"
   },
   {
    "duration": 63,
    "start_time": "2022-12-19T14:22:09.719Z"
   },
   {
    "duration": 16,
    "start_time": "2022-12-19T14:22:09.783Z"
   },
   {
    "duration": 6,
    "start_time": "2022-12-19T14:22:09.801Z"
   },
   {
    "duration": 13,
    "start_time": "2022-12-19T14:22:09.809Z"
   },
   {
    "duration": 16,
    "start_time": "2022-12-19T14:22:09.824Z"
   },
   {
    "duration": 16,
    "start_time": "2022-12-19T14:22:09.842Z"
   },
   {
    "duration": 15,
    "start_time": "2022-12-19T14:22:09.860Z"
   },
   {
    "duration": 13,
    "start_time": "2022-12-19T14:22:09.877Z"
   },
   {
    "duration": 8,
    "start_time": "2022-12-19T14:22:09.893Z"
   },
   {
    "duration": 26,
    "start_time": "2022-12-19T14:22:09.902Z"
   },
   {
    "duration": 589,
    "start_time": "2022-12-19T14:22:09.929Z"
   },
   {
    "duration": 15,
    "start_time": "2022-12-19T14:22:10.520Z"
   },
   {
    "duration": 18,
    "start_time": "2022-12-19T14:22:10.536Z"
   },
   {
    "duration": 8,
    "start_time": "2022-12-19T14:22:10.556Z"
   },
   {
    "duration": 14,
    "start_time": "2022-12-19T14:22:10.567Z"
   },
   {
    "duration": 13,
    "start_time": "2022-12-19T14:22:10.583Z"
   },
   {
    "duration": 29,
    "start_time": "2022-12-19T14:22:10.598Z"
   },
   {
    "duration": 351,
    "start_time": "2022-12-19T14:22:10.629Z"
   },
   {
    "duration": 14,
    "start_time": "2022-12-19T14:22:10.982Z"
   },
   {
    "duration": 8,
    "start_time": "2022-12-19T14:22:10.997Z"
   },
   {
    "duration": 210,
    "start_time": "2022-12-19T14:22:11.007Z"
   },
   {
    "duration": 17,
    "start_time": "2022-12-19T14:22:11.221Z"
   },
   {
    "duration": 6,
    "start_time": "2022-12-19T14:22:11.240Z"
   },
   {
    "duration": 356,
    "start_time": "2022-12-19T14:22:11.248Z"
   },
   {
    "duration": 6,
    "start_time": "2022-12-19T14:22:11.605Z"
   },
   {
    "duration": 168,
    "start_time": "2022-12-19T14:22:11.613Z"
   },
   {
    "duration": 3,
    "start_time": "2022-12-19T14:22:11.785Z"
   },
   {
    "duration": 22,
    "start_time": "2022-12-19T14:22:11.789Z"
   },
   {
    "duration": 27,
    "start_time": "2022-12-19T14:22:11.821Z"
   },
   {
    "duration": 193,
    "start_time": "2022-12-19T14:22:11.849Z"
   },
   {
    "duration": 33,
    "start_time": "2022-12-19T14:22:12.043Z"
   },
   {
    "duration": 24,
    "start_time": "2022-12-19T14:22:12.078Z"
   },
   {
    "duration": 31,
    "start_time": "2022-12-19T14:22:12.121Z"
   },
   {
    "duration": 7,
    "start_time": "2022-12-19T14:22:12.154Z"
   },
   {
    "duration": 222,
    "start_time": "2022-12-19T14:22:12.162Z"
   },
   {
    "duration": 152,
    "start_time": "2022-12-19T14:22:12.386Z"
   },
   {
    "duration": 188,
    "start_time": "2022-12-19T14:22:12.540Z"
   },
   {
    "duration": 10,
    "start_time": "2022-12-19T14:22:12.729Z"
   },
   {
    "duration": 194,
    "start_time": "2022-12-19T14:22:12.740Z"
   },
   {
    "duration": 185,
    "start_time": "2022-12-19T14:22:12.936Z"
   },
   {
    "duration": 15,
    "start_time": "2022-12-19T14:22:13.122Z"
   },
   {
    "duration": 278,
    "start_time": "2022-12-19T14:22:13.139Z"
   },
   {
    "duration": 16,
    "start_time": "2022-12-19T14:22:13.419Z"
   },
   {
    "duration": 13,
    "start_time": "2022-12-19T14:22:13.437Z"
   },
   {
    "duration": 212,
    "start_time": "2022-12-19T14:22:13.452Z"
   },
   {
    "duration": 191,
    "start_time": "2022-12-19T14:22:13.666Z"
   },
   {
    "duration": 6,
    "start_time": "2022-12-19T14:22:13.858Z"
   },
   {
    "duration": 14,
    "start_time": "2022-12-19T14:22:13.866Z"
   },
   {
    "duration": 19,
    "start_time": "2022-12-19T14:22:13.882Z"
   },
   {
    "duration": 28,
    "start_time": "2022-12-19T14:22:13.903Z"
   },
   {
    "duration": 12,
    "start_time": "2022-12-19T14:22:13.932Z"
   },
   {
    "duration": 22,
    "start_time": "2022-12-19T14:22:13.945Z"
   },
   {
    "duration": 13,
    "start_time": "2022-12-19T14:22:13.969Z"
   },
   {
    "duration": 12,
    "start_time": "2022-12-19T14:22:13.983Z"
   },
   {
    "duration": 34,
    "start_time": "2022-12-19T14:22:13.996Z"
   },
   {
    "duration": 17,
    "start_time": "2022-12-19T14:22:14.032Z"
   },
   {
    "duration": 28,
    "start_time": "2022-12-19T14:22:14.050Z"
   },
   {
    "duration": 226,
    "start_time": "2022-12-19T14:22:14.079Z"
   },
   {
    "duration": 24,
    "start_time": "2022-12-19T14:22:14.308Z"
   },
   {
    "duration": 275,
    "start_time": "2022-12-19T14:22:14.333Z"
   },
   {
    "duration": 19,
    "start_time": "2022-12-19T14:22:14.610Z"
   },
   {
    "duration": 15,
    "start_time": "2022-12-19T14:22:14.631Z"
   },
   {
    "duration": 11,
    "start_time": "2022-12-19T14:22:14.647Z"
   },
   {
    "duration": 21,
    "start_time": "2022-12-19T14:22:14.660Z"
   },
   {
    "duration": 254,
    "start_time": "2022-12-19T14:22:14.682Z"
   },
   {
    "duration": 7,
    "start_time": "2022-12-19T14:22:14.938Z"
   },
   {
    "duration": 10,
    "start_time": "2022-12-19T14:22:14.947Z"
   },
   {
    "duration": 144,
    "start_time": "2022-12-19T14:22:14.959Z"
   },
   {
    "duration": 5,
    "start_time": "2022-12-19T14:22:15.104Z"
   },
   {
    "duration": 6,
    "start_time": "2022-12-19T14:22:15.120Z"
   }
  ],
  "kernelspec": {
   "display_name": "Python 3 (ipykernel)",
   "language": "python",
   "name": "python3"
  },
  "language_info": {
   "codemirror_mode": {
    "name": "ipython",
    "version": 3
   },
   "file_extension": ".py",
   "mimetype": "text/x-python",
   "name": "python",
   "nbconvert_exporter": "python",
   "pygments_lexer": "ipython3",
   "version": "3.9.13"
  },
  "toc": {
   "base_numbering": 1,
   "nav_menu": {},
   "number_sections": true,
   "sideBar": true,
   "skip_h1_title": true,
   "title_cell": "Table of Contents",
   "title_sidebar": "Contents",
   "toc_cell": false,
   "toc_position": {
    "height": "calc(100% - 180px)",
    "left": "10px",
    "top": "150px",
    "width": "263px"
   },
   "toc_section_display": true,
   "toc_window_display": true
  }
 },
 "nbformat": 4,
 "nbformat_minor": 2
}
