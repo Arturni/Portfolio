{
 "cells": [
  {
   "cell_type": "markdown",
   "id": "a2f914e5",
   "metadata": {},
   "source": [
    "__Ссылка на используемый датасет:__ https://disk.yandex.ru/d/kJwc3szk7vzv_g\n",
    "\n",
    "__Ссылка на презу и дашборд:__ https://drive.google.com/file/d/1OWqO6FhZO6pDG_JpQb6mfQ6xYOJIVOun/view?usp=drivesdk"
   ]
  },
  {
   "cell_type": "markdown",
   "id": "2ce70635",
   "metadata": {},
   "source": [
    "# Выявление профилей потребления"
   ]
  },
  {
   "cell_type": "markdown",
   "id": "33965ed7",
   "metadata": {},
   "source": [
    "# Декомпозиция"
   ]
  },
  {
   "cell_type": "markdown",
   "id": "23c823fc",
   "metadata": {},
   "source": [
    "__Заказчик:__ Интернет-магазин товаров для дома «Пока все ещё тут».\n",
    "\n",
    "__Цель:__ Выявление профилей покупателей, а также их сегментация и анализ данных для повышения эффективности работы интернет-магазина.\n",
    "\n",
    "__Декомпозиция:__\n",
    "\n",
    "   1. Загрузка данных и библиотек\n",
    "    \n",
    "   2. Предобработка данных:    \n",
    "        - приведение даты у удобному формату\n",
    "        - поиск и удаление неявных дубликатов\n",
    "        - исследование аномалий\n",
    "        - добавление столбцов: выручка, час, день, неделя, месяц, год, дата, будни и выходные\n",
    "        \n",
    "   3. Исследовательский анализ данных:\n",
    "    \n",
    "        - общие метрики \n",
    "        - изменение количества заказов во времени\n",
    "        - изменение выручки во времени\n",
    "        - средний чек покупателя\n",
    "    \n",
    "   4. Сегментация товаров:\n",
    "    \n",
    "        - лематизация товаров\n",
    "        - категоризация товаров\n",
    "        - распределение товаров по категориям\n",
    "        - средняя стоимость товаров по категориям\n",
    "\n",
    "   5. Сегментация покупателей\n",
    "    \n",
    "        - Пользовательская активность\n",
    "        - Сегментация на основе машинного обучения\n",
    "        - Сравнение поведения покупателей из разных кластеров \n",
    "\n",
    "   6. Статистический анализ данных. Проеверка гиппотез \n",
    "\n",
    "        - Проверим статистическую значимость различий в среднем чеке заказа между сегментами покупателей.\n",
    "        - Проверим статистическую значимость различий в среднем объёме продаж между сегментами покупателей.\n",
    "        - Проверим одинаковые ли средние объёмы продаж в будни и выходные или нет.\n",
    "        \n",
    "   7. Общий вывод, презентация и дашборд."
   ]
  },
  {
   "cell_type": "markdown",
   "id": "c8e9e604",
   "metadata": {},
   "source": [
    "# Загрузка данных и библиотек"
   ]
  },
  {
   "cell_type": "markdown",
   "id": "42ebb0ac",
   "metadata": {},
   "source": [
    "__Датасет описывает транзакции интернет-магазина товаров для дома и быта «Пока все ещё тут».__ \n",
    "\n",
    "- `date` — дата заказа;\n",
    "- `customer_id` — идентификатор покупателя;\n",
    "- `order_id` — идентификатор заказа;\n",
    "- `product` — наименование товара;\n",
    "- `quantity` — количество товара в заказе;\n",
    "- `price` — цена товара."
   ]
  },
  {
   "cell_type": "code",
   "execution_count": 1,
   "id": "dae80155",
   "metadata": {},
   "outputs": [
    {
     "name": "stdout",
     "output_type": "stream",
     "text": [
      "Requirement already satisfied: pymystem3 in /opt/conda/lib/python3.9/site-packages (0.2.0)\r\n",
      "Requirement already satisfied: requests in /opt/conda/lib/python3.9/site-packages (from pymystem3) (2.25.1)\r\n",
      "Requirement already satisfied: idna<3,>=2.5 in /opt/conda/lib/python3.9/site-packages (from requests->pymystem3) (2.10)\r\n",
      "Requirement already satisfied: certifi>=2017.4.17 in /opt/conda/lib/python3.9/site-packages (from requests->pymystem3) (2022.6.15)\r\n",
      "Requirement already satisfied: urllib3<1.27,>=1.21.1 in /opt/conda/lib/python3.9/site-packages (from requests->pymystem3) (1.26.6)\r\n",
      "Requirement already satisfied: chardet<5,>=3.0.2 in /opt/conda/lib/python3.9/site-packages (from requests->pymystem3) (4.0.0)\r\n"
     ]
    }
   ],
   "source": [
    "# Необходимые библиотеки для исследования.\n",
    "\n",
    "# для анализа данных и математических вычислений\n",
    "import pandas as pd                                         \n",
    "import numpy as np                                          \n",
    "import math as mth                                          \n",
    "\n",
    "# для визуализации данных\n",
    "import seaborn as sns                                       \n",
    "import matplotlib.pyplot as plt                             \n",
    "import plotly.express as px                                 \n",
    "%matplotlib inline\n",
    "\n",
    "# для преобразования к типу данных 'дата'\n",
    "import datetime as dt                                       \n",
    "\n",
    "# для HTTP запросов\n",
    "import requests\n",
    "\n",
    "# для работы с регулярными выражениями\n",
    "import re\n",
    "\n",
    "# для лематизации\n",
    "from pymystem3 import Mystem\n",
    "from collections import Counter\n",
    "!pip install pymystem3\n",
    "\n",
    "# для проведения статистических тестов\n",
    "import scipy.stats as stats\n",
    "from scipy import stats as st \n",
    "import itertools\n",
    "from statsmodels.stats.multitest import multipletests\n",
    "\n",
    "# Машинное обучение в Python.\n",
    "from sklearn.preprocessing import StandardScaler\n",
    "from sklearn.model_selection import train_test_split\n",
    "from sklearn.cluster import KMeans                          \n",
    "from scipy.cluster import hierarchy\n",
    "from scipy.cluster.hierarchy import dendrogram, linkage     \n",
    "\n",
    "# для предупреждений в программе \n",
    "import warnings                                             \n",
    "warnings.filterwarnings('ignore')"
   ]
  },
  {
   "cell_type": "code",
   "execution_count": 2,
   "id": "08fb8c51",
   "metadata": {},
   "outputs": [],
   "source": [
    "server = '/Users/vikkinigmat/Desktop/Yandex_practicum/Финальный проект/ecommerce_dataset.csv'\n",
    "filename = '/datasets/ecommerce_dataset.csv'\n",
    "\n",
    "try: \n",
    "    data = pd.read_csv(server, sep=',')\n",
    "except: \n",
    "    data = pd.read_csv(filename, sep=',')"
   ]
  },
  {
   "cell_type": "code",
   "execution_count": 3,
   "id": "3c3ed69e",
   "metadata": {},
   "outputs": [
    {
     "data": {
      "text/html": [
       "<div>\n",
       "<style scoped>\n",
       "    .dataframe tbody tr th:only-of-type {\n",
       "        vertical-align: middle;\n",
       "    }\n",
       "\n",
       "    .dataframe tbody tr th {\n",
       "        vertical-align: top;\n",
       "    }\n",
       "\n",
       "    .dataframe thead th {\n",
       "        text-align: right;\n",
       "    }\n",
       "</style>\n",
       "<table border=\"1\" class=\"dataframe\">\n",
       "  <thead>\n",
       "    <tr style=\"text-align: right;\">\n",
       "      <th></th>\n",
       "      <th>date</th>\n",
       "      <th>customer_id</th>\n",
       "      <th>order_id</th>\n",
       "      <th>product</th>\n",
       "      <th>quantity</th>\n",
       "      <th>price</th>\n",
       "    </tr>\n",
       "  </thead>\n",
       "  <tbody>\n",
       "    <tr>\n",
       "      <th>276</th>\n",
       "      <td>2018101617</td>\n",
       "      <td>17213b88-1514-47a4-b8aa-ce51378ab34e</td>\n",
       "      <td>68476</td>\n",
       "      <td>Сушилка для белья напольная Colombo Star 18, 3679</td>\n",
       "      <td>1</td>\n",
       "      <td>1049.0</td>\n",
       "    </tr>\n",
       "    <tr>\n",
       "      <th>3071</th>\n",
       "      <td>2019042410</td>\n",
       "      <td>30a28353-6829-44be-8158-68895dad31e7</td>\n",
       "      <td>14683</td>\n",
       "      <td>Рассада Капусты краснокачанная сорт Победа кас...</td>\n",
       "      <td>1</td>\n",
       "      <td>195.0</td>\n",
       "    </tr>\n",
       "    <tr>\n",
       "      <th>2476</th>\n",
       "      <td>2019032614</td>\n",
       "      <td>c816fd3d-3783-4fd8-aeab-0e99fab4eb58</td>\n",
       "      <td>70888</td>\n",
       "      <td>Пеларгония розебудная Prins Nikolai укорененны...</td>\n",
       "      <td>1</td>\n",
       "      <td>134.0</td>\n",
       "    </tr>\n",
       "    <tr>\n",
       "      <th>4286</th>\n",
       "      <td>2019060210</td>\n",
       "      <td>1d6c8c1f-a799-4418-9af2-1ded47d7a85c</td>\n",
       "      <td>14833</td>\n",
       "      <td>Рассада Кабачка сорт Белогор кассета 6 шт E6</td>\n",
       "      <td>1</td>\n",
       "      <td>120.0</td>\n",
       "    </tr>\n",
       "    <tr>\n",
       "      <th>6122</th>\n",
       "      <td>2019081707</td>\n",
       "      <td>be84bbc4-812f-44f6-ba9b-0386cd8648f2</td>\n",
       "      <td>72320</td>\n",
       "      <td>Коврик придверный MOHAWK Mansonry Foliage Лист...</td>\n",
       "      <td>1</td>\n",
       "      <td>1649.0</td>\n",
       "    </tr>\n",
       "    <tr>\n",
       "      <th>3508</th>\n",
       "      <td>2019051015</td>\n",
       "      <td>49d9094d-65f5-4218-83d7-7311a8e03e70</td>\n",
       "      <td>14747</td>\n",
       "      <td>Флокс метельчатый сорт МОСКВИЧКА, диаметр горш...</td>\n",
       "      <td>1</td>\n",
       "      <td>135.0</td>\n",
       "    </tr>\n",
       "    <tr>\n",
       "      <th>5850</th>\n",
       "      <td>2019071309</td>\n",
       "      <td>6cdb00ba-81ad-46cf-bf6a-bf6f4bbfd451</td>\n",
       "      <td>71963</td>\n",
       "      <td>Щетка для мытья окон 2 в 1 с телескопической р...</td>\n",
       "      <td>1</td>\n",
       "      <td>1424.0</td>\n",
       "    </tr>\n",
       "    <tr>\n",
       "      <th>2319</th>\n",
       "      <td>2019031319</td>\n",
       "      <td>bd57cbda-03d8-4758-85e3-b9c671b6bca0</td>\n",
       "      <td>14572</td>\n",
       "      <td>Калибрахоа Sweet Bells Double Golden желтая ма...</td>\n",
       "      <td>1</td>\n",
       "      <td>82.0</td>\n",
       "    </tr>\n",
       "    <tr>\n",
       "      <th>1135</th>\n",
       "      <td>2018120821</td>\n",
       "      <td>8c290149-ad54-4d7a-87a7-9386b36390ee</td>\n",
       "      <td>69162</td>\n",
       "      <td>Термометр на окно уличный на липучках Т-5 h-20...</td>\n",
       "      <td>2</td>\n",
       "      <td>44.0</td>\n",
       "    </tr>\n",
       "    <tr>\n",
       "      <th>3352</th>\n",
       "      <td>2019050216</td>\n",
       "      <td>760aa067-90c3-4794-b7a9-a8831197388b</td>\n",
       "      <td>14715</td>\n",
       "      <td>Бакопа ампельная мега-крупная розовая объем 0,5 л</td>\n",
       "      <td>1</td>\n",
       "      <td>90.0</td>\n",
       "    </tr>\n",
       "  </tbody>\n",
       "</table>\n",
       "</div>"
      ],
      "text/plain": [
       "            date                           customer_id  order_id  \\\n",
       "276   2018101617  17213b88-1514-47a4-b8aa-ce51378ab34e     68476   \n",
       "3071  2019042410  30a28353-6829-44be-8158-68895dad31e7     14683   \n",
       "2476  2019032614  c816fd3d-3783-4fd8-aeab-0e99fab4eb58     70888   \n",
       "4286  2019060210  1d6c8c1f-a799-4418-9af2-1ded47d7a85c     14833   \n",
       "6122  2019081707  be84bbc4-812f-44f6-ba9b-0386cd8648f2     72320   \n",
       "3508  2019051015  49d9094d-65f5-4218-83d7-7311a8e03e70     14747   \n",
       "5850  2019071309  6cdb00ba-81ad-46cf-bf6a-bf6f4bbfd451     71963   \n",
       "2319  2019031319  bd57cbda-03d8-4758-85e3-b9c671b6bca0     14572   \n",
       "1135  2018120821  8c290149-ad54-4d7a-87a7-9386b36390ee     69162   \n",
       "3352  2019050216  760aa067-90c3-4794-b7a9-a8831197388b     14715   \n",
       "\n",
       "                                                product  quantity   price  \n",
       "276   Сушилка для белья напольная Colombo Star 18, 3679         1  1049.0  \n",
       "3071  Рассада Капусты краснокачанная сорт Победа кас...         1   195.0  \n",
       "2476  Пеларгония розебудная Prins Nikolai укорененны...         1   134.0  \n",
       "4286       Рассада Кабачка сорт Белогор кассета 6 шт E6         1   120.0  \n",
       "6122  Коврик придверный MOHAWK Mansonry Foliage Лист...         1  1649.0  \n",
       "3508  Флокс метельчатый сорт МОСКВИЧКА, диаметр горш...         1   135.0  \n",
       "5850  Щетка для мытья окон 2 в 1 с телескопической р...         1  1424.0  \n",
       "2319  Калибрахоа Sweet Bells Double Golden желтая ма...         1    82.0  \n",
       "1135  Термометр на окно уличный на липучках Т-5 h-20...         2    44.0  \n",
       "3352  Бакопа ампельная мега-крупная розовая объем 0,5 л         1    90.0  "
      ]
     },
     "execution_count": 3,
     "metadata": {},
     "output_type": "execute_result"
    }
   ],
   "source": [
    "# получение 10 случайно выбранных записей из таблицы data\n",
    "data.sample(10, random_state=123)"
   ]
  },
  {
   "cell_type": "code",
   "execution_count": 4,
   "id": "2c391600",
   "metadata": {},
   "outputs": [
    {
     "name": "stdout",
     "output_type": "stream",
     "text": [
      "<class 'pandas.core.frame.DataFrame'>\n",
      "RangeIndex: 6737 entries, 0 to 6736\n",
      "Data columns (total 6 columns):\n",
      " #   Column       Non-Null Count  Dtype  \n",
      "---  ------       --------------  -----  \n",
      " 0   date         6737 non-null   int64  \n",
      " 1   customer_id  6737 non-null   object \n",
      " 2   order_id     6737 non-null   int64  \n",
      " 3   product      6737 non-null   object \n",
      " 4   quantity     6737 non-null   int64  \n",
      " 5   price        6737 non-null   float64\n",
      "dtypes: float64(1), int64(3), object(2)\n",
      "memory usage: 315.9+ KB\n"
     ]
    }
   ],
   "source": [
    "data.info()"
   ]
  },
  {
   "cell_type": "code",
   "execution_count": 5,
   "id": "0c08f99e",
   "metadata": {},
   "outputs": [
    {
     "name": "stdout",
     "output_type": "stream",
     "text": [
      "Колличество пропусков: 0\n"
     ]
    }
   ],
   "source": [
    "# проверка на пропуски\n",
    "print('Колличество пропусков:', data.isnull().sum().sum())"
   ]
  },
  {
   "cell_type": "code",
   "execution_count": 6,
   "id": "15dd8c55",
   "metadata": {},
   "outputs": [
    {
     "name": "stdout",
     "output_type": "stream",
     "text": [
      "Колличество дубликатов: 0\n"
     ]
    }
   ],
   "source": [
    "# проверка на дубликаты\n",
    "print('Колличество дубликатов:',data.duplicated().sum())"
   ]
  },
  {
   "cell_type": "code",
   "execution_count": 7,
   "id": "a6d0923b",
   "metadata": {},
   "outputs": [
    {
     "data": {
      "text/html": [
       "<div>\n",
       "<style scoped>\n",
       "    .dataframe tbody tr th:only-of-type {\n",
       "        vertical-align: middle;\n",
       "    }\n",
       "\n",
       "    .dataframe tbody tr th {\n",
       "        vertical-align: top;\n",
       "    }\n",
       "\n",
       "    .dataframe thead th {\n",
       "        text-align: right;\n",
       "    }\n",
       "</style>\n",
       "<table border=\"1\" class=\"dataframe\">\n",
       "  <thead>\n",
       "    <tr style=\"text-align: right;\">\n",
       "      <th></th>\n",
       "      <th>date</th>\n",
       "      <th>order_id</th>\n",
       "      <th>quantity</th>\n",
       "      <th>price</th>\n",
       "    </tr>\n",
       "  </thead>\n",
       "  <tbody>\n",
       "    <tr>\n",
       "      <th>count</th>\n",
       "      <td>6.737000e+03</td>\n",
       "      <td>6737.000000</td>\n",
       "      <td>6737.000000</td>\n",
       "      <td>6737.000000</td>\n",
       "    </tr>\n",
       "    <tr>\n",
       "      <th>mean</th>\n",
       "      <td>2.018855e+09</td>\n",
       "      <td>43128.948345</td>\n",
       "      <td>2.501559</td>\n",
       "      <td>462.028499</td>\n",
       "    </tr>\n",
       "    <tr>\n",
       "      <th>std</th>\n",
       "      <td>3.855185e+05</td>\n",
       "      <td>27899.414662</td>\n",
       "      <td>15.266478</td>\n",
       "      <td>871.296064</td>\n",
       "    </tr>\n",
       "    <tr>\n",
       "      <th>min</th>\n",
       "      <td>2.018100e+09</td>\n",
       "      <td>12624.000000</td>\n",
       "      <td>1.000000</td>\n",
       "      <td>9.000000</td>\n",
       "    </tr>\n",
       "    <tr>\n",
       "      <th>25%</th>\n",
       "      <td>2.019020e+09</td>\n",
       "      <td>14827.000000</td>\n",
       "      <td>1.000000</td>\n",
       "      <td>101.000000</td>\n",
       "    </tr>\n",
       "    <tr>\n",
       "      <th>50%</th>\n",
       "      <td>2.019050e+09</td>\n",
       "      <td>68503.000000</td>\n",
       "      <td>1.000000</td>\n",
       "      <td>135.000000</td>\n",
       "    </tr>\n",
       "    <tr>\n",
       "      <th>75%</th>\n",
       "      <td>2.019061e+09</td>\n",
       "      <td>70504.000000</td>\n",
       "      <td>1.000000</td>\n",
       "      <td>398.000000</td>\n",
       "    </tr>\n",
       "    <tr>\n",
       "      <th>max</th>\n",
       "      <td>2.019103e+09</td>\n",
       "      <td>73164.000000</td>\n",
       "      <td>1000.000000</td>\n",
       "      <td>14917.000000</td>\n",
       "    </tr>\n",
       "  </tbody>\n",
       "</table>\n",
       "</div>"
      ],
      "text/plain": [
       "               date      order_id     quantity         price\n",
       "count  6.737000e+03   6737.000000  6737.000000   6737.000000\n",
       "mean   2.018855e+09  43128.948345     2.501559    462.028499\n",
       "std    3.855185e+05  27899.414662    15.266478    871.296064\n",
       "min    2.018100e+09  12624.000000     1.000000      9.000000\n",
       "25%    2.019020e+09  14827.000000     1.000000    101.000000\n",
       "50%    2.019050e+09  68503.000000     1.000000    135.000000\n",
       "75%    2.019061e+09  70504.000000     1.000000    398.000000\n",
       "max    2.019103e+09  73164.000000  1000.000000  14917.000000"
      ]
     },
     "execution_count": 7,
     "metadata": {},
     "output_type": "execute_result"
    }
   ],
   "source": [
    "data.describe()"
   ]
  },
  {
   "cell_type": "markdown",
   "id": "a6ebd8b5",
   "metadata": {},
   "source": [
    "__Вывод:__\n",
    "\n",
    "В таблице 5 столбцов и 6 737 строк. \n",
    "\n",
    "  - загружены библиотеки\n",
    "  - виден некорретный формат даты\n",
    "  - возможно наличие аномалий в столбце quantity из-за кратной разницы среднего и отклонения\n",
    "  - разный регистр в поле product. Привести к нижнему регистру\n",
    "  - возможно наличие дубликатов в столбце product. Проверка на явные и неявные дубликаты"
   ]
  },
  {
   "cell_type": "markdown",
   "id": "938e6be0",
   "metadata": {},
   "source": [
    "# Предобработка данных"
   ]
  },
  {
   "cell_type": "markdown",
   "id": "49dd68de",
   "metadata": {},
   "source": [
    "## Приведение даты у удобному формату"
   ]
  },
  {
   "cell_type": "code",
   "execution_count": 8,
   "id": "7a9ca927",
   "metadata": {},
   "outputs": [],
   "source": [
    "# приведем date к удобному формату даты\n",
    "data['date'] = pd.to_datetime(data['date'], format='%Y%m%d%H')"
   ]
  },
  {
   "cell_type": "markdown",
   "id": "12e301a0",
   "metadata": {},
   "source": [
    "## Поиск и удаление неявных дубликатов"
   ]
  },
  {
   "cell_type": "code",
   "execution_count": 9,
   "id": "29acf13f",
   "metadata": {},
   "outputs": [],
   "source": [
    "data['product'] = data['product'].str.lower()  # приведение строк к нижнему регистру\n",
    "data['product'] = data['product'].str.replace('ё','е', regex=True) # заменим ё на е\n",
    "data['product'] = data['product'].str.replace('(', '', regex=True) # заменим ( на ''\n",
    "data['product'] = data['product'].str.replace(')', '', regex=True) # заменим ) на ''\n",
    "data['product'] = data['product'].str.replace(',', '', regex=True) # заменим , на ''"
   ]
  },
  {
   "cell_type": "code",
   "execution_count": 10,
   "id": "91d94169",
   "metadata": {},
   "outputs": [
    {
     "name": "stdout",
     "output_type": "stream",
     "text": [
      "Колличество явных дубликатов: 0\n",
      "Колличество неявных дубликатов: 1886\n",
      "Доля дубликатов от общего количества записей: 28 %\n"
     ]
    }
   ],
   "source": [
    "# Ищем дубликаты по нескольким столбцам\n",
    "duplicat = len(data[data[['product','customer_id', 'order_id']].duplicated() == True][['product', 'order_id']])\n",
    "\n",
    "print('Колличество явных дубликатов:',data.duplicated().sum())\n",
    "print('Колличество неявных дубликатов:',duplicat)\n",
    "print('Доля дубликатов от общего количества записей:',round(duplicat/len(data)*100),'%')"
   ]
  },
  {
   "cell_type": "code",
   "execution_count": 11,
   "id": "8c4b4604",
   "metadata": {},
   "outputs": [],
   "source": [
    "# Удалим дубликаты \n",
    "data = data.drop_duplicates(['product', 'customer_id', 'order_id'])"
   ]
  },
  {
   "cell_type": "code",
   "execution_count": 12,
   "id": "8bd4122b",
   "metadata": {},
   "outputs": [
    {
     "name": "stdout",
     "output_type": "stream",
     "text": [
      "Уникальные заказы с разными пользователями: 29\n"
     ]
    }
   ],
   "source": [
    "# проверим наличие дубликатов в уникальных заказах\n",
    "customers_m = data.groupby('order_id').agg({'customer_id':'nunique'}).query('customer_id > 1')\n",
    "print('Уникальные заказы с разными пользователями:', customers_m.shape[0])"
   ]
  },
  {
   "cell_type": "code",
   "execution_count": 13,
   "id": "50888ff3",
   "metadata": {},
   "outputs": [],
   "source": [
    "# Исключим дубли \n",
    "data = data.query('order_id not in @customers_m.index')"
   ]
  },
  {
   "cell_type": "code",
   "execution_count": 14,
   "id": "13bab19a",
   "metadata": {},
   "outputs": [
    {
     "name": "stdout",
     "output_type": "stream",
     "text": [
      "<class 'pandas.core.frame.DataFrame'>\n",
      "Int64Index: 4785 entries, 0 to 6735\n",
      "Data columns (total 6 columns):\n",
      " #   Column       Non-Null Count  Dtype         \n",
      "---  ------       --------------  -----         \n",
      " 0   date         4785 non-null   datetime64[ns]\n",
      " 1   customer_id  4785 non-null   object        \n",
      " 2   order_id     4785 non-null   int64         \n",
      " 3   product      4785 non-null   object        \n",
      " 4   quantity     4785 non-null   int64         \n",
      " 5   price        4785 non-null   float64       \n",
      "dtypes: datetime64[ns](1), float64(1), int64(2), object(2)\n",
      "memory usage: 261.7+ KB\n"
     ]
    }
   ],
   "source": [
    "# проверка результатов предобработки\n",
    "data.info()"
   ]
  },
  {
   "cell_type": "markdown",
   "id": "3a9278ec",
   "metadata": {},
   "source": [
    "## Исследование аномалий"
   ]
  },
  {
   "cell_type": "code",
   "execution_count": 15,
   "id": "5bfbd465",
   "metadata": {},
   "outputs": [
    {
     "name": "stdout",
     "output_type": "stream",
     "text": [
      "99-й перцентиль кол-ва товара в заказе: 30 \n",
      "Количество строк с аномальными значениями: 37 строка\n",
      "Доля аномальных значений от общего количества записей: 0.6%\n"
     ]
    },
    {
     "data": {
      "image/png": "[encoded data removed]",
      "text/plain": [
       "<Figure size 1440x360 with 1 Axes>"
      ]
     },
     "metadata": {
      "needs_background": "light"
     },
     "output_type": "display_data"
    }
   ],
   "source": [
    "# найдем выбросы в столбце quantity с помощью перцентилей.\n",
    "data_anomal = data['quantity'].quantile(.99) # граница аномальных значений в кол-ве товара в заказе\n",
    "print('99-й перцентиль кол-ва товара в заказе: {:.0f} '.format(data_anomal))\n",
    "\n",
    "# кол-во аномальных значений в столбце 'quantity'\n",
    "anomalnumber_q = data[data['quantity'] > data_anomal]['quantity'].count()\n",
    "print('Количество строк с аномальными значениями: {} строка'.format(anomalnumber_q))\n",
    "print('Доля аномальных значений от общего количества записей: {:.1%}'.format(data_anomal / len(data))) \n",
    "\n",
    "# Визуализируем распределение выбросов через график boxplot\n",
    "\n",
    "plt.figure(figsize=(20,5))\n",
    "sns.boxplot(x='quantity', data=data)\n",
    "plt.title('Рис.1. Распределение количества товара в заказе по сырым данным.', fontsize=16)\n",
    "plt.show()"
   ]
  },
  {
   "cell_type": "code",
   "execution_count": 16,
   "id": "0d7e5493",
   "metadata": {},
   "outputs": [
    {
     "data": {
      "image/png": "[encoded data removed]",
      "text/plain": [
       "<Figure size 720x720 with 9 Axes>"
      ]
     },
     "metadata": {
      "needs_background": "light"
     },
     "output_type": "display_data"
    }
   ],
   "source": [
    "# Построим матрицу рассеяния перед удалением аномалий\n",
    "pd.plotting.scatter_matrix(data, figsize = (10, 10))\n",
    "plt.show()"
   ]
  },
  {
   "cell_type": "markdown",
   "id": "5a881b52",
   "metadata": {},
   "source": [
    "Аномалии составляют не более 1%. На графике рассеяния видим анаомалии колличестве - 1000 и цене 14000. Проверим"
   ]
  },
  {
   "cell_type": "code",
   "execution_count": 17,
   "id": "ac48b6d3",
   "metadata": {},
   "outputs": [
    {
     "data": {
      "text/html": [
       "<div>\n",
       "<style scoped>\n",
       "    .dataframe tbody tr th:only-of-type {\n",
       "        vertical-align: middle;\n",
       "    }\n",
       "\n",
       "    .dataframe tbody tr th {\n",
       "        vertical-align: top;\n",
       "    }\n",
       "\n",
       "    .dataframe thead th {\n",
       "        text-align: right;\n",
       "    }\n",
       "</style>\n",
       "<table border=\"1\" class=\"dataframe\">\n",
       "  <thead>\n",
       "    <tr style=\"text-align: right;\">\n",
       "      <th></th>\n",
       "      <th>date</th>\n",
       "      <th>customer_id</th>\n",
       "      <th>order_id</th>\n",
       "      <th>product</th>\n",
       "      <th>quantity</th>\n",
       "      <th>price</th>\n",
       "    </tr>\n",
       "  </thead>\n",
       "  <tbody>\n",
       "    <tr>\n",
       "      <th>5456</th>\n",
       "      <td>2019-06-18 15:00:00</td>\n",
       "      <td>312e9a3e-5fca-43ff-a6a1-892d2b2d5ba6</td>\n",
       "      <td>71743</td>\n",
       "      <td>вантуз с деревянной ручкой d14 см красный burs...</td>\n",
       "      <td>1000</td>\n",
       "      <td>675.0</td>\n",
       "    </tr>\n",
       "  </tbody>\n",
       "</table>\n",
       "</div>"
      ],
      "text/plain": [
       "                    date                           customer_id  order_id  \\\n",
       "5456 2019-06-18 15:00:00  312e9a3e-5fca-43ff-a6a1-892d2b2d5ba6     71743   \n",
       "\n",
       "                                                product  quantity  price  \n",
       "5456  вантуз с деревянной ручкой d14 см красный burs...      1000  675.0  "
      ]
     },
     "execution_count": 17,
     "metadata": {},
     "output_type": "execute_result"
    }
   ],
   "source": [
    "data[data['quantity'] >= 1000]"
   ]
  },
  {
   "cell_type": "markdown",
   "id": "5f6a8f63",
   "metadata": {},
   "source": [
    "Заказ на 1000 вантузов был тестовый. Можем исключить."
   ]
  },
  {
   "cell_type": "code",
   "execution_count": 18,
   "id": "028ef4ae",
   "metadata": {
    "scrolled": true
   },
   "outputs": [
    {
     "data": {
      "text/html": [
       "<div>\n",
       "<style scoped>\n",
       "    .dataframe tbody tr th:only-of-type {\n",
       "        vertical-align: middle;\n",
       "    }\n",
       "\n",
       "    .dataframe tbody tr th {\n",
       "        vertical-align: top;\n",
       "    }\n",
       "\n",
       "    .dataframe thead th {\n",
       "        text-align: right;\n",
       "    }\n",
       "</style>\n",
       "<table border=\"1\" class=\"dataframe\">\n",
       "  <thead>\n",
       "    <tr style=\"text-align: right;\">\n",
       "      <th></th>\n",
       "      <th>date</th>\n",
       "      <th>customer_id</th>\n",
       "      <th>order_id</th>\n",
       "      <th>product</th>\n",
       "      <th>quantity</th>\n",
       "      <th>price</th>\n",
       "    </tr>\n",
       "  </thead>\n",
       "  <tbody>\n",
       "    <tr>\n",
       "      <th>5992</th>\n",
       "      <td>2019-07-29 17:00:00</td>\n",
       "      <td>0d87f4ae-465a-4fac-81e6-5d629761783e</td>\n",
       "      <td>72139</td>\n",
       "      <td>сушилка уличная leifheit 85210 linomatic v 400...</td>\n",
       "      <td>1</td>\n",
       "      <td>14917.0</td>\n",
       "    </tr>\n",
       "  </tbody>\n",
       "</table>\n",
       "</div>"
      ],
      "text/plain": [
       "                    date                           customer_id  order_id  \\\n",
       "5992 2019-07-29 17:00:00  0d87f4ae-465a-4fac-81e6-5d629761783e     72139   \n",
       "\n",
       "                                                product  quantity    price  \n",
       "5992  сушилка уличная leifheit 85210 linomatic v 400...         1  14917.0  "
      ]
     },
     "execution_count": 18,
     "metadata": {},
     "output_type": "execute_result"
    }
   ],
   "source": [
    "data[data['price'] > 14000]"
   ]
  },
  {
   "cell_type": "markdown",
   "id": "349e5da8",
   "metadata": {},
   "source": [
    "Сушилка стоимостью почти 15 тыс. подозрительно дорогая. Проверил сколько стоят уличные сушилки. Явная аномалия, исключаем."
   ]
  },
  {
   "cell_type": "code",
   "execution_count": 19,
   "id": "dc656ef9",
   "metadata": {},
   "outputs": [],
   "source": [
    "# удаляем аномалии\n",
    "data = data[data['product'] != 'вантуз с деревянной ручкой d14 см красный, burstenmann, 0522/0000']\n",
    "data = data[data['product'] != 'сушилка уличная leifheit 85210 linomatic v 400 40 м 175х237х237 см зеленая']\n",
    "data=data.reset_index(drop=True)"
   ]
  },
  {
   "cell_type": "markdown",
   "id": "dc9b13e3",
   "metadata": {},
   "source": [
    "## Добавление столбцов"
   ]
  },
  {
   "cell_type": "code",
   "execution_count": 20,
   "id": "9cb87e2f",
   "metadata": {},
   "outputs": [
    {
     "data": {
      "text/html": [
       "<div>\n",
       "<style scoped>\n",
       "    .dataframe tbody tr th:only-of-type {\n",
       "        vertical-align: middle;\n",
       "    }\n",
       "\n",
       "    .dataframe tbody tr th {\n",
       "        vertical-align: top;\n",
       "    }\n",
       "\n",
       "    .dataframe thead th {\n",
       "        text-align: right;\n",
       "    }\n",
       "</style>\n",
       "<table border=\"1\" class=\"dataframe\">\n",
       "  <thead>\n",
       "    <tr style=\"text-align: right;\">\n",
       "      <th></th>\n",
       "      <th>date</th>\n",
       "      <th>customer_id</th>\n",
       "      <th>order_id</th>\n",
       "      <th>product</th>\n",
       "      <th>quantity</th>\n",
       "      <th>price</th>\n",
       "    </tr>\n",
       "  </thead>\n",
       "  <tbody>\n",
       "    <tr>\n",
       "      <th>0</th>\n",
       "      <td>2018-10-01</td>\n",
       "      <td>ee47d746-6d2f-4d3c-9622-c31412542920</td>\n",
       "      <td>68477</td>\n",
       "      <td>комнатное растение в горшке алое вера d12 h30</td>\n",
       "      <td>1</td>\n",
       "      <td>142.0</td>\n",
       "    </tr>\n",
       "  </tbody>\n",
       "</table>\n",
       "</div>"
      ],
      "text/plain": [
       "        date                           customer_id  order_id  \\\n",
       "0 2018-10-01  ee47d746-6d2f-4d3c-9622-c31412542920     68477   \n",
       "\n",
       "                                         product  quantity  price  \n",
       "0  комнатное растение в горшке алое вера d12 h30         1  142.0  "
      ]
     },
     "execution_count": 20,
     "metadata": {},
     "output_type": "execute_result"
    }
   ],
   "source": [
    "data.head(1)"
   ]
  },
  {
   "cell_type": "code",
   "execution_count": 21,
   "id": "f8b7fe7b",
   "metadata": {},
   "outputs": [],
   "source": [
    "# Добавляем столбец с выручкой\n",
    "data['revenue'] = data['quantity'] * data['price']\n",
    "\n",
    "# Добавляем столбецы с времеменными промежутками\n",
    "\n",
    "data['hour'] = data.date.dt.hour\n",
    "data['day'] = (data.date.dt.dayofweek) + 1 # +1, чтобы понедельник = 1, и так до воскресенья = 7\n",
    "data['week'] = data.date.dt.week\n",
    "data['month'] = data.date.dt.month\n",
    "data['year'] = data.date.dt.year\n",
    "data['date'] = data.date.dt.date"
   ]
  },
  {
   "cell_type": "code",
   "execution_count": 22,
   "id": "6fda9e6b",
   "metadata": {},
   "outputs": [
    {
     "data": {
      "text/html": [
       "<div>\n",
       "<style scoped>\n",
       "    .dataframe tbody tr th:only-of-type {\n",
       "        vertical-align: middle;\n",
       "    }\n",
       "\n",
       "    .dataframe tbody tr th {\n",
       "        vertical-align: top;\n",
       "    }\n",
       "\n",
       "    .dataframe thead th {\n",
       "        text-align: right;\n",
       "    }\n",
       "</style>\n",
       "<table border=\"1\" class=\"dataframe\">\n",
       "  <thead>\n",
       "    <tr style=\"text-align: right;\">\n",
       "      <th></th>\n",
       "      <th>date</th>\n",
       "      <th>customer_id</th>\n",
       "      <th>order_id</th>\n",
       "      <th>product</th>\n",
       "      <th>quantity</th>\n",
       "      <th>price</th>\n",
       "      <th>revenue</th>\n",
       "      <th>hour</th>\n",
       "      <th>day</th>\n",
       "      <th>week</th>\n",
       "      <th>month</th>\n",
       "      <th>year</th>\n",
       "    </tr>\n",
       "  </thead>\n",
       "  <tbody>\n",
       "    <tr>\n",
       "      <th>0</th>\n",
       "      <td>2018-10-01</td>\n",
       "      <td>ee47d746-6d2f-4d3c-9622-c31412542920</td>\n",
       "      <td>68477</td>\n",
       "      <td>комнатное растение в горшке алое вера d12 h30</td>\n",
       "      <td>1</td>\n",
       "      <td>142.0</td>\n",
       "      <td>142.0</td>\n",
       "      <td>0</td>\n",
       "      <td>1</td>\n",
       "      <td>40</td>\n",
       "      <td>10</td>\n",
       "      <td>2018</td>\n",
       "    </tr>\n",
       "    <tr>\n",
       "      <th>1</th>\n",
       "      <td>2018-10-01</td>\n",
       "      <td>ee47d746-6d2f-4d3c-9622-c31412542920</td>\n",
       "      <td>68477</td>\n",
       "      <td>комнатное растение в горшке кофе арабика d12 h25</td>\n",
       "      <td>1</td>\n",
       "      <td>194.0</td>\n",
       "      <td>194.0</td>\n",
       "      <td>0</td>\n",
       "      <td>1</td>\n",
       "      <td>40</td>\n",
       "      <td>10</td>\n",
       "      <td>2018</td>\n",
       "    </tr>\n",
       "    <tr>\n",
       "      <th>2</th>\n",
       "      <td>2018-10-01</td>\n",
       "      <td>ee47d746-6d2f-4d3c-9622-c31412542920</td>\n",
       "      <td>68477</td>\n",
       "      <td>радермахера d-12 см h-20 см</td>\n",
       "      <td>1</td>\n",
       "      <td>112.0</td>\n",
       "      <td>112.0</td>\n",
       "      <td>0</td>\n",
       "      <td>1</td>\n",
       "      <td>40</td>\n",
       "      <td>10</td>\n",
       "      <td>2018</td>\n",
       "    </tr>\n",
       "    <tr>\n",
       "      <th>3</th>\n",
       "      <td>2018-10-01</td>\n",
       "      <td>ee47d746-6d2f-4d3c-9622-c31412542920</td>\n",
       "      <td>68477</td>\n",
       "      <td>хризолидокарпус лутесценс d-9 см</td>\n",
       "      <td>1</td>\n",
       "      <td>179.0</td>\n",
       "      <td>179.0</td>\n",
       "      <td>0</td>\n",
       "      <td>1</td>\n",
       "      <td>40</td>\n",
       "      <td>10</td>\n",
       "      <td>2018</td>\n",
       "    </tr>\n",
       "    <tr>\n",
       "      <th>4</th>\n",
       "      <td>2018-10-01</td>\n",
       "      <td>ee47d746-6d2f-4d3c-9622-c31412542920</td>\n",
       "      <td>68477</td>\n",
       "      <td>циперус зумула d-12 см h-25 см</td>\n",
       "      <td>1</td>\n",
       "      <td>112.0</td>\n",
       "      <td>112.0</td>\n",
       "      <td>0</td>\n",
       "      <td>1</td>\n",
       "      <td>40</td>\n",
       "      <td>10</td>\n",
       "      <td>2018</td>\n",
       "    </tr>\n",
       "  </tbody>\n",
       "</table>\n",
       "</div>"
      ],
      "text/plain": [
       "         date                           customer_id  order_id  \\\n",
       "0  2018-10-01  ee47d746-6d2f-4d3c-9622-c31412542920     68477   \n",
       "1  2018-10-01  ee47d746-6d2f-4d3c-9622-c31412542920     68477   \n",
       "2  2018-10-01  ee47d746-6d2f-4d3c-9622-c31412542920     68477   \n",
       "3  2018-10-01  ee47d746-6d2f-4d3c-9622-c31412542920     68477   \n",
       "4  2018-10-01  ee47d746-6d2f-4d3c-9622-c31412542920     68477   \n",
       "\n",
       "                                            product  quantity  price  revenue  \\\n",
       "0     комнатное растение в горшке алое вера d12 h30         1  142.0    142.0   \n",
       "1  комнатное растение в горшке кофе арабика d12 h25         1  194.0    194.0   \n",
       "2                       радермахера d-12 см h-20 см         1  112.0    112.0   \n",
       "3                  хризолидокарпус лутесценс d-9 см         1  179.0    179.0   \n",
       "4                    циперус зумула d-12 см h-25 см         1  112.0    112.0   \n",
       "\n",
       "   hour  day  week  month  year  \n",
       "0     0    1    40     10  2018  \n",
       "1     0    1    40     10  2018  \n",
       "2     0    1    40     10  2018  \n",
       "3     0    1    40     10  2018  \n",
       "4     0    1    40     10  2018  "
      ]
     },
     "execution_count": 22,
     "metadata": {},
     "output_type": "execute_result"
    }
   ],
   "source": [
    "data.head(5)"
   ]
  },
  {
   "cell_type": "code",
   "execution_count": 23,
   "id": "9bd00e4f",
   "metadata": {},
   "outputs": [],
   "source": [
    "# Напишем функцию weekdays, принимающую номер дня от 1 до 5 и возвращающую будни, где 1 = да, 0 = нет.\n",
    "\n",
    "def weekdays(day):\n",
    "    if  1 <= day <= 5:\n",
    "        return 1\n",
    "    else:\n",
    "        return 0\n",
    "    \n",
    "# Функция sensor_weekends, принимающяя номер дня от 6 до 7 и возвращающую выходные, где 1 = да, 0 = нет.\n",
    "def weekdays(day):\n",
    "    if  6 <= day <= 7:\n",
    "        return 1\n",
    "    else:\n",
    "        return 0"
   ]
  },
  {
   "cell_type": "code",
   "execution_count": 24,
   "id": "86805dd3",
   "metadata": {},
   "outputs": [
    {
     "data": {
      "text/plain": [
       "(4784, 14)"
      ]
     },
     "metadata": {},
     "output_type": "display_data"
    },
    {
     "data": {
      "text/html": [
       "<div>\n",
       "<style scoped>\n",
       "    .dataframe tbody tr th:only-of-type {\n",
       "        vertical-align: middle;\n",
       "    }\n",
       "\n",
       "    .dataframe tbody tr th {\n",
       "        vertical-align: top;\n",
       "    }\n",
       "\n",
       "    .dataframe thead th {\n",
       "        text-align: right;\n",
       "    }\n",
       "</style>\n",
       "<table border=\"1\" class=\"dataframe\">\n",
       "  <thead>\n",
       "    <tr style=\"text-align: right;\">\n",
       "      <th></th>\n",
       "      <th>date</th>\n",
       "      <th>customer_id</th>\n",
       "      <th>order_id</th>\n",
       "      <th>product</th>\n",
       "      <th>quantity</th>\n",
       "      <th>price</th>\n",
       "      <th>revenue</th>\n",
       "      <th>hour</th>\n",
       "      <th>day</th>\n",
       "      <th>week</th>\n",
       "      <th>month</th>\n",
       "      <th>year</th>\n",
       "      <th>weekdays</th>\n",
       "      <th>weekends</th>\n",
       "    </tr>\n",
       "  </thead>\n",
       "  <tbody>\n",
       "    <tr>\n",
       "      <th>596</th>\n",
       "      <td>2018-11-07</td>\n",
       "      <td>2bfd7229-507c-4bf9-b4f2-d48813b93ffb</td>\n",
       "      <td>68909</td>\n",
       "      <td>герань домашняя пеларгония зональная цветущая ...</td>\n",
       "      <td>1</td>\n",
       "      <td>149.0</td>\n",
       "      <td>149.0</td>\n",
       "      <td>20</td>\n",
       "      <td>3</td>\n",
       "      <td>45</td>\n",
       "      <td>11</td>\n",
       "      <td>2018</td>\n",
       "      <td>0</td>\n",
       "      <td>0</td>\n",
       "    </tr>\n",
       "    <tr>\n",
       "      <th>3260</th>\n",
       "      <td>2019-05-16</td>\n",
       "      <td>ca274b0b-9724-4be9-b834-3f6749fc683f</td>\n",
       "      <td>14784</td>\n",
       "      <td>рассада зелени для кухни петрушка корневая сах...</td>\n",
       "      <td>1</td>\n",
       "      <td>128.0</td>\n",
       "      <td>128.0</td>\n",
       "      <td>22</td>\n",
       "      <td>4</td>\n",
       "      <td>20</td>\n",
       "      <td>5</td>\n",
       "      <td>2019</td>\n",
       "      <td>0</td>\n",
       "      <td>0</td>\n",
       "    </tr>\n",
       "    <tr>\n",
       "      <th>2091</th>\n",
       "      <td>2019-03-27</td>\n",
       "      <td>fbe13d54-acb6-45b1-a837-8d2173df5d28</td>\n",
       "      <td>70899</td>\n",
       "      <td>тортница curver 00416-286-00</td>\n",
       "      <td>1</td>\n",
       "      <td>824.0</td>\n",
       "      <td>824.0</td>\n",
       "      <td>21</td>\n",
       "      <td>3</td>\n",
       "      <td>13</td>\n",
       "      <td>3</td>\n",
       "      <td>2019</td>\n",
       "      <td>0</td>\n",
       "      <td>0</td>\n",
       "    </tr>\n",
       "    <tr>\n",
       "      <th>380</th>\n",
       "      <td>2018-10-25</td>\n",
       "      <td>9669d757-8412-4d30-93b6-30db2ac9cac1</td>\n",
       "      <td>14496</td>\n",
       "      <td>пеларгония зональная диам. 12 см сиреневый пол...</td>\n",
       "      <td>1</td>\n",
       "      <td>188.0</td>\n",
       "      <td>188.0</td>\n",
       "      <td>1</td>\n",
       "      <td>4</td>\n",
       "      <td>43</td>\n",
       "      <td>10</td>\n",
       "      <td>2018</td>\n",
       "      <td>0</td>\n",
       "      <td>0</td>\n",
       "    </tr>\n",
       "    <tr>\n",
       "      <th>1424</th>\n",
       "      <td>2019-02-04</td>\n",
       "      <td>5375ad01-5d2e-425e-95bb-e83d2f9f47cf</td>\n",
       "      <td>70087</td>\n",
       "      <td>сушилка для белья настенная zalger prima 510-7...</td>\n",
       "      <td>1</td>\n",
       "      <td>299.0</td>\n",
       "      <td>299.0</td>\n",
       "      <td>12</td>\n",
       "      <td>1</td>\n",
       "      <td>6</td>\n",
       "      <td>2</td>\n",
       "      <td>2019</td>\n",
       "      <td>0</td>\n",
       "      <td>0</td>\n",
       "    </tr>\n",
       "  </tbody>\n",
       "</table>\n",
       "</div>"
      ],
      "text/plain": [
       "            date                           customer_id  order_id  \\\n",
       "596   2018-11-07  2bfd7229-507c-4bf9-b4f2-d48813b93ffb     68909   \n",
       "3260  2019-05-16  ca274b0b-9724-4be9-b834-3f6749fc683f     14784   \n",
       "2091  2019-03-27  fbe13d54-acb6-45b1-a837-8d2173df5d28     70899   \n",
       "380   2018-10-25  9669d757-8412-4d30-93b6-30db2ac9cac1     14496   \n",
       "1424  2019-02-04  5375ad01-5d2e-425e-95bb-e83d2f9f47cf     70087   \n",
       "\n",
       "                                                product  quantity  price  \\\n",
       "596   герань домашняя пеларгония зональная цветущая ...         1  149.0   \n",
       "3260  рассада зелени для кухни петрушка корневая сах...         1  128.0   \n",
       "2091                       тортница curver 00416-286-00         1  824.0   \n",
       "380   пеларгония зональная диам. 12 см сиреневый пол...         1  188.0   \n",
       "1424  сушилка для белья настенная zalger prima 510-7...         1  299.0   \n",
       "\n",
       "      revenue  hour  day  week  month  year  weekdays  weekends  \n",
       "596     149.0    20    3    45     11  2018         0         0  \n",
       "3260    128.0    22    4    20      5  2019         0         0  \n",
       "2091    824.0    21    3    13      3  2019         0         0  \n",
       "380     188.0     1    4    43     10  2018         0         0  \n",
       "1424    299.0    12    1     6      2  2019         0         0  "
      ]
     },
     "execution_count": 24,
     "metadata": {},
     "output_type": "execute_result"
    }
   ],
   "source": [
    "# Cоздадим отдельные столбецы будни/выходные в зависимости от дня, \n",
    "# и в его ячейках запишем значения возвращаемые функцией.\n",
    "\n",
    "data['weekdays'] = data['day'].apply(weekdays)\n",
    "data['weekends'] = data['day'].apply(weekdays)\n",
    "display(data.shape)\n",
    "data.sample(5, random_state=123) "
   ]
  },
  {
   "cell_type": "code",
   "execution_count": 25,
   "id": "68351a71",
   "metadata": {},
   "outputs": [],
   "source": [
    "# Напишем функцию season, принимающую номер месяца от 1 до 12, \n",
    "# и возвращающую время года, которому этот месяц принадлежит (весна, лето, осень или зима).\n",
    "def season(month):\n",
    "    if  3 <= month <= 5:\n",
    "        return 'весна'\n",
    "    elif 6 <= month <= 8:\n",
    "        return 'лето'\n",
    "    elif 9 <= month <= 11:\n",
    "        return 'осень'\n",
    "    else:\n",
    "        return 'зима'"
   ]
  },
  {
   "cell_type": "code",
   "execution_count": 26,
   "id": "9662af11",
   "metadata": {},
   "outputs": [
    {
     "data": {
      "text/plain": [
       "(4784, 15)"
      ]
     },
     "metadata": {},
     "output_type": "display_data"
    },
    {
     "data": {
      "text/html": [
       "<div>\n",
       "<style scoped>\n",
       "    .dataframe tbody tr th:only-of-type {\n",
       "        vertical-align: middle;\n",
       "    }\n",
       "\n",
       "    .dataframe tbody tr th {\n",
       "        vertical-align: top;\n",
       "    }\n",
       "\n",
       "    .dataframe thead th {\n",
       "        text-align: right;\n",
       "    }\n",
       "</style>\n",
       "<table border=\"1\" class=\"dataframe\">\n",
       "  <thead>\n",
       "    <tr style=\"text-align: right;\">\n",
       "      <th></th>\n",
       "      <th>date</th>\n",
       "      <th>customer_id</th>\n",
       "      <th>order_id</th>\n",
       "      <th>product</th>\n",
       "      <th>quantity</th>\n",
       "      <th>price</th>\n",
       "      <th>revenue</th>\n",
       "      <th>hour</th>\n",
       "      <th>day</th>\n",
       "      <th>week</th>\n",
       "      <th>month</th>\n",
       "      <th>year</th>\n",
       "      <th>weekdays</th>\n",
       "      <th>weekends</th>\n",
       "      <th>season</th>\n",
       "    </tr>\n",
       "  </thead>\n",
       "  <tbody>\n",
       "    <tr>\n",
       "      <th>1472</th>\n",
       "      <td>2019-02-07</td>\n",
       "      <td>1082b33a-b43e-4e60-ab13-6fb896dd3459</td>\n",
       "      <td>70150</td>\n",
       "      <td>хлебница деревянная бук кб-028 35х28х19 см 152...</td>\n",
       "      <td>2</td>\n",
       "      <td>562.0</td>\n",
       "      <td>1124.0</td>\n",
       "      <td>20</td>\n",
       "      <td>4</td>\n",
       "      <td>6</td>\n",
       "      <td>2</td>\n",
       "      <td>2019</td>\n",
       "      <td>0</td>\n",
       "      <td>0</td>\n",
       "      <td>зима</td>\n",
       "    </tr>\n",
       "    <tr>\n",
       "      <th>352</th>\n",
       "      <td>2018-10-23</td>\n",
       "      <td>49b9c587-c19e-4481-bace-967aeac357fa</td>\n",
       "      <td>14494</td>\n",
       "      <td>пеларгония зональная диам. 12 см малиново-крас...</td>\n",
       "      <td>1</td>\n",
       "      <td>188.0</td>\n",
       "      <td>188.0</td>\n",
       "      <td>13</td>\n",
       "      <td>2</td>\n",
       "      <td>43</td>\n",
       "      <td>10</td>\n",
       "      <td>2018</td>\n",
       "      <td>0</td>\n",
       "      <td>0</td>\n",
       "      <td>осень</td>\n",
       "    </tr>\n",
       "    <tr>\n",
       "      <th>3643</th>\n",
       "      <td>2019-06-05</td>\n",
       "      <td>7d5d5657-5fdc-40d1-b7b6-bb04ede92b53</td>\n",
       "      <td>14848</td>\n",
       "      <td>роза садовая чайногибридная в горшке дежавю</td>\n",
       "      <td>1</td>\n",
       "      <td>188.0</td>\n",
       "      <td>188.0</td>\n",
       "      <td>9</td>\n",
       "      <td>3</td>\n",
       "      <td>23</td>\n",
       "      <td>6</td>\n",
       "      <td>2019</td>\n",
       "      <td>0</td>\n",
       "      <td>0</td>\n",
       "      <td>лето</td>\n",
       "    </tr>\n",
       "    <tr>\n",
       "      <th>18</th>\n",
       "      <td>2018-10-01</td>\n",
       "      <td>17213b88-1514-47a4-b8aa-ce51378ab34e</td>\n",
       "      <td>68476</td>\n",
       "      <td>сушилка для белья напольная colombo star 18 3679</td>\n",
       "      <td>1</td>\n",
       "      <td>1049.0</td>\n",
       "      <td>1049.0</td>\n",
       "      <td>18</td>\n",
       "      <td>1</td>\n",
       "      <td>40</td>\n",
       "      <td>10</td>\n",
       "      <td>2018</td>\n",
       "      <td>0</td>\n",
       "      <td>0</td>\n",
       "      <td>осень</td>\n",
       "    </tr>\n",
       "    <tr>\n",
       "      <th>1990</th>\n",
       "      <td>2019-03-17</td>\n",
       "      <td>ad935627-11d4-4a1c-9d69-cf0e33047aa8</td>\n",
       "      <td>14575</td>\n",
       "      <td>рассада томата помидор сорт черный шоколад кас...</td>\n",
       "      <td>1</td>\n",
       "      <td>116.0</td>\n",
       "      <td>116.0</td>\n",
       "      <td>18</td>\n",
       "      <td>7</td>\n",
       "      <td>11</td>\n",
       "      <td>3</td>\n",
       "      <td>2019</td>\n",
       "      <td>1</td>\n",
       "      <td>1</td>\n",
       "      <td>весна</td>\n",
       "    </tr>\n",
       "  </tbody>\n",
       "</table>\n",
       "</div>"
      ],
      "text/plain": [
       "            date                           customer_id  order_id  \\\n",
       "1472  2019-02-07  1082b33a-b43e-4e60-ab13-6fb896dd3459     70150   \n",
       "352   2018-10-23  49b9c587-c19e-4481-bace-967aeac357fa     14494   \n",
       "3643  2019-06-05  7d5d5657-5fdc-40d1-b7b6-bb04ede92b53     14848   \n",
       "18    2018-10-01  17213b88-1514-47a4-b8aa-ce51378ab34e     68476   \n",
       "1990  2019-03-17  ad935627-11d4-4a1c-9d69-cf0e33047aa8     14575   \n",
       "\n",
       "                                                product  quantity   price  \\\n",
       "1472  хлебница деревянная бук кб-028 35х28х19 см 152...         2   562.0   \n",
       "352   пеларгония зональная диам. 12 см малиново-крас...         1   188.0   \n",
       "3643        роза садовая чайногибридная в горшке дежавю         1   188.0   \n",
       "18     сушилка для белья напольная colombo star 18 3679         1  1049.0   \n",
       "1990  рассада томата помидор сорт черный шоколад кас...         1   116.0   \n",
       "\n",
       "      revenue  hour  day  week  month  year  weekdays  weekends season  \n",
       "1472   1124.0    20    4     6      2  2019         0         0   зима  \n",
       "352     188.0    13    2    43     10  2018         0         0  осень  \n",
       "3643    188.0     9    3    23      6  2019         0         0   лето  \n",
       "18     1049.0    18    1    40     10  2018         0         0  осень  \n",
       "1990    116.0    18    7    11      3  2019         1         1  весна  "
      ]
     },
     "execution_count": 26,
     "metadata": {},
     "output_type": "execute_result"
    }
   ],
   "source": [
    "# Cоздадим отдельный столбец с временами года в зависимости от месяца, \n",
    "# и в его ячейках записать значения, возвращаемые функцией.\n",
    "data['season'] = data['month'].apply(season)\n",
    "display(data.shape)\n",
    "data.sample(5)"
   ]
  },
  {
   "cell_type": "markdown",
   "id": "c8ba6d8d",
   "metadata": {},
   "source": [
    "__Вывод:__\n",
    "\n",
    " - дата приведена к удобочитаемому формату\n",
    " - удалены явные и неявные дубликаты\n",
    " - удалены аномалии\n",
    " - добавил дополнительные столбцы: выручка, час, день, неделя, месяц, год, дата, будни и выходные, сезоны "
   ]
  },
  {
   "cell_type": "markdown",
   "id": "79c69365",
   "metadata": {},
   "source": [
    "# Исследовательский анализ данных"
   ]
  },
  {
   "cell_type": "markdown",
   "id": "91a9616a",
   "metadata": {},
   "source": [
    "## Общие метрики"
   ]
  },
  {
   "cell_type": "code",
   "execution_count": 27,
   "id": "feaa506d",
   "metadata": {},
   "outputs": [
    {
     "name": "stdout",
     "output_type": "stream",
     "text": [
      "Дата первой записи: 2018-10-01\n",
      "Дата последней записи: 2019-10-31\n",
      "Дата первой записи: 395 days, 0:00:00\n",
      "Общее количество уникальных покупателей: 2393\n",
      "Общее количество уникальных товаров: 2325\n",
      "Количество уникальных заказов: 2754\n"
     ]
    }
   ],
   "source": [
    "# период данных датасета\n",
    "data_min_date = data.date.min()\n",
    "data_max_date = data.date.max()\n",
    "\n",
    "print('Дата первой записи:',data_min_date)\n",
    "print('Дата последней записи:',data_max_date)\n",
    "print('Дата первой записи:',data_max_date - data_min_date)\n",
    "\n",
    "print('Общее количество уникальных покупателей: {:.0f}'.format(len(data['customer_id'].unique())))\n",
    "print('Общее количество уникальных товаров: {:.0f}'.format(len(data['product'].unique())))\n",
    "print('Количество уникальных заказов: {:.0f}'.format(len(data['order_id'].unique())))"
   ]
  },
  {
   "cell_type": "markdown",
   "id": "d95ca4d5",
   "metadata": {},
   "source": [
    "- Дата первой записи: 2018-10-01\n",
    "- Дата последней записи: 2019-10-31\n",
    "- Дата первой записи: 395 days, 0:00:00\n",
    "- Общее количество уникальных покупателей: 2393\n",
    "- Общее количество уникальных товаров: 2325\n",
    "- Количество уникальных заказов: 2754"
   ]
  },
  {
   "cell_type": "code",
   "execution_count": 28,
   "id": "104de8d5",
   "metadata": {},
   "outputs": [
    {
     "data": {
      "text/html": [
       "<div>\n",
       "<style scoped>\n",
       "    .dataframe tbody tr th:only-of-type {\n",
       "        vertical-align: middle;\n",
       "    }\n",
       "\n",
       "    .dataframe tbody tr th {\n",
       "        vertical-align: top;\n",
       "    }\n",
       "\n",
       "    .dataframe thead th {\n",
       "        text-align: right;\n",
       "    }\n",
       "</style>\n",
       "<table border=\"1\" class=\"dataframe\">\n",
       "  <thead>\n",
       "    <tr style=\"text-align: right;\">\n",
       "      <th></th>\n",
       "      <th>date</th>\n",
       "      <th>customer_id</th>\n",
       "      <th>order_id</th>\n",
       "      <th>product</th>\n",
       "      <th>quantity</th>\n",
       "      <th>price</th>\n",
       "      <th>revenue</th>\n",
       "      <th>hour</th>\n",
       "      <th>day</th>\n",
       "      <th>week</th>\n",
       "      <th>month</th>\n",
       "      <th>year</th>\n",
       "      <th>weekdays</th>\n",
       "      <th>weekends</th>\n",
       "      <th>season</th>\n",
       "    </tr>\n",
       "  </thead>\n",
       "  <tbody>\n",
       "    <tr>\n",
       "      <th>0</th>\n",
       "      <td>2018-10-01</td>\n",
       "      <td>ee47d746-6d2f-4d3c-9622-c31412542920</td>\n",
       "      <td>68477</td>\n",
       "      <td>комнатное растение в горшке алое вера d12 h30</td>\n",
       "      <td>1</td>\n",
       "      <td>142.0</td>\n",
       "      <td>142.0</td>\n",
       "      <td>0</td>\n",
       "      <td>1</td>\n",
       "      <td>40</td>\n",
       "      <td>10</td>\n",
       "      <td>2018</td>\n",
       "      <td>0</td>\n",
       "      <td>0</td>\n",
       "      <td>осень</td>\n",
       "    </tr>\n",
       "    <tr>\n",
       "      <th>1</th>\n",
       "      <td>2018-10-01</td>\n",
       "      <td>ee47d746-6d2f-4d3c-9622-c31412542920</td>\n",
       "      <td>68477</td>\n",
       "      <td>комнатное растение в горшке кофе арабика d12 h25</td>\n",
       "      <td>1</td>\n",
       "      <td>194.0</td>\n",
       "      <td>194.0</td>\n",
       "      <td>0</td>\n",
       "      <td>1</td>\n",
       "      <td>40</td>\n",
       "      <td>10</td>\n",
       "      <td>2018</td>\n",
       "      <td>0</td>\n",
       "      <td>0</td>\n",
       "      <td>осень</td>\n",
       "    </tr>\n",
       "  </tbody>\n",
       "</table>\n",
       "</div>"
      ],
      "text/plain": [
       "         date                           customer_id  order_id  \\\n",
       "0  2018-10-01  ee47d746-6d2f-4d3c-9622-c31412542920     68477   \n",
       "1  2018-10-01  ee47d746-6d2f-4d3c-9622-c31412542920     68477   \n",
       "\n",
       "                                            product  quantity  price  revenue  \\\n",
       "0     комнатное растение в горшке алое вера d12 h30         1  142.0    142.0   \n",
       "1  комнатное растение в горшке кофе арабика d12 h25         1  194.0    194.0   \n",
       "\n",
       "   hour  day  week  month  year  weekdays  weekends season  \n",
       "0     0    1    40     10  2018         0         0  осень  \n",
       "1     0    1    40     10  2018         0         0  осень  "
      ]
     },
     "execution_count": 28,
     "metadata": {},
     "output_type": "execute_result"
    }
   ],
   "source": [
    "data.head(2)"
   ]
  },
  {
   "cell_type": "code",
   "execution_count": 29,
   "id": "c64ae555",
   "metadata": {},
   "outputs": [
    {
     "name": "stdout",
     "output_type": "stream",
     "text": [
      "Cредняя выручка с одного покупателя: 712 у.е.\n",
      "Cредняя сумма заказа: 674 у.е.\n",
      "Cреднее число позиций товаров в заказах: 1 шт.\n",
      "Cреднее число единиц товаров в заказах: 1 шт.\n",
      "Средний чек по всем покупателям: 674 у.е.\n"
     ]
    }
   ],
   "source": [
    "grouped_by_orders = data.groupby(['customer_id', 'order_id'])\\\n",
    ".agg({'date':'first', 'product':'count', 'quantity':'sum','price':'mean', 'revenue':'sum'}).reset_index()\\\n",
    ".rename(columns={'date':'first_date_order', 'product':'cnt_unique_products_in_order', \n",
    "                 'quantity':'total_cnt_goods_in_order', 'price':'avg_product_price', 'revenue':'order_price'})\n",
    "\n",
    "grouped_by_customers = grouped_by_orders.groupby('customer_id')\\\n",
    ".agg({'order_id':'nunique', 'cnt_unique_products_in_order':'mean', 'total_cnt_goods_in_order':'mean', \n",
    "      'avg_product_price':'mean', 'order_price':['sum','mean']}).reset_index()\n",
    "\n",
    "grouped_by_customers.columns = ['customer_id', 'cnt_orders', 'avg_products_in_order', 'avg_goods_in_order', \n",
    "                                'avg_product_price', 'total_revenue', 'avg_order_price']\n",
    "\n",
    "print('Cредняя выручка с одного покупателя: {:.0f} у.е.'.format(grouped_by_customers['total_revenue'].median()))\n",
    "print('Cредняя сумма заказа: {:.0f} у.е.'.format(grouped_by_customers['avg_order_price'].median()))\n",
    "print('Cреднее число позиций товаров в заказах: {:.0f} шт.'.format(grouped_by_customers['avg_products_in_order']\\\n",
    "                                                                .median()))\n",
    "print('Cреднее число единиц товаров в заказах: {:.0f} шт.'.format(grouped_by_customers['avg_goods_in_order']\\\n",
    "                                                                .median()))\n",
    "print('Средний чек по всем покупателям: {:.0f} у.е.'\\\n",
    "      .format((grouped_by_customers['total_revenue']/grouped_by_customers['cnt_orders']).median()))"
   ]
  },
  {
   "cell_type": "markdown",
   "id": "b9882b64",
   "metadata": {},
   "source": [
    "- Cредняя выручка с одного покупателя: 712 у.е.\n",
    "- Cредняя сумма заказа: 674 у.е.\n",
    "- Cреднее число позиций товаров в заказах: 1 шт.\n",
    "- Cреднее число единиц товаров в заказах: 1 шт.\n",
    "- Средний чек по всем покупателям: 674 у.е."
   ]
  },
  {
   "cell_type": "markdown",
   "id": "d2b4f632",
   "metadata": {},
   "source": [
    "## Изменение количества заказов во времени"
   ]
  },
  {
   "cell_type": "code",
   "execution_count": 30,
   "id": "f33d4c4f",
   "metadata": {
    "scrolled": false
   },
   "outputs": [
    {
     "data": {
      "image/png": "[encoded data removed]",
      "text/plain": [
       "<Figure size 504x360 with 1 Axes>"
      ]
     },
     "metadata": {
      "needs_background": "light"
     },
     "output_type": "display_data"
    },
    {
     "data": {
      "image/png": "[encoded data removed]",
      "text/plain": [
       "<Figure size 504x360 with 1 Axes>"
      ]
     },
     "metadata": {
      "needs_background": "light"
     },
     "output_type": "display_data"
    },
    {
     "data": {
      "image/png": "[encoded data removed]",
      "text/plain": [
       "<Figure size 504x360 with 1 Axes>"
      ]
     },
     "metadata": {
      "needs_background": "light"
     },
     "output_type": "display_data"
    }
   ],
   "source": [
    "# Создадим цикл для автоматического построения графиков. \n",
    "# Посмотрим на распределение заказов во времени, по часам, по дням, по месяцам. \n",
    "\n",
    "for columns in ['hour', 'day', 'month']:\n",
    "    data.pivot_table(index=columns, values='order_id', aggfunc='nunique', fill_value=0)\\\n",
    "    .plot(kind='bar', figsize=(7,5), grid=True, y=['order_id'], color='#9FC5E8', fontsize=10, legend=False)\n",
    "    plt.title('Рис.3 Количество заказов по ' + columns, fontsize=16)\n",
    "    plt.xticks(rotation=0)\n",
    "    plt.show()"
   ]
  },
  {
   "cell_type": "code",
   "execution_count": 31,
   "id": "702c9775",
   "metadata": {},
   "outputs": [
    {
     "data": {
      "image/png": "[encoded data removed]",
      "text/plain": [
       "<Figure size 1440x504 with 1 Axes>"
      ]
     },
     "metadata": {
      "needs_background": "light"
     },
     "output_type": "display_data"
    }
   ],
   "source": [
    "# График по изменению месячных заказов во времени.\n",
    "data.groupby(['year', 'month']).agg({'order_id': 'nunique'}) \\\n",
    "      .plot(marker='o', figsize=(20,7), grid=True, legend=False, color='#9FC5E8')\n",
    "plt.title('Рис.4 График по изменению количества уникальных заказов в месяц.', fontsize=16)\n",
    "plt.xlabel('Год, Месяц',fontsize=14)\n",
    "plt.ylabel('Кол-во уникальных заказов',fontsize=14)\n",
    "plt.show()"
   ]
  },
  {
   "cell_type": "markdown",
   "id": "7407a93f",
   "metadata": {},
   "source": [
    "__Вывод:__\n",
    "\n",
    "   - Наиболее популярное время заказов с 9-15:00, наименее популярное с 23:00-07:00\n",
    "   - Наиболее популярный день заказов понедельник-вторник, наименее популярна - суббота\n",
    "   - Самый популярный месяц - Октябрь, самый не популярный - Январь и Июнь\n",
    "   - Наибольшее среднее количество заказов в период февраля-апрель 2019 г., просадки в январе и июне 2019"
   ]
  },
  {
   "cell_type": "markdown",
   "id": "5d774435",
   "metadata": {},
   "source": [
    "## Изменение выручки во времени"
   ]
  },
  {
   "cell_type": "markdown",
   "id": "4b5a0a53",
   "metadata": {},
   "source": [
    "Посмотрим на выручку c заказов. Какие товары интернет-магазина приносят наибольшую прибыль. Как меняется эта метрика с течением времени. Найдем бестселлеры за весь период."
   ]
  },
  {
   "cell_type": "code",
   "execution_count": 32,
   "id": "a2678110",
   "metadata": {},
   "outputs": [
    {
     "name": "stdout",
     "output_type": "stream",
     "text": [
      "Сумма выручки: 4068155.00 у.е.\n"
     ]
    }
   ],
   "source": [
    "# Сумма выручки\n",
    "revenue_sum = data['revenue'].sum()\n",
    "print('Сумма выручки: {:.2f} у.е.'.format(revenue_sum))"
   ]
  },
  {
   "cell_type": "code",
   "execution_count": 33,
   "id": "504ea274",
   "metadata": {},
   "outputs": [
    {
     "data": {
      "image/png": "[encoded data removed]",
      "text/plain": [
       "<Figure size 504x360 with 1 Axes>"
      ]
     },
     "metadata": {
      "needs_background": "light"
     },
     "output_type": "display_data"
    },
    {
     "data": {
      "image/png": "[encoded data removed]",
      "text/plain": [
       "<Figure size 504x360 with 1 Axes>"
      ]
     },
     "metadata": {
      "needs_background": "light"
     },
     "output_type": "display_data"
    },
    {
     "data": {
      "image/png": "[encoded data removed]",
      "text/plain": [
       "<Figure size 504x360 with 1 Axes>"
      ]
     },
     "metadata": {
      "needs_background": "light"
     },
     "output_type": "display_data"
    }
   ],
   "source": [
    "# Цикл для автоматического построения графиков.\n",
    "# Посмотрим на распределение выручки во времени, по часам, по дням, по месяцам. \n",
    "\n",
    "for columns in ['hour', 'day', 'month']:\n",
    "    data.pivot_table(index=columns, values='revenue', aggfunc='sum', fill_value=0)\\\n",
    "    .plot(kind='bar', figsize=(7,5), grid=True, y=['revenue'], color='#f77189', fontsize=12, legend=False)\n",
    "    plt.title('Рис.5 Сумма выручки по ' + columns, fontsize=16)\n",
    "    plt.xticks(rotation=0)\n",
    "    plt.show()"
   ]
  },
  {
   "cell_type": "markdown",
   "id": "1a57b709",
   "metadata": {},
   "source": [
    "__Вывод:__\n",
    "\n",
    "   - Общая выручка составила:4 068 155 у.е.\n",
    "   - Наибольшая выручка наблюдается в 9-17:00 с пиком в 15:00\n",
    "   - Будние дни выручка выше, в выходные меньше. В будние дни видим всплеск во вторник. \n",
    "   - Лидирующий месяцы - Июнь и Октябрь, самая низкая в августе-сентябре"
   ]
  },
  {
   "cell_type": "markdown",
   "id": "67704d79",
   "metadata": {},
   "source": [
    "## Cредний чек покупателя"
   ]
  },
  {
   "cell_type": "code",
   "execution_count": 34,
   "id": "a258c761",
   "metadata": {},
   "outputs": [
    {
     "data": {
      "text/html": [
       "<div>\n",
       "<style scoped>\n",
       "    .dataframe tbody tr th:only-of-type {\n",
       "        vertical-align: middle;\n",
       "    }\n",
       "\n",
       "    .dataframe tbody tr th {\n",
       "        vertical-align: top;\n",
       "    }\n",
       "\n",
       "    .dataframe thead th {\n",
       "        text-align: right;\n",
       "    }\n",
       "</style>\n",
       "<table border=\"1\" class=\"dataframe\">\n",
       "  <thead>\n",
       "    <tr style=\"text-align: right;\">\n",
       "      <th></th>\n",
       "      <th>year</th>\n",
       "      <th>month</th>\n",
       "      <th>revenue</th>\n",
       "      <th>customers</th>\n",
       "      <th>orders</th>\n",
       "      <th>revenue_per_customer</th>\n",
       "      <th>revenue_per_order</th>\n",
       "    </tr>\n",
       "  </thead>\n",
       "  <tbody>\n",
       "    <tr>\n",
       "      <th>8</th>\n",
       "      <td>2019</td>\n",
       "      <td>6</td>\n",
       "      <td>900116.0</td>\n",
       "      <td>148</td>\n",
       "      <td>157</td>\n",
       "      <td>6081.9</td>\n",
       "      <td>5733.2</td>\n",
       "    </tr>\n",
       "    <tr>\n",
       "      <th>1</th>\n",
       "      <td>2018</td>\n",
       "      <td>11</td>\n",
       "      <td>359348.0</td>\n",
       "      <td>178</td>\n",
       "      <td>204</td>\n",
       "      <td>2018.8</td>\n",
       "      <td>1761.5</td>\n",
       "    </tr>\n",
       "    <tr>\n",
       "      <th>0</th>\n",
       "      <td>2018</td>\n",
       "      <td>10</td>\n",
       "      <td>351162.0</td>\n",
       "      <td>179</td>\n",
       "      <td>238</td>\n",
       "      <td>1961.8</td>\n",
       "      <td>1475.5</td>\n",
       "    </tr>\n",
       "    <tr>\n",
       "      <th>3</th>\n",
       "      <td>2019</td>\n",
       "      <td>1</td>\n",
       "      <td>230097.0</td>\n",
       "      <td>149</td>\n",
       "      <td>165</td>\n",
       "      <td>1544.3</td>\n",
       "      <td>1394.5</td>\n",
       "    </tr>\n",
       "    <tr>\n",
       "      <th>7</th>\n",
       "      <td>2019</td>\n",
       "      <td>5</td>\n",
       "      <td>233874.0</td>\n",
       "      <td>164</td>\n",
       "      <td>178</td>\n",
       "      <td>1426.1</td>\n",
       "      <td>1313.9</td>\n",
       "    </tr>\n",
       "    <tr>\n",
       "      <th>2</th>\n",
       "      <td>2018</td>\n",
       "      <td>12</td>\n",
       "      <td>345921.0</td>\n",
       "      <td>228</td>\n",
       "      <td>278</td>\n",
       "      <td>1517.2</td>\n",
       "      <td>1244.3</td>\n",
       "    </tr>\n",
       "    <tr>\n",
       "      <th>6</th>\n",
       "      <td>2019</td>\n",
       "      <td>4</td>\n",
       "      <td>316469.0</td>\n",
       "      <td>235</td>\n",
       "      <td>264</td>\n",
       "      <td>1346.7</td>\n",
       "      <td>1198.7</td>\n",
       "    </tr>\n",
       "    <tr>\n",
       "      <th>9</th>\n",
       "      <td>2019</td>\n",
       "      <td>7</td>\n",
       "      <td>220015.0</td>\n",
       "      <td>185</td>\n",
       "      <td>197</td>\n",
       "      <td>1189.3</td>\n",
       "      <td>1116.8</td>\n",
       "    </tr>\n",
       "    <tr>\n",
       "      <th>4</th>\n",
       "      <td>2019</td>\n",
       "      <td>2</td>\n",
       "      <td>305183.0</td>\n",
       "      <td>244</td>\n",
       "      <td>286</td>\n",
       "      <td>1250.8</td>\n",
       "      <td>1067.1</td>\n",
       "    </tr>\n",
       "    <tr>\n",
       "      <th>12</th>\n",
       "      <td>2019</td>\n",
       "      <td>10</td>\n",
       "      <td>206490.0</td>\n",
       "      <td>167</td>\n",
       "      <td>196</td>\n",
       "      <td>1236.5</td>\n",
       "      <td>1053.5</td>\n",
       "    </tr>\n",
       "    <tr>\n",
       "      <th>5</th>\n",
       "      <td>2019</td>\n",
       "      <td>3</td>\n",
       "      <td>249429.0</td>\n",
       "      <td>227</td>\n",
       "      <td>242</td>\n",
       "      <td>1098.8</td>\n",
       "      <td>1030.7</td>\n",
       "    </tr>\n",
       "    <tr>\n",
       "      <th>10</th>\n",
       "      <td>2019</td>\n",
       "      <td>8</td>\n",
       "      <td>172100.0</td>\n",
       "      <td>164</td>\n",
       "      <td>172</td>\n",
       "      <td>1049.4</td>\n",
       "      <td>1000.6</td>\n",
       "    </tr>\n",
       "    <tr>\n",
       "      <th>11</th>\n",
       "      <td>2019</td>\n",
       "      <td>9</td>\n",
       "      <td>177951.0</td>\n",
       "      <td>171</td>\n",
       "      <td>179</td>\n",
       "      <td>1040.6</td>\n",
       "      <td>994.1</td>\n",
       "    </tr>\n",
       "  </tbody>\n",
       "</table>\n",
       "</div>"
      ],
      "text/plain": [
       "    year  month   revenue  customers  orders  revenue_per_customer  \\\n",
       "8   2019      6  900116.0        148     157                6081.9   \n",
       "1   2018     11  359348.0        178     204                2018.8   \n",
       "0   2018     10  351162.0        179     238                1961.8   \n",
       "3   2019      1  230097.0        149     165                1544.3   \n",
       "7   2019      5  233874.0        164     178                1426.1   \n",
       "2   2018     12  345921.0        228     278                1517.2   \n",
       "6   2019      4  316469.0        235     264                1346.7   \n",
       "9   2019      7  220015.0        185     197                1189.3   \n",
       "4   2019      2  305183.0        244     286                1250.8   \n",
       "12  2019     10  206490.0        167     196                1236.5   \n",
       "5   2019      3  249429.0        227     242                1098.8   \n",
       "10  2019      8  172100.0        164     172                1049.4   \n",
       "11  2019      9  177951.0        171     179                1040.6   \n",
       "\n",
       "    revenue_per_order  \n",
       "8              5733.2  \n",
       "1              1761.5  \n",
       "0              1475.5  \n",
       "3              1394.5  \n",
       "7              1313.9  \n",
       "2              1244.3  \n",
       "6              1198.7  \n",
       "9              1116.8  \n",
       "4              1067.1  \n",
       "12             1053.5  \n",
       "5              1030.7  \n",
       "10             1000.6  \n",
       "11              994.1  "
      ]
     },
     "metadata": {},
     "output_type": "display_data"
    },
    {
     "data": {
      "image/png": "[encoded data removed]",
      "text/plain": [
       "<Figure size 1440x360 with 1 Axes>"
      ]
     },
     "metadata": {
      "needs_background": "light"
     },
     "output_type": "display_data"
    }
   ],
   "source": [
    "# Найдём средний чек покупателя\n",
    "\n",
    "avg_cheque = data.groupby(['year','month']) \\\n",
    "                                    .agg({'revenue':'sum','customer_id':'nunique', 'order_id':'nunique'})\\\n",
    "                                                                                                .reset_index()\n",
    "avg_cheque.columns = ['year', 'month', 'revenue', 'customers', 'orders'] # переименуем столбцы \n",
    "avg_cheque['revenue_per_customer'] = (avg_cheque['revenue'] / avg_cheque['customers']).round(1)\n",
    "\n",
    "# Найдём средний чек заказов \n",
    "\n",
    "avg_cheque['revenue_per_order'] = (avg_cheque['revenue'] / avg_cheque['orders']).round(1)\n",
    "\n",
    "display(avg_cheque.sort_values(by='revenue_per_order',ascending=False))\n",
    "\n",
    "avg_cheque.plot(marker='o', y=['revenue_per_order'], figsize=(20,5), grid=True, color='#ee9589', fontsize=16)\n",
    "plt.title('Рис.7 Средний чек по месяцам.', fontsize=20)\n",
    "plt.xlabel('Месяц')\n",
    "plt.ylabel('Средний чек заказа')\n",
    "plt.show()"
   ]
  },
  {
   "cell_type": "markdown",
   "id": "8e1ae2e3",
   "metadata": {},
   "source": [
    " - Средний чек стабилен и варьирует от 1000-1750 с выскоким в январе-апреле и низким в октябре-декабре, но в августе видим всплеск на отметке 5 783. Возмоно связано с большой закупкой.\n",
    " - Сентябрь 2019 Г. показывает наименьший средний чек на покупателя и средний чек по заказу "
   ]
  },
  {
   "cell_type": "markdown",
   "id": "85a9816f",
   "metadata": {},
   "source": [
    "__Вывод:__\n",
    "\n",
    "`Общие метрики`\n",
    "\n",
    "- Дата первой записи: 2018-10-01\n",
    "- Дата последней записи: 2019-10-31\n",
    "- Дата первой записи: 395 days, 0:00:00\n",
    "- Общее количество уникальных покупателей: 2393\n",
    "- Общее количество уникальных товаров: 2325\n",
    "- Количество уникальных заказов: 2754\n",
    "- Общая выручка составила:4 068 155 у.е.\n",
    "- Наибольшая выручка наблюдается в 9-17:00 с пиком в 15:00\n",
    "- Будние дни выручка выше, в выходные меньше. В будние дни видим всплеск во вторник. \n",
    "- Лидирующий месяцы - Июнь и Октябрь, самая низкая в августе-сентябре\n",
    "- Средний чек стабилен и варьирует от 1000-1750 с выскоким в январе-апреле и низким в октябре-декабре, но в августе видим всплеск на отметке 5 783. Возмоно связано с большой закупкой.\n",
    "- Сентябрь 2019 Г. показывает наименьший средний чек на покупателя и средний чек по заказу \n",
    "- Наиболее популярное время заказов с 9-15:00, наименее популярное с 23:00-07:00\n",
    "- Наиболее популярный день заказов понедельник-вторник, наименее популярна - суббота\n",
    "- Самый популярный месяц - Октябрь, самый не популярный - Январь и Июнь\n",
    "- Наибольшее среднее количество заказов в период февраля-апрель 2019 г., просадки в январе и июне 2019\n",
    "\n",
    "\n",
    "`Пользовательские метрики`\n",
    "\n",
    "- Cредняя выручка с одного покупателя: 712 у.е.\n",
    "- Cредняя сумма заказа: 674 у.е.\n",
    "- Cреднее число позиций товаров в заказах: 1 шт.\n",
    "- Cреднее число единиц товаров в заказах: 1 шт.\n",
    "- Средний чек по всем покупателям: 674 у.е."
   ]
  },
  {
   "cell_type": "markdown",
   "id": "e30d8d18",
   "metadata": {},
   "source": [
    "# Сегментирование товаров\n"
   ]
  },
  {
   "cell_type": "markdown",
   "id": "de2e9631",
   "metadata": {},
   "source": [
    "- колличество уникальных продуктов\n",
    "- лематизация товаров\n",
    "- категоризация товаров\n",
    "- распределение товаров по категориям\n",
    "- средняя стоимость товаров по категориям¶"
   ]
  },
  {
   "cell_type": "code",
   "execution_count": 35,
   "id": "98a9b06a",
   "metadata": {},
   "outputs": [
    {
     "name": "stdout",
     "output_type": "stream",
     "text": [
      "Количество уникальных продуктов: 2325\n"
     ]
    },
    {
     "data": {
      "text/plain": [
       "пеларгония розебудная red pandora укорененный черенок      64\n",
       "пеларгония розебудная prins nikolai укорененный черенок    53\n",
       "пеларгония зональная диам. 12 см сиреневый полумахровый    52\n",
       "сумка-тележка 2-х колесная gimi argo синяя                 47\n",
       "пеларгония розебудная mary укорененный черенок             39\n",
       "Name: product, dtype: int64"
      ]
     },
     "execution_count": 35,
     "metadata": {},
     "output_type": "execute_result"
    }
   ],
   "source": [
    "# Количество уникальных продуктов\n",
    "\n",
    "print('Количество уникальных продуктов:', len(data['product'].unique()))\n",
    "data['product'].value_counts().head()"
   ]
  },
  {
   "cell_type": "markdown",
   "id": "2f0bff65",
   "metadata": {},
   "source": [
    "## Лематизация товаров"
   ]
  },
  {
   "cell_type": "code",
   "execution_count": 36,
   "id": "ffedff52",
   "metadata": {},
   "outputs": [
    {
     "data": {
      "text/plain": [
       "[(' ', 33122),\n",
       " ('\\n', 4783),\n",
       " ('см', 2111),\n",
       " ('-', 1940),\n",
       " ('для', 1004),\n",
       " ('пеларгония', 820),\n",
       " ('рассада', 594),\n",
       " ('в', 542),\n",
       " ('л', 491),\n",
       " ('зональный', 487),\n",
       " ('d', 459),\n",
       " ('. ', 456),\n",
       " ('диам', 452),\n",
       " ('12', 437),\n",
       " ('кассета', 396),\n",
       " ('с', 395),\n",
       " ('шт', 367),\n",
       " ('сорт', 360),\n",
       " ('тележка', 344),\n",
       " ('махровый', 340),\n",
       " ('черенок', 332),\n",
       " ('укоренять', 330),\n",
       " ('9', 323),\n",
       " ('белый', 317),\n",
       " ('сумка', 312),\n",
       " ('белье', 305),\n",
       " ('красный', 304),\n",
       " ('объем', 296),\n",
       " ('горшок', 275),\n",
       " ('сушилка', 272),\n",
       " ('по', 257),\n",
       " ('цветок', 243),\n",
       " ('розебудный', 243),\n",
       " ('доска', 234),\n",
       " ('05', 233),\n",
       " ('gimi', 232),\n",
       " ('кухня', 225),\n",
       " ('6', 225),\n",
       " ('зелень', 220),\n",
       " ('10', 206),\n",
       " ('синий', 200),\n",
       " ('розовый', 196),\n",
       " ('2', 195),\n",
       " ('гладильный', 192),\n",
       " ('/', 191),\n",
       " ('полумахровый', 185),\n",
       " ('однолетний', 184),\n",
       " ('7', 175),\n",
       " ('петуния', 171),\n",
       " ('томат', 170),\n",
       " ('россия', 167),\n",
       " ('муляж', 166),\n",
       " ('30', 166),\n",
       " ('помидор', 162),\n",
       " ('№', 160),\n",
       " ('кг', 159),\n",
       " ('4', 157),\n",
       " ('ника', 153),\n",
       " ('м', 151),\n",
       " ('и', 151),\n",
       " ('h', 147),\n",
       " ('20', 147),\n",
       " ('25', 140),\n",
       " ('хозяйственный', 136),\n",
       " ('d12', 134),\n",
       " ('*', 132),\n",
       " ('х', 131),\n",
       " ('сиреневый', 130),\n",
       " ('черный', 124),\n",
       " ('среднеспелый', 121),\n",
       " ('герань', 116),\n",
       " ('h25', 112),\n",
       " ('домашний', 110),\n",
       " ('цвести', 110),\n",
       " ('3', 109),\n",
       " ('колесный', 108),\n",
       " ('чехол', 107),\n",
       " ('50', 106),\n",
       " ('ванный', 106),\n",
       " ('растение', 104),\n",
       " ('из', 104),\n",
       " ('полиуретан', 104),\n",
       " ('коврик', 104),\n",
       " ('пластмассовый', 102),\n",
       " ('искусственный', 101),\n",
       " ('потолочный', 100),\n",
       " ('простой', 100),\n",
       " ('red', 100),\n",
       " ('1', 94),\n",
       " ('желтый', 93),\n",
       " ('оранжевый', 91),\n",
       " ('luminarc', 91),\n",
       " ('delta', 91),\n",
       " ('лиана', 90),\n",
       " ('цвет', 86),\n",
       " ('роза', 86),\n",
       " ('индетерминантный', 86),\n",
       " ('багажный', 85),\n",
       " ('грузоподъемность', 85),\n",
       " ('малиновый', 84),\n",
       " ('attribute', 83),\n",
       " ('пластиковый', 81),\n",
       " ('комната', 80),\n",
       " ('ампельный', 80),\n",
       " ('6шт', 79),\n",
       " ('г', 79),\n",
       " ('штора', 78),\n",
       " ('ручка', 77),\n",
       " ('мл', 74),\n",
       " ('100', 72),\n",
       " ('зеленый', 72),\n",
       " ('каркас', 72),\n",
       " ('zalger', 71),\n",
       " ('argo', 71),\n",
       " ('тбр', 71),\n",
       " ('капуста', 69),\n",
       " ('таз', 68),\n",
       " ('лососевый', 68),\n",
       " ('на', 67),\n",
       " ('хлопок', 66),\n",
       " ('ассортимент', 66),\n",
       " ('детерминантный', 66),\n",
       " ('pandora', 64),\n",
       " ('серый', 62),\n",
       " ('штука', 62),\n",
       " ('e6', 62),\n",
       " ('раннеспелый', 61),\n",
       " ('настенный', 60),\n",
       " ('вешалка', 58),\n",
       " ('% ', 58),\n",
       " ('крышка', 57),\n",
       " ('18', 56),\n",
       " ('калибрахоа', 56),\n",
       " ('напольный', 55),\n",
       " ('.', 55),\n",
       " ('wellness', 55),\n",
       " ('5', 54),\n",
       " ('придверный', 54),\n",
       " ('\" ', 53),\n",
       " ('коричневый', 53),\n",
       " ('prins', 53),\n",
       " ('nikolai', 53),\n",
       " ('мм', 52),\n",
       " (' \"', 51),\n",
       " ('60', 51),\n",
       " ('мята', 51),\n",
       " ('арбуз', 50),\n",
       " ('тимьян', 49),\n",
       " ('стремянка', 49),\n",
       " ('голубой', 49),\n",
       " ('набор', 48),\n",
       " ('9х9', 48),\n",
       " ('бежевый', 47),\n",
       " ('со', 47),\n",
       " ('15', 47),\n",
       " ('p', 47),\n",
       " ('мини', 46),\n",
       " ('45', 46),\n",
       " ('микс', 46),\n",
       " ('садовый', 46),\n",
       " ('200', 45),\n",
       " ('алюминиевый', 44),\n",
       " ('21', 44),\n",
       " ('сталь', 44),\n",
       " ('люкс', 44),\n",
       " ('angeleyes', 44),\n",
       " ('базилик', 43),\n",
       " ('rolser', 43),\n",
       " ('leifheit', 43),\n",
       " ('яблоко', 42),\n",
       " ('фуксия', 42),\n",
       " ('joy', 41),\n",
       " ('пищевой', 41),\n",
       " ('огурец', 41),\n",
       " ('покрытие', 40),\n",
       " ('виолета', 40),\n",
       " ('пвх', 40),\n",
       " ('розмарин', 40),\n",
       " ('бакоп', 40),\n",
       " ('тарелка', 39),\n",
       " ('mary', 39),\n",
       " ('деревянный', 38),\n",
       " ('коралловый', 38),\n",
       " ('13', 38),\n",
       " ('toscana', 37),\n",
       " ('hausmann', 36),\n",
       " ('дыня', 36),\n",
       " ('colombo', 35),\n",
       " ('lift', 35),\n",
       " ('bacchetta', 35),\n",
       " ('фиолетовый', 34),\n",
       " ('double', 34),\n",
       " ('корзина', 33),\n",
       " ('9см', 33),\n",
       " ('щетка', 33),\n",
       " ('складной', 33),\n",
       " ('белокачать', 33),\n",
       " ('комнатный', 32),\n",
       " ('скатерть', 32),\n",
       " ('240х200', 32),\n",
       " ('  ', 31),\n",
       " ('овальный', 31),\n",
       " ('180х200', 31),\n",
       " ('круглый', 30),\n",
       " ('17', 30),\n",
       " ('8', 30),\n",
       " ('ванна', 30),\n",
       " ('смесь', 30),\n",
       " ('queen', 30),\n",
       " ('ingrid', 30),\n",
       " ('металлический', 29),\n",
       " ('полиэстер', 29),\n",
       " ('22', 29),\n",
       " ('ярко', 29),\n",
       " ('margaretha', 29),\n",
       " ('большой', 28),\n",
       " ('rozenbal', 28),\n",
       " ('иж', 28),\n",
       " ('подвесной', 28),\n",
       " ('блю', 28),\n",
       " ('80', 27),\n",
       " ('нержавеющий', 27),\n",
       " ('банка', 27),\n",
       " ('ступень', 27),\n",
       " ('кашпо', 27),\n",
       " ('кабачок', 27),\n",
       " ('нож', 26),\n",
       " ('прямоугольный', 26),\n",
       " ('кольцо', 26),\n",
       " ('вайт', 26),\n",
       " ('fancy', 25),\n",
       " ('fair', 25),\n",
       " ('одежда', 25),\n",
       " ('blue', 25),\n",
       " ('spirella', 24),\n",
       " ('поролон', 24),\n",
       " ('webber', 24),\n",
       " ('хлопковый', 24),\n",
       " ('текстильный', 24),\n",
       " ('valiant', 24),\n",
       " ('салатник', 24),\n",
       " ('90', 24),\n",
       " ('ринго', 24),\n",
       " ('чайногибридный', 24),\n",
       " ('под', 23),\n",
       " ('24', 23),\n",
       " ('andersen', 23),\n",
       " ('shopper', 23),\n",
       " ('лаванда', 23),\n",
       " ('180', 23),\n",
       " ('цветной', 23),\n",
       " ('16', 23),\n",
       " ('white', 23),\n",
       " ('полка', 23),\n",
       " ('мега', 23),\n",
       " ('крупный', 23),\n",
       " ('стеклянный', 22),\n",
       " ('curver', 22),\n",
       " ('темнорозовый', 22),\n",
       " ('тыква', 22),\n",
       " ('вт', 22),\n",
       " ('розоцветный', 22),\n",
       " ('упаковка', 22),\n",
       " ('ллп', 22),\n",
       " ('qwerty', 22),\n",
       " ('300', 21),\n",
       " ('hm', 21),\n",
       " ('scala', 21),\n",
       " ('_', 21),\n",
       " ('примула', 21),\n",
       " ('amarillo', 21),\n",
       " ('surfinia', 21),\n",
       " ('лобелия', 21),\n",
       " ('eurogold', 20),\n",
       " ('потолочно', 20),\n",
       " ('пластик', 20),\n",
       " ('40', 20),\n",
       " ('122х40', 20),\n",
       " ('120', 20),\n",
       " ('emma', 20),\n",
       " ('ff', 19),\n",
       " ('франция', 19),\n",
       " ('линия', 19),\n",
       " ('контейнер', 19),\n",
       " ('оцинковывать', 19),\n",
       " ('чайник', 19),\n",
       " ('салфетка', 19),\n",
       " ('швабра', 19),\n",
       " ('р', 19),\n",
       " ('раздвижной', 19),\n",
       " ('крупноцветковый', 19),\n",
       " ('вербена', 19),\n",
       " ('55', 18),\n",
       " ('ерш', 18),\n",
       " ('510', 18),\n",
       " ('эвкалипт', 18),\n",
       " ('01', 18),\n",
       " ('ступенчатый', 18),\n",
       " ('dogrular', 18),\n",
       " ('23', 18),\n",
       " ('букет', 18),\n",
       " ('400', 18),\n",
       " ('диаметр', 18),\n",
       " ('160', 18),\n",
       " ('штанга', 18),\n",
       " ('ред', 18),\n",
       " ('rosebud', 18),\n",
       " ('aloha', 18),\n",
       " ('крючок', 17),\n",
       " ('мелисса', 17),\n",
       " ('14', 17),\n",
       " ('prima', 17),\n",
       " ('720', 17),\n",
       " ('веревочный', 17),\n",
       " ('гвоздик', 17),\n",
       " ('jet', 17),\n",
       " ('85', 17),\n",
       " ('плечики', 17),\n",
       " ('полимербыт', 17),\n",
       " ('малый', 17),\n",
       " ('универсальный', 17),\n",
       " ('виола', 17),\n",
       " ('basic', 16),\n",
       " ('клубника', 16),\n",
       " ('ложка', 16),\n",
       " ('11', 16),\n",
       " ('кружка', 16),\n",
       " ('петрушка', 16),\n",
       " ('flexi', 16),\n",
       " ('дерево', 16),\n",
       " ('фиалка', 16),\n",
       " (' / ', 16),\n",
       " ('ведро', 16),\n",
       " ('окраска', 16),\n",
       " ('трава', 16),\n",
       " ('окно', 16),\n",
       " ('мытье', 16),\n",
       " ('флокс', 16),\n",
       " ('bicolor', 16),\n",
       " ('мультиблум', 16),\n",
       " ('скарлет', 16),\n",
       " ('ай', 16),\n",
       " ('декабрист', 16),\n",
       " ('purple', 16),\n",
       " ('метельчатый', 16),\n",
       " ('резиновый', 15),\n",
       " ('тонус', 15),\n",
       " ('обеденный', 15),\n",
       " ('без', 15),\n",
       " ('apache', 15),\n",
       " ('dasch', 15),\n",
       " ('композиция', 15),\n",
       " ('цикламен', 15),\n",
       " ('500', 15),\n",
       " ('угловой', 15),\n",
       " ('противоскользящий', 15),\n",
       " ('подарочный', 15),\n",
       " ('стальной', 15),\n",
       " ('пряный', 15),\n",
       " ('mini', 15),\n",
       " ('famous', 15),\n",
       " ('перец', 14),\n",
       " ('подставка', 14),\n",
       " ('plus', 14),\n",
       " ('душа', 14),\n",
       " ('кухонный', 14),\n",
       " ('насадка', 14),\n",
       " ('арарат', 14),\n",
       " ('душица', 14),\n",
       " ('карниз', 14),\n",
       " ('бегония', 14),\n",
       " ('075', 14),\n",
       " ('десертный', 14),\n",
       " ('be', 14),\n",
       " ('звезда', 14),\n",
       " ('doble', 14),\n",
       " ('p9', 14),\n",
       " ('10см', 14),\n",
       " ('тюльпановидный', 14),\n",
       " ('35', 13),\n",
       " ('210', 13),\n",
       " ('сковорода', 13),\n",
       " ('alpenkok', 13),\n",
       " ('ak', 13),\n",
       " ('чабрец', 13),\n",
       " ('ripple', 13),\n",
       " ('подкладка', 13),\n",
       " ('135х50', 13),\n",
       " ('lux', 13),\n",
       " ('tris', 13),\n",
       " ('112', 13),\n",
       " ('azul', 13),\n",
       " ('textil', 13),\n",
       " ('розебуд', 13),\n",
       " ('молодой', 13),\n",
       " ('1065х29', 13),\n",
       " ('rg', 13),\n",
       " ('helex', 13),\n",
       " ('ель', 13),\n",
       " ('золотой', 13),\n",
       " ('лист', 13),\n",
       " ('burgundy', 13),\n",
       " ('лагуна', 13),\n",
       " ('гибридный', 13),\n",
       " ('прожилка', 13),\n",
       " ('sweetunia', 13),\n",
       " ('10шт', 13),\n",
       " ('чашелист', 13),\n",
       " ('огонек', 13),\n",
       " ('шуга', 13),\n",
       " ('dt', 13),\n",
       " ('кофе', 12),\n",
       " (' *', 12),\n",
       " ('* ', 12),\n",
       " ('унитазный', 12),\n",
       " ('ве', 12),\n",
       " ('сильвер', 12),\n",
       " ('hailo', 12),\n",
       " ('лестница', 12),\n",
       " ('эмалированный', 12),\n",
       " ('лавр', 12),\n",
       " ('декоративный', 12),\n",
       " ('полотенце', 12),\n",
       " ('хранение', 12),\n",
       " ('m', 12),\n",
       " ('жаккард', 12),\n",
       " ('дсп', 12),\n",
       " ('перекладина', 12),\n",
       " ('ромашка', 12),\n",
       " ('l', 12),\n",
       " ('электрический', 12),\n",
       " ('баклажан', 12),\n",
       " ('negro', 12),\n",
       " ('logic', 12),\n",
       " ('250', 12),\n",
       " ('обувь', 12),\n",
       " ('мультиколор', 12),\n",
       " ('новогодний', 12),\n",
       " ('пуансеттия', 12),\n",
       " ('лиловый', 12),\n",
       " ('бэби', 12),\n",
       " ('арабика', 11),\n",
       " ('26', 11),\n",
       " ('посуда', 11),\n",
       " ('овощ', 11),\n",
       " ('войлок', 11),\n",
       " ('45х75', 11),\n",
       " ('240', 11),\n",
       " ('150', 11),\n",
       " ('м2', 11),\n",
       " ('19', 11),\n",
       " ('стиральный', 11),\n",
       " ('подрукавник', 11),\n",
       " ('00', 11),\n",
       " ('прозрачный', 11),\n",
       " ('108', 11),\n",
       " ('galaxy', 11),\n",
       " ('крокус', 11),\n",
       " ('бальзамин', 11),\n",
       " ('easy', 11),\n",
       " ('шоколад', 11),\n",
       " ('ротанг', 11),\n",
       " ('70', 11),\n",
       " ('перечный', 11),\n",
       " ('табак', 11),\n",
       " ('orange', 11),\n",
       " ('газание', 11),\n",
       " ('кольраби', 11),\n",
       " ('циперус', 10),\n",
       " ('зумул', 10),\n",
       " ('1520', 10),\n",
       " ('антипригарный', 10),\n",
       " ('виноград', 10),\n",
       " ('03', 10),\n",
       " ('лимон', 10),\n",
       " ('персик', 10),\n",
       " ('столовая', 10),\n",
       " ('гунни', 10),\n",
       " ('полиэфир', 10),\n",
       " ('чили', 10),\n",
       " ('ковер', 10),\n",
       " ('минеральный', 10),\n",
       " ('вода', 10),\n",
       " ('140', 10),\n",
       " ('50х80', 10),\n",
       " ('душистый', 10),\n",
       " ('54', 10),\n",
       " ('1404021', 10),\n",
       " ('york', 10),\n",
       " ('кориандр', 10),\n",
       " ('встроенный', 10),\n",
       " ('полиамидный', 10),\n",
       " ('hsc', 10),\n",
       " ('1703009', 10),\n",
       " ('телескопический', 10),\n",
       " ('хром', 10),\n",
       " ('black', 10),\n",
       " ('резина', 10),\n",
       " ('одиночный', 10),\n",
       " ('суповой', 10),\n",
       " ('123х46', 10),\n",
       " ('стакан', 10),\n",
       " ('новогвинейский', 10),\n",
       " ('go', 10),\n",
       " ('косметь', 10),\n",
       " ('эльфпласт', 10),\n",
       " ('2000', 10),\n",
       " ('серебро', 10),\n",
       " ('взрослый', 10),\n",
       " ('dark', 10),\n",
       " ('h30', 9),\n",
       " ('super', 9),\n",
       " ('clean', 9),\n",
       " ('120х38', 9),\n",
       " ('груша', 9),\n",
       " ('сметка', 9),\n",
       " ('комбинированный', 9),\n",
       " ('1209021', 9),\n",
       " ('столовый', 9),\n",
       " ('мыло', 9),\n",
       " ('ваир', 9),\n",
       " ('связка', 9),\n",
       " ('перчатка', 9),\n",
       " ('comfort', 9),\n",
       " ('ажурный', 9),\n",
       " ('280', 9),\n",
       " ('002', 9),\n",
       " ('шалфей', 9),\n",
       " ('1703011', 9),\n",
       " ('бэлль', 9),\n",
       " ('sarayli', 9),\n",
       " ('+', 9),\n",
       " ('антуриум', 9),\n",
       " ('блэк', 9),\n",
       " ('обыкновенный', 9),\n",
       " ('мусор', 9),\n",
       " ('бамбук', 9),\n",
       " ('s', 9),\n",
       " ('тюльпан', 9),\n",
       " ('php', 9),\n",
       " ('srl', 9),\n",
       " ('орегано', 9),\n",
       " ('lini', 9),\n",
       " ('ideal', 9),\n",
       " ('светло', 9),\n",
       " ('алюминий', 9),\n",
       " ('56', 9),\n",
       " ('предмет', 9),\n",
       " ('алиссум', 9),\n",
       " ('сербский', 9),\n",
       " ('сбп1', 9),\n",
       " ('овощной', 9),\n",
       " ('колокольчик', 9),\n",
       " ('лимонный', 9),\n",
       " ('ячейка', 9),\n",
       " ('е6', 9),\n",
       " ('сибирский', 9),\n",
       " ('огонь', 9),\n",
       " ('e10', 9),\n",
       " ('корневой', 9),\n",
       " ('позднеспелый', 9),\n",
       " ('зебра', 9),\n",
       " ('листовой', 9),\n",
       " ('мягкий', 8),\n",
       " ('сердце', 8),\n",
       " ('130х48', 8),\n",
       " ('банан', 8),\n",
       " ('95', 8),\n",
       " ('рядная', 8),\n",
       " ('хозлэнд', 8),\n",
       " ('рисунок', 8),\n",
       " ('27', 8),\n",
       " ('floral', 8),\n",
       " ('1712012', 8),\n",
       " ('market', 8),\n",
       " ('marengo', 8),\n",
       " ('батарея', 8),\n",
       " ('кувшин', 8),\n",
       " ('ufuk', 8),\n",
       " ('костюм', 8),\n",
       " ('color', 8),\n",
       " ('б', 8),\n",
       " ('бутон', 8),\n",
       " ('c', 8),\n",
       " ('scovo', 8),\n",
       " ('размер', 8),\n",
       " ('170', 8),\n",
       " ('хризантема', 8),\n",
       " ('65', 8),\n",
       " ('28', 8),\n",
       " ('керамический', 8),\n",
       " ('металлизированный', 8),\n",
       " ('лекарственный', 8),\n",
       " ('лоток', 8),\n",
       " ('паста', 8),\n",
       " ('строительный', 8),\n",
       " ('коробка', 8),\n",
       " ('pink', 8),\n",
       " ('metal', 8),\n",
       " ('морковь', 8),\n",
       " ('чайный', 8),\n",
       " ('сидение', 8),\n",
       " ('мт', 8),\n",
       " ('средство', 8),\n",
       " ('classic', 8),\n",
       " ('blues', 8),\n",
       " ('пол', 8),\n",
       " ('львиный', 8),\n",
       " ('зев', 8),\n",
       " ('термокружок', 8),\n",
       " ('rosato', 8),\n",
       " ('морокан', 8),\n",
       " ('образный', 8),\n",
       " ('80х170', 8),\n",
       " ('d9', 8),\n",
       " ('сальвия', 8),\n",
       " ('sweet', 8),\n",
       " ('bells', 8),\n",
       " ('golden', 8),\n",
       " ('пурпурный', 8),\n",
       " ('окномойка', 8),\n",
       " ('blossom', 8),\n",
       " ('сильвердроп', 8),\n",
       " ('плющелистный', 8),\n",
       " ('lilac', 8),\n",
       " ('дина', 8),\n",
       " ('патиссон', 8),\n",
       " ('beige', 7),\n",
       " ('пластика', 7),\n",
       " ('вилка', 7),\n",
       " ('38', 7),\n",
       " ('стандарт', 7),\n",
       " ('520114', 7),\n",
       " ('133', 7),\n",
       " ('051', 7),\n",
       " ('40х60', 7),\n",
       " ('маргарита', 7),\n",
       " ('свисток', 7),\n",
       " ('оконный', 7),\n",
       " ('комплект', 7),\n",
       " ('искуственный', 7),\n",
       " ('три', 7),\n",
       " ('ребристый', 7),\n",
       " ('48', 7),\n",
       " ('хлорофитум', 7),\n",
       " ('122х42', 7),\n",
       " ('protec', 7),\n",
       " ('30х43', 7),\n",
       " ('dl', 7),\n",
       " ('влаговпитывающий', 7),\n",
       " ('пэмби', 7),\n",
       " ('п', 7),\n",
       " ('зубной', 7),\n",
       " ('андрианум', 7),\n",
       " ('спирелла', 7),\n",
       " ('new', 7),\n",
       " ('стелла', 7),\n",
       " ('41', 7),\n",
       " ('60х90', 7),\n",
       " ('кокос', 7),\n",
       " ('format', 7),\n",
       " ('корыто', 7),\n",
       " ('бесшовный', 7),\n",
       " ('meiwa', 7),\n",
       " ('классик', 7),\n",
       " ('эконом', 7),\n",
       " ('эк1', 7),\n",
       " ('василиса', 7),\n",
       " ('зми', 7),\n",
       " ('антик', 7),\n",
       " ('180х180', 7),\n",
       " ('ручной', 7),\n",
       " ('бирюзовый', 7),\n",
       " ('fashion', 7),\n",
       " ('124х46', 7),\n",
       " ('5757', 7),\n",
       " ('twin', 7),\n",
       " ('rigone', 7),\n",
       " ('convert', 7),\n",
       " ('08', 7),\n",
       " ('36', 7),\n",
       " ('meliconi', 7),\n",
       " ('miss', 7),\n",
       " ('ландыш', 7),\n",
       " ('темный', 7),\n",
       " ('рябой', 7),\n",
       " ('factotum', 7),\n",
       " ('луковица', 7),\n",
       " ('март', 7),\n",
       " ('чудо', 7),\n",
       " ('44', 7),\n",
       " ('кинг', 7),\n",
       " ('satin', 7),\n",
       " ('вечноцветущий', 7),\n",
       " ('2810', 7),\n",
       " ('125х43', 7),\n",
       " ('сельдерей', 7),\n",
       " ('surprise', 7),\n",
       " ('полосатый', 7),\n",
       " ('скороспелый', 7),\n",
       " ('сахарный', 7),\n",
       " ('спрей', 7),\n",
       " ('алый', 6),\n",
       " ('вера', 6),\n",
       " ('120х42', 6),\n",
       " ('гранат', 6),\n",
       " ('мандарин', 6),\n",
       " ('450', 6),\n",
       " ('эхеверие', 6),\n",
       " ('520140', 6),\n",
       " ('интерьерный', 6),\n",
       " ('чистка', 6),\n",
       " ('elba', 6),\n",
       " ('02', 6),\n",
       " ('сб5', 6),\n",
       " ('д', 6),\n",
       " ('152', 6),\n",
       " ('towa', 6),\n",
       " ('co', 6),\n",
       " ('silver', 6),\n",
       " ('58', 6),\n",
       " ('простыня', 6),\n",
       " ('мак', 6),\n",
       " ('burstenmann', 6),\n",
       " ('220', 6),\n",
       " ('1703010', 6),\n",
       " ('стяжка', 6),\n",
       " ('цинк', 6),\n",
       " ('керамика', 6),\n",
       " (' - ', 6),\n",
       " ('mix', 6),\n",
       " ('азалия', 6),\n",
       " ('петля', 6),\n",
       " ('кофр', 6),\n",
       " ('140х50', 6),\n",
       " ('135х45', 6),\n",
       " ('0000', 6),\n",
       " ('750', 6),\n",
       " ('130', 6),\n",
       " ('st04', 6),\n",
       " ('многофункциональный', 6),\n",
       " ('ящик', 6),\n",
       " ('эльза', 6),\n",
       " ('премиум', 6),\n",
       " ('лувр', 6),\n",
       " ('микрофибры', 6),\n",
       " ('40х68', 6),\n",
       " ('120х40', 6),\n",
       " ('дизайн', 6),\n",
       " ('quadretto', 6),\n",
       " ('122х345', 6),\n",
       " ('кутюр', 6),\n",
       " ('dos', 6),\n",
       " ('оранж', 6),\n",
       " ('110', 6),\n",
       " ('уличный', 6),\n",
       " ('42', 6),\n",
       " ('радуга', 6),\n",
       " ('к', 6),\n",
       " ('130х46', 6),\n",
       " ('520', 6),\n",
       " ('медный', 6),\n",
       " ('125х42', 6),\n",
       " ('деликатный', 6),\n",
       " ('мимоза', 6),\n",
       " ('46', 6),\n",
       " ('lora', 6),\n",
       " ('hlf', 6),\n",
       " ('1000', 6),\n",
       " ('75', 6),\n",
       " ('весы', 6),\n",
       " ('004', 6),\n",
       " ('нидерланды', 6),\n",
       " ('стенка', 6),\n",
       " ('60х140', 6),\n",
       " ('эклипсы', 6),\n",
       " ('stendy', 6),\n",
       " ('1303007', 6),\n",
       " ('1840', 6),\n",
       " ('06', 6),\n",
       " ('mohawk', 6),\n",
       " ('отжим', 6),\n",
       " ('плантация', 6),\n",
       " ('d15', 6),\n",
       " ('tex', 6),\n",
       " ('кастрюля', 6),\n",
       " ('средний', 6),\n",
       " ('prisma', 6),\n",
       " ('открытка', 6),\n",
       " ('парковый', 6),\n",
       " ('h20', 6),\n",
       " ('остеоспермум', 6),\n",
       " ('изя', 6),\n",
       " ('вейв', 6),\n",
       " ('закрытый', 6),\n",
       " ('колхозница', 6),\n",
       " ('июньский', 6),\n",
       " ('экспресс', 6),\n",
       " ('крым', 6),\n",
       " ('этуаль', 6),\n",
       " ('morn', 6),\n",
       " ('регатт', 6),\n",
       " ('regatta', 6),\n",
       " ('астра', 6),\n",
       " ('медовый', 6),\n",
       " ('шалун', 6),\n",
       " ('sky', 6),\n",
       " ('пчелоопыляемый', 6),\n",
       " ('шоколадный', 6),\n",
       " ('chocolate', 6),\n",
       " ('brio', 5),\n",
       " ('130х50', 5),\n",
       " ('полимерный', 5),\n",
       " ('магнит', 5),\n",
       " ('фон', 5),\n",
       " ('natural', 5),\n",
       " ('style', 5),\n",
       " ('1860', 5),\n",
       " ('мультипласт', 5),\n",
       " ('вишня', 5),\n",
       " ('фужер', 5),\n",
       " ('вино', 5),\n",
       " ('тканевый', 5),\n",
       " ('флисовый', 5),\n",
       " ('6194', 5),\n",
       " ('кумган', 5),\n",
       " ('1408003', 5),\n",
       " ('rose', 5),\n",
       " ('металл', 5),\n",
       " ('пластхозторг', 5),\n",
       " ('series', 5),\n",
       " ('125', 5),\n",
       " ('болт', 5),\n",
       " ('ст', 5),\n",
       " ('1108354', 5),\n",
       " ('т', 5),\n",
       " ('capri', 5),\n",
       " ('jet017', 5),\n",
       " ('пружина', 5),\n",
       " ('5031', 5),\n",
       " ('мирт', 5),\n",
       " ('metalloni', 5),\n",
       " ('leonardo', 5),\n",
       " ('универсал', 5),\n",
       " ('60х100', 5),\n",
       " ('iron', 5),\n",
       " ('1404094', 5),\n",
       " ('аквамарин', 5),\n",
       " ('135х53', 5),\n",
       " ('секционный', 5),\n",
       " ('320', 5),\n",
       " ('гербера', 5),\n",
       " ('салатовый', 5),\n",
       " ('синтетический', 5),\n",
       " ('валиант', 5),\n",
       " ('грин', 5),\n",
       " ('эссенция', 5),\n",
       " ('fwm', 5),\n",
       " ('framar', 5),\n",
       " ('4062', 5),\n",
       " ('140х60', 5),\n",
       " ('abm106', 5),\n",
       " ('топ', 5),\n",
       " ('rp60', 5),\n",
       " ('1800', 5),\n",
       " ('шнур', 5),\n",
       " ('урна', 5),\n",
       " ('31', 5),\n",
       " ('nature', 5),\n",
       " ('кокосовый', 5),\n",
       " ('pegasus', 5),\n",
       " ('горох', 5),\n",
       " ('флауэр', 5),\n",
       " ('серия', 5),\n",
       " ('микрофибра', 5),\n",
       " ('decs', 5),\n",
       " ('ворсовый', 5),\n",
       " ('внп', 5),\n",
       " ('вещь', 5),\n",
       " ('лилия', 5),\n",
       " ('браун', 5),\n",
       " ('165', 5),\n",
       " ('замок', 5),\n",
       " ('воларэ', 5),\n",
       " ('1703004', 5),\n",
       " ('dinamik', 5),\n",
       " ('русский', 5),\n",
       " ('выпечка', 5),\n",
       " ('король', 5),\n",
       " ('жестяной', 5),\n",
       " ('fragmmento', 5),\n",
       " ('112х345', 5),\n",
       " ('лепесток', 5),\n",
       " ('этажерка', 5),\n",
       " ('термос', 5),\n",
       " ('бест', 5),\n",
       " ('нб', 5),\n",
       " ('thermo', 5),\n",
       " ('свч', 5),\n",
       " ('сб1г', 5),\n",
       " ('текстиль', 5),\n",
       " ('спатифиллум', 5),\n",
       " ('pasabahce', 5),\n",
       " ('2110', 5),\n",
       " ('44х24х10', 5),\n",
       " ('40х20х10', 5),\n",
       " ('36х16х10', 5),\n",
       " ('плющ', 5),\n",
       " ('донна', 5),\n",
       " ('св5', 5),\n",
       " ('подарок', 5),\n",
       " ('ауреум', 5),\n",
       " ('эппл', 5),\n",
       " ('минт', 5),\n",
       " ('оффициналис', 5),\n",
       " ('la', 5),\n",
       " ('земляника', 5),\n",
       " ('свита', 5),\n",
       " ('калла', 5),\n",
       " ('тач', 5),\n",
       " ('tachi', 5),\n",
       " ('мандариновый', 5),\n",
       " ('рукав', 5),\n",
       " ('персиколистный', 5),\n",
       " ('kona', 5),\n",
       " ('баскью', 5),\n",
       " ('поздний', 5),\n",
       " ('eyes', 5),\n",
       " ('циния', 5),\n",
       " ('роуз', 5),\n",
       " ('продюсер', 5),\n",
       " ('улыбка', 5),\n",
       " ('эфиопка', 5),\n",
       " ('нло', 5),\n",
       " ('волгоградец', 5),\n",
       " ('золотинка', 5),\n",
       " ('камнеломка', 5),\n",
       " ('apple', 5),\n",
       " ('persia', 4),\n",
       " ('5379', 4),\n",
       " ('брюки', 4),\n",
       " (': ', 4),\n",
       " (' = ', 4),\n",
       " ('star', 4),\n",
       " ('сетка', 4),\n",
       " ('многолетний', 4),\n",
       " ('фигурный', 4),\n",
       " ('ворс', 4),\n",
       " ('1801096', 4),\n",
       " ('acr042', 4),\n",
       " ('прищепок', 4),\n",
       " ('wc', 4),\n",
       " ('плед', 4),\n",
       " ('сливочный', 4),\n",
       " ('1404006', 4),\n",
       " ('латексный', 4),\n",
       " ('modular', 4),\n",
       " ('резинка', 4),\n",
       " ('bella', 4),\n",
       " ('есть', 4),\n",
       " ('кремовый', 4),\n",
       " ('квадратный', 4),\n",
       " ('разноцветный', 4),\n",
       " ('пузырек', 4),\n",
       " ('180х200см', 4),\n",
       " ('76', 4),\n",
       " ('welfull', 4),\n",
       " (' /', 4),\n",
       " ('мп', 4),\n",
       " ('дверной', 4),\n",
       " ('индик', 4),\n",
       " ('гортензия', 4),\n",
       " ('шар', 4),\n",
       " ('110х30', 4),\n",
       " ('mama', 4),\n",
       " ('гр', 4),\n",
       " ('tepмокружка', 4),\n",
       " ('avex', 4),\n",
       " ('пыль', 4),\n",
       " ('1703006', 4),\n",
       " ('em', 4),\n",
       " ('520138', 4),\n",
       " ('eva', 4),\n",
       " ('haushalt', 4),\n",
       " ('иссоп', 4),\n",
       " ('888', 4),\n",
       " ('кордан', 4),\n",
       " ('тх0252', 4),\n",
       " ('cannetto', 4),\n",
       " ('4061', 4),\n",
       " ('веник', 4),\n",
       " ('сорго', 4),\n",
       " ('шов', 4),\n",
       " ('polyline', 4),\n",
       " ('аметист', 4),\n",
       " ('6230', 4),\n",
       " ('r212522', 4),\n",
       " ('57', 4),\n",
       " ('jet001', 4),\n",
       " ('закруглять', 4),\n",
       " ...]"
      ]
     },
     "execution_count": 36,
     "metadata": {},
     "output_type": "execute_result"
    }
   ],
   "source": [
    "# Выделим леммы в значениях столбца с наименованием товара, которые пригодиться для создания словаря, \n",
    "# который будем использовать для категоризации товара.\n",
    "\n",
    "m = Mystem()\n",
    "data['lemmas'] = data['product'].apply(m.lemmatize)\n",
    "lemmas = Counter(data['lemmas'].sum()).most_common()\n",
    "lemmas"
   ]
  },
  {
   "cell_type": "markdown",
   "id": "df5d67ef",
   "metadata": {},
   "source": [
    "## Категоризация товаров"
   ]
  },
  {
   "cell_type": "code",
   "execution_count": 37,
   "id": "d2b94e2a",
   "metadata": {},
   "outputs": [],
   "source": [
    "# Создадим функцию для разбивки товаров по категориям\n",
    "\n",
    "def lemmas_category(lemmas):\n",
    "    if ('гладильный' in lemmas) or ('сушилка' in lemmas) or\\\n",
    "    ('одежда' in lemmas) or ('вешалка' in lemmas) or\\\n",
    "    ('подкладка' in lemmas) or ('подрукавник' in lemmas) or\\\n",
    "    ('обувь' in lemmas) or ('плечики' in lemmas) or\\\n",
    "    ('одежный' in lemmas) or ('обувной' in lemmas):\n",
    "        return 'Для одежды и обуви'\n",
    "    if ('пружина' in lemmas) or ('петля' in lemmas) or\\\n",
    "    ('проволочный' in lemmas) or ('инструмент' in lemmas) or\\\n",
    "    ('стремянка' in lemmas) or ('корыто' in lemmas) or\\\n",
    "    ('цинк' in lemmas) or ('строительный' in lemmas) or\\\n",
    "    ('сверло' in lemmas) or ('сварка' in lemmas) or ('стяжка' in lemmas) or\\\n",
    "    ('набор' in lemmas) or ('измерительный' in lemmas) or\\\n",
    "    ('длина' in lemmas) or ('батарейка' in lemmas) or\\\n",
    "    ('бензин' in lemmas) or ('шило' in lemmas) or\\\n",
    "    ('сметка' in lemmas) or ('уличный' in lemmas) or ('веревка' in lemmas):\n",
    "        return 'Стройка и ремонт'\n",
    "    if ('кружка' in lemmas) or ('лоток' in lemmas) or\\\n",
    "    ('сковорода' in lemmas) or ('сотейник' in lemmas) or ('салатник' in lemmas) or\\\n",
    "    ('кастрюля' in lemmas) or ('котел' in lemmas) or\\\n",
    "    ('овощеварка' in lemmas) or ('мантоварка' in lemmas) or\\\n",
    "    ('соковарка' in lemmas) or ('миска' in lemmas) or\\\n",
    "    ('противень' in lemmas) or ('нож' in lemmas) or\\\n",
    "    ('столовая' in lemmas) or ('столовый' in lemmas) or\\\n",
    "    ('чайный' in lemmas) or ('терка' in lemmas) or\\\n",
    "    ('толкушка' in lemmas) or ('тарелка' in lemmas) or\\\n",
    "    ('термокружок' in lemmas) or ('свч' in lemmas) or\\\n",
    "    ('ложка' in lemmas) or ('банка' in lemmas) or\\\n",
    "    ('крышка' in lemmas) or ('пищевой' in lemmas) or\\\n",
    "    ('овощ' in lemmas) or ('венчик' in lemmas) or\\\n",
    "    ('хлебница' in lemmas) or ('рыбочистка' in lemmas) or\\\n",
    "    ('бокал' in lemmas) or ('фужер' in lemmas) or\\\n",
    "    ('чайный' in lemmas) or ('форма' in lemmas) or\\\n",
    "    ('картофелемялка' in lemmas) or ('ножеточка' in lemmas) or\\\n",
    "    ('бутылка' in lemmas) or ('стакан' in lemmas) or\\\n",
    "    ('лезвие' in lemmas) or ('лопатка' in lemmas) or\\\n",
    "    ('ковш' in lemmas) or ('разделочный' in lemmas) or\\\n",
    "    ('термос' in lemmas) or ('сито' in lemmas) or\\\n",
    "    ('плита' in lemmas) or ('пресс' in lemmas):\n",
    "        return 'Посуда'\n",
    "    if ('чайник' in lemmas) and ('эмалированный' in lemmas) or ('заварочный' in lemmas):\n",
    "        return 'Посуда'\n",
    "    if ('покрывало' in lemmas) or ('хлопок' in lemmas) or\\\n",
    "    ('салфетка' in lemmas) or ('одеяло' in lemmas) or\\\n",
    "    ('полотенце' in lemmas) or ('подушка' in lemmas) or\\\n",
    "    ('скатерть' in lemmas) or ('плед' in lemmas) or ('халат' in lemmas):\n",
    "        return 'Текстиль'\n",
    "    if ('электрический' in lemmas) or ('миксер' in lemmas) or\\\n",
    "    ('фен' in lemmas) or ('паровой' in lemmas) or\\\n",
    "    ('пылесос' in lemmas) or ('весы' in lemmas) or\\\n",
    "    ('светильник' in lemmas):\n",
    "        return 'Бытовая техника'\n",
    "    if ('сумка' in lemmas) or ('тележка' in lemmas) or\\\n",
    "    ('кофр' in lemmas) or ('хранение' in lemmas) or\\\n",
    "    ('ящик' in lemmas) or ('коробка' in lemmas) or\\\n",
    "    ('корзина' in lemmas) or ('контейнер' in lemmas) or\\\n",
    "    ('таз' in lemmas) or ('полка' in lemmas) or ('комод' in lemmas):\n",
    "        return 'Хранение'\n",
    "    if ('цветок' in lemmas) and ('искусственный' in lemmas) or\\\n",
    "    ('композиция' in lemmas) or ('подарочный' in lemmas) or\\\n",
    "    ('открытка' in lemmas) or ('упаковка' in lemmas) or\\\n",
    "    ('новогодний' in lemmas) or ('картина' in lemmas) or\\\n",
    "    ('фотография' in lemmas) or ('муляж' in lemmas):\n",
    "        return 'Декор и подарки'\n",
    "    if ('рассада' in lemmas) and ('зелень' in lemmas) or ('томат' in lemmas) or\\\n",
    "    ('капуста' in lemmas) or ('перец' in lemmas) or ('огурец' in lemmas) or\\\n",
    "    ('тыква' in lemmas) or ('кабачок' in lemmas) or\\\n",
    "    ('клубника' in lemmas) or ('арбуз' in lemmas) or\\\n",
    "    ('дыня' in lemmas) or ('патиссон' in lemmas) or\\\n",
    "    ('баклажан' in lemmas) or ('земляника' in lemmas) or\\\n",
    "    ('морковь' in lemmas) or ('петрушка' in lemmas) or\\\n",
    "    ('цветок' in lemmas) and ('рассада' in lemmas) or\\\n",
    "    ('однолетний' in lemmas) or ('многолетний' in lemmas) or\\\n",
    "    ('петуния' in lemmas) or ('черенок' in lemmas) or ('крупноцветковый' in lemmas) or\\\n",
    "    ('цвести' in lemmas) or ('садовый' in lemmas) or ('объем' in lemmas) or\\\n",
    "    ('растение' in lemmas) and ('комнатный' in lemmas) or\\\n",
    "    ('домашний' in lemmas) or ('горшок' in lemmas) or\\\n",
    "    ('кашпо' in lemmas) or ('пеларгония' in lemmas) or ('d' in lemmas) or\\\n",
    "    ('пряный' in lemmas) or ('лекарственный' in lemmas) or ('кассета' in lemmas):\n",
    "        return 'Сад и огород'\n",
    "    if ('d' in lemmas) and ('вантуз' in lemmas) or\\\n",
    "    ('d' in lemmas) and ('щетка' in lemmas) or\\\n",
    "    ('d' in lemmas) and ('чехол' in lemmas) or\\\n",
    "    ('d' in lemmas) and ('коврик' in lemmas) or\\\n",
    "    ('d' in lemmas) and ('средство' in lemmas):\n",
    "        return 'Для уборки'\n",
    "    if ('ванный' in lemmas) or ('ванна' in lemmas) or ('ванная' in lemmas) or\\\n",
    "    ('туалет' in lemmas) or ('туалетный' in lemmas) or\\\n",
    "    ('унитазный' in lemmas) or ('унитаз' in lemmas) or\\\n",
    "    ('белье' in lemmas) or ('стиральный' in lemmas) or\\\n",
    "    ('коврик' in lemmas) or ('ковер' in lemmas) or ('вантуз' in lemmas) or\\\n",
    "    ('посуда' in lemmas) or ('мытье' in lemmas) or ('чистка' in lemmas) or\\\n",
    "    ('щетка' in lemmas) or ('мыло' in lemmas) or ('швабра' in lemmas) or\\\n",
    "    ('зубной' in lemmas) or ('кухонный' in lemmas) or\\\n",
    "    ('круглый' in lemmas) or ('чистить' in lemmas) or\\\n",
    "    ('перчатка' in lemmas) or ('деревянный' in lemmas) or\\\n",
    "    ('тряпка' in lemmas) or ('скребок' in lemmas) or\\\n",
    "    ('ведро' in lemmas) or ('карниз' in lemmas) or\\\n",
    "    ('совок' in lemmas) or ('губка' in lemmas) or\\\n",
    "    ('антижир' in lemmas) or ('кольцо') or\\\n",
    "    ('мл' in lemmas) or ('чехол' in lemmas) or\\\n",
    "    ('придверный' in lemmas) or ('средство' in lemmas):\n",
    "        return 'Для чистоты и уборки'\n",
    "    \n",
    "data['product_category'] = data['lemmas'].apply(lemmas_category)"
   ]
  },
  {
   "cell_type": "markdown",
   "id": "b37f9bf2",
   "metadata": {},
   "source": [
    "## Распределение товаров по категориям"
   ]
  },
  {
   "cell_type": "code",
   "execution_count": 38,
   "id": "0972339a",
   "metadata": {},
   "outputs": [
    {
     "data": {
      "text/html": [
       "<div>\n",
       "<style scoped>\n",
       "    .dataframe tbody tr th:only-of-type {\n",
       "        vertical-align: middle;\n",
       "    }\n",
       "\n",
       "    .dataframe tbody tr th {\n",
       "        vertical-align: top;\n",
       "    }\n",
       "\n",
       "    .dataframe thead th {\n",
       "        text-align: right;\n",
       "    }\n",
       "</style>\n",
       "<table border=\"1\" class=\"dataframe\">\n",
       "  <thead>\n",
       "    <tr style=\"text-align: right;\">\n",
       "      <th></th>\n",
       "      <th>category</th>\n",
       "      <th>products</th>\n",
       "      <th>ratio</th>\n",
       "    </tr>\n",
       "  </thead>\n",
       "  <tbody>\n",
       "    <tr>\n",
       "      <th>5</th>\n",
       "      <td>Сад и огород</td>\n",
       "      <td>2353</td>\n",
       "      <td>49.2%</td>\n",
       "    </tr>\n",
       "    <tr>\n",
       "      <th>2</th>\n",
       "      <td>Для одежды и обуви</td>\n",
       "      <td>584</td>\n",
       "      <td>12.2%</td>\n",
       "    </tr>\n",
       "    <tr>\n",
       "      <th>3</th>\n",
       "      <td>Для чистоты и уборки</td>\n",
       "      <td>520</td>\n",
       "      <td>10.9%</td>\n",
       "    </tr>\n",
       "    <tr>\n",
       "      <th>8</th>\n",
       "      <td>Хранение</td>\n",
       "      <td>437</td>\n",
       "      <td>9.1%</td>\n",
       "    </tr>\n",
       "    <tr>\n",
       "      <th>4</th>\n",
       "      <td>Посуда</td>\n",
       "      <td>323</td>\n",
       "      <td>6.8%</td>\n",
       "    </tr>\n",
       "    <tr>\n",
       "      <th>1</th>\n",
       "      <td>Декор и подарки</td>\n",
       "      <td>297</td>\n",
       "      <td>6.2%</td>\n",
       "    </tr>\n",
       "    <tr>\n",
       "      <th>6</th>\n",
       "      <td>Стройка и ремонт</td>\n",
       "      <td>153</td>\n",
       "      <td>3.2%</td>\n",
       "    </tr>\n",
       "    <tr>\n",
       "      <th>7</th>\n",
       "      <td>Текстиль</td>\n",
       "      <td>92</td>\n",
       "      <td>1.9%</td>\n",
       "    </tr>\n",
       "    <tr>\n",
       "      <th>0</th>\n",
       "      <td>Бытовая техника</td>\n",
       "      <td>25</td>\n",
       "      <td>0.5%</td>\n",
       "    </tr>\n",
       "  </tbody>\n",
       "</table>\n",
       "</div>"
      ],
      "text/plain": [
       "               category  products  ratio\n",
       "5          Сад и огород      2353  49.2%\n",
       "2    Для одежды и обуви       584  12.2%\n",
       "3  Для чистоты и уборки       520  10.9%\n",
       "8              Хранение       437   9.1%\n",
       "4                Посуда       323   6.8%\n",
       "1       Декор и подарки       297   6.2%\n",
       "6      Стройка и ремонт       153   3.2%\n",
       "7              Текстиль        92   1.9%\n",
       "0       Бытовая техника        25   0.5%"
      ]
     },
     "metadata": {},
     "output_type": "display_data"
    }
   ],
   "source": [
    "# Выведем статистику по категориям товарного ассортимента.\n",
    "data_category = data.groupby('product_category').agg({'product':'count'}).reset_index()\n",
    "data_category.columns = ['category', 'products']\n",
    "\n",
    "data_category['ratio'] = ((data_category['products'] / len(data))*100).round(1).astype('str')+'%'\n",
    "display(data_category.sort_values(by='products', ascending = False))"
   ]
  },
  {
   "cell_type": "code",
   "execution_count": 39,
   "id": "427d64c5",
   "metadata": {},
   "outputs": [
    {
     "data": {
      "image/png": "[encoded data removed]",
      "text/plain": [
       "<Figure size 720x720 with 1 Axes>"
      ]
     },
     "metadata": {},
     "output_type": "display_data"
    }
   ],
   "source": [
    "# построим диаграмму распределения товаров по категориям\n",
    "\n",
    "plt.figure(figsize = (10, 10))\n",
    "plt.pie(data_category['products'], labels=data_category['category'], autopct='%.1f%%', explode=[0.01]*9,\\\n",
    "        )\n",
    "plt.title('Рис.8 Уникальные заказы', fontsize=14)\n",
    "\n",
    "plt.show()"
   ]
  },
  {
   "cell_type": "markdown",
   "id": "c7250e85",
   "metadata": {},
   "source": [
    "__Вывод:__\n",
    "\n",
    "  - почти 50% или 2 353 заказа приходится на категорию \"Сад и огород\"\n",
    "  - менее 1% или 25 заказ приходится на категорию \"бытовая техника\""
   ]
  },
  {
   "cell_type": "markdown",
   "id": "7a2e187c",
   "metadata": {},
   "source": [
    "## Средняя стоимость товаров по категориям"
   ]
  },
  {
   "cell_type": "code",
   "execution_count": 40,
   "id": "923ca8dc",
   "metadata": {
    "scrolled": false
   },
   "outputs": [
    {
     "data": {
      "image/png": "[encoded data removed]",
      "text/plain": [
       "<Figure size 720x576 with 1 Axes>"
      ]
     },
     "metadata": {
      "needs_background": "light"
     },
     "output_type": "display_data"
    }
   ],
   "source": [
    "plt.figure(figsize=(10, 8))\n",
    "sns.barplot(data=data, y='product_category', x='price')\n",
    "plt.xlabel('Цена')\n",
    "plt.ylabel('')\n",
    "plt.title('Рис.9 Средняя стоимость товаров по категориям')\n",
    "plt.show()"
   ]
  },
  {
   "cell_type": "markdown",
   "id": "77d1189a",
   "metadata": {},
   "source": [
    "__Вывод:__\n",
    "\n",
    "__В ходе анализа выделили 9 категорий товаров:__\n",
    "\n",
    "    - Сад и огород\n",
    "    - Для одежды и обуви\n",
    "    - Для чистоты и уборки\n",
    "    - Хранение\n",
    "    - Посуда\n",
    "    - Декор и подарки\n",
    "    - Стройка и ремонт\n",
    "    - Текстиль\n",
    "    - Бытовая техника\n",
    "\n",
    "  - почти 50% или 2 353 заказа приходится на категорию \"Сад и огород\", менее 1% или 25 заказов приходится на категорию \"бытовая техника\"\n",
    "  - наибольшая средняя стоимость в категории \"Хранение\", наименьшая в категории \"Декор и подарки\""
   ]
  },
  {
   "cell_type": "markdown",
   "id": "2d151401",
   "metadata": {},
   "source": [
    "# Сегментация покупателей "
   ]
  },
  {
   "cell_type": "markdown",
   "id": "6c0b2e64",
   "metadata": {},
   "source": [
    "## Пользовательская активность"
   ]
  },
  {
   "cell_type": "code",
   "execution_count": 41,
   "id": "d0115c28",
   "metadata": {},
   "outputs": [
    {
     "name": "stdout",
     "output_type": "stream",
     "text": [
      "Среднее количество уникальных пользователей в день: 6 человек.\n",
      "Среднее количество уникальных пользователей в неделю: 48 человек.\n",
      "Среднее количество уникальных пользователей в месяц: 203 человек.\n"
     ]
    }
   ],
   "source": [
    "dau_total = data.groupby('date').agg({'customer_id':'nunique'}).mean()\n",
    "wau_total = data.groupby('week').agg({'customer_id':'nunique'}).mean()\n",
    "mau_total = data.groupby('month').agg({'customer_id':'nunique'}).mean()\n",
    "\n",
    "print('Среднее количество уникальных пользователей в день: {} человек.'.format(int(dau_total)))\n",
    "print('Среднее количество уникальных пользователей в неделю: {} человек.'.format(int(wau_total)))\n",
    "print('Среднее количество уникальных пользователей в месяц: {} человек.'.format(int(mau_total)))"
   ]
  },
  {
   "cell_type": "code",
   "execution_count": 42,
   "id": "e85ebd71",
   "metadata": {},
   "outputs": [
    {
     "data": {
      "image/png": "[encoded data removed]",
      "text/plain": [
       "<Figure size 1440x648 with 1 Axes>"
      ]
     },
     "metadata": {
      "needs_background": "light"
     },
     "output_type": "display_data"
    }
   ],
   "source": [
    "# График кол-ва изменения уникальных пользователей за период исследования\n",
    "data.groupby(['year', 'month']).agg({'customer_id':'nunique'}).plot(figsize=(20, 9), legend=False)\n",
    "plt.title('Количество уникальных пользователей в месяц',fontsize=20)\n",
    "plt.xlabel('Год, Месяц',fontsize=14)\n",
    "plt.ylabel('Кол-во уникальных пользователей',fontsize=14)\n",
    "plt.show()"
   ]
  },
  {
   "cell_type": "markdown",
   "id": "aeb851d2",
   "metadata": {},
   "source": [
    "__Вывод:__\n",
    "\n",
    "С февраля-апрель и в декабре наибольшая пользовательская активность. В январе и июне количество пользователей резко падает. Вероятно это связано с периодом праздничных и отпускных дней. Клиенты либо уже приобрели все необходимое, либо предпочтут офлайн магазин для более скорого результата."
   ]
  },
  {
   "cell_type": "markdown",
   "id": "66b9ba8d",
   "metadata": {},
   "source": [
    "## Сегментация на основе машинного обучения"
   ]
  },
  {
   "cell_type": "code",
   "execution_count": 43,
   "id": "04cba7a6",
   "metadata": {},
   "outputs": [],
   "source": [
    "# выделяем кластеры\n",
    "data_clust_copy = data.copy(deep=True)\n",
    "data_clust_copy.loc[:, 'test_column'] = 1\n",
    "data_clust = data_clust_copy.pivot_table(index = 'customer_id', columns = 'product_category',\\\n",
    "                values='test_column', aggfunc='mean').reset_index().fillna(0)\n",
    "\n",
    "# Разделим наши данные на признаки (матрица X) и целевую переменную (y).\n",
    "X = data_clust.drop('customer_id', axis=1)\n",
    "y = data_clust['customer_id']\n",
    "\n",
    "#Разделяем модель на обучающую и валидационную выборку.\n",
    "X_train, X_test, y_train, y_test = train_test_split(X, y, test_size=0.2, random_state = 0)"
   ]
  },
  {
   "cell_type": "code",
   "execution_count": 44,
   "id": "434bdd56",
   "metadata": {},
   "outputs": [],
   "source": [
    "# стандартизация данных\n",
    "sc = StandardScaler()\n",
    "X_sc = sc.fit_transform(X)\n",
    "\n",
    "#Построение матрицы расстояний\n",
    "linked = linkage(X_sc, method = 'ward')"
   ]
  },
  {
   "cell_type": "code",
   "execution_count": 45,
   "id": "172bec7d",
   "metadata": {},
   "outputs": [
    {
     "data": {
      "image/png": "[encoded data removed]",
      "text/plain": [
       "<Figure size 1080x504 with 1 Axes>"
      ]
     },
     "metadata": {
      "needs_background": "light"
     },
     "output_type": "display_data"
    }
   ],
   "source": [
    "# строим дендограму\n",
    "plt.figure(figsize=(15, 7))  \n",
    "dendrogram(linked, orientation='top',\n",
    "           truncate_mode='lastp',   \n",
    "           p=30,   \n",
    "           leaf_rotation=0,\n",
    "           leaf_font_size=9)     \n",
    "plt.title('K-Means кластеризация. Дендрограмма', size=15)\n",
    "plt.show()"
   ]
  },
  {
   "cell_type": "markdown",
   "id": "acbc1340",
   "metadata": {},
   "source": [
    "Исходя из дендограммы выделим 9 кластеров: столько же, сколько категорий товаров."
   ]
  },
  {
   "cell_type": "code",
   "execution_count": 46,
   "id": "c63176b4",
   "metadata": {},
   "outputs": [],
   "source": [
    "km = KMeans(n_clusters = 9, random_state=0) # задаём число кластеров, равное 9\n",
    "labels = km.fit_predict(X_sc) # применяем алгоритм к данным и формируем вектор кластеров\n",
    "\n",
    "# сохраняем метки кластера в поле нашего датасета\n",
    "data_clust['cluster_km'] = labels\n",
    "\n",
    "clusters = data_clust.groupby('cluster_km').mean().T.iloc[:9]"
   ]
  },
  {
   "cell_type": "code",
   "execution_count": 47,
   "id": "efcba3b5",
   "metadata": {},
   "outputs": [
    {
     "data": {
      "image/png": "[encoded data removed]",
      "text/plain": [
       "<Figure size 720x576 with 2 Axes>"
      ]
     },
     "metadata": {
      "needs_background": "light"
     },
     "output_type": "display_data"
    }
   ],
   "source": [
    "plt.figure(figsize = (10, 8))\n",
    "plt.title('Процент покупателей в кластерах с товарами различных категорий', size = 12)\n",
    "sns_plot = sns.heatmap(clusters, annot=True, fmt='.2%', \n",
    "                      linewidth=1, linecolor='black', vmax=1, center=0, cmap='Blues')\n",
    "fig = sns_plot.get_figure()\n",
    "plt.xlabel('Номер кластера')\n",
    "plt.ylabel('Наименование категорий')\n",
    "plt.show()"
   ]
  },
  {
   "cell_type": "markdown",
   "id": "4982e6b5",
   "metadata": {},
   "source": [
    "По графику видим, что для каждого кластера характерна определенная категория товаров. Присвоим каждому кластеру свою категорию товаров."
   ]
  },
  {
   "cell_type": "code",
   "execution_count": 48,
   "id": "51268729",
   "metadata": {},
   "outputs": [
    {
     "data": {
      "text/html": [
       "<div>\n",
       "<style scoped>\n",
       "    .dataframe tbody tr th:only-of-type {\n",
       "        vertical-align: middle;\n",
       "    }\n",
       "\n",
       "    .dataframe tbody tr th {\n",
       "        vertical-align: top;\n",
       "    }\n",
       "\n",
       "    .dataframe thead th {\n",
       "        text-align: right;\n",
       "    }\n",
       "</style>\n",
       "<table border=\"1\" class=\"dataframe\">\n",
       "  <thead>\n",
       "    <tr style=\"text-align: right;\">\n",
       "      <th></th>\n",
       "      <th>cluster_km</th>\n",
       "      <th>category</th>\n",
       "    </tr>\n",
       "  </thead>\n",
       "  <tbody>\n",
       "    <tr>\n",
       "      <th>0</th>\n",
       "      <td>0</td>\n",
       "      <td>Сад и огород</td>\n",
       "    </tr>\n",
       "    <tr>\n",
       "      <th>1</th>\n",
       "      <td>1</td>\n",
       "      <td>Для одежды и обуви</td>\n",
       "    </tr>\n",
       "    <tr>\n",
       "      <th>2</th>\n",
       "      <td>2</td>\n",
       "      <td>Хранение</td>\n",
       "    </tr>\n",
       "    <tr>\n",
       "      <th>3</th>\n",
       "      <td>3</td>\n",
       "      <td>Текстиль</td>\n",
       "    </tr>\n",
       "    <tr>\n",
       "      <th>4</th>\n",
       "      <td>4</td>\n",
       "      <td>Посуда</td>\n",
       "    </tr>\n",
       "    <tr>\n",
       "      <th>5</th>\n",
       "      <td>5</td>\n",
       "      <td>Декор и подарки</td>\n",
       "    </tr>\n",
       "    <tr>\n",
       "      <th>6</th>\n",
       "      <td>6</td>\n",
       "      <td>Стройка и ремонт</td>\n",
       "    </tr>\n",
       "    <tr>\n",
       "      <th>7</th>\n",
       "      <td>7</td>\n",
       "      <td>Для чистоты и уборки</td>\n",
       "    </tr>\n",
       "    <tr>\n",
       "      <th>8</th>\n",
       "      <td>8</td>\n",
       "      <td>Бытовая техника</td>\n",
       "    </tr>\n",
       "  </tbody>\n",
       "</table>\n",
       "</div>"
      ],
      "text/plain": [
       "   cluster_km              category\n",
       "0           0          Сад и огород\n",
       "1           1    Для одежды и обуви\n",
       "2           2              Хранение\n",
       "3           3              Текстиль\n",
       "4           4                Посуда\n",
       "5           5       Декор и подарки\n",
       "6           6      Стройка и ремонт\n",
       "7           7  Для чистоты и уборки\n",
       "8           8       Бытовая техника"
      ]
     },
     "execution_count": 48,
     "metadata": {},
     "output_type": "execute_result"
    }
   ],
   "source": [
    "cluster_cat = pd.DataFrame()\n",
    "categories = ['Сад и огород', 'Для одежды и обуви', 'Хранение', 'Текстиль',\n",
    "       'Посуда', 'Декор и подарки', 'Стройка и ремонт',\n",
    "       'Для чистоты и уборки', 'Бытовая техника']\n",
    "for i, category in zip(range(0,9), categories):\n",
    "    cluster_cat.loc[i, 'category'] = category\n",
    "cluster_cat = cluster_cat.reset_index()\n",
    "cluster_cat.columns = ['cluster_km', 'category']\n",
    "cluster_cat"
   ]
  },
  {
   "cell_type": "markdown",
   "id": "2c7bc7c8",
   "metadata": {},
   "source": [
    "__Вывод:__\n",
    "\n",
    "Получили 9 кластеров, для каждого из которых характерна определенная категория товаров, что означает каждый из покупателей одного кластера хотя бы один раз купил данную категорию товара. По некоторым кластерам хорошо видно, что пользователи по мимо основной категории товаров, покупают с разной интенсивностью товары других категорий."
   ]
  },
  {
   "cell_type": "markdown",
   "id": "deb45bd9",
   "metadata": {},
   "source": [
    "## Сравнение поведения покупателей из разных кластеров"
   ]
  },
  {
   "cell_type": "code",
   "execution_count": 49,
   "id": "367c1ef6",
   "metadata": {},
   "outputs": [],
   "source": [
    "# Соединим первоначальный датафрейм с датафреймом с кластерами по столбцу customer_id.\n",
    "data = data.merge(data_clust, left_on='customer_id', right_on='customer_id')"
   ]
  },
  {
   "cell_type": "code",
   "execution_count": 50,
   "id": "bc89b11b",
   "metadata": {},
   "outputs": [],
   "source": [
    "#Сгруппируем получившуюся таблицу по кластерам и найдем метрики: среднее количество заказов, среднее количество \n",
    "# купленных товаров на одного покупателя, средний чек, суммарную выручку.\n",
    "\n",
    "orders_filt_clust = data.groupby('cluster_km').agg({'customer_id':'nunique', 'order_id':'nunique',\\\n",
    "                    'product':'count', 'quantity':'sum', 'price':'mean','revenue':'sum'}).reset_index()\\\n",
    "       .rename(columns={'customer_id':'n_buyers', 'order_id':'n_orders', 'product':'cnt_products_in_order', \n",
    "                               'quantity':'cnt_goods_in_order','price':'avg_price','revenue':'total__revenue'})\n",
    "# добавим столбцы \n",
    "orders_filt_clust['avg_orders_per_buyer'] = round(orders_filt_clust['n_orders']/\\\n",
    "                                                  orders_filt_clust['n_buyers'],0)\n",
    "orders_filt_clust['avg_bill'] = orders_filt_clust['total__revenue'] / orders_filt_clust['n_orders']\n",
    "orders_filt_clust['avg_goods_per_buyer'] = round(orders_filt_clust['cnt_goods_in_order'] /\\\n",
    "                                                 orders_filt_clust['n_buyers'], 0)"
   ]
  },
  {
   "cell_type": "code",
   "execution_count": 51,
   "id": "098786ea",
   "metadata": {
    "scrolled": false
   },
   "outputs": [
    {
     "data": {
      "image/png": "[encoded data removed]",
      "text/plain": [
       "<Figure size 1440x1224 with 9 Axes>"
      ]
     },
     "metadata": {
      "needs_background": "light"
     },
     "output_type": "display_data"
    },
    {
     "data": {
      "text/html": [
       "<div>\n",
       "<style scoped>\n",
       "    .dataframe tbody tr th:only-of-type {\n",
       "        vertical-align: middle;\n",
       "    }\n",
       "\n",
       "    .dataframe tbody tr th {\n",
       "        vertical-align: top;\n",
       "    }\n",
       "\n",
       "    .dataframe thead th {\n",
       "        text-align: right;\n",
       "    }\n",
       "</style>\n",
       "<table border=\"1\" class=\"dataframe\">\n",
       "  <thead>\n",
       "    <tr style=\"text-align: right;\">\n",
       "      <th></th>\n",
       "      <th>cluster_km</th>\n",
       "      <th>n_buyers</th>\n",
       "      <th>n_orders</th>\n",
       "      <th>cnt_products_in_order</th>\n",
       "      <th>cnt_goods_in_order</th>\n",
       "      <th>avg_price</th>\n",
       "      <th>total__revenue</th>\n",
       "      <th>avg_orders_per_buyer</th>\n",
       "      <th>avg_bill</th>\n",
       "      <th>avg_goods_per_buyer</th>\n",
       "    </tr>\n",
       "  </thead>\n",
       "  <tbody>\n",
       "    <tr>\n",
       "      <th>4</th>\n",
       "      <td>4</td>\n",
       "      <td>365</td>\n",
       "      <td>388</td>\n",
       "      <td>766</td>\n",
       "      <td>2839</td>\n",
       "      <td>444.575718</td>\n",
       "      <td>1126401.0</td>\n",
       "      <td>1.0</td>\n",
       "      <td>2903.095361</td>\n",
       "      <td>8.0</td>\n",
       "    </tr>\n",
       "    <tr>\n",
       "      <th>3</th>\n",
       "      <td>3</td>\n",
       "      <td>361</td>\n",
       "      <td>380</td>\n",
       "      <td>392</td>\n",
       "      <td>504</td>\n",
       "      <td>1760.280612</td>\n",
       "      <td>762065.0</td>\n",
       "      <td>1.0</td>\n",
       "      <td>2005.434211</td>\n",
       "      <td>1.0</td>\n",
       "    </tr>\n",
       "    <tr>\n",
       "      <th>2</th>\n",
       "      <td>2</td>\n",
       "      <td>451</td>\n",
       "      <td>474</td>\n",
       "      <td>495</td>\n",
       "      <td>1512</td>\n",
       "      <td>1028.094949</td>\n",
       "      <td>660521.0</td>\n",
       "      <td>1.0</td>\n",
       "      <td>1393.504219</td>\n",
       "      <td>3.0</td>\n",
       "    </tr>\n",
       "    <tr>\n",
       "      <th>1</th>\n",
       "      <td>1</td>\n",
       "      <td>571</td>\n",
       "      <td>641</td>\n",
       "      <td>1978</td>\n",
       "      <td>2946</td>\n",
       "      <td>148.885743</td>\n",
       "      <td>413293.0</td>\n",
       "      <td>1.0</td>\n",
       "      <td>644.762871</td>\n",
       "      <td>5.0</td>\n",
       "    </tr>\n",
       "    <tr>\n",
       "      <th>0</th>\n",
       "      <td>0</td>\n",
       "      <td>78</td>\n",
       "      <td>121</td>\n",
       "      <td>178</td>\n",
       "      <td>733</td>\n",
       "      <td>751.870787</td>\n",
       "      <td>300763.0</td>\n",
       "      <td>2.0</td>\n",
       "      <td>2485.644628</td>\n",
       "      <td>9.0</td>\n",
       "    </tr>\n",
       "    <tr>\n",
       "      <th>7</th>\n",
       "      <td>7</td>\n",
       "      <td>119</td>\n",
       "      <td>125</td>\n",
       "      <td>172</td>\n",
       "      <td>1099</td>\n",
       "      <td>987.244186</td>\n",
       "      <td>270749.0</td>\n",
       "      <td>1.0</td>\n",
       "      <td>2165.992000</td>\n",
       "      <td>9.0</td>\n",
       "    </tr>\n",
       "    <tr>\n",
       "      <th>8</th>\n",
       "      <td>8</td>\n",
       "      <td>18</td>\n",
       "      <td>161</td>\n",
       "      <td>184</td>\n",
       "      <td>407</td>\n",
       "      <td>962.309783</td>\n",
       "      <td>205074.0</td>\n",
       "      <td>9.0</td>\n",
       "      <td>1273.751553</td>\n",
       "      <td>23.0</td>\n",
       "    </tr>\n",
       "    <tr>\n",
       "      <th>6</th>\n",
       "      <td>6</td>\n",
       "      <td>238</td>\n",
       "      <td>253</td>\n",
       "      <td>320</td>\n",
       "      <td>1048</td>\n",
       "      <td>335.137500</td>\n",
       "      <td>197177.0</td>\n",
       "      <td>1.0</td>\n",
       "      <td>779.355731</td>\n",
       "      <td>4.0</td>\n",
       "    </tr>\n",
       "    <tr>\n",
       "      <th>5</th>\n",
       "      <td>5</td>\n",
       "      <td>192</td>\n",
       "      <td>211</td>\n",
       "      <td>299</td>\n",
       "      <td>2337</td>\n",
       "      <td>110.926421</td>\n",
       "      <td>132112.0</td>\n",
       "      <td>1.0</td>\n",
       "      <td>626.123223</td>\n",
       "      <td>12.0</td>\n",
       "    </tr>\n",
       "  </tbody>\n",
       "</table>\n",
       "</div>"
      ],
      "text/plain": [
       "   cluster_km  n_buyers  n_orders  cnt_products_in_order  cnt_goods_in_order  \\\n",
       "4           4       365       388                    766                2839   \n",
       "3           3       361       380                    392                 504   \n",
       "2           2       451       474                    495                1512   \n",
       "1           1       571       641                   1978                2946   \n",
       "0           0        78       121                    178                 733   \n",
       "7           7       119       125                    172                1099   \n",
       "8           8        18       161                    184                 407   \n",
       "6           6       238       253                    320                1048   \n",
       "5           5       192       211                    299                2337   \n",
       "\n",
       "     avg_price  total__revenue  avg_orders_per_buyer     avg_bill  \\\n",
       "4   444.575718       1126401.0                   1.0  2903.095361   \n",
       "3  1760.280612        762065.0                   1.0  2005.434211   \n",
       "2  1028.094949        660521.0                   1.0  1393.504219   \n",
       "1   148.885743        413293.0                   1.0   644.762871   \n",
       "0   751.870787        300763.0                   2.0  2485.644628   \n",
       "7   987.244186        270749.0                   1.0  2165.992000   \n",
       "8   962.309783        205074.0                   9.0  1273.751553   \n",
       "6   335.137500        197177.0                   1.0   779.355731   \n",
       "5   110.926421        132112.0                   1.0   626.123223   \n",
       "\n",
       "   avg_goods_per_buyer  \n",
       "4                  8.0  \n",
       "3                  1.0  \n",
       "2                  3.0  \n",
       "1                  5.0  \n",
       "0                  9.0  \n",
       "7                  9.0  \n",
       "8                 23.0  \n",
       "6                  4.0  \n",
       "5                 12.0  "
      ]
     },
     "execution_count": 51,
     "metadata": {},
     "output_type": "execute_result"
    }
   ],
   "source": [
    "# визуализируем распределение метрика по кластерам\n",
    "WIDTH = 3\n",
    "plot_amount = len(orders_filt_clust.columns)\n",
    "height = plot_amount//WIDTH\n",
    "\n",
    "fig, axs = plt.subplots(height, WIDTH, figsize=(20, 17))\n",
    "fig.suptitle('Графики метрик по категориям',  y=1.003, size=20)\n",
    "\n",
    "for item, ax in zip(orders_filt_clust.columns[1:], np.ravel(axs)):\n",
    "    sns.barplot(data = orders_filt_clust, x='cluster_km', y=item, ax=ax)\n",
    "    ax.set_title(item.capitalize().replace('_', ' '), size=12)\n",
    "plt.tight_layout()\n",
    "plt.show()\n",
    "orders_filt_clust.sort_values(by='total__revenue',ascending = False)"
   ]
  },
  {
   "cell_type": "markdown",
   "id": "2110c916",
   "metadata": {},
   "source": [
    "__Вывод:__\n",
    "\n",
    "__Выделим ТОП 3 в основных метриках:__\n",
    "\n",
    "__Количество покупателей:__\n",
    "\n",
    "- Кластер 1 \"Для одеждый и обуви\" - 571\n",
    "- Кластер 2 \"Хранение\" - 451\n",
    "- Кластер 4,3 - \"Посуда\", \"Текстиль\" - 361-365\n",
    "\n",
    "__Количество позиций в заказе:__\n",
    "\n",
    "- Кластер 1 \"Для одеждый и обуви\" - 2 936\n",
    "- Кластер 4 \"Посуда\" - 2 839\n",
    "- Кластер 5 - \"Декор и подарки\" - 2 337\n",
    "\n",
    "\n",
    "__Средняя цена:__\n",
    "\n",
    "- Кластер 3 \"Текстиль\" - 1 760\n",
    "- Кластер 2 \"Хранение\" - 1 028\n",
    "- Кластер 7 - \"Для чистоты и уборки\" - 987\n",
    "\n",
    "__Суммарная выручка:__\n",
    "\n",
    "- Кластер 4 \"Посуда\" -1 126 401\n",
    "- Кластер 3 \"Текстиль\" - 762 065\n",
    "- Кластер 2 - \"Хранение\" - 660 521\n",
    "\n",
    "Кластеры 4,2,3 наиболее перспективные почти по всем показателям. "
   ]
  },
  {
   "cell_type": "markdown",
   "id": "e808ce97",
   "metadata": {},
   "source": [
    "# Статистический анализ данных. Проеверка гиппотез "
   ]
  },
  {
   "cell_type": "markdown",
   "id": "b605112f",
   "metadata": {},
   "source": [
    "Считаем статистическую значимость различий в среднем чеке заказа между сегментами покупателей."
   ]
  },
  {
   "cell_type": "markdown",
   "id": "6d1103bf",
   "metadata": {},
   "source": [
    "__Гипотезы:__\n",
    "\n",
    "`Нулевая гипотеза H0` - значимые различия между сравниваемыми выборками отсутствуют\n",
    "\n",
    "`Альтернативная гипотеза H1` - значимые различия между сравниваемыми выборками есть\n",
    "\n",
    "Критический уровень статистической значимости: Alpha = 0.05 В дальнейшем мы будем корректировать критический уровень статистической значимости используя поправку Шидака для случая множественной проверки гипотез."
   ]
  },
  {
   "cell_type": "markdown",
   "id": "6e58dcc7",
   "metadata": {},
   "source": [
    "Для большего удобства сгруппируем данные по кластерам и id пользователей для нахождения значимых различий в среднем чеке между выборками."
   ]
  },
  {
   "cell_type": "code",
   "execution_count": 52,
   "id": "afb5b13a",
   "metadata": {},
   "outputs": [],
   "source": [
    "orders = data.groupby(['customer_id', 'cluster_km']).agg({'revenue':'mean'}).reset_index()"
   ]
  },
  {
   "cell_type": "code",
   "execution_count": 53,
   "id": "975c96ea",
   "metadata": {},
   "outputs": [
    {
     "name": "stdout",
     "output_type": "stream",
     "text": [
      "[(2, 3), (2, 4), (3, 4)]\n"
     ]
    }
   ],
   "source": [
    "#Создадим лист с парами групп, для которых необходимо провести Тест Манна-Уитни\n",
    "test_pairs_list = list(itertools.combinations([2,3,4], 2))\n",
    "print(test_pairs_list)"
   ]
  },
  {
   "cell_type": "code",
   "execution_count": 54,
   "id": "fefb112d",
   "metadata": {},
   "outputs": [],
   "source": [
    "p_data = []\n",
    "for pair_names in test_pairs_list:\n",
    "    group1 = pair_names[0]\n",
    "    group2 = pair_names[1]\n",
    "    pvals = (stats.mannwhitneyu(orders[orders['cluster_km']==group1]['revenue'], \n",
    "                                orders[orders['cluster_km']==group2]['revenue'], alternative='two-sided')[1])\n",
    "    p_data.append(pvals)\n",
    "    multitest_result = multipletests(p_data, 0.05, method='sidak')"
   ]
  },
  {
   "cell_type": "code",
   "execution_count": 55,
   "id": "24e6ccbd",
   "metadata": {},
   "outputs": [
    {
     "name": "stdout",
     "output_type": "stream",
     "text": [
      "Пара кластеров (2, 3)\n",
      "alpha с поправкой Шидака:  0.016952427508441503\n",
      "Отвергаем нулевую гипотезу: значимые различия между сравниваемыми выборками есть\n",
      "p-значение после корректировки:  1.1140976544405937e-11\n",
      "Относительные различия в среднем чеке между группами: -0.300\n",
      "\n",
      "Пара кластеров (2, 4)\n",
      "alpha с поправкой Шидака:  0.016952427508441503\n",
      "Отвергаем нулевую гипотезу: значимые различия между сравниваемыми выборками есть\n",
      "p-значение после корректировки:  8.312774768909613e-06\n",
      "Относительные различия в среднем чеке между группами: -0.526\n",
      "\n",
      "Пара кластеров (3, 4)\n",
      "alpha с поправкой Шидака:  0.016952427508441503\n",
      "Отвергаем нулевую гипотезу: значимые различия между сравниваемыми выборками есть\n",
      "p-значение после корректировки:  1.0913316557713277e-20\n",
      "Относительные различия в среднем чеке между группами: -0.322\n",
      "\n"
     ]
    }
   ],
   "source": [
    "for pair_names, test_status, corrected_p in zip(test_pairs_list, multitest_result[0], multitest_result[1]):\n",
    "    print('Пара кластеров', pair_names)\n",
    "    print('alpha с поправкой Шидака: ', multitest_result[2])\n",
    "    if test_status:\n",
    "        print('Отвергаем нулевую гипотезу: значимые различия между сравниваемыми выборками есть')\n",
    "    else:\n",
    "        print('Не получилось отвергнуть нулевую гипотезу, значимые различия между сравниваемыми выборками\\\n",
    "                                                        отсутствуют.') \n",
    "    print('p-значение после корректировки: ', corrected_p)  \n",
    "    print('Относительные различия в среднем чеке между группами: {0:.3f}'\\\n",
    "   .format(orders[orders['cluster_km']==pair_names[0]]['revenue'].mean()/orders[orders['cluster_km']==\\\n",
    "                                                        pair_names[1]]['revenue']\\\n",
    "           .mean()-1))\n",
    "    print()"
   ]
  },
  {
   "cell_type": "markdown",
   "id": "e2495af2",
   "metadata": {},
   "source": [
    "__Вывод:__\n",
    "\n",
    "В результате проведения теста Манна-Уитни получили, что по всем парам перспективных кластеров нулевые гипотезы отверглись, что означает: значимые различия в среднем чеке между сравниваемыми выборками есть."
   ]
  },
  {
   "cell_type": "markdown",
   "id": "387faa5c",
   "metadata": {},
   "source": [
    "# Общий вывод и рекомендация"
   ]
  },
  {
   "cell_type": "markdown",
   "id": "4cc7b4e2",
   "metadata": {},
   "source": [
    "__Целью было выявление профилей покупателей, их сегментация и анализ для повышения эффективности работы интернет-магазина.__\n",
    "\n",
    "__Результаты исследовательского анализа данных:__\n",
    "\n",
    "`Общие метрики`\n",
    "\n",
    "- Дата первой записи: 2018-10-01\n",
    "- Дата последней записи: 2019-10-31\n",
    "- Данные за период: 395 days, 0:00:00\n",
    "- Общее количество уникальных покупателей: 2393\n",
    "- Общее количество уникальных товаров: 2325\n",
    "- Количество уникальных заказов: 2754\n",
    "- Общая выручка составила:4 068 155 у.е.\n",
    "- Наибольшая выручка наблюдается в 9-17:00 с пиком в 15:00\n",
    "- Будние дни выручка выше, в выходные меньше. В будние дни видим всплеск во вторник. \n",
    "- Лидирующий месяцы - Июнь и Октябрь, самая низкая в августе-сентябре\n",
    "- Средний чек стабилен и варьирует от 1000-1750 с выскоким в январе-апреле и низким в октябре-декабре, но в августе видим всплеск на отметке 5 783. Возмоно связано с большой закупкой.\n",
    "- Сентябрь 2019 Г. показывает наименьший средний чек на покупателя и средний чек по заказу \n",
    "- Наиболее популярное время заказов с 9-15:00, наименее популярное с 23:00-07:00\n",
    "- Наиболее популярный день заказов понедельник-вторник, наименее популярна - суббота\n",
    "- Самый популярный месяц - Октябрь, самый не популярный - Январь и Июнь\n",
    "- Наибольшее среднее количество заказов в период февраля-апрель 2019 г., просадки в январе и июне 2019\n",
    "\n",
    "\n",
    "`Пользовательские метрики`\n",
    "\n",
    "- Cредняя выручка с одного покупателя: 712 у.е.\n",
    "- Cредняя сумма заказа: 674 у.е.\n",
    "- Cреднее число позиций товаров в заказах: 1 шт.\n",
    "- Cреднее число единиц товаров в заказах: 1 шт.\n",
    "- Средний чек по всем покупателям: 674 у.е.\n",
    "   \n",
    "__В ходе исследования выделили 9 категорий товаров:__\n",
    "\n",
    "       - Сад и огород\n",
    "       - Для одежды и обуви\n",
    "       - Для чистоты и уборки\n",
    "       - Хранение\n",
    "       - Посуда\n",
    "       - Декор и подарки\n",
    "       - Стройка и ремонт\n",
    "       - Текстиль\n",
    "       - Бытовая техника\n",
    "__Из них:__\n",
    "\n",
    "  - более 50% или 2 276 заказов приходится на категорию \"Сад и огород\", менее 1% или 21 заказ приходится на категорию \"бытовая техника\"\n",
    "  - наибольшая средняя стоимость в категории \"Хранение\", наименьшая в категории \"Сад и огород\"\n",
    "  - наибольшая выручка приходится на зиму, наименьшая на весну. Выручка осенью и летом примерно одинаковая\n",
    "  - наибольшая выручка в декабре и январе, наименьшая в апреле-мае.\n",
    "  \n",
    "__Сегментация покупателей:__\n",
    "\n",
    "- Пользовательская активность\n",
    "        - Среднее количество уникальных пользователей в день: 6 человек.\n",
    "        - Среднее количество уникальных пользователей в неделю: 48 человек.\n",
    "        - Среднее количество уникальных пользователей в месяц: 203 человек.\n",
    "\n",
    "Покупателей разделили на 9 кластеров в соответствии с 9 категориями товаров.\n",
    "\n",
    "__ТОП 3 по ключевым количественным критериям:__\n",
    "\n",
    "Количество покупателей:\n",
    "\n",
    "Кластер 1 \"Для одеждый и обуви\" - 571\n",
    "Кластер 2 \"Хранение\" - 451\n",
    "Кластер 4,3 - \"Посуда\", \"Текстиль\" - 361-365\n",
    "\n",
    "Количество позиций в заказе:\n",
    "\n",
    "Кластер 1 \"Для одеждый и обуви\" - 2 936\n",
    "Кластер 4 \"Посуда\" - 2 839\n",
    "Кластер 5 - \"Декор и подарки\" - 2 337\n",
    "\n",
    "Средняя цена:\n",
    "\n",
    "Кластер 3 \"Текстиль\" - 1 760\n",
    "Кластер 2 \"Хранение\" - 1 028\n",
    "Кластер 7 - \"Для чистоты и уборки\" - 987\n",
    "\n",
    "Суммарная выручка:\n",
    "\n",
    "Кластер 4 \"Посуда\" -1 126 401\n",
    "Кластер 3 \"Текстиль\" - 762 065\n",
    "Кластер 2 - \"Хранение\" - 660 521\n",
    "\n",
    "Кластеры 4,2,3 наиболее перспективные почти по всем показателям. \n",
    "\n",
    "\n",
    "__По результату проверки гиппотез: есть статистически значимые различия в среднем чеке между сегментами покупателей.__\n",
    "\n",
    "\n",
    "__Рекомендации:__\n",
    "\n",
    "- Необходимо дополнить данные информацией по марже и сопутствующих затратах. \n",
    "- В категории \"сад и огород\" необходимо увеличить средний чек.__ Возможно это сделать при помощи плавного повышения цен, так как ценник низкий, то повышения не отразится на потребительском спросе. \n",
    "- Так как основная масса покупателей покупает 1 единицу товара, необходимо делать допродажи. Покупателям стоит предлагать дополнительные товары со скидкой.\n",
    "- Стоит обратить на внимание на категорию \"Посуда\". У посуды наибольшая выручка, но средняя цена одна из самых низких. Возможно плавное увеличение цены сможет значительно увеличить выручку"
   ]
  },
  {
   "cell_type": "markdown",
   "id": "4219ee95",
   "metadata": {},
   "source": [
    "# Презентация и дашборд"
   ]
  },
  {
   "cell_type": "code",
   "execution_count": 56,
   "id": "49dcdd03",
   "metadata": {},
   "outputs": [],
   "source": [
    "data.to_csv('data.csv')"
   ]
  }
 ],
 "metadata": {
  "ExecuteTimeLog": [
   {
    "duration": 4536,
    "start_time": "2023-04-26T15:01:57.628Z"
   },
   {
    "duration": 139,
    "start_time": "2023-04-26T15:02:02.166Z"
   },
   {
    "duration": 0,
    "start_time": "2023-04-26T15:02:02.308Z"
   },
   {
    "duration": 0,
    "start_time": "2023-04-26T15:02:02.309Z"
   },
   {
    "duration": 1,
    "start_time": "2023-04-26T15:02:02.310Z"
   },
   {
    "duration": 0,
    "start_time": "2023-04-26T15:02:02.312Z"
   },
   {
    "duration": 0,
    "start_time": "2023-04-26T15:02:02.313Z"
   },
   {
    "duration": 0,
    "start_time": "2023-04-26T15:02:02.314Z"
   },
   {
    "duration": 0,
    "start_time": "2023-04-26T15:02:02.315Z"
   },
   {
    "duration": 0,
    "start_time": "2023-04-26T15:02:02.316Z"
   },
   {
    "duration": 0,
    "start_time": "2023-04-26T15:02:02.317Z"
   },
   {
    "duration": 0,
    "start_time": "2023-04-26T15:02:02.318Z"
   },
   {
    "duration": 0,
    "start_time": "2023-04-26T15:02:02.319Z"
   },
   {
    "duration": 0,
    "start_time": "2023-04-26T15:02:02.320Z"
   },
   {
    "duration": 0,
    "start_time": "2023-04-26T15:02:02.321Z"
   },
   {
    "duration": 0,
    "start_time": "2023-04-26T15:02:02.322Z"
   },
   {
    "duration": 0,
    "start_time": "2023-04-26T15:02:02.323Z"
   },
   {
    "duration": 0,
    "start_time": "2023-04-26T15:02:02.324Z"
   },
   {
    "duration": 0,
    "start_time": "2023-04-26T15:02:02.356Z"
   },
   {
    "duration": 0,
    "start_time": "2023-04-26T15:02:02.357Z"
   },
   {
    "duration": 0,
    "start_time": "2023-04-26T15:02:02.358Z"
   },
   {
    "duration": 0,
    "start_time": "2023-04-26T15:02:02.359Z"
   },
   {
    "duration": 0,
    "start_time": "2023-04-26T15:02:02.360Z"
   },
   {
    "duration": 0,
    "start_time": "2023-04-26T15:02:02.361Z"
   },
   {
    "duration": 0,
    "start_time": "2023-04-26T15:02:02.362Z"
   },
   {
    "duration": 0,
    "start_time": "2023-04-26T15:02:02.364Z"
   },
   {
    "duration": 0,
    "start_time": "2023-04-26T15:02:02.365Z"
   },
   {
    "duration": 0,
    "start_time": "2023-04-26T15:02:02.366Z"
   },
   {
    "duration": 0,
    "start_time": "2023-04-26T15:02:02.367Z"
   },
   {
    "duration": 0,
    "start_time": "2023-04-26T15:02:02.368Z"
   },
   {
    "duration": 0,
    "start_time": "2023-04-26T15:02:02.369Z"
   },
   {
    "duration": 0,
    "start_time": "2023-04-26T15:02:02.370Z"
   },
   {
    "duration": 0,
    "start_time": "2023-04-26T15:02:02.371Z"
   },
   {
    "duration": 0,
    "start_time": "2023-04-26T15:02:02.372Z"
   },
   {
    "duration": 0,
    "start_time": "2023-04-26T15:02:02.373Z"
   },
   {
    "duration": 0,
    "start_time": "2023-04-26T15:02:02.374Z"
   },
   {
    "duration": 0,
    "start_time": "2023-04-26T15:02:02.375Z"
   },
   {
    "duration": 0,
    "start_time": "2023-04-26T15:02:02.377Z"
   },
   {
    "duration": 0,
    "start_time": "2023-04-26T15:02:02.378Z"
   },
   {
    "duration": 0,
    "start_time": "2023-04-26T15:02:02.379Z"
   },
   {
    "duration": 0,
    "start_time": "2023-04-26T15:02:02.381Z"
   },
   {
    "duration": 0,
    "start_time": "2023-04-26T15:02:02.382Z"
   },
   {
    "duration": 0,
    "start_time": "2023-04-26T15:02:02.383Z"
   },
   {
    "duration": 0,
    "start_time": "2023-04-26T15:02:02.385Z"
   },
   {
    "duration": 0,
    "start_time": "2023-04-26T15:02:02.386Z"
   },
   {
    "duration": 0,
    "start_time": "2023-04-26T15:02:02.387Z"
   },
   {
    "duration": 0,
    "start_time": "2023-04-26T15:02:02.388Z"
   },
   {
    "duration": 0,
    "start_time": "2023-04-26T15:02:02.389Z"
   },
   {
    "duration": 1,
    "start_time": "2023-04-26T15:02:02.390Z"
   },
   {
    "duration": 0,
    "start_time": "2023-04-26T15:02:02.391Z"
   },
   {
    "duration": 0,
    "start_time": "2023-04-26T15:02:02.455Z"
   },
   {
    "duration": 0,
    "start_time": "2023-04-26T15:02:02.456Z"
   },
   {
    "duration": 0,
    "start_time": "2023-04-26T15:02:02.457Z"
   },
   {
    "duration": 0,
    "start_time": "2023-04-26T15:02:02.458Z"
   },
   {
    "duration": 62,
    "start_time": "2023-04-26T15:02:18.832Z"
   },
   {
    "duration": 3580,
    "start_time": "2023-04-26T15:02:24.684Z"
   },
   {
    "duration": 56,
    "start_time": "2023-04-26T15:02:28.266Z"
   },
   {
    "duration": 12,
    "start_time": "2023-04-26T15:02:28.323Z"
   },
   {
    "duration": 5,
    "start_time": "2023-04-26T15:02:28.337Z"
   },
   {
    "duration": 14,
    "start_time": "2023-04-26T15:02:28.343Z"
   },
   {
    "duration": 27,
    "start_time": "2023-04-26T15:02:28.358Z"
   },
   {
    "duration": 13,
    "start_time": "2023-04-26T15:02:28.387Z"
   },
   {
    "duration": 26,
    "start_time": "2023-04-26T15:02:28.402Z"
   },
   {
    "duration": 28,
    "start_time": "2023-04-26T15:02:28.430Z"
   },
   {
    "duration": 9,
    "start_time": "2023-04-26T15:02:28.461Z"
   },
   {
    "duration": 15,
    "start_time": "2023-04-26T15:02:28.472Z"
   },
   {
    "duration": 150,
    "start_time": "2023-04-26T15:02:28.489Z"
   },
   {
    "duration": 19,
    "start_time": "2023-04-26T15:02:28.641Z"
   },
   {
    "duration": 17,
    "start_time": "2023-04-26T15:02:28.662Z"
   },
   {
    "duration": 3,
    "start_time": "2023-04-26T15:02:28.681Z"
   },
   {
    "duration": 31,
    "start_time": "2023-04-26T15:02:28.686Z"
   },
   {
    "duration": 5,
    "start_time": "2023-04-26T15:02:28.719Z"
   },
   {
    "duration": 26,
    "start_time": "2023-04-26T15:02:28.725Z"
   },
   {
    "duration": 198,
    "start_time": "2023-04-26T15:02:28.753Z"
   },
   {
    "duration": 10,
    "start_time": "2023-04-26T15:02:28.952Z"
   },
   {
    "duration": 103,
    "start_time": "2023-04-26T15:02:28.965Z"
   },
   {
    "duration": 19,
    "start_time": "2023-04-26T15:02:29.071Z"
   },
   {
    "duration": 652,
    "start_time": "2023-04-26T15:02:29.092Z"
   },
   {
    "duration": 199,
    "start_time": "2023-04-26T15:02:29.746Z"
   },
   {
    "duration": 11,
    "start_time": "2023-04-26T15:02:29.946Z"
   },
   {
    "duration": 10,
    "start_time": "2023-04-26T15:02:29.958Z"
   },
   {
    "duration": 705,
    "start_time": "2023-04-26T15:02:29.970Z"
   },
   {
    "duration": 224,
    "start_time": "2023-04-26T15:02:30.679Z"
   },
   {
    "duration": 259,
    "start_time": "2023-04-26T15:02:30.906Z"
   },
   {
    "duration": 11,
    "start_time": "2023-04-26T15:02:31.168Z"
   },
   {
    "duration": 2861,
    "start_time": "2023-04-26T15:02:31.181Z"
   },
   {
    "duration": 112,
    "start_time": "2023-04-26T15:02:34.044Z"
   },
   {
    "duration": 15,
    "start_time": "2023-04-26T15:02:34.157Z"
   },
   {
    "duration": 192,
    "start_time": "2023-04-26T15:02:34.173Z"
   },
   {
    "duration": 449,
    "start_time": "2023-04-26T15:02:34.367Z"
   },
   {
    "duration": 3,
    "start_time": "2023-04-26T15:02:34.819Z"
   },
   {
    "duration": 39,
    "start_time": "2023-04-26T15:02:34.825Z"
   },
   {
    "duration": 233,
    "start_time": "2023-04-26T15:02:34.866Z"
   },
   {
    "duration": 320,
    "start_time": "2023-04-26T15:02:35.100Z"
   },
   {
    "duration": 34,
    "start_time": "2023-04-26T15:02:35.422Z"
   },
   {
    "duration": 555,
    "start_time": "2023-04-26T15:02:35.458Z"
   },
   {
    "duration": 449,
    "start_time": "2023-04-26T15:02:36.015Z"
   },
   {
    "duration": 13,
    "start_time": "2023-04-26T15:02:36.556Z"
   },
   {
    "duration": 5,
    "start_time": "2023-04-26T15:02:36.570Z"
   },
   {
    "duration": 8,
    "start_time": "2023-04-26T15:02:36.576Z"
   },
   {
    "duration": 11,
    "start_time": "2023-04-26T15:02:36.585Z"
   },
   {
    "duration": 21,
    "start_time": "2023-04-26T15:02:36.597Z"
   },
   {
    "duration": 5,
    "start_time": "2023-04-26T15:02:36.620Z"
   },
   {
    "duration": 6,
    "start_time": "2023-04-26T15:02:36.627Z"
   },
   {
    "duration": 25,
    "start_time": "2023-04-26T15:02:36.635Z"
   },
   {
    "duration": 8,
    "start_time": "2023-04-26T15:02:36.661Z"
   },
   {
    "duration": 5,
    "start_time": "2023-04-26T15:02:36.671Z"
   },
   {
    "duration": 6,
    "start_time": "2023-04-26T15:02:36.678Z"
   },
   {
    "duration": 186,
    "start_time": "2023-04-26T15:02:36.686Z"
   },
   {
    "duration": 22,
    "start_time": "2023-04-26T15:03:33.164Z"
   },
   {
    "duration": 7,
    "start_time": "2023-04-26T15:03:43.345Z"
   },
   {
    "duration": 23,
    "start_time": "2023-04-26T15:07:16.696Z"
   },
   {
    "duration": 5219,
    "start_time": "2023-04-27T10:54:03.555Z"
   },
   {
    "duration": 210,
    "start_time": "2023-04-27T10:54:08.776Z"
   },
   {
    "duration": 15,
    "start_time": "2023-04-27T10:54:08.988Z"
   },
   {
    "duration": 7,
    "start_time": "2023-04-27T10:54:09.006Z"
   },
   {
    "duration": 32,
    "start_time": "2023-04-27T10:54:09.015Z"
   },
   {
    "duration": 54,
    "start_time": "2023-04-27T10:54:09.049Z"
   },
   {
    "duration": 19,
    "start_time": "2023-04-27T10:54:09.106Z"
   },
   {
    "duration": 33,
    "start_time": "2023-04-27T10:54:09.127Z"
   },
   {
    "duration": 33,
    "start_time": "2023-04-27T10:54:09.163Z"
   },
   {
    "duration": 26,
    "start_time": "2023-04-27T10:54:09.200Z"
   },
   {
    "duration": 22,
    "start_time": "2023-04-27T10:54:09.229Z"
   },
   {
    "duration": 188,
    "start_time": "2023-04-27T10:54:09.254Z"
   },
   {
    "duration": 14,
    "start_time": "2023-04-27T10:54:09.445Z"
   },
   {
    "duration": 53,
    "start_time": "2023-04-27T10:54:09.461Z"
   },
   {
    "duration": 4,
    "start_time": "2023-04-27T10:54:09.517Z"
   },
   {
    "duration": 40,
    "start_time": "2023-04-27T10:54:09.523Z"
   },
   {
    "duration": 8,
    "start_time": "2023-04-27T10:54:09.566Z"
   },
   {
    "duration": 13,
    "start_time": "2023-04-27T10:54:09.577Z"
   },
   {
    "duration": 273,
    "start_time": "2023-04-27T10:54:09.592Z"
   },
   {
    "duration": 10,
    "start_time": "2023-04-27T10:54:09.867Z"
   },
   {
    "duration": 140,
    "start_time": "2023-04-27T10:54:09.879Z"
   },
   {
    "duration": 13,
    "start_time": "2023-04-27T10:54:10.022Z"
   },
   {
    "duration": 767,
    "start_time": "2023-04-27T10:54:10.042Z"
   },
   {
    "duration": 253,
    "start_time": "2023-04-27T10:54:10.812Z"
   },
   {
    "duration": 4,
    "start_time": "2023-04-27T10:54:11.068Z"
   },
   {
    "duration": 20,
    "start_time": "2023-04-27T10:54:11.074Z"
   },
   {
    "duration": 783,
    "start_time": "2023-04-27T10:54:11.096Z"
   },
   {
    "duration": 257,
    "start_time": "2023-04-27T10:54:11.884Z"
   },
   {
    "duration": 601,
    "start_time": "2023-04-27T10:54:12.144Z"
   },
   {
    "duration": 13,
    "start_time": "2023-04-27T10:54:12.747Z"
   },
   {
    "duration": 4305,
    "start_time": "2023-04-27T10:54:12.763Z"
   },
   {
    "duration": 121,
    "start_time": "2023-04-27T10:54:17.071Z"
   },
   {
    "duration": 24,
    "start_time": "2023-04-27T10:54:17.194Z"
   },
   {
    "duration": 235,
    "start_time": "2023-04-27T10:54:17.220Z"
   },
   {
    "duration": 484,
    "start_time": "2023-04-27T10:54:17.457Z"
   },
   {
    "duration": 5,
    "start_time": "2023-04-27T10:54:17.943Z"
   },
   {
    "duration": 56,
    "start_time": "2023-04-27T10:54:17.950Z"
   },
   {
    "duration": 283,
    "start_time": "2023-04-27T10:54:18.008Z"
   },
   {
    "duration": 410,
    "start_time": "2023-04-27T10:54:18.294Z"
   },
   {
    "duration": 37,
    "start_time": "2023-04-27T10:54:18.706Z"
   },
   {
    "duration": 730,
    "start_time": "2023-04-27T10:54:18.745Z"
   },
   {
    "duration": 465,
    "start_time": "2023-04-27T10:54:19.478Z"
   },
   {
    "duration": 19,
    "start_time": "2023-04-27T10:54:19.945Z"
   },
   {
    "duration": 16,
    "start_time": "2023-04-27T10:54:19.966Z"
   },
   {
    "duration": 14,
    "start_time": "2023-04-27T10:54:19.984Z"
   },
   {
    "duration": 33,
    "start_time": "2023-04-27T10:54:20.000Z"
   },
   {
    "duration": 52,
    "start_time": "2023-04-27T10:54:20.035Z"
   },
   {
    "duration": 45,
    "start_time": "2023-04-27T10:54:20.089Z"
   },
   {
    "duration": 53,
    "start_time": "2023-04-27T10:54:20.136Z"
   },
   {
    "duration": 39,
    "start_time": "2023-04-27T10:54:20.191Z"
   },
   {
    "duration": 47,
    "start_time": "2023-04-27T10:54:20.232Z"
   },
   {
    "duration": 69,
    "start_time": "2023-04-27T10:54:20.282Z"
   },
   {
    "duration": 51,
    "start_time": "2023-04-27T10:54:20.354Z"
   },
   {
    "duration": 521,
    "start_time": "2023-04-27T10:54:20.407Z"
   },
   {
    "duration": 47,
    "start_time": "2023-04-27T11:04:04.543Z"
   },
   {
    "duration": 54,
    "start_time": "2023-04-27T11:04:07.246Z"
   },
   {
    "duration": 5958,
    "start_time": "2023-05-03T16:04:03.619Z"
   },
   {
    "duration": 278,
    "start_time": "2023-05-03T16:04:09.580Z"
   },
   {
    "duration": 23,
    "start_time": "2023-05-03T16:04:09.860Z"
   },
   {
    "duration": 22,
    "start_time": "2023-05-03T16:04:09.885Z"
   },
   {
    "duration": 13,
    "start_time": "2023-05-03T16:04:09.911Z"
   },
   {
    "duration": 68,
    "start_time": "2023-05-03T16:04:09.925Z"
   },
   {
    "duration": 27,
    "start_time": "2023-05-03T16:04:09.995Z"
   },
   {
    "duration": 70,
    "start_time": "2023-05-03T16:04:10.023Z"
   },
   {
    "duration": 42,
    "start_time": "2023-05-03T16:04:10.095Z"
   },
   {
    "duration": 67,
    "start_time": "2023-05-03T16:04:10.139Z"
   },
   {
    "duration": 11,
    "start_time": "2023-05-03T16:04:10.208Z"
   },
   {
    "duration": 41,
    "start_time": "2023-05-03T16:04:10.221Z"
   },
   {
    "duration": 19,
    "start_time": "2023-05-03T16:04:10.264Z"
   },
   {
    "duration": 28,
    "start_time": "2023-05-03T16:04:10.287Z"
   },
   {
    "duration": 276,
    "start_time": "2023-05-03T16:04:10.317Z"
   },
   {
    "duration": 1169,
    "start_time": "2023-05-03T16:04:10.595Z"
   },
   {
    "duration": 14,
    "start_time": "2023-05-03T16:04:11.770Z"
   },
   {
    "duration": 12,
    "start_time": "2023-05-03T16:04:11.788Z"
   },
   {
    "duration": 19,
    "start_time": "2023-05-03T16:04:11.802Z"
   },
   {
    "duration": 17,
    "start_time": "2023-05-03T16:04:11.823Z"
   },
   {
    "duration": 67,
    "start_time": "2023-05-03T16:04:11.842Z"
   },
   {
    "duration": 21,
    "start_time": "2023-05-03T16:04:11.911Z"
   },
   {
    "duration": 51,
    "start_time": "2023-05-03T16:04:11.938Z"
   },
   {
    "duration": 52,
    "start_time": "2023-05-03T16:04:11.992Z"
   },
   {
    "duration": 7,
    "start_time": "2023-05-03T16:04:12.052Z"
   },
   {
    "duration": 45,
    "start_time": "2023-05-03T16:04:12.061Z"
   },
   {
    "duration": 21,
    "start_time": "2023-05-03T16:04:12.108Z"
   },
   {
    "duration": 54,
    "start_time": "2023-05-03T16:04:12.132Z"
   },
   {
    "duration": 50,
    "start_time": "2023-05-03T16:04:12.188Z"
   },
   {
    "duration": 806,
    "start_time": "2023-05-03T16:04:12.240Z"
   },
   {
    "duration": 305,
    "start_time": "2023-05-03T16:04:13.049Z"
   },
   {
    "duration": 5,
    "start_time": "2023-05-03T16:04:13.356Z"
   },
   {
    "duration": 770,
    "start_time": "2023-05-03T16:04:13.364Z"
   },
   {
    "duration": 377,
    "start_time": "2023-05-03T16:04:14.136Z"
   },
   {
    "duration": 29,
    "start_time": "2023-05-03T16:04:14.519Z"
   },
   {
    "duration": 4356,
    "start_time": "2023-05-03T16:04:14.551Z"
   },
   {
    "duration": 187,
    "start_time": "2023-05-03T16:04:18.909Z"
   },
   {
    "duration": 29,
    "start_time": "2023-05-03T16:04:19.098Z"
   },
   {
    "duration": 351,
    "start_time": "2023-05-03T16:04:19.129Z"
   },
   {
    "duration": 614,
    "start_time": "2023-05-03T16:04:19.484Z"
   },
   {
    "duration": 27,
    "start_time": "2023-05-03T16:04:20.103Z"
   },
   {
    "duration": 369,
    "start_time": "2023-05-03T16:04:20.132Z"
   },
   {
    "duration": 47,
    "start_time": "2023-05-03T16:04:20.503Z"
   },
   {
    "duration": 318,
    "start_time": "2023-05-03T16:04:20.552Z"
   },
   {
    "duration": 634,
    "start_time": "2023-05-03T16:04:20.872Z"
   },
   {
    "duration": 434,
    "start_time": "2023-05-03T16:04:21.508Z"
   },
   {
    "duration": 1383,
    "start_time": "2023-05-03T16:04:21.959Z"
   },
   {
    "duration": 51,
    "start_time": "2023-05-03T16:04:23.351Z"
   },
   {
    "duration": 27,
    "start_time": "2023-05-03T16:04:23.404Z"
   },
   {
    "duration": 76,
    "start_time": "2023-05-03T16:04:23.434Z"
   },
   {
    "duration": 2580,
    "start_time": "2023-05-03T16:04:23.512Z"
   },
   {
    "duration": 11,
    "start_time": "2023-05-03T16:04:26.095Z"
   },
   {
    "duration": 26,
    "start_time": "2023-05-03T16:04:26.117Z"
   },
   {
    "duration": 40,
    "start_time": "2023-05-03T16:04:26.146Z"
   },
   {
    "duration": 23,
    "start_time": "2023-05-03T16:04:26.188Z"
   },
   {
    "duration": 434,
    "start_time": "2023-05-03T16:04:26.214Z"
   }
  ],
  "kernelspec": {
   "display_name": "Python 3 (ipykernel)",
   "language": "python",
   "name": "python3"
  },
  "language_info": {
   "codemirror_mode": {
    "name": "ipython",
    "version": 3
   },
   "file_extension": ".py",
   "mimetype": "text/x-python",
   "name": "python",
   "nbconvert_exporter": "python",
   "pygments_lexer": "ipython3",
   "version": "3.9.5"
  },
  "toc": {
   "base_numbering": 1,
   "nav_menu": {},
   "number_sections": true,
   "sideBar": true,
   "skip_h1_title": false,
   "title_cell": "Table of Contents",
   "title_sidebar": "Contents",
   "toc_cell": false,
   "toc_position": {
    "height": "calc(100% - 180px)",
    "left": "10px",
    "top": "150px",
    "width": "266px"
   },
   "toc_section_display": true,
   "toc_window_display": true
  }
 },
 "nbformat": 4,
 "nbformat_minor": 5
}
