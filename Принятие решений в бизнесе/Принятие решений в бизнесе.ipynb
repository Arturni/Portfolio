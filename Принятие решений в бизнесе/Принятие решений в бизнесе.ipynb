{
 "cells": [
  {
   "cell_type": "markdown",
   "metadata": {},
   "source": [
    "# Аналитика деятельности крупного интернет магазина"
   ]
  },
  {
   "cell_type": "markdown",
   "metadata": {},
   "source": [
    "__Цель: Увеличение выручки компании, проверка гипотез.__\n",
    "\n",
    "__План работы:__\n",
    "\n",
    "   1. Подготовка к анализу данных. \n",
    "\n",
    "   2. Приоритизация гипотез:\n",
    "          - Примените фреймворк ICE для приоритизации гипотез. Отсортируйте их по убыванию приоритета.\n",
    "          - Примените фреймворк RICE для приоритизации гипотез. Отсортируйте их по убыванию приоритета.\n",
    "          - Укажите, как изменилась приоритизация гипотез при применении RICE вместо ICE. Объясните, почему так произошло.\n",
    "          \n",
    "   3. Анализ A/B-теста:\n",
    "        \n",
    "      К каждому пункту сделать вывод и предположение:\n",
    " \n",
    "          - Постройте график кумулятивной выручки по группам.\n",
    "          - Постройте график кумулятивного среднего чека по группам.\n",
    "          - Постройте график относительного изменения кумулятивного среднего чека группы B к группе A. \n",
    "          - Постройте график относительного изменения кумулятивного среднего количества заказов на посетителя группы B к группе A.\n",
    "          - Постройте точечный график количества заказов по пользователям.\n",
    "          - Посчитайте 95-й и 99-й перцентили количества заказов на пользователя.Выберите границу для определения аномальных заказов.\n",
    "          - Постройте точечный график стоимостей заказов. \n",
    "          - Посчитайте 95-й и 99-й перцентили стоимости заказов. Выберите границу для определения аномальных заказов.\n",
    "          - Посчитайте статистическую значимость различий в среднем количестве заказов на посетителя между группами по «сырым» данным.\n",
    "          - Посчитайте статистическую значимость различий в среднем чеке заказа между группами по «сырым» данным.\n",
    "          - Посчитайте статистическую значимость различий в среднем кол-ве заказов на посетителя между группами по «очищенным» данным.\n",
    "          - Примите решение по результатам теста и объясните его. Варианты решений:\n",
    "                   1. Остановить тест, зафиксировать победу одной из групп.\n",
    "                   2. Остановить тест, зафиксировать отсутствие различий между группами.\n",
    "                   3. Продолжить тест.\n",
    "          \n",
    "   4. Выводы и рекомендации."
   ]
  },
  {
   "cell_type": "markdown",
   "metadata": {},
   "source": [
    "## Описанние данных"
   ]
  },
  {
   "cell_type": "markdown",
   "metadata": {},
   "source": [
    "__Таблица hypothesis:__\n",
    "\n",
    "_Hypothesis_ — краткое описание гипотезы\n",
    "\n",
    "_Reach__ — охват пользователей по 10-балльной шкале\n",
    "\n",
    "_Impact_ — влияние на пользователей по 10-балльной шкале\n",
    "\n",
    "_Confidence_ — уверенность в гипотезе по 10-балльной шкале\n",
    "\n",
    "_Efforts_ — затраты ресурсов на проверку гипотезы по 10-балльной шкале. Чем больше значение Efforts, тем дороже проверка гипотезы.\n",
    "\n",
    "__Таблица orders:__\n",
    "\n",
    "_transactionId_ — идентификатор заказа;\n",
    "\n",
    "_visitorId_ — идентификатор пользователя, совершившего заказ;\n",
    "\n",
    "_date_ — дата, когда был совершён заказ;\n",
    "\n",
    "_revenue_ — выручка заказа;\n",
    "\n",
    "_group_ — группа A/B-теста, в которую попал заказ.\n",
    "\n",
    "__Таблица visitors:__\n",
    "\n",
    "_date_ — дата;\n",
    "\n",
    "_group_ — группа A/B-теста;\n",
    "\n",
    "_visitors_ — количество пользователей в указанную дату в указанной группе A/B-теста"
   ]
  },
  {
   "cell_type": "markdown",
   "metadata": {},
   "source": [
    "## Подготовка к анализу данных"
   ]
  },
  {
   "cell_type": "code",
   "execution_count": 1,
   "metadata": {},
   "outputs": [],
   "source": [
    "#Загружаем библиотеки\n",
    "import pandas as pd\n",
    "import datetime as dt\n",
    "import numpy as np\n",
    "import matplotlib.pyplot as plt\n",
    "import scipy.stats as stats\n",
    "from datetime import date, time, timedelta\n",
    "import warnings\n",
    "warnings.filterwarnings('ignore')"
   ]
  },
  {
   "cell_type": "code",
   "execution_count": 2,
   "metadata": {},
   "outputs": [],
   "source": [
    "#Загружаем данные\n",
    "hypothesis = pd.read_csv('/datasets/hypothesis.csv', sep=',')\n",
    "orders = pd.read_csv('/datasets/orders.csv', sep=',')\n",
    "visitors = pd.read_csv('/datasets/visitors.csv', sep=',')"
   ]
  },
  {
   "cell_type": "code",
   "execution_count": 3,
   "metadata": {},
   "outputs": [
    {
     "data": {
      "text/html": [
       "<div>\n",
       "<style scoped>\n",
       "    .dataframe tbody tr th:only-of-type {\n",
       "        vertical-align: middle;\n",
       "    }\n",
       "\n",
       "    .dataframe tbody tr th {\n",
       "        vertical-align: top;\n",
       "    }\n",
       "\n",
       "    .dataframe thead th {\n",
       "        text-align: right;\n",
       "    }\n",
       "</style>\n",
       "<table border=\"1\" class=\"dataframe\">\n",
       "  <thead>\n",
       "    <tr style=\"text-align: right;\">\n",
       "      <th></th>\n",
       "      <th>Hypothesis</th>\n",
       "      <th>Reach</th>\n",
       "      <th>Impact</th>\n",
       "      <th>Confidence</th>\n",
       "      <th>Efforts</th>\n",
       "    </tr>\n",
       "  </thead>\n",
       "  <tbody>\n",
       "    <tr>\n",
       "      <th>0</th>\n",
       "      <td>Добавить два новых канала привлечения трафика,...</td>\n",
       "      <td>3</td>\n",
       "      <td>10</td>\n",
       "      <td>8</td>\n",
       "      <td>6</td>\n",
       "    </tr>\n",
       "    <tr>\n",
       "      <th>1</th>\n",
       "      <td>Запустить собственную службу доставки, что сок...</td>\n",
       "      <td>2</td>\n",
       "      <td>5</td>\n",
       "      <td>4</td>\n",
       "      <td>10</td>\n",
       "    </tr>\n",
       "    <tr>\n",
       "      <th>2</th>\n",
       "      <td>Добавить блоки рекомендаций товаров на сайт ин...</td>\n",
       "      <td>8</td>\n",
       "      <td>3</td>\n",
       "      <td>7</td>\n",
       "      <td>3</td>\n",
       "    </tr>\n",
       "    <tr>\n",
       "      <th>3</th>\n",
       "      <td>Изменить структура категорий, что увеличит кон...</td>\n",
       "      <td>8</td>\n",
       "      <td>3</td>\n",
       "      <td>3</td>\n",
       "      <td>8</td>\n",
       "    </tr>\n",
       "    <tr>\n",
       "      <th>4</th>\n",
       "      <td>Изменить цвет фона главной страницы, чтобы уве...</td>\n",
       "      <td>3</td>\n",
       "      <td>1</td>\n",
       "      <td>1</td>\n",
       "      <td>1</td>\n",
       "    </tr>\n",
       "  </tbody>\n",
       "</table>\n",
       "</div>"
      ],
      "text/plain": [
       "                                          Hypothesis  Reach  Impact  \\\n",
       "0  Добавить два новых канала привлечения трафика,...      3      10   \n",
       "1  Запустить собственную службу доставки, что сок...      2       5   \n",
       "2  Добавить блоки рекомендаций товаров на сайт ин...      8       3   \n",
       "3  Изменить структура категорий, что увеличит кон...      8       3   \n",
       "4  Изменить цвет фона главной страницы, чтобы уве...      3       1   \n",
       "\n",
       "   Confidence  Efforts  \n",
       "0           8        6  \n",
       "1           4       10  \n",
       "2           7        3  \n",
       "3           3        8  \n",
       "4           1        1  "
      ]
     },
     "metadata": {},
     "output_type": "display_data"
    },
    {
     "data": {
      "text/html": [
       "<div>\n",
       "<style scoped>\n",
       "    .dataframe tbody tr th:only-of-type {\n",
       "        vertical-align: middle;\n",
       "    }\n",
       "\n",
       "    .dataframe tbody tr th {\n",
       "        vertical-align: top;\n",
       "    }\n",
       "\n",
       "    .dataframe thead th {\n",
       "        text-align: right;\n",
       "    }\n",
       "</style>\n",
       "<table border=\"1\" class=\"dataframe\">\n",
       "  <thead>\n",
       "    <tr style=\"text-align: right;\">\n",
       "      <th></th>\n",
       "      <th>transactionId</th>\n",
       "      <th>visitorId</th>\n",
       "      <th>date</th>\n",
       "      <th>revenue</th>\n",
       "      <th>group</th>\n",
       "    </tr>\n",
       "  </thead>\n",
       "  <tbody>\n",
       "    <tr>\n",
       "      <th>0</th>\n",
       "      <td>3667963787</td>\n",
       "      <td>3312258926</td>\n",
       "      <td>2019-08-15</td>\n",
       "      <td>1650</td>\n",
       "      <td>B</td>\n",
       "    </tr>\n",
       "    <tr>\n",
       "      <th>1</th>\n",
       "      <td>2804400009</td>\n",
       "      <td>3642806036</td>\n",
       "      <td>2019-08-15</td>\n",
       "      <td>730</td>\n",
       "      <td>B</td>\n",
       "    </tr>\n",
       "    <tr>\n",
       "      <th>2</th>\n",
       "      <td>2961555356</td>\n",
       "      <td>4069496402</td>\n",
       "      <td>2019-08-15</td>\n",
       "      <td>400</td>\n",
       "      <td>A</td>\n",
       "    </tr>\n",
       "    <tr>\n",
       "      <th>3</th>\n",
       "      <td>3797467345</td>\n",
       "      <td>1196621759</td>\n",
       "      <td>2019-08-15</td>\n",
       "      <td>9759</td>\n",
       "      <td>B</td>\n",
       "    </tr>\n",
       "    <tr>\n",
       "      <th>4</th>\n",
       "      <td>2282983706</td>\n",
       "      <td>2322279887</td>\n",
       "      <td>2019-08-15</td>\n",
       "      <td>2308</td>\n",
       "      <td>B</td>\n",
       "    </tr>\n",
       "  </tbody>\n",
       "</table>\n",
       "</div>"
      ],
      "text/plain": [
       "   transactionId   visitorId        date  revenue group\n",
       "0     3667963787  3312258926  2019-08-15     1650     B\n",
       "1     2804400009  3642806036  2019-08-15      730     B\n",
       "2     2961555356  4069496402  2019-08-15      400     A\n",
       "3     3797467345  1196621759  2019-08-15     9759     B\n",
       "4     2282983706  2322279887  2019-08-15     2308     B"
      ]
     },
     "metadata": {},
     "output_type": "display_data"
    },
    {
     "data": {
      "text/html": [
       "<div>\n",
       "<style scoped>\n",
       "    .dataframe tbody tr th:only-of-type {\n",
       "        vertical-align: middle;\n",
       "    }\n",
       "\n",
       "    .dataframe tbody tr th {\n",
       "        vertical-align: top;\n",
       "    }\n",
       "\n",
       "    .dataframe thead th {\n",
       "        text-align: right;\n",
       "    }\n",
       "</style>\n",
       "<table border=\"1\" class=\"dataframe\">\n",
       "  <thead>\n",
       "    <tr style=\"text-align: right;\">\n",
       "      <th></th>\n",
       "      <th>date</th>\n",
       "      <th>group</th>\n",
       "      <th>visitors</th>\n",
       "    </tr>\n",
       "  </thead>\n",
       "  <tbody>\n",
       "    <tr>\n",
       "      <th>0</th>\n",
       "      <td>2019-08-01</td>\n",
       "      <td>A</td>\n",
       "      <td>719</td>\n",
       "    </tr>\n",
       "    <tr>\n",
       "      <th>1</th>\n",
       "      <td>2019-08-02</td>\n",
       "      <td>A</td>\n",
       "      <td>619</td>\n",
       "    </tr>\n",
       "    <tr>\n",
       "      <th>2</th>\n",
       "      <td>2019-08-03</td>\n",
       "      <td>A</td>\n",
       "      <td>507</td>\n",
       "    </tr>\n",
       "    <tr>\n",
       "      <th>3</th>\n",
       "      <td>2019-08-04</td>\n",
       "      <td>A</td>\n",
       "      <td>717</td>\n",
       "    </tr>\n",
       "    <tr>\n",
       "      <th>4</th>\n",
       "      <td>2019-08-05</td>\n",
       "      <td>A</td>\n",
       "      <td>756</td>\n",
       "    </tr>\n",
       "  </tbody>\n",
       "</table>\n",
       "</div>"
      ],
      "text/plain": [
       "         date group  visitors\n",
       "0  2019-08-01     A       719\n",
       "1  2019-08-02     A       619\n",
       "2  2019-08-03     A       507\n",
       "3  2019-08-04     A       717\n",
       "4  2019-08-05     A       756"
      ]
     },
     "metadata": {},
     "output_type": "display_data"
    }
   ],
   "source": [
    "# Предварительный анализ данных\n",
    "display(hypothesis.head(5),orders.head(5),visitors.head(5))"
   ]
  },
  {
   "cell_type": "code",
   "execution_count": 4,
   "metadata": {},
   "outputs": [],
   "source": [
    "# Преобразование данных даты таблицы orders\n",
    "orders['date'] = orders['date'].map(\n",
    "    lambda x: dt.datetime.strptime(x, '%Y-%m-%d')\n",
    ")"
   ]
  },
  {
   "cell_type": "code",
   "execution_count": 5,
   "metadata": {},
   "outputs": [],
   "source": [
    "# Преобразование данных даты таблицы visitors\n",
    "visitors['date'] = visitors['date'].map(\n",
    "    lambda x: dt.datetime.strptime(x, '%Y-%m-%d')\n",
    ")"
   ]
  },
  {
   "cell_type": "code",
   "execution_count": 6,
   "metadata": {},
   "outputs": [],
   "source": [
    "# Приведение столбцов к нижнему регистру\n",
    "hypothesis.columns = hypothesis.columns.str.lower()"
   ]
  },
  {
   "cell_type": "code",
   "execution_count": 7,
   "metadata": {},
   "outputs": [],
   "source": [
    "#Переименовываем столбцы orders для удобства\n",
    "orders.columns = ['transaction_id', 'visitor_id', 'date', 'revenue', 'group']"
   ]
  },
  {
   "cell_type": "code",
   "execution_count": 8,
   "metadata": {},
   "outputs": [
    {
     "name": "stdout",
     "output_type": "stream",
     "text": [
      "Колличество пропусков в таблице orders: 0\n",
      "Колличество пропусков в таблице hypothesis: 0\n",
      "Колличество пропусков в таблице visitors: 0\n"
     ]
    }
   ],
   "source": [
    "# Проверяем на пропуски\n",
    "print('Колличество пропусков в таблице orders:', orders.isna().sum().sum())\n",
    "print('Колличество пропусков в таблице hypothesis:', hypothesis.isna().sum().sum())\n",
    "print('Колличество пропусков в таблице visitors:', visitors.isna().sum().sum())"
   ]
  },
  {
   "cell_type": "code",
   "execution_count": 9,
   "metadata": {},
   "outputs": [
    {
     "name": "stdout",
     "output_type": "stream",
     "text": [
      "Колличество дубликатов в таблице orders: 0\n",
      "Колличество дубликатов в таблице hypothesis: 0\n",
      "Колличество дубликатов в таблице visitors: 0\n"
     ]
    }
   ],
   "source": [
    "# Проверка на дубликаты\n",
    "print('Колличество дубликатов в таблице orders:',orders.duplicated().sum().sum())\n",
    "print('Колличество дубликатов в таблице hypothesis:',hypothesis.duplicated().sum().sum())\n",
    "print('Колличество дубликатов в таблице visitors:',visitors.duplicated().sum().sum())"
   ]
  },
  {
   "cell_type": "markdown",
   "metadata": {},
   "source": [
    "__Вывод:__ Данные готовы к анализу"
   ]
  },
  {
   "cell_type": "markdown",
   "metadata": {},
   "source": [
    "## Приоритизация гипотез"
   ]
  },
  {
   "cell_type": "markdown",
   "metadata": {},
   "source": [
    "__Описание данных:__\n",
    "\n",
    "__ICE__ - от англ. impact, confidence, effort / ease «влияние, уверенность, усилия / простота». Ищется по формуле: ICE = (Impact * Confidence) / Efforts\n",
    "\n",
    "__RICE__ это модификация RICE с добавлением парраметра Reach и находится по формуле: ICE = (Reach * Impact * Confidence) / Efforts\n",
    "\n",
    "_Reach_ — скольких пользователей затронет изменение, которое вы хотите внести;\n",
    "\n",
    "_Impact_ — насколько сильно изменение повлияет на пользователей, их опыт и удовлетворение от продукта;\n",
    "\n",
    "_Confidence_ — насколько вы уверены, что это изменение повлияет на пользователей именно так; \n",
    "\n",
    "_Efforts_ — сколько стоит протестировать эту гипотезу. \n"
   ]
  },
  {
   "cell_type": "markdown",
   "metadata": {},
   "source": [
    "### Применяем фреймворк ICE для приоритизации гипотез"
   ]
  },
  {
   "cell_type": "code",
   "execution_count": 10,
   "metadata": {},
   "outputs": [
    {
     "data": {
      "text/plain": [
       "0              Добавить два новых канала привлечения трафика, что позволит привлекать на 30% больше пользователей\n",
       "1                                       Запустить собственную службу доставки, что сократит срок доставки заказов\n",
       "2    Добавить блоки рекомендаций товаров на сайт интернет магазина, чтобы повысить конверсию и средний чек заказа\n",
       "3             Изменить структура категорий, что увеличит конверсию, т.к. пользователи быстрее найдут нужный товар\n",
       "4                                Изменить цвет фона главной страницы, чтобы увеличить вовлеченность пользователей\n",
       "5                        Добавить страницу отзывов клиентов о магазине, что позволит увеличить количество заказов\n",
       "6            Показать на главной странице баннеры с актуальными акциями и распродажами, чтобы увеличить конверсию\n",
       "7                Добавить форму подписки на все основные страницы, чтобы собрать базу клиентов для email-рассылок\n",
       "8                                                         Запустить акцию, дающую скидку на товар в день рождения\n",
       "Name: hypothesis, dtype: object"
      ]
     },
     "execution_count": 10,
     "metadata": {},
     "output_type": "execute_result"
    }
   ],
   "source": [
    "# Смотрим названия акций\n",
    "pd.options.display.max_colwidth = 110\n",
    "hypothesis.hypothesis"
   ]
  },
  {
   "cell_type": "code",
   "execution_count": 11,
   "metadata": {},
   "outputs": [
    {
     "data": {
      "text/html": [
       "<div>\n",
       "<style scoped>\n",
       "    .dataframe tbody tr th:only-of-type {\n",
       "        vertical-align: middle;\n",
       "    }\n",
       "\n",
       "    .dataframe tbody tr th {\n",
       "        vertical-align: top;\n",
       "    }\n",
       "\n",
       "    .dataframe thead th {\n",
       "        text-align: right;\n",
       "    }\n",
       "</style>\n",
       "<table border=\"1\" class=\"dataframe\">\n",
       "  <thead>\n",
       "    <tr style=\"text-align: right;\">\n",
       "      <th></th>\n",
       "      <th>hypothesis</th>\n",
       "      <th>reach</th>\n",
       "      <th>impact</th>\n",
       "      <th>confidence</th>\n",
       "      <th>efforts</th>\n",
       "      <th>ice</th>\n",
       "    </tr>\n",
       "  </thead>\n",
       "  <tbody>\n",
       "    <tr>\n",
       "      <th>8</th>\n",
       "      <td>Запустить акцию, дающую скидку на товар в день рождения</td>\n",
       "      <td>1</td>\n",
       "      <td>9</td>\n",
       "      <td>9</td>\n",
       "      <td>5</td>\n",
       "      <td>16.20</td>\n",
       "    </tr>\n",
       "    <tr>\n",
       "      <th>0</th>\n",
       "      <td>Добавить два новых канала привлечения трафика, что позволит привлекать на 30% больше пользователей</td>\n",
       "      <td>3</td>\n",
       "      <td>10</td>\n",
       "      <td>8</td>\n",
       "      <td>6</td>\n",
       "      <td>13.33</td>\n",
       "    </tr>\n",
       "    <tr>\n",
       "      <th>7</th>\n",
       "      <td>Добавить форму подписки на все основные страницы, чтобы собрать базу клиентов для email-рассылок</td>\n",
       "      <td>10</td>\n",
       "      <td>7</td>\n",
       "      <td>8</td>\n",
       "      <td>5</td>\n",
       "      <td>11.20</td>\n",
       "    </tr>\n",
       "    <tr>\n",
       "      <th>6</th>\n",
       "      <td>Показать на главной странице баннеры с актуальными акциями и распродажами, чтобы увеличить конверсию</td>\n",
       "      <td>5</td>\n",
       "      <td>3</td>\n",
       "      <td>8</td>\n",
       "      <td>3</td>\n",
       "      <td>8.00</td>\n",
       "    </tr>\n",
       "    <tr>\n",
       "      <th>2</th>\n",
       "      <td>Добавить блоки рекомендаций товаров на сайт интернет магазина, чтобы повысить конверсию и средний чек заказа</td>\n",
       "      <td>8</td>\n",
       "      <td>3</td>\n",
       "      <td>7</td>\n",
       "      <td>3</td>\n",
       "      <td>7.00</td>\n",
       "    </tr>\n",
       "  </tbody>\n",
       "</table>\n",
       "</div>"
      ],
      "text/plain": [
       "                                                                                                     hypothesis  \\\n",
       "8                                                       Запустить акцию, дающую скидку на товар в день рождения   \n",
       "0            Добавить два новых канала привлечения трафика, что позволит привлекать на 30% больше пользователей   \n",
       "7              Добавить форму подписки на все основные страницы, чтобы собрать базу клиентов для email-рассылок   \n",
       "6          Показать на главной странице баннеры с актуальными акциями и распродажами, чтобы увеличить конверсию   \n",
       "2  Добавить блоки рекомендаций товаров на сайт интернет магазина, чтобы повысить конверсию и средний чек заказа   \n",
       "\n",
       "   reach  impact  confidence  efforts    ice  \n",
       "8      1       9           9        5  16.20  \n",
       "0      3      10           8        6  13.33  \n",
       "7     10       7           8        5  11.20  \n",
       "6      5       3           8        3   8.00  \n",
       "2      8       3           7        3   7.00  "
      ]
     },
     "execution_count": 11,
     "metadata": {},
     "output_type": "execute_result"
    }
   ],
   "source": [
    "hypothesis['ice'] = round(((hypothesis.impact * hypothesis.confidence) / hypothesis.efforts),2)\n",
    "hypothesis.sort_values(by='ice', ascending = False).head(5)"
   ]
  },
  {
   "cell_type": "markdown",
   "metadata": {},
   "source": [
    "__Вывод:__\n",
    "\n",
    "Гипотеза 8 заняла 1-е место с показателем ice большим, чем у ближайших конкурентов 0 и 7 гипотез.\n",
    "Первые три гипотезы по убыванию: \n",
    "\n",
    "   - Запустить акцию, дающую скидку на товар в день рождения\n",
    "   - Добавить два новых канала привлечения трафика, что позволит привлекать на 30% больше пользователей\n",
    "   - Добавить форму подписки на все основные страницы, чтобы собрать базу клиентов для email-рассылок"
   ]
  },
  {
   "cell_type": "markdown",
   "metadata": {},
   "source": [
    "### Применяем фреймворк RICE для приоритизации гипотез"
   ]
  },
  {
   "cell_type": "code",
   "execution_count": 12,
   "metadata": {},
   "outputs": [
    {
     "data": {
      "text/html": [
       "<div>\n",
       "<style scoped>\n",
       "    .dataframe tbody tr th:only-of-type {\n",
       "        vertical-align: middle;\n",
       "    }\n",
       "\n",
       "    .dataframe tbody tr th {\n",
       "        vertical-align: top;\n",
       "    }\n",
       "\n",
       "    .dataframe thead th {\n",
       "        text-align: right;\n",
       "    }\n",
       "</style>\n",
       "<table border=\"1\" class=\"dataframe\">\n",
       "  <thead>\n",
       "    <tr style=\"text-align: right;\">\n",
       "      <th></th>\n",
       "      <th>hypothesis</th>\n",
       "      <th>reach</th>\n",
       "      <th>impact</th>\n",
       "      <th>confidence</th>\n",
       "      <th>efforts</th>\n",
       "      <th>ice</th>\n",
       "      <th>rice</th>\n",
       "    </tr>\n",
       "  </thead>\n",
       "  <tbody>\n",
       "    <tr>\n",
       "      <th>7</th>\n",
       "      <td>Добавить форму подписки на все основные страницы, чтобы собрать базу клиентов для email-рассылок</td>\n",
       "      <td>10</td>\n",
       "      <td>7</td>\n",
       "      <td>8</td>\n",
       "      <td>5</td>\n",
       "      <td>11.20</td>\n",
       "      <td>112.0</td>\n",
       "    </tr>\n",
       "    <tr>\n",
       "      <th>2</th>\n",
       "      <td>Добавить блоки рекомендаций товаров на сайт интернет магазина, чтобы повысить конверсию и средний чек заказа</td>\n",
       "      <td>8</td>\n",
       "      <td>3</td>\n",
       "      <td>7</td>\n",
       "      <td>3</td>\n",
       "      <td>7.00</td>\n",
       "      <td>56.0</td>\n",
       "    </tr>\n",
       "    <tr>\n",
       "      <th>0</th>\n",
       "      <td>Добавить два новых канала привлечения трафика, что позволит привлекать на 30% больше пользователей</td>\n",
       "      <td>3</td>\n",
       "      <td>10</td>\n",
       "      <td>8</td>\n",
       "      <td>6</td>\n",
       "      <td>13.33</td>\n",
       "      <td>40.0</td>\n",
       "    </tr>\n",
       "    <tr>\n",
       "      <th>6</th>\n",
       "      <td>Показать на главной странице баннеры с актуальными акциями и распродажами, чтобы увеличить конверсию</td>\n",
       "      <td>5</td>\n",
       "      <td>3</td>\n",
       "      <td>8</td>\n",
       "      <td>3</td>\n",
       "      <td>8.00</td>\n",
       "      <td>40.0</td>\n",
       "    </tr>\n",
       "    <tr>\n",
       "      <th>8</th>\n",
       "      <td>Запустить акцию, дающую скидку на товар в день рождения</td>\n",
       "      <td>1</td>\n",
       "      <td>9</td>\n",
       "      <td>9</td>\n",
       "      <td>5</td>\n",
       "      <td>16.20</td>\n",
       "      <td>16.2</td>\n",
       "    </tr>\n",
       "  </tbody>\n",
       "</table>\n",
       "</div>"
      ],
      "text/plain": [
       "                                                                                                     hypothesis  \\\n",
       "7              Добавить форму подписки на все основные страницы, чтобы собрать базу клиентов для email-рассылок   \n",
       "2  Добавить блоки рекомендаций товаров на сайт интернет магазина, чтобы повысить конверсию и средний чек заказа   \n",
       "0            Добавить два новых канала привлечения трафика, что позволит привлекать на 30% больше пользователей   \n",
       "6          Показать на главной странице баннеры с актуальными акциями и распродажами, чтобы увеличить конверсию   \n",
       "8                                                       Запустить акцию, дающую скидку на товар в день рождения   \n",
       "\n",
       "   reach  impact  confidence  efforts    ice   rice  \n",
       "7     10       7           8        5  11.20  112.0  \n",
       "2      8       3           7        3   7.00   56.0  \n",
       "0      3      10           8        6  13.33   40.0  \n",
       "6      5       3           8        3   8.00   40.0  \n",
       "8      1       9           9        5  16.20   16.2  "
      ]
     },
     "execution_count": 12,
     "metadata": {},
     "output_type": "execute_result"
    }
   ],
   "source": [
    "hypothesis['rice'] = (hypothesis.reach * hypothesis.impact * hypothesis.confidence) / hypothesis.efforts\n",
    "hypothesis.sort_values(by='rice', ascending = False).head(5)"
   ]
  },
  {
   "cell_type": "markdown",
   "metadata": {},
   "source": [
    "__Вывод:__\n",
    "\n",
    "Гипотеза 7 заняла 1-е место с показателем rice вдвое превышающим ближайших конкурентов. При этом гипотеза, занявшая первое место с методом ice оказалась на последнем месте из-за низкого параметра reach. А у победившей гипотезы №7 параметр reach равен 10, что в 10 раз больше, чем у гипотезы № 8.\n",
    "\n",
    "Для отбора вероятной гипотезы будем использовать фреймворк __RICE__, так как именно в этом фреймворке парраметр reach оценивается отдельно и не подвержен субьективному мнению в отличии от ICE. Фреймворк ICE более предпочтилен, если у нас есть ограничения во времени или мы решаем локальные задачи, не связанные с массовым пользователем.  \n",
    " \n",
    "В качестве гипотезы для исследования берем: __Добавить форму подписки на все основные страницы, чтобы собрать базу клиентов для email-рассылок__. "
   ]
  },
  {
   "cell_type": "markdown",
   "metadata": {},
   "source": [
    "## Анализ A/B-теста"
   ]
  },
  {
   "cell_type": "markdown",
   "metadata": {},
   "source": [
    "__Проверка перед началом A/B теста:__\n",
    "\n",
    "    - Сколько длится тест?\n",
    "    - Сколько групп учавствуют в тесте?\n",
    "    - По какому признаку разделены группы\n",
    "    - Есть ли в данных пользователи, учавствующие в нескольких группах одновременно."
   ]
  },
  {
   "cell_type": "code",
   "execution_count": 13,
   "metadata": {},
   "outputs": [
    {
     "data": {
      "text/plain": [
       "count                    1197\n",
       "unique                     31\n",
       "top       2019-08-05 00:00:00\n",
       "freq                       48\n",
       "first     2019-08-01 00:00:00\n",
       "last      2019-08-31 00:00:00\n",
       "Name: date, dtype: object"
      ]
     },
     "execution_count": 13,
     "metadata": {},
     "output_type": "execute_result"
    }
   ],
   "source": [
    "# смотрим период прохождения теста  \n",
    "orders.date.describe()"
   ]
  },
  {
   "cell_type": "code",
   "execution_count": 14,
   "metadata": {},
   "outputs": [
    {
     "name": "stdout",
     "output_type": "stream",
     "text": [
      "Общее количество пользователей в обеих группах- 1031\n",
      "Количество пользователей в группе А - 503\n",
      "Количество пользователей в группе В - 586\n"
     ]
    }
   ],
   "source": [
    "print('Общее количество пользователей в обеих группах-', orders['visitor_id'].nunique())\n",
    "print('Количество пользователей в группе А -', orders.query('group == \"A\"')['visitor_id'].nunique())\n",
    "print('Количество пользователей в группе В -', orders.query('group == \"B\"')['visitor_id'].nunique())"
   ]
  },
  {
   "cell_type": "code",
   "execution_count": 15,
   "metadata": {},
   "outputs": [
    {
     "data": {
      "text/html": [
       "<div>\n",
       "<style scoped>\n",
       "    .dataframe tbody tr th:only-of-type {\n",
       "        vertical-align: middle;\n",
       "    }\n",
       "\n",
       "    .dataframe tbody tr th {\n",
       "        vertical-align: top;\n",
       "    }\n",
       "\n",
       "    .dataframe thead th {\n",
       "        text-align: right;\n",
       "    }\n",
       "</style>\n",
       "<table border=\"1\" class=\"dataframe\">\n",
       "  <thead>\n",
       "    <tr style=\"text-align: right;\">\n",
       "      <th></th>\n",
       "      <th>groups</th>\n",
       "      <th>group_names</th>\n",
       "    </tr>\n",
       "    <tr>\n",
       "      <th>visitor_id</th>\n",
       "      <th></th>\n",
       "      <th></th>\n",
       "    </tr>\n",
       "  </thead>\n",
       "  <tbody>\n",
       "    <tr>\n",
       "      <th>8300375</th>\n",
       "      <td>2</td>\n",
       "      <td>[B, A]</td>\n",
       "    </tr>\n",
       "    <tr>\n",
       "      <th>199603092</th>\n",
       "      <td>2</td>\n",
       "      <td>[A, B]</td>\n",
       "    </tr>\n",
       "    <tr>\n",
       "      <th>232979603</th>\n",
       "      <td>2</td>\n",
       "      <td>[B, A]</td>\n",
       "    </tr>\n",
       "    <tr>\n",
       "      <th>237748145</th>\n",
       "      <td>2</td>\n",
       "      <td>[B, A]</td>\n",
       "    </tr>\n",
       "    <tr>\n",
       "      <th>276558944</th>\n",
       "      <td>2</td>\n",
       "      <td>[B, A]</td>\n",
       "    </tr>\n",
       "  </tbody>\n",
       "</table>\n",
       "</div>"
      ],
      "text/plain": [
       "            groups group_names\n",
       "visitor_id                    \n",
       "8300375          2      [B, A]\n",
       "199603092        2      [A, B]\n",
       "232979603        2      [B, A]\n",
       "237748145        2      [B, A]\n",
       "276558944        2      [B, A]"
      ]
     },
     "metadata": {},
     "output_type": "display_data"
    },
    {
     "data": {
      "text/plain": [
       "58"
      ]
     },
     "execution_count": 15,
     "metadata": {},
     "output_type": "execute_result"
    }
   ],
   "source": [
    "# пользователи, попавших в обе группы по таблице orders\n",
    "\n",
    "duplicated_users = orders.groupby('visitor_id').agg({'group': ['nunique', 'unique']})\n",
    "duplicated_users.columns = ['groups', 'group_names']\n",
    "duplicated_users = duplicated_users.query('groups > 1')\n",
    "display(duplicated_users.head())\n",
    "len(duplicated_users)"
   ]
  },
  {
   "cell_type": "markdown",
   "metadata": {},
   "source": [
    "Задублированных пользователей - 58 или ~ 10% в каждой группе. Нам известны только id пользователей, совершивших хоть один платеж, а \"неплатящие\" неизвестны, то удаление таких пользователей может также исказить результаты в сторону \"неплатящих\". Оставим их в данных, а результаты будем анализировать предварительно разделив данные по группам А и В."
   ]
  },
  {
   "cell_type": "markdown",
   "metadata": {},
   "source": [
    "__Вывод:__\n",
    "\n",
    "    - Тест проводится в период с 2019-08-01 по 2019-08-31. Даты совпадают в таблицах orders и visitors.\n",
    "    - В тесте учавствует две группы A и B (контрольная)\n",
    "    - Данные вероятно разделены по датам. В каждой из дат присутствуют обе группы. \n",
    "    - Деление трафика не равномерное. Пользователей категории В на 15% больше чем категории А. В группах может быть неодинаковое колличество участников.Также есть пользователи, которые есть сразу в обеих группах - 58 или ~ 10%. Нам известны только id пользователей, совершивших хоть один платеж, а \"неплатящие\" неизвестны, то удаление таких пользователей может также исказить результаты в сторону \"неплатящих\". \n",
    "    \n",
    "Теперь можем начать тестирование. "
   ]
  },
  {
   "cell_type": "markdown",
   "metadata": {},
   "source": [
    "### Строим график кумулятивной выручки по группам. "
   ]
  },
  {
   "cell_type": "code",
   "execution_count": 16,
   "metadata": {},
   "outputs": [
    {
     "data": {
      "text/html": [
       "<div>\n",
       "<style scoped>\n",
       "    .dataframe tbody tr th:only-of-type {\n",
       "        vertical-align: middle;\n",
       "    }\n",
       "\n",
       "    .dataframe tbody tr th {\n",
       "        vertical-align: top;\n",
       "    }\n",
       "\n",
       "    .dataframe thead th {\n",
       "        text-align: right;\n",
       "    }\n",
       "</style>\n",
       "<table border=\"1\" class=\"dataframe\">\n",
       "  <thead>\n",
       "    <tr style=\"text-align: right;\">\n",
       "      <th></th>\n",
       "      <th>date</th>\n",
       "      <th>group</th>\n",
       "      <th>orders</th>\n",
       "      <th>buyers</th>\n",
       "      <th>revenue</th>\n",
       "      <th>visitors</th>\n",
       "    </tr>\n",
       "  </thead>\n",
       "  <tbody>\n",
       "    <tr>\n",
       "      <th>0</th>\n",
       "      <td>2019-08-01</td>\n",
       "      <td>A</td>\n",
       "      <td>24</td>\n",
       "      <td>20</td>\n",
       "      <td>148579</td>\n",
       "      <td>719</td>\n",
       "    </tr>\n",
       "    <tr>\n",
       "      <th>1</th>\n",
       "      <td>2019-08-01</td>\n",
       "      <td>B</td>\n",
       "      <td>21</td>\n",
       "      <td>20</td>\n",
       "      <td>101217</td>\n",
       "      <td>713</td>\n",
       "    </tr>\n",
       "    <tr>\n",
       "      <th>2</th>\n",
       "      <td>2019-08-02</td>\n",
       "      <td>A</td>\n",
       "      <td>44</td>\n",
       "      <td>38</td>\n",
       "      <td>242401</td>\n",
       "      <td>1338</td>\n",
       "    </tr>\n",
       "    <tr>\n",
       "      <th>3</th>\n",
       "      <td>2019-08-02</td>\n",
       "      <td>B</td>\n",
       "      <td>45</td>\n",
       "      <td>43</td>\n",
       "      <td>266748</td>\n",
       "      <td>1294</td>\n",
       "    </tr>\n",
       "    <tr>\n",
       "      <th>4</th>\n",
       "      <td>2019-08-03</td>\n",
       "      <td>A</td>\n",
       "      <td>68</td>\n",
       "      <td>62</td>\n",
       "      <td>354874</td>\n",
       "      <td>1845</td>\n",
       "    </tr>\n",
       "  </tbody>\n",
       "</table>\n",
       "</div>"
      ],
      "text/plain": [
       "        date group  orders  buyers  revenue  visitors\n",
       "0 2019-08-01     A      24      20   148579       719\n",
       "1 2019-08-01     B      21      20   101217       713\n",
       "2 2019-08-02     A      44      38   242401      1338\n",
       "3 2019-08-02     B      45      43   266748      1294\n",
       "4 2019-08-03     A      68      62   354874      1845"
      ]
     },
     "execution_count": 16,
     "metadata": {},
     "output_type": "execute_result"
    }
   ],
   "source": [
    "#Создадим датафрейм из двух столбцов date и group таблицы orders и избавимся от возможных дубликатов\n",
    "datesGroups = orders[['date','group']].drop_duplicates()\n",
    "\n",
    "# Обьявляю переменную ordersAggregated\n",
    "ordersAggregated = datesGroups.apply(\n",
    "    lambda x: orders[np.logical_and(orders['date'] <= x['date'], orders['group'] == x['group'])].agg({\n",
    "'date' : 'max',\n",
    "'group' : 'max',\n",
    "'transaction_id' : pd.Series.nunique,\n",
    "'visitor_id' : pd.Series.nunique,\n",
    "'revenue' : 'sum'}), axis=1).sort_values(by=['date','group'])\n",
    "\n",
    "# Обьявляю переменную visitorsAggregated\n",
    "visitorsAggregated = datesGroups.apply(\n",
    "    lambda x: visitors[np.logical_and(visitors['date'] <= x['date'], \n",
    "                                      visitors['group'] == x['group'])].agg({\n",
    "'date' : 'max',\n",
    "'group' : 'max',\n",
    "'visitors' : 'sum'}), axis=1).sort_values(by=['date','group'])\n",
    "\n",
    "#Обьединяем таблицы ordersAggregated и visitorsAggregated\n",
    "cumulativeData = ordersAggregated.merge(visitorsAggregated, left_on=['date', 'group'], \n",
    "                                        right_on=['date', 'group'])\n",
    "\n",
    "# Присваиваем новые названия столбцов\n",
    "cumulativeData.columns = ['date', 'group', 'orders', 'buyers', 'revenue', 'visitors']\n",
    "cumulativeData.head()"
   ]
  },
  {
   "cell_type": "code",
   "execution_count": 17,
   "metadata": {},
   "outputs": [
    {
     "data": {
      "image/png": "[encoded data removed]",
      "text/plain": [
       "<Figure size 432x288 with 1 Axes>"
      ]
     },
     "metadata": {
      "needs_background": "light"
     },
     "output_type": "display_data"
    }
   ],
   "source": [
    "# Обьявляем датафрейм с кумулятивным количеством заказов и кумулятивной выручкой по дням в группе А\n",
    "cumulativeRevenueA = cumulativeData[cumulativeData['group']=='A'][['date','revenue', 'orders']]\n",
    "\n",
    "# Обьявляем датафрейм с кумулятивным количеством заказов и кумулятивной выручкой по дням в группе B\n",
    "cumulativeRevenueB = cumulativeData[cumulativeData['group']=='B'][['date','revenue', 'orders']]\n",
    "\n",
    "# Строим график выручки группы А\n",
    "plt.plot(cumulativeRevenueA['date'], cumulativeRevenueA['revenue'], label='A')\n",
    "\n",
    "# Строим график выручки группы B\n",
    "plt.plot(cumulativeRevenueB['date'], cumulativeRevenueB['revenue'], label='B')\n",
    "\n",
    "plt.xlabel('Дата')\n",
    "plt.ylabel('Выручка')\n",
    "plt.title(\"Кумулятивная выручка по дням и группам A/B-тестирования\")\n",
    "plt.legend() \n",
    "plt.xticks(rotation=90)\n",
    "plt.show()"
   ]
  },
  {
   "cell_type": "markdown",
   "metadata": {},
   "source": [
    "__Вывод:__\n",
    "Графики обеих групп стабильно растут во времени. При этом наблюдает всплеск выручки в группе В 18 августа и далее стабилизация роста. Возможно в группе В есть аномалии, надо учесть при дальнейших выводах.  "
   ]
  },
  {
   "cell_type": "markdown",
   "metadata": {},
   "source": [
    "### Строим график кумулятивного среднего чека по группам "
   ]
  },
  {
   "cell_type": "code",
   "execution_count": 18,
   "metadata": {},
   "outputs": [
    {
     "data": {
      "image/png": "[encoded data removed]",
      "text/plain": [
       "<Figure size 432x288 with 1 Axes>"
      ]
     },
     "metadata": {
      "needs_background": "light"
     },
     "output_type": "display_data"
    }
   ],
   "source": [
    "plt.plot(cumulativeRevenueA['date'], cumulativeRevenueA['revenue']/cumulativeRevenueA['orders'], label='A')\n",
    "plt.plot(cumulativeRevenueB['date'], cumulativeRevenueB['revenue']/cumulativeRevenueB['orders'], label='B')\n",
    "plt.xlabel('Дата')\n",
    "plt.ylabel('Выручка')\n",
    "plt.title(\"График кумулятивного среднего чека по группам\")\n",
    "plt.legend() \n",
    "plt.xticks(rotation=90)\n",
    "plt.show()"
   ]
  },
  {
   "cell_type": "markdown",
   "metadata": {},
   "source": [
    "__Вывод:__\n",
    "На графике виден общий тренд на рост по обеим группам. 18 августа наблюдается всплеск в группе В. Возможно есть аномалии. Надо учесть при дальнейших выводах.  "
   ]
  },
  {
   "cell_type": "markdown",
   "metadata": {},
   "source": [
    "### Строим график относительного изменения кумулятивного ср чека группы B к группе A"
   ]
  },
  {
   "cell_type": "code",
   "execution_count": 19,
   "metadata": {},
   "outputs": [
    {
     "data": {
      "image/png": "[encoded data removed]",
      "text/plain": [
       "<Figure size 432x288 with 1 Axes>"
      ]
     },
     "metadata": {
      "needs_background": "light"
     },
     "output_type": "display_data"
    }
   ],
   "source": [
    "# собираем данные в одном датафрейме\n",
    "mergedCumulativeRevenue = cumulativeRevenueA.merge(cumulativeRevenueB, left_on='date', right_on='date', \n",
    "                                                   how='left', suffixes=['A', 'B'])\n",
    "\n",
    "# cтроим отношение средних чеков\n",
    "plt.plot(mergedCumulativeRevenue['date'], (mergedCumulativeRevenue['revenueB']/\n",
    "                                           mergedCumulativeRevenue['ordersB'])/\n",
    "         (mergedCumulativeRevenue['revenueA']/mergedCumulativeRevenue['ordersA'])-1)\n",
    "\n",
    "# добавляем ось X\n",
    "plt.axhline(y=0, color='black', linestyle='--')\n",
    "plt.xlabel('Дата')\n",
    "plt.ylabel('Отношение средних чеков')\n",
    "plt.title(\"График относительного изменения кумулятивного ср чека группы B к группе A\")\n",
    "plt.xticks(rotation=90)\n",
    "plt.show()"
   ]
  },
  {
   "cell_type": "markdown",
   "metadata": {},
   "source": [
    "__Вывод:__\n",
    "На графике видны положительные скачки средного чека группы В. Видимо те же аномалии в виде крупных заказов. "
   ]
  },
  {
   "cell_type": "markdown",
   "metadata": {},
   "source": [
    "### Строим график кумулятивного среднего количества заказов на посетителя по группам."
   ]
  },
  {
   "cell_type": "code",
   "execution_count": 20,
   "metadata": {},
   "outputs": [
    {
     "data": {
      "image/png": "[encoded data removed]",
      "text/plain": [
       "<Figure size 432x288 with 1 Axes>"
      ]
     },
     "metadata": {
      "needs_background": "light"
     },
     "output_type": "display_data"
    }
   ],
   "source": [
    "# считаем кумулятивную среднее колличество заказов на посетителя \n",
    "cumulativeData['conversion'] = cumulativeData['orders']/cumulativeData['visitors']\n",
    "\n",
    "# отделяем данные по группе A. Считаем среднее количество заказов на посетителя в группе А\n",
    "cumulativeDataA = cumulativeData[cumulativeData['group']=='A']\n",
    "\n",
    "# отделяем данные по группе B. Считаем среднее количество заказов на посетителя в группе В\n",
    "cumulativeDataB = cumulativeData[cumulativeData['group']=='B']\n",
    "\n",
    "# строим графики\n",
    "plt.plot(cumulativeDataA['date'], cumulativeDataA['conversion'], label='A')\n",
    "plt.plot(cumulativeDataB['date'], cumulativeDataB['conversion'], label='B')\n",
    "\n",
    "plt.xlabel('Дата')\n",
    "plt.ylabel('Среднее колличество заказов')\n",
    "plt.title(\"График кумулятивного среднего количества заказов на посетителя по группам\")\n",
    "plt.xticks(rotation=90)\n",
    "plt.legend()\n",
    "plt.show()\n"
   ]
  },
  {
   "cell_type": "markdown",
   "metadata": {},
   "source": [
    "__Вывод:__\n",
    "\n",
    "Группа А показывала лучшее кумулятивное среднее колличество заказов в период с 1-6 августа и стабилизировалась в районе 3%. Начиная с 6 августа группа В вырвалась в лидеры и показывала среднее колличество заказов в среднем на 3-4% больше чем в группе А и стабилизировалась на 3.5%. Интересно, что максимальное (~ 3.7%) и минимальное(~ 2.8%) значение колличества заказов видим в группе А. Такое резкое падение  может быть связано с реакцией пользователей на нововведение. "
   ]
  },
  {
   "cell_type": "markdown",
   "metadata": {},
   "source": [
    "### Строим  график относительного изменения кумулятивного ср. кол-ва заказов на посетителя  группы B к группе A"
   ]
  },
  {
   "cell_type": "code",
   "execution_count": 21,
   "metadata": {},
   "outputs": [
    {
     "data": {
      "image/png": "[encoded data removed]",
      "text/plain": [
       "<Figure size 432x288 with 1 Axes>"
      ]
     },
     "metadata": {
      "needs_background": "light"
     },
     "output_type": "display_data"
    }
   ],
   "source": [
    "mergedCumulativeConversions = cumulativeDataA[['date','conversion']].\\\n",
    "    merge(cumulativeDataB[['date','conversion']],left_on='date', right_on='date', how='left',\\\n",
    "          suffixes=['A', 'B'])\n",
    "\n",
    "plt.plot(mergedCumulativeConversions['date'], mergedCumulativeConversions['conversionB']\\\n",
    "         /mergedCumulativeConversions['conversionA']-1,\\\n",
    "         label=\"Относительный прирост среднего колличества заказов группы B относительно группы A\")\n",
    "\n",
    "plt.axhline(y=0, color='black', linestyle='--')\n",
    "plt.axhline(y=-0.1, color='grey', linestyle='--')\n",
    "plt.xlabel('Дата')\n",
    "plt.ylabel('Среднее колличество заказов')\n",
    "plt.title(\"График относительного изменения среднего колличества заказов группы B к группе A\")\n",
    "plt.xticks(rotation=90)\n",
    "plt.show()"
   ]
  },
  {
   "cell_type": "markdown",
   "metadata": {},
   "source": [
    "__Вывод:__\n",
    "\n",
    "В период с 1-6 августа кумулятивное cреднее колличество заказов группы В в среднем ниже, чем у группы А. Начинач с 7 августа среднее колличество группы В вырывается вперед и устанавливает лидерство до окончания теста."
   ]
  },
  {
   "cell_type": "markdown",
   "metadata": {},
   "source": [
    "### Строим точечный график количества заказов по пользователям"
   ]
  },
  {
   "cell_type": "code",
   "execution_count": 22,
   "metadata": {},
   "outputs": [
    {
     "data": {
      "text/html": [
       "<div>\n",
       "<style scoped>\n",
       "    .dataframe tbody tr th:only-of-type {\n",
       "        vertical-align: middle;\n",
       "    }\n",
       "\n",
       "    .dataframe tbody tr th {\n",
       "        vertical-align: top;\n",
       "    }\n",
       "\n",
       "    .dataframe thead th {\n",
       "        text-align: right;\n",
       "    }\n",
       "</style>\n",
       "<table border=\"1\" class=\"dataframe\">\n",
       "  <thead>\n",
       "    <tr style=\"text-align: right;\">\n",
       "      <th></th>\n",
       "      <th>visitor_id</th>\n",
       "      <th>transaction_id</th>\n",
       "    </tr>\n",
       "  </thead>\n",
       "  <tbody>\n",
       "    <tr>\n",
       "      <th>1023</th>\n",
       "      <td>4256040402</td>\n",
       "      <td>11</td>\n",
       "    </tr>\n",
       "    <tr>\n",
       "      <th>591</th>\n",
       "      <td>2458001652</td>\n",
       "      <td>11</td>\n",
       "    </tr>\n",
       "    <tr>\n",
       "      <th>569</th>\n",
       "      <td>2378935119</td>\n",
       "      <td>9</td>\n",
       "    </tr>\n",
       "    <tr>\n",
       "      <th>487</th>\n",
       "      <td>2038680547</td>\n",
       "      <td>8</td>\n",
       "    </tr>\n",
       "    <tr>\n",
       "      <th>44</th>\n",
       "      <td>199603092</td>\n",
       "      <td>5</td>\n",
       "    </tr>\n",
       "  </tbody>\n",
       "</table>\n",
       "</div>"
      ],
      "text/plain": [
       "      visitor_id  transaction_id\n",
       "1023  4256040402              11\n",
       "591   2458001652              11\n",
       "569   2378935119               9\n",
       "487   2038680547               8\n",
       "44     199603092               5"
      ]
     },
     "metadata": {},
     "output_type": "display_data"
    },
    {
     "data": {
      "image/png": "[encoded data removed]",
      "text/plain": [
       "<Figure size 432x288 with 1 Axes>"
      ]
     },
     "metadata": {
      "needs_background": "light"
     },
     "output_type": "display_data"
    }
   ],
   "source": [
    "ordersByUsers = (\n",
    "    orders.groupby('visitor_id', as_index=False)\n",
    "    .agg({'transaction_id': 'nunique'})\n",
    ")\n",
    "ordersByUsers.columns = ['visitor_id', 'transaction_id']\n",
    "display(ordersByUsers.sort_values(by='transaction_id',ascending=False).head(5))\n",
    "\n",
    "x_values = pd.Series(range(0,len(ordersByUsers)))\n",
    "plt.scatter(x_values, ordersByUsers['transaction_id'])\n",
    "\n",
    "plt.xlabel('Колличество пользователей')\n",
    "plt.ylabel('Колличество заказов')\n",
    "plt.title(\"График количества заказов по пользователям\")\n",
    "plt.xticks(rotation=90)\n",
    "plt.show()"
   ]
  },
  {
   "cell_type": "markdown",
   "metadata": {},
   "source": [
    "__Вывод:__\n",
    "Пользователи с 3 и более заказами встречаются редко. Пока не можем считать это аномалиями. Посчитаем выборочные перцентили количества заказов на одного пользователя."
   ]
  },
  {
   "cell_type": "markdown",
   "metadata": {},
   "source": [
    "### Считаем 95-й и 99-й перцентили количества заказов на пользователя."
   ]
  },
  {
   "cell_type": "code",
   "execution_count": 23,
   "metadata": {},
   "outputs": [
    {
     "name": "stdout",
     "output_type": "stream",
     "text": [
      "[2. 4.]\n"
     ]
    }
   ],
   "source": [
    "print(np.percentile(ordersByUsers['transaction_id'], [95, 99]))"
   ]
  },
  {
   "cell_type": "markdown",
   "metadata": {},
   "source": [
    "__Вывод:__\n",
    "\n",
    "Не более 5% пользователей оформляли больше чем 2 заказа. Всего 1% пользователей заказывал более 4 раза. Верхнюю границу числа заказов на одного пользователя установим на 2. Данные с более чем 2 заказами отметаем для чистоты эксперимента."
   ]
  },
  {
   "cell_type": "markdown",
   "metadata": {},
   "source": [
    "### Строим график стоимостей заказов"
   ]
  },
  {
   "cell_type": "code",
   "execution_count": 24,
   "metadata": {},
   "outputs": [
    {
     "data": {
      "image/png": "[encoded data removed]",
      "text/plain": [
       "<Figure size 432x288 with 1 Axes>"
      ]
     },
     "metadata": {
      "needs_background": "light"
     },
     "output_type": "display_data"
    }
   ],
   "source": [
    "# Строим график стоимостей заказов\n",
    "x_values = pd.Series(range(0,len(orders['revenue'])))\n",
    "plt.scatter(x_values, orders['revenue'])\n",
    "\n",
    "plt.xlabel('Колличество пользователей')\n",
    "plt.ylabel('Стоимость заказов')\n",
    "plt.title(\"График стоимостей заказов\")\n",
    "plt.xticks(rotation=90)\n",
    "plt.show()"
   ]
  },
  {
   "cell_type": "markdown",
   "metadata": {},
   "source": [
    "2 аномальных значения делают график не читабельным. Попробуем их временно исключить."
   ]
  },
  {
   "cell_type": "code",
   "execution_count": 25,
   "metadata": {},
   "outputs": [
    {
     "data": {
      "image/png": "[encoded data removed]",
      "text/plain": [
       "<Figure size 432x288 with 1 Axes>"
      ]
     },
     "metadata": {
      "needs_background": "light"
     },
     "output_type": "display_data"
    }
   ],
   "source": [
    "# Посмотрим на график после исключения двух аномальных значений\n",
    "\n",
    "filter_orders = orders.query('revenue <= 150000')\n",
    "x_values = pd.Series(range(0,len(filter_orders['revenue'])))\n",
    "plt.scatter(x_values, filter_orders['revenue'],alpha=0.5)\n",
    "\n",
    "plt.xlabel('Колличество пользователей')\n",
    "plt.ylabel('Стоимость заказов')\n",
    "plt.title(\"График стоимостей заказов\")\n",
    "plt.grid()\n",
    "plt.xticks(rotation=90)\n",
    "plt.show()"
   ]
  },
  {
   "cell_type": "markdown",
   "metadata": {},
   "source": [
    "### Считаем 95-й и 99-й перцентили стоимостей заказов."
   ]
  },
  {
   "cell_type": "code",
   "execution_count": 26,
   "metadata": {},
   "outputs": [
    {
     "name": "stdout",
     "output_type": "stream",
     "text": [
      "[28000.  58233.2]\n"
     ]
    }
   ],
   "source": [
    "\n",
    "print(np.percentile(orders['revenue'], [95, 99])) "
   ]
  },
  {
   "cell_type": "markdown",
   "metadata": {},
   "source": [
    "Есть выбросы в районе 1 294 500 и 200 000. Менее 5% оформили заказ дороже 28 000 руб и менее 1% пользователей оформили заказы дороже 58 000 руб. Будем считать заказы на сумму более 28 000 аномальными, которые можно отсеять."
   ]
  },
  {
   "cell_type": "markdown",
   "metadata": {},
   "source": [
    "### Считаем статистическую значимость различий в среднем количестве заказов на посетителя между группами по «сырым» данным. "
   ]
  },
  {
   "cell_type": "markdown",
   "metadata": {},
   "source": [
    "__Описание данных:__\n",
    "\n",
    "date — дата;\n",
    "\n",
    "_ordersPerDateA_ — количество заказов в выбранную дату в группе A;\n",
    "\n",
    "_revenuePerDateA_ — суммарная выручка в выбранную дату в группе A;\n",
    "\n",
    "_ordersPerDateB_ — количество заказов в выбранную дату в группе B;\n",
    "\n",
    "_revenuePerDateB_ — суммарная выручка в выбранную дату в группе B;\n",
    "\n",
    "_ordersCummulativeA_ — суммарное число заказов до выбранной даты включительно в группе A;\n",
    "\n",
    "_revenueCummulativeA_ — суммарная выручка до выбранной даты включительно в группе A;\n",
    "\n",
    "_ordersCummulativeB_ — суммарное количество заказов до выбранной даты включительно в группе B;\n",
    "\n",
    "_revenueCummulativeB_ — суммарная выручка до выбранной даты включительно в группе B;\n",
    "\n",
    "_visitorsPerDateA_ — количество пользователей в выбранную дату в группе A;\n",
    "\n",
    "_visitorsPerDateB_ — количество пользователей в выбранную дату в группе B;\n",
    "\n",
    "_visitorsCummulativeA_ — количество пользователей до выбранной даты включительно в группе A;\n",
    "\n",
    "_visitorsCummulativeB_ — количество пользователей до выбранной даты включительно в группе B."
   ]
  },
  {
   "cell_type": "markdown",
   "metadata": {},
   "source": [
    "#### Считаем статистическую значимость различия в среднем количестве заказов между группами."
   ]
  },
  {
   "cell_type": "markdown",
   "metadata": {},
   "source": [
    "__Нулевая гипотеза:__ различий в среднем количестве заказов между группами нет. \n",
    "\n",
    "__Альтернативная гипотеза:__ различия в среднем между группами есть.\n",
    "\n",
    "Порог статистической значимости: __alpha = .05__\n",
    "\n",
    "Анализировать будем статистическим критерием Манна-Уитни, так как в предыдущих шагах мы обнаружили большие выбросы. "
   ]
  },
  {
   "cell_type": "code",
   "execution_count": 27,
   "metadata": {},
   "outputs": [],
   "source": [
    "# Создадим переменные ordersByUsersA и ordersByUsersB. В них для пользователей, которые заказывали хотя бы 1 раз, \n",
    "#укажем число совершённых заказов. \n",
    "\n",
    "ordersByUsersA = (\n",
    "    orders[orders['group'] == 'A']\n",
    "    .groupby('visitor_id', as_index=False)\n",
    "    .agg({'transaction_id': pd.Series.nunique})\n",
    ")\n",
    "ordersByUsersA.columns = ['userId', 'orders']\n",
    "\n",
    "ordersByUsersB = (\n",
    "    orders[orders['group'] == 'B']\n",
    "    .groupby('visitor_id', as_index=False)\n",
    "    .agg({'transaction_id': pd.Series.nunique})\n",
    ")\n",
    "ordersByUsersB.columns = ['userId', 'orders']"
   ]
  },
  {
   "cell_type": "code",
   "execution_count": 28,
   "metadata": {},
   "outputs": [
    {
     "name": "stdout",
     "output_type": "stream",
     "text": [
      "P-value по сырым данным равен: 0.017\n",
      "Среднее колличество заказов по сырым данным группы В относительно группы А: 0.138\n"
     ]
    }
   ],
   "source": [
    "#Объявим переменные sampleA и sampleB, в которых пользователям из разных групп будет соответствовать количество заказов.\n",
    "sampleA = pd.concat([ordersByUsersA['orders'],pd.Series(0,\\\n",
    "   index=np.arange(visitors[visitors['group']=='A']['visitors'].sum() - len(ordersByUsersA['orders'])),name='orders')]\\\n",
    "                    ,axis=0)\n",
    "\n",
    "sampleB = pd.concat([ordersByUsersB['orders'],pd.Series(0,\\\n",
    "   index=np.arange(visitors[visitors['group']=='B']['visitors'].sum()-len(ordersByUsersB['orders'])), name='orders')],\\\n",
    "                    axis=0)\n",
    "\n",
    "# Применим статистический критерий Манна-Уитни к полученным выборкам\n",
    "print('P-value по сырым данным равен:',\"{0:.3f}\".format(stats.mannwhitneyu(sampleA, sampleB)[1]))\n",
    "print('Среднее колличество заказов по сырым данным группы В относительно группы А:',\"{0:.3f}\"\\\n",
    "      .format(sampleB.mean() / sampleA.mean() - 1))"
   ]
  },
  {
   "cell_type": "markdown",
   "metadata": {},
   "source": [
    "__Вывод:__\n",
    "\n",
    "__По «сырым» данным есть различия в среднем числе заказов групп A и B, значит отвергаем нулевую гипотезу.__\n",
    "\n",
    "Первое число — p-value = 0.017 меньше 0.05. Относительный прирост среднего числа заказов группы B почти на 13.8% опережает в том же показателее в группе А — второе число в выводе."
   ]
  },
  {
   "cell_type": "markdown",
   "metadata": {},
   "source": [
    "### Проверим статистическую значимость различий в среднем чеке между сегментами"
   ]
  },
  {
   "cell_type": "markdown",
   "metadata": {},
   "source": [
    "__Нулевая гипотеза:__ различий в среднем чеке между группами нет. \n",
    "\n",
    "__Альтернативная гипотеза:__ различия в среднем чеке между группами есть. "
   ]
  },
  {
   "cell_type": "code",
   "execution_count": 29,
   "metadata": {},
   "outputs": [
    {
     "name": "stdout",
     "output_type": "stream",
     "text": [
      "P-value по сырым данным равен: 0.729\n",
      "Средний чек заказов по сырым данным группы В относительно группы А: 0.259\n"
     ]
    }
   ],
   "source": [
    "# найдём относительные различия в среднем чеке между группами\n",
    "print('P-value по сырым данным равен:','{0:.3f}'.format(stats.mannwhitneyu(orders[orders['group']=='A']\\\n",
    "            ['revenue'],orders[orders['group']=='B']['revenue'])[1]))\n",
    "print('Средний чек заказов по сырым данным группы В относительно группы А:','{0:.3f}'\\\n",
    " .format(orders[orders['group']=='B']['revenue']\\\n",
    "                       .mean()/orders[orders['group']=='A']['revenue'].mean()-1))"
   ]
  },
  {
   "cell_type": "markdown",
   "metadata": {},
   "source": [
    "__Вывод:__\n",
    "\n",
    "__По «сырым» данным различий в среднем числе заказов групп A и B нет. т.е нулевую гипотезу не отвергаем.__ \n",
    "\n",
    "P-value = 0.729 больше 0.05. Однако относительный проигрыш группы А равен почти 26% — второе число в выводе."
   ]
  },
  {
   "cell_type": "markdown",
   "metadata": {},
   "source": [
    "### Считаем статистическую значимость различий в среднем количестве заказов на посетителя между группами по «очищенным» данным."
   ]
  },
  {
   "cell_type": "markdown",
   "metadata": {},
   "source": [
    "#### Сделаем срезы пользователей с аномальными заказами"
   ]
  },
  {
   "cell_type": "code",
   "execution_count": 30,
   "metadata": {},
   "outputs": [
    {
     "name": "stdout",
     "output_type": "stream",
     "text": [
      "1099    148427295\n",
      "18      199603092\n",
      "928     204675465\n",
      "23      237748145\n",
      "37      249864742\n",
      "dtype: int64\n",
      "Абсолютное колличество пользователей с аномальными заказами: 74\n",
      "Процент пользователей с аномальными заказами: 7\n"
     ]
    }
   ],
   "source": [
    "# Сделаем срезы пользователей с числом заказов больше 2 \n",
    "usersWithManyOrders = pd.concat(\n",
    "    [\n",
    "     ordersByUsersA[ordersByUsersA['orders'] > np.percentile(ordersByUsers['transaction_id'],95)]['userId'], \n",
    "     ordersByUsersB[ordersByUsersB['orders'] > np.percentile(ordersByUsers['transaction_id'],95)]['userId'],\n",
    "    ],\n",
    "    axis=0,\n",
    ")\n",
    "# Сделаем срез пользователей с суммой заказа более 28000\n",
    "usersWithExpensiveOrders = orders[orders['revenue'] > np.percentile(orders['revenue'],95)]['visitor_id']                               \n",
    "abnormalUsers = (\n",
    "    pd.concat([usersWithManyOrders, usersWithExpensiveOrders], axis=0)\n",
    "    .drop_duplicates()\n",
    "    .sort_values()\n",
    ")\n",
    "print(abnormalUsers.head(5))\n",
    "print('Абсолютное колличество пользователей с аномальными заказами:', abnormalUsers.shape[0])\n",
    "print('Процент пользователей с аномальными заказами:', round((abnormalUsers.shape[0])/ \\\n",
    "                                                             len(orders['visitor_id'].unique())*100))\n"
   ]
  },
  {
   "cell_type": "markdown",
   "metadata": {},
   "source": [
    "__Вывод:__ Пользователей с аномальными заказами - 74 или 7%. Узнаем, как их действия повлияли на результаты теста. "
   ]
  },
  {
   "cell_type": "markdown",
   "metadata": {},
   "source": [
    "#### Считаем статистическую значимость различий в среднем количестве заказов на посетителя между группами по «очищенным» данным."
   ]
  },
  {
   "cell_type": "markdown",
   "metadata": {},
   "source": [
    "__Нулевая гипотеза:__ различий в среднем количестве заказов между группами нет. \n",
    "\n",
    "__Альтернативная гипотеза:__ различия в среднем между группами есть.\n",
    "\n",
    "Порог статистической значимости: __alpha = .05__"
   ]
  },
  {
   "cell_type": "code",
   "execution_count": 31,
   "metadata": {},
   "outputs": [
    {
     "name": "stdout",
     "output_type": "stream",
     "text": [
      "P-value по очищенным данным равен: 0.013\n",
      "Среднее колличество заказов по очищенным данным группы В относительно группы А: 0.173\n"
     ]
    }
   ],
   "source": [
    "\n",
    "sampleAFiltered = pd.concat(\n",
    "    [\n",
    "        ordersByUsersA[\n",
    "            np.logical_not(ordersByUsersA['userId'].isin(abnormalUsers))\n",
    "        ]['orders'],\n",
    "        pd.Series(\n",
    "            0,\n",
    "            index=np.arange(\n",
    "                visitors[visitors['group']=='A']['visitors'].sum() - len(ordersByUsersA['orders'])\n",
    "            ),\n",
    "            name='orders',\n",
    "        ),\n",
    "    ],\n",
    "    axis=0,\n",
    ")\n",
    "\n",
    "sampleBFiltered = pd.concat(\n",
    "    [\n",
    "        ordersByUsersB[\n",
    "            np.logical_not(ordersByUsersB['userId'].isin(abnormalUsers))\n",
    "        ]['orders'],\n",
    "        pd.Series(\n",
    "            0,\n",
    "            index=np.arange(\n",
    "                visitors[visitors['group']=='B']['visitors'].sum() - len(ordersByUsersB['orders'])\n",
    "            ),\n",
    "            name='orders',\n",
    "        ),\n",
    "    ],\n",
    "    axis=0,\n",
    ")\n",
    "\n",
    "# Применим статистический критерий Манна-Уитни к полученным выборкам\n",
    "print('P-value по очищенным данным равен:','{0:.3f}'.format(stats.mannwhitneyu(sampleAFiltered, sampleBFiltered)[1]))\n",
    "print('Среднее колличество заказов по очищенным данным группы В относительно группы А:',\\\n",
    "      '{0:.3f}'.format(sampleBFiltered.mean()/sampleAFiltered.mean()-1))"
   ]
  },
  {
   "cell_type": "markdown",
   "metadata": {},
   "source": [
    "__Вывод:__\n",
    "\n",
    "__По «очищенным» данным есть различия в среднем числе заказов групп A и B, значит отвергаем нулевую гипотезу.__\n",
    "\n",
    "Результаты по среднему кол-ву заказов на посетителя по очищенным данным практически не изменились. p-value немного уменьшилось и составило 0.013, а вот прирост среднего колличества заказов группы В увеличичился на 4% и составил более 17.3%. "
   ]
  },
  {
   "cell_type": "markdown",
   "metadata": {},
   "source": [
    "### Считаем статистическую значимость различий в среднем чеке заказа между группами по «очищенным» данным."
   ]
  },
  {
   "cell_type": "markdown",
   "metadata": {},
   "source": [
    "__Нулевая гипотеза:__ различий в среднем чеке заказа между группами нет. \n",
    "\n",
    "__Альтернативная гипотеза:__ различия в среднем чеке заказа между группами есть.\n",
    "\n",
    "Порог статистической значимости: __alpha = .05__"
   ]
  },
  {
   "cell_type": "code",
   "execution_count": 32,
   "metadata": {},
   "outputs": [
    {
     "name": "stdout",
     "output_type": "stream",
     "text": [
      "P-value после очищенным данным равен: 0.738\n",
      "Средний чек заказа по очищенным данным группы В относительно группы А: -0.020\n"
     ]
    }
   ],
   "source": [
    "print('P-value после очищенным данным равен:',\n",
    "    '{0:.3f}'.format(\n",
    "        stats.mannwhitneyu(\n",
    "            orders[\n",
    "                np.logical_and(\n",
    "                    orders['group'] == 'A',\n",
    "                    np.logical_not(orders['visitor_id'].isin(abnormalUsers)),\n",
    "                )\n",
    "            ]['revenue'],\n",
    "            orders[\n",
    "                np.logical_and(\n",
    "                    orders['group'] == 'B',\n",
    "                    np.logical_not(orders['visitor_id'].isin(abnormalUsers)),\n",
    "                )\n",
    "            ]['revenue'],\n",
    "        )[1]\n",
    "    )\n",
    ")\n",
    "\n",
    "print('Средний чек заказа по очищенным данным группы В относительно группы А:',\n",
    "    \"{0:.3f}\".format(\n",
    "        orders[\n",
    "            np.logical_and(\n",
    "                orders['group'] == 'B',\n",
    "                np.logical_not(orders['visitor_id'].isin(abnormalUsers)),\n",
    "            )\n",
    "        ]['revenue'].mean()\n",
    "        / orders[\n",
    "            np.logical_and(\n",
    "                orders['group'] == 'A',\n",
    "                np.logical_not(orders['visitor_id'].isin(abnormalUsers)),\n",
    "            )\n",
    "        ]['revenue'].mean()\n",
    "        - 1\n",
    "    )\n",
    ")"
   ]
  },
  {
   "cell_type": "markdown",
   "metadata": {},
   "source": [
    "__Вывод:__\n",
    "\n",
    "__По «очищенным» данным нет различия в среднем чеке заказов групп A и B, значит не отвергаем нулевую гипотезу.__\n",
    "\n",
    "По «очищенным» данным различий в среднем числе заказов групп A и B нет. P-value = 0.738 больше 0.05. Разница средних чеков между группами по очищенным данным сократилась. Средний чек заказов группы А выше среднего чека группы В по очищенным данным на 2%."
   ]
  },
  {
   "cell_type": "markdown",
   "metadata": {},
   "source": [
    "# Вывод"
   ]
  },
  {
   "cell_type": "markdown",
   "metadata": {},
   "source": [
    "В ходе исследования выполнили все поставленные задачи, а именно:\n",
    "\n",
    "    - Провели предобработку данных для дальнейшего анализа\n",
    "    - Приоритезировали гипотезы методами ICE и RICE\n",
    "    - Построили следующие графики в рамках A/B тестирования:\n",
    "        - График кумулятивной выручки по группам\n",
    "        - График кумулятивного среднего чека по группам\n",
    "        - График относительного изменения среднего чека группы В к группе А\n",
    "        - График кумулятивного среднего колличества заказов по группам\n",
    "        - График относительного изменения среднего кол-ва заказов группы В к группе А\n",
    "        - График кол-ва заказов по полльзователям\n",
    "        - Посчитали выбросы в кол-ве заказов и построили график\n",
    "        - Посчитали выбросы в стоимостях заказов и построили график\n",
    "        - Посчитали стат.значимость различий ср. кол-ва заказов между группами по сырым данным\n",
    "        - Посчитали стат.значимость различий стоимостей заказов между группами по сырым данным\n",
    "        - Посчитали стат.значимость различий ср. кол-ва заказов между группами по очищенным данным\n",
    "        - Посчитали стат.значимость различий стоимостей заказов между группами по сырым данным\n",
    "\n",
    "Методом RICE определили более приоритетную гипотезу для исследования: __Добавить форму подписки на все основные страницы, чтобы собрать базу клиентов для email-рассылок.__\n",
    "\n",
    "__Имеющиеся факты:__\n",
    "\n",
    "    - Графики кумулятивной выручки и кумулятивного среднего чека по группам показывают стабильный рост во времени. При этом наблюдает всплеск в группе В 18 августа и далее стабилизация роста. Лидирует группа В.\n",
    "    \n",
    "    - На графике кумулятивного среднего количества заказов на посетителя  Группа А показывала лучшую динамику в период с 1-6 августа и стабилизировалась в районе 3%. Начиная с 6 августа группа В вырвалась в лидеры и показывала среднее колличество заказов в среднем на 3-4% больше чем в группе А и стабилизировалась на 3.5%. Интересно, что максимальное (~ 3.7%) и минимальное(~ 2.8%) значение колличества покупок видим в группе А. Такое резкое падение среднего колличества заказов может быть связано с реакцией пользователей на нововведение.\n",
    "    \n",
    "    - Точечные графики количества заказов и их стоимостей показывает наличие аномалий. Не более 5% пользователей оформляли больше чем 2 заказа. Менее 5% пользователей оформили заказ дороже 28 000 руб Будем считать заказы на сумму более 28 000 и заказы более 2 штук аномальными.\n",
    "    \n",
    "    - Присутсвует статистически значимые различия по среднему количеству заказов между группами по «сырым» и по данным после фильтрации аномалий. Относительный прирост средней колличества заказов группы B на 14%-17% выше, чем в группе А\n",
    "    \n",
    "    - Различия в среднем чеке заказов групп A и B как по \"сырым\" данным, так и по \"очищенным\" отсутствуют. Средний чек по \"сырым\" данным значитель выше в группе В из-за наличия аномалий. Средний чек по \"очищенным\" данным примерно одинаковый в обеих группах с небольшим преимуществом в группе А.  \n",
    "\n",
    "__ВЫВОД:__\n",
    "\n",
    "Тест можно остановить и считать успешно пройденным. Так как после анализа мы видим, что группа В является более успешной, прирост среднего колличества заказов у группы В выше чем у группы А, хотя средний чек не имеет значимых различий между группами."
   ]
  }
 ],
 "metadata": {
  "ExecuteTimeLog": [
   {
    "duration": 482,
    "start_time": "2023-02-17T06:41:57.684Z"
   },
   {
    "duration": 26,
    "start_time": "2023-02-17T06:42:08.622Z"
   },
   {
    "duration": 178,
    "start_time": "2023-02-17T06:43:19.080Z"
   },
   {
    "duration": 13,
    "start_time": "2023-02-17T06:43:23.855Z"
   },
   {
    "duration": 77,
    "start_time": "2023-02-17T06:43:35.929Z"
   },
   {
    "duration": 26,
    "start_time": "2023-02-17T06:50:45.832Z"
   },
   {
    "duration": 106,
    "start_time": "2023-02-17T06:50:56.433Z"
   },
   {
    "duration": 32,
    "start_time": "2023-02-17T06:51:16.732Z"
   },
   {
    "duration": 17,
    "start_time": "2023-02-17T06:51:26.732Z"
   },
   {
    "duration": 75,
    "start_time": "2023-02-17T06:51:55.051Z"
   },
   {
    "duration": 11,
    "start_time": "2023-02-17T06:52:45.087Z"
   },
   {
    "duration": 4,
    "start_time": "2023-02-17T06:56:12.412Z"
   },
   {
    "duration": 78,
    "start_time": "2023-02-17T06:56:15.041Z"
   },
   {
    "duration": 9,
    "start_time": "2023-02-17T06:58:16.455Z"
   },
   {
    "duration": 9,
    "start_time": "2023-02-17T06:59:11.116Z"
   },
   {
    "duration": 377,
    "start_time": "2023-02-17T06:59:19.280Z"
   },
   {
    "duration": 87,
    "start_time": "2023-02-17T06:59:19.659Z"
   },
   {
    "duration": 25,
    "start_time": "2023-02-17T06:59:19.747Z"
   },
   {
    "duration": 84,
    "start_time": "2023-02-17T06:59:19.774Z"
   },
   {
    "duration": 4,
    "start_time": "2023-02-17T07:00:25.693Z"
   },
   {
    "duration": 8,
    "start_time": "2023-02-17T07:00:30.894Z"
   },
   {
    "duration": 3,
    "start_time": "2023-02-17T07:00:37.570Z"
   },
   {
    "duration": 3,
    "start_time": "2023-02-17T07:00:59.846Z"
   },
   {
    "duration": 10,
    "start_time": "2023-02-17T07:02:00.289Z"
   },
   {
    "duration": 7,
    "start_time": "2023-02-17T07:02:06.253Z"
   },
   {
    "duration": 8,
    "start_time": "2023-02-17T07:02:20.090Z"
   },
   {
    "duration": 6,
    "start_time": "2023-02-17T07:02:27.096Z"
   },
   {
    "duration": 14,
    "start_time": "2023-02-17T07:03:06.418Z"
   },
   {
    "duration": 7,
    "start_time": "2023-02-17T07:03:16.300Z"
   },
   {
    "duration": 53,
    "start_time": "2023-02-17T07:04:25.722Z"
   },
   {
    "duration": 7,
    "start_time": "2023-02-17T07:04:35.534Z"
   },
   {
    "duration": 12,
    "start_time": "2023-02-17T07:04:41.961Z"
   },
   {
    "duration": 10,
    "start_time": "2023-02-17T07:05:07.033Z"
   },
   {
    "duration": 42,
    "start_time": "2023-02-17T07:05:41.892Z"
   },
   {
    "duration": 12,
    "start_time": "2023-02-17T07:05:50.440Z"
   },
   {
    "duration": 9,
    "start_time": "2023-02-17T07:06:37.485Z"
   },
   {
    "duration": 10,
    "start_time": "2023-02-17T07:06:48.484Z"
   },
   {
    "duration": 11,
    "start_time": "2023-02-17T07:06:56.485Z"
   },
   {
    "duration": 9,
    "start_time": "2023-02-17T07:08:01.600Z"
   },
   {
    "duration": 9,
    "start_time": "2023-02-17T07:08:07.421Z"
   },
   {
    "duration": 6,
    "start_time": "2023-02-17T07:08:11.604Z"
   },
   {
    "duration": 15,
    "start_time": "2023-02-17T07:08:51.811Z"
   },
   {
    "duration": 10,
    "start_time": "2023-02-17T07:08:56.883Z"
   },
   {
    "duration": 7,
    "start_time": "2023-02-17T07:09:04.484Z"
   },
   {
    "duration": 5,
    "start_time": "2023-02-17T07:09:39.971Z"
   },
   {
    "duration": 11,
    "start_time": "2023-02-17T07:10:01.463Z"
   },
   {
    "duration": 8,
    "start_time": "2023-02-17T07:13:16.296Z"
   },
   {
    "duration": 5,
    "start_time": "2023-02-17T07:14:27.737Z"
   },
   {
    "duration": 10,
    "start_time": "2023-02-17T07:14:35.265Z"
   },
   {
    "duration": 11,
    "start_time": "2023-02-17T07:15:34.753Z"
   },
   {
    "duration": 13,
    "start_time": "2023-02-17T07:15:54.358Z"
   },
   {
    "duration": 11,
    "start_time": "2023-02-17T07:16:00.220Z"
   },
   {
    "duration": 5,
    "start_time": "2023-02-17T07:16:43.290Z"
   },
   {
    "duration": 15,
    "start_time": "2023-02-17T07:16:56.471Z"
   },
   {
    "duration": 6,
    "start_time": "2023-02-17T07:17:05.146Z"
   },
   {
    "duration": 12,
    "start_time": "2023-02-17T07:17:08.267Z"
   },
   {
    "duration": 11,
    "start_time": "2023-02-17T07:17:20.258Z"
   },
   {
    "duration": 13,
    "start_time": "2023-02-17T07:19:39.510Z"
   },
   {
    "duration": 873,
    "start_time": "2023-02-17T07:33:40.328Z"
   },
   {
    "duration": 76,
    "start_time": "2023-02-17T07:33:41.203Z"
   },
   {
    "duration": 23,
    "start_time": "2023-02-17T07:33:41.281Z"
   },
   {
    "duration": 4,
    "start_time": "2023-02-17T07:33:41.306Z"
   },
   {
    "duration": 20,
    "start_time": "2023-02-17T07:33:41.311Z"
   },
   {
    "duration": 25,
    "start_time": "2023-02-17T07:33:41.332Z"
   },
   {
    "duration": 14,
    "start_time": "2023-02-17T07:33:41.359Z"
   },
   {
    "duration": 18,
    "start_time": "2023-02-17T07:33:41.374Z"
   },
   {
    "duration": 930,
    "start_time": "2023-02-17T07:54:16.248Z"
   },
   {
    "duration": 84,
    "start_time": "2023-02-17T07:54:17.180Z"
   },
   {
    "duration": 35,
    "start_time": "2023-02-17T07:54:17.267Z"
   },
   {
    "duration": 4,
    "start_time": "2023-02-17T07:54:17.304Z"
   },
   {
    "duration": 32,
    "start_time": "2023-02-17T07:54:17.311Z"
   },
   {
    "duration": 27,
    "start_time": "2023-02-17T07:54:17.345Z"
   },
   {
    "duration": 30,
    "start_time": "2023-02-17T07:54:17.374Z"
   },
   {
    "duration": 34,
    "start_time": "2023-02-17T07:54:17.407Z"
   },
   {
    "duration": 19,
    "start_time": "2023-02-17T07:54:17.443Z"
   },
   {
    "duration": 11,
    "start_time": "2023-02-17T07:55:16.881Z"
   },
   {
    "duration": 3,
    "start_time": "2023-02-17T07:56:45.803Z"
   },
   {
    "duration": 454,
    "start_time": "2023-02-17T08:04:12.067Z"
   },
   {
    "duration": 14,
    "start_time": "2023-02-17T08:08:09.121Z"
   },
   {
    "duration": 11,
    "start_time": "2023-02-17T08:08:15.996Z"
   },
   {
    "duration": 4,
    "start_time": "2023-02-17T08:09:37.290Z"
   },
   {
    "duration": 9,
    "start_time": "2023-02-17T08:09:40.470Z"
   },
   {
    "duration": 6,
    "start_time": "2023-02-17T08:10:40.044Z"
   },
   {
    "duration": 9,
    "start_time": "2023-02-17T08:10:43.828Z"
   },
   {
    "duration": 6,
    "start_time": "2023-02-17T08:10:57.345Z"
   },
   {
    "duration": 107,
    "start_time": "2023-02-17T08:14:22.041Z"
   },
   {
    "duration": 12,
    "start_time": "2023-02-17T08:14:38.192Z"
   },
   {
    "duration": 5,
    "start_time": "2023-02-17T08:14:40.457Z"
   },
   {
    "duration": 30,
    "start_time": "2023-02-17T08:14:42.228Z"
   },
   {
    "duration": 61,
    "start_time": "2023-02-17T08:16:55.038Z"
   },
   {
    "duration": 198,
    "start_time": "2023-02-17T08:17:00.332Z"
   },
   {
    "duration": 12,
    "start_time": "2023-02-17T08:17:04.454Z"
   },
   {
    "duration": 183,
    "start_time": "2023-02-17T08:17:53.159Z"
   },
   {
    "duration": 15,
    "start_time": "2023-02-17T08:18:37.435Z"
   },
   {
    "duration": 113,
    "start_time": "2023-02-17T08:18:52.803Z"
   },
   {
    "duration": 10,
    "start_time": "2023-02-17T08:18:59.001Z"
   },
   {
    "duration": 6,
    "start_time": "2023-02-17T08:19:38.235Z"
   },
   {
    "duration": 6,
    "start_time": "2023-02-17T08:19:46.096Z"
   },
   {
    "duration": 8,
    "start_time": "2023-02-17T08:20:54.005Z"
   },
   {
    "duration": 13,
    "start_time": "2023-02-17T08:20:56.826Z"
   },
   {
    "duration": 149,
    "start_time": "2023-02-17T08:41:37.994Z"
   },
   {
    "duration": 12,
    "start_time": "2023-02-17T08:42:21.369Z"
   },
   {
    "duration": 4,
    "start_time": "2023-02-17T08:46:11.886Z"
   },
   {
    "duration": 14,
    "start_time": "2023-02-17T08:46:16.787Z"
   },
   {
    "duration": 4,
    "start_time": "2023-02-17T08:46:23.619Z"
   },
   {
    "duration": 217,
    "start_time": "2023-02-17T08:47:46.129Z"
   },
   {
    "duration": 1071,
    "start_time": "2023-02-17T08:47:52.574Z"
   },
   {
    "duration": 115,
    "start_time": "2023-02-17T08:47:53.647Z"
   },
   {
    "duration": 22,
    "start_time": "2023-02-17T08:47:53.764Z"
   },
   {
    "duration": 4,
    "start_time": "2023-02-17T08:47:53.787Z"
   },
   {
    "duration": 332,
    "start_time": "2023-02-17T08:47:53.793Z"
   },
   {
    "duration": 0,
    "start_time": "2023-02-17T08:47:54.127Z"
   },
   {
    "duration": 0,
    "start_time": "2023-02-17T08:47:54.129Z"
   },
   {
    "duration": 0,
    "start_time": "2023-02-17T08:47:54.130Z"
   },
   {
    "duration": 0,
    "start_time": "2023-02-17T08:47:54.131Z"
   },
   {
    "duration": 0,
    "start_time": "2023-02-17T08:47:54.132Z"
   },
   {
    "duration": 0,
    "start_time": "2023-02-17T08:47:54.133Z"
   },
   {
    "duration": 0,
    "start_time": "2023-02-17T08:47:54.135Z"
   },
   {
    "duration": 0,
    "start_time": "2023-02-17T08:47:54.136Z"
   },
   {
    "duration": 0,
    "start_time": "2023-02-17T08:47:54.137Z"
   },
   {
    "duration": 3,
    "start_time": "2023-02-17T08:49:08.474Z"
   },
   {
    "duration": 15,
    "start_time": "2023-02-17T08:49:14.272Z"
   },
   {
    "duration": 4,
    "start_time": "2023-02-17T08:49:18.909Z"
   },
   {
    "duration": 15,
    "start_time": "2023-02-17T08:50:49.551Z"
   },
   {
    "duration": 10,
    "start_time": "2023-02-17T08:50:54.391Z"
   },
   {
    "duration": 208,
    "start_time": "2023-02-17T08:50:56.105Z"
   },
   {
    "duration": 158,
    "start_time": "2023-02-17T08:51:05.368Z"
   },
   {
    "duration": 10,
    "start_time": "2023-02-17T08:51:07.683Z"
   },
   {
    "duration": 13,
    "start_time": "2023-02-17T08:51:09.278Z"
   },
   {
    "duration": 14,
    "start_time": "2023-02-17T08:52:50.930Z"
   },
   {
    "duration": 321,
    "start_time": "2023-02-17T08:56:17.485Z"
   },
   {
    "duration": 299,
    "start_time": "2023-02-17T08:56:28.853Z"
   },
   {
    "duration": 339,
    "start_time": "2023-02-17T08:58:12.403Z"
   },
   {
    "duration": 44,
    "start_time": "2023-02-17T08:59:23.367Z"
   },
   {
    "duration": 1179,
    "start_time": "2023-02-17T08:59:36.841Z"
   },
   {
    "duration": 156,
    "start_time": "2023-02-17T08:59:38.021Z"
   },
   {
    "duration": 27,
    "start_time": "2023-02-17T08:59:38.179Z"
   },
   {
    "duration": 4,
    "start_time": "2023-02-17T08:59:38.208Z"
   },
   {
    "duration": 15,
    "start_time": "2023-02-17T08:59:38.214Z"
   },
   {
    "duration": 91,
    "start_time": "2023-02-17T08:59:38.231Z"
   },
   {
    "duration": 0,
    "start_time": "2023-02-17T08:59:38.324Z"
   },
   {
    "duration": 0,
    "start_time": "2023-02-17T08:59:38.325Z"
   },
   {
    "duration": 0,
    "start_time": "2023-02-17T08:59:38.327Z"
   },
   {
    "duration": 0,
    "start_time": "2023-02-17T08:59:38.328Z"
   },
   {
    "duration": 0,
    "start_time": "2023-02-17T08:59:38.329Z"
   },
   {
    "duration": 0,
    "start_time": "2023-02-17T08:59:38.330Z"
   },
   {
    "duration": 596,
    "start_time": "2023-02-17T08:59:50.484Z"
   },
   {
    "duration": 221,
    "start_time": "2023-02-17T09:00:15.826Z"
   },
   {
    "duration": 301,
    "start_time": "2023-02-17T09:00:28.298Z"
   },
   {
    "duration": 231,
    "start_time": "2023-02-17T09:00:39.320Z"
   },
   {
    "duration": 190,
    "start_time": "2023-02-17T09:02:00.378Z"
   },
   {
    "duration": 12,
    "start_time": "2023-02-17T09:02:17.242Z"
   },
   {
    "duration": 11,
    "start_time": "2023-02-17T09:02:39.208Z"
   },
   {
    "duration": 1046,
    "start_time": "2023-02-17T09:02:45.352Z"
   },
   {
    "duration": 142,
    "start_time": "2023-02-17T09:02:46.401Z"
   },
   {
    "duration": 21,
    "start_time": "2023-02-17T09:02:46.545Z"
   },
   {
    "duration": 8,
    "start_time": "2023-02-17T09:02:46.568Z"
   },
   {
    "duration": 9,
    "start_time": "2023-02-17T09:02:46.578Z"
   },
   {
    "duration": 12,
    "start_time": "2023-02-17T09:02:46.588Z"
   },
   {
    "duration": 10,
    "start_time": "2023-02-17T09:02:46.602Z"
   },
   {
    "duration": 43,
    "start_time": "2023-02-17T09:02:46.614Z"
   },
   {
    "duration": 15,
    "start_time": "2023-02-17T09:02:46.659Z"
   },
   {
    "duration": 360,
    "start_time": "2023-02-17T09:02:46.677Z"
   },
   {
    "duration": 315,
    "start_time": "2023-02-17T09:02:47.039Z"
   },
   {
    "duration": 268,
    "start_time": "2023-02-17T09:02:59.254Z"
   },
   {
    "duration": 53,
    "start_time": "2023-02-17T09:04:11.532Z"
   },
   {
    "duration": 293,
    "start_time": "2023-02-17T09:06:30.572Z"
   },
   {
    "duration": 291,
    "start_time": "2023-02-17T09:10:00.314Z"
   },
   {
    "duration": 307,
    "start_time": "2023-02-17T09:10:05.833Z"
   },
   {
    "duration": 280,
    "start_time": "2023-02-17T09:10:09.510Z"
   },
   {
    "duration": 357,
    "start_time": "2023-02-17T09:10:38.814Z"
   },
   {
    "duration": 296,
    "start_time": "2023-02-17T09:10:44.108Z"
   },
   {
    "duration": 301,
    "start_time": "2023-02-17T09:10:49.151Z"
   },
   {
    "duration": 12,
    "start_time": "2023-02-17T09:11:56.289Z"
   },
   {
    "duration": 289,
    "start_time": "2023-02-17T09:12:15.189Z"
   },
   {
    "duration": 205,
    "start_time": "2023-02-17T09:12:25.784Z"
   },
   {
    "duration": 260,
    "start_time": "2023-02-17T09:13:07.141Z"
   },
   {
    "duration": 192,
    "start_time": "2023-02-17T09:14:11.328Z"
   },
   {
    "duration": 514,
    "start_time": "2023-02-17T09:15:52.435Z"
   },
   {
    "duration": 75,
    "start_time": "2023-02-17T09:15:52.952Z"
   },
   {
    "duration": 27,
    "start_time": "2023-02-17T09:15:53.029Z"
   },
   {
    "duration": 24,
    "start_time": "2023-02-17T09:15:53.058Z"
   },
   {
    "duration": 36,
    "start_time": "2023-02-17T09:15:53.084Z"
   },
   {
    "duration": 48,
    "start_time": "2023-02-17T09:15:53.123Z"
   },
   {
    "duration": 44,
    "start_time": "2023-02-17T09:15:53.173Z"
   },
   {
    "duration": 34,
    "start_time": "2023-02-17T09:15:53.219Z"
   },
   {
    "duration": 54,
    "start_time": "2023-02-17T09:15:53.255Z"
   },
   {
    "duration": 345,
    "start_time": "2023-02-17T09:15:53.312Z"
   },
   {
    "duration": 85,
    "start_time": "2023-02-17T09:15:53.659Z"
   },
   {
    "duration": 0,
    "start_time": "2023-02-17T09:15:53.746Z"
   },
   {
    "duration": 12,
    "start_time": "2023-02-17T09:16:05.540Z"
   },
   {
    "duration": 60,
    "start_time": "2023-02-17T09:16:51.631Z"
   },
   {
    "duration": 56,
    "start_time": "2023-02-17T09:16:58.061Z"
   },
   {
    "duration": 55,
    "start_time": "2023-02-17T09:17:07.231Z"
   },
   {
    "duration": 200,
    "start_time": "2023-02-17T09:17:14.804Z"
   },
   {
    "duration": 219,
    "start_time": "2023-02-17T09:17:32.398Z"
   },
   {
    "duration": 196,
    "start_time": "2023-02-17T09:18:18.436Z"
   },
   {
    "duration": 405,
    "start_time": "2023-02-17T09:18:23.648Z"
   },
   {
    "duration": 75,
    "start_time": "2023-02-17T09:18:24.055Z"
   },
   {
    "duration": 22,
    "start_time": "2023-02-17T09:18:24.132Z"
   },
   {
    "duration": 3,
    "start_time": "2023-02-17T09:18:24.156Z"
   },
   {
    "duration": 7,
    "start_time": "2023-02-17T09:18:24.160Z"
   },
   {
    "duration": 263,
    "start_time": "2023-02-17T09:18:24.168Z"
   },
   {
    "duration": 0,
    "start_time": "2023-02-17T09:18:24.433Z"
   },
   {
    "duration": 0,
    "start_time": "2023-02-17T09:18:24.435Z"
   },
   {
    "duration": 0,
    "start_time": "2023-02-17T09:18:24.436Z"
   },
   {
    "duration": 0,
    "start_time": "2023-02-17T09:18:24.437Z"
   },
   {
    "duration": 0,
    "start_time": "2023-02-17T09:18:24.438Z"
   },
   {
    "duration": 0,
    "start_time": "2023-02-17T09:18:24.440Z"
   },
   {
    "duration": 0,
    "start_time": "2023-02-17T09:18:24.442Z"
   },
   {
    "duration": 234,
    "start_time": "2023-02-17T09:18:53.298Z"
   },
   {
    "duration": 3,
    "start_time": "2023-02-17T09:19:10.584Z"
   },
   {
    "duration": 73,
    "start_time": "2023-02-17T09:19:13.092Z"
   },
   {
    "duration": 16,
    "start_time": "2023-02-17T09:19:19.585Z"
   },
   {
    "duration": 12,
    "start_time": "2023-02-17T09:20:00.306Z"
   },
   {
    "duration": 238,
    "start_time": "2023-02-17T09:20:18.749Z"
   },
   {
    "duration": 226,
    "start_time": "2023-02-17T09:20:28.724Z"
   },
   {
    "duration": 381,
    "start_time": "2023-02-17T09:20:35.984Z"
   },
   {
    "duration": 78,
    "start_time": "2023-02-17T09:20:36.367Z"
   },
   {
    "duration": 24,
    "start_time": "2023-02-17T09:20:36.447Z"
   },
   {
    "duration": 24,
    "start_time": "2023-02-17T09:20:36.473Z"
   },
   {
    "duration": 44,
    "start_time": "2023-02-17T09:20:36.500Z"
   },
   {
    "duration": 24,
    "start_time": "2023-02-17T09:20:36.547Z"
   },
   {
    "duration": 42,
    "start_time": "2023-02-17T09:20:36.572Z"
   },
   {
    "duration": 41,
    "start_time": "2023-02-17T09:20:36.616Z"
   },
   {
    "duration": 30,
    "start_time": "2023-02-17T09:20:36.659Z"
   },
   {
    "duration": 36,
    "start_time": "2023-02-17T09:20:36.691Z"
   },
   {
    "duration": 547,
    "start_time": "2023-02-17T09:20:36.728Z"
   },
   {
    "duration": 0,
    "start_time": "2023-02-17T09:20:37.277Z"
   },
   {
    "duration": 0,
    "start_time": "2023-02-17T09:20:37.279Z"
   },
   {
    "duration": 205,
    "start_time": "2023-02-17T09:21:20.356Z"
   },
   {
    "duration": 422,
    "start_time": "2023-02-17T09:21:25.828Z"
   },
   {
    "duration": 75,
    "start_time": "2023-02-17T09:21:26.252Z"
   },
   {
    "duration": 24,
    "start_time": "2023-02-17T09:21:26.329Z"
   },
   {
    "duration": 282,
    "start_time": "2023-02-17T09:21:26.355Z"
   },
   {
    "duration": 0,
    "start_time": "2023-02-17T09:21:26.639Z"
   },
   {
    "duration": 0,
    "start_time": "2023-02-17T09:21:26.641Z"
   },
   {
    "duration": 0,
    "start_time": "2023-02-17T09:21:26.642Z"
   },
   {
    "duration": 0,
    "start_time": "2023-02-17T09:21:26.643Z"
   },
   {
    "duration": 0,
    "start_time": "2023-02-17T09:21:26.644Z"
   },
   {
    "duration": 0,
    "start_time": "2023-02-17T09:21:26.645Z"
   },
   {
    "duration": 0,
    "start_time": "2023-02-17T09:21:26.647Z"
   },
   {
    "duration": 0,
    "start_time": "2023-02-17T09:21:26.648Z"
   },
   {
    "duration": 0,
    "start_time": "2023-02-17T09:21:26.649Z"
   },
   {
    "duration": 221,
    "start_time": "2023-02-17T09:21:39.089Z"
   },
   {
    "duration": 233,
    "start_time": "2023-02-17T09:22:00.085Z"
   },
   {
    "duration": 411,
    "start_time": "2023-02-17T09:22:05.841Z"
   },
   {
    "duration": 75,
    "start_time": "2023-02-17T09:22:06.254Z"
   },
   {
    "duration": 24,
    "start_time": "2023-02-17T09:22:06.330Z"
   },
   {
    "duration": 12,
    "start_time": "2023-02-17T09:22:06.356Z"
   },
   {
    "duration": 313,
    "start_time": "2023-02-17T09:22:06.369Z"
   },
   {
    "duration": 0,
    "start_time": "2023-02-17T09:22:06.683Z"
   },
   {
    "duration": 0,
    "start_time": "2023-02-17T09:22:06.685Z"
   },
   {
    "duration": 0,
    "start_time": "2023-02-17T09:22:06.686Z"
   },
   {
    "duration": 0,
    "start_time": "2023-02-17T09:22:06.687Z"
   },
   {
    "duration": 0,
    "start_time": "2023-02-17T09:22:06.689Z"
   },
   {
    "duration": 0,
    "start_time": "2023-02-17T09:22:06.690Z"
   },
   {
    "duration": 0,
    "start_time": "2023-02-17T09:22:06.692Z"
   },
   {
    "duration": 0,
    "start_time": "2023-02-17T09:22:06.693Z"
   },
   {
    "duration": 0,
    "start_time": "2023-02-17T09:22:06.694Z"
   },
   {
    "duration": 3,
    "start_time": "2023-02-17T09:22:29.014Z"
   },
   {
    "duration": 10,
    "start_time": "2023-02-17T09:22:44.248Z"
   },
   {
    "duration": 413,
    "start_time": "2023-02-17T09:22:50.049Z"
   },
   {
    "duration": 90,
    "start_time": "2023-02-17T09:22:50.464Z"
   },
   {
    "duration": 24,
    "start_time": "2023-02-17T09:22:50.556Z"
   },
   {
    "duration": 16,
    "start_time": "2023-02-17T09:22:50.581Z"
   },
   {
    "duration": 18,
    "start_time": "2023-02-17T09:22:50.600Z"
   },
   {
    "duration": 22,
    "start_time": "2023-02-17T09:22:50.620Z"
   },
   {
    "duration": 20,
    "start_time": "2023-02-17T09:22:50.644Z"
   },
   {
    "duration": 40,
    "start_time": "2023-02-17T09:22:50.666Z"
   },
   {
    "duration": 26,
    "start_time": "2023-02-17T09:22:50.708Z"
   },
   {
    "duration": 16,
    "start_time": "2023-02-17T09:22:50.736Z"
   },
   {
    "duration": 516,
    "start_time": "2023-02-17T09:22:50.754Z"
   },
   {
    "duration": 0,
    "start_time": "2023-02-17T09:22:51.272Z"
   },
   {
    "duration": 10,
    "start_time": "2023-02-17T09:23:05.043Z"
   },
   {
    "duration": 441,
    "start_time": "2023-02-17T09:23:11.616Z"
   },
   {
    "duration": 75,
    "start_time": "2023-02-17T09:23:12.060Z"
   },
   {
    "duration": 23,
    "start_time": "2023-02-17T09:23:12.137Z"
   },
   {
    "duration": 12,
    "start_time": "2023-02-17T09:23:12.162Z"
   },
   {
    "duration": 6,
    "start_time": "2023-02-17T09:23:12.176Z"
   },
   {
    "duration": 7,
    "start_time": "2023-02-17T09:23:12.184Z"
   },
   {
    "duration": 11,
    "start_time": "2023-02-17T09:23:12.193Z"
   },
   {
    "duration": 35,
    "start_time": "2023-02-17T09:23:12.206Z"
   },
   {
    "duration": 12,
    "start_time": "2023-02-17T09:23:12.243Z"
   },
   {
    "duration": 12,
    "start_time": "2023-02-17T09:23:12.256Z"
   },
   {
    "duration": 518,
    "start_time": "2023-02-17T09:23:12.269Z"
   },
   {
    "duration": 0,
    "start_time": "2023-02-17T09:23:12.789Z"
   },
   {
    "duration": 12,
    "start_time": "2023-02-17T09:27:21.848Z"
   },
   {
    "duration": 11,
    "start_time": "2023-02-17T09:27:42.944Z"
   },
   {
    "duration": 13,
    "start_time": "2023-02-17T09:28:02.450Z"
   },
   {
    "duration": 5,
    "start_time": "2023-02-17T09:28:35.534Z"
   },
   {
    "duration": 3,
    "start_time": "2023-02-17T09:28:49.697Z"
   },
   {
    "duration": 3,
    "start_time": "2023-02-17T09:28:52.365Z"
   },
   {
    "duration": 10,
    "start_time": "2023-02-17T09:28:55.615Z"
   },
   {
    "duration": 10,
    "start_time": "2023-02-17T09:28:58.956Z"
   },
   {
    "duration": 12,
    "start_time": "2023-02-17T09:29:04.005Z"
   },
   {
    "duration": 12,
    "start_time": "2023-02-17T09:29:08.014Z"
   },
   {
    "duration": 320,
    "start_time": "2023-02-17T09:29:13.782Z"
   },
   {
    "duration": 13,
    "start_time": "2023-02-17T09:29:18.780Z"
   },
   {
    "duration": 12,
    "start_time": "2023-02-17T09:29:21.547Z"
   },
   {
    "duration": 725,
    "start_time": "2023-02-17T09:29:50.925Z"
   },
   {
    "duration": 76,
    "start_time": "2023-02-17T09:29:51.652Z"
   },
   {
    "duration": 22,
    "start_time": "2023-02-17T09:29:51.730Z"
   },
   {
    "duration": 22,
    "start_time": "2023-02-17T09:29:51.754Z"
   },
   {
    "duration": 28,
    "start_time": "2023-02-17T09:29:51.778Z"
   },
   {
    "duration": 9,
    "start_time": "2023-02-17T09:29:51.808Z"
   },
   {
    "duration": 8,
    "start_time": "2023-02-17T09:29:51.819Z"
   },
   {
    "duration": 21,
    "start_time": "2023-02-17T09:29:51.828Z"
   },
   {
    "duration": 42,
    "start_time": "2023-02-17T09:29:51.851Z"
   },
   {
    "duration": 18,
    "start_time": "2023-02-17T09:29:51.895Z"
   },
   {
    "duration": 22,
    "start_time": "2023-02-17T09:29:51.915Z"
   },
   {
    "duration": 336,
    "start_time": "2023-02-17T09:29:51.939Z"
   },
   {
    "duration": 367,
    "start_time": "2023-02-17T09:29:52.278Z"
   },
   {
    "duration": 204,
    "start_time": "2023-02-17T09:30:10.346Z"
   },
   {
    "duration": 212,
    "start_time": "2023-02-17T09:30:21.405Z"
   },
   {
    "duration": 346,
    "start_time": "2023-02-17T09:31:58.177Z"
   },
   {
    "duration": 221,
    "start_time": "2023-02-17T09:32:17.640Z"
   },
   {
    "duration": 234,
    "start_time": "2023-02-17T09:32:27.350Z"
   },
   {
    "duration": 213,
    "start_time": "2023-02-17T09:32:30.291Z"
   },
   {
    "duration": 212,
    "start_time": "2023-02-17T09:37:51.009Z"
   },
   {
    "duration": 206,
    "start_time": "2023-02-17T09:45:30.466Z"
   },
   {
    "duration": 318,
    "start_time": "2023-02-17T09:51:15.329Z"
   },
   {
    "duration": 336,
    "start_time": "2023-02-17T09:52:58.806Z"
   },
   {
    "duration": 317,
    "start_time": "2023-02-17T09:53:06.643Z"
   },
   {
    "duration": 228,
    "start_time": "2023-02-17T10:16:03.973Z"
   },
   {
    "duration": 193,
    "start_time": "2023-02-17T10:16:20.147Z"
   },
   {
    "duration": 278,
    "start_time": "2023-02-17T10:18:41.607Z"
   },
   {
    "duration": 209,
    "start_time": "2023-02-17T10:18:48.640Z"
   },
   {
    "duration": 649,
    "start_time": "2023-02-17T11:24:38.555Z"
   },
   {
    "duration": 79,
    "start_time": "2023-02-17T11:24:39.205Z"
   },
   {
    "duration": 24,
    "start_time": "2023-02-17T11:24:39.285Z"
   },
   {
    "duration": 12,
    "start_time": "2023-02-17T11:24:39.311Z"
   },
   {
    "duration": 12,
    "start_time": "2023-02-17T11:24:39.325Z"
   },
   {
    "duration": 12,
    "start_time": "2023-02-17T11:24:39.338Z"
   },
   {
    "duration": 12,
    "start_time": "2023-02-17T11:24:39.352Z"
   },
   {
    "duration": 22,
    "start_time": "2023-02-17T11:24:39.365Z"
   },
   {
    "duration": 18,
    "start_time": "2023-02-17T11:24:39.389Z"
   },
   {
    "duration": 16,
    "start_time": "2023-02-17T11:24:39.409Z"
   },
   {
    "duration": 14,
    "start_time": "2023-02-17T11:24:39.427Z"
   },
   {
    "duration": 326,
    "start_time": "2023-02-17T11:24:39.443Z"
   },
   {
    "duration": 296,
    "start_time": "2023-02-17T11:24:39.771Z"
   },
   {
    "duration": 216,
    "start_time": "2023-02-17T11:24:40.069Z"
   },
   {
    "duration": 298,
    "start_time": "2023-02-17T11:24:40.287Z"
   },
   {
    "duration": 277,
    "start_time": "2023-02-17T11:24:40.587Z"
   },
   {
    "duration": 49,
    "start_time": "2023-02-17T11:30:52.804Z"
   },
   {
    "duration": 883,
    "start_time": "2023-02-17T11:30:58.898Z"
   },
   {
    "duration": 210,
    "start_time": "2023-02-17T11:30:59.783Z"
   },
   {
    "duration": 24,
    "start_time": "2023-02-17T11:30:59.996Z"
   },
   {
    "duration": 26,
    "start_time": "2023-02-17T11:31:00.021Z"
   },
   {
    "duration": 20,
    "start_time": "2023-02-17T11:31:00.050Z"
   },
   {
    "duration": 12,
    "start_time": "2023-02-17T11:31:00.072Z"
   },
   {
    "duration": 8,
    "start_time": "2023-02-17T11:31:00.085Z"
   },
   {
    "duration": 22,
    "start_time": "2023-02-17T11:31:00.095Z"
   },
   {
    "duration": 13,
    "start_time": "2023-02-17T11:31:00.119Z"
   },
   {
    "duration": 15,
    "start_time": "2023-02-17T11:31:00.134Z"
   },
   {
    "duration": 17,
    "start_time": "2023-02-17T11:31:00.150Z"
   },
   {
    "duration": 444,
    "start_time": "2023-02-17T11:31:00.169Z"
   },
   {
    "duration": 319,
    "start_time": "2023-02-17T11:31:00.615Z"
   },
   {
    "duration": 207,
    "start_time": "2023-02-17T11:31:00.937Z"
   },
   {
    "duration": 354,
    "start_time": "2023-02-17T11:31:01.146Z"
   },
   {
    "duration": 287,
    "start_time": "2023-02-17T11:31:01.502Z"
   },
   {
    "duration": 392,
    "start_time": "2023-02-17T11:47:16.379Z"
   },
   {
    "duration": 286,
    "start_time": "2023-02-17T11:47:28.381Z"
   },
   {
    "duration": 284,
    "start_time": "2023-02-17T11:48:51.433Z"
   },
   {
    "duration": 300,
    "start_time": "2023-02-17T11:49:00.885Z"
   },
   {
    "duration": 323,
    "start_time": "2023-02-17T11:50:08.225Z"
   },
   {
    "duration": 297,
    "start_time": "2023-02-17T11:50:21.712Z"
   },
   {
    "duration": 389,
    "start_time": "2023-02-17T11:50:26.476Z"
   },
   {
    "duration": 284,
    "start_time": "2023-02-17T11:50:34.048Z"
   },
   {
    "duration": 10,
    "start_time": "2023-02-17T11:58:01.074Z"
   },
   {
    "duration": 665,
    "start_time": "2023-02-17T11:58:11.436Z"
   },
   {
    "duration": 64,
    "start_time": "2023-02-17T11:58:12.103Z"
   },
   {
    "duration": 23,
    "start_time": "2023-02-17T11:58:12.169Z"
   },
   {
    "duration": 31,
    "start_time": "2023-02-17T11:58:12.195Z"
   },
   {
    "duration": 14,
    "start_time": "2023-02-17T11:58:12.230Z"
   },
   {
    "duration": 6,
    "start_time": "2023-02-17T11:58:12.247Z"
   },
   {
    "duration": 6,
    "start_time": "2023-02-17T11:58:12.255Z"
   },
   {
    "duration": 12,
    "start_time": "2023-02-17T11:58:12.263Z"
   },
   {
    "duration": 19,
    "start_time": "2023-02-17T11:58:12.277Z"
   },
   {
    "duration": 30,
    "start_time": "2023-02-17T11:58:12.298Z"
   },
   {
    "duration": 14,
    "start_time": "2023-02-17T11:58:12.329Z"
   },
   {
    "duration": 356,
    "start_time": "2023-02-17T11:58:12.346Z"
   },
   {
    "duration": 325,
    "start_time": "2023-02-17T11:58:12.704Z"
   },
   {
    "duration": 215,
    "start_time": "2023-02-17T11:58:13.032Z"
   },
   {
    "duration": 295,
    "start_time": "2023-02-17T11:58:13.249Z"
   },
   {
    "duration": 286,
    "start_time": "2023-02-17T11:58:13.545Z"
   },
   {
    "duration": 314,
    "start_time": "2023-02-17T11:58:13.833Z"
   },
   {
    "duration": 79,
    "start_time": "2023-02-17T11:58:14.149Z"
   },
   {
    "duration": 140,
    "start_time": "2023-02-17T11:58:44.034Z"
   },
   {
    "duration": 158,
    "start_time": "2023-02-17T11:58:56.753Z"
   },
   {
    "duration": 127,
    "start_time": "2023-02-17T11:59:25.556Z"
   },
   {
    "duration": 6,
    "start_time": "2023-02-17T12:09:09.841Z"
   },
   {
    "duration": 14,
    "start_time": "2023-02-17T12:09:15.117Z"
   },
   {
    "duration": 7,
    "start_time": "2023-02-17T12:10:26.972Z"
   },
   {
    "duration": 108,
    "start_time": "2023-02-17T12:10:58.370Z"
   },
   {
    "duration": 118,
    "start_time": "2023-02-17T12:11:43.123Z"
   },
   {
    "duration": 129,
    "start_time": "2023-02-17T12:13:23.456Z"
   },
   {
    "duration": 131,
    "start_time": "2023-02-17T12:13:36.172Z"
   },
   {
    "duration": 162,
    "start_time": "2023-02-17T12:13:47.111Z"
   },
   {
    "duration": 141,
    "start_time": "2023-02-17T12:16:11.395Z"
   },
   {
    "duration": 188,
    "start_time": "2023-02-17T12:16:17.133Z"
   },
   {
    "duration": 148,
    "start_time": "2023-02-17T12:16:30.164Z"
   },
   {
    "duration": 17,
    "start_time": "2023-02-17T12:17:24.055Z"
   },
   {
    "duration": 144,
    "start_time": "2023-02-17T12:17:33.990Z"
   },
   {
    "duration": 17,
    "start_time": "2023-02-17T12:17:42.473Z"
   },
   {
    "duration": 137,
    "start_time": "2023-02-17T12:17:51.226Z"
   },
   {
    "duration": 15,
    "start_time": "2023-02-17T12:18:34.141Z"
   },
   {
    "duration": 107,
    "start_time": "2023-02-17T12:21:31.214Z"
   },
   {
    "duration": 86,
    "start_time": "2023-02-17T12:21:38.589Z"
   },
   {
    "duration": 72,
    "start_time": "2023-02-17T12:21:50.344Z"
   },
   {
    "duration": 65,
    "start_time": "2023-02-17T12:22:10.695Z"
   },
   {
    "duration": 10,
    "start_time": "2023-02-17T12:22:25.062Z"
   },
   {
    "duration": 8,
    "start_time": "2023-02-17T12:22:31.319Z"
   },
   {
    "duration": 7,
    "start_time": "2023-02-17T12:22:55.147Z"
   },
   {
    "duration": 8,
    "start_time": "2023-02-17T12:22:59.800Z"
   },
   {
    "duration": 1168,
    "start_time": "2023-02-17T12:27:38.159Z"
   },
   {
    "duration": 5,
    "start_time": "2023-02-17T12:28:17.558Z"
   },
   {
    "duration": 627,
    "start_time": "2023-02-17T13:09:49.760Z"
   },
   {
    "duration": 66,
    "start_time": "2023-02-17T13:09:50.390Z"
   },
   {
    "duration": 22,
    "start_time": "2023-02-17T13:09:50.458Z"
   },
   {
    "duration": 14,
    "start_time": "2023-02-17T13:09:50.482Z"
   },
   {
    "duration": 16,
    "start_time": "2023-02-17T13:09:50.499Z"
   },
   {
    "duration": 31,
    "start_time": "2023-02-17T13:09:50.517Z"
   },
   {
    "duration": 7,
    "start_time": "2023-02-17T13:09:50.549Z"
   },
   {
    "duration": 22,
    "start_time": "2023-02-17T13:09:50.557Z"
   },
   {
    "duration": 9,
    "start_time": "2023-02-17T13:09:50.581Z"
   },
   {
    "duration": 28,
    "start_time": "2023-02-17T13:09:50.591Z"
   },
   {
    "duration": 13,
    "start_time": "2023-02-17T13:09:50.621Z"
   },
   {
    "duration": 406,
    "start_time": "2023-02-17T13:09:50.635Z"
   },
   {
    "duration": 302,
    "start_time": "2023-02-17T13:09:51.042Z"
   },
   {
    "duration": 206,
    "start_time": "2023-02-17T13:09:51.347Z"
   },
   {
    "duration": 382,
    "start_time": "2023-02-17T13:09:51.555Z"
   },
   {
    "duration": 291,
    "start_time": "2023-02-17T13:09:51.940Z"
   },
   {
    "duration": 314,
    "start_time": "2023-02-17T13:09:52.232Z"
   },
   {
    "duration": 181,
    "start_time": "2023-02-17T13:09:52.548Z"
   },
   {
    "duration": 5,
    "start_time": "2023-02-17T13:09:52.730Z"
   },
   {
    "duration": 22,
    "start_time": "2023-02-17T13:09:52.737Z"
   },
   {
    "duration": 168,
    "start_time": "2023-02-17T13:09:52.761Z"
   },
   {
    "duration": 148,
    "start_time": "2023-02-17T13:11:45.705Z"
   },
   {
    "duration": 165,
    "start_time": "2023-02-17T13:12:09.397Z"
   },
   {
    "duration": 174,
    "start_time": "2023-02-17T13:14:16.638Z"
   },
   {
    "duration": 155,
    "start_time": "2023-02-17T13:14:38.656Z"
   },
   {
    "duration": 184,
    "start_time": "2023-02-17T13:17:15.196Z"
   },
   {
    "duration": 161,
    "start_time": "2023-02-17T13:17:25.129Z"
   },
   {
    "duration": 163,
    "start_time": "2023-02-17T13:20:09.789Z"
   },
   {
    "duration": 213,
    "start_time": "2023-02-17T13:21:18.765Z"
   },
   {
    "duration": 10,
    "start_time": "2023-02-17T13:21:25.026Z"
   },
   {
    "duration": 148,
    "start_time": "2023-02-17T13:21:42.041Z"
   },
   {
    "duration": 5,
    "start_time": "2023-02-17T13:22:07.261Z"
   },
   {
    "duration": 167,
    "start_time": "2023-02-17T13:22:42.496Z"
   },
   {
    "duration": 6,
    "start_time": "2023-02-17T13:24:56.562Z"
   },
   {
    "duration": 10,
    "start_time": "2023-02-17T13:25:16.300Z"
   },
   {
    "duration": 96,
    "start_time": "2023-02-17T13:58:43.318Z"
   },
   {
    "duration": 84,
    "start_time": "2023-02-17T13:59:00.385Z"
   },
   {
    "duration": 70,
    "start_time": "2023-02-17T13:59:16.254Z"
   },
   {
    "duration": 102,
    "start_time": "2023-02-17T13:59:52.454Z"
   },
   {
    "duration": 86,
    "start_time": "2023-02-17T14:00:04.361Z"
   },
   {
    "duration": 79,
    "start_time": "2023-02-17T14:00:22.761Z"
   },
   {
    "duration": 109,
    "start_time": "2023-02-17T14:00:43.412Z"
   },
   {
    "duration": 78,
    "start_time": "2023-02-17T14:00:55.783Z"
   },
   {
    "duration": 99,
    "start_time": "2023-02-17T14:01:06.180Z"
   },
   {
    "duration": 79,
    "start_time": "2023-02-17T14:01:33.180Z"
   },
   {
    "duration": 663,
    "start_time": "2023-02-17T14:01:42.634Z"
   },
   {
    "duration": 76,
    "start_time": "2023-02-17T14:01:43.299Z"
   },
   {
    "duration": 20,
    "start_time": "2023-02-17T14:01:43.376Z"
   },
   {
    "duration": 12,
    "start_time": "2023-02-17T14:01:43.398Z"
   },
   {
    "duration": 11,
    "start_time": "2023-02-17T14:01:43.412Z"
   },
   {
    "duration": 23,
    "start_time": "2023-02-17T14:01:43.424Z"
   },
   {
    "duration": 6,
    "start_time": "2023-02-17T14:01:43.449Z"
   },
   {
    "duration": 16,
    "start_time": "2023-02-17T14:01:43.457Z"
   },
   {
    "duration": 11,
    "start_time": "2023-02-17T14:01:43.475Z"
   },
   {
    "duration": 12,
    "start_time": "2023-02-17T14:01:43.488Z"
   },
   {
    "duration": 13,
    "start_time": "2023-02-17T14:01:43.502Z"
   },
   {
    "duration": 365,
    "start_time": "2023-02-17T14:01:43.517Z"
   },
   {
    "duration": 327,
    "start_time": "2023-02-17T14:01:43.884Z"
   },
   {
    "duration": 229,
    "start_time": "2023-02-17T14:01:44.215Z"
   },
   {
    "duration": 327,
    "start_time": "2023-02-17T14:01:44.446Z"
   },
   {
    "duration": 303,
    "start_time": "2023-02-17T14:01:44.774Z"
   },
   {
    "duration": 85,
    "start_time": "2023-02-17T14:01:45.080Z"
   },
   {
    "duration": 0,
    "start_time": "2023-02-17T14:01:45.167Z"
   },
   {
    "duration": 0,
    "start_time": "2023-02-17T14:01:45.169Z"
   },
   {
    "duration": 0,
    "start_time": "2023-02-17T14:01:45.171Z"
   },
   {
    "duration": 0,
    "start_time": "2023-02-17T14:01:45.173Z"
   },
   {
    "duration": 103,
    "start_time": "2023-02-17T14:02:18.962Z"
   },
   {
    "duration": 90,
    "start_time": "2023-02-17T14:02:36.866Z"
   },
   {
    "duration": 107,
    "start_time": "2023-02-17T14:02:59.668Z"
   },
   {
    "duration": 75,
    "start_time": "2023-02-17T14:03:04.344Z"
   },
   {
    "duration": 85,
    "start_time": "2023-02-17T14:04:45.419Z"
   },
   {
    "duration": 91,
    "start_time": "2023-02-17T14:04:57.576Z"
   },
   {
    "duration": 73,
    "start_time": "2023-02-17T14:05:09.455Z"
   },
   {
    "duration": 93,
    "start_time": "2023-02-17T14:05:15.685Z"
   },
   {
    "duration": 71,
    "start_time": "2023-02-17T14:05:36.970Z"
   },
   {
    "duration": 73,
    "start_time": "2023-02-17T14:05:47.680Z"
   },
   {
    "duration": 301,
    "start_time": "2023-02-17T14:06:34.860Z"
   },
   {
    "duration": 140,
    "start_time": "2023-02-17T14:08:01.124Z"
   },
   {
    "duration": 14,
    "start_time": "2023-02-17T14:08:29.111Z"
   },
   {
    "duration": 153,
    "start_time": "2023-02-17T14:09:41.593Z"
   },
   {
    "duration": 143,
    "start_time": "2023-02-17T14:10:57.724Z"
   },
   {
    "duration": 9,
    "start_time": "2023-02-17T14:12:56.038Z"
   },
   {
    "duration": 165,
    "start_time": "2023-02-17T14:13:06.054Z"
   },
   {
    "duration": 9,
    "start_time": "2023-02-17T14:13:08.895Z"
   },
   {
    "duration": 3,
    "start_time": "2023-02-17T14:15:36.476Z"
   },
   {
    "duration": 140,
    "start_time": "2023-02-17T14:17:09.052Z"
   },
   {
    "duration": 10,
    "start_time": "2023-02-17T14:17:34.027Z"
   },
   {
    "duration": 111,
    "start_time": "2023-02-17T14:20:26.097Z"
   },
   {
    "duration": 213,
    "start_time": "2023-02-17T14:21:02.041Z"
   },
   {
    "duration": 138,
    "start_time": "2023-02-17T14:25:17.137Z"
   },
   {
    "duration": 154,
    "start_time": "2023-02-17T14:29:41.778Z"
   },
   {
    "duration": 7,
    "start_time": "2023-02-17T14:30:03.161Z"
   },
   {
    "duration": 7,
    "start_time": "2023-02-17T14:30:20.820Z"
   },
   {
    "duration": 5,
    "start_time": "2023-02-17T14:30:41.283Z"
   },
   {
    "duration": 9,
    "start_time": "2023-02-17T14:31:59.499Z"
   },
   {
    "duration": 6,
    "start_time": "2023-02-17T14:34:36.102Z"
   },
   {
    "duration": 6,
    "start_time": "2023-02-17T14:34:59.094Z"
   },
   {
    "duration": 6,
    "start_time": "2023-02-17T14:35:29.073Z"
   },
   {
    "duration": 10,
    "start_time": "2023-02-17T14:35:36.643Z"
   },
   {
    "duration": 6,
    "start_time": "2023-02-17T14:35:39.384Z"
   },
   {
    "duration": 9,
    "start_time": "2023-02-17T14:40:21.281Z"
   },
   {
    "duration": 437,
    "start_time": "2023-02-17T14:41:41.378Z"
   },
   {
    "duration": 1030,
    "start_time": "2023-02-17T14:41:46.560Z"
   },
   {
    "duration": 69,
    "start_time": "2023-02-17T14:41:47.592Z"
   },
   {
    "duration": 20,
    "start_time": "2023-02-17T14:41:47.662Z"
   },
   {
    "duration": 12,
    "start_time": "2023-02-17T14:41:47.683Z"
   },
   {
    "duration": 6,
    "start_time": "2023-02-17T14:41:47.697Z"
   },
   {
    "duration": 11,
    "start_time": "2023-02-17T14:41:47.704Z"
   },
   {
    "duration": 23,
    "start_time": "2023-02-17T14:41:47.717Z"
   },
   {
    "duration": 17,
    "start_time": "2023-02-17T14:41:47.742Z"
   },
   {
    "duration": 9,
    "start_time": "2023-02-17T14:41:47.761Z"
   },
   {
    "duration": 16,
    "start_time": "2023-02-17T14:41:47.771Z"
   },
   {
    "duration": 12,
    "start_time": "2023-02-17T14:41:47.788Z"
   },
   {
    "duration": 329,
    "start_time": "2023-02-17T14:41:47.802Z"
   },
   {
    "duration": 280,
    "start_time": "2023-02-17T14:41:48.133Z"
   },
   {
    "duration": 199,
    "start_time": "2023-02-17T14:41:48.416Z"
   },
   {
    "duration": 324,
    "start_time": "2023-02-17T14:41:48.617Z"
   },
   {
    "duration": 231,
    "start_time": "2023-02-17T14:41:48.943Z"
   },
   {
    "duration": 268,
    "start_time": "2023-02-17T14:41:49.176Z"
   },
   {
    "duration": 151,
    "start_time": "2023-02-17T14:41:49.446Z"
   },
   {
    "duration": 4,
    "start_time": "2023-02-17T14:41:49.599Z"
   },
   {
    "duration": 141,
    "start_time": "2023-02-17T14:41:49.604Z"
   },
   {
    "duration": 4,
    "start_time": "2023-02-17T14:41:49.747Z"
   },
   {
    "duration": 222,
    "start_time": "2023-02-17T14:41:49.752Z"
   },
   {
    "duration": 143,
    "start_time": "2023-02-17T14:41:49.975Z"
   },
   {
    "duration": 11,
    "start_time": "2023-02-17T14:41:50.119Z"
   },
   {
    "duration": 31,
    "start_time": "2023-02-17T14:41:50.131Z"
   },
   {
    "duration": 300,
    "start_time": "2023-02-17T14:47:44.217Z"
   },
   {
    "duration": 1200,
    "start_time": "2023-02-18T06:29:49.059Z"
   },
   {
    "duration": 185,
    "start_time": "2023-02-18T06:29:50.261Z"
   },
   {
    "duration": 19,
    "start_time": "2023-02-18T06:29:50.448Z"
   },
   {
    "duration": 12,
    "start_time": "2023-02-18T06:29:50.469Z"
   },
   {
    "duration": 6,
    "start_time": "2023-02-18T06:29:50.483Z"
   },
   {
    "duration": 8,
    "start_time": "2023-02-18T06:29:50.491Z"
   },
   {
    "duration": 12,
    "start_time": "2023-02-18T06:29:50.500Z"
   },
   {
    "duration": 10,
    "start_time": "2023-02-18T06:29:50.514Z"
   },
   {
    "duration": 10,
    "start_time": "2023-02-18T06:29:50.526Z"
   },
   {
    "duration": 13,
    "start_time": "2023-02-18T06:29:50.538Z"
   },
   {
    "duration": 12,
    "start_time": "2023-02-18T06:29:50.553Z"
   },
   {
    "duration": 321,
    "start_time": "2023-02-18T06:29:50.567Z"
   },
   {
    "duration": 286,
    "start_time": "2023-02-18T06:29:50.889Z"
   },
   {
    "duration": 199,
    "start_time": "2023-02-18T06:29:51.177Z"
   },
   {
    "duration": 370,
    "start_time": "2023-02-18T06:29:51.378Z"
   },
   {
    "duration": 232,
    "start_time": "2023-02-18T06:29:51.749Z"
   },
   {
    "duration": 321,
    "start_time": "2023-02-18T06:29:51.982Z"
   },
   {
    "duration": 146,
    "start_time": "2023-02-18T06:29:52.305Z"
   },
   {
    "duration": 4,
    "start_time": "2023-02-18T06:29:52.453Z"
   },
   {
    "duration": 155,
    "start_time": "2023-02-18T06:29:52.458Z"
   },
   {
    "duration": 5,
    "start_time": "2023-02-18T06:29:52.614Z"
   },
   {
    "duration": 239,
    "start_time": "2023-02-18T06:29:52.620Z"
   },
   {
    "duration": 177,
    "start_time": "2023-02-18T06:29:52.860Z"
   },
   {
    "duration": 8,
    "start_time": "2023-02-18T06:29:53.038Z"
   },
   {
    "duration": 27,
    "start_time": "2023-02-18T06:29:53.048Z"
   },
   {
    "duration": 1146,
    "start_time": "2023-02-18T06:56:46.374Z"
   },
   {
    "duration": 67,
    "start_time": "2023-02-18T06:56:47.523Z"
   },
   {
    "duration": 35,
    "start_time": "2023-02-18T06:56:47.591Z"
   },
   {
    "duration": 19,
    "start_time": "2023-02-18T06:56:47.628Z"
   },
   {
    "duration": 10,
    "start_time": "2023-02-18T06:56:47.650Z"
   },
   {
    "duration": 7,
    "start_time": "2023-02-18T06:56:47.662Z"
   },
   {
    "duration": 7,
    "start_time": "2023-02-18T06:56:47.671Z"
   },
   {
    "duration": 32,
    "start_time": "2023-02-18T06:56:47.680Z"
   },
   {
    "duration": 16,
    "start_time": "2023-02-18T06:56:47.717Z"
   },
   {
    "duration": 13,
    "start_time": "2023-02-18T06:56:47.736Z"
   },
   {
    "duration": 13,
    "start_time": "2023-02-18T06:56:47.750Z"
   },
   {
    "duration": 359,
    "start_time": "2023-02-18T06:56:47.765Z"
   },
   {
    "duration": 303,
    "start_time": "2023-02-18T06:56:48.126Z"
   },
   {
    "duration": 207,
    "start_time": "2023-02-18T06:56:48.432Z"
   },
   {
    "duration": 312,
    "start_time": "2023-02-18T06:56:48.641Z"
   },
   {
    "duration": 270,
    "start_time": "2023-02-18T06:56:48.955Z"
   },
   {
    "duration": 311,
    "start_time": "2023-02-18T06:56:49.230Z"
   },
   {
    "duration": 165,
    "start_time": "2023-02-18T06:56:49.543Z"
   },
   {
    "duration": 12,
    "start_time": "2023-02-18T06:56:49.710Z"
   },
   {
    "duration": 166,
    "start_time": "2023-02-18T06:56:49.724Z"
   },
   {
    "duration": 16,
    "start_time": "2023-02-18T06:56:49.892Z"
   },
   {
    "duration": 253,
    "start_time": "2023-02-18T06:56:49.917Z"
   },
   {
    "duration": 154,
    "start_time": "2023-02-18T06:56:50.172Z"
   },
   {
    "duration": 7,
    "start_time": "2023-02-18T06:56:50.328Z"
   },
   {
    "duration": 38,
    "start_time": "2023-02-18T06:56:50.337Z"
   },
   {
    "duration": 1368,
    "start_time": "2023-02-18T07:03:25.474Z"
   },
   {
    "duration": 1300,
    "start_time": "2023-02-18T07:03:53.288Z"
   },
   {
    "duration": 1306,
    "start_time": "2023-02-18T07:04:46.925Z"
   },
   {
    "duration": 1230,
    "start_time": "2023-02-18T07:04:54.829Z"
   },
   {
    "duration": 80,
    "start_time": "2023-02-18T07:04:56.061Z"
   },
   {
    "duration": 26,
    "start_time": "2023-02-18T07:04:56.143Z"
   },
   {
    "duration": 18,
    "start_time": "2023-02-18T07:04:56.170Z"
   },
   {
    "duration": 7,
    "start_time": "2023-02-18T07:04:56.190Z"
   },
   {
    "duration": 25,
    "start_time": "2023-02-18T07:04:56.199Z"
   },
   {
    "duration": 6,
    "start_time": "2023-02-18T07:04:56.225Z"
   },
   {
    "duration": 13,
    "start_time": "2023-02-18T07:04:56.232Z"
   },
   {
    "duration": 16,
    "start_time": "2023-02-18T07:04:56.247Z"
   },
   {
    "duration": 13,
    "start_time": "2023-02-18T07:04:56.265Z"
   },
   {
    "duration": 14,
    "start_time": "2023-02-18T07:04:56.280Z"
   },
   {
    "duration": 338,
    "start_time": "2023-02-18T07:04:56.295Z"
   },
   {
    "duration": 307,
    "start_time": "2023-02-18T07:04:56.635Z"
   },
   {
    "duration": 218,
    "start_time": "2023-02-18T07:04:56.945Z"
   },
   {
    "duration": 369,
    "start_time": "2023-02-18T07:04:57.165Z"
   },
   {
    "duration": 293,
    "start_time": "2023-02-18T07:04:57.536Z"
   },
   {
    "duration": 306,
    "start_time": "2023-02-18T07:04:57.831Z"
   },
   {
    "duration": 158,
    "start_time": "2023-02-18T07:04:58.139Z"
   },
   {
    "duration": 16,
    "start_time": "2023-02-18T07:04:58.302Z"
   },
   {
    "duration": 147,
    "start_time": "2023-02-18T07:04:58.320Z"
   },
   {
    "duration": 5,
    "start_time": "2023-02-18T07:04:58.469Z"
   },
   {
    "duration": 234,
    "start_time": "2023-02-18T07:04:58.476Z"
   },
   {
    "duration": 154,
    "start_time": "2023-02-18T07:04:58.716Z"
   },
   {
    "duration": 6,
    "start_time": "2023-02-18T07:04:58.872Z"
   },
   {
    "duration": 42,
    "start_time": "2023-02-18T07:04:58.880Z"
   },
   {
    "duration": 1402,
    "start_time": "2023-02-18T07:04:58.924Z"
   },
   {
    "duration": 9,
    "start_time": "2023-02-18T07:07:03.279Z"
   },
   {
    "duration": 8,
    "start_time": "2023-02-18T07:10:28.075Z"
   },
   {
    "duration": 14,
    "start_time": "2023-02-18T07:13:41.109Z"
   },
   {
    "duration": 22,
    "start_time": "2023-02-18T07:16:25.615Z"
   },
   {
    "duration": 37,
    "start_time": "2023-02-18T07:18:24.398Z"
   },
   {
    "duration": 37,
    "start_time": "2023-02-18T07:22:36.888Z"
   },
   {
    "duration": 13,
    "start_time": "2023-02-18T07:23:29.167Z"
   },
   {
    "duration": 13,
    "start_time": "2023-02-18T07:24:00.549Z"
   },
   {
    "duration": 14,
    "start_time": "2023-02-18T07:28:43.763Z"
   },
   {
    "duration": 1143,
    "start_time": "2023-02-18T07:48:43.209Z"
   },
   {
    "duration": 20,
    "start_time": "2023-02-18T07:57:40.912Z"
   },
   {
    "duration": 1298,
    "start_time": "2023-02-18T12:03:18.461Z"
   },
   {
    "duration": 282,
    "start_time": "2023-02-18T12:03:19.761Z"
   },
   {
    "duration": 23,
    "start_time": "2023-02-18T12:03:20.045Z"
   },
   {
    "duration": 13,
    "start_time": "2023-02-18T12:03:20.071Z"
   },
   {
    "duration": 6,
    "start_time": "2023-02-18T12:03:20.086Z"
   },
   {
    "duration": 5,
    "start_time": "2023-02-18T12:03:20.093Z"
   },
   {
    "duration": 5,
    "start_time": "2023-02-18T12:03:20.100Z"
   },
   {
    "duration": 10,
    "start_time": "2023-02-18T12:03:20.106Z"
   },
   {
    "duration": 9,
    "start_time": "2023-02-18T12:03:20.118Z"
   },
   {
    "duration": 12,
    "start_time": "2023-02-18T12:03:20.130Z"
   },
   {
    "duration": 12,
    "start_time": "2023-02-18T12:03:20.144Z"
   },
   {
    "duration": 360,
    "start_time": "2023-02-18T12:03:20.158Z"
   },
   {
    "duration": 288,
    "start_time": "2023-02-18T12:03:20.520Z"
   },
   {
    "duration": 210,
    "start_time": "2023-02-18T12:03:20.810Z"
   },
   {
    "duration": 333,
    "start_time": "2023-02-18T12:03:21.022Z"
   },
   {
    "duration": 241,
    "start_time": "2023-02-18T12:03:21.357Z"
   },
   {
    "duration": 303,
    "start_time": "2023-02-18T12:03:21.600Z"
   },
   {
    "duration": 140,
    "start_time": "2023-02-18T12:03:21.905Z"
   },
   {
    "duration": 4,
    "start_time": "2023-02-18T12:03:22.047Z"
   },
   {
    "duration": 151,
    "start_time": "2023-02-18T12:03:22.053Z"
   },
   {
    "duration": 4,
    "start_time": "2023-02-18T12:03:22.206Z"
   },
   {
    "duration": 220,
    "start_time": "2023-02-18T12:03:22.212Z"
   },
   {
    "duration": 159,
    "start_time": "2023-02-18T12:03:22.434Z"
   },
   {
    "duration": 27,
    "start_time": "2023-02-18T12:03:22.595Z"
   },
   {
    "duration": 11,
    "start_time": "2023-02-18T12:03:22.624Z"
   },
   {
    "duration": 16,
    "start_time": "2023-02-18T12:03:22.637Z"
   },
   {
    "duration": 52,
    "start_time": "2023-02-18T12:03:22.655Z"
   },
   {
    "duration": 15,
    "start_time": "2023-02-18T12:03:22.710Z"
   },
   {
    "duration": 4,
    "start_time": "2023-02-18T12:39:24.145Z"
   },
   {
    "duration": 4,
    "start_time": "2023-02-18T12:39:55.891Z"
   },
   {
    "duration": 1237,
    "start_time": "2023-02-18T14:52:06.831Z"
   },
   {
    "duration": 290,
    "start_time": "2023-02-18T14:52:08.070Z"
   },
   {
    "duration": 20,
    "start_time": "2023-02-18T14:52:08.361Z"
   },
   {
    "duration": 19,
    "start_time": "2023-02-18T14:52:08.382Z"
   },
   {
    "duration": 25,
    "start_time": "2023-02-18T14:52:08.404Z"
   },
   {
    "duration": 6,
    "start_time": "2023-02-18T14:52:08.430Z"
   },
   {
    "duration": 6,
    "start_time": "2023-02-18T14:52:08.437Z"
   },
   {
    "duration": 11,
    "start_time": "2023-02-18T14:52:08.445Z"
   },
   {
    "duration": 11,
    "start_time": "2023-02-18T14:52:08.458Z"
   },
   {
    "duration": 13,
    "start_time": "2023-02-18T14:52:08.470Z"
   },
   {
    "duration": 23,
    "start_time": "2023-02-18T14:52:08.484Z"
   },
   {
    "duration": 365,
    "start_time": "2023-02-18T14:52:08.509Z"
   },
   {
    "duration": 347,
    "start_time": "2023-02-18T14:52:08.877Z"
   },
   {
    "duration": 201,
    "start_time": "2023-02-18T14:52:09.228Z"
   },
   {
    "duration": 323,
    "start_time": "2023-02-18T14:52:09.431Z"
   },
   {
    "duration": 242,
    "start_time": "2023-02-18T14:52:09.756Z"
   },
   {
    "duration": 284,
    "start_time": "2023-02-18T14:52:10.000Z"
   },
   {
    "duration": 164,
    "start_time": "2023-02-18T14:52:10.286Z"
   },
   {
    "duration": 4,
    "start_time": "2023-02-18T14:52:10.452Z"
   },
   {
    "duration": 253,
    "start_time": "2023-02-18T14:52:10.458Z"
   },
   {
    "duration": 6,
    "start_time": "2023-02-18T14:52:10.713Z"
   },
   {
    "duration": 693,
    "start_time": "2023-02-18T14:52:10.721Z"
   },
   {
    "duration": 430,
    "start_time": "2023-02-18T14:52:11.417Z"
   },
   {
    "duration": 51,
    "start_time": "2023-02-18T14:52:11.893Z"
   },
   {
    "duration": 51,
    "start_time": "2023-02-18T14:52:11.946Z"
   },
   {
    "duration": 39,
    "start_time": "2023-02-18T14:52:11.999Z"
   },
   {
    "duration": 57,
    "start_time": "2023-02-18T14:52:12.039Z"
   },
   {
    "duration": 24,
    "start_time": "2023-02-18T14:52:12.098Z"
   },
   {
    "duration": 122,
    "start_time": "2023-02-18T14:52:39.043Z"
   },
   {
    "duration": 11,
    "start_time": "2023-02-18T14:53:10.216Z"
   },
   {
    "duration": 6,
    "start_time": "2023-02-18T14:53:34.813Z"
   },
   {
    "duration": 4,
    "start_time": "2023-02-18T14:54:01.432Z"
   },
   {
    "duration": 5,
    "start_time": "2023-02-18T14:54:07.268Z"
   },
   {
    "duration": 4,
    "start_time": "2023-02-18T14:54:43.528Z"
   },
   {
    "duration": 4,
    "start_time": "2023-02-18T14:54:57.336Z"
   },
   {
    "duration": 7,
    "start_time": "2023-02-18T14:56:08.628Z"
   },
   {
    "duration": 7,
    "start_time": "2023-02-18T14:56:16.644Z"
   },
   {
    "duration": 5,
    "start_time": "2023-02-18T14:56:20.268Z"
   },
   {
    "duration": 5,
    "start_time": "2023-02-18T14:56:23.208Z"
   },
   {
    "duration": 5,
    "start_time": "2023-02-18T14:56:44.580Z"
   },
   {
    "duration": 6,
    "start_time": "2023-02-18T14:56:51.183Z"
   },
   {
    "duration": 5,
    "start_time": "2023-02-18T14:56:58.705Z"
   },
   {
    "duration": 7,
    "start_time": "2023-02-18T14:57:15.025Z"
   },
   {
    "duration": 5,
    "start_time": "2023-02-18T14:57:28.435Z"
   },
   {
    "duration": 8,
    "start_time": "2023-02-18T14:57:47.604Z"
   },
   {
    "duration": 19,
    "start_time": "2023-02-18T15:47:14.958Z"
   },
   {
    "duration": 14,
    "start_time": "2023-02-18T15:48:19.151Z"
   },
   {
    "duration": 72,
    "start_time": "2023-02-18T15:49:02.974Z"
   },
   {
    "duration": 72,
    "start_time": "2023-02-18T15:49:24.392Z"
   },
   {
    "duration": 77,
    "start_time": "2023-02-18T15:49:31.565Z"
   },
   {
    "duration": 29,
    "start_time": "2023-02-18T15:50:03.627Z"
   },
   {
    "duration": 109,
    "start_time": "2023-02-18T15:51:47.420Z"
   },
   {
    "duration": 48,
    "start_time": "2023-02-18T15:52:25.572Z"
   },
   {
    "duration": 53,
    "start_time": "2023-02-18T15:52:44.864Z"
   },
   {
    "duration": 11,
    "start_time": "2023-02-18T15:54:02.767Z"
   },
   {
    "duration": 10,
    "start_time": "2023-02-18T15:55:06.309Z"
   },
   {
    "duration": 26,
    "start_time": "2023-02-18T15:55:39.323Z"
   },
   {
    "duration": 1117,
    "start_time": "2023-02-18T15:55:59.969Z"
   },
   {
    "duration": 85,
    "start_time": "2023-02-18T15:56:01.098Z"
   },
   {
    "duration": 29,
    "start_time": "2023-02-18T15:56:01.185Z"
   },
   {
    "duration": 12,
    "start_time": "2023-02-18T15:56:01.216Z"
   },
   {
    "duration": 11,
    "start_time": "2023-02-18T15:56:01.229Z"
   },
   {
    "duration": 6,
    "start_time": "2023-02-18T15:56:01.242Z"
   },
   {
    "duration": 19,
    "start_time": "2023-02-18T15:56:01.249Z"
   },
   {
    "duration": 29,
    "start_time": "2023-02-18T15:56:01.270Z"
   },
   {
    "duration": 21,
    "start_time": "2023-02-18T15:56:01.305Z"
   },
   {
    "duration": 6,
    "start_time": "2023-02-18T15:56:01.328Z"
   },
   {
    "duration": 21,
    "start_time": "2023-02-18T15:56:01.336Z"
   },
   {
    "duration": 16,
    "start_time": "2023-02-18T15:56:01.359Z"
   },
   {
    "duration": 330,
    "start_time": "2023-02-18T15:56:01.377Z"
   },
   {
    "duration": 287,
    "start_time": "2023-02-18T15:56:01.709Z"
   },
   {
    "duration": 183,
    "start_time": "2023-02-18T15:56:02.004Z"
   },
   {
    "duration": 330,
    "start_time": "2023-02-18T15:56:02.200Z"
   },
   {
    "duration": 225,
    "start_time": "2023-02-18T15:56:02.531Z"
   },
   {
    "duration": 350,
    "start_time": "2023-02-18T15:56:02.757Z"
   },
   {
    "duration": 136,
    "start_time": "2023-02-18T15:56:03.109Z"
   },
   {
    "duration": 4,
    "start_time": "2023-02-18T15:56:03.247Z"
   },
   {
    "duration": 158,
    "start_time": "2023-02-18T15:56:03.252Z"
   },
   {
    "duration": 4,
    "start_time": "2023-02-18T15:56:03.412Z"
   },
   {
    "duration": 243,
    "start_time": "2023-02-18T15:56:03.417Z"
   },
   {
    "duration": 138,
    "start_time": "2023-02-18T15:56:03.661Z"
   },
   {
    "duration": 34,
    "start_time": "2023-02-18T15:56:03.802Z"
   },
   {
    "duration": 14,
    "start_time": "2023-02-18T15:56:03.839Z"
   },
   {
    "duration": 10,
    "start_time": "2023-02-18T15:56:03.855Z"
   },
   {
    "duration": 56,
    "start_time": "2023-02-18T15:56:03.867Z"
   },
   {
    "duration": 13,
    "start_time": "2023-02-18T15:56:03.924Z"
   },
   {
    "duration": 1349,
    "start_time": "2023-02-19T06:34:14.111Z"
   },
   {
    "duration": 325,
    "start_time": "2023-02-19T06:35:40.778Z"
   },
   {
    "duration": 73,
    "start_time": "2023-02-19T06:38:57.767Z"
   },
   {
    "duration": 3,
    "start_time": "2023-02-19T06:39:02.910Z"
   },
   {
    "duration": 77,
    "start_time": "2023-02-19T06:39:07.156Z"
   },
   {
    "duration": 4,
    "start_time": "2023-02-19T06:40:37.168Z"
   },
   {
    "duration": 15,
    "start_time": "2023-02-19T06:40:43.903Z"
   },
   {
    "duration": 10,
    "start_time": "2023-02-19T06:41:29.659Z"
   },
   {
    "duration": 1195,
    "start_time": "2023-02-19T06:41:47.366Z"
   },
   {
    "duration": 75,
    "start_time": "2023-02-19T06:41:48.563Z"
   },
   {
    "duration": 22,
    "start_time": "2023-02-19T06:41:48.640Z"
   },
   {
    "duration": 12,
    "start_time": "2023-02-19T06:41:48.664Z"
   },
   {
    "duration": 11,
    "start_time": "2023-02-19T06:41:48.678Z"
   },
   {
    "duration": 9,
    "start_time": "2023-02-19T06:41:48.691Z"
   },
   {
    "duration": 11,
    "start_time": "2023-02-19T06:41:48.702Z"
   },
   {
    "duration": 24,
    "start_time": "2023-02-19T06:41:48.714Z"
   },
   {
    "duration": 9,
    "start_time": "2023-02-19T06:41:48.740Z"
   },
   {
    "duration": 7,
    "start_time": "2023-02-19T06:41:48.752Z"
   },
   {
    "duration": 15,
    "start_time": "2023-02-19T06:41:48.761Z"
   },
   {
    "duration": 13,
    "start_time": "2023-02-19T06:41:48.777Z"
   },
   {
    "duration": 362,
    "start_time": "2023-02-19T06:41:48.792Z"
   },
   {
    "duration": 322,
    "start_time": "2023-02-19T06:41:49.157Z"
   },
   {
    "duration": 210,
    "start_time": "2023-02-19T06:41:49.480Z"
   },
   {
    "duration": 306,
    "start_time": "2023-02-19T06:41:49.691Z"
   },
   {
    "duration": 236,
    "start_time": "2023-02-19T06:41:50.000Z"
   },
   {
    "duration": 309,
    "start_time": "2023-02-19T06:41:50.238Z"
   },
   {
    "duration": 164,
    "start_time": "2023-02-19T06:41:50.548Z"
   },
   {
    "duration": 5,
    "start_time": "2023-02-19T06:41:50.714Z"
   },
   {
    "duration": 176,
    "start_time": "2023-02-19T06:41:50.721Z"
   },
   {
    "duration": 4,
    "start_time": "2023-02-19T06:41:50.899Z"
   },
   {
    "duration": 259,
    "start_time": "2023-02-19T06:41:50.905Z"
   },
   {
    "duration": 158,
    "start_time": "2023-02-19T06:41:51.167Z"
   },
   {
    "duration": 36,
    "start_time": "2023-02-19T06:41:51.327Z"
   },
   {
    "duration": 12,
    "start_time": "2023-02-19T06:41:51.366Z"
   },
   {
    "duration": 12,
    "start_time": "2023-02-19T06:41:51.380Z"
   },
   {
    "duration": 62,
    "start_time": "2023-02-19T06:41:51.396Z"
   },
   {
    "duration": 16,
    "start_time": "2023-02-19T06:41:51.460Z"
   },
   {
    "duration": 43,
    "start_time": "2023-02-19T07:11:36.188Z"
   },
   {
    "duration": 57,
    "start_time": "2023-02-19T07:11:42.237Z"
   },
   {
    "duration": 50,
    "start_time": "2023-02-19T07:11:55.471Z"
   },
   {
    "duration": 11,
    "start_time": "2023-02-19T07:31:19.008Z"
   },
   {
    "duration": 5,
    "start_time": "2023-02-19T07:32:02.690Z"
   },
   {
    "duration": 5,
    "start_time": "2023-02-19T07:32:16.513Z"
   },
   {
    "duration": 12,
    "start_time": "2023-02-19T07:32:21.911Z"
   },
   {
    "duration": 3,
    "start_time": "2023-02-19T07:32:37.786Z"
   },
   {
    "duration": 5,
    "start_time": "2023-02-19T07:32:39.872Z"
   },
   {
    "duration": 55,
    "start_time": "2023-02-19T07:33:50.935Z"
   },
   {
    "duration": 18,
    "start_time": "2023-02-19T07:37:11.526Z"
   },
   {
    "duration": 16,
    "start_time": "2023-02-19T07:44:51.830Z"
   },
   {
    "duration": 17,
    "start_time": "2023-02-19T07:45:06.204Z"
   },
   {
    "duration": 12,
    "start_time": "2023-02-19T07:51:05.131Z"
   },
   {
    "duration": 17,
    "start_time": "2023-02-19T07:53:19.299Z"
   },
   {
    "duration": 18,
    "start_time": "2023-02-19T07:55:53.098Z"
   },
   {
    "duration": 20,
    "start_time": "2023-02-19T07:57:01.576Z"
   },
   {
    "duration": 15,
    "start_time": "2023-02-19T07:57:33.685Z"
   },
   {
    "duration": 17,
    "start_time": "2023-02-19T08:02:30.516Z"
   },
   {
    "duration": 6,
    "start_time": "2023-02-19T08:02:57.579Z"
   },
   {
    "duration": 16,
    "start_time": "2023-02-19T08:05:04.849Z"
   },
   {
    "duration": 12,
    "start_time": "2023-02-19T08:05:22.899Z"
   },
   {
    "duration": 15,
    "start_time": "2023-02-19T08:05:51.954Z"
   },
   {
    "duration": 17,
    "start_time": "2023-02-19T08:06:16.928Z"
   },
   {
    "duration": 16,
    "start_time": "2023-02-19T08:06:29.088Z"
   },
   {
    "duration": 14,
    "start_time": "2023-02-19T08:06:48.742Z"
   },
   {
    "duration": 15,
    "start_time": "2023-02-19T08:06:56.160Z"
   },
   {
    "duration": 16,
    "start_time": "2023-02-19T08:07:50.629Z"
   },
   {
    "duration": 102,
    "start_time": "2023-02-19T08:09:17.120Z"
   },
   {
    "duration": 8,
    "start_time": "2023-02-19T08:09:25.528Z"
   },
   {
    "duration": 13,
    "start_time": "2023-02-19T08:09:41.036Z"
   },
   {
    "duration": 8,
    "start_time": "2023-02-19T08:09:46.371Z"
   },
   {
    "duration": 14,
    "start_time": "2023-02-19T08:10:57.216Z"
   },
   {
    "duration": 12,
    "start_time": "2023-02-19T08:12:58.926Z"
   },
   {
    "duration": 5,
    "start_time": "2023-02-19T08:17:39.816Z"
   },
   {
    "duration": 14,
    "start_time": "2023-02-19T08:17:47.616Z"
   },
   {
    "duration": 7,
    "start_time": "2023-02-19T08:18:02.325Z"
   },
   {
    "duration": 22,
    "start_time": "2023-02-19T08:18:08.525Z"
   },
   {
    "duration": 13,
    "start_time": "2023-02-19T08:18:55.562Z"
   },
   {
    "duration": 54,
    "start_time": "2023-02-19T08:19:47.678Z"
   },
   {
    "duration": 17,
    "start_time": "2023-02-19T08:19:56.952Z"
   },
   {
    "duration": 13,
    "start_time": "2023-02-19T08:20:30.536Z"
   },
   {
    "duration": 11,
    "start_time": "2023-02-19T08:21:47.427Z"
   },
   {
    "duration": 22,
    "start_time": "2023-02-19T08:21:51.996Z"
   },
   {
    "duration": 12,
    "start_time": "2023-02-19T08:22:36.808Z"
   },
   {
    "duration": 27,
    "start_time": "2023-02-19T08:30:02.038Z"
   },
   {
    "duration": 15,
    "start_time": "2023-02-19T08:30:34.596Z"
   },
   {
    "duration": 26,
    "start_time": "2023-02-19T08:31:35.049Z"
   },
   {
    "duration": 16,
    "start_time": "2023-02-19T08:31:47.292Z"
   },
   {
    "duration": 3,
    "start_time": "2023-02-19T08:32:05.319Z"
   },
   {
    "duration": 13,
    "start_time": "2023-02-19T08:40:33.024Z"
   },
   {
    "duration": 7,
    "start_time": "2023-02-19T08:40:43.126Z"
   },
   {
    "duration": 12,
    "start_time": "2023-02-19T08:41:09.946Z"
   },
   {
    "duration": 16,
    "start_time": "2023-02-19T08:41:55.957Z"
   },
   {
    "duration": 10,
    "start_time": "2023-02-19T08:42:06.361Z"
   },
   {
    "duration": 19,
    "start_time": "2023-02-19T08:42:21.838Z"
   },
   {
    "duration": 21,
    "start_time": "2023-02-19T08:50:46.765Z"
   },
   {
    "duration": 16,
    "start_time": "2023-02-19T08:50:58.020Z"
   },
   {
    "duration": 12,
    "start_time": "2023-02-19T09:17:57.517Z"
   },
   {
    "duration": 8,
    "start_time": "2023-02-19T09:18:07.420Z"
   },
   {
    "duration": 5,
    "start_time": "2023-02-19T09:19:53.385Z"
   },
   {
    "duration": 7,
    "start_time": "2023-02-19T09:19:56.588Z"
   },
   {
    "duration": 8,
    "start_time": "2023-02-19T09:21:19.788Z"
   },
   {
    "duration": 10,
    "start_time": "2023-02-19T09:23:06.582Z"
   },
   {
    "duration": 7,
    "start_time": "2023-02-19T09:23:13.163Z"
   },
   {
    "duration": 11,
    "start_time": "2023-02-19T09:23:50.144Z"
   },
   {
    "duration": 22,
    "start_time": "2023-02-19T09:24:01.819Z"
   },
   {
    "duration": 10,
    "start_time": "2023-02-19T09:25:00.155Z"
   },
   {
    "duration": 11,
    "start_time": "2023-02-19T09:25:44.708Z"
   },
   {
    "duration": 1185,
    "start_time": "2023-02-19T09:25:49.719Z"
   },
   {
    "duration": 75,
    "start_time": "2023-02-19T09:25:50.906Z"
   },
   {
    "duration": 21,
    "start_time": "2023-02-19T09:25:50.983Z"
   },
   {
    "duration": 34,
    "start_time": "2023-02-19T09:25:51.007Z"
   },
   {
    "duration": 49,
    "start_time": "2023-02-19T09:25:51.043Z"
   },
   {
    "duration": 23,
    "start_time": "2023-02-19T09:25:51.094Z"
   },
   {
    "duration": 26,
    "start_time": "2023-02-19T09:25:51.119Z"
   },
   {
    "duration": 38,
    "start_time": "2023-02-19T09:25:51.147Z"
   },
   {
    "duration": 43,
    "start_time": "2023-02-19T09:25:51.187Z"
   },
   {
    "duration": 24,
    "start_time": "2023-02-19T09:25:51.233Z"
   },
   {
    "duration": 42,
    "start_time": "2023-02-19T09:25:51.258Z"
   },
   {
    "duration": 32,
    "start_time": "2023-02-19T09:25:51.302Z"
   },
   {
    "duration": 49,
    "start_time": "2023-02-19T09:25:51.337Z"
   },
   {
    "duration": 27,
    "start_time": "2023-02-19T09:25:51.388Z"
   },
   {
    "duration": 335,
    "start_time": "2023-02-19T09:25:51.417Z"
   },
   {
    "duration": 305,
    "start_time": "2023-02-19T09:25:51.754Z"
   },
   {
    "duration": 212,
    "start_time": "2023-02-19T09:25:52.060Z"
   },
   {
    "duration": 301,
    "start_time": "2023-02-19T09:25:52.274Z"
   },
   {
    "duration": 239,
    "start_time": "2023-02-19T09:25:52.577Z"
   },
   {
    "duration": 336,
    "start_time": "2023-02-19T09:25:52.818Z"
   },
   {
    "duration": 160,
    "start_time": "2023-02-19T09:25:53.156Z"
   },
   {
    "duration": 19,
    "start_time": "2023-02-19T09:25:53.318Z"
   },
   {
    "duration": 191,
    "start_time": "2023-02-19T09:25:53.340Z"
   },
   {
    "duration": 5,
    "start_time": "2023-02-19T09:25:53.536Z"
   },
   {
    "duration": 244,
    "start_time": "2023-02-19T09:25:53.543Z"
   },
   {
    "duration": 156,
    "start_time": "2023-02-19T09:25:53.788Z"
   },
   {
    "duration": 29,
    "start_time": "2023-02-19T09:25:53.946Z"
   },
   {
    "duration": 11,
    "start_time": "2023-02-19T09:25:53.979Z"
   },
   {
    "duration": 13,
    "start_time": "2023-02-19T09:25:53.992Z"
   },
   {
    "duration": 53,
    "start_time": "2023-02-19T09:25:54.007Z"
   },
   {
    "duration": 16,
    "start_time": "2023-02-19T09:25:54.061Z"
   },
   {
    "duration": 3,
    "start_time": "2023-02-19T09:26:39.569Z"
   },
   {
    "duration": 1201,
    "start_time": "2023-02-19T09:26:45.011Z"
   },
   {
    "duration": 89,
    "start_time": "2023-02-19T09:26:46.215Z"
   },
   {
    "duration": 34,
    "start_time": "2023-02-19T09:26:46.307Z"
   },
   {
    "duration": 14,
    "start_time": "2023-02-19T09:26:46.344Z"
   },
   {
    "duration": 8,
    "start_time": "2023-02-19T09:26:46.360Z"
   },
   {
    "duration": 14,
    "start_time": "2023-02-19T09:26:46.369Z"
   },
   {
    "duration": 7,
    "start_time": "2023-02-19T09:26:46.385Z"
   },
   {
    "duration": 16,
    "start_time": "2023-02-19T09:26:46.393Z"
   },
   {
    "duration": 33,
    "start_time": "2023-02-19T09:26:46.411Z"
   },
   {
    "duration": 7,
    "start_time": "2023-02-19T09:26:46.449Z"
   },
   {
    "duration": 19,
    "start_time": "2023-02-19T09:26:46.458Z"
   },
   {
    "duration": 17,
    "start_time": "2023-02-19T09:26:46.479Z"
   },
   {
    "duration": 43,
    "start_time": "2023-02-19T09:26:46.498Z"
   },
   {
    "duration": 13,
    "start_time": "2023-02-19T09:26:46.543Z"
   },
   {
    "duration": 330,
    "start_time": "2023-02-19T09:26:46.558Z"
   },
   {
    "duration": 389,
    "start_time": "2023-02-19T09:26:46.891Z"
   },
   {
    "duration": 226,
    "start_time": "2023-02-19T09:26:47.283Z"
   },
   {
    "duration": 350,
    "start_time": "2023-02-19T09:26:47.511Z"
   },
   {
    "duration": 317,
    "start_time": "2023-02-19T09:26:47.863Z"
   },
   {
    "duration": 508,
    "start_time": "2023-02-19T09:26:48.236Z"
   },
   {
    "duration": 294,
    "start_time": "2023-02-19T09:26:48.745Z"
   },
   {
    "duration": 4,
    "start_time": "2023-02-19T09:26:49.041Z"
   },
   {
    "duration": 316,
    "start_time": "2023-02-19T09:26:49.047Z"
   },
   {
    "duration": 8,
    "start_time": "2023-02-19T09:26:49.364Z"
   },
   {
    "duration": 475,
    "start_time": "2023-02-19T09:26:49.374Z"
   },
   {
    "duration": 246,
    "start_time": "2023-02-19T09:26:49.851Z"
   },
   {
    "duration": 41,
    "start_time": "2023-02-19T09:26:50.099Z"
   },
   {
    "duration": 12,
    "start_time": "2023-02-19T09:26:50.143Z"
   },
   {
    "duration": 10,
    "start_time": "2023-02-19T09:26:50.156Z"
   },
   {
    "duration": 34,
    "start_time": "2023-02-19T09:26:50.168Z"
   },
   {
    "duration": 38,
    "start_time": "2023-02-19T09:26:50.203Z"
   },
   {
    "duration": 17,
    "start_time": "2023-02-19T09:27:30.020Z"
   },
   {
    "duration": 9,
    "start_time": "2023-02-19T09:27:36.579Z"
   },
   {
    "duration": 13,
    "start_time": "2023-02-19T09:27:44.177Z"
   },
   {
    "duration": 47,
    "start_time": "2023-02-19T09:28:19.441Z"
   },
   {
    "duration": 13,
    "start_time": "2023-02-19T09:28:28.831Z"
   },
   {
    "duration": 12,
    "start_time": "2023-02-19T09:28:41.125Z"
   },
   {
    "duration": 7,
    "start_time": "2023-02-19T09:28:54.370Z"
   },
   {
    "duration": 10,
    "start_time": "2023-02-19T09:29:31.541Z"
   },
   {
    "duration": 81,
    "start_time": "2023-02-19T09:47:03.254Z"
   },
   {
    "duration": 74,
    "start_time": "2023-02-19T09:47:29.936Z"
   },
   {
    "duration": 10,
    "start_time": "2023-02-19T09:49:11.791Z"
   },
   {
    "duration": 78,
    "start_time": "2023-02-19T09:50:44.844Z"
   },
   {
    "duration": 82,
    "start_time": "2023-02-19T09:50:55.002Z"
   },
   {
    "duration": 102,
    "start_time": "2023-02-19T09:51:14.126Z"
   },
   {
    "duration": 111,
    "start_time": "2023-02-19T09:51:22.494Z"
   },
   {
    "duration": 10,
    "start_time": "2023-02-19T09:52:13.804Z"
   },
   {
    "duration": 304,
    "start_time": "2023-02-19T09:58:10.780Z"
   },
   {
    "duration": 316,
    "start_time": "2023-02-19T10:01:29.536Z"
   },
   {
    "duration": 289,
    "start_time": "2023-02-19T10:02:57.381Z"
   },
   {
    "duration": 282,
    "start_time": "2023-02-19T10:03:21.880Z"
   },
   {
    "duration": 325,
    "start_time": "2023-02-19T10:03:28.191Z"
   },
   {
    "duration": 1129,
    "start_time": "2023-02-19T10:32:15.701Z"
   },
   {
    "duration": 87,
    "start_time": "2023-02-19T10:32:16.832Z"
   },
   {
    "duration": 25,
    "start_time": "2023-02-19T10:32:16.923Z"
   },
   {
    "duration": 18,
    "start_time": "2023-02-19T10:32:16.950Z"
   },
   {
    "duration": 8,
    "start_time": "2023-02-19T10:32:16.970Z"
   },
   {
    "duration": 8,
    "start_time": "2023-02-19T10:32:16.979Z"
   },
   {
    "duration": 8,
    "start_time": "2023-02-19T10:32:16.988Z"
   },
   {
    "duration": 12,
    "start_time": "2023-02-19T10:32:16.997Z"
   },
   {
    "duration": 24,
    "start_time": "2023-02-19T10:32:17.012Z"
   },
   {
    "duration": 6,
    "start_time": "2023-02-19T10:32:17.038Z"
   },
   {
    "duration": 15,
    "start_time": "2023-02-19T10:32:17.045Z"
   },
   {
    "duration": 14,
    "start_time": "2023-02-19T10:32:17.062Z"
   },
   {
    "duration": 13,
    "start_time": "2023-02-19T10:32:17.078Z"
   },
   {
    "duration": 10,
    "start_time": "2023-02-19T10:32:17.093Z"
   },
   {
    "duration": 105,
    "start_time": "2023-02-19T10:32:17.104Z"
   },
   {
    "duration": 361,
    "start_time": "2023-02-19T10:32:17.210Z"
   },
   {
    "duration": 289,
    "start_time": "2023-02-19T10:32:17.573Z"
   },
   {
    "duration": 210,
    "start_time": "2023-02-19T10:32:17.864Z"
   },
   {
    "duration": 281,
    "start_time": "2023-02-19T10:32:18.076Z"
   },
   {
    "duration": 231,
    "start_time": "2023-02-19T10:32:18.359Z"
   },
   {
    "duration": 361,
    "start_time": "2023-02-19T10:32:18.592Z"
   },
   {
    "duration": 151,
    "start_time": "2023-02-19T10:32:18.954Z"
   },
   {
    "duration": 5,
    "start_time": "2023-02-19T10:32:19.106Z"
   },
   {
    "duration": 157,
    "start_time": "2023-02-19T10:32:19.113Z"
   },
   {
    "duration": 4,
    "start_time": "2023-02-19T10:32:19.272Z"
   },
   {
    "duration": 251,
    "start_time": "2023-02-19T10:32:19.277Z"
   },
   {
    "duration": 130,
    "start_time": "2023-02-19T10:32:19.531Z"
   },
   {
    "duration": 25,
    "start_time": "2023-02-19T10:32:19.663Z"
   },
   {
    "duration": 10,
    "start_time": "2023-02-19T10:32:19.690Z"
   },
   {
    "duration": 9,
    "start_time": "2023-02-19T10:32:19.702Z"
   },
   {
    "duration": 26,
    "start_time": "2023-02-19T10:32:19.736Z"
   },
   {
    "duration": 15,
    "start_time": "2023-02-19T10:32:19.764Z"
   },
   {
    "duration": 6,
    "start_time": "2023-02-19T10:35:23.518Z"
   },
   {
    "duration": 5,
    "start_time": "2023-02-19T10:35:33.205Z"
   },
   {
    "duration": 46,
    "start_time": "2023-02-19T10:36:44.233Z"
   },
   {
    "duration": 15,
    "start_time": "2023-02-19T10:37:02.714Z"
   },
   {
    "duration": 8,
    "start_time": "2023-02-19T10:37:16.263Z"
   },
   {
    "duration": 7,
    "start_time": "2023-02-19T10:37:22.388Z"
   },
   {
    "duration": 8,
    "start_time": "2023-02-19T10:37:37.845Z"
   },
   {
    "duration": 136,
    "start_time": "2023-02-19T10:38:06.204Z"
   },
   {
    "duration": 227,
    "start_time": "2023-02-19T10:40:14.759Z"
   },
   {
    "duration": 140,
    "start_time": "2023-02-19T10:40:40.152Z"
   },
   {
    "duration": 139,
    "start_time": "2023-02-19T10:40:53.404Z"
   },
   {
    "duration": 131,
    "start_time": "2023-02-19T10:41:25.892Z"
   },
   {
    "duration": 8,
    "start_time": "2023-02-19T10:42:00.395Z"
   },
   {
    "duration": 50,
    "start_time": "2023-02-19T10:42:08.587Z"
   },
   {
    "duration": 6,
    "start_time": "2023-02-19T10:42:14.984Z"
   },
   {
    "duration": 5,
    "start_time": "2023-02-19T10:42:19.495Z"
   },
   {
    "duration": 8,
    "start_time": "2023-02-19T10:42:38.819Z"
   },
   {
    "duration": 155,
    "start_time": "2023-02-19T10:51:11.672Z"
   },
   {
    "duration": 255,
    "start_time": "2023-02-19T10:52:29.773Z"
   },
   {
    "duration": 162,
    "start_time": "2023-02-19T10:53:31.342Z"
   },
   {
    "duration": 276,
    "start_time": "2023-02-19T10:53:48.787Z"
   },
   {
    "duration": 323,
    "start_time": "2023-02-19T10:53:54.495Z"
   },
   {
    "duration": 161,
    "start_time": "2023-02-19T10:53:59.353Z"
   },
   {
    "duration": 1175,
    "start_time": "2023-02-19T10:54:52.640Z"
   },
   {
    "duration": 75,
    "start_time": "2023-02-19T10:54:53.817Z"
   },
   {
    "duration": 21,
    "start_time": "2023-02-19T10:54:53.893Z"
   },
   {
    "duration": 13,
    "start_time": "2023-02-19T10:54:53.915Z"
   },
   {
    "duration": 11,
    "start_time": "2023-02-19T10:54:53.930Z"
   },
   {
    "duration": 6,
    "start_time": "2023-02-19T10:54:53.943Z"
   },
   {
    "duration": 9,
    "start_time": "2023-02-19T10:54:53.950Z"
   },
   {
    "duration": 11,
    "start_time": "2023-02-19T10:54:53.961Z"
   },
   {
    "duration": 12,
    "start_time": "2023-02-19T10:54:53.974Z"
   },
   {
    "duration": 5,
    "start_time": "2023-02-19T10:54:53.988Z"
   },
   {
    "duration": 17,
    "start_time": "2023-02-19T10:54:53.995Z"
   },
   {
    "duration": 13,
    "start_time": "2023-02-19T10:54:54.036Z"
   },
   {
    "duration": 22,
    "start_time": "2023-02-19T10:54:54.051Z"
   },
   {
    "duration": 14,
    "start_time": "2023-02-19T10:54:54.075Z"
   },
   {
    "duration": 86,
    "start_time": "2023-02-19T10:54:54.091Z"
   },
   {
    "duration": 342,
    "start_time": "2023-02-19T10:54:54.179Z"
   },
   {
    "duration": 328,
    "start_time": "2023-02-19T10:54:54.523Z"
   },
   {
    "duration": 214,
    "start_time": "2023-02-19T10:54:54.854Z"
   },
   {
    "duration": 341,
    "start_time": "2023-02-19T10:54:55.070Z"
   },
   {
    "duration": 222,
    "start_time": "2023-02-19T10:54:55.413Z"
   },
   {
    "duration": 322,
    "start_time": "2023-02-19T10:54:55.637Z"
   },
   {
    "duration": 147,
    "start_time": "2023-02-19T10:54:55.961Z"
   },
   {
    "duration": 6,
    "start_time": "2023-02-19T10:54:56.110Z"
   },
   {
    "duration": 168,
    "start_time": "2023-02-19T10:54:56.118Z"
   },
   {
    "duration": 158,
    "start_time": "2023-02-19T10:54:56.288Z"
   },
   {
    "duration": 4,
    "start_time": "2023-02-19T10:54:56.448Z"
   },
   {
    "duration": 150,
    "start_time": "2023-02-19T10:54:56.454Z"
   },
   {
    "duration": 105,
    "start_time": "2023-02-19T10:54:56.607Z"
   },
   {
    "duration": 0,
    "start_time": "2023-02-19T10:54:56.714Z"
   },
   {
    "duration": 0,
    "start_time": "2023-02-19T10:54:56.715Z"
   },
   {
    "duration": 0,
    "start_time": "2023-02-19T10:54:56.716Z"
   },
   {
    "duration": 0,
    "start_time": "2023-02-19T10:54:56.717Z"
   },
   {
    "duration": 317,
    "start_time": "2023-02-19T10:56:49.835Z"
   },
   {
    "duration": 130,
    "start_time": "2023-02-19T10:56:54.840Z"
   },
   {
    "duration": 28,
    "start_time": "2023-02-19T10:56:57.557Z"
   },
   {
    "duration": 45,
    "start_time": "2023-02-19T11:02:20.256Z"
   },
   {
    "duration": 860,
    "start_time": "2023-02-19T11:02:46.938Z"
   },
   {
    "duration": 917,
    "start_time": "2023-02-19T11:02:56.481Z"
   },
   {
    "duration": 12,
    "start_time": "2023-02-19T11:03:16.709Z"
   },
   {
    "duration": 52,
    "start_time": "2023-02-19T11:03:28.647Z"
   },
   {
    "duration": 26,
    "start_time": "2023-02-19T11:03:40.975Z"
   },
   {
    "duration": 30,
    "start_time": "2023-02-19T11:07:57.324Z"
   },
   {
    "duration": 1164,
    "start_time": "2023-02-19T11:33:21.935Z"
   },
   {
    "duration": 79,
    "start_time": "2023-02-19T11:33:23.103Z"
   },
   {
    "duration": 33,
    "start_time": "2023-02-19T11:33:23.185Z"
   },
   {
    "duration": 13,
    "start_time": "2023-02-19T11:33:23.220Z"
   },
   {
    "duration": 25,
    "start_time": "2023-02-19T11:33:23.235Z"
   },
   {
    "duration": 15,
    "start_time": "2023-02-19T11:33:23.264Z"
   },
   {
    "duration": 9,
    "start_time": "2023-02-19T11:33:23.282Z"
   },
   {
    "duration": 12,
    "start_time": "2023-02-19T11:33:23.293Z"
   },
   {
    "duration": 16,
    "start_time": "2023-02-19T11:33:23.307Z"
   },
   {
    "duration": 35,
    "start_time": "2023-02-19T11:33:23.329Z"
   },
   {
    "duration": 32,
    "start_time": "2023-02-19T11:33:23.366Z"
   },
   {
    "duration": 21,
    "start_time": "2023-02-19T11:33:23.400Z"
   },
   {
    "duration": 19,
    "start_time": "2023-02-19T11:33:23.423Z"
   },
   {
    "duration": 16,
    "start_time": "2023-02-19T11:33:23.444Z"
   },
   {
    "duration": 136,
    "start_time": "2023-02-19T11:33:23.462Z"
   },
   {
    "duration": 337,
    "start_time": "2023-02-19T11:33:23.600Z"
   },
   {
    "duration": 305,
    "start_time": "2023-02-19T11:33:23.939Z"
   },
   {
    "duration": 253,
    "start_time": "2023-02-19T11:33:24.247Z"
   },
   {
    "duration": 353,
    "start_time": "2023-02-19T11:33:24.502Z"
   },
   {
    "duration": 257,
    "start_time": "2023-02-19T11:33:24.858Z"
   },
   {
    "duration": 328,
    "start_time": "2023-02-19T11:33:25.117Z"
   },
   {
    "duration": 154,
    "start_time": "2023-02-19T11:33:25.447Z"
   },
   {
    "duration": 4,
    "start_time": "2023-02-19T11:33:25.603Z"
   },
   {
    "duration": 167,
    "start_time": "2023-02-19T11:33:25.609Z"
   },
   {
    "duration": 176,
    "start_time": "2023-02-19T11:33:25.778Z"
   },
   {
    "duration": 5,
    "start_time": "2023-02-19T11:33:25.956Z"
   },
   {
    "duration": 335,
    "start_time": "2023-02-19T11:33:25.962Z"
   },
   {
    "duration": 185,
    "start_time": "2023-02-19T11:33:26.300Z"
   },
   {
    "duration": 25,
    "start_time": "2023-02-19T11:33:26.487Z"
   },
   {
    "duration": 80,
    "start_time": "2023-02-19T11:33:26.514Z"
   },
   {
    "duration": 50,
    "start_time": "2023-02-19T11:33:26.595Z"
   },
   {
    "duration": 78,
    "start_time": "2023-02-19T11:33:26.653Z"
   },
   {
    "duration": 45,
    "start_time": "2023-02-19T11:33:26.732Z"
   },
   {
    "duration": 115,
    "start_time": "2023-02-19T11:54:39.157Z"
   },
   {
    "duration": 15,
    "start_time": "2023-02-19T11:54:45.964Z"
   },
   {
    "duration": 47,
    "start_time": "2023-02-19T13:43:26.641Z"
   },
   {
    "duration": 44,
    "start_time": "2023-02-19T13:47:56.318Z"
   },
   {
    "duration": 47,
    "start_time": "2023-02-19T13:48:05.771Z"
   },
   {
    "duration": 57,
    "start_time": "2023-02-19T13:48:52.092Z"
   },
   {
    "duration": 46,
    "start_time": "2023-02-19T13:49:07.529Z"
   },
   {
    "duration": 1237,
    "start_time": "2023-02-19T13:49:32.618Z"
   },
   {
    "duration": 227,
    "start_time": "2023-02-19T13:49:33.857Z"
   },
   {
    "duration": 22,
    "start_time": "2023-02-19T13:49:34.086Z"
   },
   {
    "duration": 11,
    "start_time": "2023-02-19T13:49:34.110Z"
   },
   {
    "duration": 16,
    "start_time": "2023-02-19T13:49:34.122Z"
   },
   {
    "duration": 5,
    "start_time": "2023-02-19T13:49:34.140Z"
   },
   {
    "duration": 14,
    "start_time": "2023-02-19T13:49:34.147Z"
   },
   {
    "duration": 10,
    "start_time": "2023-02-19T13:49:34.163Z"
   },
   {
    "duration": 10,
    "start_time": "2023-02-19T13:49:34.174Z"
   },
   {
    "duration": 10,
    "start_time": "2023-02-19T13:49:34.186Z"
   },
   {
    "duration": 17,
    "start_time": "2023-02-19T13:49:34.198Z"
   },
   {
    "duration": 10,
    "start_time": "2023-02-19T13:49:34.217Z"
   },
   {
    "duration": 9,
    "start_time": "2023-02-19T13:49:34.229Z"
   },
   {
    "duration": 10,
    "start_time": "2023-02-19T13:49:34.240Z"
   },
   {
    "duration": 89,
    "start_time": "2023-02-19T13:49:34.251Z"
   },
   {
    "duration": 311,
    "start_time": "2023-02-19T13:49:34.341Z"
   },
   {
    "duration": 313,
    "start_time": "2023-02-19T13:49:34.655Z"
   },
   {
    "duration": 208,
    "start_time": "2023-02-19T13:49:34.970Z"
   },
   {
    "duration": 370,
    "start_time": "2023-02-19T13:49:35.179Z"
   },
   {
    "duration": 214,
    "start_time": "2023-02-19T13:49:35.550Z"
   },
   {
    "duration": 290,
    "start_time": "2023-02-19T13:49:35.765Z"
   },
   {
    "duration": 136,
    "start_time": "2023-02-19T13:49:36.057Z"
   },
   {
    "duration": 11,
    "start_time": "2023-02-19T13:49:36.195Z"
   },
   {
    "duration": 157,
    "start_time": "2023-02-19T13:49:36.208Z"
   },
   {
    "duration": 145,
    "start_time": "2023-02-19T13:49:36.366Z"
   },
   {
    "duration": 4,
    "start_time": "2023-02-19T13:49:36.513Z"
   },
   {
    "duration": 290,
    "start_time": "2023-02-19T13:49:36.519Z"
   },
   {
    "duration": 166,
    "start_time": "2023-02-19T13:49:36.812Z"
   },
   {
    "duration": 37,
    "start_time": "2023-02-19T13:49:36.981Z"
   },
   {
    "duration": 14,
    "start_time": "2023-02-19T13:49:37.020Z"
   },
   {
    "duration": 10,
    "start_time": "2023-02-19T13:49:37.036Z"
   },
   {
    "duration": 60,
    "start_time": "2023-02-19T13:49:37.048Z"
   },
   {
    "duration": 13,
    "start_time": "2023-02-19T13:49:37.110Z"
   },
   {
    "duration": 26,
    "start_time": "2023-02-19T13:50:00.589Z"
   },
   {
    "duration": 11,
    "start_time": "2023-02-19T13:50:39.715Z"
   },
   {
    "duration": 11,
    "start_time": "2023-02-19T13:50:45.946Z"
   },
   {
    "duration": 10,
    "start_time": "2023-02-19T13:50:58.218Z"
   },
   {
    "duration": 8,
    "start_time": "2023-02-19T13:51:40.629Z"
   },
   {
    "duration": 9,
    "start_time": "2023-02-19T13:51:55.036Z"
   },
   {
    "duration": 96,
    "start_time": "2023-02-19T13:56:59.863Z"
   },
   {
    "duration": 83,
    "start_time": "2023-02-19T13:58:30.225Z"
   },
   {
    "duration": 75,
    "start_time": "2023-02-19T13:59:29.581Z"
   },
   {
    "duration": 760,
    "start_time": "2023-02-19T14:00:18.446Z"
   },
   {
    "duration": 9,
    "start_time": "2023-02-19T14:01:06.845Z"
   },
   {
    "duration": 9,
    "start_time": "2023-02-19T14:01:27.548Z"
   },
   {
    "duration": 81,
    "start_time": "2023-02-19T14:01:34.949Z"
   },
   {
    "duration": 9,
    "start_time": "2023-02-19T14:01:50.070Z"
   },
   {
    "duration": 13,
    "start_time": "2023-02-19T14:06:44.913Z"
   },
   {
    "duration": 58,
    "start_time": "2023-02-19T14:07:11.112Z"
   },
   {
    "duration": 17,
    "start_time": "2023-02-19T14:07:29.268Z"
   },
   {
    "duration": 45,
    "start_time": "2023-02-19T14:08:26.100Z"
   },
   {
    "duration": 49,
    "start_time": "2023-02-19T14:08:36.347Z"
   },
   {
    "duration": 47,
    "start_time": "2023-02-19T14:09:50.261Z"
   },
   {
    "duration": 4,
    "start_time": "2023-02-19T14:09:57.011Z"
   },
   {
    "duration": 9,
    "start_time": "2023-02-19T14:10:05.507Z"
   },
   {
    "duration": 4,
    "start_time": "2023-02-19T14:11:21.464Z"
   },
   {
    "duration": 72,
    "start_time": "2023-02-19T14:12:10.548Z"
   },
   {
    "duration": 8,
    "start_time": "2023-02-19T14:13:01.365Z"
   },
   {
    "duration": 0,
    "start_time": "2023-02-19T14:30:52.258Z"
   },
   {
    "duration": 9,
    "start_time": "2023-02-19T14:30:52.260Z"
   },
   {
    "duration": 15,
    "start_time": "2023-02-19T14:30:52.272Z"
   },
   {
    "duration": 0,
    "start_time": "2023-02-19T14:30:52.288Z"
   },
   {
    "duration": 6,
    "start_time": "2023-02-19T14:30:52.611Z"
   },
   {
    "duration": 0,
    "start_time": "2023-02-19T14:30:52.619Z"
   },
   {
    "duration": 0,
    "start_time": "2023-02-19T14:30:52.619Z"
   },
   {
    "duration": 7,
    "start_time": "2023-02-19T14:30:52.732Z"
   },
   {
    "duration": 0,
    "start_time": "2023-02-19T14:30:52.742Z"
   },
   {
    "duration": 5,
    "start_time": "2023-02-19T14:30:52.828Z"
   },
   {
    "duration": 0,
    "start_time": "2023-02-19T14:30:52.834Z"
   },
   {
    "duration": 7,
    "start_time": "2023-02-19T14:30:53.614Z"
   },
   {
    "duration": 0,
    "start_time": "2023-02-19T14:30:53.623Z"
   },
   {
    "duration": 0,
    "start_time": "2023-02-19T14:30:53.626Z"
   },
   {
    "duration": 7,
    "start_time": "2023-02-19T14:30:53.752Z"
   },
   {
    "duration": 8,
    "start_time": "2023-02-19T14:30:53.933Z"
   },
   {
    "duration": 8,
    "start_time": "2023-02-19T14:30:54.059Z"
   },
   {
    "duration": 7,
    "start_time": "2023-02-19T14:30:54.247Z"
   },
   {
    "duration": 8,
    "start_time": "2023-02-19T14:30:54.413Z"
   },
   {
    "duration": 8,
    "start_time": "2023-02-19T14:30:56.488Z"
   },
   {
    "duration": 11,
    "start_time": "2023-02-19T14:30:56.581Z"
   },
   {
    "duration": 0,
    "start_time": "2023-02-19T14:30:56.594Z"
   },
   {
    "duration": 8,
    "start_time": "2023-02-19T14:30:56.653Z"
   },
   {
    "duration": 0,
    "start_time": "2023-02-19T14:30:56.663Z"
   },
   {
    "duration": 10,
    "start_time": "2023-02-19T14:30:56.773Z"
   },
   {
    "duration": 0,
    "start_time": "2023-02-19T14:30:56.785Z"
   },
   {
    "duration": 52,
    "start_time": "2023-02-19T14:30:58.848Z"
   },
   {
    "duration": 0,
    "start_time": "2023-02-19T14:30:58.902Z"
   },
   {
    "duration": 0,
    "start_time": "2023-02-19T14:30:58.903Z"
   },
   {
    "duration": 0,
    "start_time": "2023-02-19T14:30:58.905Z"
   },
   {
    "duration": 9,
    "start_time": "2023-02-19T14:30:59.168Z"
   },
   {
    "duration": 11,
    "start_time": "2023-02-19T14:31:00.339Z"
   },
   {
    "duration": 8,
    "start_time": "2023-02-19T14:31:00.539Z"
   },
   {
    "duration": 1052,
    "start_time": "2023-02-19T14:31:47.443Z"
   },
   {
    "duration": 78,
    "start_time": "2023-02-19T14:31:48.497Z"
   },
   {
    "duration": 18,
    "start_time": "2023-02-19T14:31:48.576Z"
   },
   {
    "duration": 12,
    "start_time": "2023-02-19T14:31:48.596Z"
   },
   {
    "duration": 7,
    "start_time": "2023-02-19T14:31:48.609Z"
   },
   {
    "duration": 6,
    "start_time": "2023-02-19T14:31:48.617Z"
   },
   {
    "duration": 4,
    "start_time": "2023-02-19T14:31:48.625Z"
   },
   {
    "duration": 9,
    "start_time": "2023-02-19T14:31:48.631Z"
   },
   {
    "duration": 18,
    "start_time": "2023-02-19T14:31:48.642Z"
   },
   {
    "duration": 4,
    "start_time": "2023-02-19T14:31:48.662Z"
   },
   {
    "duration": 20,
    "start_time": "2023-02-19T14:31:48.667Z"
   },
   {
    "duration": 25,
    "start_time": "2023-02-19T14:31:48.688Z"
   },
   {
    "duration": 7,
    "start_time": "2023-02-19T14:31:48.715Z"
   },
   {
    "duration": 9,
    "start_time": "2023-02-19T14:31:48.724Z"
   },
   {
    "duration": 69,
    "start_time": "2023-02-19T14:31:48.823Z"
   },
   {
    "duration": 303,
    "start_time": "2023-02-19T14:31:49.081Z"
   },
   {
    "duration": 270,
    "start_time": "2023-02-19T14:31:49.386Z"
   },
   {
    "duration": 198,
    "start_time": "2023-02-19T14:31:49.658Z"
   },
   {
    "duration": 318,
    "start_time": "2023-02-19T14:31:49.976Z"
   },
   {
    "duration": 207,
    "start_time": "2023-02-19T14:31:50.408Z"
   },
   {
    "duration": 303,
    "start_time": "2023-02-19T14:31:50.693Z"
   },
   {
    "duration": 155,
    "start_time": "2023-02-19T14:31:51.003Z"
   },
   {
    "duration": 5,
    "start_time": "2023-02-19T14:31:51.164Z"
   },
   {
    "duration": 158,
    "start_time": "2023-02-19T14:31:51.171Z"
   },
   {
    "duration": 140,
    "start_time": "2023-02-19T14:31:51.764Z"
   },
   {
    "duration": 4,
    "start_time": "2023-02-19T14:31:51.907Z"
   },
   {
    "duration": 283,
    "start_time": "2023-02-19T14:31:52.202Z"
   },
   {
    "duration": 129,
    "start_time": "2023-02-19T14:31:52.487Z"
   },
   {
    "duration": 44,
    "start_time": "2023-02-19T14:31:53.069Z"
   },
   {
    "duration": 13,
    "start_time": "2023-02-19T14:31:53.806Z"
   },
   {
    "duration": 12,
    "start_time": "2023-02-19T14:31:54.392Z"
   },
   {
    "duration": 42,
    "start_time": "2023-02-19T14:31:56.162Z"
   },
   {
    "duration": 15,
    "start_time": "2023-02-19T14:31:57.431Z"
   },
   {
    "duration": 10,
    "start_time": "2023-02-19T14:44:45.352Z"
   },
   {
    "duration": 9,
    "start_time": "2023-02-19T14:44:49.751Z"
   },
   {
    "duration": 11,
    "start_time": "2023-02-19T14:47:59.009Z"
   },
   {
    "duration": 8,
    "start_time": "2023-02-19T14:48:06.674Z"
   },
   {
    "duration": 10,
    "start_time": "2023-02-19T14:48:18.244Z"
   },
   {
    "duration": 60,
    "start_time": "2023-02-19T14:48:24.877Z"
   },
   {
    "duration": 10,
    "start_time": "2023-02-19T14:48:27.709Z"
   },
   {
    "duration": 12,
    "start_time": "2023-02-19T14:48:37.068Z"
   },
   {
    "duration": 12,
    "start_time": "2023-02-19T14:49:56.411Z"
   },
   {
    "duration": 9,
    "start_time": "2023-02-19T14:50:08.805Z"
   },
   {
    "duration": 11,
    "start_time": "2023-02-19T14:50:21.435Z"
   },
   {
    "duration": 9,
    "start_time": "2023-02-19T14:51:08.635Z"
   },
   {
    "duration": 1425,
    "start_time": "2023-02-20T18:45:29.906Z"
   },
   {
    "duration": 186,
    "start_time": "2023-02-20T18:45:31.333Z"
   },
   {
    "duration": 29,
    "start_time": "2023-02-20T18:45:31.521Z"
   },
   {
    "duration": 14,
    "start_time": "2023-02-20T18:45:31.553Z"
   },
   {
    "duration": 38,
    "start_time": "2023-02-20T18:45:31.569Z"
   },
   {
    "duration": 25,
    "start_time": "2023-02-20T18:45:31.608Z"
   },
   {
    "duration": 25,
    "start_time": "2023-02-20T18:45:31.634Z"
   },
   {
    "duration": 23,
    "start_time": "2023-02-20T18:45:31.661Z"
   },
   {
    "duration": 19,
    "start_time": "2023-02-20T18:45:31.686Z"
   },
   {
    "duration": 8,
    "start_time": "2023-02-20T18:45:31.708Z"
   },
   {
    "duration": 35,
    "start_time": "2023-02-20T18:45:31.718Z"
   },
   {
    "duration": 14,
    "start_time": "2023-02-20T18:45:31.755Z"
   },
   {
    "duration": 12,
    "start_time": "2023-02-20T18:45:31.771Z"
   },
   {
    "duration": 21,
    "start_time": "2023-02-20T18:45:31.785Z"
   },
   {
    "duration": 92,
    "start_time": "2023-02-20T18:45:31.808Z"
   },
   {
    "duration": 376,
    "start_time": "2023-02-20T18:45:31.901Z"
   },
   {
    "duration": 316,
    "start_time": "2023-02-20T18:45:32.279Z"
   },
   {
    "duration": 219,
    "start_time": "2023-02-20T18:45:32.597Z"
   },
   {
    "duration": 389,
    "start_time": "2023-02-20T18:45:32.819Z"
   },
   {
    "duration": 241,
    "start_time": "2023-02-20T18:45:33.210Z"
   },
   {
    "duration": 312,
    "start_time": "2023-02-20T18:45:33.453Z"
   },
   {
    "duration": 164,
    "start_time": "2023-02-20T18:45:33.767Z"
   },
   {
    "duration": 9,
    "start_time": "2023-02-20T18:45:33.933Z"
   },
   {
    "duration": 157,
    "start_time": "2023-02-20T18:45:33.943Z"
   },
   {
    "duration": 175,
    "start_time": "2023-02-20T18:45:34.102Z"
   },
   {
    "duration": 4,
    "start_time": "2023-02-20T18:45:34.279Z"
   },
   {
    "duration": 351,
    "start_time": "2023-02-20T18:45:34.285Z"
   },
   {
    "duration": 201,
    "start_time": "2023-02-20T18:45:34.640Z"
   },
   {
    "duration": 32,
    "start_time": "2023-02-20T18:45:34.843Z"
   },
   {
    "duration": 13,
    "start_time": "2023-02-20T18:45:34.877Z"
   },
   {
    "duration": 14,
    "start_time": "2023-02-20T18:45:34.893Z"
   },
   {
    "duration": 40,
    "start_time": "2023-02-20T18:45:34.941Z"
   },
   {
    "duration": 17,
    "start_time": "2023-02-20T18:45:34.983Z"
   },
   {
    "duration": 1130,
    "start_time": "2023-02-20T19:38:19.399Z"
   },
   {
    "duration": 67,
    "start_time": "2023-02-20T19:38:20.532Z"
   },
   {
    "duration": 21,
    "start_time": "2023-02-20T19:38:20.601Z"
   },
   {
    "duration": 26,
    "start_time": "2023-02-20T19:38:20.623Z"
   },
   {
    "duration": 9,
    "start_time": "2023-02-20T19:38:20.651Z"
   },
   {
    "duration": 16,
    "start_time": "2023-02-20T19:38:20.662Z"
   },
   {
    "duration": 37,
    "start_time": "2023-02-20T19:38:20.681Z"
   },
   {
    "duration": 22,
    "start_time": "2023-02-20T19:38:20.720Z"
   },
   {
    "duration": 12,
    "start_time": "2023-02-20T19:38:20.744Z"
   },
   {
    "duration": 5,
    "start_time": "2023-02-20T19:38:20.759Z"
   },
   {
    "duration": 22,
    "start_time": "2023-02-20T19:38:20.766Z"
   },
   {
    "duration": 17,
    "start_time": "2023-02-20T19:38:20.791Z"
   },
   {
    "duration": 30,
    "start_time": "2023-02-20T19:38:20.810Z"
   },
   {
    "duration": 12,
    "start_time": "2023-02-20T19:38:20.842Z"
   },
   {
    "duration": 86,
    "start_time": "2023-02-20T19:38:20.856Z"
   },
   {
    "duration": 346,
    "start_time": "2023-02-20T19:38:20.944Z"
   },
   {
    "duration": 308,
    "start_time": "2023-02-20T19:38:21.292Z"
   },
   {
    "duration": 210,
    "start_time": "2023-02-20T19:38:21.602Z"
   },
   {
    "duration": 356,
    "start_time": "2023-02-20T19:38:21.815Z"
   },
   {
    "duration": 248,
    "start_time": "2023-02-20T19:38:22.173Z"
   },
   {
    "duration": 342,
    "start_time": "2023-02-20T19:38:22.423Z"
   },
   {
    "duration": 162,
    "start_time": "2023-02-20T19:38:22.767Z"
   },
   {
    "duration": 13,
    "start_time": "2023-02-20T19:38:22.930Z"
   },
   {
    "duration": 161,
    "start_time": "2023-02-20T19:38:22.945Z"
   },
   {
    "duration": 175,
    "start_time": "2023-02-20T19:38:23.108Z"
   },
   {
    "duration": 4,
    "start_time": "2023-02-20T19:38:23.285Z"
   },
   {
    "duration": 330,
    "start_time": "2023-02-20T19:38:23.290Z"
   },
   {
    "duration": 154,
    "start_time": "2023-02-20T19:38:23.623Z"
   },
   {
    "duration": 31,
    "start_time": "2023-02-20T19:38:23.779Z"
   },
   {
    "duration": 29,
    "start_time": "2023-02-20T19:38:23.811Z"
   },
   {
    "duration": 12,
    "start_time": "2023-02-20T19:38:23.842Z"
   },
   {
    "duration": 43,
    "start_time": "2023-02-20T19:38:23.856Z"
   },
   {
    "duration": 19,
    "start_time": "2023-02-20T19:38:23.901Z"
   },
   {
    "duration": 11,
    "start_time": "2023-02-20T19:42:10.149Z"
   },
   {
    "duration": 47,
    "start_time": "2023-02-20T19:43:42.072Z"
   },
   {
    "duration": 1158,
    "start_time": "2023-02-20T19:44:54.293Z"
   },
   {
    "duration": 66,
    "start_time": "2023-02-20T19:44:55.453Z"
   },
   {
    "duration": 22,
    "start_time": "2023-02-20T19:44:55.521Z"
   },
   {
    "duration": 13,
    "start_time": "2023-02-20T19:44:55.545Z"
   },
   {
    "duration": 8,
    "start_time": "2023-02-20T19:44:55.560Z"
   },
   {
    "duration": 5,
    "start_time": "2023-02-20T19:44:55.570Z"
   },
   {
    "duration": 10,
    "start_time": "2023-02-20T19:44:55.577Z"
   },
   {
    "duration": 10,
    "start_time": "2023-02-20T19:44:55.589Z"
   },
   {
    "duration": 9,
    "start_time": "2023-02-20T19:44:55.600Z"
   },
   {
    "duration": 29,
    "start_time": "2023-02-20T19:44:55.612Z"
   },
   {
    "duration": 16,
    "start_time": "2023-02-20T19:44:55.643Z"
   },
   {
    "duration": 15,
    "start_time": "2023-02-20T19:44:55.661Z"
   },
   {
    "duration": 13,
    "start_time": "2023-02-20T19:44:55.678Z"
   },
   {
    "duration": 17,
    "start_time": "2023-02-20T19:44:55.693Z"
   },
   {
    "duration": 97,
    "start_time": "2023-02-20T19:44:55.711Z"
   },
   {
    "duration": 359,
    "start_time": "2023-02-20T19:44:55.810Z"
   },
   {
    "duration": 305,
    "start_time": "2023-02-20T19:44:56.171Z"
   },
   {
    "duration": 215,
    "start_time": "2023-02-20T19:44:56.478Z"
   },
   {
    "duration": 333,
    "start_time": "2023-02-20T19:44:56.695Z"
   },
   {
    "duration": 264,
    "start_time": "2023-02-20T19:44:57.030Z"
   },
   {
    "duration": 331,
    "start_time": "2023-02-20T19:44:57.296Z"
   },
   {
    "duration": 155,
    "start_time": "2023-02-20T19:44:57.629Z"
   },
   {
    "duration": 5,
    "start_time": "2023-02-20T19:44:57.786Z"
   },
   {
    "duration": 196,
    "start_time": "2023-02-20T19:44:57.793Z"
   },
   {
    "duration": 172,
    "start_time": "2023-02-20T19:44:57.991Z"
   },
   {
    "duration": 6,
    "start_time": "2023-02-20T19:44:58.164Z"
   },
   {
    "duration": 15,
    "start_time": "2023-02-20T19:44:58.172Z"
   },
   {
    "duration": 184,
    "start_time": "2023-02-20T19:44:58.190Z"
   },
   {
    "duration": 149,
    "start_time": "2023-02-20T19:44:58.376Z"
   },
   {
    "duration": 22,
    "start_time": "2023-02-20T19:44:58.527Z"
   },
   {
    "duration": 11,
    "start_time": "2023-02-20T19:44:58.552Z"
   },
   {
    "duration": 128,
    "start_time": "2023-02-20T19:44:58.565Z"
   },
   {
    "duration": 1,
    "start_time": "2023-02-20T19:44:58.695Z"
   },
   {
    "duration": 95,
    "start_time": "2023-02-20T19:46:03.998Z"
   },
   {
    "duration": 50,
    "start_time": "2023-02-20T19:48:10.995Z"
   },
   {
    "duration": 55,
    "start_time": "2023-02-20T19:49:01.199Z"
   },
   {
    "duration": 95,
    "start_time": "2023-02-20T19:57:13.896Z"
   },
   {
    "duration": 19,
    "start_time": "2023-02-20T19:57:26.287Z"
   },
   {
    "duration": 10,
    "start_time": "2023-02-20T19:57:44.827Z"
   },
   {
    "duration": 15,
    "start_time": "2023-02-20T19:58:03.635Z"
   },
   {
    "duration": 11,
    "start_time": "2023-02-20T19:58:34.666Z"
   },
   {
    "duration": 11,
    "start_time": "2023-02-20T19:58:41.027Z"
   },
   {
    "duration": 11,
    "start_time": "2023-02-20T19:58:57.148Z"
   },
   {
    "duration": 10,
    "start_time": "2023-02-20T19:59:46.934Z"
   },
   {
    "duration": 11,
    "start_time": "2023-02-20T20:00:31.313Z"
   },
   {
    "duration": 4,
    "start_time": "2023-02-20T20:01:40.020Z"
   },
   {
    "duration": 5,
    "start_time": "2023-02-20T20:01:53.517Z"
   },
   {
    "duration": 4,
    "start_time": "2023-02-20T20:02:10.223Z"
   },
   {
    "duration": 1185,
    "start_time": "2023-02-20T20:03:12.343Z"
   },
   {
    "duration": 69,
    "start_time": "2023-02-20T20:03:13.530Z"
   },
   {
    "duration": 23,
    "start_time": "2023-02-20T20:03:13.600Z"
   },
   {
    "duration": 13,
    "start_time": "2023-02-20T20:03:13.626Z"
   },
   {
    "duration": 10,
    "start_time": "2023-02-20T20:03:13.641Z"
   },
   {
    "duration": 6,
    "start_time": "2023-02-20T20:03:13.653Z"
   },
   {
    "duration": 6,
    "start_time": "2023-02-20T20:03:13.661Z"
   },
   {
    "duration": 26,
    "start_time": "2023-02-20T20:03:13.668Z"
   },
   {
    "duration": 12,
    "start_time": "2023-02-20T20:03:13.696Z"
   },
   {
    "duration": 6,
    "start_time": "2023-02-20T20:03:13.712Z"
   },
   {
    "duration": 29,
    "start_time": "2023-02-20T20:03:13.720Z"
   },
   {
    "duration": 12,
    "start_time": "2023-02-20T20:03:13.751Z"
   },
   {
    "duration": 9,
    "start_time": "2023-02-20T20:03:13.765Z"
   },
   {
    "duration": 13,
    "start_time": "2023-02-20T20:03:13.775Z"
   },
   {
    "duration": 103,
    "start_time": "2023-02-20T20:03:13.789Z"
   },
   {
    "duration": 344,
    "start_time": "2023-02-20T20:03:13.894Z"
   },
   {
    "duration": 313,
    "start_time": "2023-02-20T20:03:14.240Z"
   },
   {
    "duration": 211,
    "start_time": "2023-02-20T20:03:14.555Z"
   },
   {
    "duration": 317,
    "start_time": "2023-02-20T20:03:14.769Z"
   },
   {
    "duration": 252,
    "start_time": "2023-02-20T20:03:15.088Z"
   },
   {
    "duration": 325,
    "start_time": "2023-02-20T20:03:15.342Z"
   },
   {
    "duration": 157,
    "start_time": "2023-02-20T20:03:15.669Z"
   },
   {
    "duration": 5,
    "start_time": "2023-02-20T20:03:15.828Z"
   },
   {
    "duration": 169,
    "start_time": "2023-02-20T20:03:15.834Z"
   },
   {
    "duration": 176,
    "start_time": "2023-02-20T20:03:16.005Z"
   },
   {
    "duration": 5,
    "start_time": "2023-02-20T20:03:16.183Z"
   },
   {
    "duration": 160,
    "start_time": "2023-02-20T20:03:16.189Z"
   },
   {
    "duration": 48,
    "start_time": "2023-02-20T20:03:16.352Z"
   },
   {
    "duration": 13,
    "start_time": "2023-02-20T20:03:16.402Z"
   },
   {
    "duration": 32,
    "start_time": "2023-02-20T20:03:16.417Z"
   },
   {
    "duration": 96,
    "start_time": "2023-02-20T20:03:16.450Z"
   },
   {
    "duration": 54,
    "start_time": "2023-02-20T20:03:16.548Z"
   },
   {
    "duration": 14,
    "start_time": "2023-02-20T20:03:16.604Z"
   },
   {
    "duration": 9,
    "start_time": "2023-02-21T07:50:51.266Z"
   },
   {
    "duration": 47,
    "start_time": "2023-02-21T07:51:06.565Z"
   },
   {
    "duration": 1328,
    "start_time": "2023-02-21T07:51:16.433Z"
   },
   {
    "duration": 186,
    "start_time": "2023-02-21T07:51:17.764Z"
   },
   {
    "duration": 18,
    "start_time": "2023-02-21T07:51:17.952Z"
   },
   {
    "duration": 10,
    "start_time": "2023-02-21T07:51:17.973Z"
   },
   {
    "duration": 9,
    "start_time": "2023-02-21T07:51:17.986Z"
   },
   {
    "duration": 6,
    "start_time": "2023-02-21T07:51:17.996Z"
   },
   {
    "duration": 6,
    "start_time": "2023-02-21T07:51:18.004Z"
   },
   {
    "duration": 13,
    "start_time": "2023-02-21T07:51:18.012Z"
   },
   {
    "duration": 35,
    "start_time": "2023-02-21T07:51:18.027Z"
   },
   {
    "duration": 4,
    "start_time": "2023-02-21T07:51:18.065Z"
   },
   {
    "duration": 13,
    "start_time": "2023-02-21T07:51:18.071Z"
   },
   {
    "duration": 12,
    "start_time": "2023-02-21T07:51:18.085Z"
   },
   {
    "duration": 11,
    "start_time": "2023-02-21T07:51:18.099Z"
   },
   {
    "duration": 46,
    "start_time": "2023-02-21T07:51:18.111Z"
   },
   {
    "duration": 79,
    "start_time": "2023-02-21T07:51:18.159Z"
   },
   {
    "duration": 294,
    "start_time": "2023-02-21T07:51:18.240Z"
   },
   {
    "duration": 287,
    "start_time": "2023-02-21T07:51:18.536Z"
   },
   {
    "duration": 186,
    "start_time": "2023-02-21T07:51:18.825Z"
   },
   {
    "duration": 378,
    "start_time": "2023-02-21T07:51:19.013Z"
   },
   {
    "duration": 264,
    "start_time": "2023-02-21T07:51:19.393Z"
   },
   {
    "duration": 305,
    "start_time": "2023-02-21T07:51:19.659Z"
   },
   {
    "duration": 145,
    "start_time": "2023-02-21T07:51:19.966Z"
   },
   {
    "duration": 4,
    "start_time": "2023-02-21T07:51:20.112Z"
   },
   {
    "duration": 151,
    "start_time": "2023-02-21T07:51:20.118Z"
   },
   {
    "duration": 147,
    "start_time": "2023-02-21T07:51:20.271Z"
   },
   {
    "duration": 4,
    "start_time": "2023-02-21T07:51:20.420Z"
   },
   {
    "duration": 142,
    "start_time": "2023-02-21T07:51:20.425Z"
   },
   {
    "duration": 35,
    "start_time": "2023-02-21T07:51:20.571Z"
   },
   {
    "duration": 11,
    "start_time": "2023-02-21T07:51:20.608Z"
   },
   {
    "duration": 40,
    "start_time": "2023-02-21T07:51:20.621Z"
   },
   {
    "duration": 18,
    "start_time": "2023-02-21T07:51:20.663Z"
   },
   {
    "duration": 121,
    "start_time": "2023-02-21T07:51:20.683Z"
   },
   {
    "duration": 16,
    "start_time": "2023-02-21T07:51:20.805Z"
   },
   {
    "duration": 34,
    "start_time": "2023-02-21T07:52:09.270Z"
   },
   {
    "duration": 28,
    "start_time": "2023-02-21T07:52:32.749Z"
   },
   {
    "duration": 5,
    "start_time": "2023-02-21T07:53:08.234Z"
   },
   {
    "duration": 9,
    "start_time": "2023-02-21T07:53:30.068Z"
   },
   {
    "duration": 9,
    "start_time": "2023-02-21T07:53:40.818Z"
   },
   {
    "duration": 107,
    "start_time": "2023-02-21T07:54:30.170Z"
   },
   {
    "duration": 19,
    "start_time": "2023-02-21T07:55:49.726Z"
   },
   {
    "duration": 26,
    "start_time": "2023-02-21T07:56:03.655Z"
   },
   {
    "duration": 7,
    "start_time": "2023-02-21T07:56:31.672Z"
   },
   {
    "duration": 5,
    "start_time": "2023-02-21T07:56:44.575Z"
   },
   {
    "duration": 7,
    "start_time": "2023-02-21T07:56:57.896Z"
   },
   {
    "duration": 7,
    "start_time": "2023-02-21T07:57:08.090Z"
   },
   {
    "duration": 4,
    "start_time": "2023-02-21T07:57:51.858Z"
   },
   {
    "duration": 6,
    "start_time": "2023-02-21T07:58:08.032Z"
   },
   {
    "duration": 6,
    "start_time": "2023-02-21T07:58:16.416Z"
   },
   {
    "duration": 6,
    "start_time": "2023-02-21T07:58:32.128Z"
   },
   {
    "duration": 30,
    "start_time": "2023-02-21T07:58:46.524Z"
   },
   {
    "duration": 14,
    "start_time": "2023-02-21T08:00:38.230Z"
   },
   {
    "duration": 92,
    "start_time": "2023-02-21T08:00:43.886Z"
   },
   {
    "duration": 12,
    "start_time": "2023-02-21T08:00:47.663Z"
   },
   {
    "duration": 30,
    "start_time": "2023-02-21T08:02:11.655Z"
   },
   {
    "duration": 6,
    "start_time": "2023-02-21T08:14:24.048Z"
   },
   {
    "duration": 5,
    "start_time": "2023-02-21T08:15:11.030Z"
   },
   {
    "duration": 37,
    "start_time": "2023-02-21T08:18:45.278Z"
   },
   {
    "duration": 9,
    "start_time": "2023-02-21T08:19:12.390Z"
   },
   {
    "duration": 11,
    "start_time": "2023-02-21T08:19:51.213Z"
   },
   {
    "duration": 337,
    "start_time": "2023-02-21T08:20:26.007Z"
   },
   {
    "duration": 74,
    "start_time": "2023-02-21T08:21:00.428Z"
   },
   {
    "duration": 65,
    "start_time": "2023-02-21T08:21:33.486Z"
   },
   {
    "duration": 80,
    "start_time": "2023-02-21T08:22:01.097Z"
   },
   {
    "duration": 74,
    "start_time": "2023-02-21T08:22:05.704Z"
   },
   {
    "duration": 11,
    "start_time": "2023-02-21T08:23:00.192Z"
   },
   {
    "duration": 12,
    "start_time": "2023-02-21T08:23:12.236Z"
   },
   {
    "duration": 304,
    "start_time": "2023-02-21T08:24:31.807Z"
   },
   {
    "duration": 97,
    "start_time": "2023-02-21T08:25:00.479Z"
   },
   {
    "duration": 24,
    "start_time": "2023-02-21T08:25:24.504Z"
   },
   {
    "duration": 9,
    "start_time": "2023-02-21T08:25:41.719Z"
   },
   {
    "duration": 12,
    "start_time": "2023-02-21T08:28:26.616Z"
   },
   {
    "duration": 5,
    "start_time": "2023-02-21T08:37:08.461Z"
   },
   {
    "duration": 5,
    "start_time": "2023-02-21T08:38:20.824Z"
   },
   {
    "duration": 6,
    "start_time": "2023-02-21T08:38:33.481Z"
   },
   {
    "duration": 6,
    "start_time": "2023-02-21T08:38:43.841Z"
   },
   {
    "duration": 6,
    "start_time": "2023-02-21T08:38:59.037Z"
   },
   {
    "duration": 6,
    "start_time": "2023-02-21T08:39:10.509Z"
   },
   {
    "duration": 5,
    "start_time": "2023-02-21T08:39:34.161Z"
   },
   {
    "duration": 4,
    "start_time": "2023-02-21T08:39:52.613Z"
   },
   {
    "duration": 10,
    "start_time": "2023-02-21T08:40:08.326Z"
   },
   {
    "duration": 179,
    "start_time": "2023-02-21T08:40:23.874Z"
   },
   {
    "duration": 9,
    "start_time": "2023-02-21T08:40:29.791Z"
   },
   {
    "duration": 26,
    "start_time": "2023-02-21T08:41:05.002Z"
   },
   {
    "duration": 10,
    "start_time": "2023-02-21T08:41:08.901Z"
   },
   {
    "duration": 10,
    "start_time": "2023-02-21T08:42:41.748Z"
   },
   {
    "duration": 96,
    "start_time": "2023-02-21T08:42:52.992Z"
   },
   {
    "duration": 9,
    "start_time": "2023-02-21T08:51:22.838Z"
   },
   {
    "duration": 14,
    "start_time": "2023-02-21T08:52:06.266Z"
   },
   {
    "duration": 11,
    "start_time": "2023-02-21T08:52:42.170Z"
   },
   {
    "duration": 9,
    "start_time": "2023-02-21T08:53:44.582Z"
   },
   {
    "duration": 97,
    "start_time": "2023-02-21T08:55:20.927Z"
   },
   {
    "duration": 99,
    "start_time": "2023-02-21T08:55:43.826Z"
   },
   {
    "duration": 75,
    "start_time": "2023-02-21T08:57:25.902Z"
   },
   {
    "duration": 101,
    "start_time": "2023-02-21T08:59:16.276Z"
   },
   {
    "duration": 11,
    "start_time": "2023-02-21T08:59:21.267Z"
   },
   {
    "duration": 20,
    "start_time": "2023-02-21T08:59:59.147Z"
   },
   {
    "duration": 7,
    "start_time": "2023-02-21T09:00:07.415Z"
   },
   {
    "duration": 11,
    "start_time": "2023-02-21T09:00:28.269Z"
   },
   {
    "duration": 14,
    "start_time": "2023-02-21T09:01:07.501Z"
   },
   {
    "duration": 10,
    "start_time": "2023-02-21T09:01:18.205Z"
   },
   {
    "duration": 17,
    "start_time": "2023-02-21T09:03:07.603Z"
   },
   {
    "duration": 11,
    "start_time": "2023-02-21T09:03:36.803Z"
   },
   {
    "duration": 14,
    "start_time": "2023-02-21T09:14:57.508Z"
   },
   {
    "duration": 9,
    "start_time": "2023-02-21T09:15:35.181Z"
   },
   {
    "duration": 14,
    "start_time": "2023-02-21T09:16:46.845Z"
   },
   {
    "duration": 12,
    "start_time": "2023-02-21T09:17:16.394Z"
   },
   {
    "duration": 12,
    "start_time": "2023-02-21T09:17:41.903Z"
   },
   {
    "duration": 10,
    "start_time": "2023-02-21T09:22:10.202Z"
   },
   {
    "duration": 10,
    "start_time": "2023-02-21T09:23:06.932Z"
   },
   {
    "duration": 10,
    "start_time": "2023-02-21T09:29:18.978Z"
   },
   {
    "duration": 7,
    "start_time": "2023-02-21T09:29:44.599Z"
   },
   {
    "duration": 10,
    "start_time": "2023-02-21T09:30:04.968Z"
   },
   {
    "duration": 1134,
    "start_time": "2023-02-21T09:30:46.999Z"
   },
   {
    "duration": 68,
    "start_time": "2023-02-21T09:30:48.135Z"
   },
   {
    "duration": 20,
    "start_time": "2023-02-21T09:30:48.204Z"
   },
   {
    "duration": 10,
    "start_time": "2023-02-21T09:30:48.226Z"
   },
   {
    "duration": 5,
    "start_time": "2023-02-21T09:30:48.238Z"
   },
   {
    "duration": 33,
    "start_time": "2023-02-21T09:30:48.245Z"
   },
   {
    "duration": 7,
    "start_time": "2023-02-21T09:30:48.280Z"
   },
   {
    "duration": 8,
    "start_time": "2023-02-21T09:30:48.289Z"
   },
   {
    "duration": 9,
    "start_time": "2023-02-21T09:30:48.299Z"
   },
   {
    "duration": 5,
    "start_time": "2023-02-21T09:30:48.310Z"
   },
   {
    "duration": 18,
    "start_time": "2023-02-21T09:30:48.316Z"
   },
   {
    "duration": 11,
    "start_time": "2023-02-21T09:30:48.336Z"
   },
   {
    "duration": 23,
    "start_time": "2023-02-21T09:30:48.348Z"
   },
   {
    "duration": 17,
    "start_time": "2023-02-21T09:30:48.373Z"
   },
   {
    "duration": 77,
    "start_time": "2023-02-21T09:30:48.391Z"
   },
   {
    "duration": 298,
    "start_time": "2023-02-21T09:30:48.470Z"
   },
   {
    "duration": 255,
    "start_time": "2023-02-21T09:30:48.769Z"
   },
   {
    "duration": 192,
    "start_time": "2023-02-21T09:30:49.025Z"
   },
   {
    "duration": 355,
    "start_time": "2023-02-21T09:30:49.218Z"
   },
   {
    "duration": 231,
    "start_time": "2023-02-21T09:30:49.574Z"
   },
   {
    "duration": 302,
    "start_time": "2023-02-21T09:30:49.807Z"
   },
   {
    "duration": 162,
    "start_time": "2023-02-21T09:30:50.110Z"
   },
   {
    "duration": 5,
    "start_time": "2023-02-21T09:30:50.273Z"
   },
   {
    "duration": 162,
    "start_time": "2023-02-21T09:30:50.280Z"
   },
   {
    "duration": 143,
    "start_time": "2023-02-21T09:30:50.444Z"
   },
   {
    "duration": 4,
    "start_time": "2023-02-21T09:30:50.589Z"
   },
   {
    "duration": 140,
    "start_time": "2023-02-21T09:30:50.594Z"
   },
   {
    "duration": 34,
    "start_time": "2023-02-21T09:30:50.737Z"
   },
   {
    "duration": 10,
    "start_time": "2023-02-21T09:30:50.772Z"
   },
   {
    "duration": 9,
    "start_time": "2023-02-21T09:30:50.783Z"
   },
   {
    "duration": 117,
    "start_time": "2023-02-21T09:30:50.794Z"
   },
   {
    "duration": 12,
    "start_time": "2023-02-21T09:30:50.913Z"
   },
   {
    "duration": 1037,
    "start_time": "2023-02-21T09:32:09.971Z"
   },
   {
    "duration": 78,
    "start_time": "2023-02-21T09:32:11.011Z"
   },
   {
    "duration": 19,
    "start_time": "2023-02-21T09:32:11.091Z"
   },
   {
    "duration": 11,
    "start_time": "2023-02-21T09:32:11.112Z"
   },
   {
    "duration": 7,
    "start_time": "2023-02-21T09:32:11.125Z"
   },
   {
    "duration": 9,
    "start_time": "2023-02-21T09:32:11.134Z"
   },
   {
    "duration": 5,
    "start_time": "2023-02-21T09:32:11.145Z"
   },
   {
    "duration": 24,
    "start_time": "2023-02-21T09:32:11.151Z"
   },
   {
    "duration": 8,
    "start_time": "2023-02-21T09:32:11.177Z"
   },
   {
    "duration": 4,
    "start_time": "2023-02-21T09:32:11.187Z"
   },
   {
    "duration": 12,
    "start_time": "2023-02-21T09:32:11.193Z"
   },
   {
    "duration": 10,
    "start_time": "2023-02-21T09:32:11.206Z"
   },
   {
    "duration": 7,
    "start_time": "2023-02-21T09:32:11.218Z"
   },
   {
    "duration": 10,
    "start_time": "2023-02-21T09:32:11.226Z"
   },
   {
    "duration": 74,
    "start_time": "2023-02-21T09:32:11.253Z"
   },
   {
    "duration": 320,
    "start_time": "2023-02-21T09:32:11.328Z"
   },
   {
    "duration": 260,
    "start_time": "2023-02-21T09:32:11.653Z"
   },
   {
    "duration": 186,
    "start_time": "2023-02-21T09:32:11.915Z"
   },
   {
    "duration": 271,
    "start_time": "2023-02-21T09:32:12.103Z"
   },
   {
    "duration": 218,
    "start_time": "2023-02-21T09:32:12.375Z"
   },
   {
    "duration": 297,
    "start_time": "2023-02-21T09:32:12.595Z"
   },
   {
    "duration": 155,
    "start_time": "2023-02-21T09:32:12.894Z"
   },
   {
    "duration": 12,
    "start_time": "2023-02-21T09:32:13.054Z"
   },
   {
    "duration": 148,
    "start_time": "2023-02-21T09:32:13.068Z"
   },
   {
    "duration": 156,
    "start_time": "2023-02-21T09:32:13.218Z"
   },
   {
    "duration": 4,
    "start_time": "2023-02-21T09:32:13.376Z"
   },
   {
    "duration": 144,
    "start_time": "2023-02-21T09:32:13.381Z"
   },
   {
    "duration": 44,
    "start_time": "2023-02-21T09:32:13.528Z"
   },
   {
    "duration": 10,
    "start_time": "2023-02-21T09:32:13.573Z"
   },
   {
    "duration": 10,
    "start_time": "2023-02-21T09:32:13.585Z"
   },
   {
    "duration": 120,
    "start_time": "2023-02-21T09:32:13.596Z"
   },
   {
    "duration": 14,
    "start_time": "2023-02-21T09:32:13.718Z"
   },
   {
    "duration": 8,
    "start_time": "2023-02-21T09:35:46.198Z"
   },
   {
    "duration": 1292,
    "start_time": "2023-02-21T09:36:42.600Z"
   },
   {
    "duration": 11,
    "start_time": "2023-02-21T09:36:50.734Z"
   },
   {
    "duration": 4,
    "start_time": "2023-02-21T09:37:31.516Z"
   },
   {
    "duration": 1067,
    "start_time": "2023-02-21T09:37:48.825Z"
   },
   {
    "duration": 71,
    "start_time": "2023-02-21T09:37:49.894Z"
   },
   {
    "duration": 25,
    "start_time": "2023-02-21T09:37:49.970Z"
   },
   {
    "duration": 17,
    "start_time": "2023-02-21T09:37:49.997Z"
   },
   {
    "duration": 15,
    "start_time": "2023-02-21T09:37:50.016Z"
   },
   {
    "duration": 16,
    "start_time": "2023-02-21T09:37:50.033Z"
   },
   {
    "duration": 30,
    "start_time": "2023-02-21T09:37:50.051Z"
   },
   {
    "duration": 22,
    "start_time": "2023-02-21T09:37:50.083Z"
   },
   {
    "duration": 13,
    "start_time": "2023-02-21T09:37:50.107Z"
   },
   {
    "duration": 6,
    "start_time": "2023-02-21T09:37:50.121Z"
   },
   {
    "duration": 12,
    "start_time": "2023-02-21T09:37:50.129Z"
   },
   {
    "duration": 12,
    "start_time": "2023-02-21T09:37:50.143Z"
   },
   {
    "duration": 10,
    "start_time": "2023-02-21T09:37:50.156Z"
   },
   {
    "duration": 13,
    "start_time": "2023-02-21T09:37:50.168Z"
   },
   {
    "duration": 74,
    "start_time": "2023-02-21T09:37:50.182Z"
   },
   {
    "duration": 302,
    "start_time": "2023-02-21T09:37:50.265Z"
   },
   {
    "duration": 276,
    "start_time": "2023-02-21T09:37:50.569Z"
   },
   {
    "duration": 188,
    "start_time": "2023-02-21T09:37:50.847Z"
   },
   {
    "duration": 340,
    "start_time": "2023-02-21T09:37:51.037Z"
   },
   {
    "duration": 244,
    "start_time": "2023-02-21T09:37:51.379Z"
   },
   {
    "duration": 354,
    "start_time": "2023-02-21T09:37:51.625Z"
   },
   {
    "duration": 149,
    "start_time": "2023-02-21T09:37:51.980Z"
   },
   {
    "duration": 4,
    "start_time": "2023-02-21T09:37:52.131Z"
   },
   {
    "duration": 49,
    "start_time": "2023-02-21T09:37:52.137Z"
   },
   {
    "duration": 140,
    "start_time": "2023-02-21T09:37:52.187Z"
   },
   {
    "duration": 152,
    "start_time": "2023-02-21T09:37:52.330Z"
   },
   {
    "duration": 5,
    "start_time": "2023-02-21T09:37:52.484Z"
   },
   {
    "duration": 139,
    "start_time": "2023-02-21T09:37:52.491Z"
   },
   {
    "duration": 98,
    "start_time": "2023-02-21T09:37:52.632Z"
   },
   {
    "duration": 24,
    "start_time": "2023-02-21T09:37:52.732Z"
   },
   {
    "duration": 28,
    "start_time": "2023-02-21T09:37:52.757Z"
   },
   {
    "duration": 59,
    "start_time": "2023-02-21T09:37:52.787Z"
   },
   {
    "duration": 14,
    "start_time": "2023-02-21T09:37:52.848Z"
   },
   {
    "duration": 4,
    "start_time": "2023-02-21T09:38:44.100Z"
   },
   {
    "duration": 101,
    "start_time": "2023-02-21T09:41:33.685Z"
   },
   {
    "duration": 15,
    "start_time": "2023-02-21T09:41:57.985Z"
   },
   {
    "duration": 1209,
    "start_time": "2023-02-21T09:43:01.885Z"
   },
   {
    "duration": 83,
    "start_time": "2023-02-21T09:43:03.096Z"
   },
   {
    "duration": 20,
    "start_time": "2023-02-21T09:43:03.181Z"
   },
   {
    "duration": 11,
    "start_time": "2023-02-21T09:43:03.203Z"
   },
   {
    "duration": 9,
    "start_time": "2023-02-21T09:43:03.216Z"
   },
   {
    "duration": 9,
    "start_time": "2023-02-21T09:43:03.227Z"
   },
   {
    "duration": 8,
    "start_time": "2023-02-21T09:43:03.237Z"
   },
   {
    "duration": 17,
    "start_time": "2023-02-21T09:43:03.247Z"
   },
   {
    "duration": 24,
    "start_time": "2023-02-21T09:43:03.268Z"
   },
   {
    "duration": 5,
    "start_time": "2023-02-21T09:43:03.294Z"
   },
   {
    "duration": 13,
    "start_time": "2023-02-21T09:43:03.300Z"
   },
   {
    "duration": 11,
    "start_time": "2023-02-21T09:43:03.314Z"
   },
   {
    "duration": 7,
    "start_time": "2023-02-21T09:43:03.326Z"
   },
   {
    "duration": 10,
    "start_time": "2023-02-21T09:43:03.334Z"
   },
   {
    "duration": 74,
    "start_time": "2023-02-21T09:43:03.345Z"
   },
   {
    "duration": 314,
    "start_time": "2023-02-21T09:43:03.420Z"
   },
   {
    "duration": 281,
    "start_time": "2023-02-21T09:43:03.735Z"
   },
   {
    "duration": 209,
    "start_time": "2023-02-21T09:43:04.018Z"
   },
   {
    "duration": 349,
    "start_time": "2023-02-21T09:43:04.229Z"
   },
   {
    "duration": 210,
    "start_time": "2023-02-21T09:43:04.591Z"
   },
   {
    "duration": 295,
    "start_time": "2023-02-21T09:43:04.803Z"
   },
   {
    "duration": 149,
    "start_time": "2023-02-21T09:43:05.099Z"
   },
   {
    "duration": 7,
    "start_time": "2023-02-21T09:43:05.254Z"
   },
   {
    "duration": 168,
    "start_time": "2023-02-21T09:43:05.263Z"
   },
   {
    "duration": 171,
    "start_time": "2023-02-21T09:43:05.433Z"
   },
   {
    "duration": 4,
    "start_time": "2023-02-21T09:43:05.606Z"
   },
   {
    "duration": 168,
    "start_time": "2023-02-21T09:43:05.611Z"
   },
   {
    "duration": 28,
    "start_time": "2023-02-21T09:43:05.783Z"
   },
   {
    "duration": 10,
    "start_time": "2023-02-21T09:43:05.812Z"
   },
   {
    "duration": 37,
    "start_time": "2023-02-21T09:43:05.823Z"
   },
   {
    "duration": 125,
    "start_time": "2023-02-21T09:43:05.862Z"
   },
   {
    "duration": 14,
    "start_time": "2023-02-21T09:43:05.989Z"
   },
   {
    "duration": 1162,
    "start_time": "2023-02-21T09:45:37.797Z"
   },
   {
    "duration": 85,
    "start_time": "2023-02-21T09:45:38.960Z"
   },
   {
    "duration": 44,
    "start_time": "2023-02-21T09:45:39.046Z"
   },
   {
    "duration": 12,
    "start_time": "2023-02-21T09:45:39.092Z"
   },
   {
    "duration": 8,
    "start_time": "2023-02-21T09:45:39.105Z"
   },
   {
    "duration": 7,
    "start_time": "2023-02-21T09:45:39.114Z"
   },
   {
    "duration": 5,
    "start_time": "2023-02-21T09:45:39.122Z"
   },
   {
    "duration": 9,
    "start_time": "2023-02-21T09:45:39.128Z"
   },
   {
    "duration": 9,
    "start_time": "2023-02-21T09:45:39.139Z"
   },
   {
    "duration": 28,
    "start_time": "2023-02-21T09:45:39.153Z"
   },
   {
    "duration": 21,
    "start_time": "2023-02-21T09:45:39.187Z"
   },
   {
    "duration": 12,
    "start_time": "2023-02-21T09:45:39.210Z"
   },
   {
    "duration": 7,
    "start_time": "2023-02-21T09:45:39.224Z"
   },
   {
    "duration": 14,
    "start_time": "2023-02-21T09:45:39.233Z"
   },
   {
    "duration": 73,
    "start_time": "2023-02-21T09:45:39.249Z"
   },
   {
    "duration": 330,
    "start_time": "2023-02-21T09:45:39.324Z"
   },
   {
    "duration": 300,
    "start_time": "2023-02-21T09:45:39.660Z"
   },
   {
    "duration": 199,
    "start_time": "2023-02-21T09:45:39.963Z"
   },
   {
    "duration": 309,
    "start_time": "2023-02-21T09:45:40.168Z"
   },
   {
    "duration": 220,
    "start_time": "2023-02-21T09:45:40.484Z"
   },
   {
    "duration": 282,
    "start_time": "2023-02-21T09:45:40.706Z"
   },
   {
    "duration": 156,
    "start_time": "2023-02-21T09:45:40.990Z"
   },
   {
    "duration": 11,
    "start_time": "2023-02-21T09:45:41.147Z"
   },
   {
    "duration": 185,
    "start_time": "2023-02-21T09:45:41.160Z"
   },
   {
    "duration": 163,
    "start_time": "2023-02-21T09:45:41.346Z"
   },
   {
    "duration": 5,
    "start_time": "2023-02-21T09:45:41.510Z"
   },
   {
    "duration": 166,
    "start_time": "2023-02-21T09:45:41.516Z"
   },
   {
    "duration": 29,
    "start_time": "2023-02-21T09:45:41.685Z"
   },
   {
    "duration": 22,
    "start_time": "2023-02-21T09:45:41.715Z"
   },
   {
    "duration": 52,
    "start_time": "2023-02-21T09:45:41.739Z"
   },
   {
    "duration": 123,
    "start_time": "2023-02-21T09:45:41.793Z"
   },
   {
    "duration": 25,
    "start_time": "2023-02-21T09:45:41.917Z"
   },
   {
    "duration": 1268,
    "start_time": "2023-05-27T14:04:25.275Z"
   },
   {
    "duration": 215,
    "start_time": "2023-05-27T14:04:26.545Z"
   },
   {
    "duration": 29,
    "start_time": "2023-05-27T14:04:26.763Z"
   },
   {
    "duration": 13,
    "start_time": "2023-05-27T14:04:26.794Z"
   },
   {
    "duration": 5,
    "start_time": "2023-05-27T14:04:26.809Z"
   },
   {
    "duration": 5,
    "start_time": "2023-05-27T14:04:26.815Z"
   },
   {
    "duration": 4,
    "start_time": "2023-05-27T14:04:26.821Z"
   },
   {
    "duration": 38,
    "start_time": "2023-05-27T14:04:26.827Z"
   },
   {
    "duration": 11,
    "start_time": "2023-05-27T14:04:26.867Z"
   },
   {
    "duration": 25,
    "start_time": "2023-05-27T14:04:26.880Z"
   },
   {
    "duration": 14,
    "start_time": "2023-05-27T14:04:26.907Z"
   },
   {
    "duration": 11,
    "start_time": "2023-05-27T14:04:26.923Z"
   },
   {
    "duration": 15,
    "start_time": "2023-05-27T14:04:26.935Z"
   },
   {
    "duration": 25,
    "start_time": "2023-05-27T14:04:26.956Z"
   },
   {
    "duration": 74,
    "start_time": "2023-05-27T14:04:26.983Z"
   },
   {
    "duration": 313,
    "start_time": "2023-05-27T14:04:27.059Z"
   },
   {
    "duration": 283,
    "start_time": "2023-05-27T14:04:27.374Z"
   },
   {
    "duration": 208,
    "start_time": "2023-05-27T14:04:27.659Z"
   },
   {
    "duration": 371,
    "start_time": "2023-05-27T14:04:27.869Z"
   },
   {
    "duration": 255,
    "start_time": "2023-05-27T14:04:28.242Z"
   },
   {
    "duration": 301,
    "start_time": "2023-05-27T14:04:28.499Z"
   },
   {
    "duration": 173,
    "start_time": "2023-05-27T14:04:28.801Z"
   },
   {
    "duration": 5,
    "start_time": "2023-05-27T14:04:28.976Z"
   },
   {
    "duration": 150,
    "start_time": "2023-05-27T14:04:28.983Z"
   },
   {
    "duration": 163,
    "start_time": "2023-05-27T14:04:29.135Z"
   },
   {
    "duration": 4,
    "start_time": "2023-05-27T14:04:29.300Z"
   },
   {
    "duration": 152,
    "start_time": "2023-05-27T14:04:29.305Z"
   },
   {
    "duration": 109,
    "start_time": "2023-05-27T14:04:29.458Z"
   },
   {
    "duration": 14,
    "start_time": "2023-05-27T14:04:29.569Z"
   },
   {
    "duration": 13,
    "start_time": "2023-05-27T14:04:29.586Z"
   },
   {
    "duration": 75,
    "start_time": "2023-05-27T14:04:29.601Z"
   },
   {
    "duration": 24,
    "start_time": "2023-05-27T14:04:29.678Z"
   }
  ],
  "kernelspec": {
   "display_name": "Python 3 (ipykernel)",
   "language": "python",
   "name": "python3"
  },
  "language_info": {
   "codemirror_mode": {
    "name": "ipython",
    "version": 3
   },
   "file_extension": ".py",
   "mimetype": "text/x-python",
   "name": "python",
   "nbconvert_exporter": "python",
   "pygments_lexer": "ipython3",
   "version": "3.9.5"
  },
  "toc": {
   "base_numbering": 1,
   "nav_menu": {},
   "number_sections": true,
   "sideBar": true,
   "skip_h1_title": true,
   "title_cell": "Table of Contents",
   "title_sidebar": "Contents",
   "toc_cell": false,
   "toc_position": {
    "height": "calc(100% - 180px)",
    "left": "10px",
    "top": "150px",
    "width": "292px"
   },
   "toc_section_display": true,
   "toc_window_display": true
  }
 },
 "nbformat": 4,
 "nbformat_minor": 2
}
